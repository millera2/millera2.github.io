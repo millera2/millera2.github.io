{
 "cells": [
  {
   "cell_type": "markdown",
   "metadata": {},
   "source": [
    "# Week 3\n",
    "\n",
    "## Monday \n",
    "\n",
    "*Coverage: Ch. 2.1 and 2.2*"
   ]
  },
  {
   "cell_type": "markdown",
   "metadata": {},
   "source": [
    "### Arithmetic in Python\n",
    "\n",
    "The Python interpreter (ie, the program that interprets and executes your code) is, if nothing else, the best calculator you've ever used.\n",
    "\n",
    "Most arithmatic will feel familiar from any other calculator, but there are some important differences you should be aware of.\n",
    "\n",
    "All the basics are the same, and order of operations is the same as in algebra:"
   ]
  },
  {
   "cell_type": "code",
   "execution_count": 84,
   "metadata": {},
   "outputs": [
    {
     "data": {
      "text/plain": [
       "4"
      ]
     },
     "execution_count": 84,
     "metadata": {},
     "output_type": "execute_result"
    }
   ],
   "source": [
    "1+3"
   ]
  },
  {
   "cell_type": "code",
   "execution_count": 85,
   "metadata": {},
   "outputs": [
    {
     "data": {
      "text/plain": [
       "149"
      ]
     },
     "execution_count": 85,
     "metadata": {},
     "output_type": "execute_result"
    }
   ],
   "source": [
    "2 + 3*7**2\n",
    "\n",
    "\n",
    "\n",
    "\n",
    "\n",
    "\n",
    "\n",
    "\n",
    "\n",
    "\n",
    "\n",
    "\n",
    "\n",
    "\n",
    "\n"
   ]
  },
  {
   "cell_type": "code",
   "execution_count": 86,
   "metadata": {},
   "outputs": [
    {
     "data": {
      "text/plain": [
       "7"
      ]
     },
     "execution_count": 86,
     "metadata": {},
     "output_type": "execute_result"
    }
   ],
   "source": [
    "2^5"
   ]
  },
  {
   "cell_type": "markdown",
   "metadata": {},
   "source": [
    "What about exponents, like $2^5$?"
   ]
  },
  {
   "cell_type": "code",
   "execution_count": 87,
   "metadata": {},
   "outputs": [
    {
     "data": {
      "text/plain": [
       "32"
      ]
     },
     "execution_count": 87,
     "metadata": {},
     "output_type": "execute_result"
    }
   ],
   "source": [
    "2**5\n",
    "\n",
    "\n",
    "\n",
    "\n",
    "\n",
    "\n",
    "\n",
    "\n",
    "\n",
    "\n",
    "\n",
    "\n",
    "\n"
   ]
  },
  {
   "cell_type": "markdown",
   "metadata": {},
   "source": [
    "**Division**\n",
    "\n",
    "Division presents some unique challenges to even the least-dumb computers.  Quick example:\n",
    "\n"
   ]
  },
  {
   "cell_type": "code",
   "execution_count": 88,
   "metadata": {},
   "outputs": [
    {
     "data": {
      "text/plain": [
       "0.3333333333333333"
      ]
     },
     "execution_count": 88,
     "metadata": {},
     "output_type": "execute_result"
    }
   ],
   "source": [
    "1/3"
   ]
  },
  {
   "cell_type": "markdown",
   "metadata": {},
   "source": [
    "Note:  division is hard for computers, because we often get infinite demical representations.\n",
    "\n",
    "We want accuracy (which means lots of digits), but we have finite memory (can't do em all!).\n",
    "\n",
    "\n",
    "\n",
    "\n",
    "\n",
    "\n",
    "\n",
    "\n",
    "\n",
    "\n",
    "\n",
    "\n"
   ]
  },
  {
   "cell_type": "markdown",
   "metadata": {},
   "source": [
    "**Floating Point**\n",
    "\n",
    "Computers use \"floats\" to keep track of \"floating point numbers\".  Named for scientific notation.\n",
    "\n",
    "In python, use a lower case \"e\" for power of ten.\n",
    "\n",
    "2*10^2"
   ]
  },
  {
   "cell_type": "markdown",
   "metadata": {},
   "source": [
    "Neat example:  python can handle really big numbers:"
   ]
  },
  {
   "cell_type": "code",
   "execution_count": 89,
   "metadata": {},
   "outputs": [
    {
     "data": {
      "text/plain": [
       "1267650600228229401496703205376"
      ]
     },
     "execution_count": 89,
     "metadata": {},
     "output_type": "execute_result"
    }
   ],
   "source": [
    "2**100\n",
    "\n",
    "\n",
    "\n",
    "\n",
    "\n"
   ]
  },
  {
   "cell_type": "markdown",
   "metadata": {},
   "source": [
    "Weird contrast:"
   ]
  },
  {
   "cell_type": "code",
   "execution_count": 90,
   "metadata": {},
   "outputs": [
    {
     "data": {
      "text/plain": [
       "1.2676506002282294e+30"
      ]
     },
     "execution_count": 90,
     "metadata": {},
     "output_type": "execute_result"
    }
   ],
   "source": [
    "2.0**100"
   ]
  },
  {
   "cell_type": "markdown",
   "metadata": {},
   "source": [
    "1.267*10^30\n",
    "\n",
    "What happened?  In the first example, python interpreted 2**100 as an integer \n",
    "\n",
    "Python: data type is \"int\"\n",
    "\n",
    "Btw, python has really fancy libraries for working with ints.  There's black boxing going on here!\n",
    "\n",
    "In the second example, we started with 2.0, a float.  Thus, the result is given as a float."
   ]
  },
  {
   "cell_type": "markdown",
   "metadata": {},
   "source": [
    "**Modular Artithmatic**\n",
    "\n",
    "\n",
    "\n",
    "\n",
    "\n",
    "\n",
    "\n",
    "\n",
    "\n",
    "\n",
    "\n",
    "\n",
    "\n",
    "\n",
    "\n"
   ]
  },
  {
   "cell_type": "markdown",
   "metadata": {},
   "source": [
    "Mod operator:  % gives the \"remainder\" on division.\n",
    "\n",
    "Also, can use \\\\ for division.  Gives the quotient.\n",
    "\n",
    "\n",
    "\n",
    "Example:\n",
    "- 2.2.3 \n",
    "\n",
    "Let's assume that the distance between Granville and Columbus is 33.3 miles (according to google).  \n",
    "\n",
    "The distance/length of library of congress: 838 miles of shelves\n",
    "\n",
    "IE: 838/33.3\n",
    "\n",
    "To find the integer multiple, use floor division:\n",
    "\n",
    "\n",
    "\n"
   ]
  },
  {
   "cell_type": "code",
   "execution_count": 91,
   "metadata": {},
   "outputs": [
    {
     "data": {
      "text/plain": [
       "25.165165165165167"
      ]
     },
     "execution_count": 91,
     "metadata": {},
     "output_type": "execute_result"
    }
   ],
   "source": [
    "838/33.3"
   ]
  },
  {
   "cell_type": "markdown",
   "metadata": {},
   "source": [
    "Wait!  We need ROUND trips (both ways).  Thus:"
   ]
  },
  {
   "cell_type": "code",
   "execution_count": 92,
   "metadata": {},
   "outputs": [
    {
     "data": {
      "text/plain": [
       "12.0"
      ]
     },
     "execution_count": 92,
     "metadata": {},
     "output_type": "execute_result"
    }
   ],
   "source": [
    "838//(2*33.3)"
   ]
  },
  {
   "cell_type": "markdown",
   "metadata": {},
   "source": [
    "## Wednesday 9-02"
   ]
  },
  {
   "cell_type": "markdown",
   "metadata": {},
   "source": [
    "**Neat Use of Mod Operator**:  Counting multiples, repeating multiples\n",
    "\n",
    "Let's say we want to iterate over 4 elements repeatedly.  \n",
    "\n",
    "WHen we do %4, there are only 4 options:\n",
    "\n",
    "x%4 == 0 (x is a multipe of 4)\n",
    "x%4 == 1 (remainder of x/4 is 1)\n",
    "x%4 == 2 (remainder of x/4 is 2)\n",
    "x%4 == 3 (remainder of x/4 is 3)\n",
    "\n",
    "Basic for loop:\n",
    "\n",
    "\n",
    "\n",
    "\n",
    "\n",
    "\n"
   ]
  },
  {
   "cell_type": "code",
   "execution_count": 93,
   "metadata": {},
   "outputs": [
    {
     "name": "stdout",
     "output_type": "stream",
     "text": [
      "1\n",
      "2\n",
      "3\n",
      "0\n",
      "1\n",
      "2\n",
      "3\n",
      "0\n",
      "1\n",
      "2\n",
      "3\n",
      "0\n"
     ]
    }
   ],
   "source": [
    "for i in range(5,17):\n",
    "    print(i%4)"
   ]
  },
  {
   "cell_type": "markdown",
   "metadata": {},
   "source": [
    "**Only even numbers**\n",
    "\n",
    "If x is even, then x%2 == 0.  Otherwise, if x is odd, x%2 == 1:\n",
    "\n",
    "Example:  check for even numbers between 0 and 10: (include 10)"
   ]
  },
  {
   "cell_type": "code",
   "execution_count": 94,
   "metadata": {},
   "outputs": [
    {
     "name": "stdout",
     "output_type": "stream",
     "text": [
      "0  is an even number\n",
      "1  is an odd number\n",
      "2  is an even number\n",
      "3  is an odd number\n",
      "4  is an even number\n",
      "5  is an odd number\n",
      "6  is an even number\n",
      "7  is an odd number\n",
      "8  is an even number\n",
      "9  is an odd number\n",
      "10  is an even number\n"
     ]
    }
   ],
   "source": [
    "for thingie in range(11):\n",
    "    if( thingie%2==0 ):\n",
    "        print(thingie, \" is an even number\")\n",
    "    else: \n",
    "        print(thingie, \" is an odd number\")\n",
    "\n",
    "\n",
    "\n"
   ]
  },
  {
   "cell_type": "markdown",
   "metadata": {},
   "source": [
    "**Another neat Mod example**:  Progress report\n",
    "\n",
    "\n",
    "\n",
    "\n",
    "\n",
    "\n",
    "\n"
   ]
  },
  {
   "cell_type": "code",
   "execution_count": 95,
   "metadata": {},
   "outputs": [
    {
     "name": "stdout",
     "output_type": "stream",
     "text": [
      "0\n",
      "1\n",
      "2\n",
      "3\n",
      "4\n",
      "5\n",
      "6\n",
      "7\n",
      "8\n",
      "9\n",
      "Woohooo!  We're  10 % of the way there.  Yay!\n",
      "10\n",
      "11\n",
      "12\n",
      "13\n",
      "14\n",
      "15\n",
      "16\n",
      "17\n",
      "18\n",
      "19\n",
      "Woohooo!  We're  20 % of the way there.  Yay!\n",
      "20\n",
      "21\n",
      "22\n",
      "23\n",
      "24\n",
      "25\n",
      "26\n",
      "27\n",
      "28\n",
      "29\n",
      "Woohooo!  We're  30 % of the way there.  Yay!\n",
      "30\n",
      "31\n",
      "32\n",
      "33\n",
      "34\n",
      "35\n",
      "36\n",
      "37\n",
      "38\n",
      "39\n",
      "Woohooo!  We're  40 % of the way there.  Yay!\n",
      "40\n",
      "41\n",
      "42\n",
      "43\n",
      "44\n",
      "45\n",
      "46\n",
      "47\n",
      "48\n",
      "49\n",
      "Woohooo!  We're  50 % of the way there.  Yay!\n",
      "50\n",
      "51\n",
      "52\n",
      "53\n",
      "54\n",
      "55\n",
      "56\n",
      "57\n",
      "58\n",
      "59\n",
      "Woohooo!  We're  60 % of the way there.  Yay!\n",
      "60\n",
      "61\n",
      "62\n",
      "63\n",
      "64\n",
      "65\n",
      "66\n",
      "67\n",
      "68\n",
      "69\n",
      "Woohooo!  We're  70 % of the way there.  Yay!\n",
      "70\n",
      "71\n",
      "72\n",
      "73\n",
      "74\n",
      "75\n",
      "76\n",
      "77\n",
      "78\n",
      "79\n",
      "Woohooo!  We're  80 % of the way there.  Yay!\n",
      "80\n",
      "81\n",
      "82\n",
      "83\n",
      "84\n",
      "85\n",
      "86\n",
      "87\n",
      "88\n",
      "89\n",
      "Woohooo!  We're  90 % of the way there.  Yay!\n",
      "90\n",
      "91\n",
      "92\n",
      "93\n",
      "94\n",
      "95\n",
      "96\n",
      "97\n",
      "98\n",
      "99\n"
     ]
    }
   ],
   "source": [
    "for i in range(100):\n",
    "    if( (i%10 == 0) and (i>0) ):\n",
    "        print(\"Woohooo!  We're \", i, \"% of the way there.  Yay!\")\n",
    "    print(i)"
   ]
  },
  {
   "cell_type": "markdown",
   "metadata": {},
   "source": [
    "**See summary of Python arithmetic operators on page 36**\n",
    "\n",
    "\n",
    "\n",
    "\n",
    "\n",
    "\n",
    "\n"
   ]
  },
  {
   "cell_type": "code",
   "execution_count": null,
   "metadata": {},
   "outputs": [],
   "source": []
  },
  {
   "cell_type": "markdown",
   "metadata": {},
   "source": [
    "### Data Types"
   ]
  },
  {
   "cell_type": "markdown",
   "metadata": {},
   "source": [
    "Summary (Google Search)\n",
    "\n",
    "WARNING:  If you don't specify a data type for a new variable, python will guess!\n",
    "\n",
    "If you're careful, this is useful.  If you're careless, it can be catastrophic!\n",
    "\n",
    "Quick example:  ingtegers, floats, and strings:"
   ]
  },
  {
   "cell_type": "code",
   "execution_count": 96,
   "metadata": {},
   "outputs": [
    {
     "data": {
      "text/plain": [
       "int"
      ]
     },
     "execution_count": 96,
     "metadata": {},
     "output_type": "execute_result"
    }
   ],
   "source": [
    "myVariable = 7\n",
    "type(myVariable)"
   ]
  },
  {
   "cell_type": "code",
   "execution_count": 97,
   "metadata": {},
   "outputs": [
    {
     "data": {
      "text/plain": [
       "float"
      ]
     },
     "execution_count": 97,
     "metadata": {},
     "output_type": "execute_result"
    }
   ],
   "source": [
    "myVariable2 = 7.0\n",
    "type(myVariable2)"
   ]
  },
  {
   "cell_type": "code",
   "execution_count": 98,
   "metadata": {},
   "outputs": [
    {
     "data": {
      "text/plain": [
       "str"
      ]
     },
     "execution_count": 98,
     "metadata": {},
     "output_type": "execute_result"
    }
   ],
   "source": [
    "myVariable3 = \"7\"\n",
    "type(myVariable3)"
   ]
  },
  {
   "cell_type": "markdown",
   "metadata": {},
   "source": [
    "Examples:  \n",
    "\n",
    "- text input for age.  "
   ]
  },
  {
   "cell_type": "code",
   "execution_count": 99,
   "metadata": {},
   "outputs": [
    {
     "name": "stdin",
     "output_type": "stream",
     "text": [
      "Please enter your age in years: 36\n"
     ]
    }
   ],
   "source": [
    "yourAge = input(\"Please enter your age in years:\")\n",
    "\n",
    "\n",
    "\n",
    "\n",
    "\n",
    "\n"
   ]
  },
  {
   "cell_type": "code",
   "execution_count": 100,
   "metadata": {},
   "outputs": [
    {
     "name": "stdout",
     "output_type": "stream",
     "text": [
      "3636\n"
     ]
    }
   ],
   "source": [
    "print(yourAge*2)"
   ]
  },
  {
   "cell_type": "code",
   "execution_count": null,
   "metadata": {},
   "outputs": [],
   "source": []
  },
  {
   "cell_type": "markdown",
   "metadata": {},
   "source": [
    "## Friday Sep 04"
   ]
  },
  {
   "cell_type": "markdown",
   "metadata": {},
   "source": [
    "What happened in the example above?\n",
    "\n",
    "The input function records user input as......?  Let's check.  Use the type() function.\n",
    "\n"
   ]
  },
  {
   "cell_type": "code",
   "execution_count": 101,
   "metadata": {},
   "outputs": [
    {
     "data": {
      "text/plain": [
       "str"
      ]
     },
     "execution_count": 101,
     "metadata": {},
     "output_type": "execute_result"
    }
   ],
   "source": [
    "type(yourAge)"
   ]
  },
  {
   "cell_type": "markdown",
   "metadata": {},
   "source": [
    "Ah ha!  The input function assigns variables to strings!  ANd, reasonable to guess, the * operator repeats strings.  Test:"
   ]
  },
  {
   "cell_type": "code",
   "execution_count": 102,
   "metadata": {},
   "outputs": [
    {
     "data": {
      "text/plain": [
       "'testtesttesttest'"
      ]
     },
     "execution_count": 102,
     "metadata": {},
     "output_type": "execute_result"
    }
   ],
   "source": [
    "\"test\"*4"
   ]
  },
  {
   "cell_type": "markdown",
   "metadata": {},
   "source": [
    "- simple program: days you've been alive\n",
    "\n",
    "Idea: takes user input of \"age\" in years, then finds number of days total (to nearest year)."
   ]
  },
  {
   "cell_type": "code",
   "execution_count": 103,
   "metadata": {},
   "outputs": [
    {
     "name": "stdin",
     "output_type": "stream",
     "text": [
      "Please enter your age in years 35\n"
     ]
    }
   ],
   "source": [
    "yourAge = input(\"Please enter your age in years\")"
   ]
  },
  {
   "cell_type": "markdown",
   "metadata": {},
   "source": [
    "Problem:  input will be a string.  We can force it to be a int, using the built-in int() function.  Most data types can be \"Forced\" in this way.  \n",
    "\n"
   ]
  },
  {
   "cell_type": "code",
   "execution_count": 109,
   "metadata": {},
   "outputs": [
    {
     "name": "stdin",
     "output_type": "stream",
     "text": [
      "Please enter your age in years 36\n"
     ]
    }
   ],
   "source": [
    "yourAge = input(\"Please enter your age in years\")\n",
    "yourAge = int(yourAge)\n"
   ]
  },
  {
   "cell_type": "code",
   "execution_count": 111,
   "metadata": {},
   "outputs": [
    {
     "data": {
      "text/plain": [
       "int"
      ]
     },
     "execution_count": 111,
     "metadata": {},
     "output_type": "execute_result"
    }
   ],
   "source": [
    "type(yourAge)"
   ]
  },
  {
   "cell_type": "markdown",
   "metadata": {},
   "source": [
    "Yay!  it's an int, let's multiply like we wanted"
   ]
  },
  {
   "cell_type": "code",
   "execution_count": 112,
   "metadata": {},
   "outputs": [
    {
     "name": "stdout",
     "output_type": "stream",
     "text": [
      "13140\n"
     ]
    }
   ],
   "source": [
    "print(yourAge*365)"
   ]
  },
  {
   "cell_type": "markdown",
   "metadata": {},
   "source": [
    "**Example** What's wrong?\n",
    "\n",
    "\n",
    "You can glue strings together with \"+\""
   ]
  },
  {
   "cell_type": "code",
   "execution_count": 113,
   "metadata": {},
   "outputs": [
    {
     "name": "stdout",
     "output_type": "stream",
     "text": [
      "my age is36\n"
     ]
    }
   ],
   "source": [
    "print(\"my age is\"+str(36))"
   ]
  },
  {
   "cell_type": "raw",
   "metadata": {},
   "source": [
    "Here, makes sense to convert \"36\" to a string, and also to convert \"36\" to an int.\n",
    "\n",
    "BUT:\n"
   ]
  },
  {
   "cell_type": "code",
   "execution_count": 114,
   "metadata": {},
   "outputs": [
    {
     "ename": "ValueError",
     "evalue": "invalid literal for int() with base 10: 'seven'",
     "output_type": "error",
     "traceback": [
      "\u001b[0;31m---------------------------------------------------------------------------\u001b[0m",
      "\u001b[0;31mValueError\u001b[0m                                Traceback (most recent call last)",
      "\u001b[0;32m<ipython-input-114-af421b358f21>\u001b[0m in \u001b[0;36m<module>\u001b[0;34m\u001b[0m\n\u001b[0;32m----> 1\u001b[0;31m \u001b[0mint\u001b[0m\u001b[0;34m(\u001b[0m\u001b[0;34m\"seven\"\u001b[0m\u001b[0;34m)\u001b[0m\u001b[0;34m\u001b[0m\u001b[0;34m\u001b[0m\u001b[0m\n\u001b[0m",
      "\u001b[0;31mValueError\u001b[0m: invalid literal for int() with base 10: 'seven'"
     ]
    }
   ],
   "source": [
    "int(\"seven\")"
   ]
  },
  {
   "cell_type": "code",
   "execution_count": 123,
   "metadata": {},
   "outputs": [
    {
     "data": {
      "text/plain": [
       "int"
      ]
     },
     "execution_count": 123,
     "metadata": {},
     "output_type": "execute_result"
    }
   ],
   "source": [
    "type( int(\"7\"))"
   ]
  },
  {
   "cell_type": "markdown",
   "metadata": {},
   "source": [
    "- Note: all data types are objects with built-in functionality\n",
    "\n",
    "\n",
    "Example:  all strings can be \"split\".\n"
   ]
  },
  {
   "cell_type": "code",
   "execution_count": 124,
   "metadata": {},
   "outputs": [],
   "source": [
    "myExampleString = \"this is my example string\""
   ]
  },
  {
   "cell_type": "code",
   "execution_count": 125,
   "metadata": {},
   "outputs": [
    {
     "name": "stdout",
     "output_type": "stream",
     "text": [
      "this is my example string\n"
     ]
    }
   ],
   "source": [
    "print(myExampleString)"
   ]
  },
  {
   "cell_type": "markdown",
   "metadata": {},
   "source": [
    "All strings can be \"split:"
   ]
  },
  {
   "cell_type": "code",
   "execution_count": 126,
   "metadata": {},
   "outputs": [
    {
     "data": {
      "text/plain": [
       "['Ali, Bob, Ch', 'd, Deb, Ev', 'n, George']"
      ]
     },
     "execution_count": 126,
     "metadata": {},
     "output_type": "execute_result"
    }
   ],
   "source": [
    "myNewList = myExampleString.split()\n",
    "\n",
    "myNewList[2]\n",
    "\n",
    "myEmployees = \"Ali, Bob, Chad, Deb, Evan, George\"\n",
    "\n",
    "myEmployees.split(\"a\")"
   ]
  },
  {
   "cell_type": "markdown",
   "metadata": {},
   "source": [
    "#### Fun example with types and modular arithemetic: Employee Schedule"
   ]
  },
  {
   "cell_type": "markdown",
   "metadata": {},
   "source": [
    "Consider the following:  We have a list of employees, and we want to assign them a day on the schedule one at a time.\n",
    "\n",
    "First one on Monday, next employee on Tuesday, etc.  After Friday, we'll wrap around and start doubling them up (so that the 6th person works on monday, the 7th works on Tues, etc).\n",
    "\n",
    "Key idea: the modulo operator lets us cycle through a list.\n",
    "\n",
    "Two inputs:  a list of employees, and a list of days."
   ]
  },
  {
   "cell_type": "code",
   "execution_count": 127,
   "metadata": {},
   "outputs": [
    {
     "data": {
      "text/plain": [
       "0"
      ]
     },
     "execution_count": 127,
     "metadata": {},
     "output_type": "execute_result"
    }
   ],
   "source": [
    "myEmployees = [\"Ali\", \"Ben\", \"Charles\", \"Deb\", \"Ellie\", \"Fred\", \"Greg\", \"Henry\", \"Isaac\", \"Jack\"]\n",
    "\n",
    "myEmployees.index(\"Ali\")"
   ]
  },
  {
   "cell_type": "code",
   "execution_count": 128,
   "metadata": {},
   "outputs": [
    {
     "name": "stdout",
     "output_type": "stream",
     "text": [
      "Ali  works on  Monday\n",
      "Ben  works on  Tuesday\n",
      "Charles  works on  Wednesday\n",
      "Deb  works on  Thursday\n",
      "Ellie  works on  Friday\n",
      "Fred  works on  Monday\n",
      "Greg  works on  Tuesday\n",
      "Henry  works on  Wednesday\n",
      "Isaac  works on  Thursday\n",
      "Jack  works on  Friday\n"
     ]
    }
   ],
   "source": [
    "myEmployees = [\"Ali\", \"Ben\", \"Charles\", \"Deb\", \"Ellie\", \"Fred\", \"Greg\", \"Henry\", \"Isaac\", \"Jack\"]\n",
    "\n",
    "daysOpen = [\"Monday\", \"Tuesday\", \"Wednesday\", \"Thursday\", \"Friday\"]\n",
    "\n",
    "\n",
    "for employee in myEmployees:\n",
    "    dayIndex = myEmployees.index(employee)%5\n",
    "    print(employee, \" works on \", daysOpen[dayIndex])\n",
    "                                ## Need to keep track of our day"
   ]
  },
  {
   "cell_type": "code",
   "execution_count": 129,
   "metadata": {},
   "outputs": [
    {
     "name": "stdout",
     "output_type": "stream",
     "text": [
      "Ali is working on  Monday\n",
      "Ben is working on  Tuesday\n",
      "Charles is working on  Wednesday\n",
      "Deb is working on  Thursday\n",
      "Ellie is working on  Friday\n",
      "Fred is working on  Monday\n",
      "Greg is working on  Tuesday\n",
      "Henry is working on  Wednesday\n",
      "Isaac is working on  Thursday\n",
      "Jack is working on  Friday\n"
     ]
    }
   ],
   "source": [
    "## Malcolm's way\n",
    "\n",
    "## for loop over indexes\n",
    "\n",
    "\n",
    "for employeeIndex in range(10):\n",
    "    dayIndex = employeeIndex%5\n",
    "    print(myEmployees[employeeIndex], \"is working on \", daysOpen[dayIndex]   )\n",
    "    \n",
    "    \n",
    "    "
   ]
  },
  {
   "cell_type": "markdown",
   "metadata": {},
   "source": [
    "Be careful with type:"
   ]
  },
  {
   "cell_type": "code",
   "execution_count": 122,
   "metadata": {},
   "outputs": [
    {
     "ename": "TypeError",
     "evalue": "list indices must be integers or slices, not str",
     "output_type": "error",
     "traceback": [
      "\u001b[0;31m---------------------------------------------------------------------------\u001b[0m",
      "\u001b[0;31mTypeError\u001b[0m                                 Traceback (most recent call last)",
      "\u001b[0;32m<ipython-input-122-988043561b58>\u001b[0m in \u001b[0;36m<module>\u001b[0;34m\u001b[0m\n\u001b[0;32m----> 1\u001b[0;31m \u001b[0mmyEmployees\u001b[0m\u001b[0;34m[\u001b[0m\u001b[0;34m\"4\"\u001b[0m\u001b[0;34m]\u001b[0m\u001b[0;34m\u001b[0m\u001b[0;34m\u001b[0m\u001b[0m\n\u001b[0m",
      "\u001b[0;31mTypeError\u001b[0m: list indices must be integers or slices, not str"
     ]
    }
   ],
   "source": [
    "myEmployees[\"4\"]"
   ]
  },
  {
   "cell_type": "code",
   "execution_count": null,
   "metadata": {},
   "outputs": [],
   "source": [
    "variable = input(\"test\")"
   ]
  },
  {
   "cell_type": "code",
   "execution_count": null,
   "metadata": {},
   "outputs": [],
   "source": []
  }
 ],
 "metadata": {
  "kernelspec": {
   "display_name": "Python 3",
   "language": "python",
   "name": "python3"
  },
  "language_info": {
   "codemirror_mode": {
    "name": "ipython",
    "version": 3
   },
   "file_extension": ".py",
   "mimetype": "text/x-python",
   "name": "python",
   "nbconvert_exporter": "python",
   "pygments_lexer": "ipython3",
   "version": "3.8.3"
  }
 },
 "nbformat": 4,
 "nbformat_minor": 4
}
