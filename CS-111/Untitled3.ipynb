{
 "cells": [
  {
   "cell_type": "code",
   "execution_count": null,
   "metadata": {},
   "outputs": [],
   "source": [
    "def monthlyChange(debt, apr, minRate, payment):\n",
    "    curBalance = debt\n",
    "    newBalance = curBalance\n",
    "    for i in range(1,31):\n",
    "        newBalance = newBalance + newBalance*(apr/365)\n",
    "    interest = newBalance - curBalance\n",
    "    amountPaid = max(newBalance*minRate,payment)\n",
    "    principalPaid = amountPaid - interest\n",
    "    return [newBalance, interest, payment, principalPaid]\n",
    "    \n",
    "        \n",
    "\n",
    "\n",
    "\n",
    "def paymentHistory(principal, apr, minRate, payment):\n",
    "    print(\"Month | Current Balance | Monthly Interest | Minimum Payment | Principal Paid | Total Amount Paid\")\n",
    "    month = 1\n",
    "    breakdown = monthlyChange(principal, apr, minRate, payment)\n",
    "    totalPayment = breakdown[2]\n",
    "    principal = []\n",
    "    interest = []\n",
    "    while(breakdown[0]>10):\n",
    "        print('{0:^10}|{1:^17.2f}|{2:^18.2f}|{3:^17.2f}|{4:^16.2f}|{5:^17.2f}'.format(str(month//12)+\"y \"+str(month%12)+\"m \", breakdown[0], breakdown[1], breakdown[2], breakdown[3], totalPayment))\n",
    "        month +=1\n",
    "        totalPayment = breakdown[2]+totalPayment\n",
    "        principal.append(breakdown[3])\n",
    "        interest.append(breakdown[1])\n",
    "        breakdown = monthlyChange(breakdown[0]-breakdown[2], apr, minRate, payment)\n",
    "    return [principal, interest]\n",
    "        "
   ]
  },
  {
   "cell_type": "code",
   "execution_count": 195,
   "metadata": {},
   "outputs": [],
   "source": [
    "def monthlyChange(debt, apr, minRate, payment):\n",
    "    balance = debt\n",
    "    \n",
    "    for i in range(29):\n",
    "        balance = balance*(1+apr/365)\n",
    "        \n",
    "    interest = balance - debt\n",
    "    bill = max(minRate*balance, payment)\n",
    "    balance = balance - bill\n",
    "    \n",
    "    return(balance, interest, bill)\n",
    "\n",
    "\n"
   ]
  },
  {
   "cell_type": "code",
   "execution_count": 95,
   "metadata": {},
   "outputs": [
    {
     "data": {
      "text/plain": [
       "(4968.930148039667, 70.33688575476208, 101.40673771509525)"
      ]
     },
     "execution_count": 95,
     "metadata": {},
     "output_type": "execute_result"
    }
   ],
   "source": [
    "monthlyChange(5000,.17, .02, 25)"
   ]
  },
  {
   "cell_type": "code",
   "execution_count": 96,
   "metadata": {},
   "outputs": [
    {
     "data": {
      "text/plain": [
       "(4938.053363219501, 69.8998144292118, 100.77659924937758)"
      ]
     },
     "execution_count": 96,
     "metadata": {},
     "output_type": "execute_result"
    }
   ],
   "source": [
    "monthlyChange(4968.930148039667, .17, .02, .25)"
   ]
  },
  {
   "cell_type": "code",
   "execution_count": 93,
   "metadata": {},
   "outputs": [
    {
     "data": {
      "text/plain": [
       "(989.067377150952, 14.067377150951984, 25)"
      ]
     },
     "execution_count": 93,
     "metadata": {},
     "output_type": "execute_result"
    }
   ],
   "source": [
    "monthlyChange(1000, .17, .02, 25)"
   ]
  },
  {
   "cell_type": "code",
   "execution_count": null,
   "metadata": {},
   "outputs": [],
   "source": []
  },
  {
   "cell_type": "code",
   "execution_count": 81,
   "metadata": {},
   "outputs": [],
   "source": [
    "import matplotlib.pyplot as pyplot\n",
    "import math\n",
    "\n",
    "def monthlyChange(debt, apr, minRate, payment):\n",
    "    balance = debt\n",
    "    dailyRate = round(apr/365,5)\n",
    "    \n",
    "    for i in range(30):\n",
    "        balance = balance*(1+dailyRate)\n",
    "    \n",
    "    interest = balance - debt \n",
    "    bill = max(minRate*debt, payment)\n",
    "    balance = balance - bill\n",
    "    \n",
    "    return(balance, interest, bill)\n",
    "\n",
    "#def monthlyChange(debt, apr, minRate, payment):\n",
    "#    dailyRate = round(apr/365,5)\n",
    "#    interest = debt*dailyRate*30\n",
    "#    balance = debt+interest\n",
    "#    bill = max(payment, debt*minRate)\n",
    "#    balance = balance - bill\n",
    "#    return(balance, interest, bill)\n",
    "    \n",
    "\n",
    "    \n",
    "\n",
    "\n",
    "\n",
    "\n",
    "def paymentHistory(debt, apr, minRate, payment):    \n",
    "    payments = []                                           #define accumulators\n",
    "    interests = []                                          #\n",
    "    balances = []   \n",
    "    balance = debt\n",
    "    \n",
    "    while balance>0:\n",
    "        results = monthlyChange(balance, apr, minRate, payment)\n",
    "        \n",
    "        balance = results[0]\n",
    "        interest = results[1]\n",
    "        bill = results[2]\n",
    "        \n",
    "        balances.append(balance)\n",
    "        interests.append(interest)\n",
    "        payments.append(bill)\n",
    "        \n",
    "    months = list(range(len(balances)))\n",
    "        \n",
    "        \n",
    "    return [months, payments, interests, balances]\n",
    "        \n",
    "    \n",
    "def getTotals(list):\n",
    "    total = 0\n",
    "    totals = []\n",
    "    for item in list:\n",
    "        total += item\n",
    "        totals.append(total)\n",
    "    return totals\n",
    "        \n",
    "\n",
    "def printSummary(ph):\n",
    "    months = ph[0]\n",
    "    payments = ph[1]\n",
    "    interests = ph[2]\n",
    "    balances = ph[3]\n",
    "    \n",
    "    fs = \"{0:^6}|{1:^10.2f}|{2:^10.2f}|{3:^10.2f}\"\n",
    "    \n",
    "    for i in range(len(months)):\n",
    "        if i%1==0:\n",
    "            print(fs.format(months[i]//1, payments[i], interests[i], balances[i]))\n",
    "\n",
    "\n",
    "    "
   ]
  },
  {
   "cell_type": "code",
   "execution_count": 82,
   "metadata": {},
   "outputs": [
    {
     "name": "stdout",
     "output_type": "stream",
     "text": [
      "  0   |  15.00   |   6.64   |  491.64  \n",
      "  1   |  15.00   |   6.53   |  483.17  \n",
      "  2   |  15.00   |   6.42   |  474.59  \n",
      "  3   |  15.00   |   6.30   |  465.90  \n",
      "  4   |  15.00   |   6.19   |  457.09  \n",
      "  5   |  15.00   |   6.07   |  448.16  \n",
      "  6   |  15.00   |   5.95   |  439.11  \n",
      "  7   |  15.00   |   5.83   |  429.95  \n",
      "  8   |  15.00   |   5.71   |  420.66  \n",
      "  9   |  15.00   |   5.59   |  411.25  \n",
      "  10  |  15.00   |   5.46   |  401.71  \n",
      "  11  |  15.00   |   5.34   |  392.05  \n",
      "  12  |  15.00   |   5.21   |  382.25  \n",
      "  13  |  15.00   |   5.08   |  372.33  \n",
      "  14  |  15.00   |   4.95   |  362.28  \n",
      "  15  |  15.00   |   4.81   |  352.09  \n",
      "  16  |  15.00   |   4.68   |  341.77  \n",
      "  17  |  15.00   |   4.54   |  331.31  \n",
      "  18  |  15.00   |   4.40   |  320.71  \n",
      "  19  |  15.00   |   4.26   |  309.97  \n",
      "  20  |  15.00   |   4.12   |  299.09  \n",
      "  21  |  15.00   |   3.97   |  288.06  \n",
      "  22  |  15.00   |   3.83   |  276.89  \n",
      "  23  |  15.00   |   3.68   |  265.57  \n",
      "  24  |  15.00   |   3.53   |  254.09  \n",
      "  25  |  15.00   |   3.38   |  242.47  \n",
      "  26  |  15.00   |   3.22   |  230.69  \n",
      "  27  |  15.00   |   3.06   |  218.75  \n",
      "  28  |  15.00   |   2.91   |  206.66  \n",
      "  29  |  15.00   |   2.75   |  194.41  \n",
      "  30  |  15.00   |   2.58   |  181.99  \n",
      "  31  |  15.00   |   2.42   |  169.41  \n",
      "  32  |  15.00   |   2.25   |  156.66  \n",
      "  33  |  15.00   |   2.08   |  143.74  \n",
      "  34  |  15.00   |   1.91   |  130.65  \n",
      "  35  |  15.00   |   1.74   |  117.38  \n",
      "  36  |  15.00   |   1.56   |  103.94  \n",
      "  37  |  15.00   |   1.38   |  90.32   \n",
      "  38  |  15.00   |   1.20   |  76.52   \n",
      "  39  |  15.00   |   1.02   |  62.54   \n",
      "  40  |  15.00   |   0.83   |  48.37   \n",
      "  41  |  15.00   |   0.64   |  34.01   \n",
      "  42  |  15.00   |   0.45   |  19.47   \n",
      "  43  |  15.00   |   0.26   |   4.72   \n",
      "  44  |  15.00   |   0.06   |  -10.21  \n"
     ]
    }
   ],
   "source": [
    "printSummary(paymentHistory(500, .16, .03, 15))"
   ]
  },
  {
   "cell_type": "code",
   "execution_count": 70,
   "metadata": {},
   "outputs": [
    {
     "data": {
      "text/plain": [
       "(4908.289753906958, 68.99745795183432, 98.76106726439029)"
      ]
     },
     "execution_count": 70,
     "metadata": {},
     "output_type": "execute_result"
    }
   ],
   "source": [
    "monthlyChange(4938.053363219515, .17, .02, 25)\n"
   ]
  },
  {
   "cell_type": "code",
   "execution_count": 77,
   "metadata": {},
   "outputs": [
    {
     "data": {
      "text/plain": [
       "[4908.2396352115165, 69.47779103215908, 100.1681558206432, 30.690364788484118]"
      ]
     },
     "execution_count": 77,
     "metadata": {},
     "output_type": "execute_result"
    }
   ],
   "source": [
    "monthlyChange(4938.93, .17, .02, 25)"
   ]
  },
  {
   "cell_type": "code",
   "execution_count": 48,
   "metadata": {},
   "outputs": [],
   "source": [
    "balances = [5000]"
   ]
  },
  {
   "cell_type": "code",
   "execution_count": 49,
   "metadata": {},
   "outputs": [
    {
     "data": {
      "text/plain": [
       "5000"
      ]
     },
     "execution_count": 49,
     "metadata": {},
     "output_type": "execute_result"
    }
   ],
   "source": [
    "balances[-1]"
   ]
  },
  {
   "cell_type": "code",
   "execution_count": 97,
   "metadata": {},
   "outputs": [],
   "source": [
    "fs=\"{0:^17.2f} | {1:^17.2f} | {2:^17.2f}\""
   ]
  },
  {
   "cell_type": "markdown",
   "metadata": {},
   "source": [
    "y - y0 = m(x-x0)\n",
    "\n",
    "Here, x0 is our initial guess, and y0 is the function value there.\n",
    "\n",
    "We want to find where (x1) this line touches the axis.  This happens when y=0:\n",
    "\n",
    "- y0 = m(x1-x0)\n",
    "\n",
    "Solve for x:\n",
    "\n",
    "-y0/m = x1-x0\n",
    "\n",
    "-y0/m + x0 = x1\n",
    "\n",
    "Or\n",
    "\n",
    "x1 = x0 - y0/m\n",
    "\n"
   ]
  }
 ],
 "metadata": {
  "kernelspec": {
   "display_name": "Python 3",
   "language": "python",
   "name": "python3"
  },
  "language_info": {
   "codemirror_mode": {
    "name": "ipython",
    "version": 3
   },
   "file_extension": ".py",
   "mimetype": "text/x-python",
   "name": "python",
   "nbconvert_exporter": "python",
   "pygments_lexer": "ipython3",
   "version": "3.8.3"
  }
 },
 "nbformat": 4,
 "nbformat_minor": 4
}
