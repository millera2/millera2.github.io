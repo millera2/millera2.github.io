{
 "cells": [
  {
   "cell_type": "markdown",
   "metadata": {},
   "source": [
    "# Week 5"
   ]
  },
  {
   "cell_type": "markdown",
   "metadata": {},
   "source": [
    "# Monday Sept 14"
   ]
  },
  {
   "cell_type": "markdown",
   "metadata": {},
   "source": [
    "### Scope and Namespaces\n",
    "Texbook: *Sec 3.6*\n"
   ]
  },
  {
   "cell_type": "markdown",
   "metadata": {},
   "source": [
    "Question:  what are all the variables/objects/functions available to you at any particular time?"
   ]
  },
  {
   "cell_type": "code",
   "execution_count": 8,
   "metadata": {},
   "outputs": [
    {
     "name": "stdout",
     "output_type": "stream",
     "text": [
      "and party on dude!\n"
     ]
    }
   ],
   "source": [
    "def billAndTed():\n",
    "    bill = \"Be excellent to eachother, \"\n",
    "    ted = \"and party on dude!\"\n",
    "    print(ted)\n",
    "    \n",
    "billAndTed(bill)\n",
    "\n",
    "print(bill)"
   ]
  },
  {
   "cell_type": "code",
   "execution_count": 5,
   "metadata": {},
   "outputs": [
    {
     "ename": "NameError",
     "evalue": "name 'bill' is not defined",
     "output_type": "error",
     "traceback": [
      "\u001b[0;31m---------------------------------------------------------------------------\u001b[0m",
      "\u001b[0;31mNameError\u001b[0m                                 Traceback (most recent call last)",
      "\u001b[0;32m<ipython-input-5-87bfd239f1b0>\u001b[0m in \u001b[0;36m<module>\u001b[0;34m\u001b[0m\n\u001b[0;32m----> 1\u001b[0;31m \u001b[0mprint\u001b[0m\u001b[0;34m(\u001b[0m\u001b[0mbill\u001b[0m\u001b[0;34m)\u001b[0m\u001b[0;34m\u001b[0m\u001b[0;34m\u001b[0m\u001b[0m\n\u001b[0m",
      "\u001b[0;31mNameError\u001b[0m: name 'bill' is not defined"
     ]
    }
   ],
   "source": [
    "print(bill)"
   ]
  },
  {
   "cell_type": "markdown",
   "metadata": {},
   "source": [
    "Question:  why not defined?\n",
    "\n",
    "Answer:  because \"bill\" and \"ted\" are in the scope of the function they were defined in.\n",
    "\n",
    "Scopes get \"nested\".  I.e., every time a new function or module is imported/created, they come with their own embedded namespace.\n",
    "\n",
    "The term \"namespace\" refers to the structure of ojects, their variable names, and how they're accessible in the code.\n",
    "\n",
    "Good picture in book: p 109\n",
    "\n",
    "Example:  math module\n",
    "\n"
   ]
  },
  {
   "cell_type": "code",
   "execution_count": 9,
   "metadata": {},
   "outputs": [
    {
     "data": {
      "text/plain": [
       "2.6457513110645907"
      ]
     },
     "execution_count": 9,
     "metadata": {},
     "output_type": "execute_result"
    }
   ],
   "source": [
    "import math    ## inlcludes sqrt() function\n",
    "\n",
    "math.sqrt(7)"
   ]
  },
  {
   "cell_type": "markdown",
   "metadata": {},
   "source": [
    "Note:  you can choose a different local namespace for a module.  Example"
   ]
  },
  {
   "cell_type": "code",
   "execution_count": 10,
   "metadata": {},
   "outputs": [
    {
     "data": {
      "text/plain": [
       "2.6457513110645907"
      ]
     },
     "execution_count": 10,
     "metadata": {},
     "output_type": "execute_result"
    }
   ],
   "source": [
    "import math as m\n",
    "\n",
    "m.sqrt(7)"
   ]
  },
  {
   "cell_type": "markdown",
   "metadata": {},
   "source": [
    "Example:  importing directly into local namespace.\n",
    "\n"
   ]
  },
  {
   "cell_type": "code",
   "execution_count": 11,
   "metadata": {},
   "outputs": [
    {
     "data": {
      "text/plain": [
       "2.6457513110645907"
      ]
     },
     "execution_count": 11,
     "metadata": {},
     "output_type": "execute_result"
    }
   ],
   "source": [
    "from math import *\n",
    "\n",
    "sqrt(7)"
   ]
  },
  {
   "cell_type": "markdown",
   "metadata": {},
   "source": [
    "Warning:  namespace conflicts and \"masking\".\n",
    "\n",
    "Example:  write a module to find the sum of a list of numbers.\n",
    "\n"
   ]
  },
  {
   "cell_type": "code",
   "execution_count": null,
   "metadata": {},
   "outputs": [],
   "source": [
    "import myScript"
   ]
  },
  {
   "cell_type": "code",
   "execution_count": 5,
   "metadata": {},
   "outputs": [
    {
     "name": "stdout",
     "output_type": "stream",
     "text": [
      "Help on module myScript:\n",
      "\n",
      "NAME\n",
      "    myScript - example of importing modules\n",
      "\n",
      "FUNCTIONS\n",
      "    sumNumbers(theList)\n",
      "        sums up the numbers\n",
      "        input: list of numbers\n",
      "        output: the sum\n",
      "\n",
      "FILE\n",
      "    /Users/millera2/millera2.github.io/CS-111/myScript.py\n",
      "\n",
      "\n"
     ]
    }
   ],
   "source": [
    "help(myScript)\n"
   ]
  },
  {
   "cell_type": "code",
   "execution_count": 6,
   "metadata": {},
   "outputs": [
    {
     "data": {
      "text/plain": [
       "15"
      ]
     },
     "execution_count": 6,
     "metadata": {},
     "output_type": "execute_result"
    }
   ],
   "source": [
    "myScript.sumNumbers([1,2,3,4,5])"
   ]
  },
  {
   "cell_type": "code",
   "execution_count": 2,
   "metadata": {},
   "outputs": [
    {
     "name": "stdout",
     "output_type": "stream",
     "text": [
      "psych!!!\n"
     ]
    }
   ],
   "source": [
    "from math import *\n",
    "from myScript import *\n",
    "\n",
    "def sqrt(a):\n",
    "    print(\"psych!!!\")\n",
    "\n",
    "sqrt(7)"
   ]
  },
  {
   "cell_type": "markdown",
   "metadata": {},
   "source": [
    "This is an example of \"masking\".   Be careful!"
   ]
  },
  {
   "cell_type": "markdown",
   "metadata": {},
   "source": [
    "### Return vs Print"
   ]
  },
  {
   "cell_type": "markdown",
   "metadata": {},
   "source": [
    "Be careful, printing doesn't assign a value to output!  It only prints the update to the console!\n",
    "\n",
    "If you want to use the result in another function, be sure to **return**, not just print.  (You can do both!)\n"
   ]
  },
  {
   "cell_type": "code",
   "execution_count": 1,
   "metadata": {},
   "outputs": [
    {
     "data": {
      "text/plain": [
       "2.0"
      ]
     },
     "execution_count": 1,
     "metadata": {},
     "output_type": "execute_result"
    }
   ],
   "source": [
    "from myScript import *\n",
    "\n",
    "avgNumbers([1,2,3])"
   ]
  },
  {
   "cell_type": "code",
   "execution_count": 3,
   "metadata": {},
   "outputs": [
    {
     "ename": "NameError",
     "evalue": "name 'sqrt' is not defined",
     "output_type": "error",
     "traceback": [
      "\u001b[0;31m---------------------------------------------------------------------------\u001b[0m",
      "\u001b[0;31mNameError\u001b[0m                                 Traceback (most recent call last)",
      "\u001b[0;32m<ipython-input-3-565e36d12a01>\u001b[0m in \u001b[0;36m<module>\u001b[0;34m\u001b[0m\n\u001b[0;32m----> 1\u001b[0;31m \u001b[0msqrt\u001b[0m\u001b[0;34m(\u001b[0m\u001b[0;36m7\u001b[0m\u001b[0;34m)\u001b[0m\u001b[0;34m\u001b[0m\u001b[0;34m\u001b[0m\u001b[0m\n\u001b[0m",
      "\u001b[0;31mNameError\u001b[0m: name 'sqrt' is not defined"
     ]
    }
   ],
   "source": []
  },
  {
   "cell_type": "markdown",
   "metadata": {},
   "source": []
  },
  {
   "cell_type": "code",
   "execution_count": null,
   "metadata": {},
   "outputs": [],
   "source": []
  },
  {
   "cell_type": "markdown",
   "metadata": {},
   "source": [
    "### Ch 4:  Modelling and Simulation\n",
    "\n",
    "\n",
    "Consider a lake that imposes limits on the number of fish caught.  Each year, a maximum of 1500 fish can be taken from the lake.\n",
    "\n",
    "Suppose it's a popular lake, and this limit is hit every year.\n",
    "\n",
    "Question:  will be enough fish?  Will eventually fish all the fish until there are none left?\n",
    "\n",
    "Answer:  Make population model.\n",
    "\n",
    "Assumptions:  current population of fish is 10,000.  The population grows by 8% every year.\n",
    "\n",
    "How long until there aren't any fish left?\n",
    "\n",
    "On year 1:\n",
    "\n",
    "p1 = 10000*1.08 - 1500\n",
    "\n",
    "p2 = p1*1.08 - 1500\n",
    "\n",
    "p3 = p2*1.08 - 1500\n",
    "\n",
    "Write a function to model this:\n",
    "\n",
    "\n"
   ]
  },
  {
   "cell_type": "code",
   "execution_count": 22,
   "metadata": {},
   "outputs": [
    {
     "name": "stdout",
     "output_type": "stream",
     "text": [
      "Year|Population\n",
      "0 9300.0\n",
      "1 8544.0\n",
      "2 7727.52\n",
      "3 6845.721600000001\n",
      "4 5893.379328000001\n",
      "5 4864.849674240001\n",
      "6 3754.037648179202\n",
      "7 2554.3606600335384\n",
      "8 1258.7095128362216\n"
     ]
    }
   ],
   "source": [
    "population = 10000   #starting population\n",
    "rate = .08\n",
    "totalCatch = 1500\n",
    "\n",
    "#Look at population for next 10 years\n",
    "\n",
    "print(\"Year|Population\")\n",
    "\n",
    "year = 0\n",
    "while (population >1500 and year < 100):\n",
    "    population = population*(1+rate)-totalCatch\n",
    "    print(year,population)\n",
    "    year = year+1\n"
   ]
  },
  {
   "cell_type": "markdown",
   "metadata": {},
   "source": [
    "Let's abstract with a function:"
   ]
  },
  {
   "cell_type": "code",
   "execution_count": 40,
   "metadata": {},
   "outputs": [],
   "source": [
    "def fishPop(p, rate, totalCatch): \n",
    "    population = p   #starting population\n",
    "\n",
    "\n",
    "    #Look at population for next 10 years\n",
    "\n",
    "    print(\"Year|Population\")\n",
    "\n",
    "    year = 0\n",
    "    while (population >totalCatch and year < 100):\n",
    "        print(year,population)\n",
    "        population = population*(1+rate)-totalCatch\n",
    "        year = year+1\n",
    "    \n"
   ]
  },
  {
   "cell_type": "code",
   "execution_count": 41,
   "metadata": {},
   "outputs": [
    {
     "name": "stdout",
     "output_type": "stream",
     "text": [
      "Year|Population\n",
      "1 9800.0\n",
      "2 9584.0\n",
      "3 9350.720000000001\n",
      "4 9098.777600000001\n",
      "5 8826.679808000003\n",
      "6 8532.814192640004\n",
      "7 8215.439328051205\n",
      "8 7872.6744742953015\n",
      "9 7502.488432238926\n",
      "10 7102.687506818041\n",
      "11 6670.902507363485\n",
      "12 6204.5747079525645\n",
      "13 5700.94068458877\n",
      "14 5157.0159393558715\n",
      "15 4569.577214504342\n",
      "16 3935.1433916646893\n",
      "17 3249.9548629978644\n",
      "18 2509.951252037694\n",
      "19 1710.7473522007094\n",
      "20 847.6071403767662\n"
     ]
    }
   ],
   "source": [
    "fishPop(10000, .08, 1000)"
   ]
  },
  {
   "cell_type": "markdown",
   "metadata": {},
   "source": [
    "Format strings\n",
    "\n",
    "1) Book at the beginning of chapter 4\n",
    "2) Google online: python format string"
   ]
  },
  {
   "cell_type": "code",
   "execution_count": 44,
   "metadata": {},
   "outputs": [],
   "source": [
    "def fishPop(p, rate, totalCatch): \n",
    "    population = p   #starting population\n",
    "\n",
    "\n",
    "    #Look at population for next 10 years\n",
    "\n",
    "    print(\"Year|Population\")\n",
    "\n",
    "    year = 0\n",
    "    while (population >0 and year < 100):\n",
    "        formatString = \"{0:^4}|{1:^10.2f}\"\n",
    "        print(  formatString.format(year,population)   )\n",
    "        population = population*(1+rate)-totalCatch\n",
    "\n",
    "        year = year+1\n",
    "    \n"
   ]
  },
  {
   "cell_type": "code",
   "execution_count": 45,
   "metadata": {},
   "outputs": [
    {
     "name": "stdout",
     "output_type": "stream",
     "text": [
      "Year|Population\n",
      " 0  | 10000.00 \n",
      " 1  | 9950.00  \n",
      " 2  | 9896.00  \n",
      " 3  | 9837.68  \n",
      " 4  | 9774.69  \n",
      " 5  | 9706.67  \n",
      " 6  | 9633.20  \n",
      " 7  | 9553.86  \n",
      " 8  | 9468.17  \n",
      " 9  | 9375.62  \n",
      " 10 | 9275.67  \n",
      " 11 | 9167.73  \n",
      " 12 | 9051.14  \n",
      " 13 | 8925.24  \n",
      " 14 | 8789.25  \n",
      " 15 | 8642.39  \n",
      " 16 | 8483.79  \n",
      " 17 | 8312.49  \n",
      " 18 | 8127.49  \n",
      " 19 | 7927.69  \n",
      " 20 | 7711.90  \n",
      " 21 | 7478.85  \n",
      " 22 | 7227.16  \n",
      " 23 | 6955.34  \n",
      " 24 | 6661.76  \n",
      " 25 | 6344.70  \n",
      " 26 | 6002.28  \n",
      " 27 | 5632.46  \n",
      " 28 | 5233.06  \n",
      " 29 | 4801.70  \n",
      " 30 | 4335.84  \n",
      " 31 | 3832.71  \n",
      " 32 | 3289.32  \n",
      " 33 | 2702.47  \n",
      " 34 | 2068.67  \n",
      " 35 | 1384.16  \n",
      " 36 |  644.89  \n"
     ]
    }
   ],
   "source": [
    "fishPop(10000, .08, 850)"
   ]
  },
  {
   "cell_type": "code",
   "execution_count": null,
   "metadata": {},
   "outputs": [],
   "source": []
  }
 ],
 "metadata": {
  "kernelspec": {
   "display_name": "Python 3",
   "language": "python",
   "name": "python3"
  },
  "language_info": {
   "codemirror_mode": {
    "name": "ipython",
    "version": 3
   },
   "file_extension": ".py",
   "mimetype": "text/x-python",
   "name": "python",
   "nbconvert_exporter": "python",
   "pygments_lexer": "ipython3",
   "version": "3.8.3"
  }
 },
 "nbformat": 4,
 "nbformat_minor": 4
}
