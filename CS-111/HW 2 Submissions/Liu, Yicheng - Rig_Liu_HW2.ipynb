{
 "cells": [
  {
   "cell_type": "markdown",
   "metadata": {},
   "source": [
    "# CS HW #2 Rig"
   ]
  },
  {
   "cell_type": "code",
   "execution_count": null,
   "metadata": {},
   "outputs": [],
   "source": []
  },
  {
   "cell_type": "markdown",
   "metadata": {},
   "source": [
    "## 2.2.7"
   ]
  },
  {
   "cell_type": "markdown",
   "metadata": {},
   "source": [
    "x=(2**40)\n",
    "y=(8*(2**20))\n",
    "result=x/y\n",
    "num=str(result)\n",
    "\n",
    "print('Numbers of songs:'+(num))"
   ]
  },
  {
   "cell_type": "code",
   "execution_count": null,
   "metadata": {},
   "outputs": [],
   "source": []
  },
  {
   "cell_type": "markdown",
   "metadata": {},
   "source": [
    "## 2.2.8"
   ]
  },
  {
   "cell_type": "markdown",
   "metadata": {},
   "source": [
    "### (a) 15 * 3 - 2"
   ]
  },
  {
   "cell_type": "raw",
   "metadata": {},
   "source": [
    "15 * 3 - 2 = 45 - 2 =43"
   ]
  },
  {
   "cell_type": "markdown",
   "metadata": {},
   "source": [
    "### (b) 15 - 3 * 2"
   ]
  },
  {
   "cell_type": "markdown",
   "metadata": {},
   "source": [
    "15 - 3 * 2 = 15 - 6 = 9"
   ]
  },
  {
   "cell_type": "markdown",
   "metadata": {},
   "source": [
    "### (c) 15 * 3 // 2"
   ]
  },
  {
   "cell_type": "markdown",
   "metadata": {},
   "source": [
    "15 * 3 // 2 = 45 // 2 = 22"
   ]
  },
  {
   "cell_type": "markdown",
   "metadata": {},
   "source": [
    "### (d) 15 * 3 / 2"
   ]
  },
  {
   "cell_type": "markdown",
   "metadata": {},
   "source": [
    "15 * 3 % 2 = 45 / 2 = 22.5"
   ]
  },
  {
   "cell_type": "markdown",
   "metadata": {},
   "source": [
    "### (e) 15 * 3 % 2"
   ]
  },
  {
   "cell_type": "markdown",
   "metadata": {},
   "source": [
    "15 * 3 % 2 = 45 % 2 =1"
   ]
  },
  {
   "cell_type": "markdown",
   "metadata": {},
   "source": [
    "### (f) 15 * 3 / 2e0"
   ]
  },
  {
   "cell_type": "markdown",
   "metadata": {},
   "source": [
    "15 * 3 / 2e0 = 45 / 2 = 22.5"
   ]
  },
  {
   "cell_type": "code",
   "execution_count": null,
   "metadata": {},
   "outputs": [],
   "source": []
  },
  {
   "cell_type": "markdown",
   "metadata": {},
   "source": [
    "## 2.3.4"
   ]
  },
  {
   "cell_type": "code",
   "execution_count": 11,
   "metadata": {},
   "outputs": [
    {
     "name": "stdout",
     "output_type": "stream",
     "text": [
      "10\n",
      "5\n"
     ]
    }
   ],
   "source": [
    "#The code in the question has no temporary variable. In python program, temporary variable in needed to swap variable values.\n",
    "\n",
    "#For example\n",
    "\n",
    "x=5\n",
    "y=10\n",
    "\n",
    "temp=x\n",
    "x=y\n",
    "y=temp\n",
    "\n",
    "print(x)\n",
    "print(y)"
   ]
  },
  {
   "cell_type": "code",
   "execution_count": null,
   "metadata": {},
   "outputs": [],
   "source": []
  },
  {
   "cell_type": "markdown",
   "metadata": {},
   "source": [
    "## 4"
   ]
  },
  {
   "cell_type": "code",
   "execution_count": 1,
   "metadata": {},
   "outputs": [
    {
     "name": "stdin",
     "output_type": "stream",
     "text": [
      "Enter employees' name, separated by a comma: ali, bob, chad, dave\n",
      "Enter the days business open, separated by a comma: mon, tues\n"
     ]
    },
    {
     "name": "stdout",
     "output_type": "stream",
     "text": [
      "ali works on mon\n",
      " bob works on  tues\n",
      " chad works on mon\n",
      " dave works on  tues\n"
     ]
    }
   ],
   "source": [
    "myEmployees = input(\"Enter employees' name, separated by a comma:\")\n",
    "employeesArr = myEmployees.split(',')\n",
    "\n",
    "daysOpen = input('Enter the days business open, separated by a comma:')\n",
    "daysArr = daysOpen.split(',')\n",
    "\n",
    "for employee in employeesArr:\n",
    "    dayIndex = employeesArr.index(employee) % len(daysArr)\n",
    "    print(employee, 'works on', daysArr[dayIndex])\n",
    "    \n",
    "# Here's the code with outputs as same as the one in class."
   ]
  },
  {
   "cell_type": "code",
   "execution_count": 2,
   "metadata": {},
   "outputs": [
    {
     "name": "stdin",
     "output_type": "stream",
     "text": [
      "Please enter a list of employees (seperated by spaces): ali, ben, bob, zach, mel, jessie\n",
      "Please enter a list of days the business is open (seperated by spaces): mon, tues\n"
     ]
    },
    {
     "name": "stdout",
     "output_type": "stream",
     "text": [
      "ali, works on mon,\n",
      "ben, works on tues\n",
      "bob, works on mon,\n",
      "zach, works on tues\n",
      "mel, works on mon,\n",
      "jessie works on tues\n"
     ]
    }
   ],
   "source": [
    "myEmployees= input(\"Please enter a list of employees (seperated by spaces):\")\n",
    "myEmployees= myEmployees.split()\n",
    "daysOpen=input(\"Please enter a list of days the business is open (seperated by spaces):\")\n",
    "daysOpen= daysOpen.split()\n",
    "\n",
    "\n",
    "for employee in myEmployees:\n",
    "    dayIndex = myEmployees.index(employee) % len(daysOpen)\n",
    "    print(employee, \"works on\", daysOpen[dayIndex])\n"
   ]
  },
  {
   "cell_type": "code",
   "execution_count": null,
   "metadata": {},
   "outputs": [],
   "source": []
  }
 ],
 "metadata": {
  "kernelspec": {
   "display_name": "Python 3",
   "language": "python",
   "name": "python3"
  },
  "language_info": {
   "codemirror_mode": {
    "name": "ipython",
    "version": 3
   },
   "file_extension": ".py",
   "mimetype": "text/x-python",
   "name": "python",
   "nbconvert_exporter": "python",
   "pygments_lexer": "ipython3",
   "version": "3.8.3"
  }
 },
 "nbformat": 4,
 "nbformat_minor": 4
}
