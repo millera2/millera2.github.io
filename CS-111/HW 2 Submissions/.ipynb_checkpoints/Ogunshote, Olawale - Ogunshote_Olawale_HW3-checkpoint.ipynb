{
 "cells": [
  {
   "cell_type": "markdown",
   "metadata": {},
   "source": [
    "# Olawale Ogunshote CS 111 HW 2 "
   ]
  },
  {
   "cell_type": "markdown",
   "metadata": {},
   "source": [
    "### 2.2.7\n",
    "\n",
    "A hard drive in a computer can hold about a terabyte (240 bytes) of information. An average song requires about 8 megabytes (8 × 220 bytes). How many songs can the hard drive hold?\n"
   ]
  },
  {
   "cell_type": "code",
   "execution_count": 1,
   "metadata": {},
   "outputs": [
    {
     "data": {
      "text/plain": [
       "7"
      ]
     },
     "execution_count": 1,
     "metadata": {},
     "output_type": "execute_result"
    }
   ],
   "source": [
    "(8 * 220)//240"
   ]
  },
  {
   "cell_type": "markdown",
   "metadata": {},
   "source": [
    "### 2.2.8\n",
    "\n",
    "What is the value of each of the following Python expressions? Make sure you\n",
    "understand why in each case.\n",
    "(a) 15 * 3 - 2 = 43\n",
    "(b) 15 - 3 * 2 = 9\n",
    "(c) 15 * 3 // 2 = 22\n",
    "(d) 15 * 3 / 2 = 22.5\n",
    "(e) 15 * 3 % 2 = 1\n",
    "(f) 15 * 3 / 2e0 = 22.5\n",
    "\n",
    "All of these values are the result of order of operations, which explains why the values would be different if we solved them from left to right. (//) tells us the largest number of times a number can be divided and (%) tells us the remainder of division"
   ]
  },
  {
   "cell_type": "code",
   "execution_count": 2,
   "metadata": {},
   "outputs": [
    {
     "data": {
      "text/plain": [
       "1"
      ]
     },
     "execution_count": 2,
     "metadata": {},
     "output_type": "execute_result"
    }
   ],
   "source": [
    "15 * 3 % 2"
   ]
  },
  {
   "cell_type": "markdown",
   "metadata": {},
   "source": [
    "### 2.3.4\n",
    "\n",
    "Suppose we wanted to swap the values of two variables named x and y. Why doesn’t the following work? Show a method that does work.\n",
    "x=y\n",
    "y=x\n",
    "\n",
    "This doesn't work because the variables haven't been assigned a value yet, so the statement would just result as false.\n",
    "\n",
    "\n",
    "\n",
    "value = x\n",
    "x = y\n",
    "y = value\n"
   ]
  },
  {
   "cell_type": "markdown",
   "metadata": {},
   "source": [
    "### 4"
   ]
  },
  {
   "cell_type": "code",
   "execution_count": null,
   "metadata": {},
   "outputs": [],
   "source": [
    "allEmployees = [\"\"]\n",
    "allEmployees = [allEmployees for allEmployees in input(\"enter all employee names separated by comas: \").split(\", \")]\n",
    "\n",
    "daysOpen = [\"\"]\n",
    "daysOpen = [daysOpen for daysOpen in input(\"enter all days open separated by comas: \").split(\", \")]\n",
    "\n",
    "\n",
    "for employee in allEmployees:\n",
    "    dayIndex = allEmployees.index(employee)%len(daysOpen)\n",
    "    print(employee, \"works on\", daysOpen[dayIndex])"
   ]
  },
  {
   "cell_type": "code",
   "execution_count": null,
   "metadata": {},
   "outputs": [],
   "source": []
  }
 ],
 "metadata": {
  "kernelspec": {
   "display_name": "Python 3",
   "language": "python",
   "name": "python3"
  },
  "language_info": {
   "codemirror_mode": {
    "name": "ipython",
    "version": 3
   },
   "file_extension": ".py",
   "mimetype": "text/x-python",
   "name": "python",
   "nbconvert_exporter": "python",
   "pygments_lexer": "ipython3",
   "version": "3.8.3"
  }
 },
 "nbformat": 4,
 "nbformat_minor": 4
}
