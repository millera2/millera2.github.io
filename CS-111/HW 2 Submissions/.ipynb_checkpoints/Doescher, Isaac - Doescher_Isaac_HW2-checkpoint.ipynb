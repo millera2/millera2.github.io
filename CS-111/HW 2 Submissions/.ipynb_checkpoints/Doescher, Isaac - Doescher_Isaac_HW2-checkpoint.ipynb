{
 "cells": [
  {
   "cell_type": "code",
   "execution_count": 9,
   "metadata": {},
   "outputs": [
    {
     "name": "stdout",
     "output_type": "stream",
     "text": [
      "131072.0\n"
     ]
    }
   ],
   "source": [
    "#HomeWork Problem 2.2.7\n",
    "\n",
    "\n",
    "terabyte = 2**40\n",
    "#calculates the ammount of bytes in a terabyte\n",
    "\n",
    "averageSong = 8 * (2 **20)\n",
    "#calculates the ammount of bytes in an average song\n",
    "\n",
    "hardDriveStorage = terabyte / averageSong\n",
    "#divides the ammount of bytes we have in storage, the terabyte, by the bytes of an average song to see how many average songs could fit in a terabyte\n",
    "\n",
    "print(hardDriveStorage)\n",
    "#hardDriveStorage is 131072, meaning we can have 131072 songs with an average song containing eight megabytes"
   ]
  },
  {
   "cell_type": "code",
   "execution_count": 6,
   "metadata": {},
   "outputs": [
    {
     "name": "stdout",
     "output_type": "stream",
     "text": [
      "43\n",
      "9\n",
      "22\n",
      "22.5\n",
      "1\n",
      "45.0\n",
      "22.5\n"
     ]
    }
   ],
   "source": [
    "#HomeWork Problem 2.2.8\n",
    "#In the instructions It mentioned that you should know how it works but to only copy down the answers =D\n",
    "\n",
    "problemA = 15 * 3 - 2\n",
    "print(problemA)\n",
    "#The Value Is 43 \n",
    "\n",
    "problemB= 15 - 3 * 2\n",
    "print(problemB)\n",
    "#The Value Is 9\n",
    "\n",
    "problemC = 15 * 3 // 2\n",
    "print(problemC)\n",
    "# The Value Is 22\n",
    "\n",
    "\n",
    "problemD = 15 * 3 / 2\n",
    "print(problemD)\n",
    "#The Value Is 22.5\n",
    "\n",
    "\n",
    "problemE = 15 * 3 % 2\n",
    "print(problemE)\n",
    "#The Value Is 1\n",
    "\n",
    "\n",
    "problemF = 15 * 3 / 2**0\n",
    "print(problemF)\n",
    "#The Value Is 45.0\n",
    "\n",
    "#NOTE while the original problem was 15 * 3 / 2e0 I changed it to correctly illustrate that 2 had an exponet of 0. I think this is what the prompt meant to do?? If not I still kept the original and its value below\n",
    "\n",
    "#problemG= 15 * 3 / 2e0\n",
    "#print(problemG)\n",
    "#The Value is 22.5\n",
    "\n"
   ]
  },
  {
   "cell_type": "code",
   "execution_count": 25,
   "metadata": {},
   "outputs": [
    {
     "name": "stdout",
     "output_type": "stream",
     "text": [
      "25\n",
      "44\n"
     ]
    }
   ],
   "source": [
    "#HomeWork Problem 2.3.4\n",
    "\n",
    "# x = 33\n",
    "# y = 44\n",
    "\n",
    "# x = y \n",
    "# y = x\n",
    "\n",
    "#print(x)\n",
    "#print(y)\n",
    "\n",
    "#The method above does not work because when x is being defined by y, python scans to see what y is, python searches and finds that y = 44, this changes the value of x to 44. This breaks the code of where we try to set y = x because x's original value has been replaced by y's. Thus they both share the same value and are unable to fully swap\n",
    "#The method below works. As python scans left to right on the same line (the line where we state x, y = y,x), it is creating a tuple within the memory and can thus store the values and set them one by one. This allows the values to fully be swapped!\n",
    "\n",
    "y=25\n",
    "x=44\n",
    "\n",
    "x, y = y, x\n",
    "\n",
    "print(x)\n",
    "print(y)"
   ]
  },
  {
   "cell_type": "code",
   "execution_count": null,
   "metadata": {},
   "outputs": [],
   "source": [
    "bossEmployeeInput = input('Hello The Boss. Please Enter Employee Names, Separating Each One With a Comma, NOTE if you have less than Seven Employees Please Repeat Their Names Within A Seven Day Period:     ')\n",
    "myEmployees = bossEmployeeInput.split(\",\")\n",
    "print(\"The Boss's Employee List is: \", myEmployees) #prints boss's employee list\n",
    "\n",
    "\n",
    "\n",
    "bossDayInput = input('Hello The Boss. Write the Days That Your Business is Open in the Example Format Presented Seperating Each One With a Comma. Example, Monday Open, Tuesday Closed, etc:      ')\n",
    "daysOpen = bossDayInput.split(\",\")\n",
    "print(\"The Boss's Days Open List is: \", daysOpen) #prints the day open list\n",
    "\n",
    "\n",
    "\n",
    "for employee in myEmployees:\n",
    "    dayIndex = myEmployees.index(employee)%7\n",
    "    print(employee, \" works on \", daysOpen[dayIndex])\n",
    "    if dayIndex == 6:\n",
    "         print(\"                               On Days Marked Closed, Employee Gets a Paid Off Day\") #had to explain why an employee name would appear when the business would be closed\n",
    "\n",
    "\n",
    "\n",
    "#Ultimately, I ended up defaulting to the formula presented in 9/4/20's lecture. I found this to be super effective even though, as you stated, I would get marked down (I believe a maximum grade on this one problem would be a 93%). Knowing this, I still have a few questions. How do you get the results to be randomized and how can I get the % mod to be set to the number of string values that the user enters for days? Any enlightmenment would be a great help!\n"
   ]
  },
  {
   "cell_type": "code",
   "execution_count": null,
   "metadata": {},
   "outputs": [],
   "source": [
    "#Please Pay No Attention to the Ones Below! I included them so you could see that I did put some work into the assignment and did not just copy the lecture =D"
   ]
  },
  {
   "cell_type": "code",
   "execution_count": null,
   "metadata": {},
   "outputs": [],
   "source": []
  },
  {
   "cell_type": "code",
   "execution_count": null,
   "metadata": {},
   "outputs": [],
   "source": []
  },
  {
   "cell_type": "code",
   "execution_count": null,
   "metadata": {},
   "outputs": [],
   "source": []
  },
  {
   "cell_type": "code",
   "execution_count": null,
   "metadata": {},
   "outputs": [],
   "source": []
  },
  {
   "cell_type": "code",
   "execution_count": null,
   "metadata": {},
   "outputs": [],
   "source": []
  },
  {
   "cell_type": "code",
   "execution_count": null,
   "metadata": {},
   "outputs": [],
   "source": []
  },
  {
   "cell_type": "code",
   "execution_count": null,
   "metadata": {},
   "outputs": [],
   "source": []
  },
  {
   "cell_type": "code",
   "execution_count": null,
   "metadata": {},
   "outputs": [],
   "source": []
  },
  {
   "cell_type": "code",
   "execution_count": null,
   "metadata": {},
   "outputs": [],
   "source": []
  },
  {
   "cell_type": "code",
   "execution_count": null,
   "metadata": {},
   "outputs": [],
   "source": [
    "bossEmployees = input('Hello The Boss, enter a list of employees')\n",
    "\n",
    "bossWorkDays = input('Please indicate the days that your business is open')"
   ]
  },
  {
   "cell_type": "code",
   "execution_count": 1,
   "metadata": {},
   "outputs": [
    {
     "name": "stdout",
     "output_type": "stream",
     "text": [
      "Monday\n",
      "Tuesday\n",
      "Wednesday\n",
      "Thursday\n",
      "Friday\n",
      "Monday\n",
      "Tuesday\n",
      "Wednesday\n"
     ]
    }
   ],
   "source": [
    "myEmployees = [\"Fisher\",\"Ben\",\"Leo\",\"Matt\",\"Ivan\",\"bro\",\"james\",\"peter\"]\n",
    "\n",
    "daysOpen = [\"Monday\", \"Tuesday\", \"Wednesday\", \"Thursday\", \"Friday\"]\n",
    "\n",
    "for employee in myEmployees:\n",
    "    dayIndex = myEmployees.index(employee)%5\n",
    "    print(daysOpen[dayIndex])"
   ]
  },
  {
   "cell_type": "code",
   "execution_count": null,
   "metadata": {},
   "outputs": [],
   "source": [
    "bossEmployees= input('Enter list of employees')\n",
    "\n",
    "\n",
    "\n",
    "print(bossEmployees)\n"
   ]
  },
  {
   "cell_type": "code",
   "execution_count": null,
   "metadata": {},
   "outputs": [],
   "source": [
    "employees = [\"Jan\", \"Isaac\", \"Bob\"]\n",
    "for x in fruits:\n",
    "  print(x)"
   ]
  },
  {
   "cell_type": "code",
   "execution_count": null,
   "metadata": {},
   "outputs": [],
   "source": [
    "bossEmployeeInput = input('Please enter employee names, sepperating each one with a comma')\n",
    "\n",
    "print(\"\\n\")\n",
    "\n",
    "\n",
    "myEmployees = bossEmployeeInput.split(\", \")\n",
    "print(\"Employee List is \", myEmployees)\n",
    "\n",
    "\n",
    "daysOpen = [\"Monday\",\"Tuesday\",\"Wednesday\",\"Thursday\",\"Friday\"]\n",
    "\n",
    "\n",
    "for employee in myEmployees:\n",
    "    daysOpen += myEmployees\n",
    "    print(employee,\" works on \", daysOpen)\n",
    "    \n",
    "    \n",
    "    "
   ]
  },
  {
   "cell_type": "code",
   "execution_count": 1,
   "metadata": {},
   "outputs": [
    {
     "name": "stdin",
     "output_type": "stream",
     "text": [
      "Enter a list elements separated by space  bob James salamander\n"
     ]
    },
    {
     "name": "stdout",
     "output_type": "stream",
     "text": [
      "\n",
      "\n",
      "user list is  ['bob', 'James', 'salamander']\n"
     ]
    },
    {
     "ename": "ValueError",
     "evalue": "invalid literal for int() with base 10: 'bob'",
     "output_type": "error",
     "traceback": [
      "\u001b[0;31m---------------------------------------------------------------------------\u001b[0m",
      "\u001b[0;31mValueError\u001b[0m                                Traceback (most recent call last)",
      "\u001b[0;32m<ipython-input-1-9dc3b0a28c04>\u001b[0m in \u001b[0;36m<module>\u001b[0;34m\u001b[0m\n\u001b[1;32m      7\u001b[0m \u001b[0msum1\u001b[0m \u001b[0;34m=\u001b[0m \u001b[0;36m0\u001b[0m\u001b[0;34m\u001b[0m\u001b[0;34m\u001b[0m\u001b[0m\n\u001b[1;32m      8\u001b[0m \u001b[0;32mfor\u001b[0m \u001b[0mnum\u001b[0m \u001b[0;32min\u001b[0m \u001b[0muserList\u001b[0m\u001b[0;34m:\u001b[0m\u001b[0;34m\u001b[0m\u001b[0;34m\u001b[0m\u001b[0m\n\u001b[0;32m----> 9\u001b[0;31m     \u001b[0msum1\u001b[0m \u001b[0;34m+=\u001b[0m \u001b[0mint\u001b[0m\u001b[0;34m(\u001b[0m\u001b[0mnum\u001b[0m\u001b[0;34m)\u001b[0m\u001b[0;34m\u001b[0m\u001b[0;34m\u001b[0m\u001b[0m\n\u001b[0m\u001b[1;32m     10\u001b[0m \u001b[0mprint\u001b[0m\u001b[0;34m(\u001b[0m\u001b[0;34m\"Sum = \"\u001b[0m\u001b[0;34m,\u001b[0m \u001b[0msum1\u001b[0m\u001b[0;34m)\u001b[0m\u001b[0;34m\u001b[0m\u001b[0;34m\u001b[0m\u001b[0m\n",
      "\u001b[0;31mValueError\u001b[0m: invalid literal for int() with base 10: 'bob'"
     ]
    }
   ],
   "source": [
    "input_string = input(\"Enter a list elements separated by space \")\n",
    "\n",
    "print(\"\\n\")\n",
    "userList = input_string.split()\n",
    "print(\"user list is \", userList)\n",
    "# Calculating the sum of input list elements\n",
    "sum1 = 0\n",
    "for num in userList:\n",
    "    sum1 += int(num)\n",
    "print(\"Sum = \", sum1)"
   ]
  },
  {
   "cell_type": "code",
   "execution_count": null,
   "metadata": {},
   "outputs": [],
   "source": []
  }
 ],
 "metadata": {
  "kernelspec": {
   "display_name": "Python 3",
   "language": "python",
   "name": "python3"
  },
  "language_info": {
   "codemirror_mode": {
    "name": "ipython",
    "version": 3
   },
   "file_extension": ".py",
   "mimetype": "text/x-python",
   "name": "python",
   "nbconvert_exporter": "python",
   "pygments_lexer": "ipython3",
   "version": "3.8.3"
  }
 },
 "nbformat": 4,
 "nbformat_minor": 4
}
