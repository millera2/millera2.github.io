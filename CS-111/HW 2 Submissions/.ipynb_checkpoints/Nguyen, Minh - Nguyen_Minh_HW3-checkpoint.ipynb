{
 "cells": [
  {
   "cell_type": "markdown",
   "metadata": {},
   "source": [
    "# CS111 HW2 - Minh H. Nguyen\n"
   ]
  },
  {
   "cell_type": "markdown",
   "metadata": {},
   "source": [
    "# 2.2.7\n",
    "    \n",
    "    The number of songs the hard drive can hold is:\n",
    "        2^40 / 2^23 = 2^17 \n",
    "        "
   ]
  },
  {
   "cell_type": "markdown",
   "metadata": {},
   "source": [
    "# 2.2.8\n",
    "    a) 43\n",
    "    b) 9\n",
    "    c) 22\n",
    "        The * operator is executed first\n",
    "        22 is the result of the floor division 45//2\n",
    "    d) 22.5\n",
    "        The * operator is executed first\n",
    "        22.5 is the result of the true division 45/2\n",
    "    e) 1\n",
    "        The * operator is executed first\n",
    "        1 is the result of the modulo operator 45%2\n",
    "    f) 22.5\n",
    "        The * operator is executed first\n",
    "        The number 45 is converted to floating type so the actual division operation is 45.0 / 2e0"
   ]
  },
  {
   "cell_type": "markdown",
   "metadata": {},
   "source": [
    "# 2.3.4\n",
    "    The command x = y means assign the value of y to x. Before the command y = x, the initial value of x has already been replaced with the value of y. Therefore, we need a temporary \"place\" to store the value of x and then assign it to y.\n",
    "    \n",
    "    temp = x\n",
    "    x = y\n",
    "    y = temp\n",
    "    "
   ]
  },
  {
   "cell_type": "markdown",
   "metadata": {},
   "source": [
    "# Employee\n"
   ]
  },
  {
   "cell_type": "code",
   "execution_count": 2,
   "metadata": {},
   "outputs": [],
   "source": [
    "def func():\n",
    "    employee = input(\"Enter the names of employee, separated by ',': \").split(\",\")\n",
    "    daysopen = input(\"Enter the days that the business is open, separated by ',': \").split(\",\")\n",
    "    worklist = []\n",
    "    for i in range(0, len(daysopen)):\n",
    "        worklist.append([])\n",
    "    for i in range(0, len(employee)):\n",
    "        daysnum = i % len(daysopen)\n",
    "        worklist[daysnum].append(employee[i])\n",
    "        print(employee[i], \"is working on\", daysopen[daysnum])\n",
    "    return worklist\n"
   ]
  }
 ],
 "metadata": {
  "kernelspec": {
   "display_name": "Python 3",
   "language": "python",
   "name": "python3"
  },
  "language_info": {
   "codemirror_mode": {
    "name": "ipython",
    "version": 3
   },
   "file_extension": ".py",
   "mimetype": "text/x-python",
   "name": "python",
   "nbconvert_exporter": "python",
   "pygments_lexer": "ipython3",
   "version": "3.8.3"
  }
 },
 "nbformat": 4,
 "nbformat_minor": 4
}
