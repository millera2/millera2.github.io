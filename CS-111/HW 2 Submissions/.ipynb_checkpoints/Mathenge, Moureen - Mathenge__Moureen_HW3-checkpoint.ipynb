{
 "cells": [
  {
   "cell_type": "markdown",
   "metadata": {},
   "source": [
    "## Homework 3\n",
    "### Friday September 11th 2020\n",
    "\n",
    "**Question #1**"
   ]
  },
  {
   "cell_type": "code",
   "execution_count": 1,
   "metadata": {},
   "outputs": [],
   "source": [
    "terabyte= 2**40"
   ]
  },
  {
   "cell_type": "code",
   "execution_count": 2,
   "metadata": {},
   "outputs": [],
   "source": [
    "song= 8*2**20"
   ]
  },
  {
   "cell_type": "code",
   "execution_count": 3,
   "metadata": {},
   "outputs": [
    {
     "data": {
      "text/plain": [
       "131072"
      ]
     },
     "execution_count": 3,
     "metadata": {},
     "output_type": "execute_result"
    }
   ],
   "source": [
    "terabyte//song"
   ]
  },
  {
   "cell_type": "markdown",
   "metadata": {},
   "source": [
    "the hard drive can hold 131,072 songs."
   ]
  },
  {
   "cell_type": "markdown",
   "metadata": {},
   "source": [
    "**Question #2**"
   ]
  },
  {
   "cell_type": "code",
   "execution_count": 4,
   "metadata": {},
   "outputs": [
    {
     "data": {
      "text/plain": [
       "43"
      ]
     },
     "execution_count": 4,
     "metadata": {},
     "output_type": "execute_result"
    }
   ],
   "source": [
    "#a)\n",
    "15*3-2"
   ]
  },
  {
   "cell_type": "markdown",
   "metadata": {},
   "source": [
    "The value of a is 43 because we multiply 15 by 3 first to get 45 then subtract 2 from the result."
   ]
  },
  {
   "cell_type": "code",
   "execution_count": 5,
   "metadata": {},
   "outputs": [
    {
     "data": {
      "text/plain": [
       "9"
      ]
     },
     "execution_count": 5,
     "metadata": {},
     "output_type": "execute_result"
    }
   ],
   "source": [
    "#b)\n",
    "15-3*2"
   ]
  },
  {
   "cell_type": "markdown",
   "metadata": {},
   "source": [
    "The value of this is 9 because we multiply 3 by 2 first to get 6, then subtract six from 15 to get 9"
   ]
  },
  {
   "cell_type": "code",
   "execution_count": 6,
   "metadata": {},
   "outputs": [
    {
     "data": {
      "text/plain": [
       "22"
      ]
     },
     "execution_count": 6,
     "metadata": {},
     "output_type": "execute_result"
    }
   ],
   "source": [
    "#c)\n",
    "15*3//2"
   ]
  },
  {
   "cell_type": "markdown",
   "metadata": {},
   "source": [
    "The answer is 22 because we multiply 15 and 3 first to get 45, then 2 goes into 45 22 times with a remainedr of 1. So teh answer is 22."
   ]
  },
  {
   "cell_type": "code",
   "execution_count": 7,
   "metadata": {},
   "outputs": [
    {
     "data": {
      "text/plain": [
       "22.5"
      ]
     },
     "execution_count": 7,
     "metadata": {},
     "output_type": "execute_result"
    }
   ],
   "source": [
    "#d)\n",
    "15*3/2"
   ]
  },
  {
   "cell_type": "markdown",
   "metadata": {},
   "source": [
    "The answer is 22.5 because wemultiply first then divide. 45 divided by 2 is 22.5"
   ]
  },
  {
   "cell_type": "code",
   "execution_count": 8,
   "metadata": {},
   "outputs": [
    {
     "data": {
      "text/plain": [
       "1"
      ]
     },
     "execution_count": 8,
     "metadata": {},
     "output_type": "execute_result"
    }
   ],
   "source": [
    "#e)\n",
    "15*3%2"
   ]
  },
  {
   "cell_type": "markdown",
   "metadata": {},
   "source": [
    "In #c we found that 2 goes into 45(which is 15*3) 22 times with a remainder of 1. Mod gives the remainder after division which is 1 in this case"
   ]
  },
  {
   "cell_type": "code",
   "execution_count": 9,
   "metadata": {},
   "outputs": [
    {
     "data": {
      "text/plain": [
       "22.5"
      ]
     },
     "execution_count": 9,
     "metadata": {},
     "output_type": "execute_result"
    }
   ],
   "source": [
    "#f)\n",
    "15*3/2e0"
   ]
  },
  {
   "cell_type": "markdown",
   "metadata": {},
   "source": [
    "This expression's answer is 22.5 because we multiply 15 by 3 first then divide by 2. This case is different from #d because 2 is written as a float. If the decimals were more than 16, python would have rounded them to 16 decimal points.\n",
    "\n",
    "**Question #3**\n",
    "\n",
    "As shown below, the code x=y and y=x assigns the same value to both x and y. This is because the first code x=y makes both variables have the same value. \n",
    "\n",
    "If x=cow and y=goat, we can swap the values by:\n",
    "\n",
    "1) equate x,y to y,x. This will prevent the problem of assigning one first then the other which makes them both equal to one value. As shown below, this method works unlike the first one."
   ]
  },
  {
   "cell_type": "code",
   "execution_count": 10,
   "metadata": {},
   "outputs": [
    {
     "name": "stdout",
     "output_type": "stream",
     "text": [
      "goat\n",
      "goat\n"
     ]
    }
   ],
   "source": [
    "x=\"cow\"\n",
    "y=\"goat\"\n",
    "x=y\n",
    "y=x\n",
    "\n",
    "print(x)\n",
    "print(y)"
   ]
  },
  {
   "cell_type": "code",
   "execution_count": 11,
   "metadata": {},
   "outputs": [],
   "source": [
    "x=\"cow\"\n",
    "y=\"goat\""
   ]
  },
  {
   "cell_type": "code",
   "execution_count": 12,
   "metadata": {},
   "outputs": [],
   "source": [
    "x,y=y,x"
   ]
  },
  {
   "cell_type": "code",
   "execution_count": 13,
   "metadata": {},
   "outputs": [
    {
     "name": "stdout",
     "output_type": "stream",
     "text": [
      "cow\n"
     ]
    }
   ],
   "source": [
    "print(y)"
   ]
  },
  {
   "cell_type": "code",
   "execution_count": 14,
   "metadata": {},
   "outputs": [
    {
     "name": "stdout",
     "output_type": "stream",
     "text": [
      "goat\n"
     ]
    }
   ],
   "source": [
    "print(x)"
   ]
  },
  {
   "cell_type": "markdown",
   "metadata": {},
   "source": [
    "**Question #4**"
   ]
  },
  {
   "cell_type": "code",
   "execution_count": 15,
   "metadata": {},
   "outputs": [
    {
     "name": "stdout",
     "output_type": "stream",
     "text": [
      "Muthoni works on Monday\n",
      "Makena works on Tuesday\n",
      "Wangui works on Wednesday\n",
      "Waithegeni works on Thursday\n",
      "Nyawira works on Friday\n",
      "Nyaguthii works on Monday\n",
      "Kago works on Tuesday\n",
      "Warui works on Wednesday\n",
      "Gitonga works on Thursday\n",
      "Ndururi works on Friday\n"
     ]
    }
   ],
   "source": [
    "Myemployees= [\"Muthoni\", \"Makena\", \"Wangui\", \"Waithegeni\", \"Nyawira\", \"Nyaguthii\", \"Kago\", \"Warui\",\"Gitonga\",\"Ndururi\"]\n",
    "\n",
    "Daysopen= [\"Monday\", \"Tuesday\", \"Wednesday\", \"Thursday\", \"Friday\"]\n",
    "\n",
    "\n",
    "for employee in Myemployees:   \n",
    "    dayindex=Myemployees.index(employee)%5\n",
    "    print(employee, \"works on\",Daysopen[dayindex])\n",
    "    "
   ]
  },
  {
   "cell_type": "code",
   "execution_count": 16,
   "metadata": {},
   "outputs": [
    {
     "name": "stdout",
     "output_type": "stream",
     "text": [
      "on Monday : Muthoni and Nyaguthii\n",
      "on Tuesday : Makena and Kago\n",
      "on Wednesday : Wangui and Warui\n",
      "on Thursday : Waithegeni and Gitonga\n",
      "on Friday : Nyawira and Ndururi\n"
     ]
    }
   ],
   "source": [
    "\n",
    "for day in Daysopen:\n",
    "    print(\"on\",day,\":\",Myemployees[Daysopen.index(day)],\"and\",Myemployees[Daysopen.index(day)+5])"
   ]
  },
  {
   "cell_type": "code",
   "execution_count": 37,
   "metadata": {},
   "outputs": [
    {
     "name": "stdin",
     "output_type": "stream",
     "text": [
      "<class 'str'> Moureen Mercy Faith Rachel Lilian Evans Brian Livya Shirleen Alex\n"
     ]
    }
   ],
   "source": [
    "\n",
    "##Here is my program. Replace the inputs with anything and run the code with your personal inputs.\n",
    "\n",
    "myemployeeslist=input(str)\n",
    "myemployeeslist=myemployeeslist.split()"
   ]
  },
  {
   "cell_type": "code",
   "execution_count": 35,
   "metadata": {},
   "outputs": [
    {
     "name": "stdin",
     "output_type": "stream",
     "text": [
      "<class 'str'> Monday Tuesday Wednesday Thursday Friday\n"
     ]
    }
   ],
   "source": [
    "daysoftheworkweek=input(str)\n",
    "daysoftheworkweek=daysoftheworkweek.split()"
   ]
  },
  {
   "cell_type": "code",
   "execution_count": 38,
   "metadata": {},
   "outputs": [
    {
     "name": "stdout",
     "output_type": "stream",
     "text": [
      "on Monday Moureen and Evans\n",
      "on Tuesday Mercy and Brian\n",
      "on Wednesday Faith and Livya\n",
      "on Thursday Rachel and Shirleen\n",
      "on Friday Lilian and Alex\n"
     ]
    }
   ],
   "source": [
    "for day in daysoftheworkweek:\n",
    "    print(\"on\",day, myemployeeslist[daysoftheworkweek.index(day)],\"and\", myemployeeslist[daysoftheworkweek.index(day)+5]) "
   ]
  }
 ],
 "metadata": {
  "kernelspec": {
   "display_name": "Python 3",
   "language": "python",
   "name": "python3"
  },
  "language_info": {
   "codemirror_mode": {
    "name": "ipython",
    "version": 3
   },
   "file_extension": ".py",
   "mimetype": "text/x-python",
   "name": "python",
   "nbconvert_exporter": "python",
   "pygments_lexer": "ipython3",
   "version": "3.8.3"
  }
 },
 "nbformat": 4,
 "nbformat_minor": 4
}
