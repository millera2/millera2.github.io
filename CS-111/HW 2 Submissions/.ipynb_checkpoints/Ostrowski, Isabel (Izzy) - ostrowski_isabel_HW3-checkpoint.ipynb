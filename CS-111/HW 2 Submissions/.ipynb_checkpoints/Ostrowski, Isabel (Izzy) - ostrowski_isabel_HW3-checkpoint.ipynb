{
 "cells": [
  {
   "cell_type": "code",
   "execution_count": null,
   "metadata": {},
   "outputs": [],
   "source": [
    "2.2.7\n",
    "\tA hard drive in a computer can hold about a terabyte (2^40 bytes) of information. An average song requires about 8 megabytes (8*2^20 bytes). How many songs can the hard drive hold? \n",
    "\n",
    "The hard drive can hold about 125,000 songs. \n",
    "\n",
    "\n",
    "2.2.8 \n",
    "\tWhat is the value of each of the following Python expressions? Make sure you understand why in each case. \n",
    "\n",
    "15*3-2: 43\n",
    "15-3*2: 9\n",
    "15*3//2: 22\n",
    "15*3/2: 22.5\n",
    "15*3%2: 1\n",
    "15*3/2e0: 22.5\n",
    "\n",
    "2.3.4\n",
    "\tSuppose you wanted to swap the values of two variables named x and y. Why doesn’t the following \n",
    "x=y\n",
    "y=x\n",
    "work? Show a method that does work. \n",
    "\n",
    "The “x=y->y=x” method is insufficient because it neglects the important intermediate step where a temporary variable is created. The correct method would look similar to this:\n",
    "\n",
    "(assuming x=[value1]\n",
    "y=[value2])\n",
    "\n",
    "temp=x\n",
    "x=y\n",
    "y=temp\n",
    "\n",
    "\n",
    "4. \n",
    "\n",
    "myEmployees = [\"theBoss\", \"Pretha\", \"Yamani\", \"Izzy\", \"Safiya\", \"Jules\", \"Abdullah\", \"KC\", \"Maddie\", \"Fuzz\"]\n",
    "\n",
    "myEmployees.index(\"theBoss\")\n",
    "\n",
    "myEmployees = [\"theBoss\", \"Pretha\", \"Yamani\", \"Izzy\", \"Safiya\", \"Jules\", \"Abdullah\", \"KC\", \"Maddie\", \"Fuzz\"]\n",
    "\n",
    "daysOpen = [\"Monday\", \"Tuesday\", \"Wednesday\", \"Thursday\", \"Friday\", \"Saturday\", \"Sunday\"]\n",
    "\n",
    "\n",
    "for employee in myEmployees:\n",
    "    dayIndex = myEmployees.index(employee)%7\n",
    "    print(employee, \" works on \", daysOpen[dayIndex])\n",
    "    \n",
    "for employeeIndex in range(10):\n",
    "    dayIndex = employeeIndex%7\n",
    "    print(myEmployees[employeeIndex], \"is working on \", daysOpen[dayIndex]   )\n"
   ]
  }
 ],
 "metadata": {
  "kernelspec": {
   "display_name": "Python 3",
   "language": "python",
   "name": "python3"
  },
  "language_info": {
   "codemirror_mode": {
    "name": "ipython",
    "version": 3
   },
   "file_extension": ".py",
   "mimetype": "text/x-python",
   "name": "python",
   "nbconvert_exporter": "python",
   "pygments_lexer": "ipython3",
   "version": "3.8.3"
  }
 },
 "nbformat": 4,
 "nbformat_minor": 4
}
