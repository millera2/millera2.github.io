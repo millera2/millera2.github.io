{
 "cells": [
  {
   "cell_type": "markdown",
   "metadata": {},
   "source": [
    "### CS 111 2nd HW 9/11 Huihao Wang\n",
    "\n",
    "**2.2.7**A hard drive in a computer can hold about a terabyte (2 40 bytes) of information. An average song requires about 8 megabytes (8 × 2 20 bytes). How many songs can the hard drive hold?\n",
    "\n",
    "**2.2.8**What is the value of each of the following Python expressions? Make sure you understand why in each case.\n",
    "    (a) 15 * 3 - 2 \n",
    "    (b) 15 - 3 * 2\n",
    "    (c) 15 * 3 // 2 \n",
    "    (d) 15 * 3 / 2\n",
    "    (e) 15 * 3 % 2 \n",
    "    (f) 15 * 3 / 2e0\n",
    "    \n",
    "**2.3.4** Suppose we wanted to swap the values of two variables named x and y. Why doesn’t the following work? Show a method that does work.\n",
    "    x = y \n",
    "    y = x\n",
    "\n",
    "**List of employees** In class on Friday Sept 04, we wrote a for loop to assign each employee in a list of employees a day of the week to work on.\n",
    "\n",
    "Your HW problem is to extend this program in the following way:\n",
    "\n",
    "It should prompt the user (who we’ll call “The Boss”) to enter the list of employees, and the list of days in the week that the business is open. This list can be arbitraily long, depending on what the user inputs. You may assume that all of the names are different. Use the input() function. There are many reasonable ways to go about this.\n",
    "It should prompt the user for the list of days that the business is open. You may assume that this list will be some subset of “Mon”, “Tues”, “Wed”, “Thurs”, “Fri”, “Sat”, “Sun”.\n",
    "There are two acceptable outputs:\n",
    "\n",
    "Your program can print out the schedule in the same way we did in Lecture. A correct solution like this will earn a maximum of 92% credit for this problem.\n",
    "\n",
    "Your program can return a list of lists (one for each day of the work week) that show who works on which day.\n",
    "For example, if the work week consists of Mon, Tue, Wed, Thurs, Fri, and the employee list is Ali, Ben, Charles, Deb, Ellie, Fred, Greg, Helen, Ian, Jack, then the output should be the followign list of lists:\n",
    "[['Ali, Fred'], ['Ben', 'Greg'], ['Charles', 'Helen'], ['Deb', 'Ian'], ['Ellie', 'Jack']]"
   ]
  },
  {
   "cell_type": "markdown",
   "metadata": {},
   "source": [
    "### 2.2.7 \n",
    "It can hold about 131072 songs"
   ]
  },
  {
   "cell_type": "code",
   "execution_count": 3,
   "metadata": {},
   "outputs": [
    {
     "data": {
      "text/plain": [
       "131072.0"
      ]
     },
     "execution_count": 3,
     "metadata": {},
     "output_type": "execute_result"
    }
   ],
   "source": [
    "(2**40)/(8*2**20)"
   ]
  },
  {
   "cell_type": "markdown",
   "metadata": {},
   "source": [
    "### 2.2.8\n",
    "    a) It means 15 times 3 first. We get 45. Then, 45 minus 2. We get 43 at final\n",
    "    \n",
    "    b) It means 3 times 2 first. We get 6. Then, 15 minus 6. We get 9 at final.\n",
    "    \n",
    "    c) It means 15 times 3 first. We get 45. Then, 45 divide by 2 and get the quotient 22 in which the digits after the decimal point are removed. \n",
    "    \n",
    "    d) It means 15 times 3 first. We get 45. Then, 45 divide by 2 and get the quotient 22.5 (doesn't remove the dicimal point)\n",
    "    \n",
    "    e) It means It means 15 times 3 first. Then, 45 divide by 2 and return the reminder\n",
    "    \n",
    "    f) It means 15 times 3 first. We get 45. Then, 45 divide by 2^0, which is still 2, and then return the quotient\n",
    "    \n",
    "    *: multiply\n",
    "    \n",
    "    -: minus\n",
    "    \n",
    "    //: divide by a number and get the quotient without the digits after the decimal point\n",
    "    \n",
    "    /: divide by a number and get the quotient with the digits after the decimal point\n",
    "    \n",
    "    %: divide by a number and return the reminder\n",
    "    \n",
    "    e: times ten to a number, same as *10^"
   ]
  },
  {
   "cell_type": "code",
   "execution_count": 8,
   "metadata": {},
   "outputs": [
    {
     "name": "stdout",
     "output_type": "stream",
     "text": [
      "43 9 22 22.5 1 22.5\n"
     ]
    }
   ],
   "source": [
    "a = 15 * 3 - 2 \n",
    "b = 15 - 3 * 2\n",
    "c = 15 * 3 // 2 \n",
    "d = 15 * 3 / 2\n",
    "e = 15 * 3 % 2 \n",
    "f = 15 * 3 / 2e0\n",
    "print(a,b,c,d,e,f,)"
   ]
  },
  {
   "cell_type": "markdown",
   "metadata": {},
   "source": [
    "### 2.3.4\n",
    "\n",
    "We can't use x = y, y = x to switch the value of two number. "
   ]
  },
  {
   "cell_type": "code",
   "execution_count": 15,
   "metadata": {},
   "outputs": [
    {
     "name": "stdout",
     "output_type": "stream",
     "text": [
      "1 2\n",
      "2 2\n",
      "2 2\n"
     ]
    }
   ],
   "source": [
    "x = 1\n",
    "y = 2\n",
    "print(x,y)\n",
    "x = y\n",
    "print(x,y)\n",
    "y = x\n",
    "print(x,y)"
   ]
  },
  {
   "cell_type": "markdown",
   "metadata": {},
   "source": [
    "Because, by doing so, it means to let x equal to y, then, y equal to x (which is already equal to y), which is same as y equal to y.\n",
    "\n",
    "In this process, we would lost the original x and get two y at final.\n",
    "\n",
    "If we want to swap two number, we can set a middle point to storage the original value of variable x:"
   ]
  },
  {
   "cell_type": "code",
   "execution_count": 14,
   "metadata": {},
   "outputs": [
    {
     "name": "stdout",
     "output_type": "stream",
     "text": [
      "1 2 0\n",
      "1 2 1\n",
      "2 2 1\n",
      "2 1 1\n"
     ]
    }
   ],
   "source": [
    "x = 1\n",
    "y = 2\n",
    "i = 0\n",
    "print(x,y,i)\n",
    "i = x\n",
    "print(x,y,i)\n",
    "x = y\n",
    "print(x,y,i)\n",
    "y = i\n",
    "print(x,y,i)"
   ]
  },
  {
   "cell_type": "markdown",
   "metadata": {},
   "source": [
    "Also there is another way to solve this problem:"
   ]
  },
  {
   "cell_type": "code",
   "execution_count": 19,
   "metadata": {},
   "outputs": [
    {
     "name": "stdout",
     "output_type": "stream",
     "text": [
      "1 2\n",
      "2 1\n"
     ]
    }
   ],
   "source": [
    "x = 1\n",
    "y = 2\n",
    "print(x,y)\n",
    "x,y = y,x\n",
    "print(x,y)"
   ]
  },
  {
   "cell_type": "markdown",
   "metadata": {},
   "source": [
    "### 4. employee list"
   ]
  },
  {
   "cell_type": "code",
   "execution_count": null,
   "metadata": {},
   "outputs": [],
   "source": [
    "Ali, Ben, Charles, Deb, Ellie, Fred, Greg, Helen, Ian, Jack"
   ]
  },
  {
   "cell_type": "code",
   "execution_count": 1,
   "metadata": {},
   "outputs": [
    {
     "name": "stdin",
     "output_type": "stream",
     "text": [
      "Please input your employees' name a b c d e\n"
     ]
    },
    {
     "name": "stdout",
     "output_type": "stream",
     "text": [
      "[['a b c d e'], [], [], [], []]\n"
     ]
    }
   ],
   "source": [
    "myEmployees = (input(\"Please input your employees' name\"))\n",
    "myEmployees = myEmployees.split(\", \")\n",
    " \n",
    "i = 0\n",
    "\n",
    "Mon = []\n",
    "Tues = []\n",
    "Wed = []\n",
    "Thurs = []\n",
    "Fri = []\n",
    "Worklist = [Mon,Tues,Wed,Thurs,Fri]\n",
    "\n",
    "for employee in myEmployees:\n",
    "    dayIndex = myEmployees.index(employee)%5\n",
    "    if(dayIndex==0):\n",
    "        Mon.append(str(employee))\n",
    "    if(dayIndex==1):\n",
    "        Tues.append(str(employee))\n",
    "    if(dayIndex==2):\n",
    "        Wed.append(str(employee))\n",
    "    if(dayIndex==3):\n",
    "        Thurs.append(str(employee))\n",
    "    if(dayIndex==4):\n",
    "        Fri.append(str(employee))\n",
    "    i=i+1\n",
    "        \n",
    "print(Worklist)"
   ]
  },
  {
   "cell_type": "markdown",
   "metadata": {},
   "source": [
    "I have a question for that, I feel like it is possible to brief my code by another for loop in side the for loop I have. But I don't know how to do that.\n",
    "\n",
    "And here is another version of code in case you want to include weekdays."
   ]
  },
  {
   "cell_type": "code",
   "execution_count": 2,
   "metadata": {},
   "outputs": [
    {
     "name": "stdin",
     "output_type": "stream",
     "text": [
      "Please input your employees' name a b c d e f\n"
     ]
    },
    {
     "name": "stdout",
     "output_type": "stream",
     "text": [
      "\n",
      " ['a b c d e f'] works on Monday\n",
      " [] works on Tuesday\n",
      " [] works on Wednesday\n",
      " [] works on Thursday\n",
      " [] works on Friday\n",
      "\n"
     ]
    }
   ],
   "source": [
    "myEmployees = (input(\"Please input your employees' name\"))\n",
    "myEmployees = myEmployees.split(\", \")\n",
    " \n",
    "i = 0\n",
    "\n",
    "Mon = []\n",
    "Tues = []\n",
    "Wed = []\n",
    "Thurs = []\n",
    "Fri = []\n",
    "\n",
    "\n",
    "for employee in myEmployees:\n",
    "    dayIndex = myEmployees.index(employee)%5\n",
    "    if(dayIndex==0):\n",
    "        Mon.append(str(employee))\n",
    "    if(dayIndex==1):\n",
    "        Tues.append(str(employee))\n",
    "    if(dayIndex==2):\n",
    "        Wed.append(str(employee))\n",
    "    if(dayIndex==3):\n",
    "        Thurs.append(str(employee))\n",
    "    if(dayIndex==4):\n",
    "        Fri.append(str(employee))\n",
    "    i=i+1\n",
    "        \n",
    "print(\"\\n\", Mon, \"works on Monday\\n\",Tues, \"works on Tuesday\\n\", Wed, \"works on Wednesday\\n\", Thurs, \"works on Thursday\\n\", Fri, \"works on Friday\\n\")"
   ]
  },
  {
   "cell_type": "code",
   "execution_count": 3,
   "metadata": {},
   "outputs": [
    {
     "name": "stdout",
     "output_type": "stream",
     "text": [
      "Before swapping: \n",
      "Value of x :  5  and y :  10\n",
      "After swapping: \n",
      "Value of x :  10  and y :  5\n"
     ]
    }
   ],
   "source": [
    "x = 5  # x = 0101 \n",
    "y = 10 # y = 1010 \n",
    "  \n",
    "print (\"Before swapping: \") \n",
    "print(\"Value of x : \", x, \" and y : \", y) \n",
    "  \n",
    "# Swap code \n",
    "x ^= y # x = 1111, y = 1010 \n",
    "y ^= x # y = 0101, x = 1111 \n",
    "x ^= y # x = 1010, y = 0101 \n",
    "  \n",
    "print (\"After swapping: \") \n",
    "print(\"Value of x : \", x, \" and y : \", y) "
   ]
  },
  {
   "cell_type": "code",
   "execution_count": 4,
   "metadata": {},
   "outputs": [
    {
     "name": "stdin",
     "output_type": "stream",
     "text": [
      "enter the name a b c d e f\n",
      "enter the days m t w\n"
     ]
    },
    {
     "name": "stdout",
     "output_type": "stream",
     "text": [
      "a works on m\n",
      "b works on t\n",
      "c works on w\n"
     ]
    },
    {
     "ename": "IndexError",
     "evalue": "list index out of range",
     "output_type": "error",
     "traceback": [
      "\u001b[0;31m---------------------------------------------------------------------------\u001b[0m",
      "\u001b[0;31mIndexError\u001b[0m                                Traceback (most recent call last)",
      "\u001b[0;32m<ipython-input-4-30f29c5e83ea>\u001b[0m in \u001b[0;36m<module>\u001b[0;34m\u001b[0m\n\u001b[1;32m      6\u001b[0m \u001b[0;32mfor\u001b[0m \u001b[0memployee\u001b[0m \u001b[0;32min\u001b[0m \u001b[0mmyEmployee\u001b[0m\u001b[0;34m:\u001b[0m\u001b[0;34m\u001b[0m\u001b[0;34m\u001b[0m\u001b[0m\n\u001b[1;32m      7\u001b[0m     \u001b[0mdayIndex\u001b[0m\u001b[0;34m=\u001b[0m\u001b[0mmyEmployee\u001b[0m\u001b[0;34m.\u001b[0m\u001b[0mindex\u001b[0m\u001b[0;34m(\u001b[0m\u001b[0memployee\u001b[0m\u001b[0;34m)\u001b[0m\u001b[0;34m%\u001b[0m\u001b[0;36m5\u001b[0m\u001b[0;34m\u001b[0m\u001b[0;34m\u001b[0m\u001b[0m\n\u001b[0;32m----> 8\u001b[0;31m     \u001b[0mprint\u001b[0m\u001b[0;34m(\u001b[0m\u001b[0memployee\u001b[0m\u001b[0;34m,\u001b[0m\u001b[0;34m\"works on\"\u001b[0m\u001b[0;34m,\u001b[0m\u001b[0mdaysOpen\u001b[0m\u001b[0;34m[\u001b[0m\u001b[0mdayIndex\u001b[0m\u001b[0;34m]\u001b[0m\u001b[0;34m)\u001b[0m\u001b[0;34m\u001b[0m\u001b[0;34m\u001b[0m\u001b[0m\n\u001b[0m\u001b[1;32m      9\u001b[0m \u001b[0;34m\u001b[0m\u001b[0m\n",
      "\u001b[0;31mIndexError\u001b[0m: list index out of range"
     ]
    }
   ],
   "source": [
    "myEmployee=input(\"enter the name\")\n",
    "daysOpen=input(\"enter the days\")\n",
    "myEmployee=myEmployee.split()\n",
    "daysOpen=daysOpen.split()\n",
    "\n",
    "for employee in myEmployee:\n",
    "    dayIndex=myEmployee.index(employee)%5\n",
    "    print(employee,\"works on\",daysOpen[dayIndex])\n",
    "\n"
   ]
  },
  {
   "cell_type": "code",
   "execution_count": null,
   "metadata": {},
   "outputs": [],
   "source": []
  }
 ],
 "metadata": {
  "kernelspec": {
   "display_name": "Python 3",
   "language": "python",
   "name": "python3"
  },
  "language_info": {
   "codemirror_mode": {
    "name": "ipython",
    "version": 3
   },
   "file_extension": ".py",
   "mimetype": "text/x-python",
   "name": "python",
   "nbconvert_exporter": "python",
   "pygments_lexer": "ipython3",
   "version": "3.8.3"
  }
 },
 "nbformat": 4,
 "nbformat_minor": 4
}
