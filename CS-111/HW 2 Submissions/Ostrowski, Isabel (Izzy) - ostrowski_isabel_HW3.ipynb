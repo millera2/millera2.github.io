{
 "cells": [
  {
   "cell_type": "code",
   "execution_count": 1,
   "metadata": {},
   "outputs": [
    {
     "ename": "SyntaxError",
     "evalue": "invalid syntax (<ipython-input-1-2e89b9484999>, line 1)",
     "output_type": "error",
     "traceback": [
      "\u001b[0;36m  File \u001b[0;32m\"<ipython-input-1-2e89b9484999>\"\u001b[0;36m, line \u001b[0;32m1\u001b[0m\n\u001b[0;31m    2.2.7\u001b[0m\n\u001b[0m       ^\u001b[0m\n\u001b[0;31mSyntaxError\u001b[0m\u001b[0;31m:\u001b[0m invalid syntax\n"
     ]
    }
   ],
   "source": [
    "2.2.7\n",
    "\tA hard drive in a computer can hold about a terabyte (2^40 bytes) of information. An average song requires about 8 megabytes (8*2^20 bytes). How many songs can the hard drive hold? \n",
    "\n",
    "The hard drive can hold about 125,000 songs. \n",
    "\n",
    "\n",
    "2.2.8 \n",
    "\tWhat is the value of each of the following Python expressions? Make sure you understand why in each case. \n",
    "\n",
    "15*3-2: 43\n",
    "15-3*2: 9\n",
    "15*3//2: 22\n",
    "15*3/2: 22.5\n",
    "15*3%2: 1\n",
    "15*3/2e0: 22.5\n",
    "\n",
    "2.3.4\n",
    "\tSuppose you wanted to swap the values of two variables named x and y. Why doesn’t the following \n",
    "x=y\n",
    "y=x\n",
    "work? Show a method that does work. \n",
    "\n",
    "The “x=y->y=x” method is insufficient because it neglects the important intermediate step where a temporary variable is created. The correct method would look similar to this:\n",
    "\n",
    "(assuming x=[value1]\n",
    "y=[value2])\n",
    "\n",
    "temp=x\n",
    "x=y\n",
    "y=temp\n",
    "\n",
    "\n",
    "4. \n",
    "\n",
    "myEmployees = [\"theBoss\", \"Pretha\", \"Yamani\", \"Izzy\", \"Safiya\", \"Jules\", \"Abdullah\", \"KC\", \"Maddie\", \"Fuzz\"]\n",
    "\n",
    "myEmployees.index(\"theBoss\")\n",
    "\n",
    "myEmployees = [\"theBoss\", \"Pretha\", \"Yamani\", \"Izzy\", \"Safiya\", \"Jules\", \"Abdullah\", \"KC\", \"Maddie\", \"Fuzz\"]\n",
    "\n",
    "daysOpen = [\"Monday\", \"Tuesday\", \"Wednesday\", \"Thursday\", \"Friday\", \"Saturday\", \"Sunday\"]\n",
    "\n",
    "\n",
    "for employee in myEmployees:\n",
    "    dayIndex = myEmployees.index(employee)%7\n",
    "    print(employee, \" works on \", daysOpen[dayIndex])\n",
    "    \n",
    "for employeeIndex in range(10):\n",
    "    dayIndex = employeeIndex%7\n",
    "    print(myEmployees[employeeIndex], \"is working on \", daysOpen[dayIndex]   )\n"
   ]
  },
  {
   "cell_type": "code",
   "execution_count": 2,
   "metadata": {},
   "outputs": [
    {
     "name": "stdin",
     "output_type": "stream",
     "text": [
      "Hi Boss! Please enter the names of your employees. Use space to separate the names and press enter when you are done. a b c d e f g\n"
     ]
    },
    {
     "name": "stdout",
     "output_type": "stream",
     "text": [
      "['a', 'b', 'c', 'd', 'e', 'f', 'g']\n"
     ]
    },
    {
     "name": "stdin",
     "output_type": "stream",
     "text": [
      "Hi Boss! Please enter the days that your business is open. Use space to separate the names and press enter when you are done. m t w \n"
     ]
    },
    {
     "name": "stdout",
     "output_type": "stream",
     "text": [
      "a works on m\n",
      "b works on t\n",
      "c works on w\n",
      "d works on m\n",
      "e works on t\n",
      "f works on w\n",
      "g works on m\n"
     ]
    }
   ],
   "source": [
    "prompt1 = input(\"Hi Boss! Please enter the names of your employees. Use space to separate the names and press enter when you are done.\")\n",
    "\n",
    "myEmployees = prompt1.split()\n",
    "\n",
    "print(myEmployees)\n",
    "\n",
    "prompt2 = input(\"Hi Boss! Please enter the days that your business is open. Use space to separate the names and press enter when you are done.\")\n",
    "\n",
    "daysOpen = prompt2.split()\n",
    "\n",
    "daysTotal = len(daysOpen)\n",
    "\n",
    "for employee in myEmployees: \n",
    "    dayIndex = myEmployees.index(employee)%daysTotal\n",
    "    print(employee, \"works on\", daysOpen[dayIndex])"
   ]
  },
  {
   "cell_type": "code",
   "execution_count": null,
   "metadata": {},
   "outputs": [],
   "source": []
  }
 ],
 "metadata": {
  "kernelspec": {
   "display_name": "Python 3",
   "language": "python",
   "name": "python3"
  },
  "language_info": {
   "codemirror_mode": {
    "name": "ipython",
    "version": 3
   },
   "file_extension": ".py",
   "mimetype": "text/x-python",
   "name": "python",
   "nbconvert_exporter": "python",
   "pygments_lexer": "ipython3",
   "version": "3.8.3"
  }
 },
 "nbformat": 4,
 "nbformat_minor": 4
}
