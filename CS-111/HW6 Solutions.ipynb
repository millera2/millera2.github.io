{
 "cells": [
  {
   "cell_type": "markdown",
   "metadata": {},
   "source": [
    "# 6.1.9"
   ]
  },
  {
   "cell_type": "code",
   "execution_count": 235,
   "metadata": {},
   "outputs": [],
   "source": [
    "def sentences(text):\n",
    "    count = 0\n",
    "    for i in range(len(text)):\n",
    "        if text[i]==\" \" and text[i-1] in [\".\", \"!\", \"?\"]:\n",
    "            count +=1\n",
    "    if text[-1] in [\".\", \"!\", \"?\"]:          ##Check the end of the string\n",
    "        count +=1\n",
    "    return(count)"
   ]
  },
  {
   "cell_type": "code",
   "execution_count": 236,
   "metadata": {},
   "outputs": [
    {
     "data": {
      "text/plain": [
       "4"
      ]
     },
     "execution_count": 236,
     "metadata": {},
     "output_type": "execute_result"
    }
   ],
   "source": [
    "sentences(\"This is the first sentence.     This is the 2nd!!! Is this the third????!  Yep, and thid is the fourth!\")"
   ]
  },
  {
   "cell_type": "markdown",
   "metadata": {},
   "source": [
    "# 6.2.6"
   ]
  },
  {
   "cell_type": "code",
   "execution_count": 271,
   "metadata": {},
   "outputs": [],
   "source": [
    "def strip(fileName, newFileName):\n",
    "    file = open(fileName, \"r\")\n",
    "    newFile = open(newFileName, \"w\")\n",
    "    \n",
    "    text = file.read()\n",
    "    text = text.replace(\" \", \"\")\n",
    "    text = text.replace(\"\\n\", \"\")\n",
    "    text = text.replace(\"\\t\", \"\")\n",
    "    \n",
    "    newFile.write(text)\n",
    "    \n",
    "    file.close()\n",
    "    newFile.close()\n"
   ]
  },
  {
   "cell_type": "code",
   "execution_count": 272,
   "metadata": {},
   "outputs": [],
   "source": [
    "strip(\"example.txt\", \"abc01.txt\")"
   ]
  },
  {
   "cell_type": "markdown",
   "metadata": {},
   "source": [
    "# 6.3.5"
   ]
  },
  {
   "cell_type": "code",
   "execution_count": 137,
   "metadata": {},
   "outputs": [],
   "source": [
    "def noVowels(text):\n",
    "    for vowel in [\"a\", \"e\", \"i\", \"o\", \"u\", \"A\", \"E\", \"I\", \"O\", \"U\"]:\n",
    "        text = text.replace(vowel, \"\")\n",
    "    return(text)"
   ]
  },
  {
   "cell_type": "code",
   "execution_count": 138,
   "metadata": {},
   "outputs": [
    {
     "data": {
      "text/plain": [
       "'Ths s  bg lng xmpl wth lts f vwls'"
      ]
     },
     "execution_count": 138,
     "metadata": {},
     "output_type": "execute_result"
    }
   ],
   "source": [
    "noVowels(\"This is a big long example with lots of vowels\")"
   ]
  },
  {
   "cell_type": "markdown",
   "metadata": {},
   "source": [
    "# 6.3.6-7"
   ]
  },
  {
   "cell_type": "code",
   "execution_count": 114,
   "metadata": {},
   "outputs": [],
   "source": [
    "def encode(text):\n",
    "    \n",
    "    evens=[]\n",
    "    odds = []\n",
    "    word = \"\"\n",
    "    \n",
    "    for i in range(len(text)):\n",
    "        if i%2==0:\n",
    "            evens.append(text[i])\n",
    "        else:\n",
    "            odds.append(text[i])\n",
    "            \n",
    "    for char in evens:\n",
    "        word = word+char\n",
    "    for char in odds:\n",
    "        word = word+char\n",
    "        \n",
    "    return(word)\n",
    "\n",
    "def decode(codeword):\n",
    "    numEvens = len(codeword)//2\n",
    "    word = \"\"\n",
    "    \n",
    "    for i in range(len(codeword)//2):\n",
    "        word = word+codeword[i]+codeword[i+numEvens+1]\n",
    "        \n",
    "    if len(codeword)%2 == 1:                            ## if the word has odd length, need to add the last even\n",
    "        word = word+codeword[len(codeword)//2]\n",
    "    \n",
    "    return(word)\n",
    "    \n",
    "        "
   ]
  },
  {
   "cell_type": "code",
   "execution_count": 249,
   "metadata": {},
   "outputs": [
    {
     "data": {
      "text/plain": [
       "'ti sabgln etta svr oghsi  i ogts hti eyln'"
      ]
     },
     "execution_count": 249,
     "metadata": {},
     "output_type": "execute_result"
    }
   ],
   "source": [
    "encode(\"this is a big long test that is very long\")"
   ]
  },
  {
   "cell_type": "code",
   "execution_count": 250,
   "metadata": {},
   "outputs": [
    {
     "data": {
      "text/plain": [
       "'this is a big long test that is very long'"
      ]
     },
     "execution_count": 250,
     "metadata": {},
     "output_type": "execute_result"
    }
   ],
   "source": [
    "decode(\"ti sabgln etta svr oghsi  i ogts hti eyln\")"
   ]
  },
  {
   "cell_type": "markdown",
   "metadata": {},
   "source": [
    "# 6.3.11"
   ]
  },
  {
   "cell_type": "code",
   "execution_count": 251,
   "metadata": {},
   "outputs": [],
   "source": [
    "def reverse(text):\n",
    "    new = \"\"\n",
    "    for i in range(len(text)):\n",
    "        new += text[-i-1]\n",
    "    return new"
   ]
  },
  {
   "cell_type": "code",
   "execution_count": 252,
   "metadata": {},
   "outputs": [
    {
     "data": {
      "text/plain": [
       "'tset a si siht'"
      ]
     },
     "execution_count": 252,
     "metadata": {},
     "output_type": "execute_result"
    }
   ],
   "source": [
    "reverse(\"this is a test\")"
   ]
  },
  {
   "cell_type": "markdown",
   "metadata": {},
   "source": [
    "# 6.3.19-20"
   ]
  },
  {
   "cell_type": "code",
   "execution_count": 241,
   "metadata": {},
   "outputs": [],
   "source": [
    "def encypher(text, shift, enc = True):\n",
    "    new = \"\"\n",
    "    \n",
    "    if enc:\n",
    "    \n",
    "        for char in text:\n",
    "            if char !=\" \":\n",
    "                currentOrd = ord(char)\n",
    "                newOrd = (currentOrd - 65 + shift)%26 +65\n",
    "\n",
    "                new = new+chr(newOrd)\n",
    "            else:\n",
    "                new = new+\" \"\n",
    "    else:\n",
    "        for char in text:\n",
    "            if char != \" \":\n",
    "                currentOrd = ord(char)\n",
    "                newOrd = (currentOrd - 65 - shift)%26 +65\n",
    "\n",
    "                new = new+chr(newOrd)\n",
    "            else:\n",
    "                new = new+\" \"\n",
    "    \n",
    "    return(new)"
   ]
  },
  {
   "cell_type": "code",
   "execution_count": 242,
   "metadata": {},
   "outputs": [
    {
     "data": {
      "text/plain": [
       "'UIJT JT B UFTU'"
      ]
     },
     "execution_count": 242,
     "metadata": {},
     "output_type": "execute_result"
    }
   ],
   "source": [
    "encypher(\"THIS IS A TEST\", 1)"
   ]
  },
  {
   "cell_type": "markdown",
   "metadata": {},
   "source": [
    "# 6.6.5"
   ]
  },
  {
   "cell_type": "code",
   "execution_count": 265,
   "metadata": {},
   "outputs": [],
   "source": [
    "import matplotlib as mpl\n",
    "import matplotlib.pyplot as pyplot\n",
    "\n",
    "\n",
    "def dotplot(text1, text2, length):\n",
    "\n",
    "    text1 = text1.lower()\n",
    "    text2 = text2.lower()\n",
    "\n",
    "    x = []\n",
    "    y = []\n",
    "    for i in range(len(text1)-length):\n",
    "        for j in range(len(text2)-length):\n",
    "            \n",
    "            ngram1 = \"\"\n",
    "            ngram2 = \"\"\n",
    "            \n",
    "            for l in range(length):\n",
    "                \n",
    "                ngram1 += text1[i+l]\n",
    "                ngram2 += text2[j+l]\n",
    "                \n",
    "                \n",
    "            if ngram1 == ngram2:\n",
    "                x.append(i)\n",
    "                y.append(j)\n",
    "\n",
    "    import matplotlib.pyplot as pyplot\n",
    "\n",
    "    pyplot.scatter(x,y)\n",
    "    pyplot.xlabel(\"Original Text\")\n",
    "    pyplot.ylabel(\"Plagiarized Text\")\n",
    "    pyplot.title(\"Comparison of n-grams\")\n",
    "    \n"
   ]
  },
  {
   "cell_type": "code",
   "execution_count": 270,
   "metadata": {},
   "outputs": [
    {
     "data": {
      "image/png": "[encoded data removed]",
      "text/plain": [
       "<Figure size 600x400 with 1 Axes>"
      ]
     },
     "metadata": {
      "needs_background": "light"
     },
     "output_type": "display_data"
    }
   ],
   "source": [
    "text1 = \"All this changed in 1914. The First World War involved all major powers and indeed all European states except Spain, the Netherlands, the three Scandinavian countries and Switzerland. What is more, troops from the world overseas were, often for the first time, sent to fight and work outside their own regions.\"\n",
    "text2 = \"All of this changed in 1914. World War I involved all major powers and all European states except the three Scandinavian countries, Spain, the Netherlands, and Switzerland. In addition, troops from the world overseas were sent to fight and work outside their own regions.\"\n",
    "dotplot(text1,text2, 8)"
   ]
  },
  {
   "cell_type": "code",
   "execution_count": null,
   "metadata": {},
   "outputs": [],
   "source": []
  },
  {
   "cell_type": "code",
   "execution_count": null,
   "metadata": {},
   "outputs": [],
   "source": []
  },
  {
   "cell_type": "code",
   "execution_count": null,
   "metadata": {},
   "outputs": [],
   "source": []
  }
 ],
 "metadata": {
  "kernelspec": {
   "display_name": "Python 3",
   "language": "python",
   "name": "python3"
  },
  "language_info": {
   "codemirror_mode": {
    "name": "ipython",
    "version": 3
   },
   "file_extension": ".py",
   "mimetype": "text/x-python",
   "name": "python",
   "nbconvert_exporter": "python",
   "pygments_lexer": "ipython3",
   "version": "3.8.5"
  }
 },
 "nbformat": 4,
 "nbformat_minor": 4
}
