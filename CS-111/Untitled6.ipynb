{
 "cells": [
  {
   "cell_type": "markdown",
   "metadata": {},
   "source": [
    "Input: the list of numbers. (length n)\n",
    "\n",
    "5, 1, 8, 10, 4, 13\n",
    "\n",
    "- First, let's say that the first element of the list is the \"result\"\n",
    "- For each element k from k=2 up to k=n\n",
    "    if the kth element of the list is smaller than the result, then, then the kth element becomes new result.\n",
    "    otherwise, current minimum stays the same.\n",
    "- return result"
   ]
  },
  {
   "cell_type": "code",
   "execution_count": 2,
   "metadata": {},
   "outputs": [
    {
     "ename": "NameError",
     "evalue": "name 'IDLE' is not defined",
     "output_type": "error",
     "traceback": [
      "\u001b[0;31m---------------------------------------------------------------------------\u001b[0m",
      "\u001b[0;31mNameError\u001b[0m                                 Traceback (most recent call last)",
      "\u001b[0;32m<ipython-input-2-192a050033cc>\u001b[0m in \u001b[0;36m<module>\u001b[0;34m\u001b[0m\n\u001b[0;32m----> 1\u001b[0;31m \u001b[0mIDLE\u001b[0m\u001b[0;34m\u001b[0m\u001b[0;34m\u001b[0m\u001b[0m\n\u001b[0m",
      "\u001b[0;31mNameError\u001b[0m: name 'IDLE' is not defined"
     ]
    }
   ],
   "source": [
    "import"
   ]
  },
  {
   "cell_type": "code",
   "execution_count": 16,
   "metadata": {},
   "outputs": [
    {
     "ename": "SyntaxError",
     "evalue": "can't assign to operator (<ipython-input-16-bbe512b53228>, line 1)",
     "output_type": "error",
     "traceback": [
      "\u001b[0;36m  File \u001b[0;32m\"<ipython-input-16-bbe512b53228>\"\u001b[0;36m, line \u001b[0;32m1\u001b[0m\n\u001b[0;31m    my-age = 21\u001b[0m\n\u001b[0m               ^\u001b[0m\n\u001b[0;31mSyntaxError\u001b[0m\u001b[0;31m:\u001b[0m can't assign to operator\n"
     ]
    }
   ],
   "source": [
    "my-age = 21"
   ]
  },
  {
   "cell_type": "code",
   "execution_count": 10,
   "metadata": {},
   "outputs": [
    {
     "name": "stdin",
     "output_type": "stream",
     "text": [
      "How many employees? 8\n"
     ]
    }
   ],
   "source": [
    "numEmployee = int(input(\"How many employees?\"))"
   ]
  },
  {
   "cell_type": "code",
   "execution_count": null,
   "metadata": {},
   "outputs": [],
   "source": []
  },
  {
   "cell_type": "code",
   "execution_count": 11,
   "metadata": {},
   "outputs": [
    {
     "name": "stdin",
     "output_type": "stream",
     "text": [
      "Employee 1's name:  Ali\n",
      "Employee 2's name:  Bob\n",
      "Employee 3's name:  Chad\n",
      "Employee 4's name:  Deb\n",
      "Employee 5's name:  Evan\n",
      "Employee 6's name:  Fred\n",
      "Employee 7's name:  Greg\n"
     ]
    }
   ],
   "source": [
    "names = []\n",
    "\n",
    "for i in range(1, numEmployee):\n",
    "    name = input(\"Employee {}'s name: \".format(i))\n",
    "    names.append(name)\n",
    "    "
   ]
  },
  {
   "cell_type": "code",
   "execution_count": 30,
   "metadata": {},
   "outputs": [
    {
     "ename": "SyntaxError",
     "evalue": "unexpected EOF while parsing (<ipython-input-30-1506dc0faa2f>, line 2)",
     "output_type": "error",
     "traceback": [
      "\u001b[0;36m  File \u001b[0;32m\"<ipython-input-30-1506dc0faa2f>\"\u001b[0;36m, line \u001b[0;32m2\u001b[0m\n\u001b[0;31m    print(++(++c)\u001b[0m\n\u001b[0m                 ^\u001b[0m\n\u001b[0;31mSyntaxError\u001b[0m\u001b[0;31m:\u001b[0m unexpected EOF while parsing\n"
     ]
    }
   ],
   "source": [
    "\n"
   ]
  },
  {
   "cell_type": "code",
   "execution_count": 40,
   "metadata": {},
   "outputs": [],
   "source": [
    "def getNames():\n",
    "    names = []\n",
    "    print(\"Hey boss.  What are your employees names?\")\n",
    "    name = input(\"Employee 1\")\n",
    "    names.append(name)\n",
    "    employeeCount = 1\n",
    "    while input(\"Any more employees?  y or n\")==\"y\":\n",
    "        employeeCount+=1\n",
    "        name = input(\"Employee {} name:\".format(employeeCount))\n",
    "        names.append(name)\n",
    "    print(\"Your employees are:\")\n",
    "    return names"
   ]
  },
  {
   "cell_type": "code",
   "execution_count": 42,
   "metadata": {},
   "outputs": [
    {
     "name": "stdout",
     "output_type": "stream",
     "text": [
      "Hey boss.  What are your employees names?\n"
     ]
    },
    {
     "name": "stdin",
     "output_type": "stream",
     "text": [
      "Employee 1 a\n",
      "Any more employees?  y or n y\n",
      "Employee 2 name: b\n",
      "Any more employees?  y or n y\n",
      "Employee 3 name: c\n",
      "Any more employees?  y or n y\n",
      "Employee 4 name: c\n",
      "Any more employees?  y or n y\n",
      "Employee 5 name: d\n",
      "Any more employees?  y or n y\n",
      "Employee 6 name: e\n",
      "Any more employees?  y or n y\n",
      "Employee 7 name: f\n",
      "Any more employees?  y or n y\n",
      "Employee 8 name: g\n",
      "Any more employees?  y or n y\n",
      "Employee 9 name: g\n",
      "Any more employees?  y or n y\n",
      "Employee 10 name: h\n",
      "Any more employees?  y or n n\n"
     ]
    },
    {
     "name": "stdout",
     "output_type": "stream",
     "text": [
      "Your employees are:\n",
      "['a', 'b', 'c', 'c', 'd', 'e', 'f', 'g', 'g', 'h']\n"
     ]
    }
   ],
   "source": [
    "def getDays():\n",
    "    days = []\n",
    "    print(\"Damn boss, looking so competent today.  What days are we open?\")\n",
    "    day = input(\"\")"
   ]
  },
  {
   "cell_type": "code",
   "execution_count": 31,
   "metadata": {},
   "outputs": [],
   "source": [
    "def getNames():\n",
    "    names = input(\"Yo boss, who's workin this week? Enter names seperated by spaces.\")\n",
    "    names = names.split(\", \")\n",
    "    return names\n",
    "\n",
    "def getDays():\n",
    "    days = input(\"\"\"Hey boss lady.  You're really rocking that cardigan today.\n",
    "I like your hoodies too.\n",
    "And the chacos... so... uh...practical.\n",
    "What days are we open?\"\"\")\n",
    "    days = days.split(\", \")\n",
    "    return days\n",
    "\n",
    "\n",
    "def schedule():\n",
    "    employees = getNames()\n",
    "    days = getDays()\n",
    "    numberOfEmployees = len(employees)\n",
    "    numberOfDays = len(days)\n",
    "    for employee in employees:\n",
    "        dayNumber = employees.index(employee)%numberOfDays\n",
    "        print(employee, \" will work on \", days[dayNumber])"
   ]
  },
  {
   "cell_type": "code",
   "execution_count": 33,
   "metadata": {},
   "outputs": [
    {
     "name": "stdin",
     "output_type": "stream",
     "text": [
      "Yo boss, who's workin this week? Enter names seperated by spaces. Ali, Bob, Chad, Debbie, Ellie, Frederico, George, Helen, Whitepersonname\n",
      "Hey boss lady.  You're really rocking that cardigan today.\n",
      "I like your hoodies too.\n",
      "And the chacos... so... uh...practical.\n",
      "What days are we open? monday, wed\n"
     ]
    },
    {
     "name": "stdout",
     "output_type": "stream",
     "text": [
      "Ali  will work on  monday\n",
      "Bob  will work on  wed\n",
      "Chad  will work on  monday\n",
      "Debbie  will work on  wed\n",
      "Ellie  will work on  monday\n",
      "Frederico  will work on  wed\n",
      "George  will work on  monday\n",
      "Helen  will work on  wed\n",
      "Whitepersonname  will work on  monday\n"
     ]
    }
   ],
   "source": [
    "schedule()"
   ]
  },
  {
   "cell_type": "code",
   "execution_count": 7,
   "metadata": {},
   "outputs": [],
   "source": [
    "class employee:\n",
    "    def __init__(self, name, age, sex):\n",
    "        self.name = name\n",
    "        self.age = age\n",
    "        self.sex = sex\n",
    "        self.schedule = []\n",
    "        self.unset = 0\n",
    "        self.availability = False\n",
    "        \n",
    "    def sexChange(self, newSex):\n",
    "        self.sex = newSex\n",
    "    \n"
   ]
  },
  {
   "cell_type": "code",
   "execution_count": 8,
   "metadata": {},
   "outputs": [],
   "source": [
    "ali = employee(\"ali\", 36, \"F\")\n",
    "bob = employee(\"bob\", 18, \"M\")"
   ]
  },
  {
   "cell_type": "code",
   "execution_count": 9,
   "metadata": {},
   "outputs": [],
   "source": [
    "ali.sexChange(\"Other\")"
   ]
  },
  {
   "cell_type": "code",
   "execution_count": 10,
   "metadata": {},
   "outputs": [
    {
     "data": {
      "text/plain": [
       "'Other'"
      ]
     },
     "execution_count": 10,
     "metadata": {},
     "output_type": "execute_result"
    }
   ],
   "source": [
    "ali.sex"
   ]
  },
  {
   "cell_type": "code",
   "execution_count": 11,
   "metadata": {},
   "outputs": [],
   "source": [
    "ali.newThing = 7"
   ]
  },
  {
   "cell_type": "code",
   "execution_count": 12,
   "metadata": {},
   "outputs": [
    {
     "data": {
      "text/plain": [
       "7"
      ]
     },
     "execution_count": 12,
     "metadata": {},
     "output_type": "execute_result"
    }
   ],
   "source": [
    "ali.newThing"
   ]
  },
  {
   "cell_type": "code",
   "execution_count": 39,
   "metadata": {},
   "outputs": [],
   "source": [
    "class student:\n",
    "    def __init__(self, age=0, major=\"\", gender=\"\"):\n",
    "        self.age = age\n",
    "        self.major = major\n",
    "        self.formerMajors = []\n",
    "        self.gender = gender\n",
    "        self.studyTime = 0\n",
    "        self.exerciseTime = 0\n",
    "        self.socialMedia = \"\"\n",
    "    \n",
    "    def study(self, time):\n",
    "        self.studyTime += time\n",
    "        \n",
    "    def changeGender(self, gender):\n",
    "        self.gender=gender\n",
    "        \n",
    "    def changeMajor(self, major):\n",
    "        if(self.major!=\"\"):\n",
    "            self.formerMajors.append(self.major)\n",
    "        self.major = major\n",
    "        "
   ]
  },
  {
   "cell_type": "code",
   "execution_count": 40,
   "metadata": {},
   "outputs": [],
   "source": [
    "ali = student(36)\n"
   ]
  },
  {
   "cell_type": "code",
   "execution_count": 41,
   "metadata": {},
   "outputs": [],
   "source": [
    "ali.changeMajor(\"Art\")"
   ]
  },
  {
   "cell_type": "code",
   "execution_count": 42,
   "metadata": {},
   "outputs": [],
   "source": [
    "ali.changeMajor(\"Music\")"
   ]
  },
  {
   "cell_type": "code",
   "execution_count": 43,
   "metadata": {},
   "outputs": [
    {
     "data": {
      "text/plain": [
       "['Art']"
      ]
     },
     "execution_count": 43,
     "metadata": {},
     "output_type": "execute_result"
    }
   ],
   "source": [
    "ali.formerMajors"
   ]
  },
  {
   "cell_type": "code",
   "execution_count": 22,
   "metadata": {},
   "outputs": [
    {
     "data": {
      "text/plain": [
       "50"
      ]
     },
     "execution_count": 22,
     "metadata": {},
     "output_type": "execute_result"
    }
   ],
   "source": [
    "ali.studyTime"
   ]
  },
  {
   "cell_type": "code",
   "execution_count": 44,
   "metadata": {},
   "outputs": [],
   "source": [
    "myList = []"
   ]
  },
  {
   "cell_type": "code",
   "execution_count": 45,
   "metadata": {},
   "outputs": [],
   "source": [
    "myList.append([1,2,3])"
   ]
  },
  {
   "cell_type": "code",
   "execution_count": 46,
   "metadata": {},
   "outputs": [],
   "source": [
    "myList.append([\"a\",\"b\",\"c\"])"
   ]
  },
  {
   "cell_type": "code",
   "execution_count": 48,
   "metadata": {},
   "outputs": [
    {
     "name": "stdout",
     "output_type": "stream",
     "text": [
      "[[1, 2, 3], ['a', 'b', 'c']]\n"
     ]
    }
   ],
   "source": [
    "print(myList)"
   ]
  },
  {
   "cell_type": "code",
   "execution_count": 50,
   "metadata": {},
   "outputs": [
    {
     "data": {
      "text/plain": [
       "'b'"
      ]
     },
     "execution_count": 50,
     "metadata": {},
     "output_type": "execute_result"
    }
   ],
   "source": [
    "myList[1][1]"
   ]
  },
  {
   "cell_type": "code",
   "execution_count": 51,
   "metadata": {},
   "outputs": [],
   "source": [
    "myList = [[\"Ali, Fred\"], [\"Ben\", \"Greg\"], [\"Charles\", \"Helen\"], [\"Deb\", \"Ian\"], [\"Ellie\", \"Jack\"]]"
   ]
  },
  {
   "cell_type": "code",
   "execution_count": 52,
   "metadata": {},
   "outputs": [
    {
     "name": "stdout",
     "output_type": "stream",
     "text": [
      "[['Ali, Fred'], ['Ben', 'Greg'], ['Charles', 'Helen'], ['Deb', 'Ian'], ['Ellie', 'Jack']]\n"
     ]
    }
   ],
   "source": [
    "print(myList)"
   ]
  },
  {
   "cell_type": "code",
   "execution_count": null,
   "metadata": {},
   "outputs": [],
   "source": []
  }
 ],
 "metadata": {
  "kernelspec": {
   "display_name": "Python 3",
   "language": "python",
   "name": "python3"
  },
  "language_info": {
   "codemirror_mode": {
    "name": "ipython",
    "version": 3
   },
   "file_extension": ".py",
   "mimetype": "text/x-python",
   "name": "python",
   "nbconvert_exporter": "python",
   "pygments_lexer": "ipython3",
   "version": "3.8.3"
  }
 },
 "nbformat": 4,
 "nbformat_minor": 4
}
