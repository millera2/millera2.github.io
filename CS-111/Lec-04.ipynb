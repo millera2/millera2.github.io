{
 "cells": [
  {
   "cell_type": "markdown",
   "metadata": {},
   "source": [
    "# Week 4\n",
    "\n",
    "## Monday, Sept 07\n",
    "\n",
    "*Texbook coverage: 3.1-3.2*"
   ]
  },
  {
   "cell_type": "markdown",
   "metadata": {},
   "source": [
    "### Abstract Data Types\n",
    "\n",
    "We've seen lots of ADTs so far (lists, strings, etc etc).  \n",
    "\n",
    "An abstract data type is a \"data structure\", ie, a code object that has two important qualities:\n",
    "\n",
    "1) Attributes.  Data associated with the specific ADT.\n",
    "2) Operations.  Specific functions that the ADT can perform.  \n",
    "\n",
    "In Python, our implementation of ADT is called a \"class\".  Classes in python define both the class variables (data) and methods.\n",
    "\n",
    "Example:  strings are ADTs.  One \"method\" that they can perform is to split.\n"
   ]
  },
  {
   "cell_type": "code",
   "execution_count": 7,
   "metadata": {},
   "outputs": [],
   "source": [
    "myExmapleString = \"This is what I made up for class\"\n"
   ]
  },
  {
   "cell_type": "markdown",
   "metadata": {},
   "source": [
    "Right now, I've created an object, \"myExampleString\".  It's an \"instantiation\" of the \"string\" class. Since it's a string, it can do all the things strings do.  Ex, split:"
   ]
  },
  {
   "cell_type": "code",
   "execution_count": 9,
   "metadata": {},
   "outputs": [
    {
     "data": {
      "text/plain": [
       "['This', 'is', 'what', 'I', 'made', 'up', 'for', 'class']"
      ]
     },
     "execution_count": 9,
     "metadata": {},
     "output_type": "execute_result"
    }
   ],
   "source": [
    "myExmapleString.split()"
   ]
  },
  {
   "cell_type": "markdown",
   "metadata": {},
   "source": [
    "R students:  careful!  the \".\" is special and only for class methods and attributes in Python. \n",
    "\n",
    "A \"method\" is a function specific to a class.\n",
    "\n",
    "**Classes vs Objects**\n",
    "\n",
    "A class is a \"blueprint\", i.e. a specification or explanation for what the object is and what it can do.\n",
    "\n",
    "An object is a specific \"instantiation\" (example, one of) the class.\n",
    "\n",
    "Ex:  The blueprints specify how to make a thing, but that's different from an example object you create.\n",
    "\n",
    "Code example:  \"string\" is a class, \"myExampleString\" was an object of that class.\n",
    "\n",
    "Biology example:  the \"class\" is the info in the DNA, and the object is you!\n",
    "\n",
    "The \"tutle\" class gives immediate, visual feedback about the ojects you create.\n",
    "\n",
    "\n",
    "\n",
    "\n"
   ]
  },
  {
   "cell_type": "markdown",
   "metadata": {},
   "source": [
    "## Wednesday Sept 09\n",
    "*Textbook: 3.1-3.2*\n",
    "\n",
    "### Functional Abstraction with Turtles\n",
    "\n",
    "We've seen basic functionality of the turtle library.  (You should be experimenting with this on your own!  Draw some cool pictures!\n",
    "\n",
    "In the beginning, functional abstraction will be an \"iterative\" process -- you'll write some neat code, and then realize you want to use it in other places. \n",
    "\n",
    "Let me remind you of two things:\n",
    "\n",
    "1. You're intelligent and curious, and you like to think about new things.\n",
    "2. You are mortal, and someday you'll die.  You don't want to spend the next 60-80 years re-solving boring old problems, re-coding boring old solutions.  Let's do something new!\n",
    "\n",
    "**Functional abstraction** is how we re-use our old solutions so that we can make something new.  For us Computer Scientists, we'll use it *as much as we possibly can*.\n",
    "\n",
    "Let's look at an example:  drawing a square.\n",
    "\n",
    "First, let's do it on the most basic terms:"
   ]
  },
  {
   "cell_type": "code",
   "execution_count": 1,
   "metadata": {},
   "outputs": [],
   "source": [
    "import turtle\n",
    "\n",
    "bob = turtle.Turtle()    #constructor\n",
    "\n",
    "for i in range(4):\n",
    "    bob.forward(100)\n",
    "    bob.left(90)\n",
    "    \n",
    "    \n",
    "    \n",
    "    \n",
    "    \n",
    "    \n",
    "    "
   ]
  },
  {
   "cell_type": "markdown",
   "metadata": {},
   "source": [
    "If we wanted more squares, we'd have to repeat the entire block of code again.\n",
    "\n",
    "How can we \"abstract\" this process, so that we can easily draw a square just by typing a single command?  Write a function!\n",
    "\n",
    "\n",
    "\n",
    "\n",
    "\n",
    "\n"
   ]
  },
  {
   "cell_type": "code",
   "execution_count": 1,
   "metadata": {},
   "outputs": [],
   "source": [
    "import turtle\n",
    "\n",
    "bob = turtle.Turtle()\n",
    "\n",
    "jill = turtle.Turtle()\n",
    "\n",
    "\n",
    "def drawSquare():\n",
    "    for i in range(4):\n",
    "        bob.forward(100)\n",
    "        bob.left(90)\n",
    "    \n",
    "drawSquare()"
   ]
  },
  {
   "cell_type": "markdown",
   "metadata": {},
   "source": [
    "Great, but this draws one specific square:  starts from the origin, side length 100.\n",
    "\n",
    "If we care about squares, we might want to draw others.  What are different properties that those squares might have?\n",
    "\n",
    "Idea:  what if we want different turtles to be able to draw squares?\n",
    "\n",
    "Answer:  pass an argument to the function.  I.e., the stuff in the parenthases.\n",
    "\n",
    "\n",
    "\n"
   ]
  },
  {
   "cell_type": "code",
   "execution_count": 1,
   "metadata": {},
   "outputs": [],
   "source": [
    "import turtle\n",
    "\n",
    "bob = turtle.Turtle()\n",
    "\n",
    "jill = turtle.Turtle()\n",
    "\n",
    "\n",
    "def drawSquare(myTurtle):      # myTurtle is the turle object passed to the function\n",
    "    for i in range(4):\n",
    "        myTurtle.forward(100)\n",
    "        myTurtle.left(90)\n",
    "        \n",
    "drawSquare(jill)"
   ]
  },
  {
   "cell_type": "markdown",
   "metadata": {},
   "source": [
    "Ok, what if we want to specify side length?\n",
    "\n",
    "Note:  might want a default side length.  Say, default = 100"
   ]
  },
  {
   "cell_type": "code",
   "execution_count": 1,
   "metadata": {},
   "outputs": [],
   "source": [
    "import turtle\n",
    "\n",
    "bob = turtle.Turtle()\n",
    "\n",
    "jill = turtle.Turtle()\n",
    "\n",
    "\n",
    "def drawSquare(myTurtle, sideLength=100):      # myTurtle is the turle object passed to the function\n",
    "    for i in range(4):\n",
    "        myTurtle.forward(sideLength)\n",
    "        myTurtle.left(90)\n",
    "        \n",
    "        \n",
    "        \n",
    "drawSquare(jill)\n",
    "\n",
    "drawSquare(bob, 200)"
   ]
  },
  {
   "cell_type": "markdown",
   "metadata": {},
   "source": [
    "Idea: don't always want to start from the same position.  Supply arguments for different starting points.\n",
    "\n"
   ]
  },
  {
   "cell_type": "code",
   "execution_count": 1,
   "metadata": {},
   "outputs": [],
   "source": [
    "import turtle\n",
    "\n",
    "bob = turtle.Turtle()\n",
    "\n",
    "jill = turtle.Turtle()\n",
    "\n",
    "\n",
    "def drawSquare(myTurtle, x, y, sideLength=100):      # myTurtle is the turle object passed to the function\n",
    "    myTurtle.goto(x,y)\n",
    "    for i in range(4):\n",
    "        myTurtle.forward(sideLength)\n",
    "        myTurtle.left(90)\n",
    "        \n",
    "        \n",
    "        \n",
    "drawSquare(jill, -50, 100)\n",
    "\n",
    "drawSquare(bob, 70, -70, 200)\n",
    "\n",
    "drawSquare(jill, 100, 200, 40)\n",
    "\n",
    "drawSquare(bob,  -50, -100, 300)"
   ]
  },
  {
   "cell_type": "markdown",
   "metadata": {},
   "source": [
    "### Programming in Style\n",
    "*Sec 3.4 and 3.5*"
   ]
  },
  {
   "cell_type": "markdown",
   "metadata": {},
   "source": [
    "- Docstrings\n",
    "\n",
    "- Comments\n",
    "\n",
    "- Magic Numbers\n",
    "\n",
    "- Return vs Print"
   ]
  },
  {
   "cell_type": "code",
   "execution_count": null,
   "metadata": {},
   "outputs": [],
   "source": []
  },
  {
   "cell_type": "code",
   "execution_count": null,
   "metadata": {},
   "outputs": [],
   "source": []
  },
  {
   "cell_type": "markdown",
   "metadata": {},
   "source": [
    "### main()"
   ]
  },
  {
   "cell_type": "markdown",
   "metadata": {},
   "source": []
  },
  {
   "cell_type": "code",
   "execution_count": null,
   "metadata": {},
   "outputs": [],
   "source": []
  },
  {
   "cell_type": "code",
   "execution_count": null,
   "metadata": {},
   "outputs": [],
   "source": []
  },
  {
   "cell_type": "code",
   "execution_count": null,
   "metadata": {},
   "outputs": [],
   "source": []
  },
  {
   "cell_type": "markdown",
   "metadata": {},
   "source": [
    "### Scope and Namespaces\n",
    "*Sec 3.6*\n"
   ]
  },
  {
   "cell_type": "markdown",
   "metadata": {},
   "source": []
  },
  {
   "cell_type": "code",
   "execution_count": 5,
   "metadata": {},
   "outputs": [
    {
     "name": "stdout",
     "output_type": "stream",
     "text": [
      "be excellent to eachother and party on, dude\n"
     ]
    },
    {
     "ename": "NameError",
     "evalue": "name 'bill' is not defined",
     "output_type": "error",
     "traceback": [
      "\u001b[0;31m---------------------------------------------------------------------------\u001b[0m",
      "\u001b[0;31mNameError\u001b[0m                                 Traceback (most recent call last)",
      "\u001b[0;32m<ipython-input-5-4f43f44e8024>\u001b[0m in \u001b[0;36m<module>\u001b[0;34m\u001b[0m\n\u001b[1;32m      6\u001b[0m \u001b[0mbillAndTed\u001b[0m\u001b[0;34m(\u001b[0m\u001b[0;34m)\u001b[0m\u001b[0;34m\u001b[0m\u001b[0;34m\u001b[0m\u001b[0m\n\u001b[1;32m      7\u001b[0m \u001b[0;34m\u001b[0m\u001b[0m\n\u001b[0;32m----> 8\u001b[0;31m \u001b[0mbill\u001b[0m\u001b[0;34m\u001b[0m\u001b[0;34m\u001b[0m\u001b[0m\n\u001b[0m",
      "\u001b[0;31mNameError\u001b[0m: name 'bill' is not defined"
     ]
    }
   ],
   "source": [
    "def billAndTed():\n",
    "    bill = \"be excellent to eachother \"\n",
    "    ted = \"and party on, dude\"\n",
    "    print(bill+ted)\n",
    "    \n",
    "billAndTed()\n",
    "\n",
    "bill"
   ]
  },
  {
   "cell_type": "code",
   "execution_count": null,
   "metadata": {},
   "outputs": [],
   "source": []
  },
  {
   "cell_type": "code",
   "execution_count": null,
   "metadata": {},
   "outputs": [],
   "source": []
  },
  {
   "cell_type": "code",
   "execution_count": null,
   "metadata": {},
   "outputs": [],
   "source": []
  },
  {
   "cell_type": "markdown",
   "metadata": {},
   "source": [
    "### Return vs Print"
   ]
  },
  {
   "cell_type": "markdown",
   "metadata": {},
   "source": []
  },
  {
   "cell_type": "code",
   "execution_count": null,
   "metadata": {},
   "outputs": [],
   "source": []
  },
  {
   "cell_type": "code",
   "execution_count": null,
   "metadata": {},
   "outputs": [],
   "source": []
  },
  {
   "cell_type": "markdown",
   "metadata": {},
   "source": []
  },
  {
   "cell_type": "code",
   "execution_count": null,
   "metadata": {},
   "outputs": [],
   "source": []
  },
  {
   "cell_type": "code",
   "execution_count": null,
   "metadata": {},
   "outputs": [],
   "source": []
  }
 ],
 "metadata": {
  "kernelspec": {
   "display_name": "Python 3",
   "language": "python",
   "name": "python3"
  },
  "language_info": {
   "codemirror_mode": {
    "name": "ipython",
    "version": 3
   },
   "file_extension": ".py",
   "mimetype": "text/x-python",
   "name": "python",
   "nbconvert_exporter": "python",
   "pygments_lexer": "ipython3",
   "version": "3.8.3"
  }
 },
 "nbformat": 4,
 "nbformat_minor": 4
}
