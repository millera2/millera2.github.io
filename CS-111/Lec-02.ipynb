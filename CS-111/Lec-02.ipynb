{
 "cells": [
  {
   "cell_type": "markdown",
   "metadata": {},
   "source": [
    "# CS 111 Week 2\n",
    "---"
   ]
  },
  {
   "cell_type": "markdown",
   "metadata": {},
   "source": [
    "## Monday Aug 24\n",
    "*Texbook sections covered: 1.3*"
   ]
  },
  {
   "cell_type": "markdown",
   "metadata": {},
   "source": [
    "### Time Complexity - An Example With Loops\n",
    "\n",
    "Last time, we wrote a function that finds the sum of a list of numbers input to it.  Let's review the code:"
   ]
  },
  {
   "cell_type": "code",
   "execution_count": 22,
   "metadata": {},
   "outputs": [],
   "source": [
    "def sumNumbers(ourNumbers):\n",
    "    result = 0 \n",
    "    for number in ourNumbers:\n",
    "        result = result + number\n",
    "    return result\n",
    "\n"
   ]
  },
  {
   "cell_type": "markdown",
   "metadata": {},
   "source": [
    "**There's a black box here:** the \"list\" data structure.\n",
    "\n",
    "In particular, we're assuming that the input to this function is a list.  In Python, this means something very specific.  Let's talk about lists for a minute, because **they're the most important built-in data structure in Python**"
   ]
  },
  {
   "cell_type": "markdown",
   "metadata": {},
   "source": [
    "\n",
    "\n",
    "\n",
    "\n",
    "\n",
    "\n",
    "\n",
    "\n",
    "\n",
    "\n",
    "\n",
    "\n",
    "\n"
   ]
  },
  {
   "cell_type": "markdown",
   "metadata": {},
   "source": [
    "**Lists are exactly what they sound like**:  An ordered sequence of data.  *(In R, the analagous data type is a \"column vector\", c()*).  \n",
    "\n",
    "Let's take a minute to appreciate the important functions of a list.\n",
    "\n",
    "Spoiler alert for the future:  In Python, every list is an \"object\". Thus, every list has built-in functions for working with it:  \n",
    "\n",
    "- How long is the list?\n",
    "- What are the elements?\n",
    "- How do you add to (or delete from) the list?\n",
    "- Lots more\n",
    "\n",
    "Let's do a simple example:"
   ]
  },
  {
   "cell_type": "code",
   "execution_count": 37,
   "metadata": {},
   "outputs": [
    {
     "name": "stdout",
     "output_type": "stream",
     "text": [
      "[1, 2, 3, 4]\n",
      "3\n",
      "1\n",
      "[1, 2, 3, 4, 10, 10]\n",
      "[1, 2, 3, 4, 10]\n"
     ]
    }
   ],
   "source": [
    "myList = [1,2,3,4]\n",
    "\n",
    "#print (useful for debugging)\n",
    "\n",
    "print(myList)\n",
    "\n",
    "#access individual element\n",
    "\n",
    "print(myList[2])\n",
    "\n",
    "#note:  list indexes start at zero\n",
    "\n",
    "print(myList[0])\n",
    "\n",
    "\n",
    "3+myList[2]\n",
    "\n",
    "#find the length of the list\n",
    "\n",
    "len(myList)\n",
    "\n",
    "#append an element to the list\n",
    "\n",
    "myList.append(10)\n",
    "myList.append(10)\n",
    "\n",
    "print(myList)\n",
    "\n",
    "myList.pop()\n",
    "\n",
    "print(myList)\n"
   ]
  },
  {
   "cell_type": "markdown",
   "metadata": {},
   "source": [
    "All of the above operations are \"elementary\" operations when deciding time complexity.  Let's assume they always take the same amount of time."
   ]
  },
  {
   "cell_type": "markdown",
   "metadata": {},
   "source": [
    "\n",
    "\n",
    "\n",
    "\n",
    "\n",
    "\n",
    "\n",
    "\n",
    "\n",
    "\n",
    "\n"
   ]
  },
  {
   "cell_type": "markdown",
   "metadata": {},
   "source": [
    "### Time Complexity of the `sumNumbers` function"
   ]
  },
  {
   "cell_type": "code",
   "execution_count": 44,
   "metadata": {},
   "outputs": [
    {
     "name": "stdout",
     "output_type": "stream",
     "text": [
      "apple\n",
      "banana\n",
      "cherries\n",
      "donuts\n"
     ]
    }
   ],
   "source": [
    "def sumNumbers(ourNumbers):\n",
    "    result = 0 \n",
    "    for number in ourNumbers:\n",
    "        result = result + number\n",
    "    return result\n",
    "\n",
    "sumNumbers( [1, 2, 3, 6, 8, 12, 122] )\n",
    "\n",
    "exampleList = [\"apple\", \"banana\", \"cherries\", \"donuts\"]\n",
    "\n",
    "for thingie in exampleList:\n",
    "    print(thingie)"
   ]
  },
  {
   "cell_type": "markdown",
   "metadata": {},
   "source": [
    "**Question**:  What's the time complexity of this function?\n",
    "\n",
    "**Answer**: There's a tricky detail: the \"for\" loop.  \n",
    "\n",
    "\n",
    "\n",
    "\n",
    "\n",
    "\n",
    "\n",
    "\n"
   ]
  },
  {
   "cell_type": "markdown",
   "metadata": {},
   "source": [
    "The `for` loop executes once for each element of the list `ourNumbers`.\n",
    "\n",
    "We call it 'n', the lenth of the list.  Here, our `sumNumbers` algorithm will run n+1\n",
    "\n",
    "\n",
    "\n",
    "\n",
    "\n",
    "### Functional Abstraction Example - Means\n",
    "\n",
    "We wrote code for a function that sums up a list of numbers.  How about to find the mean (average) of a list of numbers?\n",
    "\n",
    "First, let's think about the procedure for finding the mean of a list of numbers:\n",
    "\n",
    "1. Add them up\n",
    "2. Divide how many there are\n",
    "\n",
    "\n",
    "\n",
    "\n",
    "Notice that we've already written the code for step 1.  Instead of re-writing it, let's use it for our new function!"
   ]
  },
  {
   "cell_type": "markdown",
   "metadata": {},
   "source": [
    "\n",
    "\n",
    "\n",
    "\n",
    "\n",
    "\n",
    "\n",
    "\n",
    "\n",
    "\n"
   ]
  },
  {
   "cell_type": "markdown",
   "metadata": {},
   "source": [
    "**Challenge**:  using the `sumNumbers()` function above, write a new funcition called `getMean()` that takes a list of numbers for input, and returns the mean/average of the numbers.\n",
    "\n",
    "Not including the `def` line and the `return` line, it's possible to write this function with only two lines of code.  Can you do it?\n"
   ]
  },
  {
   "cell_type": "code",
   "execution_count": 1,
   "metadata": {},
   "outputs": [],
   "source": [
    "def getMean(numbers):\n",
    "    result = sumNumbers(numbers)\n",
    "    result = result/len(numbers)\n",
    "    return result\n",
    "\n",
    "\n",
    "    \n",
    "    \n",
    "    \n",
    "    "
   ]
  },
  {
   "cell_type": "markdown",
   "metadata": {},
   "source": [
    "This example is simple, but it shows just how important **functional abstraction** is.  We computer scientists don't want to keep solving the same problems over and over again -- we want to use our old solutions to tackly bigger, more interesting problems!"
   ]
  },
  {
   "cell_type": "markdown",
   "metadata": {},
   "source": [
    "\n",
    "\n",
    "\n",
    "\n",
    "\n",
    "\n",
    "\n"
   ]
  },
  {
   "cell_type": "markdown",
   "metadata": {},
   "source": [
    "### Optimizing Algorithms -- A Smoothing Algorithm.\n",
    "\n",
    "Let's examine a specific algorithm: a \"smoothing\" algorithm.  There are two points I want to take away from this example:\n",
    "\n",
    "1. Let's practice computing the time complexity of an algorithm.\n",
    "2. Let's observe that some algorithms are better than others.\n",
    "\n",
    "See p13 in the text for details on this algorithm."
   ]
  },
  {
   "cell_type": "markdown",
   "metadata": {},
   "source": [
    "\n",
    "\n",
    "\n",
    "\n",
    "\n",
    "\n",
    "\n",
    "\n",
    "\n",
    "\n",
    "\n",
    "\n",
    "\n"
   ]
  },
  {
   "cell_type": "markdown",
   "metadata": {},
   "source": [
    "Let's talk through the time complexity of the first (\"naive\") version of the algorithm.\n",
    "\n",
    "First, an overview:\n",
    "\n"
   ]
  },
  {
   "cell_type": "markdown",
   "metadata": {},
   "source": [
    "In large datasets that possibly contain lots of fluctuation, we frequently wish to \"smooth\" the data by taking averages of \"nearby\" values.  The picture is worth a thousand words:  see p13.\n",
    "\n",
    "Let's use a small, example dataset to work with when writing the algorithm:  \n",
    "\n",
    "18.9, 18.9, 19.0, 19.2, 19.3, 19.3, 19.2, 22.1, 19.4, 19.3\n",
    "\n",
    "We'll smooth this out with a \"window size\" of 5.  But generally, we want to be able to choose any size algorithm.\n",
    "\n",
    "**Inputs**\n",
    "\n",
    "- a list of *n* numbers (i.e., length of list is n)\n",
    "- the window size, *w* \n",
    "\n",
    "**Algorithm**\n",
    "\n",
    "1. Create an empty list of averages.\n",
    "\n",
    "\n",
    "Note:  total number of windows is n-w+1\n",
    "2. For all values *d* from 1 n-w+1, \n",
    "      find the average of d, d+1, d+2, d+w-1 \n",
    "      (i.e. the w numbers starting at d)\n",
    "      append the new average to the list of averages\n",
    "      \n",
    "3. return the list of averages\n",
    "\n",
    "\n",
    "Now, what about time complexity?\n",
    "\n",
    "Note: each average takes w operations.  How many averages did we need?  After you figure it out, multiply together!\n",
    "\n",
    "1+\n",
    "\n",
    "\n",
    "\n",
    "\n",
    "\n",
    "\n"
   ]
  },
  {
   "cell_type": "code",
   "execution_count": 51,
   "metadata": {},
   "outputs": [
    {
     "data": {
      "text/plain": [
       "15"
      ]
     },
     "execution_count": 51,
     "metadata": {},
     "output_type": "execute_result"
    }
   ],
   "source": [
    "(1 + 2 + 3 + 4 + 5)/5"
   ]
  },
  {
   "cell_type": "markdown",
   "metadata": {},
   "source": [
    "That's one way to skin this cat.  Meow!  Might there be a better way?\n",
    "\n",
    "Of course, if you've read the book, you know there is.  Let's think through how it works, and why it's better.\n",
    "\n"
   ]
  },
  {
   "cell_type": "markdown",
   "metadata": {},
   "source": [
    "### We Should Really Talk about Binary\n",
    "\n",
    "In reference to computation, you've probably heard about all the zeroes and ones.  Binary!  But, what exactly does that mean?\n",
    "\n",
    "CS 111 isn't an engineering course, and we won't focus on the details of how computer hardware works.  But, let's **do** discuss a few basics.\n",
    "\n",
    "\n",
    "\n",
    "\n"
   ]
  },
  {
   "cell_type": "markdown",
   "metadata": {},
   "source": [
    "\n",
    "\n",
    "\n",
    "\n",
    "\n",
    "\n",
    "\n",
    "\n",
    "\n",
    "\n",
    "\n",
    "\n",
    "\n"
   ]
  },
  {
   "cell_type": "markdown",
   "metadata": {},
   "source": [
    "#### How do computers \"remember\"?  How do they \"think\"?\n",
    "\n",
    "The fundamental unit of computer hardware is a transistor.  \n",
    "\n",
    "A transistor is a **switch**.  Like a light switch, it's either on or off.\n",
    "\n",
    "If it's on, that means \"1\".\n",
    "If it's off, that means \"0\".\n",
    "\n",
    "Remember, a transistor is a physical object.  They're very small, but it's a real-live machine.\n",
    "\n",
    "Modern computer processors (CPUs) may contain over a **trillion** transistors.  Holy crap, dude.  "
   ]
  },
  {
   "cell_type": "markdown",
   "metadata": {},
   "source": [
    "\n",
    "\n",
    "\n",
    "\n",
    "\n",
    "\n",
    "\n",
    "\n",
    "\n",
    "\n"
   ]
  },
  {
   "cell_type": "markdown",
   "metadata": {},
   "source": [
    "So, all of the information in a computer is ultimatey a long list of 0's and 1's.  But, how does that work?\n",
    "\n",
    "In short: binary code can express all of the information contained in other media (numbers, text, sound, video, etc etc).  \n",
    "\n",
    "Let's start with the simplest example:  numbers.  "
   ]
  },
  {
   "cell_type": "markdown",
   "metadata": {},
   "source": [
    "\n",
    "\n",
    "\n",
    "\n",
    "\n",
    "\n",
    "\n",
    "\n",
    "\n",
    "\n",
    "\n",
    "\n",
    "\n",
    "\n"
   ]
  },
  {
   "cell_type": "markdown",
   "metadata": {},
   "source": [
    "First, let's remember our \"normal\" way of writing nubmers:  base 10.\n",
    "\n",
    "Consider the following example:  the number 182,736.\n",
    "\n",
    "![](https://www.cplusplus.com/doc/hex/base_decimal.gif)"
   ]
  },
  {
   "cell_type": "markdown",
   "metadata": {},
   "source": [
    "Wait, how would base 16 work?\n",
    "\n",
    "In base 16, we need 16 different numberal:\n",
    "\n",
    "0, 1, 2, 3, 4, 5, 6, 7, 8, 9, a, b, c, d, e, f"
   ]
  },
  {
   "cell_type": "markdown",
   "metadata": {},
   "source": [
    "That's why we call it \"base 10\" -- each place in the number is a power of 10.\n",
    "\n",
    "So, let's look at base 2!\n",
    "\n",
    "![](https://brookieboo143.files.wordpress.com/2012/09/04-binary-base1.png)\n"
   ]
  },
  {
   "cell_type": "markdown",
   "metadata": {},
   "source": [
    "\n",
    "\n",
    "\n",
    "\n",
    "\n",
    "\n",
    "\n",
    "\n",
    "\n",
    "\n"
   ]
  },
  {
   "cell_type": "markdown",
   "metadata": {},
   "source": [
    "**Example**:  write \"21\" in binary.\n",
    "\n",
    "Remember, there are only two numerals (possibilities) in each place:  either 0 or 1.\n",
    "\n",
    "\n",
    "Biggest power of 2:  2^4 = 16.  I.e., we've got a \"1\" in the 5th place\n",
    "\n",
    "1 x x x x\n",
    "\n",
    "Now, 5 is left.  The biggest power of 2 is 2^2.  So, we've got a \"1\" in the 3rd spot\n",
    "\n",
    "   1 0 1 x x\n",
    "\n",
    "Lastly, we've taken care of 16 and 4, so only 1 is left (out of 21).  The biggest power of 2 is 2^0.  Wer're done:\n",
    "\n",
    "1 0 1 0 1\n",
    "\n",
    "First:  1*2^0 = 1\n",
    "Next: 1*2^2 = 4\n",
    "Last: 1*2^4 = 16\n",
    "\n",
    "\n",
    "Example:  Write 29 in base 2.\n",
    "\n",
    "29 = 16 + 8 + 4 + 1\n",
    "\n",
    "1 1 1 0 1\n",
    "_ _ _ _ _\n",
    "\n",
    "\n",
    "Hey! this is me making new notes!\n",
    "\n",
    "\n",
    "\n",
    "\n",
    "\n",
    "\n",
    "\n",
    "\n"
   ]
  },
  {
   "cell_type": "markdown",
   "metadata": {},
   "source": [
    "\n",
    "\n",
    "\n",
    "\n",
    "\n",
    "\n",
    "\n",
    "\n",
    "\n",
    "\n",
    "\n",
    "\n"
   ]
  },
  {
   "cell_type": "markdown",
   "metadata": {},
   "source": [
    "### Computer Images:  Bitmaps\n",
    "\n",
    "You guys know from Snapchat and Youtube that computers can \"remember\" and process images.  But how does that work in binary?\n",
    "\n",
    "The answer:  bitmaps.\n",
    "\n",
    "\n",
    "\n",
    "\n",
    "\n"
   ]
  },
  {
   "cell_type": "markdown",
   "metadata": {},
   "source": [
    "\n",
    "\n",
    "\n",
    "\n",
    "\n",
    "\n",
    "\n",
    "\n",
    "\n",
    "\n"
   ]
  },
  {
   "cell_type": "code",
   "execution_count": null,
   "metadata": {},
   "outputs": [],
   "source": []
  },
  {
   "cell_type": "code",
   "execution_count": null,
   "metadata": {},
   "outputs": [],
   "source": []
  },
  {
   "cell_type": "markdown",
   "metadata": {},
   "source": [
    "![](https://i.pinimg.com/originals/cb/05/15/cb0515b14ba9490e96a681156166aca4.png)"
   ]
  },
  {
   "cell_type": "markdown",
   "metadata": {},
   "source": [
    "All images are store as matrices (i.e., just lists of numbers).  At each location, a color value is stored.\n",
    "\n",
    "We have binary representations of colors, the most common is 24bit RBG\n",
    "\n",
    "I.e., we're always mixing \"primary colors\" to make specific color.  "
   ]
  },
  {
   "cell_type": "markdown",
   "metadata": {},
   "source": [
    "\n",
    "\n",
    "\n",
    "\n",
    "\n",
    "\n",
    "\n",
    "\n",
    "\n",
    "\n",
    "\n",
    "\n"
   ]
  },
  {
   "cell_type": "markdown",
   "metadata": {},
   "source": [
    "### ASCII -- Encoding Text and Special Characters\n",
    "\n",
    "We've seen how binary can be used to represent numbers.  What about the rest of the English alphabet (and all alphabets!).\n",
    "\n",
    "The answer:  ASCII (The **A**merican **S**tandard **C**ode for **I**nformation **I**nterchange)\n",
    "\n",
    "Simply put, ASCII is like a huge dictionary that assigns a binary code to every letter in every alphabet.  "
   ]
  },
  {
   "cell_type": "markdown",
   "metadata": {},
   "source": [
    "\n",
    "\n",
    "\n",
    "\n",
    "\n",
    "\n",
    "\n",
    "\n",
    "\n",
    "\n"
   ]
  },
  {
   "cell_type": "markdown",
   "metadata": {},
   "source": [
    "![](https://i.pinimg.com/originals/8b/43/a8/8b43a81418d71cf1a25ba26077770cff.png)\n",
    "\n",
    "\n",
    "\n"
   ]
  },
  {
   "cell_type": "markdown",
   "metadata": {},
   "source": [
    "\n",
    "\n",
    "\n",
    "\n",
    "\n",
    "\n",
    "\n"
   ]
  },
  {
   "cell_type": "markdown",
   "metadata": {},
   "source": [
    "### Descisions in a Binary World:  Truth Tables\n",
    "\n",
    "We've seen how we can represent numbers and language using binary code.  But, how can computers make \"decisions\"?\n",
    "\n",
    "Computers use **logic gates** to decide what to do.  These are physical devices on the CPU (like transistors) that perfom basic logical operations.  Modern CPUs have many millions of logic gates pysically printed on the chip.\n",
    "\n",
    "There are three core logic gates:\n",
    "\n",
    "- AND\n",
    "- OR\n",
    "- NOT (inversion)\n",
    "\n",
    "Like all elementary operations, these are **binary operators** -- they act on inputs a pair at a time.  I'm going to use the same notation as your book, and call these two inputs `a` and `b`.\n",
    "\n",
    "Let's look at the truth tables.  Remember, in binary logic\n",
    "\n",
    "- `1` means \"true\"\n",
    "- `0` means \"false\"\n",
    "\n",
    "\n",
    "\n"
   ]
  },
  {
   "cell_type": "markdown",
   "metadata": {},
   "source": [
    "#### Truth Table for `AND`\n",
    "\n",
    "|  `a`   |  `b`    |  `a and b`   |\n",
    "| :---:  | :-----: |  :---------: |\n",
    "|    1   |    1    |      1       |\n",
    "|    0   |    1    |      0       |\n"
   ]
  },
  {
   "cell_type": "code",
   "execution_count": 4,
   "metadata": {},
   "outputs": [],
   "source": [
    "a = 2.0**100"
   ]
  },
  {
   "cell_type": "code",
   "execution_count": 5,
   "metadata": {},
   "outputs": [],
   "source": [
    "b = 2**100"
   ]
  },
  {
   "cell_type": "code",
   "execution_count": 6,
   "metadata": {},
   "outputs": [
    {
     "data": {
      "text/plain": [
       "0.0"
      ]
     },
     "execution_count": 6,
     "metadata": {},
     "output_type": "execute_result"
    }
   ],
   "source": [
    "a-b"
   ]
  },
  {
   "cell_type": "code",
   "execution_count": 7,
   "metadata": {},
   "outputs": [
    {
     "data": {
      "text/plain": [
       "1267650600228229401496703205376"
      ]
     },
     "execution_count": 7,
     "metadata": {},
     "output_type": "execute_result"
    }
   ],
   "source": [
    "b"
   ]
  },
  {
   "cell_type": "code",
   "execution_count": 8,
   "metadata": {},
   "outputs": [
    {
     "data": {
      "text/plain": [
       "1.2676506002282294e+30"
      ]
     },
     "execution_count": 8,
     "metadata": {},
     "output_type": "execute_result"
    }
   ],
   "source": [
    "a"
   ]
  },
  {
   "cell_type": "code",
   "execution_count": 9,
   "metadata": {},
   "outputs": [
    {
     "data": {
      "text/plain": [
       "1.0"
      ]
     },
     "execution_count": 9,
     "metadata": {},
     "output_type": "execute_result"
    }
   ],
   "source": [
    "a/b"
   ]
  },
  {
   "cell_type": "code",
   "execution_count": 16,
   "metadata": {},
   "outputs": [
    {
     "data": {
      "text/plain": [
       "6"
      ]
     },
     "execution_count": 16,
     "metadata": {},
     "output_type": "execute_result"
    }
   ],
   "source": [
    "56//9"
   ]
  },
  {
   "cell_type": "code",
   "execution_count": 17,
   "metadata": {},
   "outputs": [
    {
     "data": {
      "text/plain": [
       "2"
      ]
     },
     "execution_count": 17,
     "metadata": {},
     "output_type": "execute_result"
    }
   ],
   "source": [
    "56%9"
   ]
  },
  {
   "cell_type": "code",
   "execution_count": null,
   "metadata": {},
   "outputs": [],
   "source": []
  },
  {
   "cell_type": "markdown",
   "metadata": {},
   "source": [
    "Example:  Books on a bookshelf, equal number on each row, ordered from bottom left.\n",
    "\n",
    "Example:  \n",
    "\n",
    "for i in range(0,100):\n",
    "\n"
   ]
  }
 ],
 "metadata": {
  "kernelspec": {
   "display_name": "Python 3",
   "language": "python",
   "name": "python3"
  },
  "language_info": {
   "codemirror_mode": {
    "name": "ipython",
    "version": 3
   },
   "file_extension": ".py",
   "mimetype": "text/x-python",
   "name": "python",
   "nbconvert_exporter": "python",
   "pygments_lexer": "ipython3",
   "version": "3.8.3"
  }
 },
 "nbformat": 4,
 "nbformat_minor": 4
}
