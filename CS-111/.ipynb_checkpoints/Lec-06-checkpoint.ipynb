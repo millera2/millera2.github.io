{
 "cells": [
  {
   "cell_type": "markdown",
   "metadata": {},
   "source": [
    "# Week 4\n",
    "\n",
    "## Monday, Sept 07\n",
    "\n",
    "*Texbook coverage: 3.1-3.2*"
   ]
  },
  {
   "cell_type": "markdown",
   "metadata": {},
   "source": [
    "### Abstract Data Types\n",
    "\n",
    "We've seen lots of ADTs so far (lists, strings, etc etc).  \n",
    "\n",
    "An abstract data type is a \"data structure\", ie, a code object that has two important qualities:\n",
    "\n",
    "1) Attributes.  Data associated with the specific ADT.\n",
    "2) Operations.  Specific functions that the ADT can perform.  \n",
    "\n",
    "In Python, our implementation of ADT is called a \"class\".  Classes in python define both the class variables (data) and methods.\n",
    "\n",
    "Example:  strings are ADTs.  One \"method\" that they can perform is to split.\n"
   ]
  },
  {
   "cell_type": "code",
   "execution_count": 7,
   "metadata": {},
   "outputs": [],
   "source": [
    "myExmapleString = \"This is what I made up for class\"\n"
   ]
  },
  {
   "cell_type": "markdown",
   "metadata": {},
   "source": [
    "Right now, I've created an object, \"myExampleString\".  It's an \"instantiation\" of the \"string\" class. Since it's a string, it can do all the things strings do.  Ex, split:"
   ]
  },
  {
   "cell_type": "code",
   "execution_count": 9,
   "metadata": {},
   "outputs": [
    {
     "data": {
      "text/plain": [
       "['This', 'is', 'what', 'I', 'made', 'up', 'for', 'class']"
      ]
     },
     "execution_count": 9,
     "metadata": {},
     "output_type": "execute_result"
    }
   ],
   "source": [
    "myExmapleString.split()"
   ]
  },
  {
   "cell_type": "markdown",
   "metadata": {},
   "source": [
    "R students:  careful!  the \".\" is special and only for class methods and attributes in Python. \n",
    "\n",
    "A \"method\" is a function specific to a class.\n",
    "\n",
    "**Classes vs Objects**\n",
    "\n",
    "A class is a \"blueprint\", i.e. a specification or explanation for what the object is and what it can do.\n",
    "\n",
    "An object is a specific \"instantiation\" (example, one of) the class.\n",
    "\n",
    "Ex:  The blueprints specify how to make a thing, but that's different from an example object you create.\n",
    "\n",
    "Code example:  \"string\" is a class, \"myExampleString\" was an object of that class.\n",
    "\n",
    "Biology example:  the \"class\" is the info in the DNA, and the object is you!\n",
    "\n",
    "The \"tutle\" class gives immediate, visual feedback about the ojects you create.\n",
    "\n",
    "\n",
    "\n",
    "\n"
   ]
  },
  {
   "cell_type": "markdown",
   "metadata": {},
   "source": [
    "## Wednesday Sept 09\n",
    "*Textbook: 3.1-3.2*\n",
    "\n",
    "### Functional Abstraction with Turtles\n",
    "\n",
    "We've seen basic functionality of the turtle library.  (You should be experimenting with this on your own!  Draw some cool pictures!\n",
    "\n",
    "In the beginning, functional abstraction will be an \"iterative\" process -- you'll write some neat code, and then realize you want to use it in other places. \n",
    "\n",
    "Let me remind you of two things:\n",
    "\n",
    "1. You're intelligent and curious, and you like to think about new things.\n",
    "2. You are mortal, and someday you'll die.  You don't want to spend the next 60-80 years re-solving boring old problems, re-coding boring old solutions.  Let's do something new!\n",
    "\n",
    "**Functional abstraction** is how we re-use our old solutions so that we can make something new.  For us Computer Scientists, we'll use it *as much as we possibly can*.\n",
    "\n",
    "Let's look at an example:  drawing a square.\n",
    "\n",
    "First, let's do it on the most basic terms:"
   ]
  },
  {
   "cell_type": "code",
   "execution_count": 1,
   "metadata": {},
   "outputs": [],
   "source": [
    "import turtle\n",
    "\n",
    "bob = turtle.Turtle()    #constructor\n",
    "\n",
    "for i in range(4):\n",
    "    bob.forward(100)\n",
    "    bob.left(90)\n",
    "    \n",
    "    \n",
    "    \n",
    "    \n",
    "    \n",
    "    \n",
    "    "
   ]
  },
  {
   "cell_type": "markdown",
   "metadata": {},
   "source": [
    "If we wanted more squares, we'd have to repeat the entire block of code again.\n",
    "\n",
    "How can we \"abstract\" this process, so that we can easily draw a square just by typing a single command?  Write a function!\n",
    "\n",
    "\n",
    "\n",
    "\n",
    "\n",
    "\n"
   ]
  },
  {
   "cell_type": "code",
   "execution_count": 1,
   "metadata": {},
   "outputs": [],
   "source": [
    "import turtle\n",
    "\n",
    "bob = turtle.Turtle()\n",
    "\n",
    "jill = turtle.Turtle()\n",
    "\n",
    "\n",
    "def drawSquare():\n",
    "    for i in range(4):\n",
    "        bob.forward(100)\n",
    "        bob.left(90)\n",
    "    \n",
    "drawSquare()"
   ]
  },
  {
   "cell_type": "markdown",
   "metadata": {},
   "source": [
    "Great, but this draws one specific square:  starts from the origin, side length 100.\n",
    "\n",
    "If we care about squares, we might want to draw others.  What are different properties that those squares might have?\n",
    "\n",
    "Idea:  what if we want different turtles to be able to draw squares?\n",
    "\n",
    "Answer:  pass an argument to the function.  I.e., the stuff in the parenthases.\n",
    "\n",
    "\n",
    "\n"
   ]
  },
  {
   "cell_type": "code",
   "execution_count": 1,
   "metadata": {},
   "outputs": [],
   "source": [
    "import turtle\n",
    "\n",
    "bob = turtle.Turtle()\n",
    "\n",
    "jill = turtle.Turtle()\n",
    "\n",
    "\n",
    "def drawSquare(myTurtle):      # myTurtle is the turle object passed to the function\n",
    "    for i in range(4):\n",
    "        myTurtle.forward(100)\n",
    "        myTurtle.left(90)\n",
    "        \n",
    "drawSquare(jill)"
   ]
  },
  {
   "cell_type": "markdown",
   "metadata": {},
   "source": [
    "Ok, what if we want to specify side length?\n",
    "\n",
    "Note:  might want a default side length.  Say, default = 100"
   ]
  },
  {
   "cell_type": "code",
   "execution_count": 1,
   "metadata": {},
   "outputs": [],
   "source": [
    "import turtle\n",
    "\n",
    "bob = turtle.Turtle()\n",
    "\n",
    "jill = turtle.Turtle()\n",
    "\n",
    "\n",
    "def drawSquare(myTurtle, sideLength=100):      # myTurtle is the turle object passed to the function\n",
    "    for i in range(4):\n",
    "        myTurtle.forward(sideLength)\n",
    "        myTurtle.left(90)\n",
    "        \n",
    "        \n",
    "        \n",
    "drawSquare(jill)\n",
    "\n",
    "drawSquare(bob, 200)"
   ]
  },
  {
   "cell_type": "markdown",
   "metadata": {},
   "source": [
    "Idea: don't always want to start from the same position.  Supply arguments for different starting points.\n",
    "\n"
   ]
  },
  {
   "cell_type": "code",
   "execution_count": 2,
   "metadata": {},
   "outputs": [],
   "source": [
    "import turtle\n",
    "\n",
    "bob = turtle.Turtle()\n",
    "\n",
    "jill = turtle.Turtle()\n",
    "\n",
    "\n",
    "def drawSquare(myTurtle, x, y, sideLength=100):      # myTurtle is the turle object passed to the function\n",
    "    myTurtle.goto(x,y)\n",
    "    for i in range(4):\n",
    "        myTurtle.forward(sideLength)\n",
    "        myTurtle.left(90)\n",
    "        \n",
    "        \n",
    "        \n",
    "drawSquare(jill, -50, 100)\n",
    "\n",
    "drawSquare(bob, 70, -70, 200)\n",
    "\n",
    "drawSquare(jill, 100, 200, 40)\n",
    "\n",
    "drawSquare(bob,  -50, -100, 300)"
   ]
  },
  {
   "cell_type": "markdown",
   "metadata": {},
   "source": [
    "### Programming in Style\n",
    "*Sec 3.4 and 3.5*"
   ]
  },
  {
   "cell_type": "markdown",
   "metadata": {},
   "source": [
    "- Docstrings\n",
    "\n",
    "\n",
    "Text description of a program or function.  Always use them!\n",
    "\n",
    "Use three \"\"\"\n",
    "\n",
    "Example:\n",
    "\n",
    "\n",
    "\n",
    "\n",
    "\n",
    "\n"
   ]
  },
  {
   "cell_type": "code",
   "execution_count": 1,
   "metadata": {},
   "outputs": [],
   "source": [
    "def helloWorld():\n",
    "    \"\"\"Example program that prints \"Hello world!\"\n",
    "    Doesn't really do much.  Just an example.\n",
    "    \"\"\"\n",
    "    print(\"Hello world!\")"
   ]
  },
  {
   "cell_type": "code",
   "execution_count": 2,
   "metadata": {},
   "outputs": [
    {
     "name": "stdout",
     "output_type": "stream",
     "text": [
      "Help on function helloWorld in module __main__:\n",
      "\n",
      "helloWorld()\n",
      "    Example program that prints \"Hello world!\"\n",
      "    Doesn't really do much.  Just an example.\n",
      "\n"
     ]
    }
   ],
   "source": [
    "help(helloWorld)"
   ]
  },
  {
   "cell_type": "code",
   "execution_count": 4,
   "metadata": {},
   "outputs": [],
   "source": [
    "import turtle_squares\n",
    "\n"
   ]
  },
  {
   "cell_type": "code",
   "execution_count": 5,
   "metadata": {},
   "outputs": [
    {
     "name": "stdout",
     "output_type": "stream",
     "text": [
      "Help on module turtle_squares:\n",
      "\n",
      "NAME\n",
      "    turtle_squares - Draws squares with turtle\n",
      "\n",
      "FUNCTIONS\n",
      "    drawSquare(myTurtle, x, y, sideLength=100)\n",
      "    \n",
      "    main()\n",
      "\n",
      "FILE\n",
      "    /Users/millera2/millera2.github.io/CS-111/turtle_squares.py\n",
      "\n",
      "\n"
     ]
    }
   ],
   "source": [
    "help(turtle_squares)"
   ]
  },
  {
   "cell_type": "markdown",
   "metadata": {},
   "source": [
    "- Comments\n",
    "\n",
    "Anything after the \"#\" is a \"comment\", i.e., it's ignored by the interpreter.  Comments keep code legible for other humans (including you!)"
   ]
  },
  {
   "cell_type": "markdown",
   "metadata": {},
   "source": [
    "- Magic Numbers\n",
    "\n",
    "Undefined constants.\n",
    "\n",
    "It's always best practice and improve readability to assign names to your constants.\n",
    "\n",
    "\n",
    "\n",
    "\n"
   ]
  },
  {
   "cell_type": "code",
   "execution_count": null,
   "metadata": {},
   "outputs": [],
   "source": []
  },
  {
   "cell_type": "code",
   "execution_count": null,
   "metadata": {},
   "outputs": [],
   "source": []
  },
  {
   "cell_type": "markdown",
   "metadata": {},
   "source": [
    "### main()"
   ]
  },
  {
   "cell_type": "markdown",
   "metadata": {},
   "source": [
    "In most modern progrmaming languages, the control logic for the progam is all contained in the `main()` function.\n",
    "\n",
    "Ie., the things that the program actually -does- are here.\n",
    "\n",
    "Any time you create new objects or execute functions, that should happen in the main()."
   ]
  },
  {
   "cell_type": "code",
   "execution_count": null,
   "metadata": {},
   "outputs": [],
   "source": []
  },
  {
   "cell_type": "code",
   "execution_count": null,
   "metadata": {},
   "outputs": [],
   "source": []
  },
  {
   "cell_type": "markdown",
   "metadata": {},
   "source": [
    "# Monday Sept 14"
   ]
  },
  {
   "cell_type": "markdown",
   "metadata": {},
   "source": [
    "### Scope and Namespaces\n",
    "Texbook: *Sec 3.6*\n"
   ]
  },
  {
   "cell_type": "markdown",
   "metadata": {},
   "source": [
    "Question:  what are all the variables/objects/functions available to you at any particular time?"
   ]
  },
  {
   "cell_type": "code",
   "execution_count": 8,
   "metadata": {},
   "outputs": [
    {
     "name": "stdout",
     "output_type": "stream",
     "text": [
      "and party on dude!\n"
     ]
    }
   ],
   "source": [
    "def billAndTed():\n",
    "    bill = \"Be excellent to eachother, \"\n",
    "    ted = \"and party on dude!\"\n",
    "    print(ted)\n",
    "    \n",
    "billAndTed(bill)\n",
    "\n",
    "print(bill)"
   ]
  },
  {
   "cell_type": "code",
   "execution_count": 5,
   "metadata": {},
   "outputs": [
    {
     "ename": "NameError",
     "evalue": "name 'bill' is not defined",
     "output_type": "error",
     "traceback": [
      "\u001b[0;31m---------------------------------------------------------------------------\u001b[0m",
      "\u001b[0;31mNameError\u001b[0m                                 Traceback (most recent call last)",
      "\u001b[0;32m<ipython-input-5-87bfd239f1b0>\u001b[0m in \u001b[0;36m<module>\u001b[0;34m\u001b[0m\n\u001b[0;32m----> 1\u001b[0;31m \u001b[0mprint\u001b[0m\u001b[0;34m(\u001b[0m\u001b[0mbill\u001b[0m\u001b[0;34m)\u001b[0m\u001b[0;34m\u001b[0m\u001b[0;34m\u001b[0m\u001b[0m\n\u001b[0m",
      "\u001b[0;31mNameError\u001b[0m: name 'bill' is not defined"
     ]
    }
   ],
   "source": [
    "print(bill)"
   ]
  },
  {
   "cell_type": "markdown",
   "metadata": {},
   "source": [
    "Question:  why not defined?\n",
    "\n",
    "Answer:  because \"bill\" and \"ted\" are in the scope of the function they were defined in.\n",
    "\n",
    "Scopes get \"nested\".  I.e., every time a new function or module is imported/created, they come with their own embedded namespace.\n",
    "\n",
    "The term \"namespace\" refers to the structure of ojects, their variable names, and how they're accessible in the code.\n",
    "\n",
    "Good picture in book: p 109\n",
    "\n",
    "Example:  math module\n",
    "\n"
   ]
  },
  {
   "cell_type": "code",
   "execution_count": 9,
   "metadata": {},
   "outputs": [
    {
     "data": {
      "text/plain": [
       "2.6457513110645907"
      ]
     },
     "execution_count": 9,
     "metadata": {},
     "output_type": "execute_result"
    }
   ],
   "source": [
    "import math    ## inlcludes sqrt() function\n",
    "\n",
    "math.sqrt(7)"
   ]
  },
  {
   "cell_type": "markdown",
   "metadata": {},
   "source": [
    "Note:  you can choose a different local namespace for a module.  Example"
   ]
  },
  {
   "cell_type": "code",
   "execution_count": 10,
   "metadata": {},
   "outputs": [
    {
     "data": {
      "text/plain": [
       "2.6457513110645907"
      ]
     },
     "execution_count": 10,
     "metadata": {},
     "output_type": "execute_result"
    }
   ],
   "source": [
    "import math as m\n",
    "\n",
    "m.sqrt(7)"
   ]
  },
  {
   "cell_type": "markdown",
   "metadata": {},
   "source": [
    "Example:  importing directly into local namespace.\n",
    "\n"
   ]
  },
  {
   "cell_type": "code",
   "execution_count": 11,
   "metadata": {},
   "outputs": [
    {
     "data": {
      "text/plain": [
       "2.6457513110645907"
      ]
     },
     "execution_count": 11,
     "metadata": {},
     "output_type": "execute_result"
    }
   ],
   "source": [
    "from math import *\n",
    "\n",
    "sqrt(7)"
   ]
  },
  {
   "cell_type": "markdown",
   "metadata": {},
   "source": [
    "Warning:  namespace conflicts and \"masking\".\n",
    "\n",
    "Example:  write a module to find the sum of a list of numbers.\n",
    "\n"
   ]
  },
  {
   "cell_type": "code",
   "execution_count": null,
   "metadata": {},
   "outputs": [],
   "source": [
    "import myScript"
   ]
  },
  {
   "cell_type": "code",
   "execution_count": 5,
   "metadata": {},
   "outputs": [
    {
     "name": "stdout",
     "output_type": "stream",
     "text": [
      "Help on module myScript:\n",
      "\n",
      "NAME\n",
      "    myScript - example of importing modules\n",
      "\n",
      "FUNCTIONS\n",
      "    sumNumbers(theList)\n",
      "        sums up the numbers\n",
      "        input: list of numbers\n",
      "        output: the sum\n",
      "\n",
      "FILE\n",
      "    /Users/millera2/millera2.github.io/CS-111/myScript.py\n",
      "\n",
      "\n"
     ]
    }
   ],
   "source": [
    "help(myScript)\n"
   ]
  },
  {
   "cell_type": "code",
   "execution_count": 6,
   "metadata": {},
   "outputs": [
    {
     "data": {
      "text/plain": [
       "15"
      ]
     },
     "execution_count": 6,
     "metadata": {},
     "output_type": "execute_result"
    }
   ],
   "source": [
    "myScript.sumNumbers([1,2,3,4,5])"
   ]
  },
  {
   "cell_type": "code",
   "execution_count": 2,
   "metadata": {},
   "outputs": [
    {
     "name": "stdout",
     "output_type": "stream",
     "text": [
      "psych!!!\n"
     ]
    }
   ],
   "source": [
    "from math import *\n",
    "from myScript import *\n",
    "\n",
    "def sqrt(a):\n",
    "    print(\"psych!!!\")\n",
    "\n",
    "sqrt(7)"
   ]
  },
  {
   "cell_type": "markdown",
   "metadata": {},
   "source": [
    "This is an example of \"masking\".   Be careful!"
   ]
  },
  {
   "cell_type": "markdown",
   "metadata": {},
   "source": [
    "### Return vs Print"
   ]
  },
  {
   "cell_type": "markdown",
   "metadata": {},
   "source": [
    "Be careful, printing doesn't assign a value to output!  It only prints the update to the console!\n",
    "\n",
    "If you want to use the result in another function, be sure to **return**, not just print.  (You can do both!)\n"
   ]
  },
  {
   "cell_type": "code",
   "execution_count": 1,
   "metadata": {},
   "outputs": [
    {
     "data": {
      "text/plain": [
       "2.0"
      ]
     },
     "execution_count": 1,
     "metadata": {},
     "output_type": "execute_result"
    }
   ],
   "source": [
    "from myScript import *\n",
    "\n",
    "avgNumbers([1,2,3])"
   ]
  },
  {
   "cell_type": "code",
   "execution_count": 3,
   "metadata": {},
   "outputs": [
    {
     "ename": "NameError",
     "evalue": "name 'sqrt' is not defined",
     "output_type": "error",
     "traceback": [
      "\u001b[0;31m---------------------------------------------------------------------------\u001b[0m",
      "\u001b[0;31mNameError\u001b[0m                                 Traceback (most recent call last)",
      "\u001b[0;32m<ipython-input-3-565e36d12a01>\u001b[0m in \u001b[0;36m<module>\u001b[0;34m\u001b[0m\n\u001b[0;32m----> 1\u001b[0;31m \u001b[0msqrt\u001b[0m\u001b[0;34m(\u001b[0m\u001b[0;36m7\u001b[0m\u001b[0;34m)\u001b[0m\u001b[0;34m\u001b[0m\u001b[0;34m\u001b[0m\u001b[0m\n\u001b[0m",
      "\u001b[0;31mNameError\u001b[0m: name 'sqrt' is not defined"
     ]
    }
   ],
   "source": []
  },
  {
   "cell_type": "markdown",
   "metadata": {},
   "source": []
  },
  {
   "cell_type": "code",
   "execution_count": null,
   "metadata": {},
   "outputs": [],
   "source": []
  },
  {
   "cell_type": "markdown",
   "metadata": {},
   "source": [
    "### Ch 4:  Modelling and Simulation\n",
    "\n",
    "\n",
    "Consider a lake that imposes limits on the number of fish caught.  Each year, a maximum of 1500 fish can be taken from the lake.\n",
    "\n",
    "Suppose it's a popular lake, and this limit is hit every year.\n",
    "\n",
    "Question:  will be enough fish?  Will eventually fish all the fish until there are none left?\n",
    "\n",
    "Answer:  Make population model.\n",
    "\n",
    "Assumptions:  current population of fish is 10,000.  The population grows by 8% every year.\n",
    "\n",
    "How long until there aren't any fish left?\n",
    "\n",
    "On year 1:\n",
    "\n",
    "p1 = 10000*1.08 - 1500\n",
    "\n",
    "p2 = p1*1.08 - 1500\n",
    "\n",
    "p3 = p2*1.08 - 1500\n",
    "\n",
    "Write a function to model this:\n",
    "\n",
    "\n"
   ]
  },
  {
   "cell_type": "code",
   "execution_count": 22,
   "metadata": {},
   "outputs": [
    {
     "name": "stdout",
     "output_type": "stream",
     "text": [
      "Year|Population\n",
      "0 9300.0\n",
      "1 8544.0\n",
      "2 7727.52\n",
      "3 6845.721600000001\n",
      "4 5893.379328000001\n",
      "5 4864.849674240001\n",
      "6 3754.037648179202\n",
      "7 2554.3606600335384\n",
      "8 1258.7095128362216\n"
     ]
    }
   ],
   "source": [
    "population = 10000   #starting population\n",
    "rate = .08\n",
    "totalCatch = 1500\n",
    "\n",
    "#Look at population for next 10 years\n",
    "\n",
    "print(\"Year|Population\")\n",
    "\n",
    "year = 0\n",
    "while (population >1500 and year < 100):\n",
    "    population = population*(1+rate)-totalCatch\n",
    "    print(year,population)\n",
    "    year = year+1\n"
   ]
  },
  {
   "cell_type": "markdown",
   "metadata": {},
   "source": [
    "Let's abstract with a function:"
   ]
  },
  {
   "cell_type": "code",
   "execution_count": 40,
   "metadata": {},
   "outputs": [],
   "source": [
    "def fishPop(p, rate, totalCatch): \n",
    "    population = p   #starting population\n",
    "\n",
    "\n",
    "    #Look at population for next 10 years\n",
    "\n",
    "    print(\"Year|Population\")\n",
    "\n",
    "    year = 0\n",
    "    while (population >totalCatch and year < 100):\n",
    "        print(year,population)\n",
    "        population = population*(1+rate)-totalCatch\n",
    "        year = year+1\n",
    "    \n"
   ]
  },
  {
   "cell_type": "code",
   "execution_count": 41,
   "metadata": {},
   "outputs": [
    {
     "name": "stdout",
     "output_type": "stream",
     "text": [
      "Year|Population\n",
      "1 9800.0\n",
      "2 9584.0\n",
      "3 9350.720000000001\n",
      "4 9098.777600000001\n",
      "5 8826.679808000003\n",
      "6 8532.814192640004\n",
      "7 8215.439328051205\n",
      "8 7872.6744742953015\n",
      "9 7502.488432238926\n",
      "10 7102.687506818041\n",
      "11 6670.902507363485\n",
      "12 6204.5747079525645\n",
      "13 5700.94068458877\n",
      "14 5157.0159393558715\n",
      "15 4569.577214504342\n",
      "16 3935.1433916646893\n",
      "17 3249.9548629978644\n",
      "18 2509.951252037694\n",
      "19 1710.7473522007094\n",
      "20 847.6071403767662\n"
     ]
    }
   ],
   "source": [
    "fishPop(10000, .08, 1000)"
   ]
  },
  {
   "cell_type": "markdown",
   "metadata": {},
   "source": [
    "Format strings\n",
    "\n",
    "1) Book at the beginning of chapter 4\n",
    "2) Google online: python format string"
   ]
  },
  {
   "cell_type": "code",
   "execution_count": 44,
   "metadata": {},
   "outputs": [],
   "source": [
    "def fishPop(p, rate, totalCatch): \n",
    "    population = p   #starting population\n",
    "\n",
    "\n",
    "    #Look at population for next 10 years\n",
    "\n",
    "    print(\"Year|Population\")\n",
    "\n",
    "    year = 0\n",
    "    while (population >0 and year < 100):\n",
    "        formatString = \"{0:^4}|{1:^10.2f}\"\n",
    "        print(  formatString.format(year,population)   )\n",
    "        population = population*(1+rate)-totalCatch\n",
    "\n",
    "        year = year+1\n",
    "    \n"
   ]
  },
  {
   "cell_type": "code",
   "execution_count": 45,
   "metadata": {},
   "outputs": [
    {
     "name": "stdout",
     "output_type": "stream",
     "text": [
      "Year|Population\n",
      " 0  | 10000.00 \n",
      " 1  | 9950.00  \n",
      " 2  | 9896.00  \n",
      " 3  | 9837.68  \n",
      " 4  | 9774.69  \n",
      " 5  | 9706.67  \n",
      " 6  | 9633.20  \n",
      " 7  | 9553.86  \n",
      " 8  | 9468.17  \n",
      " 9  | 9375.62  \n",
      " 10 | 9275.67  \n",
      " 11 | 9167.73  \n",
      " 12 | 9051.14  \n",
      " 13 | 8925.24  \n",
      " 14 | 8789.25  \n",
      " 15 | 8642.39  \n",
      " 16 | 8483.79  \n",
      " 17 | 8312.49  \n",
      " 18 | 8127.49  \n",
      " 19 | 7927.69  \n",
      " 20 | 7711.90  \n",
      " 21 | 7478.85  \n",
      " 22 | 7227.16  \n",
      " 23 | 6955.34  \n",
      " 24 | 6661.76  \n",
      " 25 | 6344.70  \n",
      " 26 | 6002.28  \n",
      " 27 | 5632.46  \n",
      " 28 | 5233.06  \n",
      " 29 | 4801.70  \n",
      " 30 | 4335.84  \n",
      " 31 | 3832.71  \n",
      " 32 | 3289.32  \n",
      " 33 | 2702.47  \n",
      " 34 | 2068.67  \n",
      " 35 | 1384.16  \n",
      " 36 |  644.89  \n"
     ]
    }
   ],
   "source": [
    "fishPop(10000, .08, 850)"
   ]
  },
  {
   "cell_type": "code",
   "execution_count": 51,
   "metadata": {},
   "outputs": [],
   "source": [
    "def fishPop(p, rate, totalCatch): \n",
    "    population = p   #starting population\n",
    "\n",
    "\n",
    "    #Look at population for next 10 years\n",
    "\n",
    "    print(\"Year|Population\")\n",
    "\n",
    "    years = []\n",
    "    popSize = []\n",
    "    year = 0\n",
    "    years.append(year)\n",
    "    popSize.append(population)\n",
    "    while (population >0 and year < 100):\n",
    "        formatString = \"{0:^4}|{1:^10.2f}\"\n",
    "        print(  formatString.format(year,population)   )\n",
    "        population = population*(1+rate)-totalCatch\n",
    "        year = year+1\n",
    "        popSize.append(population)\n",
    "        years.append(year)\n",
    "    return(years, popSize)"
   ]
  },
  {
   "cell_type": "code",
   "execution_count": 55,
   "metadata": {},
   "outputs": [
    {
     "name": "stdout",
     "output_type": "stream",
     "text": [
      "Year|Population\n",
      " 0  | 20000.00 \n",
      " 1  | 20100.00 \n",
      " 2  | 20208.00 \n",
      " 3  | 20324.64 \n",
      " 4  | 20450.61 \n",
      " 5  | 20586.66 \n",
      " 6  | 20733.59 \n",
      " 7  | 20892.28 \n",
      " 8  | 21063.66 \n",
      " 9  | 21248.76 \n",
      " 10 | 21448.66 \n",
      " 11 | 21664.55 \n",
      " 12 | 21897.71 \n",
      " 13 | 22149.53 \n",
      " 14 | 22421.49 \n",
      " 15 | 22715.21 \n",
      " 16 | 23032.43 \n",
      " 17 | 23375.02 \n",
      " 18 | 23745.02 \n",
      " 19 | 24144.63 \n",
      " 20 | 24576.20 \n",
      " 21 | 25042.29 \n",
      " 22 | 25545.68 \n",
      " 23 | 26089.33 \n",
      " 24 | 26676.48 \n",
      " 25 | 27310.59 \n",
      " 26 | 27995.44 \n",
      " 27 | 28735.08 \n",
      " 28 | 29533.88 \n",
      " 29 | 30396.59 \n",
      " 30 | 31328.32 \n",
      " 31 | 32334.59 \n",
      " 32 | 33421.35 \n",
      " 33 | 34595.06 \n",
      " 34 | 35862.67 \n",
      " 35 | 37231.68 \n",
      " 36 | 38710.21 \n",
      " 37 | 40307.03 \n",
      " 38 | 42031.59 \n",
      " 39 | 43894.12 \n",
      " 40 | 45905.65 \n",
      " 41 | 48078.10 \n",
      " 42 | 50424.35 \n",
      " 43 | 52958.30 \n",
      " 44 | 55694.96 \n",
      " 45 | 58650.56 \n",
      " 46 | 61842.61 \n",
      " 47 | 65290.02 \n",
      " 48 | 69013.22 \n",
      " 49 | 73034.27 \n",
      " 50 | 77377.02 \n",
      " 51 | 82067.18 \n",
      " 52 | 87132.55 \n",
      " 53 | 92603.16 \n",
      " 54 | 98511.41 \n",
      " 55 |104892.32 \n",
      " 56 |111783.71 \n",
      " 57 |119226.40 \n",
      " 58 |127264.51 \n",
      " 59 |135945.68 \n",
      " 60 |145321.33 \n",
      " 61 |155447.04 \n",
      " 62 |166382.80 \n",
      " 63 |178193.42 \n",
      " 64 |190948.90 \n",
      " 65 |204724.81 \n",
      " 66 |219602.79 \n",
      " 67 |235671.02 \n",
      " 68 |253024.70 \n",
      " 69 |271766.67 \n",
      " 70 |292008.01 \n",
      " 71 |313868.65 \n",
      " 72 |337478.14 \n",
      " 73 |362976.39 \n",
      " 74 |390514.50 \n",
      " 75 |420255.66 \n",
      " 76 |452376.12 \n",
      " 77 |487066.20 \n",
      " 78 |524531.50 \n",
      " 79 |564994.02 \n",
      " 80 |608693.54 \n",
      " 81 |655889.03 \n",
      " 82 |706860.15 \n",
      " 83 |761908.96 \n",
      " 84 |821361.68 \n",
      " 85 |885570.61 \n",
      " 86 |954916.26 \n",
      " 87 |1029809.56\n",
      " 88 |1110694.33\n",
      " 89 |1198049.87\n",
      " 90 |1292393.86\n",
      " 91 |1394285.37\n",
      " 92 |1504328.20\n",
      " 93 |1623174.46\n",
      " 94 |1751528.41\n",
      " 95 |1890150.69\n",
      " 96 |2039862.74\n",
      " 97 |2201551.76\n",
      " 98 |2376175.90\n",
      " 99 |2564769.97\n"
     ]
    }
   ],
   "source": [
    "fishModelResults = fishPop(20000, .08, 1500)"
   ]
  },
  {
   "cell_type": "code",
   "execution_count": 56,
   "metadata": {},
   "outputs": [
    {
     "data": {
      "text/plain": [
       "[<matplotlib.lines.Line2D at 0x12259c5b0>]"
      ]
     },
     "execution_count": 56,
     "metadata": {},
     "output_type": "execute_result"
    },
    {
     "data": {
      "image/png": "[encoded data removed]",
      "text/plain": [
       "<Figure size 432x288 with 1 Axes>"
      ]
     },
     "metadata": {
      "needs_background": "light"
     },
     "output_type": "display_data"
    }
   ],
   "source": [
    "import matplotlib.pyplot as pyplot\n",
    "pyplot.plot(fishModelResults[0], fishModelResults[1])"
   ]
  },
  {
   "cell_type": "code",
   "execution_count": null,
   "metadata": {},
   "outputs": [],
   "source": []
  }
 ],
 "metadata": {
  "kernelspec": {
   "display_name": "Python 3",
   "language": "python",
   "name": "python3"
  },
  "language_info": {
   "codemirror_mode": {
    "name": "ipython",
    "version": 3
   },
   "file_extension": ".py",
   "mimetype": "text/x-python",
   "name": "python",
   "nbconvert_exporter": "python",
   "pygments_lexer": "ipython3",
   "version": "3.8.3"
  }
 },
 "nbformat": 4,
 "nbformat_minor": 4
}
