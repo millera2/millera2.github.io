{
 "cells": [
  {
   "cell_type": "code",
   "execution_count": 1,
   "metadata": {},
   "outputs": [],
   "source": [
    "using LinearAlgebra\n",
    "using Plots\n",
    "using LaTeXStrings\n"
   ]
  },
  {
   "cell_type": "code",
   "execution_count": 78,
   "metadata": {},
   "outputs": [
    {
     "ename": "LoadError",
     "evalue": "syntax: invalid interpolation syntax: \"$\"\"",
     "output_type": "error",
     "traceback": [
      "syntax: invalid interpolation syntax: \"$\"\"",
      ""
     ]
    }
   ],
   "source": [
    "\"\\$(\\\\alpha)$\""
   ]
  },
  {
   "cell_type": "code",
   "execution_count": 2,
   "metadata": {},
   "outputs": [
    {
     "data": {
      "text/plain": [
       "2×2 Array{Float64,2}:\n",
       " 1.41421  0.0    \n",
       " 0.0      1.41421"
      ]
     },
     "execution_count": 2,
     "metadata": {},
     "output_type": "execute_result"
    }
   ],
   "source": [
    "U = [sqrt(2) 0; 0 sqrt(2)]"
   ]
  },
  {
   "cell_type": "code",
   "execution_count": 3,
   "metadata": {},
   "outputs": [
    {
     "data": {
      "text/plain": [
       "2×2 Array{Int64,2}:\n",
       " 1  0\n",
       " 0  0"
      ]
     },
     "execution_count": 3,
     "metadata": {},
     "output_type": "execute_result"
    }
   ],
   "source": [
    "S = [1 0; 0 0]"
   ]
  },
  {
   "cell_type": "code",
   "execution_count": 4,
   "metadata": {},
   "outputs": [
    {
     "data": {
      "text/plain": [
       "2×2 Array{Float64,2}:\n",
       " 0.707107   0.707107\n",
       " 0.707107  -0.707107"
      ]
     },
     "execution_count": 4,
     "metadata": {},
     "output_type": "execute_result"
    }
   ],
   "source": [
    "V = [sqrt(2)/2 sqrt(2)/2; sqrt(2)/2 -sqrt(2)/2]"
   ]
  },
  {
   "cell_type": "code",
   "execution_count": 5,
   "metadata": {},
   "outputs": [
    {
     "data": {
      "text/plain": [
       "2×2 Array{Float64,2}:\n",
       " 1.0  1.0\n",
       " 0.0  0.0"
      ]
     },
     "execution_count": 5,
     "metadata": {},
     "output_type": "execute_result"
    }
   ],
   "source": [
    "U*S*V"
   ]
  },
  {
   "cell_type": "code",
   "execution_count": null,
   "metadata": {},
   "outputs": [],
   "source": [
    " "
   ]
  },
  {
   "cell_type": "code",
   "execution_count": 242,
   "metadata": {},
   "outputs": [
    {
     "data": {
      "text/plain": [
       "2×2 Array{Int64,2}:\n",
       " 1  1\n",
       " 1  1"
      ]
     },
     "execution_count": 242,
     "metadata": {},
     "output_type": "execute_result"
    }
   ],
   "source": [
    "A = [1 1; 1 1]"
   ]
  },
  {
   "cell_type": "code",
   "execution_count": 243,
   "metadata": {},
   "outputs": [
    {
     "data": {
      "text/plain": [
       "SVD{Float64,Float64,Array{Float64,2}}([-0.7071067811865472 -0.7071067811865475; -0.7071067811865475 0.7071067811865475], [2.0, 0.0], [-0.7071067811865476 -0.7071067811865475; -0.7071067811865475 0.7071067811865476])"
      ]
     },
     "execution_count": 243,
     "metadata": {},
     "output_type": "execute_result"
    }
   ],
   "source": [
    "svd(A)"
   ]
  },
  {
   "cell_type": "code",
   "execution_count": null,
   "metadata": {},
   "outputs": [],
   "source": []
  },
  {
   "cell_type": "code",
   "execution_count": 244,
   "metadata": {},
   "outputs": [
    {
     "data": {
      "text/plain": [
       "20000-element LinRange{Float64}:\n",
       " 0.0,0.000314175,0.00062835,0.000942525,…,6.28224,6.28256,6.28287,6.28319"
      ]
     },
     "execution_count": 244,
     "metadata": {},
     "output_type": "execute_result"
    }
   ],
   "source": [
    "angles = LinRange(0,2π, 20000)"
   ]
  },
  {
   "cell_type": "code",
   "execution_count": 245,
   "metadata": {},
   "outputs": [],
   "source": [
    "unitVectors = []\n",
    "\n",
    "for angle in angles\n",
    "    append!(unitVectors, [ [cos(angle), sin(angle) ] ])\n",
    "end"
   ]
  },
  {
   "cell_type": "markdown",
   "metadata": {},
   "source": [
    "Compute Matrix Norm\n",
    "\n",
    "Input:  matrix A, unitVectors\n",
    "Output: ||A||, x st ||Ax|| = ||A|| "
   ]
  },
  {
   "cell_type": "code",
   "execution_count": 246,
   "metadata": {},
   "outputs": [
    {
     "data": {
      "text/plain": [
       "matrixNorm (generic function with 1 method)"
      ]
     },
     "execution_count": 246,
     "metadata": {},
     "output_type": "execute_result"
    }
   ],
   "source": [
    "function matrixNorm(A)\n",
    "    \n",
    "    unitVectors = []\n",
    "\n",
    "    for angle in angles\n",
    "        append!(unitVectors, [ [cos(angle), sin(angle) ] ])\n",
    "    end\n",
    "    \n",
    "    normA = 0\n",
    "    v = [0,0]\n",
    "    \n",
    "    \n",
    "    for vector in unitVectors\n",
    "        product = A*vector\n",
    "        length = norm(product)\n",
    "        if length>normA\n",
    "            normA = length\n",
    "            v = vector\n",
    "        end\n",
    "    end\n",
    "    \n",
    "    return [normA, v]\n",
    "    \n",
    "end\n",
    "            \n",
    "            \n",
    "    "
   ]
  },
  {
   "cell_type": "code",
   "execution_count": 255,
   "metadata": {},
   "outputs": [
    {
     "data": {
      "text/plain": [
       "2×2 Array{Int64,2}:\n",
       " -2  1\n",
       "  4  3"
      ]
     },
     "execution_count": 255,
     "metadata": {},
     "output_type": "execute_result"
    }
   ],
   "source": [
    "A = [-2 1; 4 3]"
   ]
  },
  {
   "cell_type": "code",
   "execution_count": 256,
   "metadata": {},
   "outputs": [
    {
     "data": {
      "text/plain": [
       "2-element Array{Any,1}:\n",
       " 5.116672736008657                        \n",
       "  [0.8506497855507007, 0.5257327670428646]"
      ]
     },
     "execution_count": 256,
     "metadata": {},
     "output_type": "execute_result"
    }
   ],
   "source": [
    "result = matrixNorm(A)"
   ]
  },
  {
   "cell_type": "code",
   "execution_count": 257,
   "metadata": {},
   "outputs": [
    {
     "data": {
      "text/plain": [
       "0.8506497855507007"
      ]
     },
     "execution_count": 257,
     "metadata": {},
     "output_type": "execute_result"
    }
   ],
   "source": [
    "result[2][1]"
   ]
  },
  {
   "cell_type": "code",
   "execution_count": 250,
   "metadata": {},
   "outputs": [
    {
     "ename": "LoadError",
     "evalue": "UndefVarError: @L_str not defined",
     "output_type": "error",
     "traceback": [
      "UndefVarError: @L_str not defined",
      ""
     ]
    }
   ],
   "source": [
    "L\"\\alpha \\cdot \\mathrm{ test}\""
   ]
  },
  {
   "cell_type": "code",
   "execution_count": 251,
   "metadata": {},
   "outputs": [
    {
     "ename": "LoadError",
     "evalue": "syntax: \"\\\" is not a unary operator",
     "output_type": "error",
     "traceback": [
      "syntax: \"\\\" is not a unary operator",
      ""
     ]
    }
   ],
   "source": [
    "\"$(\\Omega_d)^2$\""
   ]
  },
  {
   "cell_type": "code",
   "execution_count": 258,
   "metadata": {},
   "outputs": [
    {
     "ename": "LoadError",
     "evalue": "syntax: unexpected \",\"",
     "output_type": "error",
     "traceback": [
      "syntax: unexpected \",\"",
      ""
     ]
    }
   ],
   "source": [
    "\n",
    "\n",
    "\n",
    "perp = [1,0]\n",
    "\n",
    "perp = [1,-(A*result[2])[1]/(A*result[2])[2]]\n",
    "perp = perp./norm(perp)*1.95\n",
    "\n",
    "\n",
    "\n",
    "plot( [(A*x)[1] for x in unitVectors], [(A*x)[2] for x in unitVectors], aspect_ratio=1, title= ,label=\"unit ball\", bg = false)\n",
    "plot!( [0, (A*result[2])[1]], [0, (A*result[2])[2]]  , label = \"\\alpha\" )\n",
    "plot!( [0, perp[1]], [0, perp[2]], label = L\"v_2\")\n"
   ]
  },
  {
   "cell_type": "code",
   "execution_count": null,
   "metadata": {},
   "outputs": [],
   "source": []
  },
  {
   "cell_type": "markdown",
   "metadata": {},
   "source": [
    "(a,b)  (x,y)\n",
    "\n",
    "(ax+by) = 0\n",
    "\n",
    "x = 1\n",
    "\n",
    "a+by = 0\n",
    "\n",
    "y = -a/b\n",
    "\n",
    "\n"
   ]
  },
  {
   "cell_type": "code",
   "execution_count": 22,
   "metadata": {},
   "outputs": [
    {
     "ename": "MethodError",
     "evalue": "MethodError: no method matching +(::String, ::String)\nClosest candidates are:\n  +(::Any, ::Any, !Matched::Any, !Matched::Any...) at operators.jl:529",
     "output_type": "error",
     "traceback": [
      "MethodError: no method matching +(::String, ::String)\nClosest candidates are:\n  +(::Any, ::Any, !Matched::Any, !Matched::Any...) at operators.jl:529",
      "",
      "Stacktrace:",
      " [1] top-level scope at In[22]:1"
     ]
    }
   ],
   "source": [
    "\"test\"+\"string\""
   ]
  },
  {
   "cell_type": "code",
   "execution_count": 17,
   "metadata": {},
   "outputs": [
    {
     "data": {
      "text/plain": [
       "2-element Array{Float64,1}:\n",
       "  1.0  \n",
       " -0.375"
      ]
     },
     "execution_count": 17,
     "metadata": {},
     "output_type": "execute_result"
    }
   ],
   "source": [
    "v = [1;-3/8]"
   ]
  },
  {
   "cell_type": "code",
   "execution_count": 18,
   "metadata": {},
   "outputs": [
    {
     "data": {
      "text/plain": [
       "2-element Array{Float64,1}:\n",
       "  0.9363291775690445\n",
       " -0.3511234415883917"
      ]
     },
     "execution_count": 18,
     "metadata": {},
     "output_type": "execute_result"
    }
   ],
   "source": [
    "v=v./norm(v)"
   ]
  },
  {
   "cell_type": "code",
   "execution_count": 19,
   "metadata": {},
   "outputs": [
    {
     "data": {
      "text/plain": [
       "0.0"
      ]
     },
     "execution_count": 19,
     "metadata": {},
     "output_type": "execute_result"
    }
   ],
   "source": [
    "u⋅v"
   ]
  },
  {
   "cell_type": "code",
   "execution_count": 124,
   "metadata": {},
   "outputs": [
    {
     "ename": "LoadError",
     "evalue": "syntax: unexpected \"end\"",
     "output_type": "error",
     "traceback": [
      "syntax: unexpected \"end\"",
      ""
     ]
    }
   ],
   "source": []
  },
  {
   "cell_type": "code",
   "execution_count": 100,
   "metadata": {},
   "outputs": [
    {
     "data": {
      "text/plain": [
       "-2"
      ]
     },
     "execution_count": 100,
     "metadata": {},
     "output_type": "execute_result"
    }
   ],
   "source": [
    "gramSm"
   ]
  },
  {
   "cell_type": "code",
   "execution_count": 102,
   "metadata": {},
   "outputs": [
    {
     "data": {
      "text/plain": [
       "2.23606797749979"
      ]
     },
     "execution_count": 102,
     "metadata": {},
     "output_type": "execute_result"
    }
   ],
   "source": [
    "t = [1;2]\n",
    "norm(t)"
   ]
  },
  {
   "cell_type": "code",
   "execution_count": 103,
   "metadata": {},
   "outputs": [
    {
     "data": {
      "text/plain": [
       "2.23606797749979"
      ]
     },
     "execution_count": 103,
     "metadata": {},
     "output_type": "execute_result"
    }
   ],
   "source": [
    "sqrt(1+4)"
   ]
  },
  {
   "cell_type": "code",
   "execution_count": 97,
   "metadata": {},
   "outputs": [
    {
     "data": {
      "text/plain": [
       "2×4 Array{Float64,2}:\n",
       " 0.0  0.0  0.0  0.0\n",
       " 0.0  0.0  0.0  0.0"
      ]
     },
     "execution_count": 97,
     "metadata": {},
     "output_type": "execute_result"
    }
   ],
   "source": [
    "zeros(2,4)"
   ]
  },
  {
   "cell_type": "code",
   "execution_count": 120,
   "metadata": {},
   "outputs": [],
   "source": [
    "for i in 1:0\n",
    "    print(i)\n",
    "end"
   ]
  },
  {
   "cell_type": "code",
   "execution_count": 113,
   "metadata": {},
   "outputs": [
    {
     "data": {
      "text/plain": [
       "f (generic function with 1 method)"
      ]
     },
     "execution_count": 113,
     "metadata": {},
     "output_type": "execute_result"
    }
   ],
   "source": [
    "function f(x)\n",
    "    return(2*x)\n",
    "end"
   ]
  },
  {
   "cell_type": "code",
   "execution_count": 114,
   "metadata": {},
   "outputs": [
    {
     "data": {
      "text/plain": [
       "4"
      ]
     },
     "execution_count": 114,
     "metadata": {},
     "output_type": "execute_result"
    }
   ],
   "source": [
    "f(2)"
   ]
  },
  {
   "cell_type": "code",
   "execution_count": 229,
   "metadata": {},
   "outputs": [
    {
     "data": {
      "text/plain": [
       "gramSchmidt (generic function with 1 method)"
      ]
     },
     "execution_count": 229,
     "metadata": {},
     "output_type": "execute_result"
    }
   ],
   "source": [
    "function gramSchmidt(A)\n",
    "    m = size(A)[1]; n = size(A)[2]\n",
    "    r = zeros(n,n); q = zeros(m,n)\n",
    "    \n",
    "    for j in 1:n\n",
    "        \n",
    "        v = A[:,j]\n",
    "        \n",
    "        for i in 1:(j-1)\n",
    "            r[i,j]=q[:,i]⋅A[:,j]\n",
    "            v = v - r[i,j].*q[:,i]\n",
    "        end\n",
    "        \n",
    "        r[j,j] = norm(v)\n",
    "        q[:,j] = v./r[j,j]\n",
    "    end\n",
    "    \n",
    "    return[q,r]\n",
    "    \n",
    "end\n",
    "\n",
    "            "
   ]
  },
  {
   "cell_type": "code",
   "execution_count": 230,
   "metadata": {},
   "outputs": [
    {
     "data": {
      "text/plain": [
       "2-element Array{Array{Float64,2},1}:\n",
       " [0.8571428571428571 -0.3942857142857143 -0.33142857142857146; 0.42857142857142855 0.9028571428571428 0.03428571428571416; -0.2857142857142857 0.17142857142857143 -0.9428571428571428]\n",
       " [14.0 20.999999999999996 -14.000000000000002; 0.0 175.0 -70.0; 0.0 0.0 35.0]                                                                                                          "
      ]
     },
     "execution_count": 230,
     "metadata": {},
     "output_type": "execute_result"
    }
   ],
   "source": [
    "A = [12 -51 4; 6 167 -68; -4 24 -41]\n",
    "\n",
    "res = gramSchmidt(A)"
   ]
  },
  {
   "cell_type": "code",
   "execution_count": 231,
   "metadata": {},
   "outputs": [
    {
     "data": {
      "text/plain": [
       "-2.0816681711721685e-17"
      ]
     },
     "execution_count": 231,
     "metadata": {},
     "output_type": "execute_result"
    }
   ],
   "source": [
    "res[1][:,1]⋅res[1][:,2]"
   ]
  },
  {
   "cell_type": "code",
   "execution_count": 226,
   "metadata": {},
   "outputs": [
    {
     "data": {
      "text/plain": [
       "-0.3942857142857143"
      ]
     },
     "execution_count": 226,
     "metadata": {},
     "output_type": "execute_result"
    }
   ],
   "source": [
    "-69/175"
   ]
  },
  {
   "cell_type": "code",
   "execution_count": 189,
   "metadata": {},
   "outputs": [
    {
     "data": {
      "text/plain": [
       "2×2 Array{Float64,2}:\n",
       " 1.0  2.0\n",
       " 3.0  4.0"
      ]
     },
     "execution_count": 189,
     "metadata": {},
     "output_type": "execute_result"
    }
   ],
   "source": [
    "[-0.316228 -0.948683; -0.948683 0.316228]*[-3.16228 -4.42719; 0 -0.632456]"
   ]
  },
  {
   "cell_type": "code",
   "execution_count": 219,
   "metadata": {},
   "outputs": [
    {
     "data": {
      "text/plain": [
       "1//2"
      ]
     },
     "execution_count": 219,
     "metadata": {},
     "output_type": "execute_result"
    }
   ],
   "source": [
    "Rational(.5)"
   ]
  },
  {
   "cell_type": "code",
   "execution_count": 8,
   "metadata": {},
   "outputs": [
    {
     "data": {
      "text/plain": [
       "3×3 Array{Int64,2}:\n",
       " 1  2  1\n",
       " 3  4  0\n",
       " 5  6  0"
      ]
     },
     "execution_count": 8,
     "metadata": {},
     "output_type": "execute_result"
    }
   ],
   "source": [
    "A = [1 2 1; 3 4 0; 5 6 0]"
   ]
  },
  {
   "cell_type": "code",
   "execution_count": 9,
   "metadata": {},
   "outputs": [
    {
     "data": {
      "text/plain": [
       "3×3 LinearAlgebra.Adjoint{Int64,Array{Int64,2}}:\n",
       " 1  3  5\n",
       " 2  4  6\n",
       " 1  0  0"
      ]
     },
     "execution_count": 9,
     "metadata": {},
     "output_type": "execute_result"
    }
   ],
   "source": [
    "A'"
   ]
  },
  {
   "cell_type": "code",
   "execution_count": 11,
   "metadata": {},
   "outputs": [
    {
     "data": {
      "text/plain": [
       "3×3 LinearAlgebra.Adjoint{Int64,Array{Int64,2}}:\n",
       " 35  44  1\n",
       " 44  56  2\n",
       "  1   2  1"
      ]
     },
     "execution_count": 11,
     "metadata": {},
     "output_type": "execute_result"
    }
   ],
   "source": [
    "(A'*A)'"
   ]
  },
  {
   "cell_type": "code",
   "execution_count": 12,
   "metadata": {},
   "outputs": [
    {
     "data": {
      "text/plain": [
       "3×3 Array{Int64,2}:\n",
       " 35  44  1\n",
       " 44  56  2\n",
       "  1   2  1"
      ]
     },
     "execution_count": 12,
     "metadata": {},
     "output_type": "execute_result"
    }
   ],
   "source": [
    "A'*A"
   ]
  },
  {
   "cell_type": "code",
   "execution_count": 13,
   "metadata": {},
   "outputs": [
    {
     "data": {
      "text/plain": [
       "3×3 Array{Int64,2}:\n",
       " 1  2  1\n",
       " 3  4  0\n",
       " 5  6  0"
      ]
     },
     "execution_count": 13,
     "metadata": {},
     "output_type": "execute_result"
    }
   ],
   "source": [
    "A"
   ]
  },
  {
   "cell_type": "code",
   "execution_count": 14,
   "metadata": {},
   "outputs": [
    {
     "data": {
      "text/plain": [
       "3×3 Array{Int64,2}:\n",
       " 0  1  0\n",
       " 1  0  0\n",
       " 0  0  1"
      ]
     },
     "execution_count": 14,
     "metadata": {},
     "output_type": "execute_result"
    }
   ],
   "source": [
    "P = [0 1 0; 1 0 0; 0 0 1]"
   ]
  },
  {
   "cell_type": "code",
   "execution_count": 15,
   "metadata": {},
   "outputs": [
    {
     "data": {
      "text/plain": [
       "3×3 Array{Int64,2}:\n",
       " 2  1  1\n",
       " 4  3  0\n",
       " 6  5  0"
      ]
     },
     "execution_count": 15,
     "metadata": {},
     "output_type": "execute_result"
    }
   ],
   "source": [
    "A*P"
   ]
  },
  {
   "cell_type": "code",
   "execution_count": 16,
   "metadata": {},
   "outputs": [
    {
     "data": {
      "text/plain": [
       "3×3 Array{Float64,2}:\n",
       " 0.0  -3.0   2.0\n",
       " 0.0   2.5  -1.5\n",
       " 1.0  -2.0   1.0"
      ]
     },
     "execution_count": 16,
     "metadata": {},
     "output_type": "execute_result"
    }
   ],
   "source": [
    "inv(A)"
   ]
  },
  {
   "cell_type": "code",
   "execution_count": 17,
   "metadata": {},
   "outputs": [
    {
     "data": {
      "text/plain": [
       "3×3 Array{Float64,2}:\n",
       " -2.22045e-16   2.5  -1.5\n",
       "  2.22045e-16  -3.0   2.0\n",
       "  1.0          -2.0   1.0"
      ]
     },
     "execution_count": 17,
     "metadata": {},
     "output_type": "execute_result"
    }
   ],
   "source": [
    "inv(A*P)"
   ]
  },
  {
   "cell_type": "code",
   "execution_count": 18,
   "metadata": {},
   "outputs": [
    {
     "data": {
      "text/plain": [
       "3×3 Array{Int64,2}:\n",
       " 1  0  0\n",
       " 0  0  0\n",
       " 0  0  0"
      ]
     },
     "execution_count": 18,
     "metadata": {},
     "output_type": "execute_result"
    }
   ],
   "source": [
    "P = [1 0 0 ; 0 0 0; 0 0 0 ]"
   ]
  },
  {
   "cell_type": "code",
   "execution_count": 20,
   "metadata": {},
   "outputs": [
    {
     "data": {
      "text/plain": [
       "3-element Array{Int64,1}:\n",
       " 1\n",
       " 0\n",
       " 0"
      ]
     },
     "execution_count": 20,
     "metadata": {},
     "output_type": "execute_result"
    }
   ],
   "source": [
    "P*[1;2;3]"
   ]
  },
  {
   "cell_type": "code",
   "execution_count": 24,
   "metadata": {},
   "outputs": [
    {
     "data": {
      "text/plain": [
       "3×3 Array{Float64,2}:\n",
       " -1.0  1.0  1.0\n",
       "  1.0  1.0  1.0\n",
       "  1.0  1.0  1.0"
      ]
     },
     "execution_count": 24,
     "metadata": {},
     "output_type": "execute_result"
    }
   ],
   "source": [
    "ones(3,3)-2*P"
   ]
  },
  {
   "cell_type": "code",
   "execution_count": 25,
   "metadata": {},
   "outputs": [
    {
     "data": {
      "text/plain": [
       "3×3 Array{Float64,2}:\n",
       " 1.0  1.0  1.0\n",
       " 1.0  1.0  1.0\n",
       " 1.0  1.0  1.0"
      ]
     },
     "execution_count": 25,
     "metadata": {},
     "output_type": "execute_result"
    }
   ],
   "source": [
    "ones(3,3)"
   ]
  },
  {
   "cell_type": "code",
   "execution_count": 26,
   "metadata": {},
   "outputs": [
    {
     "ename": "UndefVarError",
     "evalue": "UndefVarError: eye not defined",
     "output_type": "error",
     "traceback": [
      "UndefVarError: eye not defined",
      "",
      "Stacktrace:",
      " [1] top-level scope at In[26]:1"
     ]
    }
   ],
   "source": [
    "eye(3)"
   ]
  },
  {
   "cell_type": "code",
   "execution_count": 51,
   "metadata": {},
   "outputs": [
    {
     "data": {
      "text/plain": [
       "identity (generic function with 1 method)"
      ]
     },
     "execution_count": 51,
     "metadata": {},
     "output_type": "execute_result"
    }
   ],
   "source": [
    "function identity(n)\n",
    "    I = zeros(n,n)\n",
    "    for i in 1:n\n",
    "        for j in 1:n\n",
    "            if i==j\n",
    "                I[i,j]=1\n",
    "            end\n",
    "        end\n",
    "    end\n",
    "\n",
    "    return(I)\n",
    "end"
   ]
  },
  {
   "cell_type": "code",
   "execution_count": 38,
   "metadata": {},
   "outputs": [
    {
     "data": {
      "text/plain": [
       "4×4 Array{Float64,2}:\n",
       " 1.0  0.0  0.0  0.0\n",
       " 0.0  1.0  0.0  0.0\n",
       " 0.0  0.0  1.0  0.0\n",
       " 0.0  0.0  0.0  1.0"
      ]
     },
     "execution_count": 38,
     "metadata": {},
     "output_type": "execute_result"
    }
   ],
   "source": [
    "identity(4)"
   ]
  },
  {
   "cell_type": "code",
   "execution_count": 41,
   "metadata": {},
   "outputs": [
    {
     "data": {
      "text/plain": [
       "3×3 Array{Float64,2}:\n",
       " -1.0  0.0  0.0\n",
       "  0.0  1.0  0.0\n",
       "  0.0  0.0  1.0"
      ]
     },
     "execution_count": 41,
     "metadata": {},
     "output_type": "execute_result"
    }
   ],
   "source": [
    "i2p = identity(3) - 2*P"
   ]
  },
  {
   "cell_type": "code",
   "execution_count": 42,
   "metadata": {},
   "outputs": [
    {
     "data": {
      "text/plain": [
       "3-element Array{Float64,1}:\n",
       " -1.0\n",
       "  0.0\n",
       "  0.0"
      ]
     },
     "execution_count": 42,
     "metadata": {},
     "output_type": "execute_result"
    }
   ],
   "source": [
    "i2p*[1;0;0]"
   ]
  },
  {
   "cell_type": "code",
   "execution_count": 77,
   "metadata": {},
   "outputs": [],
   "source": [
    "angles = LinRange(0,2π, 2000)\n",
    "\n",
    "unitVectors = []\n",
    "\n",
    "for angle in angles\n",
    "    append!(unitVectors,  [[cos(angle), sin(angle) ]] )\n",
    "end"
   ]
  },
  {
   "cell_type": "code",
   "execution_count": 139,
   "metadata": {},
   "outputs": [
    {
     "data": {
      "text/plain": [
       "2-element Array{Float64,1}:\n",
       " -0.38074980525429497\n",
       " -0.924678098474716  "
      ]
     },
     "execution_count": 139,
     "metadata": {},
     "output_type": "execute_result"
    }
   ],
   "source": [
    "using Plots\n",
    "\n",
    "A = [1 1; 0 0]\n",
    "\n",
    "\n",
    "i2p = identity(2)-2*P2\n",
    "\n",
    "\n",
    "image = []\n",
    "\n",
    "for vector in unitVectors\n",
    "    append!(image, [i2p*vector])\n",
    "end\n",
    "\n",
    "e1 = i2p*[1;0]\n",
    "e2 = i2p*[0;1]\n",
    "test = i2p*[sqrt(2)/2, sqrt(2)/2]"
   ]
  },
  {
   "cell_type": "code",
   "execution_count": 140,
   "metadata": {},
   "outputs": [
    {
     "data": {
      "image/svg+xml": [
       "<?xml version=\"1.0\" encoding=\"utf-8\"?>\n",
       "<svg xmlns=\"http://www.w3.org/2000/svg\" xmlns:xlink=\"http://www.w3.org/1999/xlink\" width=\"600\" height=\"400\" viewBox=\"0 0 2400 1600\">\n",
       "<defs>\n",
       "  <clipPath id=\"clip370\">\n",
       "    <rect x=\"0\" y=\"0\" width=\"2400\" height=\"1600\"/>\n",
       "  </clipPath>\n",
       "</defs>\n",
       "<path clip-path=\"url(#clip370)\" d=\"\n",
       "M0 1600 L2400 1600 L2400 0 L0 0  Z\n",
       "  \" fill=\"#ffffff\" fill-rule=\"evenodd\" fill-opacity=\"1\"/>\n",
       "<defs>\n",
       "  <clipPath id=\"clip371\">\n",
       "    <rect x=\"480\" y=\"0\" width=\"1681\" height=\"1600\"/>\n",
       "  </clipPath>\n",
       "</defs>\n",
       "<path clip-path=\"url(#clip370)\" d=\"\n",
       "M162.455 1486.45 L2352.76 1486.45 L2352.76 47.2441 L162.455 47.2441  Z\n",
       "  \" fill=\"#ffffff\" fill-rule=\"evenodd\" fill-opacity=\"1\"/>\n",
       "<defs>\n",
       "  <clipPath id=\"clip372\">\n",
       "    <rect x=\"162\" y=\"47\" width=\"2191\" height=\"1440\"/>\n",
       "  </clipPath>\n",
       "</defs>\n",
       "<polyline clip-path=\"url(#clip372)\" style=\"stroke:#000000; stroke-width:2; stroke-opacity:0.1; fill:none\" points=\"\n",
       "  224.444,1486.45 224.444,47.2441 \n",
       "  \"/>\n",
       "<polyline clip-path=\"url(#clip372)\" style=\"stroke:#000000; stroke-width:2; stroke-opacity:0.1; fill:none\" points=\"\n",
       "  741.024,1486.45 741.024,47.2441 \n",
       "  \"/>\n",
       "<polyline clip-path=\"url(#clip372)\" style=\"stroke:#000000; stroke-width:2; stroke-opacity:0.1; fill:none\" points=\"\n",
       "  1257.61,1486.45 1257.61,47.2441 \n",
       "  \"/>\n",
       "<polyline clip-path=\"url(#clip372)\" style=\"stroke:#000000; stroke-width:2; stroke-opacity:0.1; fill:none\" points=\"\n",
       "  1774.19,1486.45 1774.19,47.2441 \n",
       "  \"/>\n",
       "<polyline clip-path=\"url(#clip372)\" style=\"stroke:#000000; stroke-width:2; stroke-opacity:0.1; fill:none\" points=\"\n",
       "  2290.77,1486.45 2290.77,47.2441 \n",
       "  \"/>\n",
       "<polyline clip-path=\"url(#clip372)\" style=\"stroke:#000000; stroke-width:2; stroke-opacity:0.1; fill:none\" points=\"\n",
       "  162.455,1445.72 2352.76,1445.72 \n",
       "  \"/>\n",
       "<polyline clip-path=\"url(#clip372)\" style=\"stroke:#000000; stroke-width:2; stroke-opacity:0.1; fill:none\" points=\"\n",
       "  162.455,1106.28 2352.76,1106.28 \n",
       "  \"/>\n",
       "<polyline clip-path=\"url(#clip372)\" style=\"stroke:#000000; stroke-width:2; stroke-opacity:0.1; fill:none\" points=\"\n",
       "  162.455,766.846 2352.76,766.846 \n",
       "  \"/>\n",
       "<polyline clip-path=\"url(#clip372)\" style=\"stroke:#000000; stroke-width:2; stroke-opacity:0.1; fill:none\" points=\"\n",
       "  162.455,427.411 2352.76,427.411 \n",
       "  \"/>\n",
       "<polyline clip-path=\"url(#clip372)\" style=\"stroke:#000000; stroke-width:2; stroke-opacity:0.1; fill:none\" points=\"\n",
       "  162.455,87.9762 2352.76,87.9762 \n",
       "  \"/>\n",
       "<polyline clip-path=\"url(#clip370)\" style=\"stroke:#000000; stroke-width:4; stroke-opacity:1; fill:none\" points=\"\n",
       "  162.455,1486.45 2352.76,1486.45 \n",
       "  \"/>\n",
       "<polyline clip-path=\"url(#clip370)\" style=\"stroke:#000000; stroke-width:4; stroke-opacity:1; fill:none\" points=\"\n",
       "  162.455,1486.45 162.455,47.2441 \n",
       "  \"/>\n",
       "<polyline clip-path=\"url(#clip370)\" style=\"stroke:#000000; stroke-width:4; stroke-opacity:1; fill:none\" points=\"\n",
       "  224.444,1486.45 224.444,1469.18 \n",
       "  \"/>\n",
       "<polyline clip-path=\"url(#clip370)\" style=\"stroke:#000000; stroke-width:4; stroke-opacity:1; fill:none\" points=\"\n",
       "  741.024,1486.45 741.024,1469.18 \n",
       "  \"/>\n",
       "<polyline clip-path=\"url(#clip370)\" style=\"stroke:#000000; stroke-width:4; stroke-opacity:1; fill:none\" points=\"\n",
       "  1257.61,1486.45 1257.61,1469.18 \n",
       "  \"/>\n",
       "<polyline clip-path=\"url(#clip370)\" style=\"stroke:#000000; stroke-width:4; stroke-opacity:1; fill:none\" points=\"\n",
       "  1774.19,1486.45 1774.19,1469.18 \n",
       "  \"/>\n",
       "<polyline clip-path=\"url(#clip370)\" style=\"stroke:#000000; stroke-width:4; stroke-opacity:1; fill:none\" points=\"\n",
       "  2290.77,1486.45 2290.77,1469.18 \n",
       "  \"/>\n",
       "<polyline clip-path=\"url(#clip370)\" style=\"stroke:#000000; stroke-width:4; stroke-opacity:1; fill:none\" points=\"\n",
       "  162.455,1445.72 188.738,1445.72 \n",
       "  \"/>\n",
       "<polyline clip-path=\"url(#clip370)\" style=\"stroke:#000000; stroke-width:4; stroke-opacity:1; fill:none\" points=\"\n",
       "  162.455,1106.28 188.738,1106.28 \n",
       "  \"/>\n",
       "<polyline clip-path=\"url(#clip370)\" style=\"stroke:#000000; stroke-width:4; stroke-opacity:1; fill:none\" points=\"\n",
       "  162.455,766.846 188.738,766.846 \n",
       "  \"/>\n",
       "<polyline clip-path=\"url(#clip370)\" style=\"stroke:#000000; stroke-width:4; stroke-opacity:1; fill:none\" points=\"\n",
       "  162.455,427.411 188.738,427.411 \n",
       "  \"/>\n",
       "<polyline clip-path=\"url(#clip370)\" style=\"stroke:#000000; stroke-width:4; stroke-opacity:1; fill:none\" points=\"\n",
       "  162.455,87.9762 188.738,87.9762 \n",
       "  \"/>\n",
       "<path clip-path=\"url(#clip370)\" d=\"M 0 0 M186.828 1525.04 L199.305 1525.04 L199.305 1528.83 L186.828 1528.83 L186.828 1525.04 Z\" fill=\"#000000\" fill-rule=\"evenodd\" fill-opacity=\"1\" /><path clip-path=\"url(#clip370)\" d=\"M 0 0 M205.185 1535.98 L212.823 1535.98 L212.823 1509.62 L204.513 1511.29 L204.513 1507.03 L212.777 1505.36 L217.453 1505.36 L217.453 1535.98 L225.092 1535.98 L225.092 1539.92 L205.185 1539.92 L205.185 1535.98 Z\" fill=\"#000000\" fill-rule=\"evenodd\" fill-opacity=\"1\" /><path clip-path=\"url(#clip370)\" d=\"M 0 0 M230.161 1534.04 L235.046 1534.04 L235.046 1539.92 L230.161 1539.92 L230.161 1534.04 Z\" fill=\"#000000\" fill-rule=\"evenodd\" fill-opacity=\"1\" /><path clip-path=\"url(#clip370)\" d=\"M 0 0 M250.115 1508.44 Q246.504 1508.44 244.675 1512 Q242.87 1515.55 242.87 1522.67 Q242.87 1529.78 244.675 1533.35 Q246.504 1536.89 250.115 1536.89 Q253.749 1536.89 255.555 1533.35 Q257.383 1529.78 257.383 1522.67 Q257.383 1515.55 255.555 1512 Q253.749 1508.44 250.115 1508.44 M250.115 1504.73 Q255.925 1504.73 258.981 1509.34 Q262.059 1513.92 262.059 1522.67 Q262.059 1531.4 258.981 1536.01 Q255.925 1540.59 250.115 1540.59 Q244.305 1540.59 241.226 1536.01 Q238.17 1531.4 238.17 1522.67 Q238.17 1513.92 241.226 1509.34 Q244.305 1504.73 250.115 1504.73 Z\" fill=\"#000000\" fill-rule=\"evenodd\" fill-opacity=\"1\" /><path clip-path=\"url(#clip370)\" d=\"M 0 0 M703.293 1525.04 L715.77 1525.04 L715.77 1528.83 L703.293 1528.83 L703.293 1525.04 Z\" fill=\"#000000\" fill-rule=\"evenodd\" fill-opacity=\"1\" /><path clip-path=\"url(#clip370)\" d=\"M 0 0 M730.839 1508.44 Q727.228 1508.44 725.399 1512 Q723.594 1515.55 723.594 1522.67 Q723.594 1529.78 725.399 1533.35 Q727.228 1536.89 730.839 1536.89 Q734.473 1536.89 736.279 1533.35 Q738.108 1529.78 738.108 1522.67 Q738.108 1515.55 736.279 1512 Q734.473 1508.44 730.839 1508.44 M730.839 1504.73 Q736.649 1504.73 739.705 1509.34 Q742.784 1513.92 742.784 1522.67 Q742.784 1531.4 739.705 1536.01 Q736.649 1540.59 730.839 1540.59 Q725.029 1540.59 721.95 1536.01 Q718.895 1531.4 718.895 1522.67 Q718.895 1513.92 721.95 1509.34 Q725.029 1504.73 730.839 1504.73 Z\" fill=\"#000000\" fill-rule=\"evenodd\" fill-opacity=\"1\" /><path clip-path=\"url(#clip370)\" d=\"M 0 0 M747.853 1534.04 L752.737 1534.04 L752.737 1539.92 L747.853 1539.92 L747.853 1534.04 Z\" fill=\"#000000\" fill-rule=\"evenodd\" fill-opacity=\"1\" /><path clip-path=\"url(#clip370)\" d=\"M 0 0 M757.853 1505.36 L776.209 1505.36 L776.209 1509.3 L762.135 1509.3 L762.135 1517.77 Q763.154 1517.42 764.172 1517.26 Q765.191 1517.07 766.209 1517.07 Q771.996 1517.07 775.376 1520.24 Q778.756 1523.42 778.756 1528.83 Q778.756 1534.41 775.283 1537.51 Q771.811 1540.59 765.492 1540.59 Q763.316 1540.59 761.047 1540.22 Q758.802 1539.85 756.395 1539.11 L756.395 1534.41 Q758.478 1535.54 760.7 1536.1 Q762.922 1536.66 765.399 1536.66 Q769.404 1536.66 771.742 1534.55 Q774.08 1532.44 774.08 1528.83 Q774.08 1525.22 771.742 1523.11 Q769.404 1521.01 765.399 1521.01 Q763.524 1521.01 761.649 1521.42 Q759.797 1521.84 757.853 1522.72 L757.853 1505.36 Z\" fill=\"#000000\" fill-rule=\"evenodd\" fill-opacity=\"1\" /><path clip-path=\"url(#clip370)\" d=\"M 0 0 M1239.12 1508.44 Q1235.51 1508.44 1233.68 1512 Q1231.88 1515.55 1231.88 1522.67 Q1231.88 1529.78 1233.68 1533.35 Q1235.51 1536.89 1239.12 1536.89 Q1242.76 1536.89 1244.56 1533.35 Q1246.39 1529.78 1246.39 1522.67 Q1246.39 1515.55 1244.56 1512 Q1242.76 1508.44 1239.12 1508.44 M1239.12 1504.73 Q1244.93 1504.73 1247.99 1509.34 Q1251.07 1513.92 1251.07 1522.67 Q1251.07 1531.4 1247.99 1536.01 Q1244.93 1540.59 1239.12 1540.59 Q1233.31 1540.59 1230.23 1536.01 Q1227.18 1531.4 1227.18 1522.67 Q1227.18 1513.92 1230.23 1509.34 Q1233.31 1504.73 1239.12 1504.73 Z\" fill=\"#000000\" fill-rule=\"evenodd\" fill-opacity=\"1\" /><path clip-path=\"url(#clip370)\" d=\"M 0 0 M1256.14 1534.04 L1261.02 1534.04 L1261.02 1539.92 L1256.14 1539.92 L1256.14 1534.04 Z\" fill=\"#000000\" fill-rule=\"evenodd\" fill-opacity=\"1\" /><path clip-path=\"url(#clip370)\" d=\"M 0 0 M1276.09 1508.44 Q1272.48 1508.44 1270.65 1512 Q1268.84 1515.55 1268.84 1522.67 Q1268.84 1529.78 1270.65 1533.35 Q1272.48 1536.89 1276.09 1536.89 Q1279.72 1536.89 1281.53 1533.35 Q1283.36 1529.78 1283.36 1522.67 Q1283.36 1515.55 1281.53 1512 Q1279.72 1508.44 1276.09 1508.44 M1276.09 1504.73 Q1281.9 1504.73 1284.95 1509.34 Q1288.03 1513.92 1288.03 1522.67 Q1288.03 1531.4 1284.95 1536.01 Q1281.9 1540.59 1276.09 1540.59 Q1270.28 1540.59 1267.2 1536.01 Q1264.14 1531.4 1264.14 1522.67 Q1264.14 1513.92 1267.2 1509.34 Q1270.28 1504.73 1276.09 1504.73 Z\" fill=\"#000000\" fill-rule=\"evenodd\" fill-opacity=\"1\" /><path clip-path=\"url(#clip370)\" d=\"M 0 0 M1756.2 1508.44 Q1752.59 1508.44 1750.76 1512 Q1748.95 1515.55 1748.95 1522.67 Q1748.95 1529.78 1750.76 1533.35 Q1752.59 1536.89 1756.2 1536.89 Q1759.83 1536.89 1761.64 1533.35 Q1763.47 1529.78 1763.47 1522.67 Q1763.47 1515.55 1761.64 1512 Q1759.83 1508.44 1756.2 1508.44 M1756.2 1504.73 Q1762.01 1504.73 1765.07 1509.34 Q1768.14 1513.92 1768.14 1522.67 Q1768.14 1531.4 1765.07 1536.01 Q1762.01 1540.59 1756.2 1540.59 Q1750.39 1540.59 1747.31 1536.01 Q1744.26 1531.4 1744.26 1522.67 Q1744.26 1513.92 1747.31 1509.34 Q1750.39 1504.73 1756.2 1504.73 Z\" fill=\"#000000\" fill-rule=\"evenodd\" fill-opacity=\"1\" /><path clip-path=\"url(#clip370)\" d=\"M 0 0 M1773.21 1534.04 L1778.1 1534.04 L1778.1 1539.92 L1773.21 1539.92 L1773.21 1534.04 Z\" fill=\"#000000\" fill-rule=\"evenodd\" fill-opacity=\"1\" /><path clip-path=\"url(#clip370)\" d=\"M 0 0 M1783.21 1505.36 L1801.57 1505.36 L1801.57 1509.3 L1787.5 1509.3 L1787.5 1517.77 Q1788.51 1517.42 1789.53 1517.26 Q1790.55 1517.07 1791.57 1517.07 Q1797.36 1517.07 1800.74 1520.24 Q1804.12 1523.42 1804.12 1528.83 Q1804.12 1534.41 1800.64 1537.51 Q1797.17 1540.59 1790.85 1540.59 Q1788.68 1540.59 1786.41 1540.22 Q1784.16 1539.85 1781.76 1539.11 L1781.76 1534.41 Q1783.84 1535.54 1786.06 1536.1 Q1788.28 1536.66 1790.76 1536.66 Q1794.76 1536.66 1797.1 1534.55 Q1799.44 1532.44 1799.44 1528.83 Q1799.44 1525.22 1797.1 1523.11 Q1794.76 1521.01 1790.76 1521.01 Q1788.88 1521.01 1787.01 1521.42 Q1785.16 1521.84 1783.21 1522.72 L1783.21 1505.36 Z\" fill=\"#000000\" fill-rule=\"evenodd\" fill-opacity=\"1\" /><path clip-path=\"url(#clip370)\" d=\"M 0 0 M2262.66 1535.98 L2270.3 1535.98 L2270.3 1509.62 L2261.99 1511.29 L2261.99 1507.03 L2270.26 1505.36 L2274.93 1505.36 L2274.93 1535.98 L2282.57 1535.98 L2282.57 1539.92 L2262.66 1539.92 L2262.66 1535.98 Z\" fill=\"#000000\" fill-rule=\"evenodd\" fill-opacity=\"1\" /><path clip-path=\"url(#clip370)\" d=\"M 0 0 M2287.64 1534.04 L2292.53 1534.04 L2292.53 1539.92 L2287.64 1539.92 L2287.64 1534.04 Z\" fill=\"#000000\" fill-rule=\"evenodd\" fill-opacity=\"1\" /><path clip-path=\"url(#clip370)\" d=\"M 0 0 M2307.59 1508.44 Q2303.98 1508.44 2302.16 1512 Q2300.35 1515.55 2300.35 1522.67 Q2300.35 1529.78 2302.16 1533.35 Q2303.98 1536.89 2307.59 1536.89 Q2311.23 1536.89 2313.03 1533.35 Q2314.86 1529.78 2314.86 1522.67 Q2314.86 1515.55 2313.03 1512 Q2311.23 1508.44 2307.59 1508.44 M2307.59 1504.73 Q2313.41 1504.73 2316.46 1509.34 Q2319.54 1513.92 2319.54 1522.67 Q2319.54 1531.4 2316.46 1536.01 Q2313.41 1540.59 2307.59 1540.59 Q2301.78 1540.59 2298.71 1536.01 Q2295.65 1531.4 2295.65 1522.67 Q2295.65 1513.92 2298.71 1509.34 Q2301.78 1504.73 2307.59 1504.73 Z\" fill=\"#000000\" fill-rule=\"evenodd\" fill-opacity=\"1\" /><path clip-path=\"url(#clip370)\" d=\"M 0 0 M63.2236 1448.11 L75.7004 1448.11 L75.7004 1451.91 L63.2236 1451.91 L63.2236 1448.11 Z\" fill=\"#000000\" fill-rule=\"evenodd\" fill-opacity=\"1\" /><path clip-path=\"url(#clip370)\" d=\"M 0 0 M81.58 1459.06 L89.2188 1459.06 L89.2188 1432.7 L80.9087 1434.36 L80.9087 1430.1 L89.1725 1428.44 L93.8484 1428.44 L93.8484 1459.06 L101.487 1459.06 L101.487 1463 L81.58 1463 L81.58 1459.06 Z\" fill=\"#000000\" fill-rule=\"evenodd\" fill-opacity=\"1\" /><path clip-path=\"url(#clip370)\" d=\"M 0 0 M106.557 1457.12 L111.441 1457.12 L111.441 1463 L106.557 1463 L106.557 1457.12 Z\" fill=\"#000000\" fill-rule=\"evenodd\" fill-opacity=\"1\" /><path clip-path=\"url(#clip370)\" d=\"M 0 0 M126.51 1431.51 Q122.899 1431.51 121.071 1435.08 Q119.265 1438.62 119.265 1445.75 Q119.265 1452.86 121.071 1456.42 Q122.899 1459.96 126.51 1459.96 Q130.145 1459.96 131.95 1456.42 Q133.779 1452.86 133.779 1445.75 Q133.779 1438.62 131.95 1435.08 Q130.145 1431.51 126.51 1431.51 M126.51 1427.81 Q132.32 1427.81 135.376 1432.42 Q138.455 1437 138.455 1445.75 Q138.455 1454.48 135.376 1459.08 Q132.32 1463.67 126.51 1463.67 Q120.7 1463.67 117.621 1459.08 Q114.566 1454.48 114.566 1445.75 Q114.566 1437 117.621 1432.42 Q120.7 1427.81 126.51 1427.81 Z\" fill=\"#000000\" fill-rule=\"evenodd\" fill-opacity=\"1\" /><path clip-path=\"url(#clip370)\" d=\"M 0 0 M62.9921 1108.68 L75.4689 1108.68 L75.4689 1112.47 L62.9921 1112.47 L62.9921 1108.68 Z\" fill=\"#000000\" fill-rule=\"evenodd\" fill-opacity=\"1\" /><path clip-path=\"url(#clip370)\" d=\"M 0 0 M90.5383 1092.08 Q86.9272 1092.08 85.0985 1095.64 Q83.2929 1099.19 83.2929 1106.32 Q83.2929 1113.42 85.0985 1116.99 Q86.9272 1120.53 90.5383 1120.53 Q94.1725 1120.53 95.9781 1116.99 Q97.8068 1113.42 97.8068 1106.32 Q97.8068 1099.19 95.9781 1095.64 Q94.1725 1092.08 90.5383 1092.08 M90.5383 1088.38 Q96.3484 1088.38 99.404 1092.98 Q102.483 1097.57 102.483 1106.32 Q102.483 1115.04 99.404 1119.65 Q96.3484 1124.23 90.5383 1124.23 Q84.7281 1124.23 81.6494 1119.65 Q78.5939 1115.04 78.5939 1106.32 Q78.5939 1097.57 81.6494 1092.98 Q84.7281 1088.38 90.5383 1088.38 Z\" fill=\"#000000\" fill-rule=\"evenodd\" fill-opacity=\"1\" /><path clip-path=\"url(#clip370)\" d=\"M 0 0 M107.552 1117.68 L112.436 1117.68 L112.436 1123.56 L107.552 1123.56 L107.552 1117.68 Z\" fill=\"#000000\" fill-rule=\"evenodd\" fill-opacity=\"1\" /><path clip-path=\"url(#clip370)\" d=\"M 0 0 M117.552 1089 L135.908 1089 L135.908 1092.94 L121.834 1092.94 L121.834 1101.41 Q122.853 1101.06 123.871 1100.9 Q124.89 1100.71 125.908 1100.71 Q131.695 1100.71 135.075 1103.89 Q138.455 1107.06 138.455 1112.47 Q138.455 1118.05 134.982 1121.15 Q131.51 1124.23 125.191 1124.23 Q123.015 1124.23 120.746 1123.86 Q118.501 1123.49 116.094 1122.75 L116.094 1118.05 Q118.177 1119.19 120.399 1119.74 Q122.621 1120.3 125.098 1120.3 Q129.103 1120.3 131.441 1118.19 Q133.779 1116.08 133.779 1112.47 Q133.779 1108.86 131.441 1106.76 Q129.103 1104.65 125.098 1104.65 Q123.223 1104.65 121.348 1105.07 Q119.496 1105.48 117.552 1106.36 L117.552 1089 Z\" fill=\"#000000\" fill-rule=\"evenodd\" fill-opacity=\"1\" /><path clip-path=\"url(#clip370)\" d=\"M 0 0 M89.5429 752.645 Q85.9318 752.645 84.1031 756.21 Q82.2976 759.751 82.2976 766.881 Q82.2976 773.987 84.1031 777.552 Q85.9318 781.094 89.5429 781.094 Q93.1771 781.094 94.9827 777.552 Q96.8114 773.987 96.8114 766.881 Q96.8114 759.751 94.9827 756.21 Q93.1771 752.645 89.5429 752.645 M89.5429 748.941 Q95.3531 748.941 98.4086 753.548 Q101.487 758.131 101.487 766.881 Q101.487 775.608 98.4086 780.214 Q95.3531 784.798 89.5429 784.798 Q83.7328 784.798 80.6541 780.214 Q77.5985 775.608 77.5985 766.881 Q77.5985 758.131 80.6541 753.548 Q83.7328 748.941 89.5429 748.941 Z\" fill=\"#000000\" fill-rule=\"evenodd\" fill-opacity=\"1\" /><path clip-path=\"url(#clip370)\" d=\"M 0 0 M106.557 778.247 L111.441 778.247 L111.441 784.126 L106.557 784.126 L106.557 778.247 Z\" fill=\"#000000\" fill-rule=\"evenodd\" fill-opacity=\"1\" /><path clip-path=\"url(#clip370)\" d=\"M 0 0 M126.51 752.645 Q122.899 752.645 121.071 756.21 Q119.265 759.751 119.265 766.881 Q119.265 773.987 121.071 777.552 Q122.899 781.094 126.51 781.094 Q130.145 781.094 131.95 777.552 Q133.779 773.987 133.779 766.881 Q133.779 759.751 131.95 756.21 Q130.145 752.645 126.51 752.645 M126.51 748.941 Q132.32 748.941 135.376 753.548 Q138.455 758.131 138.455 766.881 Q138.455 775.608 135.376 780.214 Q132.32 784.798 126.51 784.798 Q120.7 784.798 117.621 780.214 Q114.566 775.608 114.566 766.881 Q114.566 758.131 117.621 753.548 Q120.7 748.941 126.51 748.941 Z\" fill=\"#000000\" fill-rule=\"evenodd\" fill-opacity=\"1\" /><path clip-path=\"url(#clip370)\" d=\"M 0 0 M90.5383 413.21 Q86.9272 413.21 85.0985 416.775 Q83.2929 420.316 83.2929 427.446 Q83.2929 434.552 85.0985 438.117 Q86.9272 441.659 90.5383 441.659 Q94.1725 441.659 95.9781 438.117 Q97.8068 434.552 97.8068 427.446 Q97.8068 420.316 95.9781 416.775 Q94.1725 413.21 90.5383 413.21 M90.5383 409.506 Q96.3484 409.506 99.404 414.113 Q102.483 418.696 102.483 427.446 Q102.483 436.173 99.404 440.779 Q96.3484 445.363 90.5383 445.363 Q84.7281 445.363 81.6494 440.779 Q78.5939 436.173 78.5939 427.446 Q78.5939 418.696 81.6494 414.113 Q84.7281 409.506 90.5383 409.506 Z\" fill=\"#000000\" fill-rule=\"evenodd\" fill-opacity=\"1\" /><path clip-path=\"url(#clip370)\" d=\"M 0 0 M107.552 438.812 L112.436 438.812 L112.436 444.691 L107.552 444.691 L107.552 438.812 Z\" fill=\"#000000\" fill-rule=\"evenodd\" fill-opacity=\"1\" /><path clip-path=\"url(#clip370)\" d=\"M 0 0 M117.552 410.131 L135.908 410.131 L135.908 414.066 L121.834 414.066 L121.834 422.539 Q122.853 422.191 123.871 422.029 Q124.89 421.844 125.908 421.844 Q131.695 421.844 135.075 425.015 Q138.455 428.187 138.455 433.603 Q138.455 439.182 134.982 442.284 Q131.51 445.363 125.191 445.363 Q123.015 445.363 120.746 444.992 Q118.501 444.622 116.094 443.881 L116.094 439.182 Q118.177 440.316 120.399 440.872 Q122.621 441.427 125.098 441.427 Q129.103 441.427 131.441 439.321 Q133.779 437.214 133.779 433.603 Q133.779 429.992 131.441 427.886 Q129.103 425.779 125.098 425.779 Q123.223 425.779 121.348 426.196 Q119.496 426.613 117.552 427.492 L117.552 410.131 Z\" fill=\"#000000\" fill-rule=\"evenodd\" fill-opacity=\"1\" /><path clip-path=\"url(#clip370)\" d=\"M 0 0 M81.58 101.321 L89.2188 101.321 L89.2188 74.9555 L80.9087 76.6221 L80.9087 72.3629 L89.1725 70.6962 L93.8484 70.6962 L93.8484 101.321 L101.487 101.321 L101.487 105.256 L81.58 105.256 L81.58 101.321 Z\" fill=\"#000000\" fill-rule=\"evenodd\" fill-opacity=\"1\" /><path clip-path=\"url(#clip370)\" d=\"M 0 0 M106.557 99.3766 L111.441 99.3766 L111.441 105.256 L106.557 105.256 L106.557 99.3766 Z\" fill=\"#000000\" fill-rule=\"evenodd\" fill-opacity=\"1\" /><path clip-path=\"url(#clip370)\" d=\"M 0 0 M126.51 73.7749 Q122.899 73.7749 121.071 77.3397 Q119.265 80.8814 119.265 88.011 Q119.265 95.1174 121.071 98.6822 Q122.899 102.224 126.51 102.224 Q130.145 102.224 131.95 98.6822 Q133.779 95.1174 133.779 88.011 Q133.779 80.8814 131.95 77.3397 Q130.145 73.7749 126.51 73.7749 M126.51 70.0712 Q132.32 70.0712 135.376 74.6777 Q138.455 79.261 138.455 88.011 Q138.455 96.7378 135.376 101.344 Q132.32 105.928 126.51 105.928 Q120.7 105.928 117.621 101.344 Q114.566 96.7378 114.566 88.011 Q114.566 79.261 117.621 74.6777 Q120.7 70.0712 126.51 70.0712 Z\" fill=\"#000000\" fill-rule=\"evenodd\" fill-opacity=\"1\" /><polyline clip-path=\"url(#clip372)\" style=\"stroke:#009af9; stroke-width:4; stroke-opacity:1; fill:none\" points=\"\n",
       "  1654.97,1393.5 1651.98,1394.31 1648.97,1395.12 1645.96,1395.93 1642.95,1396.73 1639.94,1397.52 1636.92,1398.31 1633.9,1399.09 1630.87,1399.86 1627.84,1400.63 \n",
       "  1624.81,1401.39 1621.77,1402.15 1618.73,1402.9 1615.69,1403.64 1612.64,1404.37 1609.59,1405.1 1606.53,1405.83 1603.47,1406.55 1600.41,1407.26 1597.35,1407.96 \n",
       "  1594.28,1408.66 1591.21,1409.35 1588.13,1410.04 1585.05,1410.72 1581.97,1411.39 1578.89,1412.06 1575.8,1412.72 1572.71,1413.37 1569.61,1414.02 1566.52,1414.66 \n",
       "  1563.41,1415.3 1560.31,1415.92 1557.21,1416.55 1554.1,1417.16 1550.98,1417.77 1547.87,1418.37 1544.75,1418.97 1541.63,1419.56 1538.51,1420.14 1535.38,1420.72 \n",
       "  1532.25,1421.29 1529.12,1421.85 1525.98,1422.41 1522.85,1422.96 1519.71,1423.51 1516.56,1424.05 1513.42,1424.58 1510.27,1425.1 1507.12,1425.62 1503.97,1426.13 \n",
       "  1500.81,1426.64 1497.66,1427.14 1494.5,1427.63 1491.33,1428.12 1488.17,1428.6 1485,1429.07 1481.84,1429.53 1478.66,1429.99 1475.49,1430.45 1472.32,1430.89 \n",
       "  1469.14,1431.33 1465.96,1431.77 1462.78,1432.2 1459.59,1432.62 1456.41,1433.03 1453.22,1433.44 1450.03,1433.84 1446.84,1434.23 1443.64,1434.62 1440.45,1435 \n",
       "  1437.25,1435.37 1434.05,1435.74 1430.85,1436.1 1427.65,1436.46 1424.45,1436.81 1421.24,1437.15 1418.03,1437.48 1414.83,1437.81 1411.61,1438.13 1408.4,1438.45 \n",
       "  1405.19,1438.75 1401.97,1439.06 1398.76,1439.35 1395.54,1439.64 1392.32,1439.92 1389.1,1440.2 1385.88,1440.46 1382.66,1440.73 1379.43,1440.98 1376.21,1441.23 \n",
       "  1372.98,1441.47 1369.75,1441.7 1366.52,1441.93 1363.29,1442.15 1360.06,1442.37 1356.83,1442.58 1353.6,1442.78 1350.37,1442.97 1347.13,1443.16 1343.9,1443.34 \n",
       "  1340.66,1443.52 1337.42,1443.69 1334.18,1443.85 1330.94,1444 1327.7,1444.15 1324.46,1444.29 1321.22,1444.43 1317.98,1444.56 1314.74,1444.68 1311.5,1444.79 \n",
       "  1308.25,1444.9 1305.01,1445 1301.77,1445.1 1298.52,1445.18 1295.28,1445.26 1292.03,1445.34 1288.79,1445.41 1285.54,1445.47 1282.29,1445.52 1279.05,1445.57 \n",
       "  1275.8,1445.61 1272.55,1445.65 1269.31,1445.67 1266.06,1445.69 1262.81,1445.71 1259.56,1445.72 1256.32,1445.72 1253.07,1445.71 1249.82,1445.7 1246.57,1445.68 \n",
       "  1243.33,1445.65 1240.08,1445.62 1236.83,1445.58 1233.59,1445.53 1230.34,1445.48 1227.09,1445.42 1223.85,1445.35 1220.6,1445.28 1217.36,1445.2 1214.11,1445.11 \n",
       "  1210.87,1445.02 1207.62,1444.92 1204.38,1444.81 1201.14,1444.7 1197.9,1444.58 1194.65,1444.45 1191.41,1444.32 1188.17,1444.18 1184.93,1444.03 1181.69,1443.88 \n",
       "  1178.46,1443.72 1175.22,1443.55 1171.98,1443.38 1168.75,1443.2 1165.51,1443.01 1162.28,1442.82 1159.04,1442.62 1155.81,1442.41 1152.58,1442.2 1149.35,1441.98 \n",
       "  1146.12,1441.75 1142.89,1441.52 1139.67,1441.28 1136.44,1441.03 1133.22,1440.78 1129.99,1440.52 1126.77,1440.25 1123.55,1439.98 1120.33,1439.7 1117.11,1439.41 \n",
       "  1113.9,1439.12 1110.68,1438.82 1107.47,1438.51 1104.26,1438.2 1101.05,1437.88 1097.84,1437.55 1094.63,1437.22 1091.42,1436.88 1088.22,1436.53 1085.02,1436.18 \n",
       "  1081.82,1435.82 1078.62,1435.45 1075.42,1435.08 1072.22,1434.7 1069.03,1434.31 1065.84,1433.92 1062.65,1433.52 1059.46,1433.11 1056.27,1432.7 1053.09,1432.28 \n",
       "  1049.91,1431.86 1046.73,1431.42 1043.55,1430.99 1040.37,1430.54 1037.2,1430.09 1034.03,1429.63 1030.86,1429.17 1027.69,1428.69 1024.53,1428.22 1021.36,1427.73 \n",
       "  1018.2,1427.24 1015.05,1426.74 1011.89,1426.24 1008.74,1425.73 1005.59,1425.21 1002.44,1424.69 999.294,1424.16 996.151,1423.62 993.011,1423.08 989.873,1422.53 \n",
       "  986.738,1421.97 983.605,1421.41 980.476,1420.84 977.349,1420.26 974.224,1419.68 971.103,1419.09 967.984,1418.5 964.869,1417.9 961.756,1417.29 958.646,1416.67 \n",
       "  955.539,1416.05 952.435,1415.43 949.334,1414.79 946.236,1414.15 943.141,1413.51 940.049,1412.85 936.961,1412.19 933.875,1411.53 930.793,1410.86 927.714,1410.18 \n",
       "  924.638,1409.49 921.566,1408.8 918.497,1408.11 915.431,1407.4 912.368,1406.69 909.309,1405.98 906.254,1405.25 903.202,1404.53 900.153,1403.79 897.108,1403.05 \n",
       "  894.066,1402.3 891.028,1401.55 887.994,1400.79 884.964,1400.02 881.937,1399.25 878.913,1398.47 875.894,1397.68 872.878,1396.89 869.866,1396.09 866.858,1395.29 \n",
       "  863.854,1394.48 860.853,1393.66 857.857,1392.84 854.864,1392.01 851.876,1391.18 848.891,1390.34 845.911,1389.49 842.935,1388.64 839.962,1387.78 836.994,1386.91 \n",
       "  834.03,1386.04 831.07,1385.16 828.115,1384.28 825.163,1383.39 822.216,1382.49 819.273,1381.59 816.335,1380.68 813.401,1379.77 810.471,1378.85 807.546,1377.92 \n",
       "  804.625,1376.99 801.708,1376.05 798.797,1375.1 795.889,1374.15 792.986,1373.2 790.088,1372.23 787.195,1371.27 784.306,1370.29 781.421,1369.31 778.542,1368.32 \n",
       "  775.667,1367.33 772.797,1366.33 769.932,1365.33 767.071,1364.32 764.216,1363.3 761.365,1362.28 758.519,1361.25 755.678,1360.22 752.842,1359.18 750.011,1358.13 \n",
       "  747.185,1357.08 744.365,1356.03 741.549,1354.96 738.738,1353.89 735.932,1352.82 733.132,1351.74 730.337,1350.65 727.547,1349.56 724.762,1348.46 721.982,1347.36 \n",
       "  719.208,1346.25 716.439,1345.14 713.675,1344.02 710.917,1342.89 708.164,1341.76 705.417,1340.62 702.675,1339.48 699.939,1338.33 697.208,1337.17 694.482,1336.01 \n",
       "  691.762,1334.85 689.048,1333.68 686.34,1332.5 683.637,1331.32 680.939,1330.13 678.248,1328.94 675.562,1327.74 672.882,1326.53 670.207,1325.32 667.539,1324.1 \n",
       "  664.876,1322.88 662.219,1321.66 659.568,1320.42 656.923,1319.19 654.284,1317.94 651.65,1316.69 649.023,1315.44 646.402,1314.18 643.787,1312.92 641.178,1311.64 \n",
       "  638.575,1310.37 635.978,1309.09 633.387,1307.8 630.803,1306.51 628.224,1305.21 625.652,1303.91 623.086,1302.6 620.526,1301.29 617.973,1299.97 615.426,1298.65 \n",
       "  612.885,1297.32 610.351,1295.98 607.823,1294.64 605.301,1293.3 602.786,1291.95 600.278,1290.59 597.776,1289.23 595.28,1287.87 592.791,1286.5 590.309,1285.12 \n",
       "  587.833,1283.74 585.363,1282.36 582.901,1280.97 580.445,1279.57 577.995,1278.17 575.553,1276.76 573.117,1275.35 570.688,1273.93 568.266,1272.51 565.85,1271.09 \n",
       "  563.442,1269.66 561.04,1268.22 558.645,1266.78 556.257,1265.33 553.876,1263.88 551.502,1262.43 549.135,1260.97 546.775,1259.5 544.421,1258.03 542.075,1256.55 \n",
       "  539.736,1255.07 537.405,1253.59 535.08,1252.1 532.762,1250.6 530.452,1249.1 528.148,1247.6 525.852,1246.09 523.563,1244.58 521.282,1243.06 519.007,1241.54 \n",
       "  516.74,1240.01 514.481,1238.48 512.228,1236.94 509.983,1235.4 507.746,1233.85 505.515,1232.3 503.293,1230.74 501.077,1229.18 498.869,1227.62 496.669,1226.05 \n",
       "  494.476,1224.48 492.291,1222.9 490.113,1221.32 487.943,1219.73 485.78,1218.14 483.625,1216.54 481.478,1214.94 479.338,1213.33 477.206,1211.72 475.082,1210.11 \n",
       "  472.966,1208.49 470.857,1206.87 468.756,1205.24 466.663,1203.61 464.577,1201.98 462.5,1200.34 460.43,1198.69 458.368,1197.04 456.315,1195.39 454.269,1193.73 \n",
       "  452.231,1192.07 450.2,1190.41 448.178,1188.74 446.164,1187.06 444.158,1185.38 442.16,1183.7 440.17,1182.02 438.188,1180.33 436.214,1178.63 434.249,1176.93 \n",
       "  432.291,1175.23 430.341,1173.52 428.4,1171.81 426.467,1170.1 424.542,1168.38 422.626,1166.66 420.717,1164.93 418.817,1163.2 416.925,1161.47 415.042,1159.73 \n",
       "  413.167,1157.99 411.3,1156.24 409.441,1154.49 407.591,1152.74 405.749,1150.98 403.916,1149.22 402.091,1147.45 400.275,1145.68 398.467,1143.91 396.667,1142.14 \n",
       "  394.876,1140.36 393.094,1138.57 391.32,1136.78 389.555,1134.99 387.798,1133.2 386.05,1131.4 384.31,1129.6 382.579,1127.79 380.857,1125.98 379.144,1124.17 \n",
       "  377.439,1122.36 375.742,1120.54 374.055,1118.71 372.376,1116.89 370.706,1115.06 369.045,1113.22 367.392,1111.39 365.748,1109.55 364.114,1107.7 362.487,1105.86 \n",
       "  360.87,1104.01 359.262,1102.15 357.662,1100.29 356.072,1098.43 354.49,1096.57 352.917,1094.7 351.353,1092.83 349.798,1090.96 348.253,1089.08 346.716,1087.2 \n",
       "  345.188,1085.32 343.669,1083.44 342.159,1081.55 340.658,1079.65 339.166,1077.76 337.684,1075.86 336.21,1073.96 334.745,1072.05 333.29,1070.15 331.844,1068.24 \n",
       "  330.407,1066.32 328.979,1064.41 327.56,1062.49 326.15,1060.56 324.75,1058.64 323.359,1056.71 321.977,1054.78 320.604,1052.85 319.24,1050.91 317.886,1048.97 \n",
       "  316.541,1047.03 315.206,1045.08 313.879,1043.14 312.562,1041.19 311.255,1039.23 309.956,1037.28 308.668,1035.32 307.388,1033.36 306.118,1031.39 304.857,1029.43 \n",
       "  303.606,1027.46 302.364,1025.49 301.131,1023.51 299.908,1021.54 298.695,1019.56 297.491,1017.57 296.296,1015.59 295.111,1013.6 293.935,1011.61 292.769,1009.62 \n",
       "  291.613,1007.63 290.466,1005.63 289.328,1003.63 288.2,1001.63 287.082,999.63 285.973,997.624 284.874,995.616 283.784,993.606 282.705,991.594 281.634,989.579 \n",
       "  280.574,987.563 279.523,985.544 278.481,983.523 277.45,981.499 276.428,979.474 275.416,977.446 274.413,975.417 273.42,973.385 272.437,971.352 271.464,969.316 \n",
       "  270.5,967.278 269.546,965.239 268.602,963.197 267.668,961.153 266.743,959.108 265.828,957.06 264.923,955.011 264.028,952.96 263.143,950.907 262.267,948.852 \n",
       "  261.401,946.796 260.545,944.737 259.699,942.677 258.863,940.615 258.037,938.552 257.221,936.487 256.414,934.42 255.617,932.351 254.831,930.281 254.054,928.209 \n",
       "  253.287,926.136 252.53,924.061 251.783,921.984 251.046,919.906 250.318,917.826 249.601,915.745 248.894,913.663 248.197,911.579 247.509,909.493 246.832,907.406 \n",
       "  246.165,905.318 245.507,903.228 244.86,901.137 244.222,899.045 243.595,896.952 242.978,894.857 242.37,892.76 241.773,890.663 241.186,888.564 240.609,886.465 \n",
       "  240.041,884.364 239.484,882.261 238.937,880.158 238.4,878.054 237.873,875.948 237.356,873.842 236.85,871.734 236.353,869.625 235.866,867.516 235.39,865.405 \n",
       "  234.923,863.293 234.467,861.181 234.021,859.067 233.585,856.953 233.159,854.837 232.743,852.721 232.337,850.604 231.942,848.486 231.556,846.367 231.181,844.248 \n",
       "  230.816,842.127 230.461,840.006 230.116,837.885 229.781,835.762 229.457,833.639 229.142,831.515 228.838,829.391 228.544,827.266 228.26,825.14 227.986,823.014 \n",
       "  227.722,820.887 227.469,818.76 227.226,816.632 226.993,814.504 226.77,812.375 226.557,810.246 226.355,808.116 226.162,805.986 225.98,803.856 225.808,801.725 \n",
       "  225.646,799.594 225.495,797.462 225.354,795.331 225.222,793.199 225.101,791.066 224.991,788.934 224.89,786.801 224.8,784.668 224.72,782.535 224.65,780.402 \n",
       "  224.59,778.268 224.54,776.135 224.501,774.001 224.472,771.867 224.453,769.733 224.444,767.6 224.446,765.466 224.458,763.332 224.479,761.198 224.512,759.065 \n",
       "  224.554,756.931 224.606,754.797 224.669,752.664 224.742,750.531 224.825,748.398 224.919,746.265 225.022,744.132 225.136,742 225.26,739.867 225.394,737.735 \n",
       "  225.538,735.604 225.693,733.472 225.858,731.341 226.033,729.211 226.218,727.08 226.413,724.95 226.619,722.821 226.834,720.692 227.06,718.563 227.296,716.435 \n",
       "  227.542,714.307 227.799,712.18 228.065,710.053 228.342,707.927 228.629,705.802 228.926,703.677 229.233,701.553 229.551,699.429 229.878,697.306 230.216,695.184 \n",
       "  230.564,693.063 230.922,690.942 231.29,688.822 231.668,686.703 232.057,684.584 232.455,682.466 232.864,680.35 233.283,678.234 233.712,676.119 234.151,674.004 \n",
       "  234.6,671.891 235.059,669.779 235.529,667.667 236.008,665.557 236.498,663.447 236.998,661.339 237.507,659.232 238.027,657.125 238.557,655.02 239.097,652.916 \n",
       "  239.647,650.813 240.207,648.711 240.777,646.611 241.357,644.511 241.948,642.413 242.548,640.316 243.158,638.22 243.778,636.126 244.409,634.032 245.049,631.941 \n",
       "  245.699,629.85 246.36,627.761 247.03,625.673 247.71,623.586 248.401,621.501 249.101,619.418 249.811,617.336 250.531,615.255 251.261,613.176 252.001,611.098 \n",
       "  252.751,609.022 253.511,606.947 254.281,604.875 255.061,602.803 255.85,600.733 256.65,598.665 257.459,596.599 258.279,594.534 259.108,592.471 259.947,590.41 \n",
       "  260.796,588.35 261.655,586.292 262.523,584.236 263.402,582.182 264.29,580.129 265.188,578.079 266.096,576.03 267.014,573.983 267.941,571.938 268.878,569.895 \n",
       "  269.825,567.854 270.782,565.815 271.749,563.778 272.725,561.743 273.711,559.71 274.707,557.679 275.712,555.65 276.727,553.623 277.752,551.598 278.786,549.576 \n",
       "  279.83,547.555 280.884,545.537 281.948,543.521 283.021,541.507 284.104,539.495 285.196,537.486 286.298,535.479 287.409,533.474 288.531,531.471 289.661,529.471 \n",
       "  290.802,527.473 291.951,525.477 293.111,523.484 294.28,521.493 295.458,519.505 296.646,517.519 297.843,515.536 299.05,513.555 300.267,511.576 301.492,509.6 \n",
       "  302.728,507.627 303.972,505.656 305.227,503.688 306.49,501.722 307.763,499.759 309.045,497.799 310.337,495.841 311.638,493.886 312.948,491.934 314.268,489.984 \n",
       "  315.597,488.037 316.935,486.093 318.283,484.151 319.64,482.213 321.006,480.277 322.382,478.344 323.766,476.414 325.16,474.487 326.563,472.562 327.976,470.641 \n",
       "  329.397,468.723 330.828,466.807 332.268,464.894 333.717,462.985 335.175,461.078 336.642,459.175 338.118,457.274 339.604,455.376 341.098,453.482 342.602,451.591 \n",
       "  344.114,449.703 345.636,447.817 347.166,445.936 348.706,444.057 350.254,442.181 351.812,440.309 353.378,438.44 354.954,436.574 356.538,434.711 358.131,432.852 \n",
       "  359.734,430.996 361.344,429.143 362.964,427.294 364.593,425.448 366.231,423.605 367.877,421.766 369.532,419.93 371.196,418.097 372.868,416.269 374.55,414.443 \n",
       "  376.24,412.621 377.939,410.802 379.646,408.987 381.362,407.176 383.087,405.368 384.821,403.564 386.563,401.763 388.313,399.966 390.073,398.172 391.84,396.382 \n",
       "  393.617,394.596 395.402,392.813 397.195,391.035 398.997,389.259 400.808,387.488 402.627,385.72 404.454,383.956 406.29,382.196 408.134,380.44 409.986,378.687 \n",
       "  411.847,376.939 413.717,375.194 415.594,373.453 417.48,371.716 419.375,369.983 421.277,368.253 423.188,366.528 425.107,364.807 427.034,363.089 428.97,361.376 \n",
       "  430.913,359.667 432.865,357.961 434.825,356.26 436.793,354.563 438.77,352.87 440.754,351.18 442.746,349.495 444.747,347.815 446.755,346.138 448.772,344.465 \n",
       "  450.796,342.797 452.829,341.133 454.869,339.473 456.917,337.817 458.973,336.165 461.038,334.518 463.11,332.875 465.189,331.236 467.277,329.602 469.373,327.972 \n",
       "  471.476,326.346 473.587,324.725 475.706,323.107 477.832,321.495 479.966,319.887 482.108,318.283 484.258,316.683 486.415,315.088 488.58,313.498 490.752,311.912 \n",
       "  492.932,310.33 495.12,308.753 497.315,307.181 499.517,305.613 501.727,304.049 503.945,302.49 506.17,300.936 508.402,299.387 510.642,297.842 512.889,296.301 \n",
       "  515.144,294.765 517.406,293.234 519.675,291.708 521.951,290.186 524.235,288.669 526.526,287.157 528.824,285.649 531.13,284.147 533.442,282.649 535.762,281.155 \n",
       "  538.089,279.667 540.423,278.183 542.764,276.705 545.112,275.231 547.467,273.762 549.83,272.297 552.199,270.838 554.575,269.384 556.958,267.934 559.348,266.489 \n",
       "  561.745,265.05 564.149,263.615 566.559,262.185 568.977,260.761 571.401,259.341 573.832,257.926 576.27,256.517 578.714,255.112 581.166,253.712 583.624,252.318 \n",
       "  586.088,250.928 588.559,249.544 591.037,248.165 593.522,246.791 596.013,245.422 598.51,244.058 601.014,242.699 603.525,241.346 606.042,239.997 608.565,238.654 \n",
       "  611.095,237.317 613.631,235.984 616.174,234.657 618.723,233.334 621.278,232.018 623.839,230.706 626.407,229.4 628.981,228.099 631.561,226.803 634.148,225.513 \n",
       "  636.74,224.228 639.339,222.948 641.944,221.674 644.555,220.405 647.172,219.142 649.795,217.884 652.424,216.631 655.059,215.384 657.699,214.142 660.346,212.906 \n",
       "  662.999,211.675 665.658,210.45 668.322,209.23 670.992,208.016 673.668,206.807 676.35,205.604 679.038,204.406 681.731,203.214 684.43,202.027 687.135,200.846 \n",
       "  689.845,199.671 692.561,198.501 695.283,197.337 698.01,196.178 700.742,195.025 703.48,193.878 706.224,192.737 708.973,191.601 711.727,190.47 714.487,189.346 \n",
       "  717.252,188.227 720.023,187.114 722.798,186.006 725.58,184.905 728.366,183.809 731.157,182.719 733.954,181.634 736.756,180.556 739.563,179.483 742.376,178.416 \n",
       "  745.193,177.355 748.015,176.299 750.843,175.25 753.675,174.206 756.512,173.168 759.355,172.136 762.202,171.11 765.054,170.09 767.911,169.076 770.773,168.067 \n",
       "  773.64,167.065 776.511,166.068 779.388,165.077 782.268,164.093 785.154,163.114 788.044,162.141 790.939,161.174 793.839,160.214 796.743,159.259 799.652,158.31 \n",
       "  802.565,157.367 805.483,156.43 808.405,155.5 811.331,154.575 814.262,153.656 817.198,152.744 820.138,151.837 823.082,150.937 826.03,150.042 828.983,149.154 \n",
       "  831.939,148.272 834.901,147.396 837.866,146.526 840.835,145.662 843.809,144.804 846.786,143.953 849.768,143.107 852.754,142.268 855.743,141.435 858.737,140.608 \n",
       "  861.735,139.787 864.736,138.973 867.741,138.165 870.751,137.363 873.764,136.567 876.781,135.777 879.801,134.994 882.826,134.217 885.854,133.446 888.885,132.681 \n",
       "  891.921,131.923 894.96,131.17 898.002,130.425 901.048,129.685 904.098,128.952 907.151,128.225 910.208,127.504 913.268,126.79 916.331,126.082 919.398,125.38 \n",
       "  922.468,124.685 925.542,123.996 928.618,123.313 931.698,122.637 934.781,121.967 937.868,121.304 940.957,120.646 944.05,119.996 947.146,119.351 950.245,118.713 \n",
       "  953.347,118.082 956.451,117.456 959.559,116.838 962.67,116.225 965.784,115.619 968.9,115.02 972.02,114.427 975.142,113.84 978.267,113.26 981.395,112.686 \n",
       "  984.526,112.119 987.659,111.558 990.795,111.004 993.933,110.456 997.075,109.915 1000.22,109.38 1003.36,108.852 1006.51,108.33 1009.66,107.815 1012.82,107.306 \n",
       "  1015.97,106.804 1019.13,106.308 1022.29,105.819 1025.46,105.336 1028.62,104.86 1031.79,104.39 1034.96,103.927 1038.13,103.47 1041.31,103.02 1044.48,102.577 \n",
       "  1047.66,102.14 1050.84,101.71 1054.03,101.286 1057.21,100.869 1060.4,100.458 1063.59,100.054 1066.78,99.6567 1069.97,99.2659 1073.16,98.8817 1076.36,98.5041 \n",
       "  1079.56,98.133 1082.76,97.7686 1085.96,97.4108 1089.16,97.0596 1092.37,96.715 1095.57,96.3771 1098.78,96.0457 1101.99,95.721 1105.2,95.4029 1108.41,95.0915 \n",
       "  1111.63,94.7867 1114.84,94.4885 1118.06,94.197 1121.28,93.9121 1124.5,93.6339 1127.72,93.3623 1130.94,93.0974 1134.16,92.8391 1137.39,92.5875 1140.62,92.3425 \n",
       "  1143.84,92.1043 1147.07,91.8726 1150.3,91.6477 1153.53,91.4294 1156.76,91.2178 1159.99,91.0128 1163.23,90.8146 1166.46,90.623 1169.7,90.4381 1172.93,90.2599 \n",
       "  1176.17,90.0884 1179.41,89.9235 1182.65,89.7654 1185.89,89.6139 1189.13,89.4691 1192.37,89.331 1195.61,89.1996 1198.85,89.0749 1202.09,88.9569 1205.33,88.8456 \n",
       "  1208.58,88.741 1211.82,88.6431 1215.07,88.5519 1218.31,88.4674 1221.56,88.3896 1224.8,88.3185 1228.05,88.2541 1231.29,88.1964 1234.54,88.1454 1237.79,88.1011 \n",
       "  1241.03,88.0636 1244.28,88.0327 1247.53,88.0085 1250.78,87.9911 1254.02,87.9803 1257.27,87.9763 1260.52,87.9789 1263.77,87.9883 1267.01,88.0044 1270.26,88.0272 \n",
       "  1273.51,88.0567 1276.75,88.0928 1280,88.1357 1283.25,88.1854 1286.49,88.2417 1289.74,88.3047 1292.98,88.3744 1296.23,88.4508 1299.47,88.5339 1302.72,88.6238 \n",
       "  1305.96,88.7203 1309.21,88.8235 1312.45,88.9334 1315.69,89.0501 1318.93,89.1734 1322.18,89.3034 1325.42,89.4401 1328.66,89.5835 1331.9,89.7336 1335.13,89.8904 \n",
       "  1338.37,90.0538 1341.61,90.224 1344.85,90.4008 1348.08,90.5843 1351.32,90.7745 1354.55,90.9714 1357.78,91.175 1361.01,91.3852 1364.24,91.6021 1367.47,91.8257 \n",
       "  1370.7,92.056 1373.93,92.2929 1377.16,92.5364 1380.38,92.7867 1383.6,93.0436 1386.83,93.3071 1390.05,93.5773 1393.27,93.8542 1396.49,94.1377 1399.7,94.4279 \n",
       "  1402.92,94.7247 1406.13,95.0281 1409.35,95.3382 1412.56,95.6549 1415.77,95.9782 1418.98,96.3082 1422.18,96.6448 1425.39,96.988 1428.59,97.3379 1431.79,97.6943 \n",
       "  1434.99,98.0574 1438.19,98.427 1441.39,98.8033 1444.58,99.1862 1447.78,99.5756 1450.97,99.9717 1454.16,100.374 1457.34,100.784 1460.53,101.199 1463.71,101.622 \n",
       "  1466.89,102.051 1470.07,102.486 1473.25,102.928 1476.42,103.377 1479.6,103.832 1482.77,104.294 1485.93,104.762 1489.1,105.237 1492.26,105.718 1495.43,106.206 \n",
       "  1498.58,106.701 1501.74,107.202 1504.9,107.709 1508.05,108.223 1511.2,108.744 1514.34,109.271 1517.49,109.804 1520.63,110.344 1523.77,110.891 1526.9,111.444 \n",
       "  1530.04,112.003 1533.17,112.569 1536.3,113.141 1539.42,113.72 1542.55,114.305 1545.67,114.897 1548.78,115.495 1551.9,116.1 1555.01,116.711 1558.12,117.328 \n",
       "  1561.22,117.952 1564.33,118.582 1567.43,119.219 1570.52,119.862 1573.62,120.512 1576.71,121.168 1579.79,121.83 1582.88,122.498 1585.96,123.173 1589.03,123.855 \n",
       "  1592.11,124.542 1595.18,125.236 1598.25,125.937 1601.31,126.643 1604.37,127.356 1607.43,128.076 1610.48,128.801 1613.53,129.533 1616.58,130.272 1619.62,131.016 \n",
       "  1622.66,131.767 1625.7,132.524 1628.73,133.287 1631.76,134.057 1634.79,134.833 1637.81,135.615 1640.82,136.403 1643.84,137.198 1646.85,137.999 1649.85,138.806 \n",
       "  1652.86,139.619 1655.86,140.438 1658.85,141.264 1661.84,142.096 1664.83,142.934 1667.81,143.778 1670.79,144.628 1673.76,145.485 1676.73,146.347 1679.7,147.216 \n",
       "  1682.66,148.091 1685.62,148.972 1688.57,149.859 1691.52,150.752 1694.47,151.651 1697.41,152.556 1700.34,153.468 1703.27,154.385 1706.2,155.308 1709.13,156.238 \n",
       "  1712.04,157.174 1714.96,158.115 1717.87,159.063 1720.77,160.016 1723.67,160.976 1726.57,161.941 1729.46,162.913 1732.35,163.89 1735.23,164.874 1738.11,165.863 \n",
       "  1740.98,166.859 1743.85,167.86 1746.71,168.867 1749.57,169.88 1752.42,170.899 1755.27,171.924 1758.11,172.955 1760.95,173.992 1763.78,175.034 1766.61,176.082 \n",
       "  1769.44,177.137 1772.25,178.197 1775.07,179.262 1777.88,180.334 1780.68,181.411 1783.48,182.495 1786.27,183.584 1789.06,184.678 1791.84,185.779 1794.62,186.885 \n",
       "  1797.39,187.997 1800.15,189.115 1802.91,190.238 1805.67,191.367 1808.42,192.502 1811.16,193.642 1813.9,194.788 1816.64,195.94 1819.37,197.098 1822.09,198.261 \n",
       "  1824.81,199.429 1827.52,200.604 1830.22,201.783 1832.92,202.969 1835.62,204.16 1838.31,205.356 1840.99,206.558 1843.67,207.766 1846.34,208.979 1849,210.198 \n",
       "  1851.66,211.422 1854.32,212.652 1856.97,213.887 1859.61,215.127 1862.24,216.374 1864.87,217.625 1867.5,218.882 1870.12,220.144 1872.73,221.412 1875.33,222.685 \n",
       "  1877.93,223.964 1880.53,225.247 1883.12,226.537 1885.7,227.831 1888.27,229.131 1890.84,230.436 1893.4,231.747 1895.96,233.062 1898.51,234.383 1901.06,235.71 \n",
       "  1903.59,237.041 1906.12,238.378 1908.65,239.72 1911.17,241.067 1913.68,242.42 1916.18,243.777 1918.68,245.14 1921.18,246.508 1923.66,247.881 1926.14,249.259 \n",
       "  1928.61,250.642 1931.08,252.031 1933.54,253.424 1935.99,254.823 1938.44,256.227 1940.88,257.635 1943.31,259.049 1945.73,260.468 1948.15,261.891 1950.56,263.32 \n",
       "  1952.97,264.754 1955.37,266.192 1957.76,267.636 1960.14,269.084 1962.52,270.538 1964.89,271.996 1967.26,273.459 1969.61,274.927 1971.96,276.4 1974.31,277.878 \n",
       "  1976.64,279.361 1978.97,280.848 1981.29,282.34 1983.6,283.837 1985.91,285.339 1988.21,286.846 1990.5,288.357 1992.79,289.873 1995.07,291.394 1997.34,292.919 \n",
       "  1999.6,294.449 2001.86,295.984 2004.11,297.524 2006.35,299.068 2008.58,300.616 2010.81,302.17 2013.03,303.728 2015.24,305.29 2017.44,306.857 2019.64,308.429 \n",
       "  2021.83,310.005 2024.01,311.585 2026.18,313.17 2028.35,314.76 2030.51,316.354 2032.66,317.953 2034.8,319.555 2036.94,321.163 2039.07,322.775 2041.19,324.391 \n",
       "  2043.3,326.011 2045.4,327.636 2047.5,329.265 2049.59,330.899 2051.67,332.537 2053.75,334.179 2055.81,335.825 2057.87,337.476 2059.92,339.131 2061.96,340.79 \n",
       "  2064,342.453 2066.02,344.121 2068.04,345.793 2070.05,347.469 2072.05,349.149 2074.05,350.833 2076.03,352.521 2078.01,354.213 2079.98,355.91 2081.94,357.61 \n",
       "  2083.89,359.315 2085.84,361.023 2087.78,362.736 2089.71,364.452 2091.63,366.173 2093.54,367.897 2095.44,369.626 2097.34,371.358 2099.23,373.095 2101.11,374.835 \n",
       "  2102.98,376.579 2104.84,378.327 2106.69,380.078 2108.54,381.834 2110.38,383.593 2112.21,385.356 2114.03,387.123 2115.84,388.894 2117.64,390.668 2119.44,392.446 \n",
       "  2121.23,394.228 2123,396.014 2124.77,397.803 2126.53,399.596 2128.29,401.392 2130.03,403.192 2131.77,404.996 2133.49,406.803 2135.21,408.614 2136.92,410.428 \n",
       "  2138.62,412.246 2140.31,414.067 2142,415.892 2143.67,417.72 2145.34,419.552 2146.99,421.387 2148.64,423.226 2150.28,425.068 2151.91,426.913 2153.53,428.762 \n",
       "  2155.15,430.614 2156.75,432.469 2158.34,434.328 2159.93,436.19 2161.51,438.055 2163.08,439.923 2164.64,441.795 2166.19,443.67 2167.73,445.548 2169.26,447.429 \n",
       "  2170.78,449.314 2172.3,451.201 2173.8,453.092 2175.3,454.986 2176.79,456.883 2178.26,458.782 2179.73,460.685 2181.19,462.591 2182.64,464.5 2184.09,466.412 \n",
       "  2185.52,468.327 2186.94,470.245 2188.36,472.166 2189.76,474.09 2191.16,476.016 2192.54,477.946 2193.92,479.878 2195.29,481.814 2196.65,483.752 2198,485.692 \n",
       "  2199.34,487.636 2200.67,489.582 2201.99,491.531 2203.3,493.483 2204.61,495.438 2205.9,497.395 2207.18,499.355 2208.46,501.317 2209.72,503.282 2210.98,505.25 \n",
       "  2212.23,507.22 2213.46,509.193 2214.69,511.169 2215.91,513.147 2217.12,515.127 2218.32,517.11 2219.51,519.095 2220.69,521.083 2221.86,523.073 2223.02,525.066 \n",
       "  2224.17,527.061 2225.31,529.059 2226.45,531.058 2227.57,533.061 2228.68,535.065 2229.79,537.072 2230.88,539.081 2231.97,541.092 2233.04,543.105 2234.11,545.121 \n",
       "  2235.16,547.139 2236.21,549.159 2237.25,551.181 2238.27,553.206 2239.29,555.232 2240.3,557.261 2241.29,559.291 2242.28,561.324 2243.26,563.358 2244.23,565.395 \n",
       "  2245.19,567.434 2246.14,569.474 2247.08,571.517 2248.01,573.562 2248.93,575.608 2249.84,577.656 2250.74,579.707 2251.63,581.759 2252.51,583.813 2253.38,585.868 \n",
       "  2254.24,587.926 2255.09,589.985 2255.93,592.046 2256.76,594.109 2257.58,596.173 2258.39,598.239 2259.2,600.307 2259.99,602.376 2260.77,604.447 2261.54,606.52 \n",
       "  2262.3,608.594 2263.05,610.67 2263.8,612.747 2264.53,614.826 2265.25,616.907 2265.96,618.988 2266.67,621.072 2267.36,623.156 2268.04,625.243 2268.71,627.33 \n",
       "  2269.38,629.419 2270.03,631.509 2270.67,633.601 2271.3,635.694 2271.92,637.788 2272.54,639.884 2273.14,641.981 2273.73,644.079 2274.31,646.178 2274.89,648.278 \n",
       "  2275.45,650.38 2276,652.482 2276.54,654.586 2277.07,656.691 2277.6,658.797 2278.11,660.905 2278.61,663.013 2279.1,665.122 2279.58,667.232 2280.05,669.343 \n",
       "  2280.52,671.455 2280.97,673.569 2281.41,675.683 2281.84,677.797 2282.26,679.913 2282.67,682.03 2283.07,684.147 2283.46,686.266 2283.84,688.385 2284.21,690.505 \n",
       "  2284.57,692.625 2284.92,694.747 2285.26,696.869 2285.59,698.992 2285.91,701.115 2286.22,703.239 2286.52,705.364 2286.81,707.489 2287.09,709.615 2287.36,711.742 \n",
       "  2287.62,713.869 2287.86,715.996 2288.1,718.124 2288.33,720.253 2288.55,722.382 2288.76,724.511 2288.95,726.641 2289.14,728.771 2289.32,730.902 2289.48,733.033 \n",
       "  2289.64,735.164 2289.79,737.296 2289.92,739.428 2290.05,741.56 2290.17,743.692 2290.27,745.825 2290.37,747.958 2290.45,750.091 2290.53,752.224 2290.59,754.358 \n",
       "  2290.65,756.491 2290.69,758.625 2290.72,760.758 2290.75,762.892 2290.76,765.026 2290.77,767.16 2290.76,769.294 2290.74,771.427 2290.72,773.561 2290.68,775.695 \n",
       "  2290.63,777.828 2290.57,779.962 2290.51,782.095 2290.43,784.228 2290.34,786.361 2290.24,788.494 2290.13,790.627 2290.01,792.759 2289.88,794.891 2289.75,797.023 \n",
       "  2289.6,799.155 2289.44,801.286 2289.27,803.417 2289.09,805.547 2288.9,807.677 2288.7,809.807 2288.48,811.936 2288.26,814.065 2288.03,816.194 2287.79,818.321 \n",
       "  2287.54,820.449 2287.28,822.576 2287.01,824.702 2286.73,826.828 2286.43,828.953 2286.13,831.077 2285.82,833.201 2285.5,835.325 2285.16,837.447 2284.82,839.569 \n",
       "  2284.47,841.69 2284.11,843.811 2283.73,845.93 2283.35,848.049 2282.96,850.167 2282.55,852.285 2282.14,854.401 2281.71,856.516 2281.28,858.631 2280.84,860.745 \n",
       "  2280.38,862.858 2279.92,864.97 2279.44,867.081 2278.96,869.19 2278.46,871.299 2277.96,873.407 2277.44,875.514 2276.92,877.62 2276.38,879.724 2275.84,881.828 \n",
       "  2275.28,883.93 2274.72,886.032 2274.14,888.132 2273.56,890.231 2272.96,892.328 2272.36,894.425 2271.74,896.52 2271.12,898.614 2270.48,900.706 2269.84,902.797 \n",
       "  2269.18,904.887 2268.52,906.976 2267.84,909.063 2267.16,911.149 2266.46,913.233 2265.76,915.316 2265.04,917.397 2264.32,919.477 2263.58,921.556 2262.84,923.633 \n",
       "  2262.08,925.708 2261.32,927.782 2260.54,929.854 2259.76,931.924 2258.96,933.993 2258.16,936.061 2257.34,938.126 2256.52,940.19 2255.68,942.252 2254.84,944.313 \n",
       "  2253.99,946.372 2253.12,948.428 2252.25,950.484 2251.37,952.537 2250.47,954.588 2249.57,956.638 2248.66,958.686 2247.73,960.732 2246.8,962.776 2245.86,964.818 \n",
       "  2244.91,966.858 2243.95,968.896 2242.97,970.932 2241.99,972.966 2241,974.998 2240,977.028 2238.99,979.056 2237.97,981.082 2236.94,983.106 2235.9,985.127 \n",
       "  2234.85,987.147 2233.8,989.164 2232.73,991.179 2231.65,993.192 2230.56,995.202 2229.46,997.211 2228.36,999.217 2227.24,1001.22 2226.12,1003.22 2224.98,1005.22 \n",
       "  2223.83,1007.22 2222.68,1009.21 2221.52,1011.2 2220.34,1013.19 2219.16,1015.18 2217.97,1017.17 2216.76,1019.15 2215.55,1021.13 2214.33,1023.1 2213.1,1025.08 \n",
       "  2211.86,1027.05 2210.61,1029.02 2209.35,1030.99 2208.08,1032.95 2206.81,1034.91 2205.52,1036.87 2204.22,1038.83 2202.92,1040.78 2201.6,1042.73 2200.28,1044.68 \n",
       "  2198.94,1046.63 2197.6,1048.57 2196.25,1050.51 2194.89,1052.45 2193.52,1054.38 2192.14,1056.31 2190.75,1058.24 2189.35,1060.17 2187.94,1062.09 2186.52,1064.01 \n",
       "  2185.1,1065.93 2183.66,1067.84 2182.22,1069.75 2180.77,1071.66 2179.3,1073.57 2177.83,1075.47 2176.35,1077.37 2174.86,1079.26 2173.36,1081.16 2171.85,1083.05 \n",
       "  2170.34,1084.93 2168.81,1086.82 2167.28,1088.7 2165.73,1090.57 2164.18,1092.45 2162.62,1094.32 2161.05,1096.19 2159.47,1098.05 2157.88,1099.91 2156.28,1101.77 \n",
       "  2154.67,1103.62 2153.06,1105.47 2151.43,1107.32 2149.8,1109.17 2148.16,1111.01 2146.51,1112.85 2144.85,1114.68 2143.18,1116.51 2141.5,1118.34 2139.82,1120.16 \n",
       "  2138.12,1121.98 2136.42,1123.8 2134.71,1125.61 2132.99,1127.42 2131.26,1129.23 2129.52,1131.03 2127.77,1132.83 2126.02,1134.62 2124.25,1136.42 2122.48,1138.2 \n",
       "  2120.7,1139.99 2118.91,1141.77 2117.11,1143.55 2115.31,1145.32 2113.49,1147.09 2111.67,1148.85 2109.84,1150.62 2108,1152.37 2106.15,1154.13 2104.29,1155.88 \n",
       "  2102.43,1157.63 2100.56,1159.37 2098.67,1161.11 2096.78,1162.84 2094.89,1164.57 2092.98,1166.3 2091.06,1168.03 2089.14,1169.74 2087.21,1171.46 2085.27,1173.17 \n",
       "  2083.32,1174.88 2081.37,1176.58 2079.4,1178.28 2077.43,1179.98 2075.45,1181.67 2073.46,1183.36 2071.46,1185.04 2069.46,1186.72 2067.45,1188.39 2065.43,1190.06 \n",
       "  2063.4,1191.73 2061.36,1193.39 2059.32,1195.05 2057.27,1196.7 2055.21,1198.35 2053.14,1200 2051.06,1201.64 2048.98,1203.27 2046.89,1204.91 2044.79,1206.53 \n",
       "  2042.68,1208.16 2040.56,1209.78 2038.44,1211.39 2036.31,1213 2034.17,1214.61 2032.03,1216.21 2029.87,1217.81 2027.71,1219.4 2025.55,1220.99 2023.37,1222.57 \n",
       "  2021.19,1224.15 2018.99,1225.73 2016.79,1227.3 2014.59,1228.86 2012.37,1230.42 2010.15,1231.98 2007.92,1233.53 2005.69,1235.08 2003.45,1236.62 2001.19,1238.16 \n",
       "  1998.94,1239.69 1996.67,1241.22 1994.4,1242.75 1992.12,1244.27 1989.83,1245.78 1987.54,1247.29 1985.23,1248.8 1982.92,1250.3 1980.61,1251.79 1978.29,1253.28 \n",
       "  1975.96,1254.77 1973.62,1256.25 1971.27,1257.73 1968.92,1259.2 1966.56,1260.66 1964.2,1262.13 1961.82,1263.58 1959.44,1265.03 1957.06,1266.48 1954.66,1267.92 \n",
       "  1952.26,1269.36 1949.86,1270.79 1947.44,1272.22 1945.02,1273.64 1942.59,1275.06 1940.16,1276.47 1937.72,1277.88 1935.27,1279.28 1932.82,1280.68 1930.35,1282.07 \n",
       "  1927.89,1283.46 1925.41,1284.84 1922.93,1286.22 1920.44,1287.59 1917.95,1288.95 1915.45,1290.31 1912.94,1291.67 1910.43,1293.02 1907.91,1294.37 1905.38,1295.71 \n",
       "  1902.85,1297.04 1900.31,1298.37 1897.76,1299.7 1895.21,1301.02 1892.65,1302.33 1890.09,1303.64 1887.52,1304.94 1884.94,1306.24 1882.36,1307.54 1879.77,1308.82 \n",
       "  1877.17,1310.11 1874.57,1311.38 1871.96,1312.65 1869.35,1313.92 1866.73,1315.18 1864.1,1316.44 1861.47,1317.69 1858.83,1318.93 1856.19,1320.17 1853.54,1321.4 \n",
       "  1850.88,1322.63 1848.22,1323.85 1845.55,1325.07 1842.88,1326.28 1840.2,1327.49 1837.52,1328.69 1834.83,1329.88 1832.13,1331.07 1829.43,1332.26 1826.72,1333.43 \n",
       "  1824.01,1334.61 1821.29,1335.77 1818.56,1336.94 1815.83,1338.09 1813.1,1339.24 1810.36,1340.39 1807.61,1341.52 1804.86,1342.66 1802.1,1343.79 1799.34,1344.91 \n",
       "  1796.57,1346.02 1793.8,1347.13 1791.02,1348.24 1788.24,1349.34 1785.45,1350.43 1782.65,1351.52 1779.86,1352.6 1777.05,1353.67 1774.24,1354.74 1771.43,1355.81 \n",
       "  1768.61,1356.87 1765.78,1357.92 1762.95,1358.97 1760.12,1360.01 1757.28,1361.04 1754.43,1362.07 1751.58,1363.09 1748.73,1364.11 1745.87,1365.12 1743,1366.13 \n",
       "  1740.14,1367.13 1737.26,1368.12 1734.38,1369.11 1731.5,1370.09 1728.61,1371.07 1725.72,1372.04 1722.82,1373 1719.92,1373.96 1717.01,1374.91 1714.1,1375.85 \n",
       "  1711.19,1376.79 1708.27,1377.73 1705.34,1378.66 1702.41,1379.58 1699.48,1380.49 1696.54,1381.4 1693.6,1382.31 1690.65,1383.2 1687.7,1384.1 1684.75,1384.98 \n",
       "  1681.79,1385.86 1678.83,1386.73 1675.86,1387.6 1672.89,1388.46 1669.91,1389.31 1666.93,1390.16 1663.95,1391.01 1660.96,1391.84 1657.97,1392.67 1654.97,1393.5 \n",
       "  \n",
       "  \"/>\n",
       "<polyline clip-path=\"url(#clip372)\" style=\"stroke:#e26f46; stroke-width:4; stroke-opacity:1; fill:none\" points=\"\n",
       "  1257.61,766.846 1654.97,1393.5 \n",
       "  \"/>\n",
       "<polyline clip-path=\"url(#clip372)\" style=\"stroke:#3da44d; stroke-width:4; stroke-opacity:1; fill:none\" points=\"\n",
       "  1257.61,766.846 303.918,1027.95 \n",
       "  \"/>\n",
       "<polyline clip-path=\"url(#clip372)\" style=\"stroke:#c271d2; stroke-width:4; stroke-opacity:1; fill:none\" points=\"\n",
       "  1257.61,766.846 864.229,1394.58 \n",
       "  \"/>\n",
       "<path clip-path=\"url(#clip370)\" d=\"\n",
       "M1988.02 433.164 L2280.76 433.164 L2280.76 130.764 L1988.02 130.764  Z\n",
       "  \" fill=\"#ffffff\" fill-rule=\"evenodd\" fill-opacity=\"1\"/>\n",
       "<polyline clip-path=\"url(#clip370)\" style=\"stroke:#000000; stroke-width:4; stroke-opacity:1; fill:none\" points=\"\n",
       "  1988.02,433.164 2280.76,433.164 2280.76,130.764 1988.02,130.764 1988.02,433.164 \n",
       "  \"/>\n",
       "<polyline clip-path=\"url(#clip370)\" style=\"stroke:#009af9; stroke-width:4; stroke-opacity:1; fill:none\" points=\"\n",
       "  2012.02,191.244 2156.02,191.244 \n",
       "  \"/>\n",
       "<path clip-path=\"url(#clip370)\" d=\"M 0 0 M2193.87 210.931 Q2192.06 215.561 2190.35 216.973 Q2188.64 218.385 2185.77 218.385 L2182.36 218.385 L2182.36 214.82 L2184.86 214.82 Q2186.62 214.82 2187.59 213.987 Q2188.57 213.154 2189.75 210.052 L2190.51 208.107 L2180.02 182.598 L2184.54 182.598 L2192.64 202.876 L2200.74 182.598 L2205.26 182.598 L2193.87 210.931 Z\" fill=\"#000000\" fill-rule=\"evenodd\" fill-opacity=\"1\" /><path clip-path=\"url(#clip370)\" d=\"M 0 0 M2211.14 204.589 L2218.77 204.589 L2218.77 178.223 L2210.46 179.89 L2210.46 175.631 L2218.73 173.964 L2223.4 173.964 L2223.4 204.589 L2231.04 204.589 L2231.04 208.524 L2211.14 208.524 L2211.14 204.589 Z\" fill=\"#000000\" fill-rule=\"evenodd\" fill-opacity=\"1\" /><polyline clip-path=\"url(#clip370)\" style=\"stroke:#e26f46; stroke-width:4; stroke-opacity:1; fill:none\" points=\"\n",
       "  2012.02,251.724 2156.02,251.724 \n",
       "  \"/>\n",
       "<path clip-path=\"url(#clip370)\" d=\"M 0 0 M2193.87 271.411 Q2192.06 276.041 2190.35 277.453 Q2188.64 278.865 2185.77 278.865 L2182.36 278.865 L2182.36 275.3 L2184.86 275.3 Q2186.62 275.3 2187.59 274.467 Q2188.57 273.634 2189.75 270.532 L2190.51 268.587 L2180.02 243.078 L2184.54 243.078 L2192.64 263.356 L2200.74 243.078 L2205.26 243.078 L2193.87 271.411 Z\" fill=\"#000000\" fill-rule=\"evenodd\" fill-opacity=\"1\" /><path clip-path=\"url(#clip370)\" d=\"M 0 0 M2214.35 265.069 L2230.67 265.069 L2230.67 269.004 L2208.73 269.004 L2208.73 265.069 Q2211.39 262.314 2215.97 257.685 Q2220.58 253.032 2221.76 251.689 Q2224.01 249.166 2224.89 247.43 Q2225.79 245.671 2225.79 243.981 Q2225.79 241.226 2223.84 239.49 Q2221.92 237.754 2218.82 237.754 Q2216.62 237.754 2214.17 238.518 Q2211.74 239.282 2208.96 240.833 L2208.96 236.111 Q2211.78 234.976 2214.24 234.398 Q2216.69 233.819 2218.73 233.819 Q2224.1 233.819 2227.29 236.504 Q2230.49 239.189 2230.49 243.68 Q2230.49 245.81 2229.68 247.731 Q2228.89 249.629 2226.78 252.222 Q2226.21 252.893 2223.1 256.111 Q2220 259.305 2214.35 265.069 Z\" fill=\"#000000\" fill-rule=\"evenodd\" fill-opacity=\"1\" /><polyline clip-path=\"url(#clip370)\" style=\"stroke:#3da44d; stroke-width:4; stroke-opacity:1; fill:none\" points=\"\n",
       "  2012.02,312.204 2156.02,312.204 \n",
       "  \"/>\n",
       "<path clip-path=\"url(#clip370)\" d=\"M 0 0 M2193.87 331.891 Q2192.06 336.521 2190.35 337.933 Q2188.64 339.345 2185.77 339.345 L2182.36 339.345 L2182.36 335.78 L2184.86 335.78 Q2186.62 335.78 2187.59 334.947 Q2188.57 334.114 2189.75 331.012 L2190.51 329.067 L2180.02 303.558 L2184.54 303.558 L2192.64 323.836 L2200.74 303.558 L2205.26 303.558 L2193.87 331.891 Z\" fill=\"#000000\" fill-rule=\"evenodd\" fill-opacity=\"1\" /><path clip-path=\"url(#clip370)\" d=\"M 0 0 M2224.49 310.85 Q2227.85 311.568 2229.72 313.836 Q2231.62 316.105 2231.62 319.438 Q2231.62 324.554 2228.1 327.354 Q2224.58 330.155 2218.1 330.155 Q2215.93 330.155 2213.61 329.716 Q2211.32 329.299 2208.87 328.442 L2208.87 323.929 Q2210.81 325.063 2213.13 325.642 Q2215.44 326.22 2217.96 326.22 Q2222.36 326.22 2224.65 324.484 Q2226.97 322.748 2226.97 319.438 Q2226.97 316.382 2224.82 314.669 Q2222.69 312.933 2218.87 312.933 L2214.84 312.933 L2214.84 309.091 L2219.05 309.091 Q2222.5 309.091 2224.33 307.725 Q2226.16 306.336 2226.16 303.743 Q2226.16 301.081 2224.26 299.669 Q2222.39 298.234 2218.87 298.234 Q2216.95 298.234 2214.75 298.651 Q2212.55 299.068 2209.91 299.947 L2209.91 295.781 Q2212.57 295.04 2214.89 294.669 Q2217.22 294.299 2219.28 294.299 Q2224.61 294.299 2227.71 296.73 Q2230.81 299.137 2230.81 303.257 Q2230.81 306.128 2229.17 308.118 Q2227.52 310.086 2224.49 310.85 Z\" fill=\"#000000\" fill-rule=\"evenodd\" fill-opacity=\"1\" /><polyline clip-path=\"url(#clip370)\" style=\"stroke:#c271d2; stroke-width:4; stroke-opacity:1; fill:none\" points=\"\n",
       "  2012.02,372.684 2156.02,372.684 \n",
       "  \"/>\n",
       "<path clip-path=\"url(#clip370)\" d=\"M 0 0 M2193.87 392.371 Q2192.06 397.001 2190.35 398.413 Q2188.64 399.825 2185.77 399.825 L2182.36 399.825 L2182.36 396.26 L2184.86 396.26 Q2186.62 396.26 2187.59 395.427 Q2188.57 394.594 2189.75 391.492 L2190.51 389.547 L2180.02 364.038 L2184.54 364.038 L2192.64 384.316 L2200.74 364.038 L2205.26 364.038 L2193.87 392.371 Z\" fill=\"#000000\" fill-rule=\"evenodd\" fill-opacity=\"1\" /><path clip-path=\"url(#clip370)\" d=\"M 0 0 M2223.17 359.478 L2211.37 377.927 L2223.17 377.927 L2223.17 359.478 M2221.95 355.404 L2227.83 355.404 L2227.83 377.927 L2232.76 377.927 L2232.76 381.816 L2227.83 381.816 L2227.83 389.964 L2223.17 389.964 L2223.17 381.816 L2207.57 381.816 L2207.57 377.302 L2221.95 355.404 Z\" fill=\"#000000\" fill-rule=\"evenodd\" fill-opacity=\"1\" /></svg>\n"
      ]
     },
     "execution_count": 140,
     "metadata": {},
     "output_type": "execute_result"
    }
   ],
   "source": [
    "plot( [vector[1] for vector in image] , [vector[2] for vector in image]  )\n",
    "plot!( [0,e1[1]], [0,e1[2]] )\n",
    "plot!( [0,e2[1]], [0,e2[2]] )\n",
    "plot!( [0,test[1]], [0,test[2]])"
   ]
  },
  {
   "cell_type": "code",
   "execution_count": null,
   "metadata": {},
   "outputs": [],
   "source": []
  },
  {
   "cell_type": "code",
   "execution_count": 113,
   "metadata": {},
   "outputs": [
    {
     "data": {
      "text/plain": [
       "0.9999999999999999"
      ]
     },
     "execution_count": 113,
     "metadata": {},
     "output_type": "execute_result"
    }
   ],
   "source": [
    "sqrt((1/2)^2+(sqrt(3)/2)^2)"
   ]
  },
  {
   "cell_type": "code",
   "execution_count": 110,
   "metadata": {},
   "outputs": [
    {
     "data": {
      "text/plain": [
       "2×2 Array{Int64,2}:\n",
       " 0  1\n",
       " 0  0"
      ]
     },
     "execution_count": 110,
     "metadata": {},
     "output_type": "execute_result"
    }
   ],
   "source": [
    "A"
   ]
  },
  {
   "cell_type": "code",
   "execution_count": 117,
   "metadata": {},
   "outputs": [
    {
     "data": {
      "text/plain": [
       "2×2 Array{Int64,2}:\n",
       " 1  1\n",
       " 0  0"
      ]
     },
     "execution_count": 117,
     "metadata": {},
     "output_type": "execute_result"
    }
   ],
   "source": [
    "P2 = [1 1; 0 0 ]"
   ]
  },
  {
   "cell_type": "code",
   "execution_count": 121,
   "metadata": {},
   "outputs": [
    {
     "data": {
      "text/plain": [
       "2×2 Array{Int64,2}:\n",
       " 4  6\n",
       " 6  9"
      ]
     },
     "execution_count": 121,
     "metadata": {},
     "output_type": "execute_result"
    }
   ],
   "source": [
    "c = 2\n",
    "s = 3\n",
    "\n",
    "P2 = [c^2 c*s; c*s s^2]"
   ]
  },
  {
   "cell_type": "code",
   "execution_count": 135,
   "metadata": {},
   "outputs": [
    {
     "data": {
      "text/plain": [
       "2×2 Array{Float64,2}:\n",
       " 0.307692  0.461538\n",
       " 0.461538  0.692308"
      ]
     },
     "execution_count": 135,
     "metadata": {},
     "output_type": "execute_result"
    }
   ],
   "source": [
    "using LinearAlgebra\n",
    "\n",
    "P2/norm(P2)\n",
    "\n",
    "P2 = P2/norm(P2)"
   ]
  },
  {
   "cell_type": "code",
   "execution_count": 137,
   "metadata": {},
   "outputs": [
    {
     "data": {
      "text/plain": [
       "2×2 Array{Float64,2}:\n",
       " 0.307692  0.461538\n",
       " 0.461538  0.692308"
      ]
     },
     "execution_count": 137,
     "metadata": {},
     "output_type": "execute_result"
    }
   ],
   "source": [
    "P2*P2"
   ]
  },
  {
   "cell_type": "code",
   "execution_count": 128,
   "metadata": {},
   "outputs": [
    {
     "data": {
      "text/plain": [
       "2×2 Array{Float64,2}:\n",
       " 0.307692  0.461538\n",
       " 0.461538  0.692308"
      ]
     },
     "execution_count": 128,
     "metadata": {},
     "output_type": "execute_result"
    }
   ],
   "source": []
  },
  {
   "cell_type": "code",
   "execution_count": 138,
   "metadata": {},
   "outputs": [
    {
     "data": {
      "text/plain": [
       "2×2 Array{Float64,2}:\n",
       " 1.0  0.0\n",
       " 0.0  1.0"
      ]
     },
     "execution_count": 138,
     "metadata": {},
     "output_type": "execute_result"
    }
   ],
   "source": [
    "(identity(2)-2*P2)*(identity(2)-2P2)'"
   ]
  },
  {
   "cell_type": "code",
   "execution_count": 141,
   "metadata": {},
   "outputs": [
    {
     "data": {
      "text/plain": [
       "3×3 Array{Int64,2}:\n",
       " 1  2  3\n",
       " 4  5  6\n",
       " 7  8  9"
      ]
     },
     "execution_count": 141,
     "metadata": {},
     "output_type": "execute_result"
    }
   ],
   "source": [
    "A = [1 2 3; 4 5 6; 7 8 9]"
   ]
  },
  {
   "cell_type": "code",
   "execution_count": 143,
   "metadata": {},
   "outputs": [
    {
     "data": {
      "text/plain": [
       "3-element Array{Int64,1}:\n",
       " 3\n",
       " 1\n",
       " 2"
      ]
     },
     "execution_count": 143,
     "metadata": {},
     "output_type": "execute_result"
    }
   ],
   "source": [
    "[0 0 1; 1 0 0; 0 1 0]*[1;2;3]"
   ]
  },
  {
   "cell_type": "code",
   "execution_count": 144,
   "metadata": {},
   "outputs": [
    {
     "data": {
      "text/plain": [
       "3×3 Array{Int64,2}:\n",
       " 1  2  3\n",
       " 4  5  6\n",
       " 7  8  9"
      ]
     },
     "execution_count": 144,
     "metadata": {},
     "output_type": "execute_result"
    }
   ],
   "source": [
    "A"
   ]
  },
  {
   "cell_type": "code",
   "execution_count": 145,
   "metadata": {},
   "outputs": [
    {
     "data": {
      "text/plain": [
       "3-element Array{Int64,1}:\n",
       " 1\n",
       " 4\n",
       " 7"
      ]
     },
     "execution_count": 145,
     "metadata": {},
     "output_type": "execute_result"
    }
   ],
   "source": [
    "v1 = A[:,1]"
   ]
  },
  {
   "cell_type": "code",
   "execution_count": 5,
   "metadata": {},
   "outputs": [],
   "source": [
    "using LinearAlgebra"
   ]
  },
  {
   "cell_type": "code",
   "execution_count": 7,
   "metadata": {},
   "outputs": [
    {
     "data": {
      "text/plain": [
       "3×3 Array{Int64,2}:\n",
       " 1  2  3\n",
       " 4  5  6\n",
       " 7  8  9"
      ]
     },
     "execution_count": 7,
     "metadata": {},
     "output_type": "execute_result"
    }
   ],
   "source": [
    "A = [1 2 3; 4 5 6; 7 8 9]"
   ]
  },
  {
   "cell_type": "code",
   "execution_count": 8,
   "metadata": {},
   "outputs": [
    {
     "ename": "UndefVarError",
     "evalue": "UndefVarError: gs not defined",
     "output_type": "error",
     "traceback": [
      "UndefVarError: gs not defined",
      "",
      "Stacktrace:",
      " [1] top-level scope at In[8]:1"
     ]
    }
   ],
   "source": [
    "gs(A)"
   ]
  },
  {
   "cell_type": "code",
   "execution_count": 117,
   "metadata": {},
   "outputs": [
    {
     "data": {
      "text/plain": [
       "5×5 Array{Int64,2}:\n",
       " -1   1   0   0   0\n",
       "  1  -2   1   0   0\n",
       "  0   1  -2   1   0\n",
       "  0   0   1  -2   1\n",
       "  0   0   0   1  -2"
      ]
     },
     "execution_count": 117,
     "metadata": {},
     "output_type": "execute_result"
    }
   ],
   "source": [
    "D21 = [-1 1 0 0 0 ; 1 -2 1 0 0 ; 0 1 -2 1 0 ; 0 0 1 -2 1 ; 0 0 0 1 -2 ]"
   ]
  },
  {
   "cell_type": "code",
   "execution_count": 94,
   "metadata": {},
   "outputs": [
    {
     "data": {
      "text/plain": [
       "6×6 Array{Int64,2}:\n",
       " -3   4  -1   0   0   0\n",
       "  1  -2   1   0   0   0\n",
       "  0   1  -2   1   0   0\n",
       "  0   0   1  -2   1   0\n",
       "  0   0   0   1  -2   1\n",
       "  0   0   0   0   1  -2"
      ]
     },
     "execution_count": 94,
     "metadata": {},
     "output_type": "execute_result"
    }
   ],
   "source": [
    "D22 = [-3 4 -1 0 0 0; 1 -2 1 0 0 0; 0 1 -2 1 0 0; 0 0 1 -2 1 0; 0 0 0 1 -2 1; 0 0 0 0 1 -2]"
   ]
  },
  {
   "cell_type": "code",
   "execution_count": 36,
   "metadata": {},
   "outputs": [
    {
     "data": {
      "image/svg+xml": [
       "<?xml version=\"1.0\" encoding=\"utf-8\"?>\n",
       "<svg xmlns=\"http://www.w3.org/2000/svg\" xmlns:xlink=\"http://www.w3.org/1999/xlink\" width=\"600\" height=\"400\" viewBox=\"0 0 2400 1600\">\n",
       "<defs>\n",
       "  <clipPath id=\"clip000\">\n",
       "    <rect x=\"0\" y=\"0\" width=\"2400\" height=\"1600\"/>\n",
       "  </clipPath>\n",
       "</defs>\n",
       "<path clip-path=\"url(#clip000)\" d=\"\n",
       "M0 1600 L2400 1600 L2400 0 L0 0  Z\n",
       "  \" fill=\"#ffffff\" fill-rule=\"evenodd\" fill-opacity=\"1\"/>\n",
       "<defs>\n",
       "  <clipPath id=\"clip001\">\n",
       "    <rect x=\"480\" y=\"0\" width=\"1681\" height=\"1600\"/>\n",
       "  </clipPath>\n",
       "</defs>\n",
       "<path clip-path=\"url(#clip000)\" d=\"\n",
       "M148.334 1486.45 L2352.76 1486.45 L2352.76 47.2441 L148.334 47.2441  Z\n",
       "  \" fill=\"#ffffff\" fill-rule=\"evenodd\" fill-opacity=\"1\"/>\n",
       "<defs>\n",
       "  <clipPath id=\"clip002\">\n",
       "    <rect x=\"148\" y=\"47\" width=\"2205\" height=\"1440\"/>\n",
       "  </clipPath>\n",
       "</defs>\n",
       "<polyline clip-path=\"url(#clip002)\" style=\"stroke:#000000; stroke-width:2; stroke-opacity:0.1; fill:none\" points=\"\n",
       "  210.724,1486.45 210.724,47.2441 \n",
       "  \"/>\n",
       "<polyline clip-path=\"url(#clip002)\" style=\"stroke:#000000; stroke-width:2; stroke-opacity:0.1; fill:none\" points=\"\n",
       "  730.634,1486.45 730.634,47.2441 \n",
       "  \"/>\n",
       "<polyline clip-path=\"url(#clip002)\" style=\"stroke:#000000; stroke-width:2; stroke-opacity:0.1; fill:none\" points=\"\n",
       "  1250.55,1486.45 1250.55,47.2441 \n",
       "  \"/>\n",
       "<polyline clip-path=\"url(#clip002)\" style=\"stroke:#000000; stroke-width:2; stroke-opacity:0.1; fill:none\" points=\"\n",
       "  1770.46,1486.45 1770.46,47.2441 \n",
       "  \"/>\n",
       "<polyline clip-path=\"url(#clip002)\" style=\"stroke:#000000; stroke-width:2; stroke-opacity:0.1; fill:none\" points=\"\n",
       "  2290.37,1486.45 2290.37,47.2441 \n",
       "  \"/>\n",
       "<polyline clip-path=\"url(#clip002)\" style=\"stroke:#000000; stroke-width:2; stroke-opacity:0.1; fill:none\" points=\"\n",
       "  148.334,1445.72 2352.76,1445.72 \n",
       "  \"/>\n",
       "<polyline clip-path=\"url(#clip002)\" style=\"stroke:#000000; stroke-width:2; stroke-opacity:0.1; fill:none\" points=\"\n",
       "  148.334,1110.71 2352.76,1110.71 \n",
       "  \"/>\n",
       "<polyline clip-path=\"url(#clip002)\" style=\"stroke:#000000; stroke-width:2; stroke-opacity:0.1; fill:none\" points=\"\n",
       "  148.334,775.698 2352.76,775.698 \n",
       "  \"/>\n",
       "<polyline clip-path=\"url(#clip002)\" style=\"stroke:#000000; stroke-width:2; stroke-opacity:0.1; fill:none\" points=\"\n",
       "  148.334,440.689 2352.76,440.689 \n",
       "  \"/>\n",
       "<polyline clip-path=\"url(#clip002)\" style=\"stroke:#000000; stroke-width:2; stroke-opacity:0.1; fill:none\" points=\"\n",
       "  148.334,105.681 2352.76,105.681 \n",
       "  \"/>\n",
       "<polyline clip-path=\"url(#clip000)\" style=\"stroke:#000000; stroke-width:4; stroke-opacity:1; fill:none\" points=\"\n",
       "  148.334,1486.45 2352.76,1486.45 \n",
       "  \"/>\n",
       "<polyline clip-path=\"url(#clip000)\" style=\"stroke:#000000; stroke-width:4; stroke-opacity:1; fill:none\" points=\"\n",
       "  148.334,1486.45 148.334,47.2441 \n",
       "  \"/>\n",
       "<polyline clip-path=\"url(#clip000)\" style=\"stroke:#000000; stroke-width:4; stroke-opacity:1; fill:none\" points=\"\n",
       "  210.724,1486.45 210.724,1469.18 \n",
       "  \"/>\n",
       "<polyline clip-path=\"url(#clip000)\" style=\"stroke:#000000; stroke-width:4; stroke-opacity:1; fill:none\" points=\"\n",
       "  730.634,1486.45 730.634,1469.18 \n",
       "  \"/>\n",
       "<polyline clip-path=\"url(#clip000)\" style=\"stroke:#000000; stroke-width:4; stroke-opacity:1; fill:none\" points=\"\n",
       "  1250.55,1486.45 1250.55,1469.18 \n",
       "  \"/>\n",
       "<polyline clip-path=\"url(#clip000)\" style=\"stroke:#000000; stroke-width:4; stroke-opacity:1; fill:none\" points=\"\n",
       "  1770.46,1486.45 1770.46,1469.18 \n",
       "  \"/>\n",
       "<polyline clip-path=\"url(#clip000)\" style=\"stroke:#000000; stroke-width:4; stroke-opacity:1; fill:none\" points=\"\n",
       "  2290.37,1486.45 2290.37,1469.18 \n",
       "  \"/>\n",
       "<polyline clip-path=\"url(#clip000)\" style=\"stroke:#000000; stroke-width:4; stroke-opacity:1; fill:none\" points=\"\n",
       "  148.334,1445.72 174.787,1445.72 \n",
       "  \"/>\n",
       "<polyline clip-path=\"url(#clip000)\" style=\"stroke:#000000; stroke-width:4; stroke-opacity:1; fill:none\" points=\"\n",
       "  148.334,1110.71 174.787,1110.71 \n",
       "  \"/>\n",
       "<polyline clip-path=\"url(#clip000)\" style=\"stroke:#000000; stroke-width:4; stroke-opacity:1; fill:none\" points=\"\n",
       "  148.334,775.698 174.787,775.698 \n",
       "  \"/>\n",
       "<polyline clip-path=\"url(#clip000)\" style=\"stroke:#000000; stroke-width:4; stroke-opacity:1; fill:none\" points=\"\n",
       "  148.334,440.689 174.787,440.689 \n",
       "  \"/>\n",
       "<polyline clip-path=\"url(#clip000)\" style=\"stroke:#000000; stroke-width:4; stroke-opacity:1; fill:none\" points=\"\n",
       "  148.334,105.681 174.787,105.681 \n",
       "  \"/>\n",
       "<path clip-path=\"url(#clip000)\" d=\"M 0 0 M178.733 1508.44 Q175.122 1508.44 173.293 1512 Q171.488 1515.55 171.488 1522.67 Q171.488 1529.78 173.293 1533.35 Q175.122 1536.89 178.733 1536.89 Q182.367 1536.89 184.173 1533.35 Q186.002 1529.78 186.002 1522.67 Q186.002 1515.55 184.173 1512 Q182.367 1508.44 178.733 1508.44 M178.733 1504.73 Q184.543 1504.73 187.599 1509.34 Q190.677 1513.92 190.677 1522.67 Q190.677 1531.4 187.599 1536.01 Q184.543 1540.59 178.733 1540.59 Q172.923 1540.59 169.844 1536.01 Q166.789 1531.4 166.789 1522.67 Q166.789 1513.92 169.844 1509.34 Q172.923 1504.73 178.733 1504.73 Z\" fill=\"#000000\" fill-rule=\"evenodd\" fill-opacity=\"1\" /><path clip-path=\"url(#clip000)\" d=\"M 0 0 M195.747 1534.04 L200.631 1534.04 L200.631 1539.92 L195.747 1539.92 L195.747 1534.04 Z\" fill=\"#000000\" fill-rule=\"evenodd\" fill-opacity=\"1\" /><path clip-path=\"url(#clip000)\" d=\"M 0 0 M215.701 1508.44 Q212.089 1508.44 210.261 1512 Q208.455 1515.55 208.455 1522.67 Q208.455 1529.78 210.261 1533.35 Q212.089 1536.89 215.701 1536.89 Q219.335 1536.89 221.14 1533.35 Q222.969 1529.78 222.969 1522.67 Q222.969 1515.55 221.14 1512 Q219.335 1508.44 215.701 1508.44 M215.701 1504.73 Q221.511 1504.73 224.566 1509.34 Q227.645 1513.92 227.645 1522.67 Q227.645 1531.4 224.566 1536.01 Q221.511 1540.59 215.701 1540.59 Q209.89 1540.59 206.812 1536.01 Q203.756 1531.4 203.756 1522.67 Q203.756 1513.92 206.812 1509.34 Q209.89 1504.73 215.701 1504.73 Z\" fill=\"#000000\" fill-rule=\"evenodd\" fill-opacity=\"1\" /><path clip-path=\"url(#clip000)\" d=\"M 0 0 M242.714 1508.44 Q239.103 1508.44 237.274 1512 Q235.469 1515.55 235.469 1522.67 Q235.469 1529.78 237.274 1533.35 Q239.103 1536.89 242.714 1536.89 Q246.348 1536.89 248.154 1533.35 Q249.983 1529.78 249.983 1522.67 Q249.983 1515.55 248.154 1512 Q246.348 1508.44 242.714 1508.44 M242.714 1504.73 Q248.524 1504.73 251.58 1509.34 Q254.659 1513.92 254.659 1522.67 Q254.659 1531.4 251.58 1536.01 Q248.524 1540.59 242.714 1540.59 Q236.904 1540.59 233.825 1536.01 Q230.77 1531.4 230.77 1522.67 Q230.77 1513.92 233.825 1509.34 Q236.904 1504.73 242.714 1504.73 Z\" fill=\"#000000\" fill-rule=\"evenodd\" fill-opacity=\"1\" /><path clip-path=\"url(#clip000)\" d=\"M 0 0 M699.94 1508.44 Q696.329 1508.44 694.5 1512 Q692.695 1515.55 692.695 1522.67 Q692.695 1529.78 694.5 1533.35 Q696.329 1536.89 699.94 1536.89 Q703.574 1536.89 705.38 1533.35 Q707.209 1529.78 707.209 1522.67 Q707.209 1515.55 705.38 1512 Q703.574 1508.44 699.94 1508.44 M699.94 1504.73 Q705.75 1504.73 708.806 1509.34 Q711.885 1513.92 711.885 1522.67 Q711.885 1531.4 708.806 1536.01 Q705.75 1540.59 699.94 1540.59 Q694.13 1540.59 691.051 1536.01 Q687.996 1531.4 687.996 1522.67 Q687.996 1513.92 691.051 1509.34 Q694.13 1504.73 699.94 1504.73 Z\" fill=\"#000000\" fill-rule=\"evenodd\" fill-opacity=\"1\" /><path clip-path=\"url(#clip000)\" d=\"M 0 0 M716.954 1534.04 L721.838 1534.04 L721.838 1539.92 L716.954 1539.92 L716.954 1534.04 Z\" fill=\"#000000\" fill-rule=\"evenodd\" fill-opacity=\"1\" /><path clip-path=\"url(#clip000)\" d=\"M 0 0 M730.935 1535.98 L747.255 1535.98 L747.255 1539.92 L725.31 1539.92 L725.31 1535.98 Q727.972 1533.23 732.556 1528.6 Q737.162 1523.95 738.343 1522.61 Q740.588 1520.08 741.468 1518.35 Q742.37 1516.59 742.37 1514.9 Q742.37 1512.14 740.426 1510.41 Q738.505 1508.67 735.403 1508.67 Q733.204 1508.67 730.75 1509.43 Q728.32 1510.2 725.542 1511.75 L725.542 1507.03 Q728.366 1505.89 730.82 1505.31 Q733.273 1504.73 735.31 1504.73 Q740.681 1504.73 743.875 1507.42 Q747.07 1510.11 747.07 1514.6 Q747.07 1516.73 746.259 1518.65 Q745.472 1520.54 743.366 1523.14 Q742.787 1523.81 739.685 1527.03 Q736.583 1530.22 730.935 1535.98 Z\" fill=\"#000000\" fill-rule=\"evenodd\" fill-opacity=\"1\" /><path clip-path=\"url(#clip000)\" d=\"M 0 0 M752.37 1505.36 L770.727 1505.36 L770.727 1509.3 L756.653 1509.3 L756.653 1517.77 Q757.671 1517.42 758.69 1517.26 Q759.708 1517.07 760.727 1517.07 Q766.514 1517.07 769.893 1520.24 Q773.273 1523.42 773.273 1528.83 Q773.273 1534.41 769.801 1537.51 Q766.329 1540.59 760.009 1540.59 Q757.833 1540.59 755.565 1540.22 Q753.319 1539.85 750.912 1539.11 L750.912 1534.41 Q752.995 1535.54 755.218 1536.1 Q757.44 1536.66 759.917 1536.66 Q763.921 1536.66 766.259 1534.55 Q768.597 1532.44 768.597 1528.83 Q768.597 1525.22 766.259 1523.11 Q763.921 1521.01 759.917 1521.01 Q758.042 1521.01 756.167 1521.42 Q754.315 1521.84 752.37 1522.72 L752.37 1505.36 Z\" fill=\"#000000\" fill-rule=\"evenodd\" fill-opacity=\"1\" /><path clip-path=\"url(#clip000)\" d=\"M 0 0 M1219.05 1508.44 Q1215.44 1508.44 1213.61 1512 Q1211.81 1515.55 1211.81 1522.67 Q1211.81 1529.78 1213.61 1533.35 Q1215.44 1536.89 1219.05 1536.89 Q1222.69 1536.89 1224.49 1533.35 Q1226.32 1529.78 1226.32 1522.67 Q1226.32 1515.55 1224.49 1512 Q1222.69 1508.44 1219.05 1508.44 M1219.05 1504.73 Q1224.86 1504.73 1227.92 1509.34 Q1231 1513.92 1231 1522.67 Q1231 1531.4 1227.92 1536.01 Q1224.86 1540.59 1219.05 1540.59 Q1213.24 1540.59 1210.16 1536.01 Q1207.11 1531.4 1207.11 1522.67 Q1207.11 1513.92 1210.16 1509.34 Q1213.24 1504.73 1219.05 1504.73 Z\" fill=\"#000000\" fill-rule=\"evenodd\" fill-opacity=\"1\" /><path clip-path=\"url(#clip000)\" d=\"M 0 0 M1236.07 1534.04 L1240.95 1534.04 L1240.95 1539.92 L1236.07 1539.92 L1236.07 1534.04 Z\" fill=\"#000000\" fill-rule=\"evenodd\" fill-opacity=\"1\" /><path clip-path=\"url(#clip000)\" d=\"M 0 0 M1246.07 1505.36 L1264.42 1505.36 L1264.42 1509.3 L1250.35 1509.3 L1250.35 1517.77 Q1251.37 1517.42 1252.39 1517.26 Q1253.4 1517.07 1254.42 1517.07 Q1260.21 1517.07 1263.59 1520.24 Q1266.97 1523.42 1266.97 1528.83 Q1266.97 1534.41 1263.5 1537.51 Q1260.02 1540.59 1253.7 1540.59 Q1251.53 1540.59 1249.26 1540.22 Q1247.02 1539.85 1244.61 1539.11 L1244.61 1534.41 Q1246.69 1535.54 1248.91 1536.1 Q1251.14 1536.66 1253.61 1536.66 Q1257.62 1536.66 1259.95 1534.55 Q1262.29 1532.44 1262.29 1528.83 Q1262.29 1525.22 1259.95 1523.11 Q1257.62 1521.01 1253.61 1521.01 Q1251.74 1521.01 1249.86 1521.42 Q1248.01 1521.84 1246.07 1522.72 L1246.07 1505.36 Z\" fill=\"#000000\" fill-rule=\"evenodd\" fill-opacity=\"1\" /><path clip-path=\"url(#clip000)\" d=\"M 0 0 M1282.04 1508.44 Q1278.43 1508.44 1276.6 1512 Q1274.79 1515.55 1274.79 1522.67 Q1274.79 1529.78 1276.6 1533.35 Q1278.43 1536.89 1282.04 1536.89 Q1285.67 1536.89 1287.48 1533.35 Q1289.31 1529.78 1289.31 1522.67 Q1289.31 1515.55 1287.48 1512 Q1285.67 1508.44 1282.04 1508.44 M1282.04 1504.73 Q1287.85 1504.73 1290.9 1509.34 Q1293.98 1513.92 1293.98 1522.67 Q1293.98 1531.4 1290.9 1536.01 Q1287.85 1540.59 1282.04 1540.59 Q1276.23 1540.59 1273.15 1536.01 Q1270.09 1531.4 1270.09 1522.67 Q1270.09 1513.92 1273.15 1509.34 Q1276.23 1504.73 1282.04 1504.73 Z\" fill=\"#000000\" fill-rule=\"evenodd\" fill-opacity=\"1\" /><path clip-path=\"url(#clip000)\" d=\"M 0 0 M1739.41 1508.44 Q1735.8 1508.44 1733.97 1512 Q1732.17 1515.55 1732.17 1522.67 Q1732.17 1529.78 1733.97 1533.35 Q1735.8 1536.89 1739.41 1536.89 Q1743.05 1536.89 1744.85 1533.35 Q1746.68 1529.78 1746.68 1522.67 Q1746.68 1515.55 1744.85 1512 Q1743.05 1508.44 1739.41 1508.44 M1739.41 1504.73 Q1745.22 1504.73 1748.28 1509.34 Q1751.36 1513.92 1751.36 1522.67 Q1751.36 1531.4 1748.28 1536.01 Q1745.22 1540.59 1739.41 1540.59 Q1733.6 1540.59 1730.53 1536.01 Q1727.47 1531.4 1727.47 1522.67 Q1727.47 1513.92 1730.53 1509.34 Q1733.6 1504.73 1739.41 1504.73 Z\" fill=\"#000000\" fill-rule=\"evenodd\" fill-opacity=\"1\" /><path clip-path=\"url(#clip000)\" d=\"M 0 0 M1756.43 1534.04 L1761.31 1534.04 L1761.31 1539.92 L1756.43 1539.92 L1756.43 1534.04 Z\" fill=\"#000000\" fill-rule=\"evenodd\" fill-opacity=\"1\" /><path clip-path=\"url(#clip000)\" d=\"M 0 0 M1765.2 1505.36 L1787.42 1505.36 L1787.42 1507.35 L1774.88 1539.92 L1769.99 1539.92 L1781.8 1509.3 L1765.2 1509.3 L1765.2 1505.36 Z\" fill=\"#000000\" fill-rule=\"evenodd\" fill-opacity=\"1\" /><path clip-path=\"url(#clip000)\" d=\"M 0 0 M1792.54 1505.36 L1810.9 1505.36 L1810.9 1509.3 L1796.82 1509.3 L1796.82 1517.77 Q1797.84 1517.42 1798.86 1517.26 Q1799.88 1517.07 1800.9 1517.07 Q1806.68 1517.07 1810.06 1520.24 Q1813.44 1523.42 1813.44 1528.83 Q1813.44 1534.41 1809.97 1537.51 Q1806.5 1540.59 1800.18 1540.59 Q1798 1540.59 1795.73 1540.22 Q1793.49 1539.85 1791.08 1539.11 L1791.08 1534.41 Q1793.16 1535.54 1795.39 1536.1 Q1797.61 1536.66 1800.09 1536.66 Q1804.09 1536.66 1806.43 1534.55 Q1808.77 1532.44 1808.77 1528.83 Q1808.77 1525.22 1806.43 1523.11 Q1804.09 1521.01 1800.09 1521.01 Q1798.21 1521.01 1796.34 1521.42 Q1794.48 1521.84 1792.54 1522.72 L1792.54 1505.36 Z\" fill=\"#000000\" fill-rule=\"evenodd\" fill-opacity=\"1\" /><path clip-path=\"url(#clip000)\" d=\"M 0 0 M2248.76 1535.98 L2256.4 1535.98 L2256.4 1509.62 L2248.09 1511.29 L2248.09 1507.03 L2256.35 1505.36 L2261.03 1505.36 L2261.03 1535.98 L2268.67 1535.98 L2268.67 1539.92 L2248.76 1539.92 L2248.76 1535.98 Z\" fill=\"#000000\" fill-rule=\"evenodd\" fill-opacity=\"1\" /><path clip-path=\"url(#clip000)\" d=\"M 0 0 M2273.73 1534.04 L2278.62 1534.04 L2278.62 1539.92 L2273.73 1539.92 L2273.73 1534.04 Z\" fill=\"#000000\" fill-rule=\"evenodd\" fill-opacity=\"1\" /><path clip-path=\"url(#clip000)\" d=\"M 0 0 M2293.69 1508.44 Q2290.08 1508.44 2288.25 1512 Q2286.44 1515.55 2286.44 1522.67 Q2286.44 1529.78 2288.25 1533.35 Q2290.08 1536.89 2293.69 1536.89 Q2297.32 1536.89 2299.13 1533.35 Q2300.96 1529.78 2300.96 1522.67 Q2300.96 1515.55 2299.13 1512 Q2297.32 1508.44 2293.69 1508.44 M2293.69 1504.73 Q2299.5 1504.73 2302.55 1509.34 Q2305.63 1513.92 2305.63 1522.67 Q2305.63 1531.4 2302.55 1536.01 Q2299.5 1540.59 2293.69 1540.59 Q2287.88 1540.59 2284.8 1536.01 Q2281.74 1531.4 2281.74 1522.67 Q2281.74 1513.92 2284.8 1509.34 Q2287.88 1504.73 2293.69 1504.73 Z\" fill=\"#000000\" fill-rule=\"evenodd\" fill-opacity=\"1\" /><path clip-path=\"url(#clip000)\" d=\"M 0 0 M2320.7 1508.44 Q2317.09 1508.44 2315.26 1512 Q2313.46 1515.55 2313.46 1522.67 Q2313.46 1529.78 2315.26 1533.35 Q2317.09 1536.89 2320.7 1536.89 Q2324.34 1536.89 2326.14 1533.35 Q2327.97 1529.78 2327.97 1522.67 Q2327.97 1515.55 2326.14 1512 Q2324.34 1508.44 2320.7 1508.44 M2320.7 1504.73 Q2326.51 1504.73 2329.57 1509.34 Q2332.65 1513.92 2332.65 1522.67 Q2332.65 1531.4 2329.57 1536.01 Q2326.51 1540.59 2320.7 1540.59 Q2314.89 1540.59 2311.81 1536.01 Q2308.76 1531.4 2308.76 1522.67 Q2308.76 1513.92 2311.81 1509.34 Q2314.89 1504.73 2320.7 1504.73 Z\" fill=\"#000000\" fill-rule=\"evenodd\" fill-opacity=\"1\" /><path clip-path=\"url(#clip000)\" d=\"M 0 0 M75.4226 1431.51 Q71.8115 1431.51 69.9828 1435.08 Q68.1773 1438.62 68.1773 1445.75 Q68.1773 1452.86 69.9828 1456.42 Q71.8115 1459.96 75.4226 1459.96 Q79.0569 1459.96 80.8624 1456.42 Q82.6911 1452.86 82.6911 1445.75 Q82.6911 1438.62 80.8624 1435.08 Q79.0569 1431.51 75.4226 1431.51 M75.4226 1427.81 Q81.2328 1427.81 84.2883 1432.42 Q87.367 1437 87.367 1445.75 Q87.367 1454.48 84.2883 1459.08 Q81.2328 1463.67 75.4226 1463.67 Q69.6125 1463.67 66.5338 1459.08 Q63.4782 1454.48 63.4782 1445.75 Q63.4782 1437 66.5338 1432.42 Q69.6125 1427.81 75.4226 1427.81 Z\" fill=\"#000000\" fill-rule=\"evenodd\" fill-opacity=\"1\" /><path clip-path=\"url(#clip000)\" d=\"M 0 0 M92.4364 1457.12 L97.3206 1457.12 L97.3206 1463 L92.4364 1463 L92.4364 1457.12 Z\" fill=\"#000000\" fill-rule=\"evenodd\" fill-opacity=\"1\" /><path clip-path=\"url(#clip000)\" d=\"M 0 0 M112.39 1431.51 Q108.779 1431.51 106.95 1435.08 Q105.145 1438.62 105.145 1445.75 Q105.145 1452.86 106.95 1456.42 Q108.779 1459.96 112.39 1459.96 Q116.024 1459.96 117.83 1456.42 Q119.658 1452.86 119.658 1445.75 Q119.658 1438.62 117.83 1435.08 Q116.024 1431.51 112.39 1431.51 M112.39 1427.81 Q118.2 1427.81 121.256 1432.42 Q124.334 1437 124.334 1445.75 Q124.334 1454.48 121.256 1459.08 Q118.2 1463.67 112.39 1463.67 Q106.58 1463.67 103.501 1459.08 Q100.446 1454.48 100.446 1445.75 Q100.446 1437 103.501 1432.42 Q106.58 1427.81 112.39 1427.81 Z\" fill=\"#000000\" fill-rule=\"evenodd\" fill-opacity=\"1\" /><path clip-path=\"url(#clip000)\" d=\"M 0 0 M76.6495 1096.51 Q73.0384 1096.51 71.2097 1100.07 Q69.4041 1103.61 69.4041 1110.74 Q69.4041 1117.85 71.2097 1121.41 Q73.0384 1124.95 76.6495 1124.95 Q80.2837 1124.95 82.0892 1121.41 Q83.9179 1117.85 83.9179 1110.74 Q83.9179 1103.61 82.0892 1100.07 Q80.2837 1096.51 76.6495 1096.51 M76.6495 1092.8 Q82.4596 1092.8 85.5152 1097.41 Q88.5938 1101.99 88.5938 1110.74 Q88.5938 1119.47 85.5152 1124.07 Q82.4596 1128.66 76.6495 1128.66 Q70.8393 1128.66 67.7606 1124.07 Q64.7051 1119.47 64.7051 1110.74 Q64.7051 1101.99 67.7606 1097.41 Q70.8393 1092.8 76.6495 1092.8 Z\" fill=\"#000000\" fill-rule=\"evenodd\" fill-opacity=\"1\" /><path clip-path=\"url(#clip000)\" d=\"M 0 0 M93.6633 1122.11 L98.5475 1122.11 L98.5475 1127.99 L93.6633 1127.99 L93.6633 1122.11 Z\" fill=\"#000000\" fill-rule=\"evenodd\" fill-opacity=\"1\" /><path clip-path=\"url(#clip000)\" d=\"M 0 0 M104.427 1124.05 L112.066 1124.05 L112.066 1097.69 L103.756 1099.35 L103.756 1095.09 L112.02 1093.43 L116.696 1093.43 L116.696 1124.05 L124.334 1124.05 L124.334 1127.99 L104.427 1127.99 L104.427 1124.05 Z\" fill=\"#000000\" fill-rule=\"evenodd\" fill-opacity=\"1\" /><path clip-path=\"url(#clip000)\" d=\"M 0 0 M77.0198 761.497 Q73.4087 761.497 71.58 765.062 Q69.7745 768.603 69.7745 775.733 Q69.7745 782.839 71.58 786.404 Q73.4087 789.946 77.0198 789.946 Q80.6541 789.946 82.4596 786.404 Q84.2883 782.839 84.2883 775.733 Q84.2883 768.603 82.4596 765.062 Q80.6541 761.497 77.0198 761.497 M77.0198 757.793 Q82.83 757.793 85.8855 762.4 Q88.9642 766.983 88.9642 775.733 Q88.9642 784.46 85.8855 789.066 Q82.83 793.649 77.0198 793.649 Q71.2097 793.649 68.131 789.066 Q65.0754 784.46 65.0754 775.733 Q65.0754 766.983 68.131 762.4 Q71.2097 757.793 77.0198 757.793 Z\" fill=\"#000000\" fill-rule=\"evenodd\" fill-opacity=\"1\" /><path clip-path=\"url(#clip000)\" d=\"M 0 0 M94.0336 787.099 L98.9179 787.099 L98.9179 792.978 L94.0336 792.978 L94.0336 787.099 Z\" fill=\"#000000\" fill-rule=\"evenodd\" fill-opacity=\"1\" /><path clip-path=\"url(#clip000)\" d=\"M 0 0 M108.015 789.043 L124.334 789.043 L124.334 792.978 L102.39 792.978 L102.39 789.043 Q105.052 786.288 109.635 781.659 Q114.242 777.006 115.422 775.663 Q117.668 773.14 118.547 771.404 Q119.45 769.645 119.45 767.955 Q119.45 765.201 117.506 763.464 Q115.584 761.728 112.483 761.728 Q110.284 761.728 107.83 762.492 Q105.399 763.256 102.622 764.807 L102.622 760.085 Q105.446 758.951 107.899 758.372 Q110.353 757.793 112.39 757.793 Q117.76 757.793 120.955 760.478 Q124.149 763.163 124.149 767.654 Q124.149 769.784 123.339 771.705 Q122.552 773.603 120.446 776.196 Q119.867 776.867 116.765 780.085 Q113.663 783.279 108.015 789.043 Z\" fill=\"#000000\" fill-rule=\"evenodd\" fill-opacity=\"1\" /><path clip-path=\"url(#clip000)\" d=\"M 0 0 M76.0708 426.488 Q72.4597 426.488 70.631 430.053 Q68.8254 433.595 68.8254 440.724 Q68.8254 447.831 70.631 451.395 Q72.4597 454.937 76.0708 454.937 Q79.705 454.937 81.5105 451.395 Q83.3392 447.831 83.3392 440.724 Q83.3392 433.595 81.5105 430.053 Q79.705 426.488 76.0708 426.488 M76.0708 422.784 Q81.8809 422.784 84.9365 427.391 Q88.0151 431.974 88.0151 440.724 Q88.0151 449.451 84.9365 454.057 Q81.8809 458.641 76.0708 458.641 Q70.2606 458.641 67.1819 454.057 Q64.1264 449.451 64.1264 440.724 Q64.1264 431.974 67.1819 427.391 Q70.2606 422.784 76.0708 422.784 Z\" fill=\"#000000\" fill-rule=\"evenodd\" fill-opacity=\"1\" /><path clip-path=\"url(#clip000)\" d=\"M 0 0 M93.0846 452.09 L97.9688 452.09 L97.9688 457.969 L93.0846 457.969 L93.0846 452.09 Z\" fill=\"#000000\" fill-rule=\"evenodd\" fill-opacity=\"1\" /><path clip-path=\"url(#clip000)\" d=\"M 0 0 M117.205 439.335 Q120.561 440.053 122.436 442.321 Q124.334 444.59 124.334 447.923 Q124.334 453.039 120.816 455.84 Q117.297 458.641 110.816 458.641 Q108.64 458.641 106.325 458.201 Q104.034 457.784 101.58 456.928 L101.58 452.414 Q103.524 453.548 105.839 454.127 Q108.154 454.706 110.677 454.706 Q115.075 454.706 117.367 452.969 Q119.682 451.233 119.682 447.923 Q119.682 444.868 117.529 443.155 Q115.399 441.419 111.58 441.419 L107.552 441.419 L107.552 437.576 L111.765 437.576 Q115.214 437.576 117.043 436.21 Q118.871 434.821 118.871 432.229 Q118.871 429.567 116.973 428.155 Q115.098 426.72 111.58 426.72 Q109.659 426.72 107.459 427.136 Q105.26 427.553 102.622 428.432 L102.622 424.266 Q105.284 423.525 107.598 423.155 Q109.936 422.784 111.996 422.784 Q117.321 422.784 120.422 425.215 Q123.524 427.622 123.524 431.743 Q123.524 434.613 121.881 436.604 Q120.237 438.571 117.205 439.335 Z\" fill=\"#000000\" fill-rule=\"evenodd\" fill-opacity=\"1\" /><path clip-path=\"url(#clip000)\" d=\"M 0 0 M74.9365 91.4793 Q71.3254 91.4793 69.4967 95.0441 Q67.6912 98.5857 67.6912 105.715 Q67.6912 112.822 69.4967 116.387 Q71.3254 119.928 74.9365 119.928 Q78.5707 119.928 80.3763 116.387 Q82.205 112.822 82.205 105.715 Q82.205 98.5857 80.3763 95.0441 Q78.5707 91.4793 74.9365 91.4793 M74.9365 87.7756 Q80.7467 87.7756 83.8022 92.3821 Q86.8809 96.9654 86.8809 105.715 Q86.8809 114.442 83.8022 119.049 Q80.7467 123.632 74.9365 123.632 Q69.1264 123.632 66.0477 119.049 Q62.9921 114.442 62.9921 105.715 Q62.9921 96.9654 66.0477 92.3821 Q69.1264 87.7756 74.9365 87.7756 Z\" fill=\"#000000\" fill-rule=\"evenodd\" fill-opacity=\"1\" /><path clip-path=\"url(#clip000)\" d=\"M 0 0 M91.9503 117.081 L96.8345 117.081 L96.8345 122.961 L91.9503 122.961 L91.9503 117.081 Z\" fill=\"#000000\" fill-rule=\"evenodd\" fill-opacity=\"1\" /><path clip-path=\"url(#clip000)\" d=\"M 0 0 M114.751 92.4747 L102.946 110.924 L114.751 110.924 L114.751 92.4747 M113.524 88.4006 L119.404 88.4006 L119.404 110.924 L124.334 110.924 L124.334 114.812 L119.404 114.812 L119.404 122.961 L114.751 122.961 L114.751 114.812 L99.1493 114.812 L99.1493 110.299 L113.524 88.4006 Z\" fill=\"#000000\" fill-rule=\"evenodd\" fill-opacity=\"1\" /><polyline clip-path=\"url(#clip002)\" style=\"stroke:#009af9; stroke-width:4; stroke-opacity:1; fill:none\" points=\"\n",
       "  210.724,87.9763 231.73,88.1472 252.737,88.6598 273.743,89.5141 294.75,90.7098 315.756,92.2467 336.763,94.1242 357.769,96.342 378.776,98.8995 399.782,101.796 \n",
       "  420.789,105.031 441.795,108.603 462.802,112.512 483.808,116.757 504.815,121.336 525.821,126.249 546.828,131.494 567.834,137.069 588.841,142.974 609.847,149.207 \n",
       "  630.854,155.767 651.86,162.651 672.867,169.858 693.873,177.386 714.88,185.234 735.886,193.399 756.893,201.879 777.899,210.672 798.906,219.777 819.912,229.19 \n",
       "  840.919,238.909 861.925,248.932 882.931,259.256 903.938,269.879 924.944,280.798 945.951,292.01 966.957,303.513 987.964,315.303 1008.97,327.378 1029.98,339.734 \n",
       "  1050.98,352.369 1071.99,365.278 1093,378.46 1114,391.911 1135.01,405.627 1156.02,419.605 1177.02,433.841 1198.03,448.332 1219.04,463.073 1240.04,478.063 \n",
       "  1261.05,493.296 1282.05,508.768 1303.06,524.477 1324.07,540.417 1345.07,556.585 1366.08,572.978 1387.09,589.589 1408.09,606.417 1429.1,623.456 1450.11,640.701 \n",
       "  1471.11,658.15 1492.12,675.796 1513.13,693.637 1534.13,711.666 1555.14,729.881 1576.15,748.276 1597.15,766.846 1618.16,785.587 1639.17,804.495 1660.17,823.563 \n",
       "  1681.18,842.789 1702.18,862.166 1723.19,881.69 1744.2,901.357 1765.2,921.16 1786.21,941.095 1807.22,961.157 1828.22,981.341 1849.23,1001.64 1870.24,1022.06 \n",
       "  1891.24,1042.58 1912.25,1063.2 1933.26,1083.91 1954.26,1104.72 1975.27,1125.62 1996.28,1146.59 2017.28,1167.64 2038.29,1188.76 2059.3,1209.95 2080.3,1231.19 \n",
       "  2101.31,1252.49 2122.31,1273.84 2143.32,1295.23 2164.33,1316.65 2185.33,1338.11 2206.34,1359.6 2227.35,1381.11 2248.35,1402.64 2269.36,1424.17 2290.37,1445.72 \n",
       "  \n",
       "  \"/>\n",
       "<polyline clip-path=\"url(#clip002)\" style=\"stroke:#e26f46; stroke-width:4; stroke-opacity:1; fill:none\" points=\"\n",
       "  210.724,563.677 730.634,563.677 1250.55,687.48 1770.46,906.038 2290.37,1175.88 \n",
       "  \"/>\n",
       "<path clip-path=\"url(#clip000)\" d=\"\n",
       "M1824.14 312.204 L2280.76 312.204 L2280.76 130.764 L1824.14 130.764  Z\n",
       "  \" fill=\"#ffffff\" fill-rule=\"evenodd\" fill-opacity=\"1\"/>\n",
       "<polyline clip-path=\"url(#clip000)\" style=\"stroke:#000000; stroke-width:4; stroke-opacity:1; fill:none\" points=\"\n",
       "  1824.14,312.204 2280.76,312.204 2280.76,130.764 1824.14,130.764 1824.14,312.204 \n",
       "  \"/>\n",
       "<polyline clip-path=\"url(#clip000)\" style=\"stroke:#009af9; stroke-width:4; stroke-opacity:1; fill:none\" points=\"\n",
       "  1848.14,191.244 1992.14,191.244 \n",
       "  \"/>\n",
       "<path clip-path=\"url(#clip000)\" d=\"M 0 0 M2016.14 198.293 L2016.14 182.598 L2020.4 182.598 L2020.4 198.131 Q2020.4 201.811 2021.83 203.663 Q2023.27 205.492 2026.14 205.492 Q2029.59 205.492 2031.58 203.293 Q2033.59 201.094 2033.59 197.297 L2033.59 182.598 L2037.85 182.598 L2037.85 208.524 L2033.59 208.524 L2033.59 204.543 Q2032.04 206.904 2029.98 208.061 Q2027.94 209.195 2025.23 209.195 Q2020.77 209.195 2018.45 206.418 Q2016.14 203.64 2016.14 198.293 M2026.85 181.973 L2026.85 181.973 Z\" fill=\"#000000\" fill-rule=\"evenodd\" fill-opacity=\"1\" /><path clip-path=\"url(#clip000)\" d=\"M 0 0 M2052.55 172.552 Q2049.45 177.876 2047.94 183.084 Q2046.44 188.293 2046.44 193.64 Q2046.44 198.987 2047.94 204.242 Q2049.47 209.473 2052.55 214.774 L2048.84 214.774 Q2045.37 209.334 2043.64 204.08 Q2041.92 198.825 2041.92 193.64 Q2041.92 188.478 2043.64 183.246 Q2045.35 178.015 2048.84 172.552 L2052.55 172.552 Z\" fill=\"#000000\" fill-rule=\"evenodd\" fill-opacity=\"1\" /><path clip-path=\"url(#clip000)\" d=\"M 0 0 M2078.57 182.598 L2069.19 195.214 L2079.05 208.524 L2074.03 208.524 L2066.48 198.339 L2058.94 208.524 L2053.91 208.524 L2063.98 194.959 L2054.77 182.598 L2059.79 182.598 L2066.67 191.834 L2073.54 182.598 L2078.57 182.598 Z\" fill=\"#000000\" fill-rule=\"evenodd\" fill-opacity=\"1\" /><path clip-path=\"url(#clip000)\" d=\"M 0 0 M2082.85 172.552 L2086.55 172.552 Q2090.03 178.015 2091.74 183.246 Q2093.47 188.478 2093.47 193.64 Q2093.47 198.825 2091.74 204.08 Q2090.03 209.334 2086.55 214.774 L2082.85 214.774 Q2085.93 209.473 2087.43 204.242 Q2088.96 198.987 2088.96 193.64 Q2088.96 188.293 2087.43 183.084 Q2085.93 177.876 2082.85 172.552 Z\" fill=\"#000000\" fill-rule=\"evenodd\" fill-opacity=\"1\" /><polyline clip-path=\"url(#clip000)\" style=\"stroke:#e26f46; stroke-width:4; stroke-opacity:1; fill:none\" points=\"\n",
       "  1848.14,251.724 1992.14,251.724 \n",
       "  \"/>\n",
       "<path clip-path=\"url(#clip000)\" d=\"M 0 0 M2032.64 232.986 L2032.64 236.527 L2028.57 236.527 Q2026.28 236.527 2025.37 237.453 Q2024.49 238.379 2024.49 240.787 L2024.49 243.078 L2031.51 243.078 L2031.51 246.388 L2024.49 246.388 L2024.49 269.004 L2020.21 269.004 L2020.21 246.388 L2016.14 246.388 L2016.14 243.078 L2020.21 243.078 L2020.21 241.273 Q2020.21 236.944 2022.22 234.976 Q2024.24 232.986 2028.61 232.986 L2032.64 232.986 Z\" fill=\"#000000\" fill-rule=\"evenodd\" fill-opacity=\"1\" /><path clip-path=\"url(#clip000)\" d=\"M 0 0 M2037.11 243.078 L2041.37 243.078 L2041.37 269.004 L2037.11 269.004 L2037.11 243.078 M2037.11 232.986 L2041.37 232.986 L2041.37 238.379 L2037.11 238.379 L2037.11 232.986 Z\" fill=\"#000000\" fill-rule=\"evenodd\" fill-opacity=\"1\" /><path clip-path=\"url(#clip000)\" d=\"M 0 0 M2060.86 247.06 Q2060.14 246.643 2059.28 246.458 Q2058.45 246.25 2057.43 246.25 Q2053.82 246.25 2051.88 248.611 Q2049.96 250.949 2049.96 255.347 L2049.96 269.004 L2045.67 269.004 L2045.67 243.078 L2049.96 243.078 L2049.96 247.106 Q2051.3 244.745 2053.45 243.611 Q2055.6 242.453 2058.68 242.453 Q2059.12 242.453 2059.65 242.523 Q2060.19 242.569 2060.84 242.685 L2060.86 247.06 Z\" fill=\"#000000\" fill-rule=\"evenodd\" fill-opacity=\"1\" /><path clip-path=\"url(#clip000)\" d=\"M 0 0 M2081.85 243.842 L2081.85 247.87 Q2080.05 246.944 2078.1 246.481 Q2076.16 246.018 2074.08 246.018 Q2070.9 246.018 2069.31 246.99 Q2067.73 247.963 2067.73 249.907 Q2067.73 251.388 2068.87 252.245 Q2070 253.078 2073.43 253.842 L2074.89 254.166 Q2079.42 255.138 2081.32 256.921 Q2083.24 258.68 2083.24 261.851 Q2083.24 265.462 2080.37 267.569 Q2077.53 269.675 2072.53 269.675 Q2070.44 269.675 2068.17 269.259 Q2065.93 268.865 2063.43 268.055 L2063.43 263.657 Q2065.79 264.884 2068.08 265.509 Q2070.37 266.111 2072.62 266.111 Q2075.63 266.111 2077.25 265.092 Q2078.87 264.05 2078.87 262.175 Q2078.87 260.439 2077.69 259.513 Q2076.53 258.587 2072.57 257.731 L2071.09 257.384 Q2067.13 256.55 2065.37 254.838 Q2063.61 253.101 2063.61 250.092 Q2063.61 246.435 2066.21 244.444 Q2068.8 242.453 2073.57 242.453 Q2075.93 242.453 2078.01 242.801 Q2080.09 243.148 2081.85 243.842 Z\" fill=\"#000000\" fill-rule=\"evenodd\" fill-opacity=\"1\" /><path clip-path=\"url(#clip000)\" d=\"M 0 0 M2091.92 235.717 L2091.92 243.078 L2100.7 243.078 L2100.7 246.388 L2091.92 246.388 L2091.92 260.462 Q2091.92 263.634 2092.78 264.537 Q2093.66 265.439 2096.32 265.439 L2100.7 265.439 L2100.7 269.004 L2096.32 269.004 Q2091.39 269.004 2089.52 267.175 Q2087.64 265.324 2087.64 260.462 L2087.64 246.388 L2084.52 246.388 L2084.52 243.078 L2087.64 243.078 L2087.64 235.717 L2091.92 235.717 Z\" fill=\"#000000\" fill-rule=\"evenodd\" fill-opacity=\"1\" /><path clip-path=\"url(#clip000)\" d=\"M 0 0 M2130.28 246.064 Q2126.85 246.064 2124.86 248.75 Q2122.87 251.412 2122.87 256.064 Q2122.87 260.717 2124.84 263.402 Q2126.83 266.064 2130.28 266.064 Q2133.68 266.064 2135.67 263.379 Q2137.66 260.694 2137.66 256.064 Q2137.66 251.458 2135.67 248.773 Q2133.68 246.064 2130.28 246.064 M2130.28 242.453 Q2135.84 242.453 2139.01 246.064 Q2142.18 249.675 2142.18 256.064 Q2142.18 262.43 2139.01 266.064 Q2135.84 269.675 2130.28 269.675 Q2124.7 269.675 2121.53 266.064 Q2118.38 262.43 2118.38 256.064 Q2118.38 249.675 2121.53 246.064 Q2124.7 242.453 2130.28 242.453 Z\" fill=\"#000000\" fill-rule=\"evenodd\" fill-opacity=\"1\" /><path clip-path=\"url(#clip000)\" d=\"M 0 0 M2161.67 247.06 Q2160.95 246.643 2160.09 246.458 Q2159.26 246.25 2158.24 246.25 Q2154.63 246.25 2152.69 248.611 Q2150.77 250.949 2150.77 255.347 L2150.77 269.004 L2146.48 269.004 L2146.48 243.078 L2150.77 243.078 L2150.77 247.106 Q2152.11 244.745 2154.26 243.611 Q2156.41 242.453 2159.49 242.453 Q2159.93 242.453 2160.46 242.523 Q2161 242.569 2161.65 242.685 L2161.67 247.06 Z\" fill=\"#000000\" fill-rule=\"evenodd\" fill-opacity=\"1\" /><path clip-path=\"url(#clip000)\" d=\"M 0 0 M2182.36 247.013 L2182.36 232.986 L2186.62 232.986 L2186.62 269.004 L2182.36 269.004 L2182.36 265.115 Q2181.02 267.43 2178.96 268.564 Q2176.92 269.675 2174.05 269.675 Q2169.35 269.675 2166.39 265.925 Q2163.45 262.175 2163.45 256.064 Q2163.45 249.953 2166.39 246.203 Q2169.35 242.453 2174.05 242.453 Q2176.92 242.453 2178.96 243.588 Q2181.02 244.699 2182.36 247.013 M2167.85 256.064 Q2167.85 260.763 2169.77 263.449 Q2171.71 266.111 2175.09 266.111 Q2178.47 266.111 2180.42 263.449 Q2182.36 260.763 2182.36 256.064 Q2182.36 251.365 2180.42 248.703 Q2178.47 246.018 2175.09 246.018 Q2171.71 246.018 2169.77 248.703 Q2167.85 251.365 2167.85 256.064 Z\" fill=\"#000000\" fill-rule=\"evenodd\" fill-opacity=\"1\" /><path clip-path=\"url(#clip000)\" d=\"M 0 0 M2213.27 254.976 L2213.27 257.06 L2193.68 257.06 Q2193.96 261.458 2196.32 263.773 Q2198.71 266.064 2202.94 266.064 Q2205.39 266.064 2207.69 265.462 Q2210 264.861 2212.27 263.657 L2212.27 267.685 Q2209.98 268.657 2207.57 269.166 Q2205.16 269.675 2202.69 269.675 Q2196.48 269.675 2192.85 266.064 Q2189.24 262.453 2189.24 256.296 Q2189.24 249.93 2192.66 246.203 Q2196.11 242.453 2201.95 242.453 Q2207.18 242.453 2210.21 245.833 Q2213.27 249.189 2213.27 254.976 M2209.01 253.726 Q2208.96 250.231 2207.04 248.148 Q2205.14 246.064 2201.99 246.064 Q2198.43 246.064 2196.27 248.078 Q2194.15 250.092 2193.82 253.75 L2209.01 253.726 Z\" fill=\"#000000\" fill-rule=\"evenodd\" fill-opacity=\"1\" /><path clip-path=\"url(#clip000)\" d=\"M 0 0 M2232.76 247.06 Q2232.04 246.643 2231.18 246.458 Q2230.35 246.25 2229.33 246.25 Q2225.72 246.25 2223.77 248.611 Q2221.85 250.949 2221.85 255.347 L2221.85 269.004 L2217.57 269.004 L2217.57 243.078 L2221.85 243.078 L2221.85 247.106 Q2223.2 244.745 2225.35 243.611 Q2227.5 242.453 2230.58 242.453 Q2231.02 242.453 2231.55 242.523 Q2232.08 242.569 2232.73 242.685 L2232.76 247.06 Z\" fill=\"#000000\" fill-rule=\"evenodd\" fill-opacity=\"1\" /></svg>\n"
      ]
     },
     "execution_count": 36,
     "metadata": {},
     "output_type": "execute_result"
    }
   ],
   "source": [
    "using Plots\n",
    "\n",
    "\n",
    "\n",
    "function g1(x)\n",
    "    return(cos(π*x/2))\n",
    "end\n",
    "\n",
    "\n",
    "\n",
    "function u1(x)\n",
    "    return ( (4/π^2)*cos(π*x/2) )\n",
    "end\n",
    "\n",
    "\n",
    "h = 0.2\n",
    "\n",
    "xvals = LinRange(0,1,5)\n",
    "unitInterval = LinRange(0,1,100)\n",
    "\n",
    "\n",
    "\n",
    "\n",
    "g1target = [-h^2*g1(x) for x in xvals]\n",
    "g1target[1]=0\n",
    "\n",
    "\n",
    "\n",
    "\n",
    "plot(  unitInterval, [u1(x) for x in unitInterval],    label = \"u(x)\")\n",
    "\n",
    "\n",
    "plot!(   xvals, inv(D2_1(5))*g1target,     label = \"first order\")\n"
   ]
  },
  {
   "cell_type": "code",
   "execution_count": 37,
   "metadata": {},
   "outputs": [
    {
     "data": {
      "text/plain": [
       "5-element Array{Float64,1}:\n",
       "  0.0                   \n",
       " -0.03695518130045148   \n",
       " -0.02828427124746191   \n",
       " -0.015307337294603596  \n",
       " -2.4492935982947068e-18"
      ]
     },
     "execution_count": 37,
     "metadata": {},
     "output_type": "execute_result"
    }
   ],
   "source": [
    "g1target"
   ]
  },
  {
   "cell_type": "code",
   "execution_count": 97,
   "metadata": {},
   "outputs": [
    {
     "data": {
      "text/plain": [
       "6-element Array{Float64,1}:\n",
       "  0.0                   \n",
       " -0.03804226065180615   \n",
       " -0.0323606797749979    \n",
       " -0.02351141009169893   \n",
       " -0.0123606797749979    \n",
       " -2.4492935982947068e-18"
      ]
     },
     "execution_count": 97,
     "metadata": {},
     "output_type": "execute_result"
    }
   ],
   "source": [
    "g1target"
   ]
  },
  {
   "cell_type": "code",
   "execution_count": 68,
   "metadata": {},
   "outputs": [
    {
     "data": {
      "text/plain": [
       "0.4052847345693511"
      ]
     },
     "execution_count": 68,
     "metadata": {},
     "output_type": "execute_result"
    }
   ],
   "source": [
    "u1(0)"
   ]
  },
  {
   "cell_type": "code",
   "execution_count": 6,
   "metadata": {},
   "outputs": [
    {
     "data": {
      "text/plain": [
       "plotInterpolates"
      ]
     },
     "execution_count": 6,
     "metadata": {},
     "output_type": "execute_result"
    }
   ],
   "source": [
    "using Plots\n",
    "using LaTeXStrings\n",
    "\n",
    "function D2_1(n)\n",
    "    D = zeros(n,n)\n",
    "\n",
    "    for i in 1:n\n",
    "        if i==1\n",
    "            D[i,:] = [-1 1 zeros(n-2)']\n",
    "        elseif i==n\n",
    "            D[i,:] = [zeros(n-1)' 1 ]\n",
    "        else\n",
    "            D[i,:] = [zeros(i-2)' 1 -2 1 zeros(n-1-i)']\n",
    "        end\n",
    "    end\n",
    "    \n",
    "    return D\n",
    "end\n",
    "\n",
    "function D2_2(n)\n",
    "    D = zeros(n,n)\n",
    "\n",
    "    for i in 1:n\n",
    "        if i==1\n",
    "            D[i,:] = [-3 4 -1 zeros(n-3)']\n",
    "        elseif i==n\n",
    "            D[i,:] = [zeros(n-1)' 1 ]\n",
    "        else\n",
    "            D[i,:] = [zeros(i-2)' 1 -2 1 zeros(n-1-i)']\n",
    "        end\n",
    "    end\n",
    "    \n",
    "    return D\n",
    "end\n",
    "\n",
    "function g1(x)\n",
    "    return(cos(π*x/2))\n",
    "end\n",
    "\n",
    "function u1(x)\n",
    "    return ( (4/π^2)*cos(π*x/2) )\n",
    "end\n",
    "\n",
    "\n",
    "\n",
    "\n",
    "\n",
    "\"This function plots the original u, and the interpolates based on its second derivative\n",
    "Input:\n",
    "    u = function to be interpolated\n",
    "    g = second derivative of u, ie u''(x) = g(x).\n",
    "\"\n",
    "function plotInterpolates(u, g, n)\n",
    "\n",
    "    \n",
    "    h = 1/n\n",
    "    \n",
    "    xvals = LinRange(0,1,n+1)      # The x-vals where g(x) is known\n",
    "    \n",
    "    \n",
    "    image = (-h^2).*[g(x) for x in xvals]   #find the \"data vector on RHS of 1.27, 1.29\"\n",
    "    image[1] = 0\n",
    "    image[n+1] = 0\n",
    "\n",
    "    \n",
    "    \n",
    "    plot(xvals, inv(D2_1(n+1))*image     , label = L\"u_1 - u_0\", bg=false )\n",
    "    plot!(xvals, inv(D2_2(n+1))*image    , label = \"test\" )\n",
    "    plot!( LinRange(0,1,100), [u(x) for x in LinRange(0,1,100)], label= L\"u(x)\")    #plot u\n",
    "    \n",
    "end"
   ]
  },
  {
   "cell_type": "code",
   "execution_count": 7,
   "metadata": {},
   "outputs": [
    {
     "data": {
      "image/svg+xml": [
       "<?xml version=\"1.0\" encoding=\"utf-8\"?>\n",
       "<svg xmlns=\"http://www.w3.org/2000/svg\" xmlns:xlink=\"http://www.w3.org/1999/xlink\" width=\"600\" height=\"400\" viewBox=\"0 0 2400 1600\">\n",
       "<defs>\n",
       "  <clipPath id=\"clip290\">\n",
       "    <rect x=\"0\" y=\"0\" width=\"2400\" height=\"1600\"/>\n",
       "  </clipPath>\n",
       "</defs>\n",
       "<path clip-path=\"url(#clip290)\" d=\"\n",
       "M0 1600 L2400 1600 L2400 0 L0 0  Z\n",
       "  \" fill=\"#000000\" fill-rule=\"evenodd\" fill-opacity=\"0\"/>\n",
       "<defs>\n",
       "  <clipPath id=\"clip291\">\n",
       "    <rect x=\"480\" y=\"0\" width=\"1681\" height=\"1600\"/>\n",
       "  </clipPath>\n",
       "</defs>\n",
       "<path clip-path=\"url(#clip290)\" d=\"\n",
       "M148.334 1486.45 L2352.76 1486.45 L2352.76 47.2441 L148.334 47.2441  Z\n",
       "  \" fill=\"#000000\" fill-rule=\"evenodd\" fill-opacity=\"0\"/>\n",
       "<defs>\n",
       "  <clipPath id=\"clip292\">\n",
       "    <rect x=\"148\" y=\"47\" width=\"2205\" height=\"1440\"/>\n",
       "  </clipPath>\n",
       "</defs>\n",
       "<polyline clip-path=\"url(#clip292)\" style=\"stroke:#ffffff; stroke-width:2; stroke-opacity:0.1; fill:none\" points=\"\n",
       "  210.724,1486.45 210.724,47.2441 \n",
       "  \"/>\n",
       "<polyline clip-path=\"url(#clip292)\" style=\"stroke:#ffffff; stroke-width:2; stroke-opacity:0.1; fill:none\" points=\"\n",
       "  730.634,1486.45 730.634,47.2441 \n",
       "  \"/>\n",
       "<polyline clip-path=\"url(#clip292)\" style=\"stroke:#ffffff; stroke-width:2; stroke-opacity:0.1; fill:none\" points=\"\n",
       "  1250.55,1486.45 1250.55,47.2441 \n",
       "  \"/>\n",
       "<polyline clip-path=\"url(#clip292)\" style=\"stroke:#ffffff; stroke-width:2; stroke-opacity:0.1; fill:none\" points=\"\n",
       "  1770.46,1486.45 1770.46,47.2441 \n",
       "  \"/>\n",
       "<polyline clip-path=\"url(#clip292)\" style=\"stroke:#ffffff; stroke-width:2; stroke-opacity:0.1; fill:none\" points=\"\n",
       "  2290.37,1486.45 2290.37,47.2441 \n",
       "  \"/>\n",
       "<polyline clip-path=\"url(#clip292)\" style=\"stroke:#ffffff; stroke-width:2; stroke-opacity:0.1; fill:none\" points=\"\n",
       "  148.334,1445.72 2352.76,1445.72 \n",
       "  \"/>\n",
       "<polyline clip-path=\"url(#clip292)\" style=\"stroke:#ffffff; stroke-width:2; stroke-opacity:0.1; fill:none\" points=\"\n",
       "  148.334,1110.71 2352.76,1110.71 \n",
       "  \"/>\n",
       "<polyline clip-path=\"url(#clip292)\" style=\"stroke:#ffffff; stroke-width:2; stroke-opacity:0.1; fill:none\" points=\"\n",
       "  148.334,775.698 2352.76,775.698 \n",
       "  \"/>\n",
       "<polyline clip-path=\"url(#clip292)\" style=\"stroke:#ffffff; stroke-width:2; stroke-opacity:0.1; fill:none\" points=\"\n",
       "  148.334,440.689 2352.76,440.689 \n",
       "  \"/>\n",
       "<polyline clip-path=\"url(#clip292)\" style=\"stroke:#ffffff; stroke-width:2; stroke-opacity:0.1; fill:none\" points=\"\n",
       "  148.334,105.681 2352.76,105.681 \n",
       "  \"/>\n",
       "<polyline clip-path=\"url(#clip290)\" style=\"stroke:#ffffff; stroke-width:4; stroke-opacity:1; fill:none\" points=\"\n",
       "  148.334,1486.45 2352.76,1486.45 \n",
       "  \"/>\n",
       "<polyline clip-path=\"url(#clip290)\" style=\"stroke:#ffffff; stroke-width:4; stroke-opacity:1; fill:none\" points=\"\n",
       "  148.334,1486.45 148.334,47.2441 \n",
       "  \"/>\n",
       "<polyline clip-path=\"url(#clip290)\" style=\"stroke:#ffffff; stroke-width:4; stroke-opacity:1; fill:none\" points=\"\n",
       "  210.724,1486.45 210.724,1469.18 \n",
       "  \"/>\n",
       "<polyline clip-path=\"url(#clip290)\" style=\"stroke:#ffffff; stroke-width:4; stroke-opacity:1; fill:none\" points=\"\n",
       "  730.634,1486.45 730.634,1469.18 \n",
       "  \"/>\n",
       "<polyline clip-path=\"url(#clip290)\" style=\"stroke:#ffffff; stroke-width:4; stroke-opacity:1; fill:none\" points=\"\n",
       "  1250.55,1486.45 1250.55,1469.18 \n",
       "  \"/>\n",
       "<polyline clip-path=\"url(#clip290)\" style=\"stroke:#ffffff; stroke-width:4; stroke-opacity:1; fill:none\" points=\"\n",
       "  1770.46,1486.45 1770.46,1469.18 \n",
       "  \"/>\n",
       "<polyline clip-path=\"url(#clip290)\" style=\"stroke:#ffffff; stroke-width:4; stroke-opacity:1; fill:none\" points=\"\n",
       "  2290.37,1486.45 2290.37,1469.18 \n",
       "  \"/>\n",
       "<polyline clip-path=\"url(#clip290)\" style=\"stroke:#ffffff; stroke-width:4; stroke-opacity:1; fill:none\" points=\"\n",
       "  148.334,1445.72 174.787,1445.72 \n",
       "  \"/>\n",
       "<polyline clip-path=\"url(#clip290)\" style=\"stroke:#ffffff; stroke-width:4; stroke-opacity:1; fill:none\" points=\"\n",
       "  148.334,1110.71 174.787,1110.71 \n",
       "  \"/>\n",
       "<polyline clip-path=\"url(#clip290)\" style=\"stroke:#ffffff; stroke-width:4; stroke-opacity:1; fill:none\" points=\"\n",
       "  148.334,775.698 174.787,775.698 \n",
       "  \"/>\n",
       "<polyline clip-path=\"url(#clip290)\" style=\"stroke:#ffffff; stroke-width:4; stroke-opacity:1; fill:none\" points=\"\n",
       "  148.334,440.689 174.787,440.689 \n",
       "  \"/>\n",
       "<polyline clip-path=\"url(#clip290)\" style=\"stroke:#ffffff; stroke-width:4; stroke-opacity:1; fill:none\" points=\"\n",
       "  148.334,105.681 174.787,105.681 \n",
       "  \"/>\n",
       "<path clip-path=\"url(#clip290)\" d=\"M 0 0 M178.733 1508.44 Q175.122 1508.44 173.293 1512 Q171.488 1515.55 171.488 1522.67 Q171.488 1529.78 173.293 1533.35 Q175.122 1536.89 178.733 1536.89 Q182.367 1536.89 184.173 1533.35 Q186.002 1529.78 186.002 1522.67 Q186.002 1515.55 184.173 1512 Q182.367 1508.44 178.733 1508.44 M178.733 1504.73 Q184.543 1504.73 187.599 1509.34 Q190.677 1513.92 190.677 1522.67 Q190.677 1531.4 187.599 1536.01 Q184.543 1540.59 178.733 1540.59 Q172.923 1540.59 169.844 1536.01 Q166.789 1531.4 166.789 1522.67 Q166.789 1513.92 169.844 1509.34 Q172.923 1504.73 178.733 1504.73 Z\" fill=\"#ffffff\" fill-rule=\"evenodd\" fill-opacity=\"1\" /><path clip-path=\"url(#clip290)\" d=\"M 0 0 M195.747 1534.04 L200.631 1534.04 L200.631 1539.92 L195.747 1539.92 L195.747 1534.04 Z\" fill=\"#ffffff\" fill-rule=\"evenodd\" fill-opacity=\"1\" /><path clip-path=\"url(#clip290)\" d=\"M 0 0 M215.701 1508.44 Q212.089 1508.44 210.261 1512 Q208.455 1515.55 208.455 1522.67 Q208.455 1529.78 210.261 1533.35 Q212.089 1536.89 215.701 1536.89 Q219.335 1536.89 221.14 1533.35 Q222.969 1529.78 222.969 1522.67 Q222.969 1515.55 221.14 1512 Q219.335 1508.44 215.701 1508.44 M215.701 1504.73 Q221.511 1504.73 224.566 1509.34 Q227.645 1513.92 227.645 1522.67 Q227.645 1531.4 224.566 1536.01 Q221.511 1540.59 215.701 1540.59 Q209.89 1540.59 206.812 1536.01 Q203.756 1531.4 203.756 1522.67 Q203.756 1513.92 206.812 1509.34 Q209.89 1504.73 215.701 1504.73 Z\" fill=\"#ffffff\" fill-rule=\"evenodd\" fill-opacity=\"1\" /><path clip-path=\"url(#clip290)\" d=\"M 0 0 M242.714 1508.44 Q239.103 1508.44 237.274 1512 Q235.469 1515.55 235.469 1522.67 Q235.469 1529.78 237.274 1533.35 Q239.103 1536.89 242.714 1536.89 Q246.348 1536.89 248.154 1533.35 Q249.983 1529.78 249.983 1522.67 Q249.983 1515.55 248.154 1512 Q246.348 1508.44 242.714 1508.44 M242.714 1504.73 Q248.524 1504.73 251.58 1509.34 Q254.659 1513.92 254.659 1522.67 Q254.659 1531.4 251.58 1536.01 Q248.524 1540.59 242.714 1540.59 Q236.904 1540.59 233.825 1536.01 Q230.77 1531.4 230.77 1522.67 Q230.77 1513.92 233.825 1509.34 Q236.904 1504.73 242.714 1504.73 Z\" fill=\"#ffffff\" fill-rule=\"evenodd\" fill-opacity=\"1\" /><path clip-path=\"url(#clip290)\" d=\"M 0 0 M699.94 1508.44 Q696.329 1508.44 694.5 1512 Q692.695 1515.55 692.695 1522.67 Q692.695 1529.78 694.5 1533.35 Q696.329 1536.89 699.94 1536.89 Q703.574 1536.89 705.38 1533.35 Q707.209 1529.78 707.209 1522.67 Q707.209 1515.55 705.38 1512 Q703.574 1508.44 699.94 1508.44 M699.94 1504.73 Q705.75 1504.73 708.806 1509.34 Q711.885 1513.92 711.885 1522.67 Q711.885 1531.4 708.806 1536.01 Q705.75 1540.59 699.94 1540.59 Q694.13 1540.59 691.051 1536.01 Q687.996 1531.4 687.996 1522.67 Q687.996 1513.92 691.051 1509.34 Q694.13 1504.73 699.94 1504.73 Z\" fill=\"#ffffff\" fill-rule=\"evenodd\" fill-opacity=\"1\" /><path clip-path=\"url(#clip290)\" d=\"M 0 0 M716.954 1534.04 L721.838 1534.04 L721.838 1539.92 L716.954 1539.92 L716.954 1534.04 Z\" fill=\"#ffffff\" fill-rule=\"evenodd\" fill-opacity=\"1\" /><path clip-path=\"url(#clip290)\" d=\"M 0 0 M730.935 1535.98 L747.255 1535.98 L747.255 1539.92 L725.31 1539.92 L725.31 1535.98 Q727.972 1533.23 732.556 1528.6 Q737.162 1523.95 738.343 1522.61 Q740.588 1520.08 741.468 1518.35 Q742.37 1516.59 742.37 1514.9 Q742.37 1512.14 740.426 1510.41 Q738.505 1508.67 735.403 1508.67 Q733.204 1508.67 730.75 1509.43 Q728.32 1510.2 725.542 1511.75 L725.542 1507.03 Q728.366 1505.89 730.82 1505.31 Q733.273 1504.73 735.31 1504.73 Q740.681 1504.73 743.875 1507.42 Q747.07 1510.11 747.07 1514.6 Q747.07 1516.73 746.259 1518.65 Q745.472 1520.54 743.366 1523.14 Q742.787 1523.81 739.685 1527.03 Q736.583 1530.22 730.935 1535.98 Z\" fill=\"#ffffff\" fill-rule=\"evenodd\" fill-opacity=\"1\" /><path clip-path=\"url(#clip290)\" d=\"M 0 0 M752.37 1505.36 L770.727 1505.36 L770.727 1509.3 L756.653 1509.3 L756.653 1517.77 Q757.671 1517.42 758.69 1517.26 Q759.708 1517.07 760.727 1517.07 Q766.514 1517.07 769.893 1520.24 Q773.273 1523.42 773.273 1528.83 Q773.273 1534.41 769.801 1537.51 Q766.329 1540.59 760.009 1540.59 Q757.833 1540.59 755.565 1540.22 Q753.319 1539.85 750.912 1539.11 L750.912 1534.41 Q752.995 1535.54 755.218 1536.1 Q757.44 1536.66 759.917 1536.66 Q763.921 1536.66 766.259 1534.55 Q768.597 1532.44 768.597 1528.83 Q768.597 1525.22 766.259 1523.11 Q763.921 1521.01 759.917 1521.01 Q758.042 1521.01 756.167 1521.42 Q754.315 1521.84 752.37 1522.72 L752.37 1505.36 Z\" fill=\"#ffffff\" fill-rule=\"evenodd\" fill-opacity=\"1\" /><path clip-path=\"url(#clip290)\" d=\"M 0 0 M1219.05 1508.44 Q1215.44 1508.44 1213.61 1512 Q1211.81 1515.55 1211.81 1522.67 Q1211.81 1529.78 1213.61 1533.35 Q1215.44 1536.89 1219.05 1536.89 Q1222.69 1536.89 1224.49 1533.35 Q1226.32 1529.78 1226.32 1522.67 Q1226.32 1515.55 1224.49 1512 Q1222.69 1508.44 1219.05 1508.44 M1219.05 1504.73 Q1224.86 1504.73 1227.92 1509.34 Q1231 1513.92 1231 1522.67 Q1231 1531.4 1227.92 1536.01 Q1224.86 1540.59 1219.05 1540.59 Q1213.24 1540.59 1210.16 1536.01 Q1207.11 1531.4 1207.11 1522.67 Q1207.11 1513.92 1210.16 1509.34 Q1213.24 1504.73 1219.05 1504.73 Z\" fill=\"#ffffff\" fill-rule=\"evenodd\" fill-opacity=\"1\" /><path clip-path=\"url(#clip290)\" d=\"M 0 0 M1236.07 1534.04 L1240.95 1534.04 L1240.95 1539.92 L1236.07 1539.92 L1236.07 1534.04 Z\" fill=\"#ffffff\" fill-rule=\"evenodd\" fill-opacity=\"1\" /><path clip-path=\"url(#clip290)\" d=\"M 0 0 M1246.07 1505.36 L1264.42 1505.36 L1264.42 1509.3 L1250.35 1509.3 L1250.35 1517.77 Q1251.37 1517.42 1252.39 1517.26 Q1253.4 1517.07 1254.42 1517.07 Q1260.21 1517.07 1263.59 1520.24 Q1266.97 1523.42 1266.97 1528.83 Q1266.97 1534.41 1263.5 1537.51 Q1260.02 1540.59 1253.7 1540.59 Q1251.53 1540.59 1249.26 1540.22 Q1247.02 1539.85 1244.61 1539.11 L1244.61 1534.41 Q1246.69 1535.54 1248.91 1536.1 Q1251.14 1536.66 1253.61 1536.66 Q1257.62 1536.66 1259.95 1534.55 Q1262.29 1532.44 1262.29 1528.83 Q1262.29 1525.22 1259.95 1523.11 Q1257.62 1521.01 1253.61 1521.01 Q1251.74 1521.01 1249.86 1521.42 Q1248.01 1521.84 1246.07 1522.72 L1246.07 1505.36 Z\" fill=\"#ffffff\" fill-rule=\"evenodd\" fill-opacity=\"1\" /><path clip-path=\"url(#clip290)\" d=\"M 0 0 M1282.04 1508.44 Q1278.43 1508.44 1276.6 1512 Q1274.79 1515.55 1274.79 1522.67 Q1274.79 1529.78 1276.6 1533.35 Q1278.43 1536.89 1282.04 1536.89 Q1285.67 1536.89 1287.48 1533.35 Q1289.31 1529.78 1289.31 1522.67 Q1289.31 1515.55 1287.48 1512 Q1285.67 1508.44 1282.04 1508.44 M1282.04 1504.73 Q1287.85 1504.73 1290.9 1509.34 Q1293.98 1513.92 1293.98 1522.67 Q1293.98 1531.4 1290.9 1536.01 Q1287.85 1540.59 1282.04 1540.59 Q1276.23 1540.59 1273.15 1536.01 Q1270.09 1531.4 1270.09 1522.67 Q1270.09 1513.92 1273.15 1509.34 Q1276.23 1504.73 1282.04 1504.73 Z\" fill=\"#ffffff\" fill-rule=\"evenodd\" fill-opacity=\"1\" /><path clip-path=\"url(#clip290)\" d=\"M 0 0 M1739.41 1508.44 Q1735.8 1508.44 1733.97 1512 Q1732.17 1515.55 1732.17 1522.67 Q1732.17 1529.78 1733.97 1533.35 Q1735.8 1536.89 1739.41 1536.89 Q1743.05 1536.89 1744.85 1533.35 Q1746.68 1529.78 1746.68 1522.67 Q1746.68 1515.55 1744.85 1512 Q1743.05 1508.44 1739.41 1508.44 M1739.41 1504.73 Q1745.22 1504.73 1748.28 1509.34 Q1751.36 1513.92 1751.36 1522.67 Q1751.36 1531.4 1748.28 1536.01 Q1745.22 1540.59 1739.41 1540.59 Q1733.6 1540.59 1730.53 1536.01 Q1727.47 1531.4 1727.47 1522.67 Q1727.47 1513.92 1730.53 1509.34 Q1733.6 1504.73 1739.41 1504.73 Z\" fill=\"#ffffff\" fill-rule=\"evenodd\" fill-opacity=\"1\" /><path clip-path=\"url(#clip290)\" d=\"M 0 0 M1756.43 1534.04 L1761.31 1534.04 L1761.31 1539.92 L1756.43 1539.92 L1756.43 1534.04 Z\" fill=\"#ffffff\" fill-rule=\"evenodd\" fill-opacity=\"1\" /><path clip-path=\"url(#clip290)\" d=\"M 0 0 M1765.2 1505.36 L1787.42 1505.36 L1787.42 1507.35 L1774.88 1539.92 L1769.99 1539.92 L1781.8 1509.3 L1765.2 1509.3 L1765.2 1505.36 Z\" fill=\"#ffffff\" fill-rule=\"evenodd\" fill-opacity=\"1\" /><path clip-path=\"url(#clip290)\" d=\"M 0 0 M1792.54 1505.36 L1810.9 1505.36 L1810.9 1509.3 L1796.82 1509.3 L1796.82 1517.77 Q1797.84 1517.42 1798.86 1517.26 Q1799.88 1517.07 1800.9 1517.07 Q1806.68 1517.07 1810.06 1520.24 Q1813.44 1523.42 1813.44 1528.83 Q1813.44 1534.41 1809.97 1537.51 Q1806.5 1540.59 1800.18 1540.59 Q1798 1540.59 1795.73 1540.22 Q1793.49 1539.85 1791.08 1539.11 L1791.08 1534.41 Q1793.16 1535.54 1795.39 1536.1 Q1797.61 1536.66 1800.09 1536.66 Q1804.09 1536.66 1806.43 1534.55 Q1808.77 1532.44 1808.77 1528.83 Q1808.77 1525.22 1806.43 1523.11 Q1804.09 1521.01 1800.09 1521.01 Q1798.21 1521.01 1796.34 1521.42 Q1794.48 1521.84 1792.54 1522.72 L1792.54 1505.36 Z\" fill=\"#ffffff\" fill-rule=\"evenodd\" fill-opacity=\"1\" /><path clip-path=\"url(#clip290)\" d=\"M 0 0 M2248.76 1535.98 L2256.4 1535.98 L2256.4 1509.62 L2248.09 1511.29 L2248.09 1507.03 L2256.35 1505.36 L2261.03 1505.36 L2261.03 1535.98 L2268.67 1535.98 L2268.67 1539.92 L2248.76 1539.92 L2248.76 1535.98 Z\" fill=\"#ffffff\" fill-rule=\"evenodd\" fill-opacity=\"1\" /><path clip-path=\"url(#clip290)\" d=\"M 0 0 M2273.73 1534.04 L2278.62 1534.04 L2278.62 1539.92 L2273.73 1539.92 L2273.73 1534.04 Z\" fill=\"#ffffff\" fill-rule=\"evenodd\" fill-opacity=\"1\" /><path clip-path=\"url(#clip290)\" d=\"M 0 0 M2293.69 1508.44 Q2290.08 1508.44 2288.25 1512 Q2286.44 1515.55 2286.44 1522.67 Q2286.44 1529.78 2288.25 1533.35 Q2290.08 1536.89 2293.69 1536.89 Q2297.32 1536.89 2299.13 1533.35 Q2300.96 1529.78 2300.96 1522.67 Q2300.96 1515.55 2299.13 1512 Q2297.32 1508.44 2293.69 1508.44 M2293.69 1504.73 Q2299.5 1504.73 2302.55 1509.34 Q2305.63 1513.92 2305.63 1522.67 Q2305.63 1531.4 2302.55 1536.01 Q2299.5 1540.59 2293.69 1540.59 Q2287.88 1540.59 2284.8 1536.01 Q2281.74 1531.4 2281.74 1522.67 Q2281.74 1513.92 2284.8 1509.34 Q2287.88 1504.73 2293.69 1504.73 Z\" fill=\"#ffffff\" fill-rule=\"evenodd\" fill-opacity=\"1\" /><path clip-path=\"url(#clip290)\" d=\"M 0 0 M2320.7 1508.44 Q2317.09 1508.44 2315.26 1512 Q2313.46 1515.55 2313.46 1522.67 Q2313.46 1529.78 2315.26 1533.35 Q2317.09 1536.89 2320.7 1536.89 Q2324.34 1536.89 2326.14 1533.35 Q2327.97 1529.78 2327.97 1522.67 Q2327.97 1515.55 2326.14 1512 Q2324.34 1508.44 2320.7 1508.44 M2320.7 1504.73 Q2326.51 1504.73 2329.57 1509.34 Q2332.65 1513.92 2332.65 1522.67 Q2332.65 1531.4 2329.57 1536.01 Q2326.51 1540.59 2320.7 1540.59 Q2314.89 1540.59 2311.81 1536.01 Q2308.76 1531.4 2308.76 1522.67 Q2308.76 1513.92 2311.81 1509.34 Q2314.89 1504.73 2320.7 1504.73 Z\" fill=\"#ffffff\" fill-rule=\"evenodd\" fill-opacity=\"1\" /><path clip-path=\"url(#clip290)\" d=\"M 0 0 M75.4226 1431.51 Q71.8115 1431.51 69.9828 1435.08 Q68.1773 1438.62 68.1773 1445.75 Q68.1773 1452.86 69.9828 1456.42 Q71.8115 1459.96 75.4226 1459.96 Q79.0569 1459.96 80.8624 1456.42 Q82.6911 1452.86 82.6911 1445.75 Q82.6911 1438.62 80.8624 1435.08 Q79.0569 1431.51 75.4226 1431.51 M75.4226 1427.81 Q81.2328 1427.81 84.2883 1432.42 Q87.367 1437 87.367 1445.75 Q87.367 1454.48 84.2883 1459.08 Q81.2328 1463.67 75.4226 1463.67 Q69.6125 1463.67 66.5338 1459.08 Q63.4782 1454.48 63.4782 1445.75 Q63.4782 1437 66.5338 1432.42 Q69.6125 1427.81 75.4226 1427.81 Z\" fill=\"#ffffff\" fill-rule=\"evenodd\" fill-opacity=\"1\" /><path clip-path=\"url(#clip290)\" d=\"M 0 0 M92.4364 1457.12 L97.3206 1457.12 L97.3206 1463 L92.4364 1463 L92.4364 1457.12 Z\" fill=\"#ffffff\" fill-rule=\"evenodd\" fill-opacity=\"1\" /><path clip-path=\"url(#clip290)\" d=\"M 0 0 M112.39 1431.51 Q108.779 1431.51 106.95 1435.08 Q105.145 1438.62 105.145 1445.75 Q105.145 1452.86 106.95 1456.42 Q108.779 1459.96 112.39 1459.96 Q116.024 1459.96 117.83 1456.42 Q119.658 1452.86 119.658 1445.75 Q119.658 1438.62 117.83 1435.08 Q116.024 1431.51 112.39 1431.51 M112.39 1427.81 Q118.2 1427.81 121.256 1432.42 Q124.334 1437 124.334 1445.75 Q124.334 1454.48 121.256 1459.08 Q118.2 1463.67 112.39 1463.67 Q106.58 1463.67 103.501 1459.08 Q100.446 1454.48 100.446 1445.75 Q100.446 1437 103.501 1432.42 Q106.58 1427.81 112.39 1427.81 Z\" fill=\"#ffffff\" fill-rule=\"evenodd\" fill-opacity=\"1\" /><path clip-path=\"url(#clip290)\" d=\"M 0 0 M76.6495 1096.51 Q73.0384 1096.51 71.2097 1100.07 Q69.4041 1103.61 69.4041 1110.74 Q69.4041 1117.85 71.2097 1121.41 Q73.0384 1124.95 76.6495 1124.95 Q80.2837 1124.95 82.0892 1121.41 Q83.9179 1117.85 83.9179 1110.74 Q83.9179 1103.61 82.0892 1100.07 Q80.2837 1096.51 76.6495 1096.51 M76.6495 1092.8 Q82.4596 1092.8 85.5152 1097.41 Q88.5938 1101.99 88.5938 1110.74 Q88.5938 1119.47 85.5152 1124.07 Q82.4596 1128.66 76.6495 1128.66 Q70.8393 1128.66 67.7606 1124.07 Q64.7051 1119.47 64.7051 1110.74 Q64.7051 1101.99 67.7606 1097.41 Q70.8393 1092.8 76.6495 1092.8 Z\" fill=\"#ffffff\" fill-rule=\"evenodd\" fill-opacity=\"1\" /><path clip-path=\"url(#clip290)\" d=\"M 0 0 M93.6633 1122.11 L98.5475 1122.11 L98.5475 1127.99 L93.6633 1127.99 L93.6633 1122.11 Z\" fill=\"#ffffff\" fill-rule=\"evenodd\" fill-opacity=\"1\" /><path clip-path=\"url(#clip290)\" d=\"M 0 0 M104.427 1124.05 L112.066 1124.05 L112.066 1097.69 L103.756 1099.35 L103.756 1095.09 L112.02 1093.43 L116.696 1093.43 L116.696 1124.05 L124.334 1124.05 L124.334 1127.99 L104.427 1127.99 L104.427 1124.05 Z\" fill=\"#ffffff\" fill-rule=\"evenodd\" fill-opacity=\"1\" /><path clip-path=\"url(#clip290)\" d=\"M 0 0 M77.0198 761.497 Q73.4087 761.497 71.58 765.062 Q69.7745 768.603 69.7745 775.733 Q69.7745 782.839 71.58 786.404 Q73.4087 789.946 77.0198 789.946 Q80.6541 789.946 82.4596 786.404 Q84.2883 782.839 84.2883 775.733 Q84.2883 768.603 82.4596 765.062 Q80.6541 761.497 77.0198 761.497 M77.0198 757.793 Q82.83 757.793 85.8855 762.4 Q88.9642 766.983 88.9642 775.733 Q88.9642 784.46 85.8855 789.066 Q82.83 793.649 77.0198 793.649 Q71.2097 793.649 68.131 789.066 Q65.0754 784.46 65.0754 775.733 Q65.0754 766.983 68.131 762.4 Q71.2097 757.793 77.0198 757.793 Z\" fill=\"#ffffff\" fill-rule=\"evenodd\" fill-opacity=\"1\" /><path clip-path=\"url(#clip290)\" d=\"M 0 0 M94.0336 787.099 L98.9179 787.099 L98.9179 792.978 L94.0336 792.978 L94.0336 787.099 Z\" fill=\"#ffffff\" fill-rule=\"evenodd\" fill-opacity=\"1\" /><path clip-path=\"url(#clip290)\" d=\"M 0 0 M108.015 789.043 L124.334 789.043 L124.334 792.978 L102.39 792.978 L102.39 789.043 Q105.052 786.288 109.635 781.659 Q114.242 777.006 115.422 775.663 Q117.668 773.14 118.547 771.404 Q119.45 769.645 119.45 767.955 Q119.45 765.201 117.506 763.464 Q115.584 761.728 112.483 761.728 Q110.284 761.728 107.83 762.492 Q105.399 763.256 102.622 764.807 L102.622 760.085 Q105.446 758.951 107.899 758.372 Q110.353 757.793 112.39 757.793 Q117.76 757.793 120.955 760.478 Q124.149 763.163 124.149 767.654 Q124.149 769.784 123.339 771.705 Q122.552 773.603 120.446 776.196 Q119.867 776.867 116.765 780.085 Q113.663 783.279 108.015 789.043 Z\" fill=\"#ffffff\" fill-rule=\"evenodd\" fill-opacity=\"1\" /><path clip-path=\"url(#clip290)\" d=\"M 0 0 M76.0708 426.488 Q72.4597 426.488 70.631 430.053 Q68.8254 433.595 68.8254 440.724 Q68.8254 447.831 70.631 451.395 Q72.4597 454.937 76.0708 454.937 Q79.705 454.937 81.5105 451.395 Q83.3392 447.831 83.3392 440.724 Q83.3392 433.595 81.5105 430.053 Q79.705 426.488 76.0708 426.488 M76.0708 422.784 Q81.8809 422.784 84.9365 427.391 Q88.0151 431.974 88.0151 440.724 Q88.0151 449.451 84.9365 454.057 Q81.8809 458.641 76.0708 458.641 Q70.2606 458.641 67.1819 454.057 Q64.1264 449.451 64.1264 440.724 Q64.1264 431.974 67.1819 427.391 Q70.2606 422.784 76.0708 422.784 Z\" fill=\"#ffffff\" fill-rule=\"evenodd\" fill-opacity=\"1\" /><path clip-path=\"url(#clip290)\" d=\"M 0 0 M93.0846 452.09 L97.9688 452.09 L97.9688 457.969 L93.0846 457.969 L93.0846 452.09 Z\" fill=\"#ffffff\" fill-rule=\"evenodd\" fill-opacity=\"1\" /><path clip-path=\"url(#clip290)\" d=\"M 0 0 M117.205 439.335 Q120.561 440.053 122.436 442.321 Q124.334 444.59 124.334 447.923 Q124.334 453.039 120.816 455.84 Q117.297 458.641 110.816 458.641 Q108.64 458.641 106.325 458.201 Q104.034 457.784 101.58 456.928 L101.58 452.414 Q103.524 453.548 105.839 454.127 Q108.154 454.706 110.677 454.706 Q115.075 454.706 117.367 452.969 Q119.682 451.233 119.682 447.923 Q119.682 444.868 117.529 443.155 Q115.399 441.419 111.58 441.419 L107.552 441.419 L107.552 437.576 L111.765 437.576 Q115.214 437.576 117.043 436.21 Q118.871 434.821 118.871 432.229 Q118.871 429.567 116.973 428.155 Q115.098 426.72 111.58 426.72 Q109.659 426.72 107.459 427.136 Q105.26 427.553 102.622 428.432 L102.622 424.266 Q105.284 423.525 107.598 423.155 Q109.936 422.784 111.996 422.784 Q117.321 422.784 120.422 425.215 Q123.524 427.622 123.524 431.743 Q123.524 434.613 121.881 436.604 Q120.237 438.571 117.205 439.335 Z\" fill=\"#ffffff\" fill-rule=\"evenodd\" fill-opacity=\"1\" /><path clip-path=\"url(#clip290)\" d=\"M 0 0 M74.9365 91.4793 Q71.3254 91.4793 69.4967 95.0441 Q67.6912 98.5857 67.6912 105.715 Q67.6912 112.822 69.4967 116.387 Q71.3254 119.928 74.9365 119.928 Q78.5707 119.928 80.3763 116.387 Q82.205 112.822 82.205 105.715 Q82.205 98.5857 80.3763 95.0441 Q78.5707 91.4793 74.9365 91.4793 M74.9365 87.7756 Q80.7467 87.7756 83.8022 92.3821 Q86.8809 96.9654 86.8809 105.715 Q86.8809 114.442 83.8022 119.049 Q80.7467 123.632 74.9365 123.632 Q69.1264 123.632 66.0477 119.049 Q62.9921 114.442 62.9921 105.715 Q62.9921 96.9654 66.0477 92.3821 Q69.1264 87.7756 74.9365 87.7756 Z\" fill=\"#ffffff\" fill-rule=\"evenodd\" fill-opacity=\"1\" /><path clip-path=\"url(#clip290)\" d=\"M 0 0 M91.9503 117.081 L96.8345 117.081 L96.8345 122.961 L91.9503 122.961 L91.9503 117.081 Z\" fill=\"#ffffff\" fill-rule=\"evenodd\" fill-opacity=\"1\" /><path clip-path=\"url(#clip290)\" d=\"M 0 0 M114.751 92.4747 L102.946 110.924 L114.751 110.924 L114.751 92.4747 M113.524 88.4006 L119.404 88.4006 L119.404 110.924 L124.334 110.924 L124.334 114.812 L119.404 114.812 L119.404 122.961 L114.751 122.961 L114.751 114.812 L99.1493 114.812 L99.1493 110.299 L113.524 88.4006 Z\" fill=\"#ffffff\" fill-rule=\"evenodd\" fill-opacity=\"1\" /><polyline clip-path=\"url(#clip292)\" style=\"stroke:#009af9; stroke-width:4; stroke-opacity:1; fill:none\" points=\"\n",
       "  210.724,489.154 730.634,489.154 1250.55,682.596 1770.46,1024.09 2290.37,1445.72 \n",
       "  \"/>\n",
       "<polyline clip-path=\"url(#clip292)\" style=\"stroke:#e26f46; stroke-width:4; stroke-opacity:1; fill:none\" points=\"\n",
       "  210.724,102.269 730.634,198.99 1250.55,489.154 1770.46,927.371 2290.37,1445.72 \n",
       "  \"/>\n",
       "<polyline clip-path=\"url(#clip292)\" style=\"stroke:#3da44d; stroke-width:4; stroke-opacity:1; fill:none\" points=\"\n",
       "  210.724,87.9763 231.73,88.1472 252.737,88.6598 273.743,89.5141 294.75,90.7098 315.756,92.2467 336.763,94.1242 357.769,96.342 378.776,98.8995 399.782,101.796 \n",
       "  420.789,105.031 441.795,108.603 462.802,112.512 483.808,116.757 504.815,121.336 525.821,126.249 546.828,131.494 567.834,137.069 588.841,142.974 609.847,149.207 \n",
       "  630.854,155.767 651.86,162.651 672.867,169.858 693.873,177.386 714.88,185.234 735.886,193.399 756.893,201.879 777.899,210.672 798.906,219.777 819.912,229.19 \n",
       "  840.919,238.909 861.925,248.932 882.931,259.256 903.938,269.879 924.944,280.798 945.951,292.01 966.957,303.513 987.964,315.303 1008.97,327.378 1029.98,339.734 \n",
       "  1050.98,352.369 1071.99,365.278 1093,378.46 1114,391.911 1135.01,405.627 1156.02,419.605 1177.02,433.841 1198.03,448.332 1219.04,463.073 1240.04,478.063 \n",
       "  1261.05,493.296 1282.05,508.768 1303.06,524.477 1324.07,540.417 1345.07,556.585 1366.08,572.978 1387.09,589.589 1408.09,606.417 1429.1,623.456 1450.11,640.701 \n",
       "  1471.11,658.15 1492.12,675.796 1513.13,693.637 1534.13,711.666 1555.14,729.881 1576.15,748.276 1597.15,766.846 1618.16,785.587 1639.17,804.495 1660.17,823.563 \n",
       "  1681.18,842.789 1702.18,862.166 1723.19,881.69 1744.2,901.357 1765.2,921.16 1786.21,941.095 1807.22,961.157 1828.22,981.341 1849.23,1001.64 1870.24,1022.06 \n",
       "  1891.24,1042.58 1912.25,1063.2 1933.26,1083.91 1954.26,1104.72 1975.27,1125.62 1996.28,1146.59 2017.28,1167.64 2038.29,1188.76 2059.3,1209.95 2080.3,1231.19 \n",
       "  2101.31,1252.49 2122.31,1273.84 2143.32,1295.23 2164.33,1316.65 2185.33,1338.11 2206.34,1359.6 2227.35,1381.11 2248.35,1402.64 2269.36,1424.17 2290.37,1445.72 \n",
       "  \n",
       "  \"/>\n",
       "<path clip-path=\"url(#clip290)\" d=\"\n",
       "M1958.09 372.684 L2280.76 372.684 L2280.76 130.764 L1958.09 130.764  Z\n",
       "  \" fill=\"#000000\" fill-rule=\"evenodd\" fill-opacity=\"0\"/>\n",
       "<polyline clip-path=\"url(#clip290)\" style=\"stroke:#ffffff; stroke-width:4; stroke-opacity:1; fill:none\" points=\"\n",
       "  1958.09,372.684 2280.76,372.684 2280.76,130.764 1958.09,130.764 1958.09,372.684 \n",
       "  \"/>\n",
       "<polyline clip-path=\"url(#clip290)\" style=\"stroke:#009af9; stroke-width:4; stroke-opacity:1; fill:none\" points=\"\n",
       "  1982.09,191.244 2126.09,191.244 \n",
       "  \"/>\n",
       "<path clip-path=\"url(#clip290)\" d=\"M 0 0 M2174.76 187.632 Q2174.15 190.653 2173.33 192.387 Q2171.99 195.033 2169.77 195.033 Q2168.22 195.033 2167.05 194.167 Q2165.9 193.277 2165.51 191.801 Q2165.06 192.387 2164.66 192.785 Q2164.29 193.183 2163.56 193.792 Q2162.84 194.378 2161.85 194.706 Q2160.89 195.033 2159.79 195.033 Q2158.95 195.033 2158.18 194.869 Q2157.4 194.729 2156.58 194.331 Q2155.79 193.909 2155.2 193.277 Q2154.64 192.644 2154.26 191.614 Q2153.89 190.583 2153.89 189.272 Q2153.89 187.632 2154.52 185.407 Q2155.18 183.182 2156.68 179.2 Q2157.5 177.092 2157.5 175.921 Q2157.5 175.382 2157.38 175.031 Q2157.26 174.679 2157.03 174.562 Q2156.82 174.422 2156.68 174.398 Q2156.54 174.351 2156.3 174.351 Q2154.85 174.351 2153.58 175.827 Q2152.32 177.303 2151.45 180.301 Q2151.27 180.886 2151.15 181.027 Q2151.03 181.167 2150.68 181.167 Q2150.09 181.144 2150.09 180.675 Q2150.09 180.488 2150.31 179.762 Q2150.52 179.012 2151.01 177.912 Q2151.52 176.787 2152.23 175.78 Q2152.93 174.75 2154.03 174.024 Q2155.15 173.297 2156.44 173.297 Q2158.2 173.297 2159.28 174.445 Q2160.38 175.569 2160.38 177.232 Q2160.38 178.263 2159.56 180.254 Q2156.96 187.163 2156.96 190.044 Q2156.96 193.956 2159.93 193.956 Q2160.92 193.956 2161.83 193.558 Q2162.77 193.16 2163.37 192.598 Q2163.98 192.035 2164.45 191.426 Q2164.94 190.817 2165.15 190.419 Q2165.39 190.021 2165.41 189.927 L2169 175.499 Q2169.14 174.937 2169.39 174.562 Q2169.68 174.164 2170 174.024 Q2170.33 173.883 2170.52 173.86 Q2170.71 173.813 2170.87 173.813 Q2171.46 173.813 2171.85 174.164 Q2172.28 174.515 2172.28 175.124 Q2172.28 175.241 2172.13 175.804 Q2172.02 176.342 2171.83 177.139 Q2171.64 177.912 2171.55 178.333 Q2170.8 181.284 2170.73 181.589 L2169.39 186.765 Q2169.32 187.07 2169.09 188.054 Q2168.88 189.037 2168.76 189.553 Q2168.64 190.044 2168.53 190.724 Q2168.43 191.38 2168.43 191.754 Q2168.43 192.925 2168.79 193.441 Q2169.14 193.956 2169.91 193.956 Q2170.64 193.956 2171.2 193.464 Q2171.78 192.949 2172.23 191.965 Q2172.67 190.958 2172.93 190.138 Q2173.19 189.318 2173.52 188.03 Q2173.63 187.468 2173.73 187.327 Q2173.84 187.163 2174.17 187.163 Q2174.76 187.163 2174.76 187.632 Z\" fill=\"#ffffff\" fill-rule=\"evenodd\" fill-opacity=\"1\" /><path clip-path=\"url(#clip290)\" d=\"M 0 0 M2179.64 189.302 L2179.64 188.253 Q2183.67 188.253 2185.75 186.105 Q2186.33 186.105 2186.42 186.236 Q2186.52 186.367 2186.52 186.974 L2186.52 205.812 Q2186.52 206.813 2187.01 207.124 Q2187.51 207.436 2189.65 207.436 L2190.72 207.436 L2190.72 208.468 Q2189.54 208.37 2185.28 208.37 Q2181.01 208.37 2179.85 208.468 L2179.85 207.436 L2180.92 207.436 Q2183.03 207.436 2183.54 207.14 Q2184.05 206.829 2184.05 205.812 L2184.05 188.417 Q2182.29 189.302 2179.64 189.302 Z\" fill=\"#ffffff\" fill-rule=\"evenodd\" fill-opacity=\"1\" /><path clip-path=\"url(#clip290)\" d=\"M 0 0 M2235 181.823 Q2235.28 182.104 2235.28 182.502 Q2235.28 182.901 2235 183.182 Q2234.72 183.463 2234.32 183.463 L2204.29 183.463 Q2203.89 183.463 2203.61 183.182 Q2203.33 182.901 2203.33 182.502 Q2203.33 182.104 2203.61 181.823 Q2203.89 181.542 2204.29 181.542 L2234.32 181.542 Q2234.72 181.542 2235 181.823 Z\" fill=\"#ffffff\" fill-rule=\"evenodd\" fill-opacity=\"1\" /><path clip-path=\"url(#clip290)\" d=\"M 0 0 M2272.54 187.632 Q2271.93 190.653 2271.11 192.387 Q2269.78 195.033 2267.55 195.033 Q2266.01 195.033 2264.84 194.167 Q2263.69 193.277 2263.29 191.801 Q2262.85 192.387 2262.45 192.785 Q2262.07 193.183 2261.35 193.792 Q2260.62 194.378 2259.64 194.706 Q2258.68 195.033 2257.58 195.033 Q2256.73 195.033 2255.96 194.869 Q2255.19 194.729 2254.37 194.331 Q2253.57 193.909 2252.98 193.277 Q2252.42 192.644 2252.05 191.614 Q2251.67 190.583 2251.67 189.272 Q2251.67 187.632 2252.31 185.407 Q2252.96 183.182 2254.46 179.2 Q2255.28 177.092 2255.28 175.921 Q2255.28 175.382 2255.16 175.031 Q2255.05 174.679 2254.81 174.562 Q2254.6 174.422 2254.46 174.398 Q2254.32 174.351 2254.09 174.351 Q2252.63 174.351 2251.37 175.827 Q2250.1 177.303 2249.24 180.301 Q2249.05 180.886 2248.93 181.027 Q2248.82 181.167 2248.46 181.167 Q2247.88 181.144 2247.88 180.675 Q2247.88 180.488 2248.09 179.762 Q2248.3 179.012 2248.79 177.912 Q2249.31 176.787 2250.01 175.78 Q2250.71 174.75 2251.81 174.024 Q2252.94 173.297 2254.23 173.297 Q2255.98 173.297 2257.06 174.445 Q2258.16 175.569 2258.16 177.232 Q2258.16 178.263 2257.34 180.254 Q2254.74 187.163 2254.74 190.044 Q2254.74 193.956 2257.72 193.956 Q2258.7 193.956 2259.61 193.558 Q2260.55 193.16 2261.16 192.598 Q2261.77 192.035 2262.24 191.426 Q2262.73 190.817 2262.94 190.419 Q2263.17 190.021 2263.2 189.927 L2266.78 175.499 Q2266.92 174.937 2267.18 174.562 Q2267.46 174.164 2267.79 174.024 Q2268.12 173.883 2268.3 173.86 Q2268.49 173.813 2268.65 173.813 Q2269.24 173.813 2269.64 174.164 Q2270.06 174.515 2270.06 175.124 Q2270.06 175.241 2269.92 175.804 Q2269.8 176.342 2269.61 177.139 Q2269.43 177.912 2269.33 178.333 Q2268.58 181.284 2268.51 181.589 L2267.18 186.765 Q2267.11 187.07 2266.87 188.054 Q2266.66 189.037 2266.55 189.553 Q2266.43 190.044 2266.31 190.724 Q2266.22 191.38 2266.22 191.754 Q2266.22 192.925 2266.57 193.441 Q2266.92 193.956 2267.69 193.956 Q2268.42 193.956 2268.98 193.464 Q2269.57 192.949 2270.01 191.965 Q2270.46 190.958 2270.72 190.138 Q2270.97 189.318 2271.3 188.03 Q2271.42 187.468 2271.51 187.327 Q2271.63 187.163 2271.96 187.163 Q2272.54 187.163 2272.54 187.632 Z\" fill=\"#ffffff\" fill-rule=\"evenodd\" fill-opacity=\"1\" /><path clip-path=\"url(#clip290)\" d=\"M 0 0 M2277.42 197.729 Q2277.42 192.794 2278.67 190.105 Q2280.4 186.105 2284.5 186.105 Q2285.37 186.105 2286.27 186.351 Q2287.19 186.58 2288.34 187.482 Q2289.5 188.384 2290.21 189.859 Q2291.55 192.712 2291.55 197.729 Q2291.55 202.632 2290.31 205.304 Q2288.49 209.206 2284.47 209.206 Q2282.96 209.206 2281.42 208.436 Q2279.9 207.665 2278.93 205.812 Q2277.42 203.041 2277.42 197.729 M2280.21 197.319 Q2280.21 202.386 2280.57 204.402 Q2280.98 206.583 2282.09 207.534 Q2283.22 208.468 2284.47 208.468 Q2285.82 208.468 2286.93 207.468 Q2288.06 206.452 2288.41 204.271 Q2288.78 202.123 2288.77 197.319 Q2288.77 192.647 2288.44 190.777 Q2288 188.597 2286.82 187.728 Q2285.65 186.843 2284.47 186.843 Q2284.03 186.843 2283.55 186.974 Q2283.09 187.105 2282.42 187.482 Q2281.75 187.859 2281.22 188.794 Q2280.72 189.728 2280.47 191.138 Q2280.21 192.958 2280.21 197.319 Z\" fill=\"#ffffff\" fill-rule=\"evenodd\" fill-opacity=\"1\" /><polyline clip-path=\"url(#clip290)\" style=\"stroke:#e26f46; stroke-width:4; stroke-opacity:1; fill:none\" points=\"\n",
       "  1982.09,251.724 2126.09,251.724 \n",
       "  \"/>\n",
       "<path clip-path=\"url(#clip290)\" d=\"M 0 0 M2157.5 235.717 L2157.5 243.078 L2166.27 243.078 L2166.27 246.388 L2157.5 246.388 L2157.5 260.462 Q2157.5 263.634 2158.36 264.537 Q2159.24 265.439 2161.9 265.439 L2166.27 265.439 L2166.27 269.004 L2161.9 269.004 Q2156.97 269.004 2155.09 267.175 Q2153.22 265.324 2153.22 260.462 L2153.22 246.388 L2150.09 246.388 L2150.09 243.078 L2153.22 243.078 L2153.22 235.717 L2157.5 235.717 Z\" fill=\"#ffffff\" fill-rule=\"evenodd\" fill-opacity=\"1\" /><path clip-path=\"url(#clip290)\" d=\"M 0 0 M2192.92 254.976 L2192.92 257.06 L2173.33 257.06 Q2173.61 261.458 2175.97 263.773 Q2178.36 266.064 2182.59 266.064 Q2185.05 266.064 2187.34 265.462 Q2189.65 264.861 2191.92 263.657 L2191.92 267.685 Q2189.63 268.657 2187.22 269.166 Q2184.82 269.675 2182.34 269.675 Q2176.14 269.675 2172.5 266.064 Q2168.89 262.453 2168.89 256.296 Q2168.89 249.93 2172.32 246.203 Q2175.77 242.453 2181.6 242.453 Q2186.83 242.453 2189.86 245.833 Q2192.92 249.189 2192.92 254.976 M2188.66 253.726 Q2188.61 250.231 2186.69 248.148 Q2184.79 246.064 2181.65 246.064 Q2178.08 246.064 2175.93 248.078 Q2173.8 250.092 2173.47 253.75 L2188.66 253.726 Z\" fill=\"#ffffff\" fill-rule=\"evenodd\" fill-opacity=\"1\" /><path clip-path=\"url(#clip290)\" d=\"M 0 0 M2213.91 243.842 L2213.91 247.87 Q2212.11 246.944 2210.16 246.481 Q2208.22 246.018 2206.14 246.018 Q2202.96 246.018 2201.37 246.99 Q2199.79 247.963 2199.79 249.907 Q2199.79 251.388 2200.93 252.245 Q2202.06 253.078 2205.49 253.842 L2206.95 254.166 Q2211.48 255.138 2213.38 256.921 Q2215.3 258.68 2215.3 261.851 Q2215.3 265.462 2212.43 267.569 Q2209.58 269.675 2204.58 269.675 Q2202.5 269.675 2200.23 269.259 Q2197.99 268.865 2195.49 268.055 L2195.49 263.657 Q2197.85 264.884 2200.14 265.509 Q2202.43 266.111 2204.68 266.111 Q2207.69 266.111 2209.31 265.092 Q2210.93 264.05 2210.93 262.175 Q2210.93 260.439 2209.75 259.513 Q2208.59 258.587 2204.63 257.731 L2203.15 257.384 Q2199.19 256.55 2197.43 254.838 Q2195.67 253.101 2195.67 250.092 Q2195.67 246.435 2198.27 244.444 Q2200.86 242.453 2205.63 242.453 Q2207.99 242.453 2210.07 242.801 Q2212.15 243.148 2213.91 243.842 Z\" fill=\"#ffffff\" fill-rule=\"evenodd\" fill-opacity=\"1\" /><path clip-path=\"url(#clip290)\" d=\"M 0 0 M2223.98 235.717 L2223.98 243.078 L2232.76 243.078 L2232.76 246.388 L2223.98 246.388 L2223.98 260.462 Q2223.98 263.634 2224.84 264.537 Q2225.72 265.439 2228.38 265.439 L2232.76 265.439 L2232.76 269.004 L2228.38 269.004 Q2223.45 269.004 2221.58 267.175 Q2219.7 265.324 2219.7 260.462 L2219.7 246.388 L2216.58 246.388 L2216.58 243.078 L2219.7 243.078 L2219.7 235.717 L2223.98 235.717 Z\" fill=\"#ffffff\" fill-rule=\"evenodd\" fill-opacity=\"1\" /><polyline clip-path=\"url(#clip290)\" style=\"stroke:#3da44d; stroke-width:4; stroke-opacity:1; fill:none\" points=\"\n",
       "  1982.09,312.204 2126.09,312.204 \n",
       "  \"/>\n",
       "<path clip-path=\"url(#clip290)\" d=\"M 0 0 M2174.76 317.341 Q2174.15 320.363 2173.33 322.096 Q2171.99 324.743 2169.77 324.743 Q2168.22 324.743 2167.05 323.876 Q2165.9 322.986 2165.51 321.511 Q2165.06 322.096 2164.66 322.494 Q2164.29 322.892 2163.56 323.501 Q2162.84 324.087 2161.85 324.415 Q2160.89 324.743 2159.79 324.743 Q2158.95 324.743 2158.18 324.579 Q2157.4 324.438 2156.58 324.04 Q2155.79 323.619 2155.2 322.986 Q2154.64 322.354 2154.26 321.323 Q2153.89 320.293 2153.89 318.981 Q2153.89 317.341 2154.52 315.116 Q2155.18 312.891 2156.68 308.909 Q2157.5 306.801 2157.5 305.63 Q2157.5 305.091 2157.38 304.74 Q2157.26 304.389 2157.03 304.272 Q2156.82 304.131 2156.68 304.108 Q2156.54 304.061 2156.3 304.061 Q2154.85 304.061 2153.58 305.536 Q2152.32 307.012 2151.45 310.01 Q2151.27 310.596 2151.15 310.736 Q2151.03 310.877 2150.68 310.877 Q2150.09 310.853 2150.09 310.385 Q2150.09 310.197 2150.31 309.471 Q2150.52 308.722 2151.01 307.621 Q2151.52 306.497 2152.23 305.49 Q2152.93 304.459 2154.03 303.733 Q2155.15 303.007 2156.44 303.007 Q2158.2 303.007 2159.28 304.154 Q2160.38 305.279 2160.38 306.942 Q2160.38 307.972 2159.56 309.963 Q2156.96 316.873 2156.96 319.754 Q2156.96 323.665 2159.93 323.665 Q2160.92 323.665 2161.83 323.267 Q2162.77 322.869 2163.37 322.307 Q2163.98 321.745 2164.45 321.136 Q2164.94 320.527 2165.15 320.129 Q2165.39 319.73 2165.41 319.637 L2169 305.208 Q2169.14 304.646 2169.39 304.272 Q2169.68 303.873 2170 303.733 Q2170.33 303.592 2170.52 303.569 Q2170.71 303.522 2170.87 303.522 Q2171.46 303.522 2171.85 303.873 Q2172.28 304.225 2172.28 304.834 Q2172.28 304.951 2172.13 305.513 Q2172.02 306.052 2171.83 306.848 Q2171.64 307.621 2171.55 308.043 Q2170.8 310.994 2170.73 311.298 L2169.39 316.475 Q2169.32 316.779 2169.09 317.763 Q2168.88 318.747 2168.76 319.262 Q2168.64 319.754 2168.53 320.433 Q2168.43 321.089 2168.43 321.464 Q2168.43 322.635 2168.79 323.15 Q2169.14 323.665 2169.91 323.665 Q2170.64 323.665 2171.2 323.174 Q2171.78 322.658 2172.23 321.674 Q2172.67 320.667 2172.93 319.848 Q2173.19 319.028 2173.52 317.739 Q2173.63 317.177 2173.73 317.037 Q2173.84 316.873 2174.17 316.873 Q2174.76 316.873 2174.76 317.341 Z\" fill=\"#ffffff\" fill-rule=\"evenodd\" fill-opacity=\"1\" /><path clip-path=\"url(#clip290)\" d=\"M 0 0 M2177.25 312.212 Q2177.25 304.108 2180.28 297.573 Q2181.56 294.832 2183.37 292.537 Q2185.17 290.242 2186.37 289.234 Q2187.56 288.227 2187.89 288.227 Q2188.36 288.227 2188.38 288.696 Q2188.38 288.93 2187.75 289.515 Q2180.02 297.385 2180.04 312.212 Q2180.04 327.085 2187.56 334.651 Q2188.38 335.47 2188.38 335.728 Q2188.38 336.196 2187.89 336.196 Q2187.56 336.196 2186.41 335.236 Q2185.26 334.276 2183.48 332.074 Q2181.7 329.872 2180.42 327.179 Q2177.25 320.644 2177.25 312.212 Z\" fill=\"#ffffff\" fill-rule=\"evenodd\" fill-opacity=\"1\" /><path clip-path=\"url(#clip290)\" d=\"M 0 0 M2219.56 306.169 Q2219.56 307.48 2218.74 308.23 Q2217.92 308.956 2216.98 308.956 Q2216.09 308.956 2215.63 308.441 Q2215.16 307.925 2215.16 307.27 Q2215.16 306.38 2215.81 305.607 Q2216.47 304.834 2217.45 304.67 Q2216.49 304.061 2215.06 304.061 Q2214.13 304.061 2213.31 304.553 Q2212.51 305.045 2212.02 305.677 Q2211.55 306.309 2211.13 307.223 Q2210.73 308.113 2210.57 308.652 Q2210.43 309.167 2210.31 309.729 L2208.67 316.287 Q2207.87 319.402 2207.87 320.503 Q2207.87 321.862 2208.53 322.775 Q2209.18 323.665 2210.5 323.665 Q2211.01 323.665 2211.6 323.525 Q2212.18 323.361 2212.93 322.939 Q2213.7 322.494 2214.38 321.838 Q2215.09 321.159 2215.77 320.011 Q2216.44 318.864 2216.89 317.388 Q2217.03 316.873 2217.5 316.873 Q2218.08 316.873 2218.08 317.341 Q2218.08 317.739 2217.76 318.583 Q2217.45 319.402 2216.77 320.48 Q2216.12 321.534 2215.25 322.494 Q2214.38 323.431 2213.1 324.087 Q2211.81 324.743 2210.4 324.743 Q2208.39 324.743 2207.05 323.665 Q2205.72 322.588 2205.23 321.089 Q2205.11 321.3 2204.94 321.581 Q2204.78 321.862 2204.29 322.494 Q2203.82 323.103 2203.28 323.572 Q2202.74 324.017 2201.9 324.368 Q2201.08 324.743 2200.19 324.743 Q2199.07 324.743 2198.06 324.415 Q2197.07 324.087 2196.37 323.337 Q2195.67 322.588 2195.67 321.557 Q2195.67 320.41 2196.44 319.613 Q2197.24 318.794 2198.32 318.794 Q2199 318.794 2199.53 319.192 Q2200.1 319.59 2200.1 320.457 Q2200.1 321.417 2199.44 322.143 Q2198.78 322.869 2197.85 323.056 Q2198.81 323.665 2200.24 323.665 Q2201.78 323.665 2203 322.307 Q2204.22 320.948 2204.8 318.676 Q2206.26 313.219 2206.82 310.783 Q2207.38 308.324 2207.38 307.27 Q2207.38 306.286 2207.12 305.607 Q2206.87 304.927 2206.42 304.623 Q2206 304.295 2205.6 304.178 Q2205.23 304.061 2204.8 304.061 Q2204.1 304.061 2203.3 304.342 Q2202.53 304.623 2201.6 305.279 Q2200.68 305.911 2199.82 307.223 Q2198.95 308.534 2198.36 310.338 Q2198.25 310.877 2197.73 310.877 Q2197.17 310.853 2197.17 310.385 Q2197.17 309.987 2197.47 309.167 Q2197.8 308.324 2198.46 307.27 Q2199.14 306.216 2200 305.279 Q2200.89 304.318 2202.18 303.663 Q2203.49 303.007 2204.9 303.007 Q2205.53 303.007 2206.14 303.147 Q2206.77 303.264 2207.52 303.616 Q2208.29 303.967 2208.97 304.74 Q2209.65 305.513 2210.07 306.637 Q2210.36 306.099 2210.73 305.583 Q2211.13 305.068 2211.74 304.436 Q2212.37 303.78 2213.24 303.405 Q2214.13 303.007 2215.11 303.007 Q2216.07 303.007 2217.01 303.264 Q2217.94 303.499 2218.74 304.272 Q2219.56 305.021 2219.56 306.169 Z\" fill=\"#ffffff\" fill-rule=\"evenodd\" fill-opacity=\"1\" /><path clip-path=\"url(#clip290)\" d=\"M 0 0 M2222.83 335.728 Q2222.83 335.494 2223.44 334.908 Q2231.17 327.038 2231.17 312.212 Q2231.17 297.339 2223.74 289.82 Q2222.83 288.953 2222.83 288.696 Q2222.83 288.227 2223.3 288.227 Q2223.63 288.227 2224.77 289.188 Q2225.94 290.148 2227.7 292.35 Q2229.48 294.551 2230.79 297.245 Q2233.95 303.78 2233.95 312.212 Q2233.95 320.316 2230.93 326.851 Q2229.64 329.591 2227.84 331.887 Q2226.04 334.182 2224.84 335.189 Q2223.65 336.196 2223.3 336.196 Q2222.83 336.196 2222.83 335.728 Z\" fill=\"#ffffff\" fill-rule=\"evenodd\" fill-opacity=\"1\" /></svg>\n"
      ]
     },
     "execution_count": 7,
     "metadata": {},
     "output_type": "execute_result"
    },
    {
     "name": "stderr",
     "output_type": "stream",
     "text": [
      "sh: latex: command not found\n",
      "latex: failed to create a dvi file\n",
      "sh: latex: command not found\n",
      "latex: failed to create a dvi file\n"
     ]
    }
   ],
   "source": [
    "plotInterpolates(u1, g1, 4)"
   ]
  },
  {
   "cell_type": "markdown",
   "metadata": {},
   "source": [
    "conditions:  $u'(0) = u(1) = 0$\n",
    "\n",
    "Example:  $u(x)=1-x^2$\n",
    "\n",
    "$-u''(x) = 2$"
   ]
  },
  {
   "cell_type": "code",
   "execution_count": 26,
   "metadata": {},
   "outputs": [
    {
     "data": {
      "text/plain": [
       "D2_2 (generic function with 1 method)"
      ]
     },
     "execution_count": 26,
     "metadata": {},
     "output_type": "execute_result"
    }
   ],
   "source": [
    "D2_2"
   ]
  },
  {
   "cell_type": "code",
   "execution_count": 104,
   "metadata": {},
   "outputs": [
    {
     "data": {
      "text/plain": [
       "5×5 Array{Float64,2}:\n",
       " -3.0   4.0  -1.0   0.0   0.0\n",
       "  1.0  -2.0   1.0   0.0   0.0\n",
       "  0.0   1.0  -2.0   1.0   0.0\n",
       "  0.0   0.0   1.0  -2.0   1.0\n",
       "  0.0   0.0   0.0   1.0  -2.0"
      ]
     },
     "execution_count": 104,
     "metadata": {},
     "output_type": "execute_result"
    }
   ],
   "source": [
    "D2_2(5)"
   ]
  },
  {
   "cell_type": "code",
   "execution_count": 170,
   "metadata": {},
   "outputs": [
    {
     "data": {
      "text/plain": [
       "5×5 Array{Float64,2}:\n",
       " -1.0   1.0   0.0   0.0   0.0\n",
       "  1.0  -2.0   1.0   0.0   0.0\n",
       "  0.0   1.0  -2.0   1.0   0.0\n",
       "  0.0   0.0   1.0  -2.0   1.0\n",
       "  0.0   0.0   0.0   1.0  -2.0"
      ]
     },
     "execution_count": 170,
     "metadata": {},
     "output_type": "execute_result"
    }
   ],
   "source": [
    "D21 = zeros(5,5)\n",
    "\n",
    "for i in 1:5\n",
    "    if i==1\n",
    "        D21[i,:] = [-1 1 zeros(5-2)']\n",
    "    elseif i==5\n",
    "        D21[i,:] = [zeros(5-2)' 1 -2]\n",
    "    else\n",
    "        D21[i,:] = [zeros(i-2)' 1 -2 1 zeros(5-1-i)']\n",
    "    end\n",
    "end\n",
    "\n",
    "D21"
   ]
  },
  {
   "cell_type": "code",
   "execution_count": 167,
   "metadata": {},
   "outputs": [
    {
     "data": {
      "text/plain": [
       "5×5 Array{Int64,2}:\n",
       " -1   1   0   0   0\n",
       "  1  -2   1   0   0\n",
       "  0   1  -2   1   0\n",
       "  0   0   1  -2   1\n",
       "  0   0   0   1  -2"
      ]
     },
     "execution_count": 167,
     "metadata": {},
     "output_type": "execute_result"
    }
   ],
   "source": [
    "D21 = [-1 1 0 0 0 ; 1 -2 1 0 0 ; 0 1 -2 1 0 ; 0 0 1 -2 1 ; 0 0 0 1 -2 ]"
   ]
  },
  {
   "cell_type": "code",
   "execution_count": 175,
   "metadata": {},
   "outputs": [
    {
     "data": {
      "text/plain": [
       "D2_1 (generic function with 1 method)"
      ]
     },
     "execution_count": 175,
     "metadata": {},
     "output_type": "execute_result"
    }
   ],
   "source": [
    "function D2_1(n)\n",
    "    D = zeros(n,n)\n",
    "\n",
    "    for i in 1:n\n",
    "        if i==1\n",
    "            D[i,:] = [-1 1 zeros(n-2)']\n",
    "        elseif i==n\n",
    "            D[i,:] = [zeros(n-2)' 1 -2]\n",
    "        else\n",
    "            D[i,:] = [zeros(i-2)' 1 -2 1 zeros(n-1-i)']\n",
    "        end\n",
    "    end\n",
    "    \n",
    "    return D\n",
    "end\n",
    "\n",
    "function D2_2(n)\n",
    "    D = zeros(n,n)\n",
    "\n",
    "    for i in 1:n\n",
    "        if i==1\n",
    "            D[i,:] = [-3 4 -1 zeros(n-3)']\n",
    "        elseif i==n\n",
    "            D[i,:] = [zeros(n-2)' 1 -2]\n",
    "        else\n",
    "            D[i,:] = [zeros(i-2)' 1 -2 1 zeros(n-1-i)']\n",
    "        end\n",
    "    end\n",
    "    \n",
    "    return D\n",
    "end"
   ]
  },
  {
   "cell_type": "code",
   "execution_count": 176,
   "metadata": {},
   "outputs": [
    {
     "data": {
      "text/plain": [
       "5×5 Array{Float64,2}:\n",
       " -1.0   1.0   0.0   0.0   0.0\n",
       "  1.0  -2.0   1.0   0.0   0.0\n",
       "  0.0   1.0  -2.0   1.0   0.0\n",
       "  0.0   0.0   1.0  -2.0   1.0\n",
       "  0.0   0.0   0.0   1.0  -2.0"
      ]
     },
     "execution_count": 176,
     "metadata": {},
     "output_type": "execute_result"
    }
   ],
   "source": [
    "D2_1(5)"
   ]
  },
  {
   "cell_type": "code",
   "execution_count": 177,
   "metadata": {},
   "outputs": [
    {
     "data": {
      "text/plain": [
       "D2_2 (generic function with 1 method)"
      ]
     },
     "execution_count": 177,
     "metadata": {},
     "output_type": "execute_result"
    }
   ],
   "source": []
  },
  {
   "cell_type": "code",
   "execution_count": 178,
   "metadata": {},
   "outputs": [
    {
     "data": {
      "text/plain": [
       "5×5 Array{Float64,2}:\n",
       " -3.0   4.0  -1.0   0.0   0.0\n",
       "  1.0  -2.0   1.0   0.0   0.0\n",
       "  0.0   1.0  -2.0   1.0   0.0\n",
       "  0.0   0.0   1.0  -2.0   1.0\n",
       "  0.0   0.0   0.0   1.0  -2.0"
      ]
     },
     "execution_count": 178,
     "metadata": {},
     "output_type": "execute_result"
    }
   ],
   "source": [
    "D2_2(5)"
   ]
  },
  {
   "cell_type": "code",
   "execution_count": 278,
   "metadata": {},
   "outputs": [
    {
     "data": {
      "text/plain": [
       "plotInterpolates (generic function with 3 methods)"
      ]
     },
     "execution_count": 278,
     "metadata": {},
     "output_type": "execute_result"
    }
   ],
   "source": [
    "function plotInterpolates(u, g, n)\n",
    "\n",
    "    xvals = LinRange(a,b,n+1)      # The x-vals where g(x) is known\n",
    "    \n",
    "    h = 1/n\n",
    "    \n",
    "    image = (-h^2).*[g(x) for x in xvals]   #find the \"data vector on RHS of 1.27, 1.29\"\n",
    "    image[1] = 0\n",
    "    \n",
    "    plot( LinRange(0,1,100), [u1(x) for x in LinRange(0,1,100)], bg=false)    #plot u\n",
    "    \n",
    "    plot!(xvals, inv(D2_1(n+1))*image, label = \"first order\", bg = false)\n",
    "    plot!(xvals, inv(D2_2(n+1))*image, label = \"second order\", bg = false)\n",
    "    \n",
    "    \n",
    "end"
   ]
  },
  {
   "cell_type": "code",
   "execution_count": 279,
   "metadata": {},
   "outputs": [
    {
     "ename": "UndefVarError",
     "evalue": "UndefVarError: a not defined",
     "output_type": "error",
     "traceback": [
      "UndefVarError: a not defined",
      "",
      "Stacktrace:",
      " [1] plotInterpolates(::Function, ::Function, ::Int64) at ./In[278]:3",
      " [2] top-level scope at In[279]:1"
     ]
    }
   ],
   "source": [
    "plotInterpolates(u1, g1, 4)"
   ]
  },
  {
   "cell_type": "code",
   "execution_count": null,
   "metadata": {},
   "outputs": [],
   "source": [
    "using Plots\n",
    "\n",
    "function D2_1(n)\n",
    "    D = zeros(n,n)\n",
    "\n",
    "    for i in 1:n\n",
    "        if i==1\n",
    "            D[i,:] = [-1 1 zeros(n-2)']\n",
    "        elseif i==n\n",
    "            D[i,:] = [zeros(n-2)' 1 -2]\n",
    "        else\n",
    "            D[i,:] = [zeros(i-2)' 1 -2 1 zeros(n-1-i)']\n",
    "        end\n",
    "    end\n",
    "    \n",
    "    return D\n",
    "end\n",
    "\n",
    "function D2_2(n)\n",
    "    D = zeros(n,n)\n",
    "\n",
    "    for i in 1:n\n",
    "        if i==1\n",
    "            D[i,:] = [-3 4 -1 zeros(n-3)']\n",
    "        elseif i==n\n",
    "            D[i,:] = [zeros(n-2)' 1 -2]\n",
    "        else\n",
    "            D[i,:] = [zeros(i-2)' 1 -2 1 zeros(n-1-i)']\n",
    "        end\n",
    "    end\n",
    "    \n",
    "    return D\n",
    "end\n",
    "\n",
    "function g1(x)\n",
    "    return(cos(π*x/2))\n",
    "end\n",
    "\n",
    "function u1(x)\n",
    "    return ( (4/π^2)*cos(π*x/2) )\n",
    "end\n",
    "\n",
    "\n",
    "\n",
    "\n",
    "\n",
    "\"This function plots the original u, and the interpolates based on its second derivative\n",
    "Input:\n",
    "    u = function to be interpolated\n",
    "    g = second derivative of u, ie u''(x) = g(x).\n",
    "\"\n",
    "function plotInterpolates(u, g, n)\n",
    "\n",
    "    \n",
    "    h = 1/n\n",
    "    \n",
    "    xvals = LinRange(0,1-h,n)      # The x-vals where g(x) is known\n",
    "    \n",
    "    \n",
    "    image = (-h^2).*[g(x) for x in xvals]   #find the \"data vector on RHS of 1.27, 1.29\"\n",
    "    image[1] = 0\n",
    " \n",
    "    \n",
    "    \n",
    "    plot(xvals, inv(D2_1(n))*image     , label = \"first order\",  bg=false)\n",
    "    plot!(xvals, inv(D2_2(n))*image    , label = \"second order\" )\n",
    "    plot!( LinRange(0,1,100), [u1(x) for x in LinRange(0,1,100)], label=\"true u\")    #plot u\n",
    "\n",
    "    \n",
    "end"
   ]
  },
  {
   "cell_type": "code",
   "execution_count": 46,
   "metadata": {},
   "outputs": [
    {
     "data": {
      "text/plain": [
       "cheby (generic function with 1 method)"
      ]
     },
     "execution_count": 46,
     "metadata": {},
     "output_type": "execute_result"
    }
   ],
   "source": [
    "using Plots\n",
    "\n",
    "function cheby(n)\n",
    "    i = n\n",
    "    display(plot([cos(x*π/i) for x in 0:i], [cos(x*π/i)^2 for x in 0:i], seriestype = :scatter, bg=false))\n",
    "end"
   ]
  },
  {
   "cell_type": "code",
   "execution_count": 51,
   "metadata": {},
   "outputs": [
    {
     "data": {
      "image/svg+xml": [
       "<?xml version=\"1.0\" encoding=\"utf-8\"?>\n",
       "<svg xmlns=\"http://www.w3.org/2000/svg\" xmlns:xlink=\"http://www.w3.org/1999/xlink\" width=\"600\" height=\"400\" viewBox=\"0 0 2400 1600\">\n",
       "<defs>\n",
       "  <clipPath id=\"clip730\">\n",
       "    <rect x=\"0\" y=\"0\" width=\"2400\" height=\"1600\"/>\n",
       "  </clipPath>\n",
       "</defs>\n",
       "<path clip-path=\"url(#clip730)\" d=\"\n",
       "M0 1600 L2400 1600 L2400 0 L0 0  Z\n",
       "  \" fill=\"#000000\" fill-rule=\"evenodd\" fill-opacity=\"0\"/>\n",
       "<defs>\n",
       "  <clipPath id=\"clip731\">\n",
       "    <rect x=\"480\" y=\"0\" width=\"1681\" height=\"1600\"/>\n",
       "  </clipPath>\n",
       "</defs>\n",
       "<path clip-path=\"url(#clip730)\" d=\"\n",
       "M174.862 1486.45 L2352.76 1486.45 L2352.76 47.2441 L174.862 47.2441  Z\n",
       "  \" fill=\"#000000\" fill-rule=\"evenodd\" fill-opacity=\"0\"/>\n",
       "<defs>\n",
       "  <clipPath id=\"clip732\">\n",
       "    <rect x=\"174\" y=\"47\" width=\"2179\" height=\"1440\"/>\n",
       "  </clipPath>\n",
       "</defs>\n",
       "<polyline clip-path=\"url(#clip732)\" style=\"stroke:#ffffff; stroke-width:2; stroke-opacity:0.1; fill:none\" points=\"\n",
       "  236.501,1486.45 236.501,47.2441 \n",
       "  \"/>\n",
       "<polyline clip-path=\"url(#clip732)\" style=\"stroke:#ffffff; stroke-width:2; stroke-opacity:0.1; fill:none\" points=\"\n",
       "  750.155,1486.45 750.155,47.2441 \n",
       "  \"/>\n",
       "<polyline clip-path=\"url(#clip732)\" style=\"stroke:#ffffff; stroke-width:2; stroke-opacity:0.1; fill:none\" points=\"\n",
       "  1263.81,1486.45 1263.81,47.2441 \n",
       "  \"/>\n",
       "<polyline clip-path=\"url(#clip732)\" style=\"stroke:#ffffff; stroke-width:2; stroke-opacity:0.1; fill:none\" points=\"\n",
       "  1777.46,1486.45 1777.46,47.2441 \n",
       "  \"/>\n",
       "<polyline clip-path=\"url(#clip732)\" style=\"stroke:#ffffff; stroke-width:2; stroke-opacity:0.1; fill:none\" points=\"\n",
       "  2291.12,1486.45 2291.12,47.2441 \n",
       "  \"/>\n",
       "<polyline clip-path=\"url(#clip732)\" style=\"stroke:#ffffff; stroke-width:2; stroke-opacity:0.1; fill:none\" points=\"\n",
       "  174.862,1445.72 2352.76,1445.72 \n",
       "  \"/>\n",
       "<polyline clip-path=\"url(#clip732)\" style=\"stroke:#ffffff; stroke-width:2; stroke-opacity:0.1; fill:none\" points=\"\n",
       "  174.862,1106.28 2352.76,1106.28 \n",
       "  \"/>\n",
       "<polyline clip-path=\"url(#clip732)\" style=\"stroke:#ffffff; stroke-width:2; stroke-opacity:0.1; fill:none\" points=\"\n",
       "  174.862,766.846 2352.76,766.846 \n",
       "  \"/>\n",
       "<polyline clip-path=\"url(#clip732)\" style=\"stroke:#ffffff; stroke-width:2; stroke-opacity:0.1; fill:none\" points=\"\n",
       "  174.862,427.411 2352.76,427.411 \n",
       "  \"/>\n",
       "<polyline clip-path=\"url(#clip732)\" style=\"stroke:#ffffff; stroke-width:2; stroke-opacity:0.1; fill:none\" points=\"\n",
       "  174.862,87.9763 2352.76,87.9763 \n",
       "  \"/>\n",
       "<polyline clip-path=\"url(#clip730)\" style=\"stroke:#ffffff; stroke-width:4; stroke-opacity:1; fill:none\" points=\"\n",
       "  174.862,1486.45 2352.76,1486.45 \n",
       "  \"/>\n",
       "<polyline clip-path=\"url(#clip730)\" style=\"stroke:#ffffff; stroke-width:4; stroke-opacity:1; fill:none\" points=\"\n",
       "  174.862,1486.45 174.862,47.2441 \n",
       "  \"/>\n",
       "<polyline clip-path=\"url(#clip730)\" style=\"stroke:#ffffff; stroke-width:4; stroke-opacity:1; fill:none\" points=\"\n",
       "  236.501,1486.45 236.501,1469.18 \n",
       "  \"/>\n",
       "<polyline clip-path=\"url(#clip730)\" style=\"stroke:#ffffff; stroke-width:4; stroke-opacity:1; fill:none\" points=\"\n",
       "  750.155,1486.45 750.155,1469.18 \n",
       "  \"/>\n",
       "<polyline clip-path=\"url(#clip730)\" style=\"stroke:#ffffff; stroke-width:4; stroke-opacity:1; fill:none\" points=\"\n",
       "  1263.81,1486.45 1263.81,1469.18 \n",
       "  \"/>\n",
       "<polyline clip-path=\"url(#clip730)\" style=\"stroke:#ffffff; stroke-width:4; stroke-opacity:1; fill:none\" points=\"\n",
       "  1777.46,1486.45 1777.46,1469.18 \n",
       "  \"/>\n",
       "<polyline clip-path=\"url(#clip730)\" style=\"stroke:#ffffff; stroke-width:4; stroke-opacity:1; fill:none\" points=\"\n",
       "  2291.12,1486.45 2291.12,1469.18 \n",
       "  \"/>\n",
       "<polyline clip-path=\"url(#clip730)\" style=\"stroke:#ffffff; stroke-width:4; stroke-opacity:1; fill:none\" points=\"\n",
       "  174.862,1445.72 200.997,1445.72 \n",
       "  \"/>\n",
       "<polyline clip-path=\"url(#clip730)\" style=\"stroke:#ffffff; stroke-width:4; stroke-opacity:1; fill:none\" points=\"\n",
       "  174.862,1106.28 200.997,1106.28 \n",
       "  \"/>\n",
       "<polyline clip-path=\"url(#clip730)\" style=\"stroke:#ffffff; stroke-width:4; stroke-opacity:1; fill:none\" points=\"\n",
       "  174.862,766.846 200.997,766.846 \n",
       "  \"/>\n",
       "<polyline clip-path=\"url(#clip730)\" style=\"stroke:#ffffff; stroke-width:4; stroke-opacity:1; fill:none\" points=\"\n",
       "  174.862,427.411 200.997,427.411 \n",
       "  \"/>\n",
       "<polyline clip-path=\"url(#clip730)\" style=\"stroke:#ffffff; stroke-width:4; stroke-opacity:1; fill:none\" points=\"\n",
       "  174.862,87.9763 200.997,87.9763 \n",
       "  \"/>\n",
       "<path clip-path=\"url(#clip730)\" d=\"M 0 0 M198.885 1525.04 L211.362 1525.04 L211.362 1528.83 L198.885 1528.83 L198.885 1525.04 Z\" fill=\"#ffffff\" fill-rule=\"evenodd\" fill-opacity=\"1\" /><path clip-path=\"url(#clip730)\" d=\"M 0 0 M217.241 1535.98 L224.88 1535.98 L224.88 1509.62 L216.57 1511.29 L216.57 1507.03 L224.834 1505.36 L229.51 1505.36 L229.51 1535.98 L237.149 1535.98 L237.149 1539.92 L217.241 1539.92 L217.241 1535.98 Z\" fill=\"#ffffff\" fill-rule=\"evenodd\" fill-opacity=\"1\" /><path clip-path=\"url(#clip730)\" d=\"M 0 0 M242.218 1534.04 L247.102 1534.04 L247.102 1539.92 L242.218 1539.92 L242.218 1534.04 Z\" fill=\"#ffffff\" fill-rule=\"evenodd\" fill-opacity=\"1\" /><path clip-path=\"url(#clip730)\" d=\"M 0 0 M262.172 1508.44 Q258.561 1508.44 256.732 1512 Q254.926 1515.55 254.926 1522.67 Q254.926 1529.78 256.732 1533.35 Q258.561 1536.89 262.172 1536.89 Q265.806 1536.89 267.611 1533.35 Q269.44 1529.78 269.44 1522.67 Q269.44 1515.55 267.611 1512 Q265.806 1508.44 262.172 1508.44 M262.172 1504.73 Q267.982 1504.73 271.037 1509.34 Q274.116 1513.92 274.116 1522.67 Q274.116 1531.4 271.037 1536.01 Q267.982 1540.59 262.172 1540.59 Q256.362 1540.59 253.283 1536.01 Q250.227 1531.4 250.227 1522.67 Q250.227 1513.92 253.283 1509.34 Q256.362 1504.73 262.172 1504.73 Z\" fill=\"#ffffff\" fill-rule=\"evenodd\" fill-opacity=\"1\" /><path clip-path=\"url(#clip730)\" d=\"M 0 0 M712.423 1525.04 L724.9 1525.04 L724.9 1528.83 L712.423 1528.83 L712.423 1525.04 Z\" fill=\"#ffffff\" fill-rule=\"evenodd\" fill-opacity=\"1\" /><path clip-path=\"url(#clip730)\" d=\"M 0 0 M739.97 1508.44 Q736.359 1508.44 734.53 1512 Q732.724 1515.55 732.724 1522.67 Q732.724 1529.78 734.53 1533.35 Q736.359 1536.89 739.97 1536.89 Q743.604 1536.89 745.409 1533.35 Q747.238 1529.78 747.238 1522.67 Q747.238 1515.55 745.409 1512 Q743.604 1508.44 739.97 1508.44 M739.97 1504.73 Q745.78 1504.73 748.835 1509.34 Q751.914 1513.92 751.914 1522.67 Q751.914 1531.4 748.835 1536.01 Q745.78 1540.59 739.97 1540.59 Q734.159 1540.59 731.081 1536.01 Q728.025 1531.4 728.025 1522.67 Q728.025 1513.92 731.081 1509.34 Q734.159 1504.73 739.97 1504.73 Z\" fill=\"#ffffff\" fill-rule=\"evenodd\" fill-opacity=\"1\" /><path clip-path=\"url(#clip730)\" d=\"M 0 0 M756.983 1534.04 L761.868 1534.04 L761.868 1539.92 L756.983 1539.92 L756.983 1534.04 Z\" fill=\"#ffffff\" fill-rule=\"evenodd\" fill-opacity=\"1\" /><path clip-path=\"url(#clip730)\" d=\"M 0 0 M766.983 1505.36 L785.34 1505.36 L785.34 1509.3 L771.266 1509.3 L771.266 1517.77 Q772.284 1517.42 773.303 1517.26 Q774.321 1517.07 775.34 1517.07 Q781.127 1517.07 784.506 1520.24 Q787.886 1523.42 787.886 1528.83 Q787.886 1534.41 784.414 1537.51 Q780.942 1540.59 774.622 1540.59 Q772.446 1540.59 770.178 1540.22 Q767.932 1539.85 765.525 1539.11 L765.525 1534.41 Q767.608 1535.54 769.831 1536.1 Q772.053 1536.66 774.53 1536.66 Q778.534 1536.66 780.872 1534.55 Q783.21 1532.44 783.21 1528.83 Q783.21 1525.22 780.872 1523.11 Q778.534 1521.01 774.53 1521.01 Q772.655 1521.01 770.78 1521.42 Q768.928 1521.84 766.983 1522.72 L766.983 1505.36 Z\" fill=\"#ffffff\" fill-rule=\"evenodd\" fill-opacity=\"1\" /><path clip-path=\"url(#clip730)\" d=\"M 0 0 M1245.33 1508.44 Q1241.71 1508.44 1239.89 1512 Q1238.08 1515.55 1238.08 1522.67 Q1238.08 1529.78 1239.89 1533.35 Q1241.71 1536.89 1245.33 1536.89 Q1248.96 1536.89 1250.77 1533.35 Q1252.59 1529.78 1252.59 1522.67 Q1252.59 1515.55 1250.77 1512 Q1248.96 1508.44 1245.33 1508.44 M1245.33 1504.73 Q1251.14 1504.73 1254.19 1509.34 Q1257.27 1513.92 1257.27 1522.67 Q1257.27 1531.4 1254.19 1536.01 Q1251.14 1540.59 1245.33 1540.59 Q1239.52 1540.59 1236.44 1536.01 Q1233.38 1531.4 1233.38 1522.67 Q1233.38 1513.92 1236.44 1509.34 Q1239.52 1504.73 1245.33 1504.73 Z\" fill=\"#ffffff\" fill-rule=\"evenodd\" fill-opacity=\"1\" /><path clip-path=\"url(#clip730)\" d=\"M 0 0 M1262.34 1534.04 L1267.22 1534.04 L1267.22 1539.92 L1262.34 1539.92 L1262.34 1534.04 Z\" fill=\"#ffffff\" fill-rule=\"evenodd\" fill-opacity=\"1\" /><path clip-path=\"url(#clip730)\" d=\"M 0 0 M1282.29 1508.44 Q1278.68 1508.44 1276.85 1512 Q1275.05 1515.55 1275.05 1522.67 Q1275.05 1529.78 1276.85 1533.35 Q1278.68 1536.89 1282.29 1536.89 Q1285.93 1536.89 1287.73 1533.35 Q1289.56 1529.78 1289.56 1522.67 Q1289.56 1515.55 1287.73 1512 Q1285.93 1508.44 1282.29 1508.44 M1282.29 1504.73 Q1288.1 1504.73 1291.16 1509.34 Q1294.24 1513.92 1294.24 1522.67 Q1294.24 1531.4 1291.16 1536.01 Q1288.1 1540.59 1282.29 1540.59 Q1276.48 1540.59 1273.4 1536.01 Q1270.35 1531.4 1270.35 1522.67 Q1270.35 1513.92 1273.4 1509.34 Q1276.48 1504.73 1282.29 1504.73 Z\" fill=\"#ffffff\" fill-rule=\"evenodd\" fill-opacity=\"1\" /><path clip-path=\"url(#clip730)\" d=\"M 0 0 M1759.48 1508.44 Q1755.87 1508.44 1754.04 1512 Q1752.23 1515.55 1752.23 1522.67 Q1752.23 1529.78 1754.04 1533.35 Q1755.87 1536.89 1759.48 1536.89 Q1763.11 1536.89 1764.92 1533.35 Q1766.75 1529.78 1766.75 1522.67 Q1766.75 1515.55 1764.92 1512 Q1763.11 1508.44 1759.48 1508.44 M1759.48 1504.73 Q1765.29 1504.73 1768.34 1509.34 Q1771.42 1513.92 1771.42 1522.67 Q1771.42 1531.4 1768.34 1536.01 Q1765.29 1540.59 1759.48 1540.59 Q1753.67 1540.59 1750.59 1536.01 Q1747.53 1531.4 1747.53 1522.67 Q1747.53 1513.92 1750.59 1509.34 Q1753.67 1504.73 1759.48 1504.73 Z\" fill=\"#ffffff\" fill-rule=\"evenodd\" fill-opacity=\"1\" /><path clip-path=\"url(#clip730)\" d=\"M 0 0 M1776.49 1534.04 L1781.38 1534.04 L1781.38 1539.92 L1776.49 1539.92 L1776.49 1534.04 Z\" fill=\"#ffffff\" fill-rule=\"evenodd\" fill-opacity=\"1\" /><path clip-path=\"url(#clip730)\" d=\"M 0 0 M1786.49 1505.36 L1804.85 1505.36 L1804.85 1509.3 L1790.77 1509.3 L1790.77 1517.77 Q1791.79 1517.42 1792.81 1517.26 Q1793.83 1517.07 1794.85 1517.07 Q1800.63 1517.07 1804.01 1520.24 Q1807.39 1523.42 1807.39 1528.83 Q1807.39 1534.41 1803.92 1537.51 Q1800.45 1540.59 1794.13 1540.59 Q1791.95 1540.59 1789.69 1540.22 Q1787.44 1539.85 1785.03 1539.11 L1785.03 1534.41 Q1787.12 1535.54 1789.34 1536.1 Q1791.56 1536.66 1794.04 1536.66 Q1798.04 1536.66 1800.38 1534.55 Q1802.72 1532.44 1802.72 1528.83 Q1802.72 1525.22 1800.38 1523.11 Q1798.04 1521.01 1794.04 1521.01 Q1792.16 1521.01 1790.29 1521.42 Q1788.44 1521.84 1786.49 1522.72 L1786.49 1505.36 Z\" fill=\"#ffffff\" fill-rule=\"evenodd\" fill-opacity=\"1\" /><path clip-path=\"url(#clip730)\" d=\"M 0 0 M2263.02 1535.98 L2270.65 1535.98 L2270.65 1509.62 L2262.34 1511.29 L2262.34 1507.03 L2270.61 1505.36 L2275.28 1505.36 L2275.28 1535.98 L2282.92 1535.98 L2282.92 1539.92 L2263.02 1539.92 L2263.02 1535.98 Z\" fill=\"#ffffff\" fill-rule=\"evenodd\" fill-opacity=\"1\" /><path clip-path=\"url(#clip730)\" d=\"M 0 0 M2287.99 1534.04 L2292.88 1534.04 L2292.88 1539.92 L2287.99 1539.92 L2287.99 1534.04 Z\" fill=\"#ffffff\" fill-rule=\"evenodd\" fill-opacity=\"1\" /><path clip-path=\"url(#clip730)\" d=\"M 0 0 M2307.95 1508.44 Q2304.33 1508.44 2302.51 1512 Q2300.7 1515.55 2300.7 1522.67 Q2300.7 1529.78 2302.51 1533.35 Q2304.33 1536.89 2307.95 1536.89 Q2311.58 1536.89 2313.39 1533.35 Q2315.21 1529.78 2315.21 1522.67 Q2315.21 1515.55 2313.39 1512 Q2311.58 1508.44 2307.95 1508.44 M2307.95 1504.73 Q2313.76 1504.73 2316.81 1509.34 Q2319.89 1513.92 2319.89 1522.67 Q2319.89 1531.4 2316.81 1536.01 Q2313.76 1540.59 2307.95 1540.59 Q2302.14 1540.59 2299.06 1536.01 Q2296 1531.4 2296 1522.67 Q2296 1513.92 2299.06 1509.34 Q2302.14 1504.73 2307.95 1504.73 Z\" fill=\"#ffffff\" fill-rule=\"evenodd\" fill-opacity=\"1\" /><path clip-path=\"url(#clip730)\" d=\"M 0 0 M74.9365 1431.51 Q71.3254 1431.51 69.4967 1435.08 Q67.6912 1438.62 67.6912 1445.75 Q67.6912 1452.86 69.4967 1456.42 Q71.3254 1459.96 74.9365 1459.96 Q78.5707 1459.96 80.3763 1456.42 Q82.205 1452.86 82.205 1445.75 Q82.205 1438.62 80.3763 1435.08 Q78.5707 1431.51 74.9365 1431.51 M74.9365 1427.81 Q80.7467 1427.81 83.8022 1432.42 Q86.8809 1437 86.8809 1445.75 Q86.8809 1454.48 83.8022 1459.08 Q80.7467 1463.67 74.9365 1463.67 Q69.1264 1463.67 66.0477 1459.08 Q62.9921 1454.48 62.9921 1445.75 Q62.9921 1437 66.0477 1432.42 Q69.1264 1427.81 74.9365 1427.81 Z\" fill=\"#ffffff\" fill-rule=\"evenodd\" fill-opacity=\"1\" /><path clip-path=\"url(#clip730)\" d=\"M 0 0 M91.9503 1457.12 L96.8345 1457.12 L96.8345 1463 L91.9503 1463 L91.9503 1457.12 Z\" fill=\"#ffffff\" fill-rule=\"evenodd\" fill-opacity=\"1\" /><path clip-path=\"url(#clip730)\" d=\"M 0 0 M111.904 1431.51 Q108.293 1431.51 106.464 1435.08 Q104.659 1438.62 104.659 1445.75 Q104.659 1452.86 106.464 1456.42 Q108.293 1459.96 111.904 1459.96 Q115.538 1459.96 117.344 1456.42 Q119.172 1452.86 119.172 1445.75 Q119.172 1438.62 117.344 1435.08 Q115.538 1431.51 111.904 1431.51 M111.904 1427.81 Q117.714 1427.81 120.77 1432.42 Q123.848 1437 123.848 1445.75 Q123.848 1454.48 120.77 1459.08 Q117.714 1463.67 111.904 1463.67 Q106.094 1463.67 103.015 1459.08 Q99.9595 1454.48 99.9595 1445.75 Q99.9595 1437 103.015 1432.42 Q106.094 1427.81 111.904 1427.81 Z\" fill=\"#ffffff\" fill-rule=\"evenodd\" fill-opacity=\"1\" /><path clip-path=\"url(#clip730)\" d=\"M 0 0 M138.918 1431.51 Q135.307 1431.51 133.478 1435.08 Q131.672 1438.62 131.672 1445.75 Q131.672 1452.86 133.478 1456.42 Q135.307 1459.96 138.918 1459.96 Q142.552 1459.96 144.357 1456.42 Q146.186 1452.86 146.186 1445.75 Q146.186 1438.62 144.357 1435.08 Q142.552 1431.51 138.918 1431.51 M138.918 1427.81 Q144.728 1427.81 147.783 1432.42 Q150.862 1437 150.862 1445.75 Q150.862 1454.48 147.783 1459.08 Q144.728 1463.67 138.918 1463.67 Q133.107 1463.67 130.029 1459.08 Q126.973 1454.48 126.973 1445.75 Q126.973 1437 130.029 1432.42 Q133.107 1427.81 138.918 1427.81 Z\" fill=\"#ffffff\" fill-rule=\"evenodd\" fill-opacity=\"1\" /><path clip-path=\"url(#clip730)\" d=\"M 0 0 M77.5291 1092.08 Q73.918 1092.08 72.0893 1095.64 Q70.2838 1099.19 70.2838 1106.32 Q70.2838 1113.42 72.0893 1116.99 Q73.918 1120.53 77.5291 1120.53 Q81.1633 1120.53 82.9689 1116.99 Q84.7976 1113.42 84.7976 1106.32 Q84.7976 1099.19 82.9689 1095.64 Q81.1633 1092.08 77.5291 1092.08 M77.5291 1088.38 Q83.3392 1088.38 86.3948 1092.98 Q89.4735 1097.57 89.4735 1106.32 Q89.4735 1115.04 86.3948 1119.65 Q83.3392 1124.23 77.5291 1124.23 Q71.7189 1124.23 68.6402 1119.65 Q65.5847 1115.04 65.5847 1106.32 Q65.5847 1097.57 68.6402 1092.98 Q71.7189 1088.38 77.5291 1088.38 Z\" fill=\"#ffffff\" fill-rule=\"evenodd\" fill-opacity=\"1\" /><path clip-path=\"url(#clip730)\" d=\"M 0 0 M94.5429 1117.68 L99.4271 1117.68 L99.4271 1123.56 L94.5429 1123.56 L94.5429 1117.68 Z\" fill=\"#ffffff\" fill-rule=\"evenodd\" fill-opacity=\"1\" /><path clip-path=\"url(#clip730)\" d=\"M 0 0 M108.524 1119.63 L124.844 1119.63 L124.844 1123.56 L102.899 1123.56 L102.899 1119.63 Q105.561 1116.87 110.145 1112.24 Q114.751 1107.59 115.932 1106.25 Q118.177 1103.72 119.057 1101.99 Q119.959 1100.23 119.959 1098.54 Q119.959 1095.78 118.015 1094.05 Q116.094 1092.31 112.992 1092.31 Q110.793 1092.31 108.339 1093.07 Q105.909 1093.84 103.131 1095.39 L103.131 1090.67 Q105.955 1089.53 108.409 1088.95 Q110.862 1088.38 112.899 1088.38 Q118.27 1088.38 121.464 1091.06 Q124.658 1093.75 124.658 1098.24 Q124.658 1100.37 123.848 1102.29 Q123.061 1104.19 120.955 1106.78 Q120.376 1107.45 117.274 1110.67 Q114.172 1113.86 108.524 1119.63 Z\" fill=\"#ffffff\" fill-rule=\"evenodd\" fill-opacity=\"1\" /><path clip-path=\"url(#clip730)\" d=\"M 0 0 M129.959 1089 L148.316 1089 L148.316 1092.94 L134.242 1092.94 L134.242 1101.41 Q135.26 1101.06 136.279 1100.9 Q137.297 1100.71 138.316 1100.71 Q144.103 1100.71 147.482 1103.89 Q150.862 1107.06 150.862 1112.47 Q150.862 1118.05 147.39 1121.15 Q143.918 1124.23 137.598 1124.23 Q135.422 1124.23 133.154 1123.86 Q130.908 1123.49 128.501 1122.75 L128.501 1118.05 Q130.584 1119.19 132.807 1119.74 Q135.029 1120.3 137.506 1120.3 Q141.51 1120.3 143.848 1118.19 Q146.186 1116.08 146.186 1112.47 Q146.186 1108.86 143.848 1106.76 Q141.51 1104.65 137.506 1104.65 Q135.631 1104.65 133.756 1105.07 Q131.904 1105.48 129.959 1106.36 L129.959 1089 Z\" fill=\"#ffffff\" fill-rule=\"evenodd\" fill-opacity=\"1\" /><path clip-path=\"url(#clip730)\" d=\"M 0 0 M75.9319 752.645 Q72.3208 752.645 70.4921 756.209 Q68.6865 759.751 68.6865 766.881 Q68.6865 773.987 70.4921 777.552 Q72.3208 781.094 75.9319 781.094 Q79.5661 781.094 81.3717 777.552 Q83.2004 773.987 83.2004 766.881 Q83.2004 759.751 81.3717 756.209 Q79.5661 752.645 75.9319 752.645 M75.9319 748.941 Q81.742 748.941 84.7976 753.547 Q87.8763 758.131 87.8763 766.881 Q87.8763 775.608 84.7976 780.214 Q81.742 784.797 75.9319 784.797 Q70.1217 784.797 67.043 780.214 Q63.9875 775.608 63.9875 766.881 Q63.9875 758.131 67.043 753.547 Q70.1217 748.941 75.9319 748.941 Z\" fill=\"#ffffff\" fill-rule=\"evenodd\" fill-opacity=\"1\" /><path clip-path=\"url(#clip730)\" d=\"M 0 0 M92.9457 778.246 L97.8299 778.246 L97.8299 784.126 L92.9457 784.126 L92.9457 778.246 Z\" fill=\"#ffffff\" fill-rule=\"evenodd\" fill-opacity=\"1\" /><path clip-path=\"url(#clip730)\" d=\"M 0 0 M102.946 749.566 L121.302 749.566 L121.302 753.501 L107.228 753.501 L107.228 761.973 Q108.247 761.626 109.265 761.464 Q110.284 761.279 111.302 761.279 Q117.089 761.279 120.469 764.45 Q123.848 767.621 123.848 773.038 Q123.848 778.617 120.376 781.719 Q116.904 784.797 110.584 784.797 Q108.409 784.797 106.14 784.427 Q103.895 784.057 101.487 783.316 L101.487 778.617 Q103.571 779.751 105.793 780.307 Q108.015 780.862 110.492 780.862 Q114.496 780.862 116.834 778.756 Q119.172 776.649 119.172 773.038 Q119.172 769.427 116.834 767.321 Q114.496 765.214 110.492 765.214 Q108.617 765.214 106.742 765.631 Q104.89 766.047 102.946 766.927 L102.946 749.566 Z\" fill=\"#ffffff\" fill-rule=\"evenodd\" fill-opacity=\"1\" /><path clip-path=\"url(#clip730)\" d=\"M 0 0 M138.918 752.645 Q135.307 752.645 133.478 756.209 Q131.672 759.751 131.672 766.881 Q131.672 773.987 133.478 777.552 Q135.307 781.094 138.918 781.094 Q142.552 781.094 144.357 777.552 Q146.186 773.987 146.186 766.881 Q146.186 759.751 144.357 756.209 Q142.552 752.645 138.918 752.645 M138.918 748.941 Q144.728 748.941 147.783 753.547 Q150.862 758.131 150.862 766.881 Q150.862 775.608 147.783 780.214 Q144.728 784.797 138.918 784.797 Q133.107 784.797 130.029 780.214 Q126.973 775.608 126.973 766.881 Q126.973 758.131 130.029 753.547 Q133.107 748.941 138.918 748.941 Z\" fill=\"#ffffff\" fill-rule=\"evenodd\" fill-opacity=\"1\" /><path clip-path=\"url(#clip730)\" d=\"M 0 0 M76.8346 413.21 Q73.2236 413.21 71.3949 416.775 Q69.5893 420.316 69.5893 427.446 Q69.5893 434.552 71.3949 438.117 Q73.2236 441.659 76.8346 441.659 Q80.4689 441.659 82.2744 438.117 Q84.1031 434.552 84.1031 427.446 Q84.1031 420.316 82.2744 416.775 Q80.4689 413.21 76.8346 413.21 M76.8346 409.506 Q82.6448 409.506 85.7003 414.113 Q88.779 418.696 88.779 427.446 Q88.779 436.173 85.7003 440.779 Q82.6448 445.362 76.8346 445.362 Q71.0245 445.362 67.9458 440.779 Q64.8903 436.173 64.8903 427.446 Q64.8903 418.696 67.9458 414.113 Q71.0245 409.506 76.8346 409.506 Z\" fill=\"#ffffff\" fill-rule=\"evenodd\" fill-opacity=\"1\" /><path clip-path=\"url(#clip730)\" d=\"M 0 0 M93.8484 438.812 L98.7327 438.812 L98.7327 444.691 L93.8484 444.691 L93.8484 438.812 Z\" fill=\"#ffffff\" fill-rule=\"evenodd\" fill-opacity=\"1\" /><path clip-path=\"url(#clip730)\" d=\"M 0 0 M102.622 410.131 L124.844 410.131 L124.844 412.122 L112.297 444.691 L107.413 444.691 L119.219 414.066 L102.622 414.066 L102.622 410.131 Z\" fill=\"#ffffff\" fill-rule=\"evenodd\" fill-opacity=\"1\" /><path clip-path=\"url(#clip730)\" d=\"M 0 0 M129.959 410.131 L148.316 410.131 L148.316 414.066 L134.242 414.066 L134.242 422.538 Q135.26 422.191 136.279 422.029 Q137.297 421.844 138.316 421.844 Q144.103 421.844 147.482 425.015 Q150.862 428.187 150.862 433.603 Q150.862 439.182 147.39 442.284 Q143.918 445.362 137.598 445.362 Q135.422 445.362 133.154 444.992 Q130.908 444.622 128.501 443.881 L128.501 439.182 Q130.584 440.316 132.807 440.872 Q135.029 441.427 137.506 441.427 Q141.51 441.427 143.848 439.321 Q146.186 437.214 146.186 433.603 Q146.186 429.992 143.848 427.886 Q141.51 425.779 137.506 425.779 Q135.631 425.779 133.756 426.196 Q131.904 426.613 129.959 427.492 L129.959 410.131 Z\" fill=\"#ffffff\" fill-rule=\"evenodd\" fill-opacity=\"1\" /><path clip-path=\"url(#clip730)\" d=\"M 0 0 M66.9736 101.321 L74.6124 101.321 L74.6124 74.9555 L66.3023 76.6222 L66.3023 72.3629 L74.5661 70.6963 L79.242 70.6963 L79.242 101.321 L86.8809 101.321 L86.8809 105.256 L66.9736 105.256 L66.9736 101.321 Z\" fill=\"#ffffff\" fill-rule=\"evenodd\" fill-opacity=\"1\" /><path clip-path=\"url(#clip730)\" d=\"M 0 0 M91.9503 99.3767 L96.8345 99.3767 L96.8345 105.256 L91.9503 105.256 L91.9503 99.3767 Z\" fill=\"#ffffff\" fill-rule=\"evenodd\" fill-opacity=\"1\" /><path clip-path=\"url(#clip730)\" d=\"M 0 0 M111.904 73.775 Q108.293 73.775 106.464 77.3398 Q104.659 80.8814 104.659 88.011 Q104.659 95.1174 106.464 98.6822 Q108.293 102.224 111.904 102.224 Q115.538 102.224 117.344 98.6822 Q119.172 95.1174 119.172 88.011 Q119.172 80.8814 117.344 77.3398 Q115.538 73.775 111.904 73.775 M111.904 70.0713 Q117.714 70.0713 120.77 74.6777 Q123.848 79.261 123.848 88.011 Q123.848 96.7378 120.77 101.344 Q117.714 105.928 111.904 105.928 Q106.094 105.928 103.015 101.344 Q99.9595 96.7378 99.9595 88.011 Q99.9595 79.261 103.015 74.6777 Q106.094 70.0713 111.904 70.0713 Z\" fill=\"#ffffff\" fill-rule=\"evenodd\" fill-opacity=\"1\" /><path clip-path=\"url(#clip730)\" d=\"M 0 0 M138.918 73.775 Q135.307 73.775 133.478 77.3398 Q131.672 80.8814 131.672 88.011 Q131.672 95.1174 133.478 98.6822 Q135.307 102.224 138.918 102.224 Q142.552 102.224 144.357 98.6822 Q146.186 95.1174 146.186 88.011 Q146.186 80.8814 144.357 77.3398 Q142.552 73.775 138.918 73.775 M138.918 70.0713 Q144.728 70.0713 147.783 74.6777 Q150.862 79.261 150.862 88.011 Q150.862 96.7378 147.783 101.344 Q144.728 105.928 138.918 105.928 Q133.107 105.928 130.029 101.344 Q126.973 96.7378 126.973 88.011 Q126.973 79.261 130.029 74.6777 Q133.107 70.0713 138.918 70.0713 Z\" fill=\"#ffffff\" fill-rule=\"evenodd\" fill-opacity=\"1\" /><circle clip-path=\"url(#clip732)\" cx=\"2291.12\" cy=\"87.9763\" r=\"14\" fill=\"#009af9\" fill-rule=\"evenodd\" fill-opacity=\"1\" stroke=\"#ffffff\" stroke-opacity=\"1\" stroke-width=\"3.2\"/>\n",
       "<circle clip-path=\"url(#clip732)\" cx=\"2240.84\" cy=\"217.629\" r=\"14\" fill=\"#009af9\" fill-rule=\"evenodd\" fill-opacity=\"1\" stroke=\"#ffffff\" stroke-opacity=\"1\" stroke-width=\"3.2\"/>\n",
       "<circle clip-path=\"url(#clip732)\" cx=\"2094.92\" cy=\"557.064\" r=\"14\" fill=\"#009af9\" fill-rule=\"evenodd\" fill-opacity=\"1\" stroke=\"#ffffff\" stroke-opacity=\"1\" stroke-width=\"3.2\"/>\n",
       "<circle clip-path=\"url(#clip732)\" cx=\"1867.65\" cy=\"976.628\" r=\"14\" fill=\"#009af9\" fill-rule=\"evenodd\" fill-opacity=\"1\" stroke=\"#ffffff\" stroke-opacity=\"1\" stroke-width=\"3.2\"/>\n",
       "<circle clip-path=\"url(#clip732)\" cx=\"1581.26\" cy=\"1316.06\" r=\"14\" fill=\"#009af9\" fill-rule=\"evenodd\" fill-opacity=\"1\" stroke=\"#ffffff\" stroke-opacity=\"1\" stroke-width=\"3.2\"/>\n",
       "<circle clip-path=\"url(#clip732)\" cx=\"1263.81\" cy=\"1445.72\" r=\"14\" fill=\"#009af9\" fill-rule=\"evenodd\" fill-opacity=\"1\" stroke=\"#ffffff\" stroke-opacity=\"1\" stroke-width=\"3.2\"/>\n",
       "<circle clip-path=\"url(#clip732)\" cx=\"946.353\" cy=\"1316.06\" r=\"14\" fill=\"#009af9\" fill-rule=\"evenodd\" fill-opacity=\"1\" stroke=\"#ffffff\" stroke-opacity=\"1\" stroke-width=\"3.2\"/>\n",
       "<circle clip-path=\"url(#clip732)\" cx=\"659.972\" cy=\"976.628\" r=\"14\" fill=\"#009af9\" fill-rule=\"evenodd\" fill-opacity=\"1\" stroke=\"#ffffff\" stroke-opacity=\"1\" stroke-width=\"3.2\"/>\n",
       "<circle clip-path=\"url(#clip732)\" cx=\"432.699\" cy=\"557.064\" r=\"14\" fill=\"#009af9\" fill-rule=\"evenodd\" fill-opacity=\"1\" stroke=\"#ffffff\" stroke-opacity=\"1\" stroke-width=\"3.2\"/>\n",
       "<circle clip-path=\"url(#clip732)\" cx=\"286.781\" cy=\"217.629\" r=\"14\" fill=\"#009af9\" fill-rule=\"evenodd\" fill-opacity=\"1\" stroke=\"#ffffff\" stroke-opacity=\"1\" stroke-width=\"3.2\"/>\n",
       "<circle clip-path=\"url(#clip732)\" cx=\"236.501\" cy=\"87.9763\" r=\"14\" fill=\"#009af9\" fill-rule=\"evenodd\" fill-opacity=\"1\" stroke=\"#ffffff\" stroke-opacity=\"1\" stroke-width=\"3.2\"/>\n",
       "<path clip-path=\"url(#clip730)\" d=\"\n",
       "M1989.74 251.724 L2280.76 251.724 L2280.76 130.764 L1989.74 130.764  Z\n",
       "  \" fill=\"#000000\" fill-rule=\"evenodd\" fill-opacity=\"0\"/>\n",
       "<polyline clip-path=\"url(#clip730)\" style=\"stroke:#ffffff; stroke-width:4; stroke-opacity:1; fill:none\" points=\"\n",
       "  1989.74,251.724 2280.76,251.724 2280.76,130.764 1989.74,130.764 1989.74,251.724 \n",
       "  \"/>\n",
       "<circle clip-path=\"url(#clip730)\" cx=\"2097.74\" cy=\"191.244\" r=\"23\" fill=\"#009af9\" fill-rule=\"evenodd\" fill-opacity=\"1\" stroke=\"#ffffff\" stroke-opacity=\"1\" stroke-width=\"5.12\"/>\n",
       "<path clip-path=\"url(#clip730)\" d=\"M 0 0 M2195.58 210.931 Q2193.77 215.561 2192.06 216.973 Q2190.35 218.385 2187.48 218.385 L2184.08 218.385 L2184.08 214.82 L2186.58 214.82 Q2188.33 214.82 2189.31 213.987 Q2190.28 213.154 2191.46 210.052 L2192.22 208.107 L2181.74 182.598 L2186.25 182.598 L2194.35 202.876 L2202.46 182.598 L2206.97 182.598 L2195.58 210.931 Z\" fill=\"#ffffff\" fill-rule=\"evenodd\" fill-opacity=\"1\" /><path clip-path=\"url(#clip730)\" d=\"M 0 0 M2212.85 204.589 L2220.49 204.589 L2220.49 178.223 L2212.18 179.89 L2212.18 175.631 L2220.44 173.964 L2225.12 173.964 L2225.12 204.589 L2232.76 204.589 L2232.76 208.524 L2212.85 208.524 L2212.85 204.589 Z\" fill=\"#ffffff\" fill-rule=\"evenodd\" fill-opacity=\"1\" /></svg>\n"
      ]
     },
     "metadata": {},
     "output_type": "display_data"
    }
   ],
   "source": [
    "cheby(10)"
   ]
  },
  {
   "cell_type": "code",
   "execution_count": 19,
   "metadata": {},
   "outputs": [
    {
     "name": "stdin",
     "output_type": "stream",
     "text": [
      "stdin>  \n"
     ]
    },
    {
     "name": "stdout",
     "output_type": "stream",
     "text": [
      "enter"
     ]
    },
    {
     "name": "stdin",
     "output_type": "stream",
     "text": [
      "stdin>  \n"
     ]
    },
    {
     "name": "stdout",
     "output_type": "stream",
     "text": [
      "enter"
     ]
    },
    {
     "name": "stdin",
     "output_type": "stream",
     "text": [
      "stdin>  s\n"
     ]
    },
    {
     "name": "stdout",
     "output_type": "stream",
     "text": [
      "enter"
     ]
    },
    {
     "name": "stdin",
     "output_type": "stream",
     "text": [
      "stdin>  8\n"
     ]
    },
    {
     "name": "stdout",
     "output_type": "stream",
     "text": [
      "enter"
     ]
    },
    {
     "name": "stdin",
     "output_type": "stream",
     "text": [
      "stdin>  asdfad\n"
     ]
    },
    {
     "name": "stdout",
     "output_type": "stream",
     "text": [
      "enter"
     ]
    },
    {
     "name": "stdin",
     "output_type": "stream",
     "text": [
      "stdin>  asnasdf\n"
     ]
    },
    {
     "name": "stdout",
     "output_type": "stream",
     "text": [
      "enter"
     ]
    },
    {
     "name": "stdin",
     "output_type": "stream",
     "text": [
      "stdin>  n\n"
     ]
    }
   ],
   "source": [
    "while readline() != \"n\"\n",
    "    print(\"enter\")\n",
    "end"
   ]
  },
  {
   "cell_type": "code",
   "execution_count": 52,
   "metadata": {},
   "outputs": [
    {
     "data": {
      "text/plain": [
       "f (generic function with 1 method)"
      ]
     },
     "execution_count": 52,
     "metadata": {},
     "output_type": "execute_result"
    }
   ],
   "source": [
    "f(x,y) = x+y"
   ]
  },
  {
   "cell_type": "code",
   "execution_count": 53,
   "metadata": {},
   "outputs": [
    {
     "data": {
      "text/plain": [
       "Int64"
      ]
     },
     "execution_count": 53,
     "metadata": {},
     "output_type": "execute_result"
    }
   ],
   "source": [
    "typeof(f(1,2))"
   ]
  },
  {
   "cell_type": "code",
   "execution_count": 55,
   "metadata": {},
   "outputs": [
    {
     "data": {
      "text/plain": [
       "g (generic function with 1 method)"
      ]
     },
     "execution_count": 55,
     "metadata": {},
     "output_type": "execute_result"
    }
   ],
   "source": [
    "function g(x,y)\n",
    "    x+y\n",
    "end"
   ]
  },
  {
   "cell_type": "code",
   "execution_count": 57,
   "metadata": {},
   "outputs": [
    {
     "data": {
      "text/plain": [
       "Int64"
      ]
     },
     "execution_count": 57,
     "metadata": {},
     "output_type": "execute_result"
    }
   ],
   "source": [
    "typeof(g(1,2))"
   ]
  },
  {
   "cell_type": "code",
   "execution_count": 58,
   "metadata": {},
   "outputs": [
    {
     "ename": "LoadError",
     "evalue": "syntax: extra token \"do\" after end of expression",
     "output_type": "error",
     "traceback": [
      "syntax: extra token \"do\" after end of expression",
      ""
     ]
    }
   ],
   "source": [
    "1:10 do x\n",
    "    2x"
   ]
  },
  {
   "cell_type": "code",
   "execution_count": 68,
   "metadata": {},
   "outputs": [
    {
     "data": {
      "image/svg+xml": [
       "<?xml version=\"1.0\" encoding=\"utf-8\"?>\n",
       "<svg xmlns=\"http://www.w3.org/2000/svg\" xmlns:xlink=\"http://www.w3.org/1999/xlink\" width=\"600\" height=\"400\" viewBox=\"0 0 2400 1600\">\n",
       "<defs>\n",
       "  <clipPath id=\"clip850\">\n",
       "    <rect x=\"0\" y=\"0\" width=\"2400\" height=\"1600\"/>\n",
       "  </clipPath>\n",
       "</defs>\n",
       "<path clip-path=\"url(#clip850)\" d=\"\n",
       "M0 1600 L2400 1600 L2400 0 L0 0  Z\n",
       "  \" fill=\"#ffffff\" fill-rule=\"evenodd\" fill-opacity=\"1\"/>\n",
       "<defs>\n",
       "  <clipPath id=\"clip851\">\n",
       "    <rect x=\"480\" y=\"0\" width=\"1681\" height=\"1600\"/>\n",
       "  </clipPath>\n",
       "</defs>\n",
       "<path clip-path=\"url(#clip850)\" d=\"\n",
       "M112.177 1486.45 L2352.76 1486.45 L2352.76 47.2441 L112.177 47.2441  Z\n",
       "  \" fill=\"#ffffff\" fill-rule=\"evenodd\" fill-opacity=\"1\"/>\n",
       "<defs>\n",
       "  <clipPath id=\"clip852\">\n",
       "    <rect x=\"112\" y=\"47\" width=\"2242\" height=\"1440\"/>\n",
       "  </clipPath>\n",
       "</defs>\n",
       "<polyline clip-path=\"url(#clip852)\" style=\"stroke:#000000; stroke-width:2; stroke-opacity:0.1; fill:none\" points=\"\n",
       "  175.59,1486.45 175.59,47.2441 \n",
       "  \"/>\n",
       "<polyline clip-path=\"url(#clip852)\" style=\"stroke:#000000; stroke-width:2; stroke-opacity:0.1; fill:none\" points=\"\n",
       "  704.028,1486.45 704.028,47.2441 \n",
       "  \"/>\n",
       "<polyline clip-path=\"url(#clip852)\" style=\"stroke:#000000; stroke-width:2; stroke-opacity:0.1; fill:none\" points=\"\n",
       "  1232.47,1486.45 1232.47,47.2441 \n",
       "  \"/>\n",
       "<polyline clip-path=\"url(#clip852)\" style=\"stroke:#000000; stroke-width:2; stroke-opacity:0.1; fill:none\" points=\"\n",
       "  1760.9,1486.45 1760.9,47.2441 \n",
       "  \"/>\n",
       "<polyline clip-path=\"url(#clip852)\" style=\"stroke:#000000; stroke-width:2; stroke-opacity:0.1; fill:none\" points=\"\n",
       "  2289.34,1486.45 2289.34,47.2441 \n",
       "  \"/>\n",
       "<polyline clip-path=\"url(#clip852)\" style=\"stroke:#000000; stroke-width:2; stroke-opacity:0.1; fill:none\" points=\"\n",
       "  112.177,1445.72 2352.76,1445.72 \n",
       "  \"/>\n",
       "<polyline clip-path=\"url(#clip852)\" style=\"stroke:#000000; stroke-width:2; stroke-opacity:0.1; fill:none\" points=\"\n",
       "  112.177,1106.28 2352.76,1106.28 \n",
       "  \"/>\n",
       "<polyline clip-path=\"url(#clip852)\" style=\"stroke:#000000; stroke-width:2; stroke-opacity:0.1; fill:none\" points=\"\n",
       "  112.177,766.846 2352.76,766.846 \n",
       "  \"/>\n",
       "<polyline clip-path=\"url(#clip852)\" style=\"stroke:#000000; stroke-width:2; stroke-opacity:0.1; fill:none\" points=\"\n",
       "  112.177,427.411 2352.76,427.411 \n",
       "  \"/>\n",
       "<polyline clip-path=\"url(#clip852)\" style=\"stroke:#000000; stroke-width:2; stroke-opacity:0.1; fill:none\" points=\"\n",
       "  112.177,87.9763 2352.76,87.9763 \n",
       "  \"/>\n",
       "<polyline clip-path=\"url(#clip850)\" style=\"stroke:#000000; stroke-width:4; stroke-opacity:1; fill:none\" points=\"\n",
       "  112.177,1486.45 2352.76,1486.45 \n",
       "  \"/>\n",
       "<polyline clip-path=\"url(#clip850)\" style=\"stroke:#000000; stroke-width:4; stroke-opacity:1; fill:none\" points=\"\n",
       "  112.177,1486.45 112.177,47.2441 \n",
       "  \"/>\n",
       "<polyline clip-path=\"url(#clip850)\" style=\"stroke:#000000; stroke-width:4; stroke-opacity:1; fill:none\" points=\"\n",
       "  175.59,1486.45 175.59,1469.18 \n",
       "  \"/>\n",
       "<polyline clip-path=\"url(#clip850)\" style=\"stroke:#000000; stroke-width:4; stroke-opacity:1; fill:none\" points=\"\n",
       "  704.028,1486.45 704.028,1469.18 \n",
       "  \"/>\n",
       "<polyline clip-path=\"url(#clip850)\" style=\"stroke:#000000; stroke-width:4; stroke-opacity:1; fill:none\" points=\"\n",
       "  1232.47,1486.45 1232.47,1469.18 \n",
       "  \"/>\n",
       "<polyline clip-path=\"url(#clip850)\" style=\"stroke:#000000; stroke-width:4; stroke-opacity:1; fill:none\" points=\"\n",
       "  1760.9,1486.45 1760.9,1469.18 \n",
       "  \"/>\n",
       "<polyline clip-path=\"url(#clip850)\" style=\"stroke:#000000; stroke-width:4; stroke-opacity:1; fill:none\" points=\"\n",
       "  2289.34,1486.45 2289.34,1469.18 \n",
       "  \"/>\n",
       "<polyline clip-path=\"url(#clip850)\" style=\"stroke:#000000; stroke-width:4; stroke-opacity:1; fill:none\" points=\"\n",
       "  112.177,1445.72 139.064,1445.72 \n",
       "  \"/>\n",
       "<polyline clip-path=\"url(#clip850)\" style=\"stroke:#000000; stroke-width:4; stroke-opacity:1; fill:none\" points=\"\n",
       "  112.177,1106.28 139.064,1106.28 \n",
       "  \"/>\n",
       "<polyline clip-path=\"url(#clip850)\" style=\"stroke:#000000; stroke-width:4; stroke-opacity:1; fill:none\" points=\"\n",
       "  112.177,766.846 139.064,766.846 \n",
       "  \"/>\n",
       "<polyline clip-path=\"url(#clip850)\" style=\"stroke:#000000; stroke-width:4; stroke-opacity:1; fill:none\" points=\"\n",
       "  112.177,427.411 139.064,427.411 \n",
       "  \"/>\n",
       "<polyline clip-path=\"url(#clip850)\" style=\"stroke:#000000; stroke-width:4; stroke-opacity:1; fill:none\" points=\"\n",
       "  112.177,87.9763 139.064,87.9763 \n",
       "  \"/>\n",
       "<path clip-path=\"url(#clip850)\" d=\"M 0 0 M157.106 1508.44 Q153.495 1508.44 151.666 1512 Q149.861 1515.55 149.861 1522.67 Q149.861 1529.78 151.666 1533.35 Q153.495 1536.89 157.106 1536.89 Q160.74 1536.89 162.546 1533.35 Q164.375 1529.78 164.375 1522.67 Q164.375 1515.55 162.546 1512 Q160.74 1508.44 157.106 1508.44 M157.106 1504.73 Q162.916 1504.73 165.972 1509.34 Q169.05 1513.92 169.05 1522.67 Q169.05 1531.4 165.972 1536.01 Q162.916 1540.59 157.106 1540.59 Q151.296 1540.59 148.217 1536.01 Q145.162 1531.4 145.162 1522.67 Q145.162 1513.92 148.217 1509.34 Q151.296 1504.73 157.106 1504.73 Z\" fill=\"#000000\" fill-rule=\"evenodd\" fill-opacity=\"1\" /><path clip-path=\"url(#clip850)\" d=\"M 0 0 M174.12 1534.04 L179.004 1534.04 L179.004 1539.92 L174.12 1539.92 L174.12 1534.04 Z\" fill=\"#000000\" fill-rule=\"evenodd\" fill-opacity=\"1\" /><path clip-path=\"url(#clip850)\" d=\"M 0 0 M194.073 1508.44 Q190.462 1508.44 188.634 1512 Q186.828 1515.55 186.828 1522.67 Q186.828 1529.78 188.634 1533.35 Q190.462 1536.89 194.073 1536.89 Q197.708 1536.89 199.513 1533.35 Q201.342 1529.78 201.342 1522.67 Q201.342 1515.55 199.513 1512 Q197.708 1508.44 194.073 1508.44 M194.073 1504.73 Q199.884 1504.73 202.939 1509.34 Q206.018 1513.92 206.018 1522.67 Q206.018 1531.4 202.939 1536.01 Q199.884 1540.59 194.073 1540.59 Q188.263 1540.59 185.185 1536.01 Q182.129 1531.4 182.129 1522.67 Q182.129 1513.92 185.185 1509.34 Q188.263 1504.73 194.073 1504.73 Z\" fill=\"#000000\" fill-rule=\"evenodd\" fill-opacity=\"1\" /><path clip-path=\"url(#clip850)\" d=\"M 0 0 M686.042 1508.44 Q682.431 1508.44 680.602 1512 Q678.797 1515.55 678.797 1522.67 Q678.797 1529.78 680.602 1533.35 Q682.431 1536.89 686.042 1536.89 Q689.676 1536.89 691.482 1533.35 Q693.311 1529.78 693.311 1522.67 Q693.311 1515.55 691.482 1512 Q689.676 1508.44 686.042 1508.44 M686.042 1504.73 Q691.852 1504.73 694.908 1509.34 Q697.987 1513.92 697.987 1522.67 Q697.987 1531.4 694.908 1536.01 Q691.852 1540.59 686.042 1540.59 Q680.232 1540.59 677.153 1536.01 Q674.098 1531.4 674.098 1522.67 Q674.098 1513.92 677.153 1509.34 Q680.232 1504.73 686.042 1504.73 Z\" fill=\"#000000\" fill-rule=\"evenodd\" fill-opacity=\"1\" /><path clip-path=\"url(#clip850)\" d=\"M 0 0 M703.056 1534.04 L707.94 1534.04 L707.94 1539.92 L703.056 1539.92 L703.056 1534.04 Z\" fill=\"#000000\" fill-rule=\"evenodd\" fill-opacity=\"1\" /><path clip-path=\"url(#clip850)\" d=\"M 0 0 M713.056 1505.36 L731.412 1505.36 L731.412 1509.3 L717.338 1509.3 L717.338 1517.77 Q718.357 1517.42 719.375 1517.26 Q720.394 1517.07 721.412 1517.07 Q727.199 1517.07 730.579 1520.24 Q733.959 1523.42 733.959 1528.83 Q733.959 1534.41 730.486 1537.51 Q727.014 1540.59 720.695 1540.59 Q718.519 1540.59 716.25 1540.22 Q714.005 1539.85 711.598 1539.11 L711.598 1534.41 Q713.681 1535.54 715.903 1536.1 Q718.125 1536.66 720.602 1536.66 Q724.607 1536.66 726.945 1534.55 Q729.283 1532.44 729.283 1528.83 Q729.283 1525.22 726.945 1523.11 Q724.607 1521.01 720.602 1521.01 Q718.727 1521.01 716.852 1521.42 Q715 1521.84 713.056 1522.72 L713.056 1505.36 Z\" fill=\"#000000\" fill-rule=\"evenodd\" fill-opacity=\"1\" /><path clip-path=\"url(#clip850)\" d=\"M 0 0 M1204.36 1535.98 L1212 1535.98 L1212 1509.62 L1203.69 1511.29 L1203.69 1507.03 L1211.96 1505.36 L1216.63 1505.36 L1216.63 1535.98 L1224.27 1535.98 L1224.27 1539.92 L1204.36 1539.92 L1204.36 1535.98 Z\" fill=\"#000000\" fill-rule=\"evenodd\" fill-opacity=\"1\" /><path clip-path=\"url(#clip850)\" d=\"M 0 0 M1229.34 1534.04 L1234.23 1534.04 L1234.23 1539.92 L1229.34 1539.92 L1229.34 1534.04 Z\" fill=\"#000000\" fill-rule=\"evenodd\" fill-opacity=\"1\" /><path clip-path=\"url(#clip850)\" d=\"M 0 0 M1249.3 1508.44 Q1245.68 1508.44 1243.86 1512 Q1242.05 1515.55 1242.05 1522.67 Q1242.05 1529.78 1243.86 1533.35 Q1245.68 1536.89 1249.3 1536.89 Q1252.93 1536.89 1254.73 1533.35 Q1256.56 1529.78 1256.56 1522.67 Q1256.56 1515.55 1254.73 1512 Q1252.93 1508.44 1249.3 1508.44 M1249.3 1504.73 Q1255.11 1504.73 1258.16 1509.34 Q1261.24 1513.92 1261.24 1522.67 Q1261.24 1531.4 1258.16 1536.01 Q1255.11 1540.59 1249.3 1540.59 Q1243.49 1540.59 1240.41 1536.01 Q1237.35 1531.4 1237.35 1522.67 Q1237.35 1513.92 1240.41 1509.34 Q1243.49 1504.73 1249.3 1504.73 Z\" fill=\"#000000\" fill-rule=\"evenodd\" fill-opacity=\"1\" /><path clip-path=\"url(#clip850)\" d=\"M 0 0 M1733.3 1535.98 L1740.94 1535.98 L1740.94 1509.62 L1732.63 1511.29 L1732.63 1507.03 L1740.89 1505.36 L1745.57 1505.36 L1745.57 1535.98 L1753.21 1535.98 L1753.21 1539.92 L1733.3 1539.92 L1733.3 1535.98 Z\" fill=\"#000000\" fill-rule=\"evenodd\" fill-opacity=\"1\" /><path clip-path=\"url(#clip850)\" d=\"M 0 0 M1758.28 1534.04 L1763.16 1534.04 L1763.16 1539.92 L1758.28 1539.92 L1758.28 1534.04 Z\" fill=\"#000000\" fill-rule=\"evenodd\" fill-opacity=\"1\" /><path clip-path=\"url(#clip850)\" d=\"M 0 0 M1768.28 1505.36 L1786.63 1505.36 L1786.63 1509.3 L1772.56 1509.3 L1772.56 1517.77 Q1773.58 1517.42 1774.6 1517.26 Q1775.62 1517.07 1776.63 1517.07 Q1782.42 1517.07 1785.8 1520.24 Q1789.18 1523.42 1789.18 1528.83 Q1789.18 1534.41 1785.71 1537.51 Q1782.24 1540.59 1775.92 1540.59 Q1773.74 1540.59 1771.47 1540.22 Q1769.23 1539.85 1766.82 1539.11 L1766.82 1534.41 Q1768.9 1535.54 1771.12 1536.1 Q1773.35 1536.66 1775.82 1536.66 Q1779.83 1536.66 1782.17 1534.55 Q1784.5 1532.44 1784.5 1528.83 Q1784.5 1525.22 1782.17 1523.11 Q1779.83 1521.01 1775.82 1521.01 Q1773.95 1521.01 1772.07 1521.42 Q1770.22 1521.84 1768.28 1522.72 L1768.28 1505.36 Z\" fill=\"#000000\" fill-rule=\"evenodd\" fill-opacity=\"1\" /><path clip-path=\"url(#clip850)\" d=\"M 0 0 M2265.51 1535.98 L2281.83 1535.98 L2281.83 1539.92 L2259.89 1539.92 L2259.89 1535.98 Q2262.55 1533.23 2267.13 1528.6 Q2271.74 1523.95 2272.92 1522.61 Q2275.17 1520.08 2276.04 1518.35 Q2276.95 1516.59 2276.95 1514.9 Q2276.95 1512.14 2275 1510.41 Q2273.08 1508.67 2269.98 1508.67 Q2267.78 1508.67 2265.33 1509.43 Q2262.9 1510.2 2260.12 1511.75 L2260.12 1507.03 Q2262.94 1505.89 2265.4 1505.31 Q2267.85 1504.73 2269.89 1504.73 Q2275.26 1504.73 2278.45 1507.42 Q2281.65 1510.11 2281.65 1514.6 Q2281.65 1516.73 2280.84 1518.65 Q2280.05 1520.54 2277.94 1523.14 Q2277.36 1523.81 2274.26 1527.03 Q2271.16 1530.22 2265.51 1535.98 Z\" fill=\"#000000\" fill-rule=\"evenodd\" fill-opacity=\"1\" /><path clip-path=\"url(#clip850)\" d=\"M 0 0 M2286.9 1534.04 L2291.79 1534.04 L2291.79 1539.92 L2286.9 1539.92 L2286.9 1534.04 Z\" fill=\"#000000\" fill-rule=\"evenodd\" fill-opacity=\"1\" /><path clip-path=\"url(#clip850)\" d=\"M 0 0 M2306.85 1508.44 Q2303.24 1508.44 2301.41 1512 Q2299.61 1515.55 2299.61 1522.67 Q2299.61 1529.78 2301.41 1533.35 Q2303.24 1536.89 2306.85 1536.89 Q2310.49 1536.89 2312.29 1533.35 Q2314.12 1529.78 2314.12 1522.67 Q2314.12 1515.55 2312.29 1512 Q2310.49 1508.44 2306.85 1508.44 M2306.85 1504.73 Q2312.66 1504.73 2315.72 1509.34 Q2318.8 1513.92 2318.8 1522.67 Q2318.8 1531.4 2315.72 1536.01 Q2312.66 1540.59 2306.85 1540.59 Q2301.04 1540.59 2297.97 1536.01 Q2294.91 1531.4 2294.91 1522.67 Q2294.91 1513.92 2297.97 1509.34 Q2301.04 1504.73 2306.85 1504.73 Z\" fill=\"#000000\" fill-rule=\"evenodd\" fill-opacity=\"1\" /><path clip-path=\"url(#clip850)\" d=\"M 0 0 M76.2328 1431.51 Q72.6217 1431.51 70.793 1435.08 Q68.9875 1438.62 68.9875 1445.75 Q68.9875 1452.86 70.793 1456.42 Q72.6217 1459.96 76.2328 1459.96 Q79.867 1459.96 81.6726 1456.42 Q83.5013 1452.86 83.5013 1445.75 Q83.5013 1438.62 81.6726 1435.08 Q79.867 1431.51 76.2328 1431.51 M76.2328 1427.81 Q82.0429 1427.81 85.0985 1432.42 Q88.1772 1437 88.1772 1445.75 Q88.1772 1454.48 85.0985 1459.08 Q82.0429 1463.67 76.2328 1463.67 Q70.4226 1463.67 67.344 1459.08 Q64.2884 1454.48 64.2884 1445.75 Q64.2884 1437 67.344 1432.42 Q70.4226 1427.81 76.2328 1427.81 Z\" fill=\"#000000\" fill-rule=\"evenodd\" fill-opacity=\"1\" /><path clip-path=\"url(#clip850)\" d=\"M 0 0 M68.2699 1119.63 L75.9087 1119.63 L75.9087 1093.26 L67.5986 1094.93 L67.5986 1090.67 L75.8624 1089 L80.5383 1089 L80.5383 1119.63 L88.1772 1119.63 L88.1772 1123.56 L68.2699 1123.56 L68.2699 1119.63 Z\" fill=\"#000000\" fill-rule=\"evenodd\" fill-opacity=\"1\" /><path clip-path=\"url(#clip850)\" d=\"M 0 0 M71.8578 780.191 L88.1772 780.191 L88.1772 784.126 L66.2328 784.126 L66.2328 780.191 Q68.8949 777.436 73.4782 772.807 Q78.0846 768.154 79.2652 766.811 Q81.5105 764.288 82.3902 762.552 Q83.2929 760.793 83.2929 759.103 Q83.2929 756.348 81.3485 754.612 Q79.4272 752.876 76.3254 752.876 Q74.1263 752.876 71.6726 753.64 Q69.2421 754.404 66.4643 755.955 L66.4643 751.233 Q69.2884 750.098 71.7421 749.52 Q74.1958 748.941 76.2328 748.941 Q81.6031 748.941 84.7976 751.626 Q87.992 754.311 87.992 758.802 Q87.992 760.932 87.1818 762.853 Q86.3948 764.751 84.2883 767.344 Q83.7096 768.015 80.6078 771.233 Q77.5059 774.427 71.8578 780.191 Z\" fill=\"#000000\" fill-rule=\"evenodd\" fill-opacity=\"1\" /><path clip-path=\"url(#clip850)\" d=\"M 0 0 M81.0476 426.057 Q84.404 426.775 86.279 429.043 Q88.1772 431.312 88.1772 434.645 Q88.1772 439.761 84.6587 442.562 Q81.1402 445.362 74.6587 445.362 Q72.4828 445.362 70.168 444.923 Q67.8764 444.506 65.4227 443.649 L65.4227 439.136 Q67.3671 440.27 69.6819 440.849 Q71.9967 441.427 74.5198 441.427 Q78.918 441.427 81.2096 439.691 Q83.5244 437.955 83.5244 434.645 Q83.5244 431.589 81.3717 429.876 Q79.242 428.14 75.4226 428.14 L71.3949 428.14 L71.3949 424.298 L75.6078 424.298 Q79.0569 424.298 80.8855 422.932 Q82.7142 421.543 82.7142 418.951 Q82.7142 416.289 80.8161 414.876 Q78.9411 413.441 75.4226 413.441 Q73.5013 413.441 71.3023 413.858 Q69.1032 414.275 66.4643 415.154 L66.4643 410.988 Q69.1264 410.247 71.4412 409.877 Q73.7791 409.506 75.8393 409.506 Q81.1633 409.506 84.2652 411.937 Q87.367 414.344 87.367 418.464 Q87.367 421.335 85.7235 423.326 Q84.08 425.293 81.0476 426.057 Z\" fill=\"#000000\" fill-rule=\"evenodd\" fill-opacity=\"1\" /><path clip-path=\"url(#clip850)\" d=\"M 0 0 M78.5939 74.7703 L66.7884 93.2193 L78.5939 93.2193 L78.5939 74.7703 M77.367 70.6963 L83.2466 70.6963 L83.2466 93.2193 L88.1772 93.2193 L88.1772 97.1082 L83.2466 97.1082 L83.2466 105.256 L78.5939 105.256 L78.5939 97.1082 L62.9921 97.1082 L62.9921 92.5943 L77.367 70.6963 Z\" fill=\"#000000\" fill-rule=\"evenodd\" fill-opacity=\"1\" /><polyline clip-path=\"url(#clip852)\" style=\"stroke:#009af9; stroke-width:4; stroke-opacity:1; fill:none\" points=\"\n",
       "  175.59,1445.72 286.84,1441.95 398.09,1430.67 509.34,1411.87 620.591,1385.54 731.841,1351.69 843.091,1310.32 954.341,1261.42 1065.59,1205.01 1176.84,1141.07 \n",
       "  1288.09,1069.61 1399.34,990.629 1510.59,904.124 1621.84,810.098 1733.09,708.55 1844.34,599.479 1955.59,482.887 2066.84,358.772 2178.09,227.135 2289.34,87.9763 \n",
       "  \n",
       "  \"/>\n",
       "<path clip-path=\"url(#clip850)\" d=\"\n",
       "M1989.74 251.724 L2280.76 251.724 L2280.76 130.764 L1989.74 130.764  Z\n",
       "  \" fill=\"#ffffff\" fill-rule=\"evenodd\" fill-opacity=\"1\"/>\n",
       "<polyline clip-path=\"url(#clip850)\" style=\"stroke:#000000; stroke-width:4; stroke-opacity:1; fill:none\" points=\"\n",
       "  1989.74,251.724 2280.76,251.724 2280.76,130.764 1989.74,130.764 1989.74,251.724 \n",
       "  \"/>\n",
       "<polyline clip-path=\"url(#clip850)\" style=\"stroke:#009af9; stroke-width:4; stroke-opacity:1; fill:none\" points=\"\n",
       "  2013.74,191.244 2157.74,191.244 \n",
       "  \"/>\n",
       "<path clip-path=\"url(#clip850)\" d=\"M 0 0 M2195.58 210.931 Q2193.77 215.561 2192.06 216.973 Q2190.35 218.385 2187.48 218.385 L2184.08 218.385 L2184.08 214.82 L2186.58 214.82 Q2188.33 214.82 2189.31 213.987 Q2190.28 213.154 2191.46 210.052 L2192.22 208.107 L2181.74 182.598 L2186.25 182.598 L2194.35 202.876 L2202.46 182.598 L2206.97 182.598 L2195.58 210.931 Z\" fill=\"#000000\" fill-rule=\"evenodd\" fill-opacity=\"1\" /><path clip-path=\"url(#clip850)\" d=\"M 0 0 M2212.85 204.589 L2220.49 204.589 L2220.49 178.223 L2212.18 179.89 L2212.18 175.631 L2220.44 173.964 L2225.12 173.964 L2225.12 204.589 L2232.76 204.589 L2232.76 208.524 L2212.85 208.524 L2212.85 204.589 Z\" fill=\"#000000\" fill-rule=\"evenodd\" fill-opacity=\"1\" /></svg>\n"
      ]
     },
     "execution_count": 68,
     "metadata": {},
     "output_type": "execute_result"
    }
   ],
   "source": [
    "plot( LinRange(0,2,20), map(x->x^2, LinRange(0,2,20)))"
   ]
  },
  {
   "cell_type": "code",
   "execution_count": 64,
   "metadata": {},
   "outputs": [
    {
     "ename": "UndefVarError",
     "evalue": "UndefVarError: x not defined",
     "output_type": "error",
     "traceback": [
      "UndefVarError: x not defined",
      "",
      "Stacktrace:",
      " [1] top-level scope at In[64]:1"
     ]
    }
   ],
   "source": [
    "[x in 1:10]"
   ]
  },
  {
   "cell_type": "code",
   "execution_count": 5,
   "metadata": {},
   "outputs": [
    {
     "data": {
      "text/html": [
       "<table class=\"data-frame\"><thead><tr><th></th><th>SepalLength</th><th>SepalWidth</th><th>PetalLength</th><th>PetalWidth</th><th>Species</th></tr><tr><th></th><th>Float64</th><th>Float64</th><th>Float64</th><th>Float64</th><th>Cat…</th></tr></thead><tbody><p>150 rows × 5 columns</p><tr><th>1</th><td>5.1</td><td>3.5</td><td>1.4</td><td>0.2</td><td>setosa</td></tr><tr><th>2</th><td>4.9</td><td>3.0</td><td>1.4</td><td>0.2</td><td>setosa</td></tr><tr><th>3</th><td>4.7</td><td>3.2</td><td>1.3</td><td>0.2</td><td>setosa</td></tr><tr><th>4</th><td>4.6</td><td>3.1</td><td>1.5</td><td>0.2</td><td>setosa</td></tr><tr><th>5</th><td>5.0</td><td>3.6</td><td>1.4</td><td>0.2</td><td>setosa</td></tr><tr><th>6</th><td>5.4</td><td>3.9</td><td>1.7</td><td>0.4</td><td>setosa</td></tr><tr><th>7</th><td>4.6</td><td>3.4</td><td>1.4</td><td>0.3</td><td>setosa</td></tr><tr><th>8</th><td>5.0</td><td>3.4</td><td>1.5</td><td>0.2</td><td>setosa</td></tr><tr><th>9</th><td>4.4</td><td>2.9</td><td>1.4</td><td>0.2</td><td>setosa</td></tr><tr><th>10</th><td>4.9</td><td>3.1</td><td>1.5</td><td>0.1</td><td>setosa</td></tr><tr><th>11</th><td>5.4</td><td>3.7</td><td>1.5</td><td>0.2</td><td>setosa</td></tr><tr><th>12</th><td>4.8</td><td>3.4</td><td>1.6</td><td>0.2</td><td>setosa</td></tr><tr><th>13</th><td>4.8</td><td>3.0</td><td>1.4</td><td>0.1</td><td>setosa</td></tr><tr><th>14</th><td>4.3</td><td>3.0</td><td>1.1</td><td>0.1</td><td>setosa</td></tr><tr><th>15</th><td>5.8</td><td>4.0</td><td>1.2</td><td>0.2</td><td>setosa</td></tr><tr><th>16</th><td>5.7</td><td>4.4</td><td>1.5</td><td>0.4</td><td>setosa</td></tr><tr><th>17</th><td>5.4</td><td>3.9</td><td>1.3</td><td>0.4</td><td>setosa</td></tr><tr><th>18</th><td>5.1</td><td>3.5</td><td>1.4</td><td>0.3</td><td>setosa</td></tr><tr><th>19</th><td>5.7</td><td>3.8</td><td>1.7</td><td>0.3</td><td>setosa</td></tr><tr><th>20</th><td>5.1</td><td>3.8</td><td>1.5</td><td>0.3</td><td>setosa</td></tr><tr><th>21</th><td>5.4</td><td>3.4</td><td>1.7</td><td>0.2</td><td>setosa</td></tr><tr><th>22</th><td>5.1</td><td>3.7</td><td>1.5</td><td>0.4</td><td>setosa</td></tr><tr><th>23</th><td>4.6</td><td>3.6</td><td>1.0</td><td>0.2</td><td>setosa</td></tr><tr><th>24</th><td>5.1</td><td>3.3</td><td>1.7</td><td>0.5</td><td>setosa</td></tr><tr><th>25</th><td>4.8</td><td>3.4</td><td>1.9</td><td>0.2</td><td>setosa</td></tr><tr><th>26</th><td>5.0</td><td>3.0</td><td>1.6</td><td>0.2</td><td>setosa</td></tr><tr><th>27</th><td>5.0</td><td>3.4</td><td>1.6</td><td>0.4</td><td>setosa</td></tr><tr><th>28</th><td>5.2</td><td>3.5</td><td>1.5</td><td>0.2</td><td>setosa</td></tr><tr><th>29</th><td>5.2</td><td>3.4</td><td>1.4</td><td>0.2</td><td>setosa</td></tr><tr><th>30</th><td>4.7</td><td>3.2</td><td>1.6</td><td>0.2</td><td>setosa</td></tr><tr><th>&vellip;</th><td>&vellip;</td><td>&vellip;</td><td>&vellip;</td><td>&vellip;</td><td>&vellip;</td></tr></tbody></table>"
      ],
      "text/latex": [
       "\\begin{tabular}{r|ccccc}\n",
       "\t& SepalLength & SepalWidth & PetalLength & PetalWidth & Species\\\\\n",
       "\t\\hline\n",
       "\t& Float64 & Float64 & Float64 & Float64 & Cat…\\\\\n",
       "\t\\hline\n",
       "\t1 & 5.1 & 3.5 & 1.4 & 0.2 & setosa \\\\\n",
       "\t2 & 4.9 & 3.0 & 1.4 & 0.2 & setosa \\\\\n",
       "\t3 & 4.7 & 3.2 & 1.3 & 0.2 & setosa \\\\\n",
       "\t4 & 4.6 & 3.1 & 1.5 & 0.2 & setosa \\\\\n",
       "\t5 & 5.0 & 3.6 & 1.4 & 0.2 & setosa \\\\\n",
       "\t6 & 5.4 & 3.9 & 1.7 & 0.4 & setosa \\\\\n",
       "\t7 & 4.6 & 3.4 & 1.4 & 0.3 & setosa \\\\\n",
       "\t8 & 5.0 & 3.4 & 1.5 & 0.2 & setosa \\\\\n",
       "\t9 & 4.4 & 2.9 & 1.4 & 0.2 & setosa \\\\\n",
       "\t10 & 4.9 & 3.1 & 1.5 & 0.1 & setosa \\\\\n",
       "\t11 & 5.4 & 3.7 & 1.5 & 0.2 & setosa \\\\\n",
       "\t12 & 4.8 & 3.4 & 1.6 & 0.2 & setosa \\\\\n",
       "\t13 & 4.8 & 3.0 & 1.4 & 0.1 & setosa \\\\\n",
       "\t14 & 4.3 & 3.0 & 1.1 & 0.1 & setosa \\\\\n",
       "\t15 & 5.8 & 4.0 & 1.2 & 0.2 & setosa \\\\\n",
       "\t16 & 5.7 & 4.4 & 1.5 & 0.4 & setosa \\\\\n",
       "\t17 & 5.4 & 3.9 & 1.3 & 0.4 & setosa \\\\\n",
       "\t18 & 5.1 & 3.5 & 1.4 & 0.3 & setosa \\\\\n",
       "\t19 & 5.7 & 3.8 & 1.7 & 0.3 & setosa \\\\\n",
       "\t20 & 5.1 & 3.8 & 1.5 & 0.3 & setosa \\\\\n",
       "\t21 & 5.4 & 3.4 & 1.7 & 0.2 & setosa \\\\\n",
       "\t22 & 5.1 & 3.7 & 1.5 & 0.4 & setosa \\\\\n",
       "\t23 & 4.6 & 3.6 & 1.0 & 0.2 & setosa \\\\\n",
       "\t24 & 5.1 & 3.3 & 1.7 & 0.5 & setosa \\\\\n",
       "\t25 & 4.8 & 3.4 & 1.9 & 0.2 & setosa \\\\\n",
       "\t26 & 5.0 & 3.0 & 1.6 & 0.2 & setosa \\\\\n",
       "\t27 & 5.0 & 3.4 & 1.6 & 0.4 & setosa \\\\\n",
       "\t28 & 5.2 & 3.5 & 1.5 & 0.2 & setosa \\\\\n",
       "\t29 & 5.2 & 3.4 & 1.4 & 0.2 & setosa \\\\\n",
       "\t30 & 4.7 & 3.2 & 1.6 & 0.2 & setosa \\\\\n",
       "\t$\\dots$ & $\\dots$ & $\\dots$ & $\\dots$ & $\\dots$ & $\\dots$ \\\\\n",
       "\\end{tabular}\n"
      ],
      "text/plain": [
       "150×5 DataFrame\n",
       "│ Row │ SepalLength │ SepalWidth │ PetalLength │ PetalWidth │ Species   │\n",
       "│     │ \u001b[90mFloat64\u001b[39m     │ \u001b[90mFloat64\u001b[39m    │ \u001b[90mFloat64\u001b[39m     │ \u001b[90mFloat64\u001b[39m    │ \u001b[90mCat…\u001b[39m      │\n",
       "├─────┼─────────────┼────────────┼─────────────┼────────────┼───────────┤\n",
       "│ 1   │ 5.1         │ 3.5        │ 1.4         │ 0.2        │ setosa    │\n",
       "│ 2   │ 4.9         │ 3.0        │ 1.4         │ 0.2        │ setosa    │\n",
       "│ 3   │ 4.7         │ 3.2        │ 1.3         │ 0.2        │ setosa    │\n",
       "│ 4   │ 4.6         │ 3.1        │ 1.5         │ 0.2        │ setosa    │\n",
       "│ 5   │ 5.0         │ 3.6        │ 1.4         │ 0.2        │ setosa    │\n",
       "│ 6   │ 5.4         │ 3.9        │ 1.7         │ 0.4        │ setosa    │\n",
       "│ 7   │ 4.6         │ 3.4        │ 1.4         │ 0.3        │ setosa    │\n",
       "│ 8   │ 5.0         │ 3.4        │ 1.5         │ 0.2        │ setosa    │\n",
       "│ 9   │ 4.4         │ 2.9        │ 1.4         │ 0.2        │ setosa    │\n",
       "│ 10  │ 4.9         │ 3.1        │ 1.5         │ 0.1        │ setosa    │\n",
       "⋮\n",
       "│ 140 │ 6.9         │ 3.1        │ 5.4         │ 2.1        │ virginica │\n",
       "│ 141 │ 6.7         │ 3.1        │ 5.6         │ 2.4        │ virginica │\n",
       "│ 142 │ 6.9         │ 3.1        │ 5.1         │ 2.3        │ virginica │\n",
       "│ 143 │ 5.8         │ 2.7        │ 5.1         │ 1.9        │ virginica │\n",
       "│ 144 │ 6.8         │ 3.2        │ 5.9         │ 2.3        │ virginica │\n",
       "│ 145 │ 6.7         │ 3.3        │ 5.7         │ 2.5        │ virginica │\n",
       "│ 146 │ 6.7         │ 3.0        │ 5.2         │ 2.3        │ virginica │\n",
       "│ 147 │ 6.3         │ 2.5        │ 5.0         │ 1.9        │ virginica │\n",
       "│ 148 │ 6.5         │ 3.0        │ 5.2         │ 2.0        │ virginica │\n",
       "│ 149 │ 6.2         │ 3.4        │ 5.4         │ 2.3        │ virginica │\n",
       "│ 150 │ 5.9         │ 3.0        │ 5.1         │ 1.8        │ virginica │"
      ]
     },
     "execution_count": 5,
     "metadata": {},
     "output_type": "execute_result"
    }
   ],
   "source": [
    "using RDatasets\n",
    "\n",
    "iris = dataset(\"datasets\", \"iris\")"
   ]
  },
  {
   "cell_type": "code",
   "execution_count": 7,
   "metadata": {},
   "outputs": [],
   "source": [
    "sepals = iris[!, [:SepalLength, :SepalWidth]];"
   ]
  },
  {
   "cell_type": "code",
   "execution_count": 80,
   "metadata": {},
   "outputs": [
    {
     "data": {
      "text/plain": [
       "DataFrame"
      ]
     },
     "execution_count": 80,
     "metadata": {},
     "output_type": "execute_result"
    }
   ],
   "source": [
    "typeof(sepals)"
   ]
  },
  {
   "cell_type": "code",
   "execution_count": 85,
   "metadata": {},
   "outputs": [
    {
     "data": {
      "image/svg+xml": [
       "<?xml version=\"1.0\" encoding=\"utf-8\"?>\n",
       "<svg xmlns=\"http://www.w3.org/2000/svg\" xmlns:xlink=\"http://www.w3.org/1999/xlink\" width=\"600\" height=\"400\" viewBox=\"0 0 2400 1600\">\n",
       "<defs>\n",
       "  <clipPath id=\"clip930\">\n",
       "    <rect x=\"0\" y=\"0\" width=\"2400\" height=\"1600\"/>\n",
       "  </clipPath>\n",
       "</defs>\n",
       "<path clip-path=\"url(#clip930)\" d=\"\n",
       "M0 1600 L2400 1600 L2400 0 L0 0  Z\n",
       "  \" fill=\"#ffffff\" fill-rule=\"evenodd\" fill-opacity=\"1\"/>\n",
       "<defs>\n",
       "  <clipPath id=\"clip931\">\n",
       "    <rect x=\"480\" y=\"0\" width=\"1681\" height=\"1600\"/>\n",
       "  </clipPath>\n",
       "</defs>\n",
       "<path clip-path=\"url(#clip930)\" d=\"\n",
       "M149.145 1486.45 L2352.76 1486.45 L2352.76 47.2441 L149.145 47.2441  Z\n",
       "  \" fill=\"#ffffff\" fill-rule=\"evenodd\" fill-opacity=\"1\"/>\n",
       "<defs>\n",
       "  <clipPath id=\"clip932\">\n",
       "    <rect x=\"149\" y=\"47\" width=\"2205\" height=\"1440\"/>\n",
       "  </clipPath>\n",
       "</defs>\n",
       "<polyline clip-path=\"url(#clip932)\" style=\"stroke:#000000; stroke-width:2; stroke-opacity:0.1; fill:none\" points=\"\n",
       "  615.737,1486.45 615.737,47.2441 \n",
       "  \"/>\n",
       "<polyline clip-path=\"url(#clip932)\" style=\"stroke:#000000; stroke-width:2; stroke-opacity:0.1; fill:none\" points=\"\n",
       "  1193.2,1486.45 1193.2,47.2441 \n",
       "  \"/>\n",
       "<polyline clip-path=\"url(#clip932)\" style=\"stroke:#000000; stroke-width:2; stroke-opacity:0.1; fill:none\" points=\"\n",
       "  1770.67,1486.45 1770.67,47.2441 \n",
       "  \"/>\n",
       "<polyline clip-path=\"url(#clip932)\" style=\"stroke:#000000; stroke-width:2; stroke-opacity:0.1; fill:none\" points=\"\n",
       "  2348.14,1486.45 2348.14,47.2441 \n",
       "  \"/>\n",
       "<polyline clip-path=\"url(#clip932)\" style=\"stroke:#000000; stroke-width:2; stroke-opacity:0.1; fill:none\" points=\"\n",
       "  149.145,1445.72 2352.76,1445.72 \n",
       "  \"/>\n",
       "<polyline clip-path=\"url(#clip932)\" style=\"stroke:#000000; stroke-width:2; stroke-opacity:0.1; fill:none\" points=\"\n",
       "  149.145,1162.85 2352.76,1162.85 \n",
       "  \"/>\n",
       "<polyline clip-path=\"url(#clip932)\" style=\"stroke:#000000; stroke-width:2; stroke-opacity:0.1; fill:none\" points=\"\n",
       "  149.145,879.991 2352.76,879.991 \n",
       "  \"/>\n",
       "<polyline clip-path=\"url(#clip932)\" style=\"stroke:#000000; stroke-width:2; stroke-opacity:0.1; fill:none\" points=\"\n",
       "  149.145,597.129 2352.76,597.129 \n",
       "  \"/>\n",
       "<polyline clip-path=\"url(#clip932)\" style=\"stroke:#000000; stroke-width:2; stroke-opacity:0.1; fill:none\" points=\"\n",
       "  149.145,314.266 2352.76,314.266 \n",
       "  \"/>\n",
       "<polyline clip-path=\"url(#clip930)\" style=\"stroke:#000000; stroke-width:4; stroke-opacity:1; fill:none\" points=\"\n",
       "  149.145,1486.45 2352.76,1486.45 \n",
       "  \"/>\n",
       "<polyline clip-path=\"url(#clip930)\" style=\"stroke:#000000; stroke-width:4; stroke-opacity:1; fill:none\" points=\"\n",
       "  149.145,1486.45 149.145,47.2441 \n",
       "  \"/>\n",
       "<polyline clip-path=\"url(#clip930)\" style=\"stroke:#000000; stroke-width:4; stroke-opacity:1; fill:none\" points=\"\n",
       "  615.737,1486.45 615.737,1469.18 \n",
       "  \"/>\n",
       "<polyline clip-path=\"url(#clip930)\" style=\"stroke:#000000; stroke-width:4; stroke-opacity:1; fill:none\" points=\"\n",
       "  1193.2,1486.45 1193.2,1469.18 \n",
       "  \"/>\n",
       "<polyline clip-path=\"url(#clip930)\" style=\"stroke:#000000; stroke-width:4; stroke-opacity:1; fill:none\" points=\"\n",
       "  1770.67,1486.45 1770.67,1469.18 \n",
       "  \"/>\n",
       "<polyline clip-path=\"url(#clip930)\" style=\"stroke:#000000; stroke-width:4; stroke-opacity:1; fill:none\" points=\"\n",
       "  2348.14,1486.45 2348.14,1469.18 \n",
       "  \"/>\n",
       "<polyline clip-path=\"url(#clip930)\" style=\"stroke:#000000; stroke-width:4; stroke-opacity:1; fill:none\" points=\"\n",
       "  149.145,1445.72 175.588,1445.72 \n",
       "  \"/>\n",
       "<polyline clip-path=\"url(#clip930)\" style=\"stroke:#000000; stroke-width:4; stroke-opacity:1; fill:none\" points=\"\n",
       "  149.145,1162.85 175.588,1162.85 \n",
       "  \"/>\n",
       "<polyline clip-path=\"url(#clip930)\" style=\"stroke:#000000; stroke-width:4; stroke-opacity:1; fill:none\" points=\"\n",
       "  149.145,879.991 175.588,879.991 \n",
       "  \"/>\n",
       "<polyline clip-path=\"url(#clip930)\" style=\"stroke:#000000; stroke-width:4; stroke-opacity:1; fill:none\" points=\"\n",
       "  149.145,597.129 175.588,597.129 \n",
       "  \"/>\n",
       "<polyline clip-path=\"url(#clip930)\" style=\"stroke:#000000; stroke-width:4; stroke-opacity:1; fill:none\" points=\"\n",
       "  149.145,314.266 175.588,314.266 \n",
       "  \"/>\n",
       "<path clip-path=\"url(#clip930)\" d=\"M 0 0 M606.015 1505.36 L624.372 1505.36 L624.372 1509.3 L610.298 1509.3 L610.298 1517.77 Q611.316 1517.42 612.335 1517.26 Q613.353 1517.07 614.372 1517.07 Q620.159 1517.07 623.538 1520.24 Q626.918 1523.42 626.918 1528.83 Q626.918 1534.41 623.446 1537.51 Q619.973 1540.59 613.654 1540.59 Q611.478 1540.59 609.21 1540.22 Q606.964 1539.85 604.557 1539.11 L604.557 1534.41 Q606.64 1535.54 608.862 1536.1 Q611.085 1536.66 613.561 1536.66 Q617.566 1536.66 619.904 1534.55 Q622.242 1532.44 622.242 1528.83 Q622.242 1525.22 619.904 1523.11 Q617.566 1521.01 613.561 1521.01 Q611.686 1521.01 609.811 1521.42 Q607.96 1521.84 606.015 1522.72 L606.015 1505.36 Z\" fill=\"#000000\" fill-rule=\"evenodd\" fill-opacity=\"1\" /><path clip-path=\"url(#clip930)\" d=\"M 0 0 M1193.61 1520.78 Q1190.46 1520.78 1188.61 1522.93 Q1186.78 1525.08 1186.78 1528.83 Q1186.78 1532.56 1188.61 1534.73 Q1190.46 1536.89 1193.61 1536.89 Q1196.76 1536.89 1198.59 1534.73 Q1200.44 1532.56 1200.44 1528.83 Q1200.44 1525.08 1198.59 1522.93 Q1196.76 1520.78 1193.61 1520.78 M1202.89 1506.12 L1202.89 1510.38 Q1201.13 1509.55 1199.33 1509.11 Q1197.54 1508.67 1195.78 1508.67 Q1191.16 1508.67 1188.7 1511.8 Q1186.27 1514.92 1185.92 1521.24 Q1187.29 1519.23 1189.35 1518.16 Q1191.41 1517.07 1193.89 1517.07 Q1199.09 1517.07 1202.1 1520.24 Q1205.14 1523.39 1205.14 1528.83 Q1205.14 1534.16 1201.99 1537.37 Q1198.84 1540.59 1193.61 1540.59 Q1187.61 1540.59 1184.44 1536.01 Q1181.27 1531.4 1181.27 1522.67 Q1181.27 1514.48 1185.16 1509.62 Q1189.05 1504.73 1195.6 1504.73 Q1197.36 1504.73 1199.14 1505.08 Q1200.95 1505.43 1202.89 1506.12 Z\" fill=\"#000000\" fill-rule=\"evenodd\" fill-opacity=\"1\" /><path clip-path=\"url(#clip930)\" d=\"M 0 0 M1759.56 1505.36 L1781.78 1505.36 L1781.78 1507.35 L1769.23 1539.92 L1764.35 1539.92 L1776.16 1509.3 L1759.56 1509.3 L1759.56 1505.36 Z\" fill=\"#000000\" fill-rule=\"evenodd\" fill-opacity=\"1\" /><path clip-path=\"url(#clip930)\" d=\"M 0 0 M2348.14 1523.51 Q2344.8 1523.51 2342.88 1525.29 Q2340.98 1527.07 2340.98 1530.2 Q2340.98 1533.32 2342.88 1535.11 Q2344.8 1536.89 2348.14 1536.89 Q2351.47 1536.89 2353.39 1535.11 Q2355.31 1533.3 2355.31 1530.2 Q2355.31 1527.07 2353.39 1525.29 Q2351.49 1523.51 2348.14 1523.51 M2343.46 1521.52 Q2340.45 1520.78 2338.76 1518.72 Q2337.09 1516.66 2337.09 1513.69 Q2337.09 1509.55 2340.03 1507.14 Q2343 1504.73 2348.14 1504.73 Q2353.3 1504.73 2356.24 1507.14 Q2359.18 1509.55 2359.18 1513.69 Q2359.18 1516.66 2357.49 1518.72 Q2355.82 1520.78 2352.84 1521.52 Q2356.21 1522.3 2358.09 1524.6 Q2359.99 1526.89 2359.99 1530.2 Q2359.99 1535.22 2356.91 1537.91 Q2353.85 1540.59 2348.14 1540.59 Q2342.42 1540.59 2339.34 1537.91 Q2336.28 1535.22 2336.28 1530.2 Q2336.28 1526.89 2338.18 1524.6 Q2340.08 1522.3 2343.46 1521.52 M2341.75 1514.13 Q2341.75 1516.82 2343.41 1518.32 Q2345.1 1519.83 2348.14 1519.83 Q2351.15 1519.83 2352.84 1518.32 Q2354.55 1516.82 2354.55 1514.13 Q2354.55 1511.45 2352.84 1509.94 Q2351.15 1508.44 2348.14 1508.44 Q2345.1 1508.44 2343.41 1509.94 Q2341.75 1511.45 2341.75 1514.13 Z\" fill=\"#000000\" fill-rule=\"evenodd\" fill-opacity=\"1\" /><path clip-path=\"url(#clip930)\" d=\"M 0 0 M71.8578 1459.06 L88.1772 1459.06 L88.1772 1463 L66.2328 1463 L66.2328 1459.06 Q68.8949 1456.31 73.4782 1451.68 Q78.0846 1447.02 79.2652 1445.68 Q81.5105 1443.16 82.3902 1441.42 Q83.2929 1439.66 83.2929 1437.97 Q83.2929 1435.22 81.3485 1433.48 Q79.4272 1431.75 76.3254 1431.75 Q74.1263 1431.75 71.6726 1432.51 Q69.2421 1433.27 66.4643 1434.82 L66.4643 1430.1 Q69.2884 1428.97 71.7421 1428.39 Q74.1958 1427.81 76.2328 1427.81 Q81.6031 1427.81 84.7976 1430.5 Q87.992 1433.18 87.992 1437.67 Q87.992 1439.8 87.1818 1441.72 Q86.3948 1443.62 84.2883 1446.21 Q83.7096 1446.88 80.6078 1450.1 Q77.5059 1453.3 71.8578 1459.06 Z\" fill=\"#000000\" fill-rule=\"evenodd\" fill-opacity=\"1\" /><path clip-path=\"url(#clip930)\" d=\"M 0 0 M93.2466 1457.12 L98.1308 1457.12 L98.1308 1463 L93.2466 1463 L93.2466 1457.12 Z\" fill=\"#000000\" fill-rule=\"evenodd\" fill-opacity=\"1\" /><path clip-path=\"url(#clip930)\" d=\"M 0 0 M113.2 1431.51 Q109.589 1431.51 107.76 1435.08 Q105.955 1438.62 105.955 1445.75 Q105.955 1452.86 107.76 1456.42 Q109.589 1459.96 113.2 1459.96 Q116.834 1459.96 118.64 1456.42 Q120.469 1452.86 120.469 1445.75 Q120.469 1438.62 118.64 1435.08 Q116.834 1431.51 113.2 1431.51 M113.2 1427.81 Q119.01 1427.81 122.066 1432.42 Q125.145 1437 125.145 1445.75 Q125.145 1454.48 122.066 1459.08 Q119.01 1463.67 113.2 1463.67 Q107.39 1463.67 104.311 1459.08 Q101.256 1454.48 101.256 1445.75 Q101.256 1437 104.311 1432.42 Q107.39 1427.81 113.2 1427.81 Z\" fill=\"#000000\" fill-rule=\"evenodd\" fill-opacity=\"1\" /><path clip-path=\"url(#clip930)\" d=\"M 0 0 M72.8532 1176.2 L89.1725 1176.2 L89.1725 1180.13 L67.2282 1180.13 L67.2282 1176.2 Q69.8902 1173.44 74.4735 1168.81 Q79.08 1164.16 80.2606 1162.82 Q82.5059 1160.3 83.3855 1158.56 Q84.2883 1156.8 84.2883 1155.11 Q84.2883 1152.36 82.3439 1150.62 Q80.4226 1148.88 77.3208 1148.88 Q75.1217 1148.88 72.668 1149.65 Q70.2375 1150.41 67.4597 1151.96 L67.4597 1147.24 Q70.2838 1146.11 72.7374 1145.53 Q75.1911 1144.95 77.2282 1144.95 Q82.5985 1144.95 85.7929 1147.63 Q88.9874 1150.32 88.9874 1154.81 Q88.9874 1156.94 88.1772 1158.86 Q87.3901 1160.76 85.2837 1163.35 Q84.705 1164.02 81.6031 1167.24 Q78.5013 1170.43 72.8532 1176.2 Z\" fill=\"#000000\" fill-rule=\"evenodd\" fill-opacity=\"1\" /><path clip-path=\"url(#clip930)\" d=\"M 0 0 M94.242 1174.25 L99.1262 1174.25 L99.1262 1180.13 L94.242 1180.13 L94.242 1174.25 Z\" fill=\"#000000\" fill-rule=\"evenodd\" fill-opacity=\"1\" /><path clip-path=\"url(#clip930)\" d=\"M 0 0 M104.242 1145.57 L122.598 1145.57 L122.598 1149.51 L108.524 1149.51 L108.524 1157.98 Q109.543 1157.63 110.561 1157.47 Q111.58 1157.29 112.598 1157.29 Q118.385 1157.29 121.765 1160.46 Q125.145 1163.63 125.145 1169.05 Q125.145 1174.62 121.672 1177.73 Q118.2 1180.8 111.881 1180.8 Q109.705 1180.8 107.436 1180.43 Q105.191 1180.06 102.784 1179.32 L102.784 1174.62 Q104.867 1175.76 107.089 1176.31 Q109.311 1176.87 111.788 1176.87 Q115.793 1176.87 118.131 1174.76 Q120.469 1172.66 120.469 1169.05 Q120.469 1165.43 118.131 1163.33 Q115.793 1161.22 111.788 1161.22 Q109.913 1161.22 108.038 1161.64 Q106.186 1162.05 104.242 1162.93 L104.242 1145.57 Z\" fill=\"#000000\" fill-rule=\"evenodd\" fill-opacity=\"1\" /><path clip-path=\"url(#clip930)\" d=\"M 0 0 M81.0476 878.637 Q84.404 879.354 86.279 881.623 Q88.1772 883.891 88.1772 887.225 Q88.1772 892.34 84.6587 895.141 Q81.1402 897.942 74.6587 897.942 Q72.4828 897.942 70.168 897.502 Q67.8764 897.086 65.4227 896.229 L65.4227 891.715 Q67.3671 892.85 69.6819 893.428 Q71.9967 894.007 74.5198 894.007 Q78.918 894.007 81.2096 892.271 Q83.5244 890.535 83.5244 887.225 Q83.5244 884.169 81.3717 882.456 Q79.242 880.72 75.4226 880.72 L71.3949 880.72 L71.3949 876.878 L75.6078 876.878 Q79.0569 876.878 80.8855 875.512 Q82.7142 874.123 82.7142 871.53 Q82.7142 868.868 80.8161 867.456 Q78.9411 866.021 75.4226 866.021 Q73.5013 866.021 71.3023 866.438 Q69.1032 866.854 66.4643 867.734 L66.4643 863.567 Q69.1264 862.827 71.4412 862.456 Q73.7791 862.086 75.8393 862.086 Q81.1633 862.086 84.2652 864.516 Q87.367 866.924 87.367 871.044 Q87.367 873.915 85.7235 875.905 Q84.08 877.873 81.0476 878.637 Z\" fill=\"#000000\" fill-rule=\"evenodd\" fill-opacity=\"1\" /><path clip-path=\"url(#clip930)\" d=\"M 0 0 M93.2466 891.391 L98.1308 891.391 L98.1308 897.271 L93.2466 897.271 L93.2466 891.391 Z\" fill=\"#000000\" fill-rule=\"evenodd\" fill-opacity=\"1\" /><path clip-path=\"url(#clip930)\" d=\"M 0 0 M113.2 865.79 Q109.589 865.79 107.76 869.354 Q105.955 872.896 105.955 880.026 Q105.955 887.132 107.76 890.697 Q109.589 894.239 113.2 894.239 Q116.834 894.239 118.64 890.697 Q120.469 887.132 120.469 880.026 Q120.469 872.896 118.64 869.354 Q116.834 865.79 113.2 865.79 M113.2 862.086 Q119.01 862.086 122.066 866.692 Q125.145 871.276 125.145 880.026 Q125.145 888.752 122.066 893.359 Q119.01 897.942 113.2 897.942 Q107.39 897.942 104.311 893.359 Q101.256 888.752 101.256 880.026 Q101.256 871.276 104.311 866.692 Q107.39 862.086 113.2 862.086 Z\" fill=\"#000000\" fill-rule=\"evenodd\" fill-opacity=\"1\" /><path clip-path=\"url(#clip930)\" d=\"M 0 0 M82.0429 595.774 Q85.3994 596.492 87.2744 598.76 Q89.1725 601.029 89.1725 604.362 Q89.1725 609.478 85.654 612.279 Q82.1355 615.08 75.6541 615.08 Q73.4782 615.08 71.1634 614.64 Q68.8717 614.223 66.418 613.367 L66.418 608.853 Q68.3625 609.987 70.6773 610.566 Q72.9921 611.145 75.5152 611.145 Q79.9133 611.145 82.205 609.409 Q84.5198 607.672 84.5198 604.362 Q84.5198 601.307 82.367 599.594 Q80.2374 597.858 76.418 597.858 L72.3902 597.858 L72.3902 594.015 L76.6032 594.015 Q80.0522 594.015 81.8809 592.649 Q83.7096 591.261 83.7096 588.668 Q83.7096 586.006 81.8115 584.594 Q79.9365 583.159 76.418 583.159 Q74.4967 583.159 72.2976 583.575 Q70.0986 583.992 67.4597 584.872 L67.4597 580.705 Q70.1217 579.964 72.4365 579.594 Q74.7745 579.224 76.8346 579.224 Q82.1587 579.224 85.2605 581.654 Q88.3624 584.061 88.3624 588.182 Q88.3624 591.052 86.7189 593.043 Q85.0753 595.011 82.0429 595.774 Z\" fill=\"#000000\" fill-rule=\"evenodd\" fill-opacity=\"1\" /><path clip-path=\"url(#clip930)\" d=\"M 0 0 M94.242 608.529 L99.1262 608.529 L99.1262 614.409 L94.242 614.409 L94.242 608.529 Z\" fill=\"#000000\" fill-rule=\"evenodd\" fill-opacity=\"1\" /><path clip-path=\"url(#clip930)\" d=\"M 0 0 M104.242 579.849 L122.598 579.849 L122.598 583.784 L108.524 583.784 L108.524 592.256 Q109.543 591.909 110.561 591.747 Q111.58 591.561 112.598 591.561 Q118.385 591.561 121.765 594.733 Q125.145 597.904 125.145 603.321 Q125.145 608.899 121.672 612.001 Q118.2 615.08 111.881 615.08 Q109.705 615.08 107.436 614.709 Q105.191 614.339 102.784 613.598 L102.784 608.899 Q104.867 610.034 107.089 610.589 Q109.311 611.145 111.788 611.145 Q115.793 611.145 118.131 609.038 Q120.469 606.932 120.469 603.321 Q120.469 599.71 118.131 597.603 Q115.793 595.497 111.788 595.497 Q109.913 595.497 108.038 595.913 Q106.186 596.33 104.242 597.21 L104.242 579.849 Z\" fill=\"#000000\" fill-rule=\"evenodd\" fill-opacity=\"1\" /><path clip-path=\"url(#clip930)\" d=\"M 0 0 M78.5939 301.06 L66.7884 319.509 L78.5939 319.509 L78.5939 301.06 M77.367 296.986 L83.2466 296.986 L83.2466 319.509 L88.1772 319.509 L88.1772 323.398 L83.2466 323.398 L83.2466 331.546 L78.5939 331.546 L78.5939 323.398 L62.9921 323.398 L62.9921 318.884 L77.367 296.986 Z\" fill=\"#000000\" fill-rule=\"evenodd\" fill-opacity=\"1\" /><path clip-path=\"url(#clip930)\" d=\"M 0 0 M93.2466 325.667 L98.1308 325.667 L98.1308 331.546 L93.2466 331.546 L93.2466 325.667 Z\" fill=\"#000000\" fill-rule=\"evenodd\" fill-opacity=\"1\" /><path clip-path=\"url(#clip930)\" d=\"M 0 0 M113.2 300.065 Q109.589 300.065 107.76 303.63 Q105.955 307.171 105.955 314.301 Q105.955 321.407 107.76 324.972 Q109.589 328.514 113.2 328.514 Q116.834 328.514 118.64 324.972 Q120.469 321.407 120.469 314.301 Q120.469 307.171 118.64 303.63 Q116.834 300.065 113.2 300.065 M113.2 296.361 Q119.01 296.361 122.066 300.968 Q125.145 305.551 125.145 314.301 Q125.145 323.028 122.066 327.634 Q119.01 332.217 113.2 332.217 Q107.39 332.217 104.311 327.634 Q101.256 323.028 101.256 314.301 Q101.256 305.551 104.311 300.968 Q107.39 296.361 113.2 296.361 Z\" fill=\"#000000\" fill-rule=\"evenodd\" fill-opacity=\"1\" /><circle clip-path=\"url(#clip932)\" cx=\"673.484\" cy=\"597.129\" r=\"14\" fill=\"#009af9\" fill-rule=\"evenodd\" fill-opacity=\"1\" stroke=\"#000000\" stroke-opacity=\"1\" stroke-width=\"3.2\"/>\n",
       "<circle clip-path=\"url(#clip932)\" cx=\"557.991\" cy=\"879.991\" r=\"14\" fill=\"#009af9\" fill-rule=\"evenodd\" fill-opacity=\"1\" stroke=\"#000000\" stroke-opacity=\"1\" stroke-width=\"3.2\"/>\n",
       "<circle clip-path=\"url(#clip932)\" cx=\"442.497\" cy=\"766.846\" r=\"14\" fill=\"#009af9\" fill-rule=\"evenodd\" fill-opacity=\"1\" stroke=\"#000000\" stroke-opacity=\"1\" stroke-width=\"3.2\"/>\n",
       "<circle clip-path=\"url(#clip932)\" cx=\"384.751\" cy=\"823.418\" r=\"14\" fill=\"#009af9\" fill-rule=\"evenodd\" fill-opacity=\"1\" stroke=\"#000000\" stroke-opacity=\"1\" stroke-width=\"3.2\"/>\n",
       "<circle clip-path=\"url(#clip932)\" cx=\"615.737\" cy=\"540.556\" r=\"14\" fill=\"#009af9\" fill-rule=\"evenodd\" fill-opacity=\"1\" stroke=\"#000000\" stroke-opacity=\"1\" stroke-width=\"3.2\"/>\n",
       "<circle clip-path=\"url(#clip932)\" cx=\"846.724\" cy=\"370.839\" r=\"14\" fill=\"#009af9\" fill-rule=\"evenodd\" fill-opacity=\"1\" stroke=\"#000000\" stroke-opacity=\"1\" stroke-width=\"3.2\"/>\n",
       "<circle clip-path=\"url(#clip932)\" cx=\"384.751\" cy=\"653.701\" r=\"14\" fill=\"#009af9\" fill-rule=\"evenodd\" fill-opacity=\"1\" stroke=\"#000000\" stroke-opacity=\"1\" stroke-width=\"3.2\"/>\n",
       "<circle clip-path=\"url(#clip932)\" cx=\"615.737\" cy=\"653.701\" r=\"14\" fill=\"#009af9\" fill-rule=\"evenodd\" fill-opacity=\"1\" stroke=\"#000000\" stroke-opacity=\"1\" stroke-width=\"3.2\"/>\n",
       "<circle clip-path=\"url(#clip932)\" cx=\"269.258\" cy=\"936.563\" r=\"14\" fill=\"#009af9\" fill-rule=\"evenodd\" fill-opacity=\"1\" stroke=\"#000000\" stroke-opacity=\"1\" stroke-width=\"3.2\"/>\n",
       "<circle clip-path=\"url(#clip932)\" cx=\"557.991\" cy=\"823.418\" r=\"14\" fill=\"#009af9\" fill-rule=\"evenodd\" fill-opacity=\"1\" stroke=\"#000000\" stroke-opacity=\"1\" stroke-width=\"3.2\"/>\n",
       "<circle clip-path=\"url(#clip932)\" cx=\"846.724\" cy=\"483.984\" r=\"14\" fill=\"#009af9\" fill-rule=\"evenodd\" fill-opacity=\"1\" stroke=\"#000000\" stroke-opacity=\"1\" stroke-width=\"3.2\"/>\n",
       "<circle clip-path=\"url(#clip932)\" cx=\"500.244\" cy=\"653.701\" r=\"14\" fill=\"#009af9\" fill-rule=\"evenodd\" fill-opacity=\"1\" stroke=\"#000000\" stroke-opacity=\"1\" stroke-width=\"3.2\"/>\n",
       "<circle clip-path=\"url(#clip932)\" cx=\"500.244\" cy=\"879.991\" r=\"14\" fill=\"#009af9\" fill-rule=\"evenodd\" fill-opacity=\"1\" stroke=\"#000000\" stroke-opacity=\"1\" stroke-width=\"3.2\"/>\n",
       "<circle clip-path=\"url(#clip932)\" cx=\"211.511\" cy=\"879.991\" r=\"14\" fill=\"#009af9\" fill-rule=\"evenodd\" fill-opacity=\"1\" stroke=\"#000000\" stroke-opacity=\"1\" stroke-width=\"3.2\"/>\n",
       "<circle clip-path=\"url(#clip932)\" cx=\"1077.71\" cy=\"314.266\" r=\"14\" fill=\"#009af9\" fill-rule=\"evenodd\" fill-opacity=\"1\" stroke=\"#000000\" stroke-opacity=\"1\" stroke-width=\"3.2\"/>\n",
       "<circle clip-path=\"url(#clip932)\" cx=\"1019.96\" cy=\"87.9763\" r=\"14\" fill=\"#009af9\" fill-rule=\"evenodd\" fill-opacity=\"1\" stroke=\"#000000\" stroke-opacity=\"1\" stroke-width=\"3.2\"/>\n",
       "<circle clip-path=\"url(#clip932)\" cx=\"846.724\" cy=\"370.839\" r=\"14\" fill=\"#009af9\" fill-rule=\"evenodd\" fill-opacity=\"1\" stroke=\"#000000\" stroke-opacity=\"1\" stroke-width=\"3.2\"/>\n",
       "<circle clip-path=\"url(#clip932)\" cx=\"673.484\" cy=\"597.129\" r=\"14\" fill=\"#009af9\" fill-rule=\"evenodd\" fill-opacity=\"1\" stroke=\"#000000\" stroke-opacity=\"1\" stroke-width=\"3.2\"/>\n",
       "<circle clip-path=\"url(#clip932)\" cx=\"1019.96\" cy=\"427.411\" r=\"14\" fill=\"#009af9\" fill-rule=\"evenodd\" fill-opacity=\"1\" stroke=\"#000000\" stroke-opacity=\"1\" stroke-width=\"3.2\"/>\n",
       "<circle clip-path=\"url(#clip932)\" cx=\"673.484\" cy=\"427.411\" r=\"14\" fill=\"#009af9\" fill-rule=\"evenodd\" fill-opacity=\"1\" stroke=\"#000000\" stroke-opacity=\"1\" stroke-width=\"3.2\"/>\n",
       "<circle clip-path=\"url(#clip932)\" cx=\"846.724\" cy=\"653.701\" r=\"14\" fill=\"#009af9\" fill-rule=\"evenodd\" fill-opacity=\"1\" stroke=\"#000000\" stroke-opacity=\"1\" stroke-width=\"3.2\"/>\n",
       "<circle clip-path=\"url(#clip932)\" cx=\"673.484\" cy=\"483.984\" r=\"14\" fill=\"#009af9\" fill-rule=\"evenodd\" fill-opacity=\"1\" stroke=\"#000000\" stroke-opacity=\"1\" stroke-width=\"3.2\"/>\n",
       "<circle clip-path=\"url(#clip932)\" cx=\"384.751\" cy=\"540.556\" r=\"14\" fill=\"#009af9\" fill-rule=\"evenodd\" fill-opacity=\"1\" stroke=\"#000000\" stroke-opacity=\"1\" stroke-width=\"3.2\"/>\n",
       "<circle clip-path=\"url(#clip932)\" cx=\"673.484\" cy=\"710.274\" r=\"14\" fill=\"#009af9\" fill-rule=\"evenodd\" fill-opacity=\"1\" stroke=\"#000000\" stroke-opacity=\"1\" stroke-width=\"3.2\"/>\n",
       "<circle clip-path=\"url(#clip932)\" cx=\"500.244\" cy=\"653.701\" r=\"14\" fill=\"#009af9\" fill-rule=\"evenodd\" fill-opacity=\"1\" stroke=\"#000000\" stroke-opacity=\"1\" stroke-width=\"3.2\"/>\n",
       "<circle clip-path=\"url(#clip932)\" cx=\"615.737\" cy=\"879.991\" r=\"14\" fill=\"#009af9\" fill-rule=\"evenodd\" fill-opacity=\"1\" stroke=\"#000000\" stroke-opacity=\"1\" stroke-width=\"3.2\"/>\n",
       "<circle clip-path=\"url(#clip932)\" cx=\"615.737\" cy=\"653.701\" r=\"14\" fill=\"#009af9\" fill-rule=\"evenodd\" fill-opacity=\"1\" stroke=\"#000000\" stroke-opacity=\"1\" stroke-width=\"3.2\"/>\n",
       "<circle clip-path=\"url(#clip932)\" cx=\"731.231\" cy=\"597.129\" r=\"14\" fill=\"#009af9\" fill-rule=\"evenodd\" fill-opacity=\"1\" stroke=\"#000000\" stroke-opacity=\"1\" stroke-width=\"3.2\"/>\n",
       "<circle clip-path=\"url(#clip932)\" cx=\"731.231\" cy=\"653.701\" r=\"14\" fill=\"#009af9\" fill-rule=\"evenodd\" fill-opacity=\"1\" stroke=\"#000000\" stroke-opacity=\"1\" stroke-width=\"3.2\"/>\n",
       "<circle clip-path=\"url(#clip932)\" cx=\"442.497\" cy=\"766.846\" r=\"14\" fill=\"#009af9\" fill-rule=\"evenodd\" fill-opacity=\"1\" stroke=\"#000000\" stroke-opacity=\"1\" stroke-width=\"3.2\"/>\n",
       "<circle clip-path=\"url(#clip932)\" cx=\"500.244\" cy=\"823.418\" r=\"14\" fill=\"#009af9\" fill-rule=\"evenodd\" fill-opacity=\"1\" stroke=\"#000000\" stroke-opacity=\"1\" stroke-width=\"3.2\"/>\n",
       "<circle clip-path=\"url(#clip932)\" cx=\"846.724\" cy=\"653.701\" r=\"14\" fill=\"#009af9\" fill-rule=\"evenodd\" fill-opacity=\"1\" stroke=\"#000000\" stroke-opacity=\"1\" stroke-width=\"3.2\"/>\n",
       "<circle clip-path=\"url(#clip932)\" cx=\"731.231\" cy=\"257.694\" r=\"14\" fill=\"#009af9\" fill-rule=\"evenodd\" fill-opacity=\"1\" stroke=\"#000000\" stroke-opacity=\"1\" stroke-width=\"3.2\"/>\n",
       "<circle clip-path=\"url(#clip932)\" cx=\"904.47\" cy=\"201.121\" r=\"14\" fill=\"#009af9\" fill-rule=\"evenodd\" fill-opacity=\"1\" stroke=\"#000000\" stroke-opacity=\"1\" stroke-width=\"3.2\"/>\n",
       "<circle clip-path=\"url(#clip932)\" cx=\"557.991\" cy=\"823.418\" r=\"14\" fill=\"#009af9\" fill-rule=\"evenodd\" fill-opacity=\"1\" stroke=\"#000000\" stroke-opacity=\"1\" stroke-width=\"3.2\"/>\n",
       "<circle clip-path=\"url(#clip932)\" cx=\"615.737\" cy=\"766.846\" r=\"14\" fill=\"#009af9\" fill-rule=\"evenodd\" fill-opacity=\"1\" stroke=\"#000000\" stroke-opacity=\"1\" stroke-width=\"3.2\"/>\n",
       "<circle clip-path=\"url(#clip932)\" cx=\"904.47\" cy=\"597.129\" r=\"14\" fill=\"#009af9\" fill-rule=\"evenodd\" fill-opacity=\"1\" stroke=\"#000000\" stroke-opacity=\"1\" stroke-width=\"3.2\"/>\n",
       "<circle clip-path=\"url(#clip932)\" cx=\"557.991\" cy=\"540.556\" r=\"14\" fill=\"#009af9\" fill-rule=\"evenodd\" fill-opacity=\"1\" stroke=\"#000000\" stroke-opacity=\"1\" stroke-width=\"3.2\"/>\n",
       "<circle clip-path=\"url(#clip932)\" cx=\"269.258\" cy=\"879.991\" r=\"14\" fill=\"#009af9\" fill-rule=\"evenodd\" fill-opacity=\"1\" stroke=\"#000000\" stroke-opacity=\"1\" stroke-width=\"3.2\"/>\n",
       "<circle clip-path=\"url(#clip932)\" cx=\"673.484\" cy=\"653.701\" r=\"14\" fill=\"#009af9\" fill-rule=\"evenodd\" fill-opacity=\"1\" stroke=\"#000000\" stroke-opacity=\"1\" stroke-width=\"3.2\"/>\n",
       "<circle clip-path=\"url(#clip932)\" cx=\"615.737\" cy=\"597.129\" r=\"14\" fill=\"#009af9\" fill-rule=\"evenodd\" fill-opacity=\"1\" stroke=\"#000000\" stroke-opacity=\"1\" stroke-width=\"3.2\"/>\n",
       "<circle clip-path=\"url(#clip932)\" cx=\"327.004\" cy=\"1276\" r=\"14\" fill=\"#009af9\" fill-rule=\"evenodd\" fill-opacity=\"1\" stroke=\"#000000\" stroke-opacity=\"1\" stroke-width=\"3.2\"/>\n",
       "<circle clip-path=\"url(#clip932)\" cx=\"269.258\" cy=\"766.846\" r=\"14\" fill=\"#009af9\" fill-rule=\"evenodd\" fill-opacity=\"1\" stroke=\"#000000\" stroke-opacity=\"1\" stroke-width=\"3.2\"/>\n",
       "<circle clip-path=\"url(#clip932)\" cx=\"615.737\" cy=\"597.129\" r=\"14\" fill=\"#009af9\" fill-rule=\"evenodd\" fill-opacity=\"1\" stroke=\"#000000\" stroke-opacity=\"1\" stroke-width=\"3.2\"/>\n",
       "<circle clip-path=\"url(#clip932)\" cx=\"673.484\" cy=\"427.411\" r=\"14\" fill=\"#009af9\" fill-rule=\"evenodd\" fill-opacity=\"1\" stroke=\"#000000\" stroke-opacity=\"1\" stroke-width=\"3.2\"/>\n",
       "<circle clip-path=\"url(#clip932)\" cx=\"500.244\" cy=\"879.991\" r=\"14\" fill=\"#009af9\" fill-rule=\"evenodd\" fill-opacity=\"1\" stroke=\"#000000\" stroke-opacity=\"1\" stroke-width=\"3.2\"/>\n",
       "<circle clip-path=\"url(#clip932)\" cx=\"673.484\" cy=\"427.411\" r=\"14\" fill=\"#009af9\" fill-rule=\"evenodd\" fill-opacity=\"1\" stroke=\"#000000\" stroke-opacity=\"1\" stroke-width=\"3.2\"/>\n",
       "<circle clip-path=\"url(#clip932)\" cx=\"384.751\" cy=\"766.846\" r=\"14\" fill=\"#009af9\" fill-rule=\"evenodd\" fill-opacity=\"1\" stroke=\"#000000\" stroke-opacity=\"1\" stroke-width=\"3.2\"/>\n",
       "<circle clip-path=\"url(#clip932)\" cx=\"788.977\" cy=\"483.984\" r=\"14\" fill=\"#009af9\" fill-rule=\"evenodd\" fill-opacity=\"1\" stroke=\"#000000\" stroke-opacity=\"1\" stroke-width=\"3.2\"/>\n",
       "<circle clip-path=\"url(#clip932)\" cx=\"615.737\" cy=\"710.274\" r=\"14\" fill=\"#009af9\" fill-rule=\"evenodd\" fill-opacity=\"1\" stroke=\"#000000\" stroke-opacity=\"1\" stroke-width=\"3.2\"/>\n",
       "<circle clip-path=\"url(#clip932)\" cx=\"1770.67\" cy=\"766.846\" r=\"14\" fill=\"#009af9\" fill-rule=\"evenodd\" fill-opacity=\"1\" stroke=\"#000000\" stroke-opacity=\"1\" stroke-width=\"3.2\"/>\n",
       "<circle clip-path=\"url(#clip932)\" cx=\"1424.19\" cy=\"766.846\" r=\"14\" fill=\"#009af9\" fill-rule=\"evenodd\" fill-opacity=\"1\" stroke=\"#000000\" stroke-opacity=\"1\" stroke-width=\"3.2\"/>\n",
       "<circle clip-path=\"url(#clip932)\" cx=\"1712.92\" cy=\"823.418\" r=\"14\" fill=\"#009af9\" fill-rule=\"evenodd\" fill-opacity=\"1\" stroke=\"#000000\" stroke-opacity=\"1\" stroke-width=\"3.2\"/>\n",
       "<circle clip-path=\"url(#clip932)\" cx=\"904.47\" cy=\"1276\" r=\"14\" fill=\"#009af9\" fill-rule=\"evenodd\" fill-opacity=\"1\" stroke=\"#000000\" stroke-opacity=\"1\" stroke-width=\"3.2\"/>\n",
       "<circle clip-path=\"url(#clip932)\" cx=\"1481.94\" cy=\"993.136\" r=\"14\" fill=\"#009af9\" fill-rule=\"evenodd\" fill-opacity=\"1\" stroke=\"#000000\" stroke-opacity=\"1\" stroke-width=\"3.2\"/>\n",
       "<circle clip-path=\"url(#clip932)\" cx=\"1019.96\" cy=\"993.136\" r=\"14\" fill=\"#009af9\" fill-rule=\"evenodd\" fill-opacity=\"1\" stroke=\"#000000\" stroke-opacity=\"1\" stroke-width=\"3.2\"/>\n",
       "<circle clip-path=\"url(#clip932)\" cx=\"1366.44\" cy=\"710.274\" r=\"14\" fill=\"#009af9\" fill-rule=\"evenodd\" fill-opacity=\"1\" stroke=\"#000000\" stroke-opacity=\"1\" stroke-width=\"3.2\"/>\n",
       "<circle clip-path=\"url(#clip932)\" cx=\"557.991\" cy=\"1219.43\" r=\"14\" fill=\"#009af9\" fill-rule=\"evenodd\" fill-opacity=\"1\" stroke=\"#000000\" stroke-opacity=\"1\" stroke-width=\"3.2\"/>\n",
       "<circle clip-path=\"url(#clip932)\" cx=\"1539.68\" cy=\"936.563\" r=\"14\" fill=\"#009af9\" fill-rule=\"evenodd\" fill-opacity=\"1\" stroke=\"#000000\" stroke-opacity=\"1\" stroke-width=\"3.2\"/>\n",
       "<circle clip-path=\"url(#clip932)\" cx=\"731.231\" cy=\"1049.71\" r=\"14\" fill=\"#009af9\" fill-rule=\"evenodd\" fill-opacity=\"1\" stroke=\"#000000\" stroke-opacity=\"1\" stroke-width=\"3.2\"/>\n",
       "<circle clip-path=\"url(#clip932)\" cx=\"615.737\" cy=\"1445.72\" r=\"14\" fill=\"#009af9\" fill-rule=\"evenodd\" fill-opacity=\"1\" stroke=\"#000000\" stroke-opacity=\"1\" stroke-width=\"3.2\"/>\n",
       "<circle clip-path=\"url(#clip932)\" cx=\"1135.46\" cy=\"879.991\" r=\"14\" fill=\"#009af9\" fill-rule=\"evenodd\" fill-opacity=\"1\" stroke=\"#000000\" stroke-opacity=\"1\" stroke-width=\"3.2\"/>\n",
       "<circle clip-path=\"url(#clip932)\" cx=\"1193.2\" cy=\"1332.57\" r=\"14\" fill=\"#009af9\" fill-rule=\"evenodd\" fill-opacity=\"1\" stroke=\"#000000\" stroke-opacity=\"1\" stroke-width=\"3.2\"/>\n",
       "<circle clip-path=\"url(#clip932)\" cx=\"1250.95\" cy=\"936.563\" r=\"14\" fill=\"#009af9\" fill-rule=\"evenodd\" fill-opacity=\"1\" stroke=\"#000000\" stroke-opacity=\"1\" stroke-width=\"3.2\"/>\n",
       "<circle clip-path=\"url(#clip932)\" cx=\"962.217\" cy=\"936.563\" r=\"14\" fill=\"#009af9\" fill-rule=\"evenodd\" fill-opacity=\"1\" stroke=\"#000000\" stroke-opacity=\"1\" stroke-width=\"3.2\"/>\n",
       "<circle clip-path=\"url(#clip932)\" cx=\"1597.43\" cy=\"823.418\" r=\"14\" fill=\"#009af9\" fill-rule=\"evenodd\" fill-opacity=\"1\" stroke=\"#000000\" stroke-opacity=\"1\" stroke-width=\"3.2\"/>\n",
       "<circle clip-path=\"url(#clip932)\" cx=\"962.217\" cy=\"879.991\" r=\"14\" fill=\"#009af9\" fill-rule=\"evenodd\" fill-opacity=\"1\" stroke=\"#000000\" stroke-opacity=\"1\" stroke-width=\"3.2\"/>\n",
       "<circle clip-path=\"url(#clip932)\" cx=\"1077.71\" cy=\"1049.71\" r=\"14\" fill=\"#009af9\" fill-rule=\"evenodd\" fill-opacity=\"1\" stroke=\"#000000\" stroke-opacity=\"1\" stroke-width=\"3.2\"/>\n",
       "<circle clip-path=\"url(#clip932)\" cx=\"1308.7\" cy=\"1332.57\" r=\"14\" fill=\"#009af9\" fill-rule=\"evenodd\" fill-opacity=\"1\" stroke=\"#000000\" stroke-opacity=\"1\" stroke-width=\"3.2\"/>\n",
       "<circle clip-path=\"url(#clip932)\" cx=\"962.217\" cy=\"1162.85\" r=\"14\" fill=\"#009af9\" fill-rule=\"evenodd\" fill-opacity=\"1\" stroke=\"#000000\" stroke-opacity=\"1\" stroke-width=\"3.2\"/>\n",
       "<circle clip-path=\"url(#clip932)\" cx=\"1135.46\" cy=\"766.846\" r=\"14\" fill=\"#009af9\" fill-rule=\"evenodd\" fill-opacity=\"1\" stroke=\"#000000\" stroke-opacity=\"1\" stroke-width=\"3.2\"/>\n",
       "<circle clip-path=\"url(#clip932)\" cx=\"1250.95\" cy=\"993.136\" r=\"14\" fill=\"#009af9\" fill-rule=\"evenodd\" fill-opacity=\"1\" stroke=\"#000000\" stroke-opacity=\"1\" stroke-width=\"3.2\"/>\n",
       "<circle clip-path=\"url(#clip932)\" cx=\"1366.44\" cy=\"1162.85\" r=\"14\" fill=\"#009af9\" fill-rule=\"evenodd\" fill-opacity=\"1\" stroke=\"#000000\" stroke-opacity=\"1\" stroke-width=\"3.2\"/>\n",
       "<circle clip-path=\"url(#clip932)\" cx=\"1250.95\" cy=\"993.136\" r=\"14\" fill=\"#009af9\" fill-rule=\"evenodd\" fill-opacity=\"1\" stroke=\"#000000\" stroke-opacity=\"1\" stroke-width=\"3.2\"/>\n",
       "<circle clip-path=\"url(#clip932)\" cx=\"1424.19\" cy=\"936.563\" r=\"14\" fill=\"#009af9\" fill-rule=\"evenodd\" fill-opacity=\"1\" stroke=\"#000000\" stroke-opacity=\"1\" stroke-width=\"3.2\"/>\n",
       "<circle clip-path=\"url(#clip932)\" cx=\"1539.68\" cy=\"879.991\" r=\"14\" fill=\"#009af9\" fill-rule=\"evenodd\" fill-opacity=\"1\" stroke=\"#000000\" stroke-opacity=\"1\" stroke-width=\"3.2\"/>\n",
       "<circle clip-path=\"url(#clip932)\" cx=\"1655.18\" cy=\"993.136\" r=\"14\" fill=\"#009af9\" fill-rule=\"evenodd\" fill-opacity=\"1\" stroke=\"#000000\" stroke-opacity=\"1\" stroke-width=\"3.2\"/>\n",
       "<circle clip-path=\"url(#clip932)\" cx=\"1597.43\" cy=\"879.991\" r=\"14\" fill=\"#009af9\" fill-rule=\"evenodd\" fill-opacity=\"1\" stroke=\"#000000\" stroke-opacity=\"1\" stroke-width=\"3.2\"/>\n",
       "<circle clip-path=\"url(#clip932)\" cx=\"1193.2\" cy=\"936.563\" r=\"14\" fill=\"#009af9\" fill-rule=\"evenodd\" fill-opacity=\"1\" stroke=\"#000000\" stroke-opacity=\"1\" stroke-width=\"3.2\"/>\n",
       "<circle clip-path=\"url(#clip932)\" cx=\"1019.96\" cy=\"1106.28\" r=\"14\" fill=\"#009af9\" fill-rule=\"evenodd\" fill-opacity=\"1\" stroke=\"#000000\" stroke-opacity=\"1\" stroke-width=\"3.2\"/>\n",
       "<circle clip-path=\"url(#clip932)\" cx=\"904.47\" cy=\"1219.43\" r=\"14\" fill=\"#009af9\" fill-rule=\"evenodd\" fill-opacity=\"1\" stroke=\"#000000\" stroke-opacity=\"1\" stroke-width=\"3.2\"/>\n",
       "<circle clip-path=\"url(#clip932)\" cx=\"904.47\" cy=\"1219.43\" r=\"14\" fill=\"#009af9\" fill-rule=\"evenodd\" fill-opacity=\"1\" stroke=\"#000000\" stroke-opacity=\"1\" stroke-width=\"3.2\"/>\n",
       "<circle clip-path=\"url(#clip932)\" cx=\"1077.71\" cy=\"1049.71\" r=\"14\" fill=\"#009af9\" fill-rule=\"evenodd\" fill-opacity=\"1\" stroke=\"#000000\" stroke-opacity=\"1\" stroke-width=\"3.2\"/>\n",
       "<circle clip-path=\"url(#clip932)\" cx=\"1193.2\" cy=\"1049.71\" r=\"14\" fill=\"#009af9\" fill-rule=\"evenodd\" fill-opacity=\"1\" stroke=\"#000000\" stroke-opacity=\"1\" stroke-width=\"3.2\"/>\n",
       "<circle clip-path=\"url(#clip932)\" cx=\"846.724\" cy=\"879.991\" r=\"14\" fill=\"#009af9\" fill-rule=\"evenodd\" fill-opacity=\"1\" stroke=\"#000000\" stroke-opacity=\"1\" stroke-width=\"3.2\"/>\n",
       "<circle clip-path=\"url(#clip932)\" cx=\"1193.2\" cy=\"653.701\" r=\"14\" fill=\"#009af9\" fill-rule=\"evenodd\" fill-opacity=\"1\" stroke=\"#000000\" stroke-opacity=\"1\" stroke-width=\"3.2\"/>\n",
       "<circle clip-path=\"url(#clip932)\" cx=\"1597.43\" cy=\"823.418\" r=\"14\" fill=\"#009af9\" fill-rule=\"evenodd\" fill-opacity=\"1\" stroke=\"#000000\" stroke-opacity=\"1\" stroke-width=\"3.2\"/>\n",
       "<circle clip-path=\"url(#clip932)\" cx=\"1366.44\" cy=\"1276\" r=\"14\" fill=\"#009af9\" fill-rule=\"evenodd\" fill-opacity=\"1\" stroke=\"#000000\" stroke-opacity=\"1\" stroke-width=\"3.2\"/>\n",
       "<circle clip-path=\"url(#clip932)\" cx=\"962.217\" cy=\"879.991\" r=\"14\" fill=\"#009af9\" fill-rule=\"evenodd\" fill-opacity=\"1\" stroke=\"#000000\" stroke-opacity=\"1\" stroke-width=\"3.2\"/>\n",
       "<circle clip-path=\"url(#clip932)\" cx=\"904.47\" cy=\"1162.85\" r=\"14\" fill=\"#009af9\" fill-rule=\"evenodd\" fill-opacity=\"1\" stroke=\"#000000\" stroke-opacity=\"1\" stroke-width=\"3.2\"/>\n",
       "<circle clip-path=\"url(#clip932)\" cx=\"904.47\" cy=\"1106.28\" r=\"14\" fill=\"#009af9\" fill-rule=\"evenodd\" fill-opacity=\"1\" stroke=\"#000000\" stroke-opacity=\"1\" stroke-width=\"3.2\"/>\n",
       "<circle clip-path=\"url(#clip932)\" cx=\"1250.95\" cy=\"879.991\" r=\"14\" fill=\"#009af9\" fill-rule=\"evenodd\" fill-opacity=\"1\" stroke=\"#000000\" stroke-opacity=\"1\" stroke-width=\"3.2\"/>\n",
       "<circle clip-path=\"url(#clip932)\" cx=\"1077.71\" cy=\"1106.28\" r=\"14\" fill=\"#009af9\" fill-rule=\"evenodd\" fill-opacity=\"1\" stroke=\"#000000\" stroke-opacity=\"1\" stroke-width=\"3.2\"/>\n",
       "<circle clip-path=\"url(#clip932)\" cx=\"615.737\" cy=\"1276\" r=\"14\" fill=\"#009af9\" fill-rule=\"evenodd\" fill-opacity=\"1\" stroke=\"#000000\" stroke-opacity=\"1\" stroke-width=\"3.2\"/>\n",
       "<circle clip-path=\"url(#clip932)\" cx=\"962.217\" cy=\"1049.71\" r=\"14\" fill=\"#009af9\" fill-rule=\"evenodd\" fill-opacity=\"1\" stroke=\"#000000\" stroke-opacity=\"1\" stroke-width=\"3.2\"/>\n",
       "<circle clip-path=\"url(#clip932)\" cx=\"1019.96\" cy=\"879.991\" r=\"14\" fill=\"#009af9\" fill-rule=\"evenodd\" fill-opacity=\"1\" stroke=\"#000000\" stroke-opacity=\"1\" stroke-width=\"3.2\"/>\n",
       "<circle clip-path=\"url(#clip932)\" cx=\"1019.96\" cy=\"936.563\" r=\"14\" fill=\"#009af9\" fill-rule=\"evenodd\" fill-opacity=\"1\" stroke=\"#000000\" stroke-opacity=\"1\" stroke-width=\"3.2\"/>\n",
       "<circle clip-path=\"url(#clip932)\" cx=\"1308.7\" cy=\"936.563\" r=\"14\" fill=\"#009af9\" fill-rule=\"evenodd\" fill-opacity=\"1\" stroke=\"#000000\" stroke-opacity=\"1\" stroke-width=\"3.2\"/>\n",
       "<circle clip-path=\"url(#clip932)\" cx=\"673.484\" cy=\"1162.85\" r=\"14\" fill=\"#009af9\" fill-rule=\"evenodd\" fill-opacity=\"1\" stroke=\"#000000\" stroke-opacity=\"1\" stroke-width=\"3.2\"/>\n",
       "<circle clip-path=\"url(#clip932)\" cx=\"1019.96\" cy=\"993.136\" r=\"14\" fill=\"#009af9\" fill-rule=\"evenodd\" fill-opacity=\"1\" stroke=\"#000000\" stroke-opacity=\"1\" stroke-width=\"3.2\"/>\n",
       "<circle clip-path=\"url(#clip932)\" cx=\"1366.44\" cy=\"710.274\" r=\"14\" fill=\"#009af9\" fill-rule=\"evenodd\" fill-opacity=\"1\" stroke=\"#000000\" stroke-opacity=\"1\" stroke-width=\"3.2\"/>\n",
       "<circle clip-path=\"url(#clip932)\" cx=\"1077.71\" cy=\"1049.71\" r=\"14\" fill=\"#009af9\" fill-rule=\"evenodd\" fill-opacity=\"1\" stroke=\"#000000\" stroke-opacity=\"1\" stroke-width=\"3.2\"/>\n",
       "<circle clip-path=\"url(#clip932)\" cx=\"1828.42\" cy=\"879.991\" r=\"14\" fill=\"#009af9\" fill-rule=\"evenodd\" fill-opacity=\"1\" stroke=\"#000000\" stroke-opacity=\"1\" stroke-width=\"3.2\"/>\n",
       "<circle clip-path=\"url(#clip932)\" cx=\"1366.44\" cy=\"936.563\" r=\"14\" fill=\"#009af9\" fill-rule=\"evenodd\" fill-opacity=\"1\" stroke=\"#000000\" stroke-opacity=\"1\" stroke-width=\"3.2\"/>\n",
       "<circle clip-path=\"url(#clip932)\" cx=\"1481.94\" cy=\"879.991\" r=\"14\" fill=\"#009af9\" fill-rule=\"evenodd\" fill-opacity=\"1\" stroke=\"#000000\" stroke-opacity=\"1\" stroke-width=\"3.2\"/>\n",
       "<circle clip-path=\"url(#clip932)\" cx=\"2117.15\" cy=\"879.991\" r=\"14\" fill=\"#009af9\" fill-rule=\"evenodd\" fill-opacity=\"1\" stroke=\"#000000\" stroke-opacity=\"1\" stroke-width=\"3.2\"/>\n",
       "<circle clip-path=\"url(#clip932)\" cx=\"557.991\" cy=\"1162.85\" r=\"14\" fill=\"#009af9\" fill-rule=\"evenodd\" fill-opacity=\"1\" stroke=\"#000000\" stroke-opacity=\"1\" stroke-width=\"3.2\"/>\n",
       "<circle clip-path=\"url(#clip932)\" cx=\"1943.91\" cy=\"936.563\" r=\"14\" fill=\"#009af9\" fill-rule=\"evenodd\" fill-opacity=\"1\" stroke=\"#000000\" stroke-opacity=\"1\" stroke-width=\"3.2\"/>\n",
       "<circle clip-path=\"url(#clip932)\" cx=\"1597.43\" cy=\"1162.85\" r=\"14\" fill=\"#009af9\" fill-rule=\"evenodd\" fill-opacity=\"1\" stroke=\"#000000\" stroke-opacity=\"1\" stroke-width=\"3.2\"/>\n",
       "<circle clip-path=\"url(#clip932)\" cx=\"1886.16\" cy=\"540.556\" r=\"14\" fill=\"#009af9\" fill-rule=\"evenodd\" fill-opacity=\"1\" stroke=\"#000000\" stroke-opacity=\"1\" stroke-width=\"3.2\"/>\n",
       "<circle clip-path=\"url(#clip932)\" cx=\"1481.94\" cy=\"766.846\" r=\"14\" fill=\"#009af9\" fill-rule=\"evenodd\" fill-opacity=\"1\" stroke=\"#000000\" stroke-opacity=\"1\" stroke-width=\"3.2\"/>\n",
       "<circle clip-path=\"url(#clip932)\" cx=\"1424.19\" cy=\"1049.71\" r=\"14\" fill=\"#009af9\" fill-rule=\"evenodd\" fill-opacity=\"1\" stroke=\"#000000\" stroke-opacity=\"1\" stroke-width=\"3.2\"/>\n",
       "<circle clip-path=\"url(#clip932)\" cx=\"1655.18\" cy=\"879.991\" r=\"14\" fill=\"#009af9\" fill-rule=\"evenodd\" fill-opacity=\"1\" stroke=\"#000000\" stroke-opacity=\"1\" stroke-width=\"3.2\"/>\n",
       "<circle clip-path=\"url(#clip932)\" cx=\"1019.96\" cy=\"1162.85\" r=\"14\" fill=\"#009af9\" fill-rule=\"evenodd\" fill-opacity=\"1\" stroke=\"#000000\" stroke-opacity=\"1\" stroke-width=\"3.2\"/>\n",
       "<circle clip-path=\"url(#clip932)\" cx=\"1077.71\" cy=\"993.136\" r=\"14\" fill=\"#009af9\" fill-rule=\"evenodd\" fill-opacity=\"1\" stroke=\"#000000\" stroke-opacity=\"1\" stroke-width=\"3.2\"/>\n",
       "<circle clip-path=\"url(#clip932)\" cx=\"1424.19\" cy=\"766.846\" r=\"14\" fill=\"#009af9\" fill-rule=\"evenodd\" fill-opacity=\"1\" stroke=\"#000000\" stroke-opacity=\"1\" stroke-width=\"3.2\"/>\n",
       "<circle clip-path=\"url(#clip932)\" cx=\"1481.94\" cy=\"879.991\" r=\"14\" fill=\"#009af9\" fill-rule=\"evenodd\" fill-opacity=\"1\" stroke=\"#000000\" stroke-opacity=\"1\" stroke-width=\"3.2\"/>\n",
       "<circle clip-path=\"url(#clip932)\" cx=\"2174.9\" cy=\"427.411\" r=\"14\" fill=\"#009af9\" fill-rule=\"evenodd\" fill-opacity=\"1\" stroke=\"#000000\" stroke-opacity=\"1\" stroke-width=\"3.2\"/>\n",
       "<circle clip-path=\"url(#clip932)\" cx=\"2174.9\" cy=\"1106.28\" r=\"14\" fill=\"#009af9\" fill-rule=\"evenodd\" fill-opacity=\"1\" stroke=\"#000000\" stroke-opacity=\"1\" stroke-width=\"3.2\"/>\n",
       "<circle clip-path=\"url(#clip932)\" cx=\"1193.2\" cy=\"1332.57\" r=\"14\" fill=\"#009af9\" fill-rule=\"evenodd\" fill-opacity=\"1\" stroke=\"#000000\" stroke-opacity=\"1\" stroke-width=\"3.2\"/>\n",
       "<circle clip-path=\"url(#clip932)\" cx=\"1712.92\" cy=\"766.846\" r=\"14\" fill=\"#009af9\" fill-rule=\"evenodd\" fill-opacity=\"1\" stroke=\"#000000\" stroke-opacity=\"1\" stroke-width=\"3.2\"/>\n",
       "<circle clip-path=\"url(#clip932)\" cx=\"962.217\" cy=\"993.136\" r=\"14\" fill=\"#009af9\" fill-rule=\"evenodd\" fill-opacity=\"1\" stroke=\"#000000\" stroke-opacity=\"1\" stroke-width=\"3.2\"/>\n",
       "<circle clip-path=\"url(#clip932)\" cx=\"2174.9\" cy=\"993.136\" r=\"14\" fill=\"#009af9\" fill-rule=\"evenodd\" fill-opacity=\"1\" stroke=\"#000000\" stroke-opacity=\"1\" stroke-width=\"3.2\"/>\n",
       "<circle clip-path=\"url(#clip932)\" cx=\"1366.44\" cy=\"1049.71\" r=\"14\" fill=\"#009af9\" fill-rule=\"evenodd\" fill-opacity=\"1\" stroke=\"#000000\" stroke-opacity=\"1\" stroke-width=\"3.2\"/>\n",
       "<circle clip-path=\"url(#clip932)\" cx=\"1597.43\" cy=\"710.274\" r=\"14\" fill=\"#009af9\" fill-rule=\"evenodd\" fill-opacity=\"1\" stroke=\"#000000\" stroke-opacity=\"1\" stroke-width=\"3.2\"/>\n",
       "<circle clip-path=\"url(#clip932)\" cx=\"1886.16\" cy=\"766.846\" r=\"14\" fill=\"#009af9\" fill-rule=\"evenodd\" fill-opacity=\"1\" stroke=\"#000000\" stroke-opacity=\"1\" stroke-width=\"3.2\"/>\n",
       "<circle clip-path=\"url(#clip932)\" cx=\"1308.7\" cy=\"993.136\" r=\"14\" fill=\"#009af9\" fill-rule=\"evenodd\" fill-opacity=\"1\" stroke=\"#000000\" stroke-opacity=\"1\" stroke-width=\"3.2\"/>\n",
       "<circle clip-path=\"url(#clip932)\" cx=\"1250.95\" cy=\"879.991\" r=\"14\" fill=\"#009af9\" fill-rule=\"evenodd\" fill-opacity=\"1\" stroke=\"#000000\" stroke-opacity=\"1\" stroke-width=\"3.2\"/>\n",
       "<circle clip-path=\"url(#clip932)\" cx=\"1424.19\" cy=\"993.136\" r=\"14\" fill=\"#009af9\" fill-rule=\"evenodd\" fill-opacity=\"1\" stroke=\"#000000\" stroke-opacity=\"1\" stroke-width=\"3.2\"/>\n",
       "<circle clip-path=\"url(#clip932)\" cx=\"1886.16\" cy=\"879.991\" r=\"14\" fill=\"#009af9\" fill-rule=\"evenodd\" fill-opacity=\"1\" stroke=\"#000000\" stroke-opacity=\"1\" stroke-width=\"3.2\"/>\n",
       "<circle clip-path=\"url(#clip932)\" cx=\"2001.66\" cy=\"993.136\" r=\"14\" fill=\"#009af9\" fill-rule=\"evenodd\" fill-opacity=\"1\" stroke=\"#000000\" stroke-opacity=\"1\" stroke-width=\"3.2\"/>\n",
       "<circle clip-path=\"url(#clip932)\" cx=\"2290.39\" cy=\"427.411\" r=\"14\" fill=\"#009af9\" fill-rule=\"evenodd\" fill-opacity=\"1\" stroke=\"#000000\" stroke-opacity=\"1\" stroke-width=\"3.2\"/>\n",
       "<circle clip-path=\"url(#clip932)\" cx=\"1424.19\" cy=\"993.136\" r=\"14\" fill=\"#009af9\" fill-rule=\"evenodd\" fill-opacity=\"1\" stroke=\"#000000\" stroke-opacity=\"1\" stroke-width=\"3.2\"/>\n",
       "<circle clip-path=\"url(#clip932)\" cx=\"1366.44\" cy=\"993.136\" r=\"14\" fill=\"#009af9\" fill-rule=\"evenodd\" fill-opacity=\"1\" stroke=\"#000000\" stroke-opacity=\"1\" stroke-width=\"3.2\"/>\n",
       "<circle clip-path=\"url(#clip932)\" cx=\"1250.95\" cy=\"1106.28\" r=\"14\" fill=\"#009af9\" fill-rule=\"evenodd\" fill-opacity=\"1\" stroke=\"#000000\" stroke-opacity=\"1\" stroke-width=\"3.2\"/>\n",
       "<circle clip-path=\"url(#clip932)\" cx=\"2174.9\" cy=\"879.991\" r=\"14\" fill=\"#009af9\" fill-rule=\"evenodd\" fill-opacity=\"1\" stroke=\"#000000\" stroke-opacity=\"1\" stroke-width=\"3.2\"/>\n",
       "<circle clip-path=\"url(#clip932)\" cx=\"1366.44\" cy=\"653.701\" r=\"14\" fill=\"#009af9\" fill-rule=\"evenodd\" fill-opacity=\"1\" stroke=\"#000000\" stroke-opacity=\"1\" stroke-width=\"3.2\"/>\n",
       "<circle clip-path=\"url(#clip932)\" cx=\"1424.19\" cy=\"823.418\" r=\"14\" fill=\"#009af9\" fill-rule=\"evenodd\" fill-opacity=\"1\" stroke=\"#000000\" stroke-opacity=\"1\" stroke-width=\"3.2\"/>\n",
       "<circle clip-path=\"url(#clip932)\" cx=\"1193.2\" cy=\"879.991\" r=\"14\" fill=\"#009af9\" fill-rule=\"evenodd\" fill-opacity=\"1\" stroke=\"#000000\" stroke-opacity=\"1\" stroke-width=\"3.2\"/>\n",
       "<circle clip-path=\"url(#clip932)\" cx=\"1712.92\" cy=\"823.418\" r=\"14\" fill=\"#009af9\" fill-rule=\"evenodd\" fill-opacity=\"1\" stroke=\"#000000\" stroke-opacity=\"1\" stroke-width=\"3.2\"/>\n",
       "<circle clip-path=\"url(#clip932)\" cx=\"1597.43\" cy=\"823.418\" r=\"14\" fill=\"#009af9\" fill-rule=\"evenodd\" fill-opacity=\"1\" stroke=\"#000000\" stroke-opacity=\"1\" stroke-width=\"3.2\"/>\n",
       "<circle clip-path=\"url(#clip932)\" cx=\"1712.92\" cy=\"823.418\" r=\"14\" fill=\"#009af9\" fill-rule=\"evenodd\" fill-opacity=\"1\" stroke=\"#000000\" stroke-opacity=\"1\" stroke-width=\"3.2\"/>\n",
       "<circle clip-path=\"url(#clip932)\" cx=\"1077.71\" cy=\"1049.71\" r=\"14\" fill=\"#009af9\" fill-rule=\"evenodd\" fill-opacity=\"1\" stroke=\"#000000\" stroke-opacity=\"1\" stroke-width=\"3.2\"/>\n",
       "<circle clip-path=\"url(#clip932)\" cx=\"1655.18\" cy=\"766.846\" r=\"14\" fill=\"#009af9\" fill-rule=\"evenodd\" fill-opacity=\"1\" stroke=\"#000000\" stroke-opacity=\"1\" stroke-width=\"3.2\"/>\n",
       "<circle clip-path=\"url(#clip932)\" cx=\"1597.43\" cy=\"710.274\" r=\"14\" fill=\"#009af9\" fill-rule=\"evenodd\" fill-opacity=\"1\" stroke=\"#000000\" stroke-opacity=\"1\" stroke-width=\"3.2\"/>\n",
       "<circle clip-path=\"url(#clip932)\" cx=\"1597.43\" cy=\"879.991\" r=\"14\" fill=\"#009af9\" fill-rule=\"evenodd\" fill-opacity=\"1\" stroke=\"#000000\" stroke-opacity=\"1\" stroke-width=\"3.2\"/>\n",
       "<circle clip-path=\"url(#clip932)\" cx=\"1366.44\" cy=\"1162.85\" r=\"14\" fill=\"#009af9\" fill-rule=\"evenodd\" fill-opacity=\"1\" stroke=\"#000000\" stroke-opacity=\"1\" stroke-width=\"3.2\"/>\n",
       "<circle clip-path=\"url(#clip932)\" cx=\"1481.94\" cy=\"879.991\" r=\"14\" fill=\"#009af9\" fill-rule=\"evenodd\" fill-opacity=\"1\" stroke=\"#000000\" stroke-opacity=\"1\" stroke-width=\"3.2\"/>\n",
       "<circle clip-path=\"url(#clip932)\" cx=\"1308.7\" cy=\"653.701\" r=\"14\" fill=\"#009af9\" fill-rule=\"evenodd\" fill-opacity=\"1\" stroke=\"#000000\" stroke-opacity=\"1\" stroke-width=\"3.2\"/>\n",
       "<circle clip-path=\"url(#clip932)\" cx=\"1135.46\" cy=\"879.991\" r=\"14\" fill=\"#009af9\" fill-rule=\"evenodd\" fill-opacity=\"1\" stroke=\"#000000\" stroke-opacity=\"1\" stroke-width=\"3.2\"/>\n",
       "<path clip-path=\"url(#clip930)\" d=\"\n",
       "M1989.74 251.724 L2280.76 251.724 L2280.76 130.764 L1989.74 130.764  Z\n",
       "  \" fill=\"#ffffff\" fill-rule=\"evenodd\" fill-opacity=\"1\"/>\n",
       "<polyline clip-path=\"url(#clip930)\" style=\"stroke:#000000; stroke-width:4; stroke-opacity:1; fill:none\" points=\"\n",
       "  1989.74,251.724 2280.76,251.724 2280.76,130.764 1989.74,130.764 1989.74,251.724 \n",
       "  \"/>\n",
       "<circle clip-path=\"url(#clip930)\" cx=\"2097.74\" cy=\"191.244\" r=\"23\" fill=\"#009af9\" fill-rule=\"evenodd\" fill-opacity=\"1\" stroke=\"#000000\" stroke-opacity=\"1\" stroke-width=\"5.12\"/>\n",
       "<path clip-path=\"url(#clip930)\" d=\"M 0 0 M2195.58 210.931 Q2193.77 215.561 2192.06 216.973 Q2190.35 218.385 2187.48 218.385 L2184.08 218.385 L2184.08 214.82 L2186.58 214.82 Q2188.33 214.82 2189.31 213.987 Q2190.28 213.154 2191.46 210.052 L2192.22 208.107 L2181.74 182.598 L2186.25 182.598 L2194.35 202.876 L2202.46 182.598 L2206.97 182.598 L2195.58 210.931 Z\" fill=\"#000000\" fill-rule=\"evenodd\" fill-opacity=\"1\" /><path clip-path=\"url(#clip930)\" d=\"M 0 0 M2212.85 204.589 L2220.49 204.589 L2220.49 178.223 L2212.18 179.89 L2212.18 175.631 L2220.44 173.964 L2225.12 173.964 L2225.12 204.589 L2232.76 204.589 L2232.76 208.524 L2212.85 208.524 L2212.85 204.589 Z\" fill=\"#000000\" fill-rule=\"evenodd\" fill-opacity=\"1\" /></svg>\n"
      ]
     },
     "execution_count": 85,
     "metadata": {},
     "output_type": "execute_result"
    }
   ],
   "source": [
    "plot( [x[1] for x in eachrow(sepals)], [y[2] for y in eachrow(sepals)], seriestype = :scatter)"
   ]
  },
  {
   "cell_type": "code",
   "execution_count": 8,
   "metadata": {},
   "outputs": [],
   "source": [
    "sepalLengths = [x[1] for x in eachrow(sepals)];\n",
    "sepalWidths = [y[2] for y in eachrow(sepals)];"
   ]
  },
  {
   "cell_type": "code",
   "execution_count": 9,
   "metadata": {},
   "outputs": [],
   "source": [
    "irisSepals = [sepalLengths sepalWidths];"
   ]
  },
  {
   "cell_type": "code",
   "execution_count": 4,
   "metadata": {},
   "outputs": [
    {
     "ename": "UndefVarError",
     "evalue": "UndefVarError: irisSepals not defined",
     "output_type": "error",
     "traceback": [
      "UndefVarError: irisSepals not defined",
      "",
      "Stacktrace:",
      " [1] top-level scope at In[4]:2"
     ]
    }
   ],
   "source": [
    "using Statistics\n",
    "\n",
    "mean(irisSepals[:,1])"
   ]
  },
  {
   "cell_type": "code",
   "execution_count": 375,
   "metadata": {},
   "outputs": [
    {
     "ename": "LoadError",
     "evalue": "syntax: unexpected \"=\"",
     "output_type": "error",
     "traceback": [
      "syntax: unexpected \"=\"",
      ""
     ]
    }
   ],
   "source": [
    "using Statistics\n",
    "using Plots\n",
    "using RDatasets\n",
    "\n",
    "iris = dataset(\"datasets\", \"iris\")\n",
    "sepals = iris[!, [:SepalLength, :SepalWidth]];\n",
    "sepalLengths = [x[1] for x in eachrow(sepals)];\n",
    "sepalWidths = [y[2] for y in eachrow(sepals)];\n",
    "irisSepals = [sepalLengths sepalWidths];\n",
    "\n",
    "\n",
    "function newCentroids(data, centroids, centroidList)\n",
    "    \n",
    "    newCentroids = []\n",
    "    \n",
    "    for centroid in centroids\n",
    "        locations = findall(==(centroid), centroidList)\n",
    "        centroidPoints = data[findall(==(centroid), centroidList),:]\n",
    "        x = mean(centroidPoints[:,1])\n",
    "        y = mean(centroidPoints[:,2])\n",
    "        append!(newCentroids, [[x,y]])\n",
    "       \n",
    "    end\n",
    "    return(newCentroids)\n",
    "    \n",
    "    \n",
    "end\n",
    "        \n",
    "\n",
    "function initialPoints(x,k)\n",
    "    centroids = []\n",
    "    \n",
    "    minx = minimum(x[:,1])\n",
    "    maxx = maximum(x[:,1])\n",
    "    miny = minimum(x[:,2])\n",
    "    maxy = maximum(x[:,2])\n",
    "    \n",
    "    for i in 1:k\n",
    "        append!(centroids,     [    [ minx+(i/k-1/(2*k))*(maxx-minx)   , miny+(i/k-1/(2*k))*(maxy-miny)] ]   )\n",
    "    end\n",
    "    \n",
    "    return(centroids)\n",
    "end\n",
    "\n",
    "\n",
    "\n",
    "function kmeans(x, k, centroids=0)\n",
    "    \n",
    "    minx = minimum(x[:,1])\n",
    "    maxx = maximum(x[:,1])\n",
    "    miny = minimum(x[:,2])\n",
    "    maxy = maximum(x[:,2])\n",
    " \n",
    "    if centroids = 0\n",
    "    \n",
    "        centroids = initialPoints(x,k)\n",
    "    end\n",
    "        \n",
    "    centroidList = [[0.0,0.0] for x in 1:150]   ## initialize array for storing which centroid for each point\n",
    "    \n",
    "    \n",
    "    for i in 1:size(x)[1]    \n",
    "        xval = x[i,1]\n",
    "        yval = x[i,2]\n",
    "        \n",
    "        distance = sqrt((maxx-minx)^2+(maxy-miny)^2)\n",
    "        \n",
    "        for centroid in centroids\n",
    "            d = sqrt((xval-centroid[1])^2 + (yval - centroid[2])^2)\n",
    "            if d<distance\n",
    "                distance = d\n",
    "                centroidList[i, :] = [[centroid[1], centroid[2]]]   \n",
    "            end\n",
    "        end\n",
    "        \n",
    "    end\n",
    "    \n",
    "   \n",
    "    \n",
    "    return([centroids, centroidList])\n",
    "    \n",
    "\n",
    "end"
   ]
  },
  {
   "cell_type": "code",
   "execution_count": 376,
   "metadata": {},
   "outputs": [
    {
     "ename": "UndefVarError",
     "evalue": "UndefVarError: maxx not defined",
     "output_type": "error",
     "traceback": [
      "UndefVarError: maxx not defined",
      "",
      "Stacktrace:",
      " [1] kmeans(::Array{Float64,2}, ::Int64) at ./In[358]:51",
      " [2] top-level scope at In[376]:1"
     ]
    }
   ],
   "source": [
    "results = kmeans(irisSepals, 4);\n",
    "\n",
    "results[1]"
   ]
  },
  {
   "cell_type": "code",
   "execution_count": 357,
   "metadata": {},
   "outputs": [
    {
     "data": {
      "text/plain": [
       "4.705263157894737"
      ]
     },
     "execution_count": 357,
     "metadata": {},
     "output_type": "execute_result"
    }
   ],
   "source": [
    "results2 = (newCentroids(irisSepals, results[1], results[2]));\n",
    "\n",
    "\n",
    "results2[1][1]"
   ]
  },
  {
   "cell_type": "code",
   "execution_count": 349,
   "metadata": {},
   "outputs": [
    {
     "name": "stdout",
     "output_type": "stream",
     "text": [
      "[4.705263157894737, 2.857894736842105]\n",
      "[5.568292682926828, 3.041463414634146]\n",
      "[6.620930232558139, 3.137209302325581]\n",
      "[7.633333333333334, 3.3333333333333335]\n"
     ]
    }
   ],
   "source": [
    "for result in results2\n",
    "    print(result, \"\\n\")\n",
    "end"
   ]
  },
  {
   "cell_type": "code",
   "execution_count": null,
   "metadata": {},
   "outputs": [],
   "source": []
  },
  {
   "cell_type": "code",
   "execution_count": null,
   "metadata": {},
   "outputs": [],
   "source": []
  },
  {
   "cell_type": "code",
   "execution_count": null,
   "metadata": {},
   "outputs": [],
   "source": []
  },
  {
   "cell_type": "code",
   "execution_count": null,
   "metadata": {},
   "outputs": [],
   "source": []
  },
  {
   "cell_type": "code",
   "execution_count": null,
   "metadata": {},
   "outputs": [],
   "source": []
  },
  {
   "cell_type": "code",
   "execution_count": null,
   "metadata": {},
   "outputs": [],
   "source": []
  },
  {
   "cell_type": "code",
   "execution_count": 257,
   "metadata": {},
   "outputs": [
    {
     "data": {
      "text/plain": [
       "3"
      ]
     },
     "execution_count": 257,
     "metadata": {},
     "output_type": "execute_result"
    }
   ],
   "source": [
    "maximum([1,2,3])"
   ]
  },
  {
   "cell_type": "code",
   "execution_count": 65,
   "metadata": {},
   "outputs": [
    {
     "data": {
      "text/plain": [
       "1-element Array{Array{Int64,1},1}:\n",
       " [1, 2]"
      ]
     },
     "execution_count": 65,
     "metadata": {},
     "output_type": "execute_result"
    }
   ],
   "source": [
    "centroidList = [[0,0] for x in 1:150]   ## initialize array for storing which centroid for each;\n",
    "\n",
    "centroidList[1,:] = [[1,2]]"
   ]
  },
  {
   "cell_type": "code",
   "execution_count": 206,
   "metadata": {},
   "outputs": [
    {
     "name": "stderr",
     "output_type": "stream",
     "text": [
      "┌ Info: Recompiling stale cache file /Users/millera2/.julia/compiled/v1.2/Distributions/xILW0.ji for Distributions [31c24e10-a181-5473-b8eb-7969acd0382f]\n",
      "└ @ Base loading.jl:1240\n"
     ]
    }
   ],
   "source": [
    "using Random, Distributions"
   ]
  },
  {
   "cell_type": "code",
   "execution_count": 213,
   "metadata": {},
   "outputs": [
    {
     "data": {
      "text/plain": [
       "10-element Array{Float64,1}:\n",
       " 0.841344746068543 \n",
       " 0.9772498680518208\n",
       " 0.9986501019683699\n",
       " 0.9999683287581669\n",
       " 0.9999997133484281\n",
       " 0.9999999990134123\n",
       " 0.9999999999987201\n",
       " 0.9999999999999993\n",
       " 1.0               \n",
       " 1.0               "
      ]
     },
     "execution_count": 213,
     "metadata": {},
     "output_type": "execute_result"
    }
   ],
   "source": [
    "cdf.(Normal(), 1:10)"
   ]
  },
  {
   "cell_type": "code",
   "execution_count": 222,
   "metadata": {},
   "outputs": [
    {
     "data": {
      "text/plain": [
       "10-element Array{Int64,1}:\n",
       "  4\n",
       "  8\n",
       " 12\n",
       " 16\n",
       " 20\n",
       " 24\n",
       " 28\n",
       " 32\n",
       " 36\n",
       " 40"
      ]
     },
     "execution_count": 222,
     "metadata": {},
     "output_type": "execute_result"
    }
   ],
   "source": [
    "[2*x for x in 1:20 if x%2==0]"
   ]
  },
  {
   "cell_type": "code",
   "execution_count": 246,
   "metadata": {},
   "outputs": [
    {
     "data": {
      "text/plain": [
       "3×3 Array{Float64,2}:\n",
       " 0.0  0.0  0.0\n",
       " 0.0  0.0  0.0\n",
       " 0.0  0.0  0.0"
      ]
     },
     "execution_count": 246,
     "metadata": {},
     "output_type": "execute_result"
    }
   ],
   "source": [
    "x = zeros(3,3)\n"
   ]
  },
  {
   "cell_type": "code",
   "execution_count": 250,
   "metadata": {},
   "outputs": [
    {
     "data": {
      "text/plain": [
       "2-element Array{Array,1}:\n",
       " [0.0 0.0 0.0; 0.0 0.0 0.0; 0.0 0.0 0.0]\n",
       " Array{Float64,1}[[0.0, 0.0, 0.0]]      "
      ]
     },
     "execution_count": 250,
     "metadata": {},
     "output_type": "execute_result"
    }
   ],
   "source": [
    "u = Array([x, [zeros(3)]])"
   ]
  },
  {
   "cell_type": "code",
   "execution_count": 245,
   "metadata": {},
   "outputs": [
    {
     "data": {
      "text/plain": [
       "2-element Array{Array{T,1} where T,1}:\n",
       " [0.0, 0.0, 0.0]                  \n",
       " Array{Float64,1}[[0.0, 0.0, 0.0]]"
      ]
     },
     "execution_count": 245,
     "metadata": {},
     "output_type": "execute_result"
    }
   ],
   "source": [
    "u"
   ]
  },
  {
   "cell_type": "code",
   "execution_count": 364,
   "metadata": {},
   "outputs": [
    {
     "data": {
      "text/plain": [
       "f (generic function with 2 methods)"
      ]
     },
     "execution_count": 364,
     "metadata": {},
     "output_type": "execute_result"
    }
   ],
   "source": [
    "function f(x=2)\n",
    "    return x+3\n",
    "end"
   ]
  },
  {
   "cell_type": "code",
   "execution_count": 365,
   "metadata": {},
   "outputs": [
    {
     "data": {
      "text/plain": [
       "7"
      ]
     },
     "execution_count": 365,
     "metadata": {},
     "output_type": "execute_result"
    }
   ],
   "source": [
    "f(4)"
   ]
  },
  {
   "cell_type": "code",
   "execution_count": 366,
   "metadata": {},
   "outputs": [
    {
     "data": {
      "text/plain": [
       "5"
      ]
     },
     "execution_count": 366,
     "metadata": {},
     "output_type": "execute_result"
    }
   ],
   "source": [
    "f()"
   ]
  },
  {
   "cell_type": "code",
   "execution_count": null,
   "metadata": {},
   "outputs": [],
   "source": []
  }
 ],
 "metadata": {
  "kernelspec": {
   "display_name": "Julia 1.2.0",
   "language": "julia",
   "name": "julia-1.2"
  },
  "language_info": {
   "file_extension": ".jl",
   "mimetype": "application/julia",
   "name": "julia",
   "version": "1.2.0"
  }
 },
 "nbformat": 4,
 "nbformat_minor": 4
}
