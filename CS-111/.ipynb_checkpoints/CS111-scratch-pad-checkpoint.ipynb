{
 "cells": [
  {
   "cell_type": "code",
   "execution_count": null,
   "metadata": {},
   "outputs": [],
   "source": [
    "\n",
    "import turtle\n",
    "import random\n",
    "\n",
    "george = turtle.Turtle()\n",
    "\n",
    "\n",
    "george.pencolor(\"red\")\n",
    "george.fillcolor(\"yellow\")\n",
    "\n",
    "screen = george.getscreen()\n",
    "\n",
    "george.speed(0)\n",
    "\n",
    "\n",
    "def makePoly(n, length):\n",
    "    angle = (n-2)*180/n\n",
    "    for i in range(n):\n",
    "        george.forward(length/n)\n",
    "        george.left(180-angle)\n",
    "\n",
    "def newBloom(x,y):\n",
    "    george.penup()\n",
    "    george.goto(x,y)\n",
    "    george.pendown()\n",
    "    george.setheading(0)\n",
    "    george.pencolor(\"black\")\n",
    "    george.fillcolor(random.choice([\"limegreen\", \"violet\", \"aqua\", \"yellow\", \"blue\", \"purple\", \"red\", \"pink\", \"orange\", \"brown\", \"deeppink\", \"coral\"]))\n",
    "    sideLength = random.randrange(20,200)\n",
    "    george.begin_fill()\n",
    "    length = random.randrange(200,700)\n",
    "    n = random.randrange(3,8)\n",
    "    makePoly(n, length)\n",
    "    george.end_fill()\n",
    "\n",
    "\n",
    "\n",
    "    \n",
    "def square(heading):\n",
    "    george.setheading(heading)\n",
    "    for i in range(2):\n",
    "        george.forward(100)\n",
    "        george.left(90)\n",
    "        george.forward(150)\n",
    "        george.left(90)\n",
    "    \n",
    "    \n",
    "#for i in range(225):\n",
    "#    if i%10==0:\n",
    "#        square(i)\n",
    "        \n",
    "george.pencolor(\"black\")\n",
    "\n",
    "\n",
    "def pentagram():\n",
    "    for i in range(50):\n",
    "        george.forward(50+20*i)\n",
    "        george.left(180-36)\n",
    "        \n",
    "\n",
    "pentagram()\n",
    "        \n",
    "#screen.onclick(newBloom)\n",
    "\n",
    "turtle.mainloop()\n"
   ]
  },
  {
   "cell_type": "code",
   "execution_count": null,
   "metadata": {},
   "outputs": [],
   "source": []
  },
  {
   "cell_type": "code",
   "execution_count": 3,
   "metadata": {},
   "outputs": [
    {
     "data": {
      "text/plain": [
       "str"
      ]
     },
     "execution_count": 3,
     "metadata": {},
     "output_type": "execute_result"
    }
   ],
   "source": [
    "type(random.choice([\"yellow\", \"blue\"]))"
   ]
  },
  {
   "cell_type": "code",
   "execution_count": null,
   "metadata": {},
   "outputs": [],
   "source": []
  }
 ],
 "metadata": {
  "kernelspec": {
   "display_name": "Python 3",
   "language": "python",
   "name": "python3"
  },
  "language_info": {
   "codemirror_mode": {
    "name": "ipython",
    "version": 3
   },
   "file_extension": ".py",
   "mimetype": "text/x-python",
   "name": "python",
   "nbconvert_exporter": "python",
   "pygments_lexer": "ipython3",
   "version": "3.8.3"
  }
 },
 "nbformat": 4,
 "nbformat_minor": 4
}
