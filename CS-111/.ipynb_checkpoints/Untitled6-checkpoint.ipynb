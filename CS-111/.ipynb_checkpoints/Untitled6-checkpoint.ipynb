{
 "cells": [
  {
   "cell_type": "code",
   "execution_count": 1,
   "metadata": {},
   "outputs": [],
   "source": [
    "using LinearAlgebra\n",
    "using Plots\n",
    "using LaTeXStrings\n"
   ]
  },
  {
   "cell_type": "code",
   "execution_count": 78,
   "metadata": {},
   "outputs": [
    {
     "ename": "LoadError",
     "evalue": "syntax: invalid interpolation syntax: \"$\"\"",
     "output_type": "error",
     "traceback": [
      "syntax: invalid interpolation syntax: \"$\"\"",
      ""
     ]
    }
   ],
   "source": [
    "\"\\$(\\\\alpha)$\""
   ]
  },
  {
   "cell_type": "code",
   "execution_count": 2,
   "metadata": {},
   "outputs": [
    {
     "data": {
      "text/plain": [
       "2×2 Array{Float64,2}:\n",
       " 1.41421  0.0    \n",
       " 0.0      1.41421"
      ]
     },
     "execution_count": 2,
     "metadata": {},
     "output_type": "execute_result"
    }
   ],
   "source": [
    "U = [sqrt(2) 0; 0 sqrt(2)]"
   ]
  },
  {
   "cell_type": "code",
   "execution_count": 3,
   "metadata": {},
   "outputs": [
    {
     "data": {
      "text/plain": [
       "2×2 Array{Int64,2}:\n",
       " 1  0\n",
       " 0  0"
      ]
     },
     "execution_count": 3,
     "metadata": {},
     "output_type": "execute_result"
    }
   ],
   "source": [
    "S = [1 0; 0 0]"
   ]
  },
  {
   "cell_type": "code",
   "execution_count": 4,
   "metadata": {},
   "outputs": [
    {
     "data": {
      "text/plain": [
       "2×2 Array{Float64,2}:\n",
       " 0.707107   0.707107\n",
       " 0.707107  -0.707107"
      ]
     },
     "execution_count": 4,
     "metadata": {},
     "output_type": "execute_result"
    }
   ],
   "source": [
    "V = [sqrt(2)/2 sqrt(2)/2; sqrt(2)/2 -sqrt(2)/2]"
   ]
  },
  {
   "cell_type": "code",
   "execution_count": 5,
   "metadata": {},
   "outputs": [
    {
     "data": {
      "text/plain": [
       "2×2 Array{Float64,2}:\n",
       " 1.0  1.0\n",
       " 0.0  0.0"
      ]
     },
     "execution_count": 5,
     "metadata": {},
     "output_type": "execute_result"
    }
   ],
   "source": [
    "U*S*V"
   ]
  },
  {
   "cell_type": "code",
   "execution_count": null,
   "metadata": {},
   "outputs": [],
   "source": []
  },
  {
   "cell_type": "code",
   "execution_count": 6,
   "metadata": {},
   "outputs": [
    {
     "data": {
      "text/plain": [
       "2×2 Array{Int64,2}:\n",
       " 1  1\n",
       " 1  1"
      ]
     },
     "execution_count": 6,
     "metadata": {},
     "output_type": "execute_result"
    }
   ],
   "source": [
    "A = [1 1; 1 1]"
   ]
  },
  {
   "cell_type": "code",
   "execution_count": 7,
   "metadata": {},
   "outputs": [
    {
     "data": {
      "text/plain": [
       "SVD{Float64,Float64,Array{Float64,2}}([-0.7071067811865472 -0.7071067811865475; -0.7071067811865475 0.7071067811865475], [2.0, 0.0], [-0.7071067811865476 -0.7071067811865475; -0.7071067811865475 0.7071067811865476])"
      ]
     },
     "execution_count": 7,
     "metadata": {},
     "output_type": "execute_result"
    }
   ],
   "source": [
    "svd(A)"
   ]
  },
  {
   "cell_type": "code",
   "execution_count": null,
   "metadata": {},
   "outputs": [],
   "source": []
  },
  {
   "cell_type": "code",
   "execution_count": 8,
   "metadata": {},
   "outputs": [
    {
     "data": {
      "text/plain": [
       "20000-element LinRange{Float64}:\n",
       " 0.0,0.000314175,0.00062835,0.000942525,…,6.28224,6.28256,6.28287,6.28319"
      ]
     },
     "execution_count": 8,
     "metadata": {},
     "output_type": "execute_result"
    }
   ],
   "source": [
    "angles = LinRange(0,2π, 20000)"
   ]
  },
  {
   "cell_type": "code",
   "execution_count": 9,
   "metadata": {},
   "outputs": [],
   "source": [
    "unitVectors = []\n",
    "\n",
    "for angle in angles\n",
    "    append!(unitVectors, [ [cos(angle), sin(angle) ] ])\n",
    "end"
   ]
  },
  {
   "cell_type": "markdown",
   "metadata": {},
   "source": [
    "Compute Matrix Norm\n",
    "\n",
    "Input:  matrix A, unitVectors\n",
    "Output: ||A||, x st ||Ax|| = ||A|| "
   ]
  },
  {
   "cell_type": "code",
   "execution_count": 10,
   "metadata": {},
   "outputs": [
    {
     "data": {
      "text/plain": [
       "matrixNorm (generic function with 1 method)"
      ]
     },
     "execution_count": 10,
     "metadata": {},
     "output_type": "execute_result"
    }
   ],
   "source": [
    "function matrixNorm(A)\n",
    "    \n",
    "    unitVectors = []\n",
    "\n",
    "    for angle in angles\n",
    "        append!(unitVectors, [ [cos(angle), sin(angle) ] ])\n",
    "    end\n",
    "    \n",
    "    normA = 0\n",
    "    v = [0,0]\n",
    "    \n",
    "    \n",
    "    for vector in unitVectors\n",
    "        product = A*vector\n",
    "        length = norm(product)\n",
    "        if length>normA\n",
    "            normA = length\n",
    "            v = vector\n",
    "        end\n",
    "    end\n",
    "    \n",
    "    return [normA, v]\n",
    "    \n",
    "end\n",
    "            \n",
    "            \n",
    "    "
   ]
  },
  {
   "cell_type": "code",
   "execution_count": 122,
   "metadata": {},
   "outputs": [
    {
     "data": {
      "text/plain": [
       "2×2 Array{Int64,2}:\n",
       " -2  1\n",
       "  4  3"
      ]
     },
     "execution_count": 122,
     "metadata": {},
     "output_type": "execute_result"
    }
   ],
   "source": [
    "A = [-2 1; 4 3]"
   ]
  },
  {
   "cell_type": "code",
   "execution_count": 123,
   "metadata": {},
   "outputs": [
    {
     "data": {
      "text/plain": [
       "2-element Array{Any,1}:\n",
       " 5.116672736008657                        \n",
       "  [0.8506497855507007, 0.5257327670428646]"
      ]
     },
     "execution_count": 123,
     "metadata": {},
     "output_type": "execute_result"
    }
   ],
   "source": [
    "result = matrixNorm(A)"
   ]
  },
  {
   "cell_type": "code",
   "execution_count": 13,
   "metadata": {},
   "outputs": [
    {
     "data": {
      "text/plain": [
       "0.8506497855507007"
      ]
     },
     "execution_count": 13,
     "metadata": {},
     "output_type": "execute_result"
    }
   ],
   "source": [
    "result[2][1]"
   ]
  },
  {
   "cell_type": "code",
   "execution_count": 63,
   "metadata": {},
   "outputs": [
    {
     "data": {
      "text/latex": [
       "$\\alpha \\cdot \\mathrm{ test}$"
      ],
      "text/plain": [
       "L\"$\\alpha \\cdot \\mathrm{ test}$\""
      ]
     },
     "execution_count": 63,
     "metadata": {},
     "output_type": "execute_result"
    }
   ],
   "source": [
    "L\"\\alpha \\cdot \\mathrm{ test}\""
   ]
  },
  {
   "cell_type": "code",
   "execution_count": 83,
   "metadata": {},
   "outputs": [
    {
     "ename": "LoadError",
     "evalue": "syntax: \"\\\" is not a unary operator",
     "output_type": "error",
     "traceback": [
      "syntax: \"\\\" is not a unary operator",
      ""
     ]
    }
   ],
   "source": [
    "\"$(\\Omega_d)^2$\""
   ]
  },
  {
   "cell_type": "code",
   "execution_count": 80,
   "metadata": {},
   "outputs": [
    {
     "ename": "LoadError",
     "evalue": "syntax: invalid character \"“\" near column 96",
     "output_type": "error",
     "traceback": [
      "syntax: invalid character \"“\" near column 96",
      ""
     ]
    }
   ],
   "source": [
    "\n",
    "\n",
    "\n",
    "perp = [1,0]\n",
    "\n",
    "perp = [1,-(A*result[2])[1]/(A*result[2])[2]]\n",
    "perp = perp./norm(perp)*1.95\n",
    "\n",
    "\n",
    "\n",
    "plot( [(A*x)[1] for x in unitVectors], [(A*x)[2] for x in unitVectors], aspect_ratio=1, title= ,label=\"unit ball\", bg = false)\n",
    "plot!( [0, (A*result[2])[1]], [0, (A*result[2])[2]]  , label = \"\\alpha\" )\n",
    "plot!( [0, perp[1]], [0, perp[2]], label = L\"v_2\")\n"
   ]
  },
  {
   "cell_type": "code",
   "execution_count": 35,
   "metadata": {},
   "outputs": [
    {
     "data": {
      "text/latex": [
       "test $test$"
      ],
      "text/plain": [
       "L\"test $test$\""
      ]
     },
     "execution_count": 35,
     "metadata": {},
     "output_type": "execute_result"
    }
   ],
   "source": []
  },
  {
   "cell_type": "markdown",
   "metadata": {},
   "source": [
    "(a,b)  (x,y)\n",
    "\n",
    "(ax+by) = 0\n",
    "\n",
    "x = 1\n",
    "\n",
    "a+by = 0\n",
    "\n",
    "y = -a/b\n",
    "\n",
    "\n"
   ]
  },
  {
   "cell_type": "code",
   "execution_count": 22,
   "metadata": {},
   "outputs": [
    {
     "ename": "MethodError",
     "evalue": "MethodError: no method matching +(::String, ::String)\nClosest candidates are:\n  +(::Any, ::Any, !Matched::Any, !Matched::Any...) at operators.jl:529",
     "output_type": "error",
     "traceback": [
      "MethodError: no method matching +(::String, ::String)\nClosest candidates are:\n  +(::Any, ::Any, !Matched::Any, !Matched::Any...) at operators.jl:529",
      "",
      "Stacktrace:",
      " [1] top-level scope at In[22]:1"
     ]
    }
   ],
   "source": [
    "\"test\"+\"string\""
   ]
  },
  {
   "cell_type": "code",
   "execution_count": 17,
   "metadata": {},
   "outputs": [
    {
     "data": {
      "text/plain": [
       "2-element Array{Float64,1}:\n",
       "  1.0  \n",
       " -0.375"
      ]
     },
     "execution_count": 17,
     "metadata": {},
     "output_type": "execute_result"
    }
   ],
   "source": [
    "v = [1;-3/8]"
   ]
  },
  {
   "cell_type": "code",
   "execution_count": 18,
   "metadata": {},
   "outputs": [
    {
     "data": {
      "text/plain": [
       "2-element Array{Float64,1}:\n",
       "  0.9363291775690445\n",
       " -0.3511234415883917"
      ]
     },
     "execution_count": 18,
     "metadata": {},
     "output_type": "execute_result"
    }
   ],
   "source": [
    "v=v./norm(v)"
   ]
  },
  {
   "cell_type": "code",
   "execution_count": 19,
   "metadata": {},
   "outputs": [
    {
     "data": {
      "text/plain": [
       "0.0"
      ]
     },
     "execution_count": 19,
     "metadata": {},
     "output_type": "execute_result"
    }
   ],
   "source": [
    "u⋅v"
   ]
  },
  {
   "cell_type": "code",
   "execution_count": 124,
   "metadata": {},
   "outputs": [
    {
     "ename": "LoadError",
     "evalue": "syntax: unexpected \"end\"",
     "output_type": "error",
     "traceback": [
      "syntax: unexpected \"end\"",
      ""
     ]
    }
   ],
   "source": []
  },
  {
   "cell_type": "code",
   "execution_count": 100,
   "metadata": {},
   "outputs": [
    {
     "data": {
      "text/plain": [
       "-2"
      ]
     },
     "execution_count": 100,
     "metadata": {},
     "output_type": "execute_result"
    }
   ],
   "source": [
    "gramSm"
   ]
  },
  {
   "cell_type": "code",
   "execution_count": 102,
   "metadata": {},
   "outputs": [
    {
     "data": {
      "text/plain": [
       "2.23606797749979"
      ]
     },
     "execution_count": 102,
     "metadata": {},
     "output_type": "execute_result"
    }
   ],
   "source": [
    "t = [1;2]\n",
    "norm(t)"
   ]
  },
  {
   "cell_type": "code",
   "execution_count": 103,
   "metadata": {},
   "outputs": [
    {
     "data": {
      "text/plain": [
       "2.23606797749979"
      ]
     },
     "execution_count": 103,
     "metadata": {},
     "output_type": "execute_result"
    }
   ],
   "source": [
    "sqrt(1+4)"
   ]
  },
  {
   "cell_type": "code",
   "execution_count": 97,
   "metadata": {},
   "outputs": [
    {
     "data": {
      "text/plain": [
       "2×4 Array{Float64,2}:\n",
       " 0.0  0.0  0.0  0.0\n",
       " 0.0  0.0  0.0  0.0"
      ]
     },
     "execution_count": 97,
     "metadata": {},
     "output_type": "execute_result"
    }
   ],
   "source": [
    "zeros(2,4)"
   ]
  },
  {
   "cell_type": "code",
   "execution_count": 120,
   "metadata": {},
   "outputs": [],
   "source": [
    "for i in 1:0\n",
    "    print(i)\n",
    "end"
   ]
  },
  {
   "cell_type": "code",
   "execution_count": 113,
   "metadata": {},
   "outputs": [
    {
     "data": {
      "text/plain": [
       "f (generic function with 1 method)"
      ]
     },
     "execution_count": 113,
     "metadata": {},
     "output_type": "execute_result"
    }
   ],
   "source": [
    "function f(x)\n",
    "    return(2*x)\n",
    "end"
   ]
  },
  {
   "cell_type": "code",
   "execution_count": 114,
   "metadata": {},
   "outputs": [
    {
     "data": {
      "text/plain": [
       "4"
      ]
     },
     "execution_count": 114,
     "metadata": {},
     "output_type": "execute_result"
    }
   ],
   "source": [
    "f(2)"
   ]
  },
  {
   "cell_type": "code",
   "execution_count": 229,
   "metadata": {},
   "outputs": [
    {
     "data": {
      "text/plain": [
       "gramSchmidt (generic function with 1 method)"
      ]
     },
     "execution_count": 229,
     "metadata": {},
     "output_type": "execute_result"
    }
   ],
   "source": [
    "function gramSchmidt(A)\n",
    "    m = size(A)[1]; n = size(A)[2]\n",
    "    r = zeros(n,n); q = zeros(m,n)\n",
    "    \n",
    "    for j in 1:n\n",
    "        \n",
    "        v = A[:,j]\n",
    "        \n",
    "        for i in 1:(j-1)\n",
    "            r[i,j]=q[:,i]⋅A[:,j]\n",
    "            v = v - r[i,j].*q[:,i]\n",
    "        end\n",
    "        \n",
    "        r[j,j] = norm(v)\n",
    "        q[:,j] = v./r[j,j]\n",
    "    end\n",
    "    \n",
    "    return[q,r]\n",
    "    \n",
    "end\n",
    "\n",
    "            "
   ]
  },
  {
   "cell_type": "code",
   "execution_count": 230,
   "metadata": {},
   "outputs": [
    {
     "data": {
      "text/plain": [
       "2-element Array{Array{Float64,2},1}:\n",
       " [0.8571428571428571 -0.3942857142857143 -0.33142857142857146; 0.42857142857142855 0.9028571428571428 0.03428571428571416; -0.2857142857142857 0.17142857142857143 -0.9428571428571428]\n",
       " [14.0 20.999999999999996 -14.000000000000002; 0.0 175.0 -70.0; 0.0 0.0 35.0]                                                                                                          "
      ]
     },
     "execution_count": 230,
     "metadata": {},
     "output_type": "execute_result"
    }
   ],
   "source": [
    "A = [12 -51 4; 6 167 -68; -4 24 -41]\n",
    "\n",
    "res = gramSchmidt(A)"
   ]
  },
  {
   "cell_type": "code",
   "execution_count": 231,
   "metadata": {},
   "outputs": [
    {
     "data": {
      "text/plain": [
       "-2.0816681711721685e-17"
      ]
     },
     "execution_count": 231,
     "metadata": {},
     "output_type": "execute_result"
    }
   ],
   "source": [
    "res[1][:,1]⋅res[1][:,2]"
   ]
  },
  {
   "cell_type": "code",
   "execution_count": 226,
   "metadata": {},
   "outputs": [
    {
     "data": {
      "text/plain": [
       "-0.3942857142857143"
      ]
     },
     "execution_count": 226,
     "metadata": {},
     "output_type": "execute_result"
    }
   ],
   "source": [
    "-69/175"
   ]
  },
  {
   "cell_type": "code",
   "execution_count": 189,
   "metadata": {},
   "outputs": [
    {
     "data": {
      "text/plain": [
       "2×2 Array{Float64,2}:\n",
       " 1.0  2.0\n",
       " 3.0  4.0"
      ]
     },
     "execution_count": 189,
     "metadata": {},
     "output_type": "execute_result"
    }
   ],
   "source": [
    "[-0.316228 -0.948683; -0.948683 0.316228]*[-3.16228 -4.42719; 0 -0.632456]"
   ]
  },
  {
   "cell_type": "code",
   "execution_count": 219,
   "metadata": {},
   "outputs": [
    {
     "data": {
      "text/plain": [
       "1//2"
      ]
     },
     "execution_count": 219,
     "metadata": {},
     "output_type": "execute_result"
    }
   ],
   "source": [
    "Rational(.5)"
   ]
  },
  {
   "cell_type": "code",
   "execution_count": 8,
   "metadata": {},
   "outputs": [
    {
     "data": {
      "text/plain": [
       "3×3 Array{Int64,2}:\n",
       " 1  2  1\n",
       " 3  4  0\n",
       " 5  6  0"
      ]
     },
     "execution_count": 8,
     "metadata": {},
     "output_type": "execute_result"
    }
   ],
   "source": [
    "A = [1 2 1; 3 4 0; 5 6 0]"
   ]
  },
  {
   "cell_type": "code",
   "execution_count": 9,
   "metadata": {},
   "outputs": [
    {
     "data": {
      "text/plain": [
       "3×3 LinearAlgebra.Adjoint{Int64,Array{Int64,2}}:\n",
       " 1  3  5\n",
       " 2  4  6\n",
       " 1  0  0"
      ]
     },
     "execution_count": 9,
     "metadata": {},
     "output_type": "execute_result"
    }
   ],
   "source": [
    "A'"
   ]
  },
  {
   "cell_type": "code",
   "execution_count": 11,
   "metadata": {},
   "outputs": [
    {
     "data": {
      "text/plain": [
       "3×3 LinearAlgebra.Adjoint{Int64,Array{Int64,2}}:\n",
       " 35  44  1\n",
       " 44  56  2\n",
       "  1   2  1"
      ]
     },
     "execution_count": 11,
     "metadata": {},
     "output_type": "execute_result"
    }
   ],
   "source": [
    "(A'*A)'"
   ]
  },
  {
   "cell_type": "code",
   "execution_count": 12,
   "metadata": {},
   "outputs": [
    {
     "data": {
      "text/plain": [
       "3×3 Array{Int64,2}:\n",
       " 35  44  1\n",
       " 44  56  2\n",
       "  1   2  1"
      ]
     },
     "execution_count": 12,
     "metadata": {},
     "output_type": "execute_result"
    }
   ],
   "source": [
    "A'*A"
   ]
  },
  {
   "cell_type": "code",
   "execution_count": 13,
   "metadata": {},
   "outputs": [
    {
     "data": {
      "text/plain": [
       "3×3 Array{Int64,2}:\n",
       " 1  2  1\n",
       " 3  4  0\n",
       " 5  6  0"
      ]
     },
     "execution_count": 13,
     "metadata": {},
     "output_type": "execute_result"
    }
   ],
   "source": [
    "A"
   ]
  },
  {
   "cell_type": "code",
   "execution_count": 14,
   "metadata": {},
   "outputs": [
    {
     "data": {
      "text/plain": [
       "3×3 Array{Int64,2}:\n",
       " 0  1  0\n",
       " 1  0  0\n",
       " 0  0  1"
      ]
     },
     "execution_count": 14,
     "metadata": {},
     "output_type": "execute_result"
    }
   ],
   "source": [
    "P = [0 1 0; 1 0 0; 0 0 1]"
   ]
  },
  {
   "cell_type": "code",
   "execution_count": 15,
   "metadata": {},
   "outputs": [
    {
     "data": {
      "text/plain": [
       "3×3 Array{Int64,2}:\n",
       " 2  1  1\n",
       " 4  3  0\n",
       " 6  5  0"
      ]
     },
     "execution_count": 15,
     "metadata": {},
     "output_type": "execute_result"
    }
   ],
   "source": [
    "A*P"
   ]
  },
  {
   "cell_type": "code",
   "execution_count": 16,
   "metadata": {},
   "outputs": [
    {
     "data": {
      "text/plain": [
       "3×3 Array{Float64,2}:\n",
       " 0.0  -3.0   2.0\n",
       " 0.0   2.5  -1.5\n",
       " 1.0  -2.0   1.0"
      ]
     },
     "execution_count": 16,
     "metadata": {},
     "output_type": "execute_result"
    }
   ],
   "source": [
    "inv(A)"
   ]
  },
  {
   "cell_type": "code",
   "execution_count": 17,
   "metadata": {},
   "outputs": [
    {
     "data": {
      "text/plain": [
       "3×3 Array{Float64,2}:\n",
       " -2.22045e-16   2.5  -1.5\n",
       "  2.22045e-16  -3.0   2.0\n",
       "  1.0          -2.0   1.0"
      ]
     },
     "execution_count": 17,
     "metadata": {},
     "output_type": "execute_result"
    }
   ],
   "source": [
    "inv(A*P)"
   ]
  },
  {
   "cell_type": "code",
   "execution_count": 18,
   "metadata": {},
   "outputs": [
    {
     "data": {
      "text/plain": [
       "3×3 Array{Int64,2}:\n",
       " 1  0  0\n",
       " 0  0  0\n",
       " 0  0  0"
      ]
     },
     "execution_count": 18,
     "metadata": {},
     "output_type": "execute_result"
    }
   ],
   "source": [
    "P = [1 0 0 ; 0 0 0; 0 0 0 ]"
   ]
  },
  {
   "cell_type": "code",
   "execution_count": 20,
   "metadata": {},
   "outputs": [
    {
     "data": {
      "text/plain": [
       "3-element Array{Int64,1}:\n",
       " 1\n",
       " 0\n",
       " 0"
      ]
     },
     "execution_count": 20,
     "metadata": {},
     "output_type": "execute_result"
    }
   ],
   "source": [
    "P*[1;2;3]"
   ]
  },
  {
   "cell_type": "code",
   "execution_count": 24,
   "metadata": {},
   "outputs": [
    {
     "data": {
      "text/plain": [
       "3×3 Array{Float64,2}:\n",
       " -1.0  1.0  1.0\n",
       "  1.0  1.0  1.0\n",
       "  1.0  1.0  1.0"
      ]
     },
     "execution_count": 24,
     "metadata": {},
     "output_type": "execute_result"
    }
   ],
   "source": [
    "ones(3,3)-2*P"
   ]
  },
  {
   "cell_type": "code",
   "execution_count": 25,
   "metadata": {},
   "outputs": [
    {
     "data": {
      "text/plain": [
       "3×3 Array{Float64,2}:\n",
       " 1.0  1.0  1.0\n",
       " 1.0  1.0  1.0\n",
       " 1.0  1.0  1.0"
      ]
     },
     "execution_count": 25,
     "metadata": {},
     "output_type": "execute_result"
    }
   ],
   "source": [
    "ones(3,3)"
   ]
  },
  {
   "cell_type": "code",
   "execution_count": 26,
   "metadata": {},
   "outputs": [
    {
     "ename": "UndefVarError",
     "evalue": "UndefVarError: eye not defined",
     "output_type": "error",
     "traceback": [
      "UndefVarError: eye not defined",
      "",
      "Stacktrace:",
      " [1] top-level scope at In[26]:1"
     ]
    }
   ],
   "source": [
    "eye(3)"
   ]
  },
  {
   "cell_type": "code",
   "execution_count": 51,
   "metadata": {},
   "outputs": [
    {
     "data": {
      "text/plain": [
       "identity (generic function with 1 method)"
      ]
     },
     "execution_count": 51,
     "metadata": {},
     "output_type": "execute_result"
    }
   ],
   "source": [
    "function identity(n)\n",
    "    I = zeros(n,n)\n",
    "    for i in 1:n\n",
    "        for j in 1:n\n",
    "            if i==j\n",
    "                I[i,j]=1\n",
    "            end\n",
    "        end\n",
    "    end\n",
    "\n",
    "    return(I)\n",
    "end"
   ]
  },
  {
   "cell_type": "code",
   "execution_count": 38,
   "metadata": {},
   "outputs": [
    {
     "data": {
      "text/plain": [
       "4×4 Array{Float64,2}:\n",
       " 1.0  0.0  0.0  0.0\n",
       " 0.0  1.0  0.0  0.0\n",
       " 0.0  0.0  1.0  0.0\n",
       " 0.0  0.0  0.0  1.0"
      ]
     },
     "execution_count": 38,
     "metadata": {},
     "output_type": "execute_result"
    }
   ],
   "source": [
    "identity(4)"
   ]
  },
  {
   "cell_type": "code",
   "execution_count": 41,
   "metadata": {},
   "outputs": [
    {
     "data": {
      "text/plain": [
       "3×3 Array{Float64,2}:\n",
       " -1.0  0.0  0.0\n",
       "  0.0  1.0  0.0\n",
       "  0.0  0.0  1.0"
      ]
     },
     "execution_count": 41,
     "metadata": {},
     "output_type": "execute_result"
    }
   ],
   "source": [
    "i2p = identity(3) - 2*P"
   ]
  },
  {
   "cell_type": "code",
   "execution_count": 42,
   "metadata": {},
   "outputs": [
    {
     "data": {
      "text/plain": [
       "3-element Array{Float64,1}:\n",
       " -1.0\n",
       "  0.0\n",
       "  0.0"
      ]
     },
     "execution_count": 42,
     "metadata": {},
     "output_type": "execute_result"
    }
   ],
   "source": [
    "i2p*[1;0;0]"
   ]
  },
  {
   "cell_type": "code",
   "execution_count": 77,
   "metadata": {},
   "outputs": [],
   "source": [
    "angles = LinRange(0,2π, 2000)\n",
    "\n",
    "unitVectors = []\n",
    "\n",
    "for angle in angles\n",
    "    append!(unitVectors,  [[cos(angle), sin(angle) ]] )\n",
    "end"
   ]
  },
  {
   "cell_type": "code",
   "execution_count": 139,
   "metadata": {},
   "outputs": [
    {
     "data": {
      "text/plain": [
       "2-element Array{Float64,1}:\n",
       " -0.38074980525429497\n",
       " -0.924678098474716  "
      ]
     },
     "execution_count": 139,
     "metadata": {},
     "output_type": "execute_result"
    }
   ],
   "source": [
    "using Plots\n",
    "\n",
    "A = [1 1; 0 0]\n",
    "\n",
    "\n",
    "i2p = identity(2)-2*P2\n",
    "\n",
    "\n",
    "image = []\n",
    "\n",
    "for vector in unitVectors\n",
    "    append!(image, [i2p*vector])\n",
    "end\n",
    "\n",
    "e1 = i2p*[1;0]\n",
    "e2 = i2p*[0;1]\n",
    "test = i2p*[sqrt(2)/2, sqrt(2)/2]"
   ]
  },
  {
   "cell_type": "code",
   "execution_count": 140,
   "metadata": {},
   "outputs": [
    {
     "data": {
      "image/svg+xml": [
       "<?xml version=\"1.0\" encoding=\"utf-8\"?>\n",
       "<svg xmlns=\"http://www.w3.org/2000/svg\" xmlns:xlink=\"http://www.w3.org/1999/xlink\" width=\"600\" height=\"400\" viewBox=\"0 0 2400 1600\">\n",
       "<defs>\n",
       "  <clipPath id=\"clip370\">\n",
       "    <rect x=\"0\" y=\"0\" width=\"2400\" height=\"1600\"/>\n",
       "  </clipPath>\n",
       "</defs>\n",
       "<path clip-path=\"url(#clip370)\" d=\"\n",
       "M0 1600 L2400 1600 L2400 0 L0 0  Z\n",
       "  \" fill=\"#ffffff\" fill-rule=\"evenodd\" fill-opacity=\"1\"/>\n",
       "<defs>\n",
       "  <clipPath id=\"clip371\">\n",
       "    <rect x=\"480\" y=\"0\" width=\"1681\" height=\"1600\"/>\n",
       "  </clipPath>\n",
       "</defs>\n",
       "<path clip-path=\"url(#clip370)\" d=\"\n",
       "M162.455 1486.45 L2352.76 1486.45 L2352.76 47.2441 L162.455 47.2441  Z\n",
       "  \" fill=\"#ffffff\" fill-rule=\"evenodd\" fill-opacity=\"1\"/>\n",
       "<defs>\n",
       "  <clipPath id=\"clip372\">\n",
       "    <rect x=\"162\" y=\"47\" width=\"2191\" height=\"1440\"/>\n",
       "  </clipPath>\n",
       "</defs>\n",
       "<polyline clip-path=\"url(#clip372)\" style=\"stroke:#000000; stroke-width:2; stroke-opacity:0.1; fill:none\" points=\"\n",
       "  224.444,1486.45 224.444,47.2441 \n",
       "  \"/>\n",
       "<polyline clip-path=\"url(#clip372)\" style=\"stroke:#000000; stroke-width:2; stroke-opacity:0.1; fill:none\" points=\"\n",
       "  741.024,1486.45 741.024,47.2441 \n",
       "  \"/>\n",
       "<polyline clip-path=\"url(#clip372)\" style=\"stroke:#000000; stroke-width:2; stroke-opacity:0.1; fill:none\" points=\"\n",
       "  1257.61,1486.45 1257.61,47.2441 \n",
       "  \"/>\n",
       "<polyline clip-path=\"url(#clip372)\" style=\"stroke:#000000; stroke-width:2; stroke-opacity:0.1; fill:none\" points=\"\n",
       "  1774.19,1486.45 1774.19,47.2441 \n",
       "  \"/>\n",
       "<polyline clip-path=\"url(#clip372)\" style=\"stroke:#000000; stroke-width:2; stroke-opacity:0.1; fill:none\" points=\"\n",
       "  2290.77,1486.45 2290.77,47.2441 \n",
       "  \"/>\n",
       "<polyline clip-path=\"url(#clip372)\" style=\"stroke:#000000; stroke-width:2; stroke-opacity:0.1; fill:none\" points=\"\n",
       "  162.455,1445.72 2352.76,1445.72 \n",
       "  \"/>\n",
       "<polyline clip-path=\"url(#clip372)\" style=\"stroke:#000000; stroke-width:2; stroke-opacity:0.1; fill:none\" points=\"\n",
       "  162.455,1106.28 2352.76,1106.28 \n",
       "  \"/>\n",
       "<polyline clip-path=\"url(#clip372)\" style=\"stroke:#000000; stroke-width:2; stroke-opacity:0.1; fill:none\" points=\"\n",
       "  162.455,766.846 2352.76,766.846 \n",
       "  \"/>\n",
       "<polyline clip-path=\"url(#clip372)\" style=\"stroke:#000000; stroke-width:2; stroke-opacity:0.1; fill:none\" points=\"\n",
       "  162.455,427.411 2352.76,427.411 \n",
       "  \"/>\n",
       "<polyline clip-path=\"url(#clip372)\" style=\"stroke:#000000; stroke-width:2; stroke-opacity:0.1; fill:none\" points=\"\n",
       "  162.455,87.9762 2352.76,87.9762 \n",
       "  \"/>\n",
       "<polyline clip-path=\"url(#clip370)\" style=\"stroke:#000000; stroke-width:4; stroke-opacity:1; fill:none\" points=\"\n",
       "  162.455,1486.45 2352.76,1486.45 \n",
       "  \"/>\n",
       "<polyline clip-path=\"url(#clip370)\" style=\"stroke:#000000; stroke-width:4; stroke-opacity:1; fill:none\" points=\"\n",
       "  162.455,1486.45 162.455,47.2441 \n",
       "  \"/>\n",
       "<polyline clip-path=\"url(#clip370)\" style=\"stroke:#000000; stroke-width:4; stroke-opacity:1; fill:none\" points=\"\n",
       "  224.444,1486.45 224.444,1469.18 \n",
       "  \"/>\n",
       "<polyline clip-path=\"url(#clip370)\" style=\"stroke:#000000; stroke-width:4; stroke-opacity:1; fill:none\" points=\"\n",
       "  741.024,1486.45 741.024,1469.18 \n",
       "  \"/>\n",
       "<polyline clip-path=\"url(#clip370)\" style=\"stroke:#000000; stroke-width:4; stroke-opacity:1; fill:none\" points=\"\n",
       "  1257.61,1486.45 1257.61,1469.18 \n",
       "  \"/>\n",
       "<polyline clip-path=\"url(#clip370)\" style=\"stroke:#000000; stroke-width:4; stroke-opacity:1; fill:none\" points=\"\n",
       "  1774.19,1486.45 1774.19,1469.18 \n",
       "  \"/>\n",
       "<polyline clip-path=\"url(#clip370)\" style=\"stroke:#000000; stroke-width:4; stroke-opacity:1; fill:none\" points=\"\n",
       "  2290.77,1486.45 2290.77,1469.18 \n",
       "  \"/>\n",
       "<polyline clip-path=\"url(#clip370)\" style=\"stroke:#000000; stroke-width:4; stroke-opacity:1; fill:none\" points=\"\n",
       "  162.455,1445.72 188.738,1445.72 \n",
       "  \"/>\n",
       "<polyline clip-path=\"url(#clip370)\" style=\"stroke:#000000; stroke-width:4; stroke-opacity:1; fill:none\" points=\"\n",
       "  162.455,1106.28 188.738,1106.28 \n",
       "  \"/>\n",
       "<polyline clip-path=\"url(#clip370)\" style=\"stroke:#000000; stroke-width:4; stroke-opacity:1; fill:none\" points=\"\n",
       "  162.455,766.846 188.738,766.846 \n",
       "  \"/>\n",
       "<polyline clip-path=\"url(#clip370)\" style=\"stroke:#000000; stroke-width:4; stroke-opacity:1; fill:none\" points=\"\n",
       "  162.455,427.411 188.738,427.411 \n",
       "  \"/>\n",
       "<polyline clip-path=\"url(#clip370)\" style=\"stroke:#000000; stroke-width:4; stroke-opacity:1; fill:none\" points=\"\n",
       "  162.455,87.9762 188.738,87.9762 \n",
       "  \"/>\n",
       "<path clip-path=\"url(#clip370)\" d=\"M 0 0 M186.828 1525.04 L199.305 1525.04 L199.305 1528.83 L186.828 1528.83 L186.828 1525.04 Z\" fill=\"#000000\" fill-rule=\"evenodd\" fill-opacity=\"1\" /><path clip-path=\"url(#clip370)\" d=\"M 0 0 M205.185 1535.98 L212.823 1535.98 L212.823 1509.62 L204.513 1511.29 L204.513 1507.03 L212.777 1505.36 L217.453 1505.36 L217.453 1535.98 L225.092 1535.98 L225.092 1539.92 L205.185 1539.92 L205.185 1535.98 Z\" fill=\"#000000\" fill-rule=\"evenodd\" fill-opacity=\"1\" /><path clip-path=\"url(#clip370)\" d=\"M 0 0 M230.161 1534.04 L235.046 1534.04 L235.046 1539.92 L230.161 1539.92 L230.161 1534.04 Z\" fill=\"#000000\" fill-rule=\"evenodd\" fill-opacity=\"1\" /><path clip-path=\"url(#clip370)\" d=\"M 0 0 M250.115 1508.44 Q246.504 1508.44 244.675 1512 Q242.87 1515.55 242.87 1522.67 Q242.87 1529.78 244.675 1533.35 Q246.504 1536.89 250.115 1536.89 Q253.749 1536.89 255.555 1533.35 Q257.383 1529.78 257.383 1522.67 Q257.383 1515.55 255.555 1512 Q253.749 1508.44 250.115 1508.44 M250.115 1504.73 Q255.925 1504.73 258.981 1509.34 Q262.059 1513.92 262.059 1522.67 Q262.059 1531.4 258.981 1536.01 Q255.925 1540.59 250.115 1540.59 Q244.305 1540.59 241.226 1536.01 Q238.17 1531.4 238.17 1522.67 Q238.17 1513.92 241.226 1509.34 Q244.305 1504.73 250.115 1504.73 Z\" fill=\"#000000\" fill-rule=\"evenodd\" fill-opacity=\"1\" /><path clip-path=\"url(#clip370)\" d=\"M 0 0 M703.293 1525.04 L715.77 1525.04 L715.77 1528.83 L703.293 1528.83 L703.293 1525.04 Z\" fill=\"#000000\" fill-rule=\"evenodd\" fill-opacity=\"1\" /><path clip-path=\"url(#clip370)\" d=\"M 0 0 M730.839 1508.44 Q727.228 1508.44 725.399 1512 Q723.594 1515.55 723.594 1522.67 Q723.594 1529.78 725.399 1533.35 Q727.228 1536.89 730.839 1536.89 Q734.473 1536.89 736.279 1533.35 Q738.108 1529.78 738.108 1522.67 Q738.108 1515.55 736.279 1512 Q734.473 1508.44 730.839 1508.44 M730.839 1504.73 Q736.649 1504.73 739.705 1509.34 Q742.784 1513.92 742.784 1522.67 Q742.784 1531.4 739.705 1536.01 Q736.649 1540.59 730.839 1540.59 Q725.029 1540.59 721.95 1536.01 Q718.895 1531.4 718.895 1522.67 Q718.895 1513.92 721.95 1509.34 Q725.029 1504.73 730.839 1504.73 Z\" fill=\"#000000\" fill-rule=\"evenodd\" fill-opacity=\"1\" /><path clip-path=\"url(#clip370)\" d=\"M 0 0 M747.853 1534.04 L752.737 1534.04 L752.737 1539.92 L747.853 1539.92 L747.853 1534.04 Z\" fill=\"#000000\" fill-rule=\"evenodd\" fill-opacity=\"1\" /><path clip-path=\"url(#clip370)\" d=\"M 0 0 M757.853 1505.36 L776.209 1505.36 L776.209 1509.3 L762.135 1509.3 L762.135 1517.77 Q763.154 1517.42 764.172 1517.26 Q765.191 1517.07 766.209 1517.07 Q771.996 1517.07 775.376 1520.24 Q778.756 1523.42 778.756 1528.83 Q778.756 1534.41 775.283 1537.51 Q771.811 1540.59 765.492 1540.59 Q763.316 1540.59 761.047 1540.22 Q758.802 1539.85 756.395 1539.11 L756.395 1534.41 Q758.478 1535.54 760.7 1536.1 Q762.922 1536.66 765.399 1536.66 Q769.404 1536.66 771.742 1534.55 Q774.08 1532.44 774.08 1528.83 Q774.08 1525.22 771.742 1523.11 Q769.404 1521.01 765.399 1521.01 Q763.524 1521.01 761.649 1521.42 Q759.797 1521.84 757.853 1522.72 L757.853 1505.36 Z\" fill=\"#000000\" fill-rule=\"evenodd\" fill-opacity=\"1\" /><path clip-path=\"url(#clip370)\" d=\"M 0 0 M1239.12 1508.44 Q1235.51 1508.44 1233.68 1512 Q1231.88 1515.55 1231.88 1522.67 Q1231.88 1529.78 1233.68 1533.35 Q1235.51 1536.89 1239.12 1536.89 Q1242.76 1536.89 1244.56 1533.35 Q1246.39 1529.78 1246.39 1522.67 Q1246.39 1515.55 1244.56 1512 Q1242.76 1508.44 1239.12 1508.44 M1239.12 1504.73 Q1244.93 1504.73 1247.99 1509.34 Q1251.07 1513.92 1251.07 1522.67 Q1251.07 1531.4 1247.99 1536.01 Q1244.93 1540.59 1239.12 1540.59 Q1233.31 1540.59 1230.23 1536.01 Q1227.18 1531.4 1227.18 1522.67 Q1227.18 1513.92 1230.23 1509.34 Q1233.31 1504.73 1239.12 1504.73 Z\" fill=\"#000000\" fill-rule=\"evenodd\" fill-opacity=\"1\" /><path clip-path=\"url(#clip370)\" d=\"M 0 0 M1256.14 1534.04 L1261.02 1534.04 L1261.02 1539.92 L1256.14 1539.92 L1256.14 1534.04 Z\" fill=\"#000000\" fill-rule=\"evenodd\" fill-opacity=\"1\" /><path clip-path=\"url(#clip370)\" d=\"M 0 0 M1276.09 1508.44 Q1272.48 1508.44 1270.65 1512 Q1268.84 1515.55 1268.84 1522.67 Q1268.84 1529.78 1270.65 1533.35 Q1272.48 1536.89 1276.09 1536.89 Q1279.72 1536.89 1281.53 1533.35 Q1283.36 1529.78 1283.36 1522.67 Q1283.36 1515.55 1281.53 1512 Q1279.72 1508.44 1276.09 1508.44 M1276.09 1504.73 Q1281.9 1504.73 1284.95 1509.34 Q1288.03 1513.92 1288.03 1522.67 Q1288.03 1531.4 1284.95 1536.01 Q1281.9 1540.59 1276.09 1540.59 Q1270.28 1540.59 1267.2 1536.01 Q1264.14 1531.4 1264.14 1522.67 Q1264.14 1513.92 1267.2 1509.34 Q1270.28 1504.73 1276.09 1504.73 Z\" fill=\"#000000\" fill-rule=\"evenodd\" fill-opacity=\"1\" /><path clip-path=\"url(#clip370)\" d=\"M 0 0 M1756.2 1508.44 Q1752.59 1508.44 1750.76 1512 Q1748.95 1515.55 1748.95 1522.67 Q1748.95 1529.78 1750.76 1533.35 Q1752.59 1536.89 1756.2 1536.89 Q1759.83 1536.89 1761.64 1533.35 Q1763.47 1529.78 1763.47 1522.67 Q1763.47 1515.55 1761.64 1512 Q1759.83 1508.44 1756.2 1508.44 M1756.2 1504.73 Q1762.01 1504.73 1765.07 1509.34 Q1768.14 1513.92 1768.14 1522.67 Q1768.14 1531.4 1765.07 1536.01 Q1762.01 1540.59 1756.2 1540.59 Q1750.39 1540.59 1747.31 1536.01 Q1744.26 1531.4 1744.26 1522.67 Q1744.26 1513.92 1747.31 1509.34 Q1750.39 1504.73 1756.2 1504.73 Z\" fill=\"#000000\" fill-rule=\"evenodd\" fill-opacity=\"1\" /><path clip-path=\"url(#clip370)\" d=\"M 0 0 M1773.21 1534.04 L1778.1 1534.04 L1778.1 1539.92 L1773.21 1539.92 L1773.21 1534.04 Z\" fill=\"#000000\" fill-rule=\"evenodd\" fill-opacity=\"1\" /><path clip-path=\"url(#clip370)\" d=\"M 0 0 M1783.21 1505.36 L1801.57 1505.36 L1801.57 1509.3 L1787.5 1509.3 L1787.5 1517.77 Q1788.51 1517.42 1789.53 1517.26 Q1790.55 1517.07 1791.57 1517.07 Q1797.36 1517.07 1800.74 1520.24 Q1804.12 1523.42 1804.12 1528.83 Q1804.12 1534.41 1800.64 1537.51 Q1797.17 1540.59 1790.85 1540.59 Q1788.68 1540.59 1786.41 1540.22 Q1784.16 1539.85 1781.76 1539.11 L1781.76 1534.41 Q1783.84 1535.54 1786.06 1536.1 Q1788.28 1536.66 1790.76 1536.66 Q1794.76 1536.66 1797.1 1534.55 Q1799.44 1532.44 1799.44 1528.83 Q1799.44 1525.22 1797.1 1523.11 Q1794.76 1521.01 1790.76 1521.01 Q1788.88 1521.01 1787.01 1521.42 Q1785.16 1521.84 1783.21 1522.72 L1783.21 1505.36 Z\" fill=\"#000000\" fill-rule=\"evenodd\" fill-opacity=\"1\" /><path clip-path=\"url(#clip370)\" d=\"M 0 0 M2262.66 1535.98 L2270.3 1535.98 L2270.3 1509.62 L2261.99 1511.29 L2261.99 1507.03 L2270.26 1505.36 L2274.93 1505.36 L2274.93 1535.98 L2282.57 1535.98 L2282.57 1539.92 L2262.66 1539.92 L2262.66 1535.98 Z\" fill=\"#000000\" fill-rule=\"evenodd\" fill-opacity=\"1\" /><path clip-path=\"url(#clip370)\" d=\"M 0 0 M2287.64 1534.04 L2292.53 1534.04 L2292.53 1539.92 L2287.64 1539.92 L2287.64 1534.04 Z\" fill=\"#000000\" fill-rule=\"evenodd\" fill-opacity=\"1\" /><path clip-path=\"url(#clip370)\" d=\"M 0 0 M2307.59 1508.44 Q2303.98 1508.44 2302.16 1512 Q2300.35 1515.55 2300.35 1522.67 Q2300.35 1529.78 2302.16 1533.35 Q2303.98 1536.89 2307.59 1536.89 Q2311.23 1536.89 2313.03 1533.35 Q2314.86 1529.78 2314.86 1522.67 Q2314.86 1515.55 2313.03 1512 Q2311.23 1508.44 2307.59 1508.44 M2307.59 1504.73 Q2313.41 1504.73 2316.46 1509.34 Q2319.54 1513.92 2319.54 1522.67 Q2319.54 1531.4 2316.46 1536.01 Q2313.41 1540.59 2307.59 1540.59 Q2301.78 1540.59 2298.71 1536.01 Q2295.65 1531.4 2295.65 1522.67 Q2295.65 1513.92 2298.71 1509.34 Q2301.78 1504.73 2307.59 1504.73 Z\" fill=\"#000000\" fill-rule=\"evenodd\" fill-opacity=\"1\" /><path clip-path=\"url(#clip370)\" d=\"M 0 0 M63.2236 1448.11 L75.7004 1448.11 L75.7004 1451.91 L63.2236 1451.91 L63.2236 1448.11 Z\" fill=\"#000000\" fill-rule=\"evenodd\" fill-opacity=\"1\" /><path clip-path=\"url(#clip370)\" d=\"M 0 0 M81.58 1459.06 L89.2188 1459.06 L89.2188 1432.7 L80.9087 1434.36 L80.9087 1430.1 L89.1725 1428.44 L93.8484 1428.44 L93.8484 1459.06 L101.487 1459.06 L101.487 1463 L81.58 1463 L81.58 1459.06 Z\" fill=\"#000000\" fill-rule=\"evenodd\" fill-opacity=\"1\" /><path clip-path=\"url(#clip370)\" d=\"M 0 0 M106.557 1457.12 L111.441 1457.12 L111.441 1463 L106.557 1463 L106.557 1457.12 Z\" fill=\"#000000\" fill-rule=\"evenodd\" fill-opacity=\"1\" /><path clip-path=\"url(#clip370)\" d=\"M 0 0 M126.51 1431.51 Q122.899 1431.51 121.071 1435.08 Q119.265 1438.62 119.265 1445.75 Q119.265 1452.86 121.071 1456.42 Q122.899 1459.96 126.51 1459.96 Q130.145 1459.96 131.95 1456.42 Q133.779 1452.86 133.779 1445.75 Q133.779 1438.62 131.95 1435.08 Q130.145 1431.51 126.51 1431.51 M126.51 1427.81 Q132.32 1427.81 135.376 1432.42 Q138.455 1437 138.455 1445.75 Q138.455 1454.48 135.376 1459.08 Q132.32 1463.67 126.51 1463.67 Q120.7 1463.67 117.621 1459.08 Q114.566 1454.48 114.566 1445.75 Q114.566 1437 117.621 1432.42 Q120.7 1427.81 126.51 1427.81 Z\" fill=\"#000000\" fill-rule=\"evenodd\" fill-opacity=\"1\" /><path clip-path=\"url(#clip370)\" d=\"M 0 0 M62.9921 1108.68 L75.4689 1108.68 L75.4689 1112.47 L62.9921 1112.47 L62.9921 1108.68 Z\" fill=\"#000000\" fill-rule=\"evenodd\" fill-opacity=\"1\" /><path clip-path=\"url(#clip370)\" d=\"M 0 0 M90.5383 1092.08 Q86.9272 1092.08 85.0985 1095.64 Q83.2929 1099.19 83.2929 1106.32 Q83.2929 1113.42 85.0985 1116.99 Q86.9272 1120.53 90.5383 1120.53 Q94.1725 1120.53 95.9781 1116.99 Q97.8068 1113.42 97.8068 1106.32 Q97.8068 1099.19 95.9781 1095.64 Q94.1725 1092.08 90.5383 1092.08 M90.5383 1088.38 Q96.3484 1088.38 99.404 1092.98 Q102.483 1097.57 102.483 1106.32 Q102.483 1115.04 99.404 1119.65 Q96.3484 1124.23 90.5383 1124.23 Q84.7281 1124.23 81.6494 1119.65 Q78.5939 1115.04 78.5939 1106.32 Q78.5939 1097.57 81.6494 1092.98 Q84.7281 1088.38 90.5383 1088.38 Z\" fill=\"#000000\" fill-rule=\"evenodd\" fill-opacity=\"1\" /><path clip-path=\"url(#clip370)\" d=\"M 0 0 M107.552 1117.68 L112.436 1117.68 L112.436 1123.56 L107.552 1123.56 L107.552 1117.68 Z\" fill=\"#000000\" fill-rule=\"evenodd\" fill-opacity=\"1\" /><path clip-path=\"url(#clip370)\" d=\"M 0 0 M117.552 1089 L135.908 1089 L135.908 1092.94 L121.834 1092.94 L121.834 1101.41 Q122.853 1101.06 123.871 1100.9 Q124.89 1100.71 125.908 1100.71 Q131.695 1100.71 135.075 1103.89 Q138.455 1107.06 138.455 1112.47 Q138.455 1118.05 134.982 1121.15 Q131.51 1124.23 125.191 1124.23 Q123.015 1124.23 120.746 1123.86 Q118.501 1123.49 116.094 1122.75 L116.094 1118.05 Q118.177 1119.19 120.399 1119.74 Q122.621 1120.3 125.098 1120.3 Q129.103 1120.3 131.441 1118.19 Q133.779 1116.08 133.779 1112.47 Q133.779 1108.86 131.441 1106.76 Q129.103 1104.65 125.098 1104.65 Q123.223 1104.65 121.348 1105.07 Q119.496 1105.48 117.552 1106.36 L117.552 1089 Z\" fill=\"#000000\" fill-rule=\"evenodd\" fill-opacity=\"1\" /><path clip-path=\"url(#clip370)\" d=\"M 0 0 M89.5429 752.645 Q85.9318 752.645 84.1031 756.21 Q82.2976 759.751 82.2976 766.881 Q82.2976 773.987 84.1031 777.552 Q85.9318 781.094 89.5429 781.094 Q93.1771 781.094 94.9827 777.552 Q96.8114 773.987 96.8114 766.881 Q96.8114 759.751 94.9827 756.21 Q93.1771 752.645 89.5429 752.645 M89.5429 748.941 Q95.3531 748.941 98.4086 753.548 Q101.487 758.131 101.487 766.881 Q101.487 775.608 98.4086 780.214 Q95.3531 784.798 89.5429 784.798 Q83.7328 784.798 80.6541 780.214 Q77.5985 775.608 77.5985 766.881 Q77.5985 758.131 80.6541 753.548 Q83.7328 748.941 89.5429 748.941 Z\" fill=\"#000000\" fill-rule=\"evenodd\" fill-opacity=\"1\" /><path clip-path=\"url(#clip370)\" d=\"M 0 0 M106.557 778.247 L111.441 778.247 L111.441 784.126 L106.557 784.126 L106.557 778.247 Z\" fill=\"#000000\" fill-rule=\"evenodd\" fill-opacity=\"1\" /><path clip-path=\"url(#clip370)\" d=\"M 0 0 M126.51 752.645 Q122.899 752.645 121.071 756.21 Q119.265 759.751 119.265 766.881 Q119.265 773.987 121.071 777.552 Q122.899 781.094 126.51 781.094 Q130.145 781.094 131.95 777.552 Q133.779 773.987 133.779 766.881 Q133.779 759.751 131.95 756.21 Q130.145 752.645 126.51 752.645 M126.51 748.941 Q132.32 748.941 135.376 753.548 Q138.455 758.131 138.455 766.881 Q138.455 775.608 135.376 780.214 Q132.32 784.798 126.51 784.798 Q120.7 784.798 117.621 780.214 Q114.566 775.608 114.566 766.881 Q114.566 758.131 117.621 753.548 Q120.7 748.941 126.51 748.941 Z\" fill=\"#000000\" fill-rule=\"evenodd\" fill-opacity=\"1\" /><path clip-path=\"url(#clip370)\" d=\"M 0 0 M90.5383 413.21 Q86.9272 413.21 85.0985 416.775 Q83.2929 420.316 83.2929 427.446 Q83.2929 434.552 85.0985 438.117 Q86.9272 441.659 90.5383 441.659 Q94.1725 441.659 95.9781 438.117 Q97.8068 434.552 97.8068 427.446 Q97.8068 420.316 95.9781 416.775 Q94.1725 413.21 90.5383 413.21 M90.5383 409.506 Q96.3484 409.506 99.404 414.113 Q102.483 418.696 102.483 427.446 Q102.483 436.173 99.404 440.779 Q96.3484 445.363 90.5383 445.363 Q84.7281 445.363 81.6494 440.779 Q78.5939 436.173 78.5939 427.446 Q78.5939 418.696 81.6494 414.113 Q84.7281 409.506 90.5383 409.506 Z\" fill=\"#000000\" fill-rule=\"evenodd\" fill-opacity=\"1\" /><path clip-path=\"url(#clip370)\" d=\"M 0 0 M107.552 438.812 L112.436 438.812 L112.436 444.691 L107.552 444.691 L107.552 438.812 Z\" fill=\"#000000\" fill-rule=\"evenodd\" fill-opacity=\"1\" /><path clip-path=\"url(#clip370)\" d=\"M 0 0 M117.552 410.131 L135.908 410.131 L135.908 414.066 L121.834 414.066 L121.834 422.539 Q122.853 422.191 123.871 422.029 Q124.89 421.844 125.908 421.844 Q131.695 421.844 135.075 425.015 Q138.455 428.187 138.455 433.603 Q138.455 439.182 134.982 442.284 Q131.51 445.363 125.191 445.363 Q123.015 445.363 120.746 444.992 Q118.501 444.622 116.094 443.881 L116.094 439.182 Q118.177 440.316 120.399 440.872 Q122.621 441.427 125.098 441.427 Q129.103 441.427 131.441 439.321 Q133.779 437.214 133.779 433.603 Q133.779 429.992 131.441 427.886 Q129.103 425.779 125.098 425.779 Q123.223 425.779 121.348 426.196 Q119.496 426.613 117.552 427.492 L117.552 410.131 Z\" fill=\"#000000\" fill-rule=\"evenodd\" fill-opacity=\"1\" /><path clip-path=\"url(#clip370)\" d=\"M 0 0 M81.58 101.321 L89.2188 101.321 L89.2188 74.9555 L80.9087 76.6221 L80.9087 72.3629 L89.1725 70.6962 L93.8484 70.6962 L93.8484 101.321 L101.487 101.321 L101.487 105.256 L81.58 105.256 L81.58 101.321 Z\" fill=\"#000000\" fill-rule=\"evenodd\" fill-opacity=\"1\" /><path clip-path=\"url(#clip370)\" d=\"M 0 0 M106.557 99.3766 L111.441 99.3766 L111.441 105.256 L106.557 105.256 L106.557 99.3766 Z\" fill=\"#000000\" fill-rule=\"evenodd\" fill-opacity=\"1\" /><path clip-path=\"url(#clip370)\" d=\"M 0 0 M126.51 73.7749 Q122.899 73.7749 121.071 77.3397 Q119.265 80.8814 119.265 88.011 Q119.265 95.1174 121.071 98.6822 Q122.899 102.224 126.51 102.224 Q130.145 102.224 131.95 98.6822 Q133.779 95.1174 133.779 88.011 Q133.779 80.8814 131.95 77.3397 Q130.145 73.7749 126.51 73.7749 M126.51 70.0712 Q132.32 70.0712 135.376 74.6777 Q138.455 79.261 138.455 88.011 Q138.455 96.7378 135.376 101.344 Q132.32 105.928 126.51 105.928 Q120.7 105.928 117.621 101.344 Q114.566 96.7378 114.566 88.011 Q114.566 79.261 117.621 74.6777 Q120.7 70.0712 126.51 70.0712 Z\" fill=\"#000000\" fill-rule=\"evenodd\" fill-opacity=\"1\" /><polyline clip-path=\"url(#clip372)\" style=\"stroke:#009af9; stroke-width:4; stroke-opacity:1; fill:none\" points=\"\n",
       "  1654.97,1393.5 1651.98,1394.31 1648.97,1395.12 1645.96,1395.93 1642.95,1396.73 1639.94,1397.52 1636.92,1398.31 1633.9,1399.09 1630.87,1399.86 1627.84,1400.63 \n",
       "  1624.81,1401.39 1621.77,1402.15 1618.73,1402.9 1615.69,1403.64 1612.64,1404.37 1609.59,1405.1 1606.53,1405.83 1603.47,1406.55 1600.41,1407.26 1597.35,1407.96 \n",
       "  1594.28,1408.66 1591.21,1409.35 1588.13,1410.04 1585.05,1410.72 1581.97,1411.39 1578.89,1412.06 1575.8,1412.72 1572.71,1413.37 1569.61,1414.02 1566.52,1414.66 \n",
       "  1563.41,1415.3 1560.31,1415.92 1557.21,1416.55 1554.1,1417.16 1550.98,1417.77 1547.87,1418.37 1544.75,1418.97 1541.63,1419.56 1538.51,1420.14 1535.38,1420.72 \n",
       "  1532.25,1421.29 1529.12,1421.85 1525.98,1422.41 1522.85,1422.96 1519.71,1423.51 1516.56,1424.05 1513.42,1424.58 1510.27,1425.1 1507.12,1425.62 1503.97,1426.13 \n",
       "  1500.81,1426.64 1497.66,1427.14 1494.5,1427.63 1491.33,1428.12 1488.17,1428.6 1485,1429.07 1481.84,1429.53 1478.66,1429.99 1475.49,1430.45 1472.32,1430.89 \n",
       "  1469.14,1431.33 1465.96,1431.77 1462.78,1432.2 1459.59,1432.62 1456.41,1433.03 1453.22,1433.44 1450.03,1433.84 1446.84,1434.23 1443.64,1434.62 1440.45,1435 \n",
       "  1437.25,1435.37 1434.05,1435.74 1430.85,1436.1 1427.65,1436.46 1424.45,1436.81 1421.24,1437.15 1418.03,1437.48 1414.83,1437.81 1411.61,1438.13 1408.4,1438.45 \n",
       "  1405.19,1438.75 1401.97,1439.06 1398.76,1439.35 1395.54,1439.64 1392.32,1439.92 1389.1,1440.2 1385.88,1440.46 1382.66,1440.73 1379.43,1440.98 1376.21,1441.23 \n",
       "  1372.98,1441.47 1369.75,1441.7 1366.52,1441.93 1363.29,1442.15 1360.06,1442.37 1356.83,1442.58 1353.6,1442.78 1350.37,1442.97 1347.13,1443.16 1343.9,1443.34 \n",
       "  1340.66,1443.52 1337.42,1443.69 1334.18,1443.85 1330.94,1444 1327.7,1444.15 1324.46,1444.29 1321.22,1444.43 1317.98,1444.56 1314.74,1444.68 1311.5,1444.79 \n",
       "  1308.25,1444.9 1305.01,1445 1301.77,1445.1 1298.52,1445.18 1295.28,1445.26 1292.03,1445.34 1288.79,1445.41 1285.54,1445.47 1282.29,1445.52 1279.05,1445.57 \n",
       "  1275.8,1445.61 1272.55,1445.65 1269.31,1445.67 1266.06,1445.69 1262.81,1445.71 1259.56,1445.72 1256.32,1445.72 1253.07,1445.71 1249.82,1445.7 1246.57,1445.68 \n",
       "  1243.33,1445.65 1240.08,1445.62 1236.83,1445.58 1233.59,1445.53 1230.34,1445.48 1227.09,1445.42 1223.85,1445.35 1220.6,1445.28 1217.36,1445.2 1214.11,1445.11 \n",
       "  1210.87,1445.02 1207.62,1444.92 1204.38,1444.81 1201.14,1444.7 1197.9,1444.58 1194.65,1444.45 1191.41,1444.32 1188.17,1444.18 1184.93,1444.03 1181.69,1443.88 \n",
       "  1178.46,1443.72 1175.22,1443.55 1171.98,1443.38 1168.75,1443.2 1165.51,1443.01 1162.28,1442.82 1159.04,1442.62 1155.81,1442.41 1152.58,1442.2 1149.35,1441.98 \n",
       "  1146.12,1441.75 1142.89,1441.52 1139.67,1441.28 1136.44,1441.03 1133.22,1440.78 1129.99,1440.52 1126.77,1440.25 1123.55,1439.98 1120.33,1439.7 1117.11,1439.41 \n",
       "  1113.9,1439.12 1110.68,1438.82 1107.47,1438.51 1104.26,1438.2 1101.05,1437.88 1097.84,1437.55 1094.63,1437.22 1091.42,1436.88 1088.22,1436.53 1085.02,1436.18 \n",
       "  1081.82,1435.82 1078.62,1435.45 1075.42,1435.08 1072.22,1434.7 1069.03,1434.31 1065.84,1433.92 1062.65,1433.52 1059.46,1433.11 1056.27,1432.7 1053.09,1432.28 \n",
       "  1049.91,1431.86 1046.73,1431.42 1043.55,1430.99 1040.37,1430.54 1037.2,1430.09 1034.03,1429.63 1030.86,1429.17 1027.69,1428.69 1024.53,1428.22 1021.36,1427.73 \n",
       "  1018.2,1427.24 1015.05,1426.74 1011.89,1426.24 1008.74,1425.73 1005.59,1425.21 1002.44,1424.69 999.294,1424.16 996.151,1423.62 993.011,1423.08 989.873,1422.53 \n",
       "  986.738,1421.97 983.605,1421.41 980.476,1420.84 977.349,1420.26 974.224,1419.68 971.103,1419.09 967.984,1418.5 964.869,1417.9 961.756,1417.29 958.646,1416.67 \n",
       "  955.539,1416.05 952.435,1415.43 949.334,1414.79 946.236,1414.15 943.141,1413.51 940.049,1412.85 936.961,1412.19 933.875,1411.53 930.793,1410.86 927.714,1410.18 \n",
       "  924.638,1409.49 921.566,1408.8 918.497,1408.11 915.431,1407.4 912.368,1406.69 909.309,1405.98 906.254,1405.25 903.202,1404.53 900.153,1403.79 897.108,1403.05 \n",
       "  894.066,1402.3 891.028,1401.55 887.994,1400.79 884.964,1400.02 881.937,1399.25 878.913,1398.47 875.894,1397.68 872.878,1396.89 869.866,1396.09 866.858,1395.29 \n",
       "  863.854,1394.48 860.853,1393.66 857.857,1392.84 854.864,1392.01 851.876,1391.18 848.891,1390.34 845.911,1389.49 842.935,1388.64 839.962,1387.78 836.994,1386.91 \n",
       "  834.03,1386.04 831.07,1385.16 828.115,1384.28 825.163,1383.39 822.216,1382.49 819.273,1381.59 816.335,1380.68 813.401,1379.77 810.471,1378.85 807.546,1377.92 \n",
       "  804.625,1376.99 801.708,1376.05 798.797,1375.1 795.889,1374.15 792.986,1373.2 790.088,1372.23 787.195,1371.27 784.306,1370.29 781.421,1369.31 778.542,1368.32 \n",
       "  775.667,1367.33 772.797,1366.33 769.932,1365.33 767.071,1364.32 764.216,1363.3 761.365,1362.28 758.519,1361.25 755.678,1360.22 752.842,1359.18 750.011,1358.13 \n",
       "  747.185,1357.08 744.365,1356.03 741.549,1354.96 738.738,1353.89 735.932,1352.82 733.132,1351.74 730.337,1350.65 727.547,1349.56 724.762,1348.46 721.982,1347.36 \n",
       "  719.208,1346.25 716.439,1345.14 713.675,1344.02 710.917,1342.89 708.164,1341.76 705.417,1340.62 702.675,1339.48 699.939,1338.33 697.208,1337.17 694.482,1336.01 \n",
       "  691.762,1334.85 689.048,1333.68 686.34,1332.5 683.637,1331.32 680.939,1330.13 678.248,1328.94 675.562,1327.74 672.882,1326.53 670.207,1325.32 667.539,1324.1 \n",
       "  664.876,1322.88 662.219,1321.66 659.568,1320.42 656.923,1319.19 654.284,1317.94 651.65,1316.69 649.023,1315.44 646.402,1314.18 643.787,1312.92 641.178,1311.64 \n",
       "  638.575,1310.37 635.978,1309.09 633.387,1307.8 630.803,1306.51 628.224,1305.21 625.652,1303.91 623.086,1302.6 620.526,1301.29 617.973,1299.97 615.426,1298.65 \n",
       "  612.885,1297.32 610.351,1295.98 607.823,1294.64 605.301,1293.3 602.786,1291.95 600.278,1290.59 597.776,1289.23 595.28,1287.87 592.791,1286.5 590.309,1285.12 \n",
       "  587.833,1283.74 585.363,1282.36 582.901,1280.97 580.445,1279.57 577.995,1278.17 575.553,1276.76 573.117,1275.35 570.688,1273.93 568.266,1272.51 565.85,1271.09 \n",
       "  563.442,1269.66 561.04,1268.22 558.645,1266.78 556.257,1265.33 553.876,1263.88 551.502,1262.43 549.135,1260.97 546.775,1259.5 544.421,1258.03 542.075,1256.55 \n",
       "  539.736,1255.07 537.405,1253.59 535.08,1252.1 532.762,1250.6 530.452,1249.1 528.148,1247.6 525.852,1246.09 523.563,1244.58 521.282,1243.06 519.007,1241.54 \n",
       "  516.74,1240.01 514.481,1238.48 512.228,1236.94 509.983,1235.4 507.746,1233.85 505.515,1232.3 503.293,1230.74 501.077,1229.18 498.869,1227.62 496.669,1226.05 \n",
       "  494.476,1224.48 492.291,1222.9 490.113,1221.32 487.943,1219.73 485.78,1218.14 483.625,1216.54 481.478,1214.94 479.338,1213.33 477.206,1211.72 475.082,1210.11 \n",
       "  472.966,1208.49 470.857,1206.87 468.756,1205.24 466.663,1203.61 464.577,1201.98 462.5,1200.34 460.43,1198.69 458.368,1197.04 456.315,1195.39 454.269,1193.73 \n",
       "  452.231,1192.07 450.2,1190.41 448.178,1188.74 446.164,1187.06 444.158,1185.38 442.16,1183.7 440.17,1182.02 438.188,1180.33 436.214,1178.63 434.249,1176.93 \n",
       "  432.291,1175.23 430.341,1173.52 428.4,1171.81 426.467,1170.1 424.542,1168.38 422.626,1166.66 420.717,1164.93 418.817,1163.2 416.925,1161.47 415.042,1159.73 \n",
       "  413.167,1157.99 411.3,1156.24 409.441,1154.49 407.591,1152.74 405.749,1150.98 403.916,1149.22 402.091,1147.45 400.275,1145.68 398.467,1143.91 396.667,1142.14 \n",
       "  394.876,1140.36 393.094,1138.57 391.32,1136.78 389.555,1134.99 387.798,1133.2 386.05,1131.4 384.31,1129.6 382.579,1127.79 380.857,1125.98 379.144,1124.17 \n",
       "  377.439,1122.36 375.742,1120.54 374.055,1118.71 372.376,1116.89 370.706,1115.06 369.045,1113.22 367.392,1111.39 365.748,1109.55 364.114,1107.7 362.487,1105.86 \n",
       "  360.87,1104.01 359.262,1102.15 357.662,1100.29 356.072,1098.43 354.49,1096.57 352.917,1094.7 351.353,1092.83 349.798,1090.96 348.253,1089.08 346.716,1087.2 \n",
       "  345.188,1085.32 343.669,1083.44 342.159,1081.55 340.658,1079.65 339.166,1077.76 337.684,1075.86 336.21,1073.96 334.745,1072.05 333.29,1070.15 331.844,1068.24 \n",
       "  330.407,1066.32 328.979,1064.41 327.56,1062.49 326.15,1060.56 324.75,1058.64 323.359,1056.71 321.977,1054.78 320.604,1052.85 319.24,1050.91 317.886,1048.97 \n",
       "  316.541,1047.03 315.206,1045.08 313.879,1043.14 312.562,1041.19 311.255,1039.23 309.956,1037.28 308.668,1035.32 307.388,1033.36 306.118,1031.39 304.857,1029.43 \n",
       "  303.606,1027.46 302.364,1025.49 301.131,1023.51 299.908,1021.54 298.695,1019.56 297.491,1017.57 296.296,1015.59 295.111,1013.6 293.935,1011.61 292.769,1009.62 \n",
       "  291.613,1007.63 290.466,1005.63 289.328,1003.63 288.2,1001.63 287.082,999.63 285.973,997.624 284.874,995.616 283.784,993.606 282.705,991.594 281.634,989.579 \n",
       "  280.574,987.563 279.523,985.544 278.481,983.523 277.45,981.499 276.428,979.474 275.416,977.446 274.413,975.417 273.42,973.385 272.437,971.352 271.464,969.316 \n",
       "  270.5,967.278 269.546,965.239 268.602,963.197 267.668,961.153 266.743,959.108 265.828,957.06 264.923,955.011 264.028,952.96 263.143,950.907 262.267,948.852 \n",
       "  261.401,946.796 260.545,944.737 259.699,942.677 258.863,940.615 258.037,938.552 257.221,936.487 256.414,934.42 255.617,932.351 254.831,930.281 254.054,928.209 \n",
       "  253.287,926.136 252.53,924.061 251.783,921.984 251.046,919.906 250.318,917.826 249.601,915.745 248.894,913.663 248.197,911.579 247.509,909.493 246.832,907.406 \n",
       "  246.165,905.318 245.507,903.228 244.86,901.137 244.222,899.045 243.595,896.952 242.978,894.857 242.37,892.76 241.773,890.663 241.186,888.564 240.609,886.465 \n",
       "  240.041,884.364 239.484,882.261 238.937,880.158 238.4,878.054 237.873,875.948 237.356,873.842 236.85,871.734 236.353,869.625 235.866,867.516 235.39,865.405 \n",
       "  234.923,863.293 234.467,861.181 234.021,859.067 233.585,856.953 233.159,854.837 232.743,852.721 232.337,850.604 231.942,848.486 231.556,846.367 231.181,844.248 \n",
       "  230.816,842.127 230.461,840.006 230.116,837.885 229.781,835.762 229.457,833.639 229.142,831.515 228.838,829.391 228.544,827.266 228.26,825.14 227.986,823.014 \n",
       "  227.722,820.887 227.469,818.76 227.226,816.632 226.993,814.504 226.77,812.375 226.557,810.246 226.355,808.116 226.162,805.986 225.98,803.856 225.808,801.725 \n",
       "  225.646,799.594 225.495,797.462 225.354,795.331 225.222,793.199 225.101,791.066 224.991,788.934 224.89,786.801 224.8,784.668 224.72,782.535 224.65,780.402 \n",
       "  224.59,778.268 224.54,776.135 224.501,774.001 224.472,771.867 224.453,769.733 224.444,767.6 224.446,765.466 224.458,763.332 224.479,761.198 224.512,759.065 \n",
       "  224.554,756.931 224.606,754.797 224.669,752.664 224.742,750.531 224.825,748.398 224.919,746.265 225.022,744.132 225.136,742 225.26,739.867 225.394,737.735 \n",
       "  225.538,735.604 225.693,733.472 225.858,731.341 226.033,729.211 226.218,727.08 226.413,724.95 226.619,722.821 226.834,720.692 227.06,718.563 227.296,716.435 \n",
       "  227.542,714.307 227.799,712.18 228.065,710.053 228.342,707.927 228.629,705.802 228.926,703.677 229.233,701.553 229.551,699.429 229.878,697.306 230.216,695.184 \n",
       "  230.564,693.063 230.922,690.942 231.29,688.822 231.668,686.703 232.057,684.584 232.455,682.466 232.864,680.35 233.283,678.234 233.712,676.119 234.151,674.004 \n",
       "  234.6,671.891 235.059,669.779 235.529,667.667 236.008,665.557 236.498,663.447 236.998,661.339 237.507,659.232 238.027,657.125 238.557,655.02 239.097,652.916 \n",
       "  239.647,650.813 240.207,648.711 240.777,646.611 241.357,644.511 241.948,642.413 242.548,640.316 243.158,638.22 243.778,636.126 244.409,634.032 245.049,631.941 \n",
       "  245.699,629.85 246.36,627.761 247.03,625.673 247.71,623.586 248.401,621.501 249.101,619.418 249.811,617.336 250.531,615.255 251.261,613.176 252.001,611.098 \n",
       "  252.751,609.022 253.511,606.947 254.281,604.875 255.061,602.803 255.85,600.733 256.65,598.665 257.459,596.599 258.279,594.534 259.108,592.471 259.947,590.41 \n",
       "  260.796,588.35 261.655,586.292 262.523,584.236 263.402,582.182 264.29,580.129 265.188,578.079 266.096,576.03 267.014,573.983 267.941,571.938 268.878,569.895 \n",
       "  269.825,567.854 270.782,565.815 271.749,563.778 272.725,561.743 273.711,559.71 274.707,557.679 275.712,555.65 276.727,553.623 277.752,551.598 278.786,549.576 \n",
       "  279.83,547.555 280.884,545.537 281.948,543.521 283.021,541.507 284.104,539.495 285.196,537.486 286.298,535.479 287.409,533.474 288.531,531.471 289.661,529.471 \n",
       "  290.802,527.473 291.951,525.477 293.111,523.484 294.28,521.493 295.458,519.505 296.646,517.519 297.843,515.536 299.05,513.555 300.267,511.576 301.492,509.6 \n",
       "  302.728,507.627 303.972,505.656 305.227,503.688 306.49,501.722 307.763,499.759 309.045,497.799 310.337,495.841 311.638,493.886 312.948,491.934 314.268,489.984 \n",
       "  315.597,488.037 316.935,486.093 318.283,484.151 319.64,482.213 321.006,480.277 322.382,478.344 323.766,476.414 325.16,474.487 326.563,472.562 327.976,470.641 \n",
       "  329.397,468.723 330.828,466.807 332.268,464.894 333.717,462.985 335.175,461.078 336.642,459.175 338.118,457.274 339.604,455.376 341.098,453.482 342.602,451.591 \n",
       "  344.114,449.703 345.636,447.817 347.166,445.936 348.706,444.057 350.254,442.181 351.812,440.309 353.378,438.44 354.954,436.574 356.538,434.711 358.131,432.852 \n",
       "  359.734,430.996 361.344,429.143 362.964,427.294 364.593,425.448 366.231,423.605 367.877,421.766 369.532,419.93 371.196,418.097 372.868,416.269 374.55,414.443 \n",
       "  376.24,412.621 377.939,410.802 379.646,408.987 381.362,407.176 383.087,405.368 384.821,403.564 386.563,401.763 388.313,399.966 390.073,398.172 391.84,396.382 \n",
       "  393.617,394.596 395.402,392.813 397.195,391.035 398.997,389.259 400.808,387.488 402.627,385.72 404.454,383.956 406.29,382.196 408.134,380.44 409.986,378.687 \n",
       "  411.847,376.939 413.717,375.194 415.594,373.453 417.48,371.716 419.375,369.983 421.277,368.253 423.188,366.528 425.107,364.807 427.034,363.089 428.97,361.376 \n",
       "  430.913,359.667 432.865,357.961 434.825,356.26 436.793,354.563 438.77,352.87 440.754,351.18 442.746,349.495 444.747,347.815 446.755,346.138 448.772,344.465 \n",
       "  450.796,342.797 452.829,341.133 454.869,339.473 456.917,337.817 458.973,336.165 461.038,334.518 463.11,332.875 465.189,331.236 467.277,329.602 469.373,327.972 \n",
       "  471.476,326.346 473.587,324.725 475.706,323.107 477.832,321.495 479.966,319.887 482.108,318.283 484.258,316.683 486.415,315.088 488.58,313.498 490.752,311.912 \n",
       "  492.932,310.33 495.12,308.753 497.315,307.181 499.517,305.613 501.727,304.049 503.945,302.49 506.17,300.936 508.402,299.387 510.642,297.842 512.889,296.301 \n",
       "  515.144,294.765 517.406,293.234 519.675,291.708 521.951,290.186 524.235,288.669 526.526,287.157 528.824,285.649 531.13,284.147 533.442,282.649 535.762,281.155 \n",
       "  538.089,279.667 540.423,278.183 542.764,276.705 545.112,275.231 547.467,273.762 549.83,272.297 552.199,270.838 554.575,269.384 556.958,267.934 559.348,266.489 \n",
       "  561.745,265.05 564.149,263.615 566.559,262.185 568.977,260.761 571.401,259.341 573.832,257.926 576.27,256.517 578.714,255.112 581.166,253.712 583.624,252.318 \n",
       "  586.088,250.928 588.559,249.544 591.037,248.165 593.522,246.791 596.013,245.422 598.51,244.058 601.014,242.699 603.525,241.346 606.042,239.997 608.565,238.654 \n",
       "  611.095,237.317 613.631,235.984 616.174,234.657 618.723,233.334 621.278,232.018 623.839,230.706 626.407,229.4 628.981,228.099 631.561,226.803 634.148,225.513 \n",
       "  636.74,224.228 639.339,222.948 641.944,221.674 644.555,220.405 647.172,219.142 649.795,217.884 652.424,216.631 655.059,215.384 657.699,214.142 660.346,212.906 \n",
       "  662.999,211.675 665.658,210.45 668.322,209.23 670.992,208.016 673.668,206.807 676.35,205.604 679.038,204.406 681.731,203.214 684.43,202.027 687.135,200.846 \n",
       "  689.845,199.671 692.561,198.501 695.283,197.337 698.01,196.178 700.742,195.025 703.48,193.878 706.224,192.737 708.973,191.601 711.727,190.47 714.487,189.346 \n",
       "  717.252,188.227 720.023,187.114 722.798,186.006 725.58,184.905 728.366,183.809 731.157,182.719 733.954,181.634 736.756,180.556 739.563,179.483 742.376,178.416 \n",
       "  745.193,177.355 748.015,176.299 750.843,175.25 753.675,174.206 756.512,173.168 759.355,172.136 762.202,171.11 765.054,170.09 767.911,169.076 770.773,168.067 \n",
       "  773.64,167.065 776.511,166.068 779.388,165.077 782.268,164.093 785.154,163.114 788.044,162.141 790.939,161.174 793.839,160.214 796.743,159.259 799.652,158.31 \n",
       "  802.565,157.367 805.483,156.43 808.405,155.5 811.331,154.575 814.262,153.656 817.198,152.744 820.138,151.837 823.082,150.937 826.03,150.042 828.983,149.154 \n",
       "  831.939,148.272 834.901,147.396 837.866,146.526 840.835,145.662 843.809,144.804 846.786,143.953 849.768,143.107 852.754,142.268 855.743,141.435 858.737,140.608 \n",
       "  861.735,139.787 864.736,138.973 867.741,138.165 870.751,137.363 873.764,136.567 876.781,135.777 879.801,134.994 882.826,134.217 885.854,133.446 888.885,132.681 \n",
       "  891.921,131.923 894.96,131.17 898.002,130.425 901.048,129.685 904.098,128.952 907.151,128.225 910.208,127.504 913.268,126.79 916.331,126.082 919.398,125.38 \n",
       "  922.468,124.685 925.542,123.996 928.618,123.313 931.698,122.637 934.781,121.967 937.868,121.304 940.957,120.646 944.05,119.996 947.146,119.351 950.245,118.713 \n",
       "  953.347,118.082 956.451,117.456 959.559,116.838 962.67,116.225 965.784,115.619 968.9,115.02 972.02,114.427 975.142,113.84 978.267,113.26 981.395,112.686 \n",
       "  984.526,112.119 987.659,111.558 990.795,111.004 993.933,110.456 997.075,109.915 1000.22,109.38 1003.36,108.852 1006.51,108.33 1009.66,107.815 1012.82,107.306 \n",
       "  1015.97,106.804 1019.13,106.308 1022.29,105.819 1025.46,105.336 1028.62,104.86 1031.79,104.39 1034.96,103.927 1038.13,103.47 1041.31,103.02 1044.48,102.577 \n",
       "  1047.66,102.14 1050.84,101.71 1054.03,101.286 1057.21,100.869 1060.4,100.458 1063.59,100.054 1066.78,99.6567 1069.97,99.2659 1073.16,98.8817 1076.36,98.5041 \n",
       "  1079.56,98.133 1082.76,97.7686 1085.96,97.4108 1089.16,97.0596 1092.37,96.715 1095.57,96.3771 1098.78,96.0457 1101.99,95.721 1105.2,95.4029 1108.41,95.0915 \n",
       "  1111.63,94.7867 1114.84,94.4885 1118.06,94.197 1121.28,93.9121 1124.5,93.6339 1127.72,93.3623 1130.94,93.0974 1134.16,92.8391 1137.39,92.5875 1140.62,92.3425 \n",
       "  1143.84,92.1043 1147.07,91.8726 1150.3,91.6477 1153.53,91.4294 1156.76,91.2178 1159.99,91.0128 1163.23,90.8146 1166.46,90.623 1169.7,90.4381 1172.93,90.2599 \n",
       "  1176.17,90.0884 1179.41,89.9235 1182.65,89.7654 1185.89,89.6139 1189.13,89.4691 1192.37,89.331 1195.61,89.1996 1198.85,89.0749 1202.09,88.9569 1205.33,88.8456 \n",
       "  1208.58,88.741 1211.82,88.6431 1215.07,88.5519 1218.31,88.4674 1221.56,88.3896 1224.8,88.3185 1228.05,88.2541 1231.29,88.1964 1234.54,88.1454 1237.79,88.1011 \n",
       "  1241.03,88.0636 1244.28,88.0327 1247.53,88.0085 1250.78,87.9911 1254.02,87.9803 1257.27,87.9763 1260.52,87.9789 1263.77,87.9883 1267.01,88.0044 1270.26,88.0272 \n",
       "  1273.51,88.0567 1276.75,88.0928 1280,88.1357 1283.25,88.1854 1286.49,88.2417 1289.74,88.3047 1292.98,88.3744 1296.23,88.4508 1299.47,88.5339 1302.72,88.6238 \n",
       "  1305.96,88.7203 1309.21,88.8235 1312.45,88.9334 1315.69,89.0501 1318.93,89.1734 1322.18,89.3034 1325.42,89.4401 1328.66,89.5835 1331.9,89.7336 1335.13,89.8904 \n",
       "  1338.37,90.0538 1341.61,90.224 1344.85,90.4008 1348.08,90.5843 1351.32,90.7745 1354.55,90.9714 1357.78,91.175 1361.01,91.3852 1364.24,91.6021 1367.47,91.8257 \n",
       "  1370.7,92.056 1373.93,92.2929 1377.16,92.5364 1380.38,92.7867 1383.6,93.0436 1386.83,93.3071 1390.05,93.5773 1393.27,93.8542 1396.49,94.1377 1399.7,94.4279 \n",
       "  1402.92,94.7247 1406.13,95.0281 1409.35,95.3382 1412.56,95.6549 1415.77,95.9782 1418.98,96.3082 1422.18,96.6448 1425.39,96.988 1428.59,97.3379 1431.79,97.6943 \n",
       "  1434.99,98.0574 1438.19,98.427 1441.39,98.8033 1444.58,99.1862 1447.78,99.5756 1450.97,99.9717 1454.16,100.374 1457.34,100.784 1460.53,101.199 1463.71,101.622 \n",
       "  1466.89,102.051 1470.07,102.486 1473.25,102.928 1476.42,103.377 1479.6,103.832 1482.77,104.294 1485.93,104.762 1489.1,105.237 1492.26,105.718 1495.43,106.206 \n",
       "  1498.58,106.701 1501.74,107.202 1504.9,107.709 1508.05,108.223 1511.2,108.744 1514.34,109.271 1517.49,109.804 1520.63,110.344 1523.77,110.891 1526.9,111.444 \n",
       "  1530.04,112.003 1533.17,112.569 1536.3,113.141 1539.42,113.72 1542.55,114.305 1545.67,114.897 1548.78,115.495 1551.9,116.1 1555.01,116.711 1558.12,117.328 \n",
       "  1561.22,117.952 1564.33,118.582 1567.43,119.219 1570.52,119.862 1573.62,120.512 1576.71,121.168 1579.79,121.83 1582.88,122.498 1585.96,123.173 1589.03,123.855 \n",
       "  1592.11,124.542 1595.18,125.236 1598.25,125.937 1601.31,126.643 1604.37,127.356 1607.43,128.076 1610.48,128.801 1613.53,129.533 1616.58,130.272 1619.62,131.016 \n",
       "  1622.66,131.767 1625.7,132.524 1628.73,133.287 1631.76,134.057 1634.79,134.833 1637.81,135.615 1640.82,136.403 1643.84,137.198 1646.85,137.999 1649.85,138.806 \n",
       "  1652.86,139.619 1655.86,140.438 1658.85,141.264 1661.84,142.096 1664.83,142.934 1667.81,143.778 1670.79,144.628 1673.76,145.485 1676.73,146.347 1679.7,147.216 \n",
       "  1682.66,148.091 1685.62,148.972 1688.57,149.859 1691.52,150.752 1694.47,151.651 1697.41,152.556 1700.34,153.468 1703.27,154.385 1706.2,155.308 1709.13,156.238 \n",
       "  1712.04,157.174 1714.96,158.115 1717.87,159.063 1720.77,160.016 1723.67,160.976 1726.57,161.941 1729.46,162.913 1732.35,163.89 1735.23,164.874 1738.11,165.863 \n",
       "  1740.98,166.859 1743.85,167.86 1746.71,168.867 1749.57,169.88 1752.42,170.899 1755.27,171.924 1758.11,172.955 1760.95,173.992 1763.78,175.034 1766.61,176.082 \n",
       "  1769.44,177.137 1772.25,178.197 1775.07,179.262 1777.88,180.334 1780.68,181.411 1783.48,182.495 1786.27,183.584 1789.06,184.678 1791.84,185.779 1794.62,186.885 \n",
       "  1797.39,187.997 1800.15,189.115 1802.91,190.238 1805.67,191.367 1808.42,192.502 1811.16,193.642 1813.9,194.788 1816.64,195.94 1819.37,197.098 1822.09,198.261 \n",
       "  1824.81,199.429 1827.52,200.604 1830.22,201.783 1832.92,202.969 1835.62,204.16 1838.31,205.356 1840.99,206.558 1843.67,207.766 1846.34,208.979 1849,210.198 \n",
       "  1851.66,211.422 1854.32,212.652 1856.97,213.887 1859.61,215.127 1862.24,216.374 1864.87,217.625 1867.5,218.882 1870.12,220.144 1872.73,221.412 1875.33,222.685 \n",
       "  1877.93,223.964 1880.53,225.247 1883.12,226.537 1885.7,227.831 1888.27,229.131 1890.84,230.436 1893.4,231.747 1895.96,233.062 1898.51,234.383 1901.06,235.71 \n",
       "  1903.59,237.041 1906.12,238.378 1908.65,239.72 1911.17,241.067 1913.68,242.42 1916.18,243.777 1918.68,245.14 1921.18,246.508 1923.66,247.881 1926.14,249.259 \n",
       "  1928.61,250.642 1931.08,252.031 1933.54,253.424 1935.99,254.823 1938.44,256.227 1940.88,257.635 1943.31,259.049 1945.73,260.468 1948.15,261.891 1950.56,263.32 \n",
       "  1952.97,264.754 1955.37,266.192 1957.76,267.636 1960.14,269.084 1962.52,270.538 1964.89,271.996 1967.26,273.459 1969.61,274.927 1971.96,276.4 1974.31,277.878 \n",
       "  1976.64,279.361 1978.97,280.848 1981.29,282.34 1983.6,283.837 1985.91,285.339 1988.21,286.846 1990.5,288.357 1992.79,289.873 1995.07,291.394 1997.34,292.919 \n",
       "  1999.6,294.449 2001.86,295.984 2004.11,297.524 2006.35,299.068 2008.58,300.616 2010.81,302.17 2013.03,303.728 2015.24,305.29 2017.44,306.857 2019.64,308.429 \n",
       "  2021.83,310.005 2024.01,311.585 2026.18,313.17 2028.35,314.76 2030.51,316.354 2032.66,317.953 2034.8,319.555 2036.94,321.163 2039.07,322.775 2041.19,324.391 \n",
       "  2043.3,326.011 2045.4,327.636 2047.5,329.265 2049.59,330.899 2051.67,332.537 2053.75,334.179 2055.81,335.825 2057.87,337.476 2059.92,339.131 2061.96,340.79 \n",
       "  2064,342.453 2066.02,344.121 2068.04,345.793 2070.05,347.469 2072.05,349.149 2074.05,350.833 2076.03,352.521 2078.01,354.213 2079.98,355.91 2081.94,357.61 \n",
       "  2083.89,359.315 2085.84,361.023 2087.78,362.736 2089.71,364.452 2091.63,366.173 2093.54,367.897 2095.44,369.626 2097.34,371.358 2099.23,373.095 2101.11,374.835 \n",
       "  2102.98,376.579 2104.84,378.327 2106.69,380.078 2108.54,381.834 2110.38,383.593 2112.21,385.356 2114.03,387.123 2115.84,388.894 2117.64,390.668 2119.44,392.446 \n",
       "  2121.23,394.228 2123,396.014 2124.77,397.803 2126.53,399.596 2128.29,401.392 2130.03,403.192 2131.77,404.996 2133.49,406.803 2135.21,408.614 2136.92,410.428 \n",
       "  2138.62,412.246 2140.31,414.067 2142,415.892 2143.67,417.72 2145.34,419.552 2146.99,421.387 2148.64,423.226 2150.28,425.068 2151.91,426.913 2153.53,428.762 \n",
       "  2155.15,430.614 2156.75,432.469 2158.34,434.328 2159.93,436.19 2161.51,438.055 2163.08,439.923 2164.64,441.795 2166.19,443.67 2167.73,445.548 2169.26,447.429 \n",
       "  2170.78,449.314 2172.3,451.201 2173.8,453.092 2175.3,454.986 2176.79,456.883 2178.26,458.782 2179.73,460.685 2181.19,462.591 2182.64,464.5 2184.09,466.412 \n",
       "  2185.52,468.327 2186.94,470.245 2188.36,472.166 2189.76,474.09 2191.16,476.016 2192.54,477.946 2193.92,479.878 2195.29,481.814 2196.65,483.752 2198,485.692 \n",
       "  2199.34,487.636 2200.67,489.582 2201.99,491.531 2203.3,493.483 2204.61,495.438 2205.9,497.395 2207.18,499.355 2208.46,501.317 2209.72,503.282 2210.98,505.25 \n",
       "  2212.23,507.22 2213.46,509.193 2214.69,511.169 2215.91,513.147 2217.12,515.127 2218.32,517.11 2219.51,519.095 2220.69,521.083 2221.86,523.073 2223.02,525.066 \n",
       "  2224.17,527.061 2225.31,529.059 2226.45,531.058 2227.57,533.061 2228.68,535.065 2229.79,537.072 2230.88,539.081 2231.97,541.092 2233.04,543.105 2234.11,545.121 \n",
       "  2235.16,547.139 2236.21,549.159 2237.25,551.181 2238.27,553.206 2239.29,555.232 2240.3,557.261 2241.29,559.291 2242.28,561.324 2243.26,563.358 2244.23,565.395 \n",
       "  2245.19,567.434 2246.14,569.474 2247.08,571.517 2248.01,573.562 2248.93,575.608 2249.84,577.656 2250.74,579.707 2251.63,581.759 2252.51,583.813 2253.38,585.868 \n",
       "  2254.24,587.926 2255.09,589.985 2255.93,592.046 2256.76,594.109 2257.58,596.173 2258.39,598.239 2259.2,600.307 2259.99,602.376 2260.77,604.447 2261.54,606.52 \n",
       "  2262.3,608.594 2263.05,610.67 2263.8,612.747 2264.53,614.826 2265.25,616.907 2265.96,618.988 2266.67,621.072 2267.36,623.156 2268.04,625.243 2268.71,627.33 \n",
       "  2269.38,629.419 2270.03,631.509 2270.67,633.601 2271.3,635.694 2271.92,637.788 2272.54,639.884 2273.14,641.981 2273.73,644.079 2274.31,646.178 2274.89,648.278 \n",
       "  2275.45,650.38 2276,652.482 2276.54,654.586 2277.07,656.691 2277.6,658.797 2278.11,660.905 2278.61,663.013 2279.1,665.122 2279.58,667.232 2280.05,669.343 \n",
       "  2280.52,671.455 2280.97,673.569 2281.41,675.683 2281.84,677.797 2282.26,679.913 2282.67,682.03 2283.07,684.147 2283.46,686.266 2283.84,688.385 2284.21,690.505 \n",
       "  2284.57,692.625 2284.92,694.747 2285.26,696.869 2285.59,698.992 2285.91,701.115 2286.22,703.239 2286.52,705.364 2286.81,707.489 2287.09,709.615 2287.36,711.742 \n",
       "  2287.62,713.869 2287.86,715.996 2288.1,718.124 2288.33,720.253 2288.55,722.382 2288.76,724.511 2288.95,726.641 2289.14,728.771 2289.32,730.902 2289.48,733.033 \n",
       "  2289.64,735.164 2289.79,737.296 2289.92,739.428 2290.05,741.56 2290.17,743.692 2290.27,745.825 2290.37,747.958 2290.45,750.091 2290.53,752.224 2290.59,754.358 \n",
       "  2290.65,756.491 2290.69,758.625 2290.72,760.758 2290.75,762.892 2290.76,765.026 2290.77,767.16 2290.76,769.294 2290.74,771.427 2290.72,773.561 2290.68,775.695 \n",
       "  2290.63,777.828 2290.57,779.962 2290.51,782.095 2290.43,784.228 2290.34,786.361 2290.24,788.494 2290.13,790.627 2290.01,792.759 2289.88,794.891 2289.75,797.023 \n",
       "  2289.6,799.155 2289.44,801.286 2289.27,803.417 2289.09,805.547 2288.9,807.677 2288.7,809.807 2288.48,811.936 2288.26,814.065 2288.03,816.194 2287.79,818.321 \n",
       "  2287.54,820.449 2287.28,822.576 2287.01,824.702 2286.73,826.828 2286.43,828.953 2286.13,831.077 2285.82,833.201 2285.5,835.325 2285.16,837.447 2284.82,839.569 \n",
       "  2284.47,841.69 2284.11,843.811 2283.73,845.93 2283.35,848.049 2282.96,850.167 2282.55,852.285 2282.14,854.401 2281.71,856.516 2281.28,858.631 2280.84,860.745 \n",
       "  2280.38,862.858 2279.92,864.97 2279.44,867.081 2278.96,869.19 2278.46,871.299 2277.96,873.407 2277.44,875.514 2276.92,877.62 2276.38,879.724 2275.84,881.828 \n",
       "  2275.28,883.93 2274.72,886.032 2274.14,888.132 2273.56,890.231 2272.96,892.328 2272.36,894.425 2271.74,896.52 2271.12,898.614 2270.48,900.706 2269.84,902.797 \n",
       "  2269.18,904.887 2268.52,906.976 2267.84,909.063 2267.16,911.149 2266.46,913.233 2265.76,915.316 2265.04,917.397 2264.32,919.477 2263.58,921.556 2262.84,923.633 \n",
       "  2262.08,925.708 2261.32,927.782 2260.54,929.854 2259.76,931.924 2258.96,933.993 2258.16,936.061 2257.34,938.126 2256.52,940.19 2255.68,942.252 2254.84,944.313 \n",
       "  2253.99,946.372 2253.12,948.428 2252.25,950.484 2251.37,952.537 2250.47,954.588 2249.57,956.638 2248.66,958.686 2247.73,960.732 2246.8,962.776 2245.86,964.818 \n",
       "  2244.91,966.858 2243.95,968.896 2242.97,970.932 2241.99,972.966 2241,974.998 2240,977.028 2238.99,979.056 2237.97,981.082 2236.94,983.106 2235.9,985.127 \n",
       "  2234.85,987.147 2233.8,989.164 2232.73,991.179 2231.65,993.192 2230.56,995.202 2229.46,997.211 2228.36,999.217 2227.24,1001.22 2226.12,1003.22 2224.98,1005.22 \n",
       "  2223.83,1007.22 2222.68,1009.21 2221.52,1011.2 2220.34,1013.19 2219.16,1015.18 2217.97,1017.17 2216.76,1019.15 2215.55,1021.13 2214.33,1023.1 2213.1,1025.08 \n",
       "  2211.86,1027.05 2210.61,1029.02 2209.35,1030.99 2208.08,1032.95 2206.81,1034.91 2205.52,1036.87 2204.22,1038.83 2202.92,1040.78 2201.6,1042.73 2200.28,1044.68 \n",
       "  2198.94,1046.63 2197.6,1048.57 2196.25,1050.51 2194.89,1052.45 2193.52,1054.38 2192.14,1056.31 2190.75,1058.24 2189.35,1060.17 2187.94,1062.09 2186.52,1064.01 \n",
       "  2185.1,1065.93 2183.66,1067.84 2182.22,1069.75 2180.77,1071.66 2179.3,1073.57 2177.83,1075.47 2176.35,1077.37 2174.86,1079.26 2173.36,1081.16 2171.85,1083.05 \n",
       "  2170.34,1084.93 2168.81,1086.82 2167.28,1088.7 2165.73,1090.57 2164.18,1092.45 2162.62,1094.32 2161.05,1096.19 2159.47,1098.05 2157.88,1099.91 2156.28,1101.77 \n",
       "  2154.67,1103.62 2153.06,1105.47 2151.43,1107.32 2149.8,1109.17 2148.16,1111.01 2146.51,1112.85 2144.85,1114.68 2143.18,1116.51 2141.5,1118.34 2139.82,1120.16 \n",
       "  2138.12,1121.98 2136.42,1123.8 2134.71,1125.61 2132.99,1127.42 2131.26,1129.23 2129.52,1131.03 2127.77,1132.83 2126.02,1134.62 2124.25,1136.42 2122.48,1138.2 \n",
       "  2120.7,1139.99 2118.91,1141.77 2117.11,1143.55 2115.31,1145.32 2113.49,1147.09 2111.67,1148.85 2109.84,1150.62 2108,1152.37 2106.15,1154.13 2104.29,1155.88 \n",
       "  2102.43,1157.63 2100.56,1159.37 2098.67,1161.11 2096.78,1162.84 2094.89,1164.57 2092.98,1166.3 2091.06,1168.03 2089.14,1169.74 2087.21,1171.46 2085.27,1173.17 \n",
       "  2083.32,1174.88 2081.37,1176.58 2079.4,1178.28 2077.43,1179.98 2075.45,1181.67 2073.46,1183.36 2071.46,1185.04 2069.46,1186.72 2067.45,1188.39 2065.43,1190.06 \n",
       "  2063.4,1191.73 2061.36,1193.39 2059.32,1195.05 2057.27,1196.7 2055.21,1198.35 2053.14,1200 2051.06,1201.64 2048.98,1203.27 2046.89,1204.91 2044.79,1206.53 \n",
       "  2042.68,1208.16 2040.56,1209.78 2038.44,1211.39 2036.31,1213 2034.17,1214.61 2032.03,1216.21 2029.87,1217.81 2027.71,1219.4 2025.55,1220.99 2023.37,1222.57 \n",
       "  2021.19,1224.15 2018.99,1225.73 2016.79,1227.3 2014.59,1228.86 2012.37,1230.42 2010.15,1231.98 2007.92,1233.53 2005.69,1235.08 2003.45,1236.62 2001.19,1238.16 \n",
       "  1998.94,1239.69 1996.67,1241.22 1994.4,1242.75 1992.12,1244.27 1989.83,1245.78 1987.54,1247.29 1985.23,1248.8 1982.92,1250.3 1980.61,1251.79 1978.29,1253.28 \n",
       "  1975.96,1254.77 1973.62,1256.25 1971.27,1257.73 1968.92,1259.2 1966.56,1260.66 1964.2,1262.13 1961.82,1263.58 1959.44,1265.03 1957.06,1266.48 1954.66,1267.92 \n",
       "  1952.26,1269.36 1949.86,1270.79 1947.44,1272.22 1945.02,1273.64 1942.59,1275.06 1940.16,1276.47 1937.72,1277.88 1935.27,1279.28 1932.82,1280.68 1930.35,1282.07 \n",
       "  1927.89,1283.46 1925.41,1284.84 1922.93,1286.22 1920.44,1287.59 1917.95,1288.95 1915.45,1290.31 1912.94,1291.67 1910.43,1293.02 1907.91,1294.37 1905.38,1295.71 \n",
       "  1902.85,1297.04 1900.31,1298.37 1897.76,1299.7 1895.21,1301.02 1892.65,1302.33 1890.09,1303.64 1887.52,1304.94 1884.94,1306.24 1882.36,1307.54 1879.77,1308.82 \n",
       "  1877.17,1310.11 1874.57,1311.38 1871.96,1312.65 1869.35,1313.92 1866.73,1315.18 1864.1,1316.44 1861.47,1317.69 1858.83,1318.93 1856.19,1320.17 1853.54,1321.4 \n",
       "  1850.88,1322.63 1848.22,1323.85 1845.55,1325.07 1842.88,1326.28 1840.2,1327.49 1837.52,1328.69 1834.83,1329.88 1832.13,1331.07 1829.43,1332.26 1826.72,1333.43 \n",
       "  1824.01,1334.61 1821.29,1335.77 1818.56,1336.94 1815.83,1338.09 1813.1,1339.24 1810.36,1340.39 1807.61,1341.52 1804.86,1342.66 1802.1,1343.79 1799.34,1344.91 \n",
       "  1796.57,1346.02 1793.8,1347.13 1791.02,1348.24 1788.24,1349.34 1785.45,1350.43 1782.65,1351.52 1779.86,1352.6 1777.05,1353.67 1774.24,1354.74 1771.43,1355.81 \n",
       "  1768.61,1356.87 1765.78,1357.92 1762.95,1358.97 1760.12,1360.01 1757.28,1361.04 1754.43,1362.07 1751.58,1363.09 1748.73,1364.11 1745.87,1365.12 1743,1366.13 \n",
       "  1740.14,1367.13 1737.26,1368.12 1734.38,1369.11 1731.5,1370.09 1728.61,1371.07 1725.72,1372.04 1722.82,1373 1719.92,1373.96 1717.01,1374.91 1714.1,1375.85 \n",
       "  1711.19,1376.79 1708.27,1377.73 1705.34,1378.66 1702.41,1379.58 1699.48,1380.49 1696.54,1381.4 1693.6,1382.31 1690.65,1383.2 1687.7,1384.1 1684.75,1384.98 \n",
       "  1681.79,1385.86 1678.83,1386.73 1675.86,1387.6 1672.89,1388.46 1669.91,1389.31 1666.93,1390.16 1663.95,1391.01 1660.96,1391.84 1657.97,1392.67 1654.97,1393.5 \n",
       "  \n",
       "  \"/>\n",
       "<polyline clip-path=\"url(#clip372)\" style=\"stroke:#e26f46; stroke-width:4; stroke-opacity:1; fill:none\" points=\"\n",
       "  1257.61,766.846 1654.97,1393.5 \n",
       "  \"/>\n",
       "<polyline clip-path=\"url(#clip372)\" style=\"stroke:#3da44d; stroke-width:4; stroke-opacity:1; fill:none\" points=\"\n",
       "  1257.61,766.846 303.918,1027.95 \n",
       "  \"/>\n",
       "<polyline clip-path=\"url(#clip372)\" style=\"stroke:#c271d2; stroke-width:4; stroke-opacity:1; fill:none\" points=\"\n",
       "  1257.61,766.846 864.229,1394.58 \n",
       "  \"/>\n",
       "<path clip-path=\"url(#clip370)\" d=\"\n",
       "M1988.02 433.164 L2280.76 433.164 L2280.76 130.764 L1988.02 130.764  Z\n",
       "  \" fill=\"#ffffff\" fill-rule=\"evenodd\" fill-opacity=\"1\"/>\n",
       "<polyline clip-path=\"url(#clip370)\" style=\"stroke:#000000; stroke-width:4; stroke-opacity:1; fill:none\" points=\"\n",
       "  1988.02,433.164 2280.76,433.164 2280.76,130.764 1988.02,130.764 1988.02,433.164 \n",
       "  \"/>\n",
       "<polyline clip-path=\"url(#clip370)\" style=\"stroke:#009af9; stroke-width:4; stroke-opacity:1; fill:none\" points=\"\n",
       "  2012.02,191.244 2156.02,191.244 \n",
       "  \"/>\n",
       "<path clip-path=\"url(#clip370)\" d=\"M 0 0 M2193.87 210.931 Q2192.06 215.561 2190.35 216.973 Q2188.64 218.385 2185.77 218.385 L2182.36 218.385 L2182.36 214.82 L2184.86 214.82 Q2186.62 214.82 2187.59 213.987 Q2188.57 213.154 2189.75 210.052 L2190.51 208.107 L2180.02 182.598 L2184.54 182.598 L2192.64 202.876 L2200.74 182.598 L2205.26 182.598 L2193.87 210.931 Z\" fill=\"#000000\" fill-rule=\"evenodd\" fill-opacity=\"1\" /><path clip-path=\"url(#clip370)\" d=\"M 0 0 M2211.14 204.589 L2218.77 204.589 L2218.77 178.223 L2210.46 179.89 L2210.46 175.631 L2218.73 173.964 L2223.4 173.964 L2223.4 204.589 L2231.04 204.589 L2231.04 208.524 L2211.14 208.524 L2211.14 204.589 Z\" fill=\"#000000\" fill-rule=\"evenodd\" fill-opacity=\"1\" /><polyline clip-path=\"url(#clip370)\" style=\"stroke:#e26f46; stroke-width:4; stroke-opacity:1; fill:none\" points=\"\n",
       "  2012.02,251.724 2156.02,251.724 \n",
       "  \"/>\n",
       "<path clip-path=\"url(#clip370)\" d=\"M 0 0 M2193.87 271.411 Q2192.06 276.041 2190.35 277.453 Q2188.64 278.865 2185.77 278.865 L2182.36 278.865 L2182.36 275.3 L2184.86 275.3 Q2186.62 275.3 2187.59 274.467 Q2188.57 273.634 2189.75 270.532 L2190.51 268.587 L2180.02 243.078 L2184.54 243.078 L2192.64 263.356 L2200.74 243.078 L2205.26 243.078 L2193.87 271.411 Z\" fill=\"#000000\" fill-rule=\"evenodd\" fill-opacity=\"1\" /><path clip-path=\"url(#clip370)\" d=\"M 0 0 M2214.35 265.069 L2230.67 265.069 L2230.67 269.004 L2208.73 269.004 L2208.73 265.069 Q2211.39 262.314 2215.97 257.685 Q2220.58 253.032 2221.76 251.689 Q2224.01 249.166 2224.89 247.43 Q2225.79 245.671 2225.79 243.981 Q2225.79 241.226 2223.84 239.49 Q2221.92 237.754 2218.82 237.754 Q2216.62 237.754 2214.17 238.518 Q2211.74 239.282 2208.96 240.833 L2208.96 236.111 Q2211.78 234.976 2214.24 234.398 Q2216.69 233.819 2218.73 233.819 Q2224.1 233.819 2227.29 236.504 Q2230.49 239.189 2230.49 243.68 Q2230.49 245.81 2229.68 247.731 Q2228.89 249.629 2226.78 252.222 Q2226.21 252.893 2223.1 256.111 Q2220 259.305 2214.35 265.069 Z\" fill=\"#000000\" fill-rule=\"evenodd\" fill-opacity=\"1\" /><polyline clip-path=\"url(#clip370)\" style=\"stroke:#3da44d; stroke-width:4; stroke-opacity:1; fill:none\" points=\"\n",
       "  2012.02,312.204 2156.02,312.204 \n",
       "  \"/>\n",
       "<path clip-path=\"url(#clip370)\" d=\"M 0 0 M2193.87 331.891 Q2192.06 336.521 2190.35 337.933 Q2188.64 339.345 2185.77 339.345 L2182.36 339.345 L2182.36 335.78 L2184.86 335.78 Q2186.62 335.78 2187.59 334.947 Q2188.57 334.114 2189.75 331.012 L2190.51 329.067 L2180.02 303.558 L2184.54 303.558 L2192.64 323.836 L2200.74 303.558 L2205.26 303.558 L2193.87 331.891 Z\" fill=\"#000000\" fill-rule=\"evenodd\" fill-opacity=\"1\" /><path clip-path=\"url(#clip370)\" d=\"M 0 0 M2224.49 310.85 Q2227.85 311.568 2229.72 313.836 Q2231.62 316.105 2231.62 319.438 Q2231.62 324.554 2228.1 327.354 Q2224.58 330.155 2218.1 330.155 Q2215.93 330.155 2213.61 329.716 Q2211.32 329.299 2208.87 328.442 L2208.87 323.929 Q2210.81 325.063 2213.13 325.642 Q2215.44 326.22 2217.96 326.22 Q2222.36 326.22 2224.65 324.484 Q2226.97 322.748 2226.97 319.438 Q2226.97 316.382 2224.82 314.669 Q2222.69 312.933 2218.87 312.933 L2214.84 312.933 L2214.84 309.091 L2219.05 309.091 Q2222.5 309.091 2224.33 307.725 Q2226.16 306.336 2226.16 303.743 Q2226.16 301.081 2224.26 299.669 Q2222.39 298.234 2218.87 298.234 Q2216.95 298.234 2214.75 298.651 Q2212.55 299.068 2209.91 299.947 L2209.91 295.781 Q2212.57 295.04 2214.89 294.669 Q2217.22 294.299 2219.28 294.299 Q2224.61 294.299 2227.71 296.73 Q2230.81 299.137 2230.81 303.257 Q2230.81 306.128 2229.17 308.118 Q2227.52 310.086 2224.49 310.85 Z\" fill=\"#000000\" fill-rule=\"evenodd\" fill-opacity=\"1\" /><polyline clip-path=\"url(#clip370)\" style=\"stroke:#c271d2; stroke-width:4; stroke-opacity:1; fill:none\" points=\"\n",
       "  2012.02,372.684 2156.02,372.684 \n",
       "  \"/>\n",
       "<path clip-path=\"url(#clip370)\" d=\"M 0 0 M2193.87 392.371 Q2192.06 397.001 2190.35 398.413 Q2188.64 399.825 2185.77 399.825 L2182.36 399.825 L2182.36 396.26 L2184.86 396.26 Q2186.62 396.26 2187.59 395.427 Q2188.57 394.594 2189.75 391.492 L2190.51 389.547 L2180.02 364.038 L2184.54 364.038 L2192.64 384.316 L2200.74 364.038 L2205.26 364.038 L2193.87 392.371 Z\" fill=\"#000000\" fill-rule=\"evenodd\" fill-opacity=\"1\" /><path clip-path=\"url(#clip370)\" d=\"M 0 0 M2223.17 359.478 L2211.37 377.927 L2223.17 377.927 L2223.17 359.478 M2221.95 355.404 L2227.83 355.404 L2227.83 377.927 L2232.76 377.927 L2232.76 381.816 L2227.83 381.816 L2227.83 389.964 L2223.17 389.964 L2223.17 381.816 L2207.57 381.816 L2207.57 377.302 L2221.95 355.404 Z\" fill=\"#000000\" fill-rule=\"evenodd\" fill-opacity=\"1\" /></svg>\n"
      ]
     },
     "execution_count": 140,
     "metadata": {},
     "output_type": "execute_result"
    }
   ],
   "source": [
    "plot( [vector[1] for vector in image] , [vector[2] for vector in image]  )\n",
    "plot!( [0,e1[1]], [0,e1[2]] )\n",
    "plot!( [0,e2[1]], [0,e2[2]] )\n",
    "plot!( [0,test[1]], [0,test[2]])"
   ]
  },
  {
   "cell_type": "code",
   "execution_count": null,
   "metadata": {},
   "outputs": [],
   "source": []
  },
  {
   "cell_type": "code",
   "execution_count": 113,
   "metadata": {},
   "outputs": [
    {
     "data": {
      "text/plain": [
       "0.9999999999999999"
      ]
     },
     "execution_count": 113,
     "metadata": {},
     "output_type": "execute_result"
    }
   ],
   "source": [
    "sqrt((1/2)^2+(sqrt(3)/2)^2)"
   ]
  },
  {
   "cell_type": "code",
   "execution_count": 110,
   "metadata": {},
   "outputs": [
    {
     "data": {
      "text/plain": [
       "2×2 Array{Int64,2}:\n",
       " 0  1\n",
       " 0  0"
      ]
     },
     "execution_count": 110,
     "metadata": {},
     "output_type": "execute_result"
    }
   ],
   "source": [
    "A"
   ]
  },
  {
   "cell_type": "code",
   "execution_count": 117,
   "metadata": {},
   "outputs": [
    {
     "data": {
      "text/plain": [
       "2×2 Array{Int64,2}:\n",
       " 1  1\n",
       " 0  0"
      ]
     },
     "execution_count": 117,
     "metadata": {},
     "output_type": "execute_result"
    }
   ],
   "source": [
    "P2 = [1 1; 0 0 ]"
   ]
  },
  {
   "cell_type": "code",
   "execution_count": 121,
   "metadata": {},
   "outputs": [
    {
     "data": {
      "text/plain": [
       "2×2 Array{Int64,2}:\n",
       " 4  6\n",
       " 6  9"
      ]
     },
     "execution_count": 121,
     "metadata": {},
     "output_type": "execute_result"
    }
   ],
   "source": [
    "c = 2\n",
    "s = 3\n",
    "\n",
    "P2 = [c^2 c*s; c*s s^2]"
   ]
  },
  {
   "cell_type": "code",
   "execution_count": 135,
   "metadata": {},
   "outputs": [
    {
     "data": {
      "text/plain": [
       "2×2 Array{Float64,2}:\n",
       " 0.307692  0.461538\n",
       " 0.461538  0.692308"
      ]
     },
     "execution_count": 135,
     "metadata": {},
     "output_type": "execute_result"
    }
   ],
   "source": [
    "using LinearAlgebra\n",
    "\n",
    "P2/norm(P2)\n",
    "\n",
    "P2 = P2/norm(P2)"
   ]
  },
  {
   "cell_type": "code",
   "execution_count": 137,
   "metadata": {},
   "outputs": [
    {
     "data": {
      "text/plain": [
       "2×2 Array{Float64,2}:\n",
       " 0.307692  0.461538\n",
       " 0.461538  0.692308"
      ]
     },
     "execution_count": 137,
     "metadata": {},
     "output_type": "execute_result"
    }
   ],
   "source": [
    "P2*P2"
   ]
  },
  {
   "cell_type": "code",
   "execution_count": 128,
   "metadata": {},
   "outputs": [
    {
     "data": {
      "text/plain": [
       "2×2 Array{Float64,2}:\n",
       " 0.307692  0.461538\n",
       " 0.461538  0.692308"
      ]
     },
     "execution_count": 128,
     "metadata": {},
     "output_type": "execute_result"
    }
   ],
   "source": []
  },
  {
   "cell_type": "code",
   "execution_count": 138,
   "metadata": {},
   "outputs": [
    {
     "data": {
      "text/plain": [
       "2×2 Array{Float64,2}:\n",
       " 1.0  0.0\n",
       " 0.0  1.0"
      ]
     },
     "execution_count": 138,
     "metadata": {},
     "output_type": "execute_result"
    }
   ],
   "source": [
    "(identity(2)-2*P2)*(identity(2)-2P2)'"
   ]
  },
  {
   "cell_type": "code",
   "execution_count": 141,
   "metadata": {},
   "outputs": [
    {
     "data": {
      "text/plain": [
       "3×3 Array{Int64,2}:\n",
       " 1  2  3\n",
       " 4  5  6\n",
       " 7  8  9"
      ]
     },
     "execution_count": 141,
     "metadata": {},
     "output_type": "execute_result"
    }
   ],
   "source": [
    "A = [1 2 3; 4 5 6; 7 8 9]"
   ]
  },
  {
   "cell_type": "code",
   "execution_count": 143,
   "metadata": {},
   "outputs": [
    {
     "data": {
      "text/plain": [
       "3-element Array{Int64,1}:\n",
       " 3\n",
       " 1\n",
       " 2"
      ]
     },
     "execution_count": 143,
     "metadata": {},
     "output_type": "execute_result"
    }
   ],
   "source": [
    "[0 0 1; 1 0 0; 0 1 0]*[1;2;3]"
   ]
  },
  {
   "cell_type": "code",
   "execution_count": 144,
   "metadata": {},
   "outputs": [
    {
     "data": {
      "text/plain": [
       "3×3 Array{Int64,2}:\n",
       " 1  2  3\n",
       " 4  5  6\n",
       " 7  8  9"
      ]
     },
     "execution_count": 144,
     "metadata": {},
     "output_type": "execute_result"
    }
   ],
   "source": [
    "A"
   ]
  },
  {
   "cell_type": "code",
   "execution_count": 145,
   "metadata": {},
   "outputs": [
    {
     "data": {
      "text/plain": [
       "3-element Array{Int64,1}:\n",
       " 1\n",
       " 4\n",
       " 7"
      ]
     },
     "execution_count": 145,
     "metadata": {},
     "output_type": "execute_result"
    }
   ],
   "source": [
    "v1 = A[:,1]"
   ]
  },
  {
   "cell_type": "code",
   "execution_count": null,
   "metadata": {},
   "outputs": [],
   "source": []
  }
 ],
 "metadata": {
  "kernelspec": {
   "display_name": "Julia 1.2.0",
   "language": "julia",
   "name": "julia-1.2"
  },
  "language_info": {
   "file_extension": ".jl",
   "mimetype": "application/julia",
   "name": "julia",
   "version": "1.2.0"
  }
 },
 "nbformat": 4,
 "nbformat_minor": 4
}
