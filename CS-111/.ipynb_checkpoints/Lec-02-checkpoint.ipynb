{
 "cells": [
  {
   "cell_type": "markdown",
   "metadata": {},
   "source": [
    "# CS 111 Week 2\n",
    "---"
   ]
  },
  {
   "cell_type": "markdown",
   "metadata": {},
   "source": [
    "## Monday Aug 24\n",
    "*Texbook sections covered: 1.3*"
   ]
  },
  {
   "cell_type": "markdown",
   "metadata": {},
   "source": [
    "### Time Complexity - An Example With Loops\n",
    "\n",
    "Last time, we wrote a function that finds the sum of a list of numbers input to it.  Let's review the code:"
   ]
  },
  {
   "cell_type": "code",
   "execution_count": 10,
   "metadata": {},
   "outputs": [],
   "source": [
    "def sumNumbers(ourNumbers):\n",
    "    result = 0 \n",
    "    for number in ourNumbers:\n",
    "        result = result + number\n",
    "    return result\n",
    "\n"
   ]
  },
  {
   "cell_type": "markdown",
   "metadata": {},
   "source": [
    "**There's a black box here:** the \"list\" operator.\n",
    "\n",
    "In particular, we're assuming that the input to this function is a list.  In Python, this means something very specific.  Let's talk about lists for a minute, because **they're the most important built-in data structure in Python**"
   ]
  },
  {
   "cell_type": "markdown",
   "metadata": {},
   "source": [
    "\n",
    "\n",
    "\n",
    "\n",
    "\n",
    "\n",
    "\n",
    "\n",
    "\n",
    "\n",
    "\n",
    "\n",
    "\n"
   ]
  },
  {
   "cell_type": "markdown",
   "metadata": {},
   "source": [
    "**Lists are exactly what they sound like**:  An ordered sequence of data.  *(In R, the analagous data type is a \"column vector\", c()*).  \n",
    "\n",
    "Let's take a minute to appreciate the important functions of a list.\n",
    "\n",
    "Spoiler alert for the future:  In Python, every list is an \"object\". Thus, every list has built-in functions for working with it:  \n",
    "\n",
    "- How long is the list?\n",
    "- What are the elements?\n",
    "- How do you add to (or delete from) the list?\n",
    "- Lots more\n",
    "\n",
    "Let's do a simple example:"
   ]
  },
  {
   "cell_type": "code",
   "execution_count": 21,
   "metadata": {},
   "outputs": [
    {
     "name": "stdout",
     "output_type": "stream",
     "text": [
      "[1, 2, 3, 4]\n"
     ]
    }
   ],
   "source": [
    "myList = [1,2,3,4]\n",
    "\n",
    "#print (useful for debugging)\n",
    "\n",
    "\n",
    "#access individual element\n",
    "\n",
    "\n",
    "#find the length of the list\n",
    "\n",
    "\n",
    "#append an element to the list\n",
    "\n"
   ]
  },
  {
   "cell_type": "markdown",
   "metadata": {},
   "source": [
    "\n",
    "\n",
    "\n",
    "\n",
    "\n",
    "\n",
    "\n",
    "\n",
    "\n",
    "\n",
    "\n"
   ]
  },
  {
   "cell_type": "markdown",
   "metadata": {},
   "source": [
    "### Time Complexity of the `sumNumbers` function"
   ]
  },
  {
   "cell_type": "code",
   "execution_count": null,
   "metadata": {},
   "outputs": [],
   "source": [
    "def sumNumbers(ourNumbers):\n",
    "    result = 0 \n",
    "    for number in ourNumbers:\n",
    "        result = result + number\n",
    "    return result"
   ]
  },
  {
   "cell_type": "markdown",
   "metadata": {},
   "source": [
    "**Question**:  What's the time complexity of this function?\n",
    "\n",
    "**Answer**: There's a tricky detail: the \"for\" loop.  \n",
    "\n",
    "\n",
    "\n",
    "\n",
    "\n",
    "\n",
    "\n",
    "\n"
   ]
  },
  {
   "cell_type": "markdown",
   "metadata": {},
   "source": [
    "### Functional Abstraction Example - Means\n",
    "\n",
    "We wrote code for a function that sums up a list of numbers.  How about to find the mean (average) of a list of numbers?\n",
    "\n",
    "First, let's think about the procedure for finding the mean of a list of numbers:\n",
    "\n",
    "1. \n",
    "2.  \n",
    "\n",
    "\n",
    "\n",
    "\n",
    "Notice that we've already written the code for step 1.  Instead of re-writing it, let's use it for our new function!"
   ]
  },
  {
   "cell_type": "markdown",
   "metadata": {},
   "source": [
    "\n",
    "\n",
    "\n",
    "\n",
    "\n",
    "\n",
    "\n",
    "\n",
    "\n",
    "\n"
   ]
  },
  {
   "cell_type": "markdown",
   "metadata": {},
   "source": [
    "**Challenge**:  using the `sumNumbers()` function above, write a new funcition called `getMean()` that takes a list of numbers for input, and returns the mean/average of the numbers.\n",
    "\n",
    "Not including the `def` line and the `return` line, it's possible to write this function with only two lines of code.  Can you do it?\n"
   ]
  },
  {
   "cell_type": "code",
   "execution_count": null,
   "metadata": {},
   "outputs": [],
   "source": [
    "def getMean(numbers):\n",
    "    \n",
    "    \n",
    "    \n",
    "    \n",
    "    \n",
    "    \n",
    "    \n",
    "    \n",
    "    "
   ]
  },
  {
   "cell_type": "markdown",
   "metadata": {},
   "source": [
    "This example is simple, but it shows just how important **functional abstraction** is.  We computer scientists don't want to keep solving the same problems over and over again -- we want to use our old solutions to tackly bigger, more interesting problems!"
   ]
  },
  {
   "cell_type": "markdown",
   "metadata": {},
   "source": [
    "\n",
    "\n",
    "\n",
    "\n",
    "\n",
    "\n",
    "\n"
   ]
  },
  {
   "cell_type": "markdown",
   "metadata": {},
   "source": [
    "### Optimizing Algorithms -- A Smoothing Algorithm.\n",
    "\n",
    "Let's examine a specific algorithm: a \"smoothing\" algorithm.  There are two points I want to take away from this example:\n",
    "\n",
    "1. Let's practice computing the time complexity of an algorithm.\n",
    "2. Let's observe that some algorithms are better than others.\n",
    "\n",
    "See p13 in the text for details on this algorithm."
   ]
  },
  {
   "cell_type": "markdown",
   "metadata": {},
   "source": [
    "\n",
    "\n",
    "\n",
    "\n",
    "\n",
    "\n",
    "\n",
    "\n",
    "\n",
    "\n",
    "\n",
    "\n",
    "\n"
   ]
  },
  {
   "cell_type": "markdown",
   "metadata": {},
   "source": [
    "Let's talk through the time complexity of the first (\"naive\") version of the algorithm.\n",
    "\n",
    "First, an overview:\n",
    "\n"
   ]
  },
  {
   "cell_type": "markdown",
   "metadata": {},
   "source": []
  }
 ],
 "metadata": {
  "kernelspec": {
   "display_name": "Python 3",
   "language": "python",
   "name": "python3"
  },
  "language_info": {
   "codemirror_mode": {
    "name": "ipython",
    "version": 3
   },
   "file_extension": ".py",
   "mimetype": "text/x-python",
   "name": "python",
   "nbconvert_exporter": "python",
   "pygments_lexer": "ipython3",
   "version": "3.7.3"
  }
 },
 "nbformat": 4,
 "nbformat_minor": 4
}
