{
 "cells": [
  {
   "cell_type": "markdown",
   "metadata": {},
   "source": [
    "# Week 7\n",
    "\n",
    "## Monday, Sept 28\n",
    "\n",
    "*Texbook coverage: Ch 4*"
   ]
  },
  {
   "cell_type": "markdown",
   "metadata": {},
   "source": [
    "Newtwon's method.\n",
    "\n",
    "First:  Make a guess.  x0.\n",
    "\n",
    "Then, follow the tangent line to the axis.  That x-value is the next guess.\n",
    "\n",
    "Repeat.\n",
    "\n",
    "Equation of a line:  (point slope form)\n",
    "\n",
    "y - y0 = m(x-x0)\n",
    "\n",
    "Where (x0, y0) is a point on the line.\n",
    "\n",
    "Here, x0 is our first guess.\n",
    "\n",
    "m is slope.  More on that later.\n",
    "\n",
    "We're looking for the x-value where y =0.    This x-val is the next guess.\n",
    "\n",
    "0 - y0 = m(x-x0).     Solve for x.\n",
    "\n",
    "-y0/m = x - x0\n",
    "\n",
    "-y0/m + x0 = x\n",
    "\n",
    "\n",
    "\n",
    "\"next x\" = x0 - y0/m\n",
    "\n",
    "         = first x guess - y value at first x guess / slope of the function at guess\n",
    "\n",
    "Three parts:\n",
    "\n",
    "- guess x0 (we choose)\n",
    "- m (slope:  change in y / change in x )\n",
    "- y0 (the function value when x=x0)\n",
    "\n",
    "Need two functions:\n",
    "\n",
    "- function for y (find y vals based on x)\n",
    "- function for the slope (find m, slope of the tangent line)\n",
    "\n",
    "Starting example:  y = f(x) = x^2 - 9.\n",
    "\n",
    "Write function:\n",
    "\n",
    "\n"
   ]
  },
  {
   "cell_type": "code",
   "execution_count": 8,
   "metadata": {},
   "outputs": [],
   "source": [
    "def f(x):\n",
    "    return x**2-9\n"
   ]
  },
  {
   "cell_type": "markdown",
   "metadata": {},
   "source": [
    "Need a function for the slope.\n",
    "\n",
    "m = (y2 - y1)/(x2-x1)\n",
    "\n"
   ]
  },
  {
   "cell_type": "code",
   "execution_count": 9,
   "metadata": {},
   "outputs": [],
   "source": [
    "def slope(f, x):\n",
    "    \"\"\" inputs:  function f, x-val x\n",
    "    \n",
    "    return:  the slope of the line on that interval\n",
    "    \"\"\"\n",
    "    \n",
    "    # y2 = f(x+.001)\n",
    "    # y1 = f(x)\n",
    "    # x2 = x+.001\n",
    "    # x1 = x\n",
    "    \n",
    "    return (f(x+.001)-f(x))/((x+.001)-x)"
   ]
  },
  {
   "cell_type": "markdown",
   "metadata": {},
   "source": [
    "## Let's try by hand.  \n",
    "\n",
    "Let's guess x=25.  Here, f(x) = x**2 - 9.  We already know the solutions 3 and -3.\n",
    "\n",
    "First guess: x0 = 25.  Let's find x1:\n",
    "\n",
    "x1 = x0-f(x0)/slope(x0)"
   ]
  },
  {
   "cell_type": "code",
   "execution_count": 105,
   "metadata": {},
   "outputs": [],
   "source": [
    "x0 = 25\n",
    "\n",
    "x1 = x0 - f(x0)/slope(f, x0)"
   ]
  },
  {
   "cell_type": "code",
   "execution_count": 106,
   "metadata": {},
   "outputs": [
    {
     "name": "stdout",
     "output_type": "stream",
     "text": [
      "12.680246395073228\n"
     ]
    }
   ],
   "source": [
    "print(x1)"
   ]
  },
  {
   "cell_type": "code",
   "execution_count": 107,
   "metadata": {},
   "outputs": [],
   "source": [
    "x2 = x1 - f(x1)/slope(f, x1)"
   ]
  },
  {
   "cell_type": "code",
   "execution_count": 108,
   "metadata": {},
   "outputs": [
    {
     "name": "stdout",
     "output_type": "stream",
     "text": [
      "6.695241888604139\n"
     ]
    }
   ],
   "source": [
    "print(x2)"
   ]
  },
  {
   "cell_type": "code",
   "execution_count": 114,
   "metadata": {},
   "outputs": [],
   "source": [
    "x3 = x2 - f(x2)/slope(f, x2)"
   ]
  },
  {
   "cell_type": "code",
   "execution_count": 112,
   "metadata": {},
   "outputs": [
    {
     "name": "stdout",
     "output_type": "stream",
     "text": [
      "4.019939842695299\n"
     ]
    }
   ],
   "source": [
    "print(x3)"
   ]
  },
  {
   "cell_type": "code",
   "execution_count": 115,
   "metadata": {},
   "outputs": [
    {
     "name": "stdout",
     "output_type": "stream",
     "text": [
      "3.129500410813397\n"
     ]
    }
   ],
   "source": [
    "x4 = x3 - f(x3)/slope(f, x3)\n",
    "print(x4)"
   ]
  },
  {
   "cell_type": "markdown",
   "metadata": {},
   "source": [
    "Make some monday improvements:  let's parameterize the \"delta\" in out slope function.  We started with delta x = .001\n",
    "\n",
    "Idea:  pick two x-coords that are really close together\n",
    "\n",
    "x = 2 , x = 2.001\n",
    "\n",
    "and use those find the slope.\n",
    "\n",
    "Let's give the user a chance to pick their own delta x:"
   ]
  },
  {
   "cell_type": "code",
   "execution_count": 13,
   "metadata": {},
   "outputs": [],
   "source": [
    "def f(x):\n",
    "    return x**2-9\n",
    "\n",
    "\n",
    "def slope(f, x, delta):\n",
    "    \"\"\" inputs:  function f, x-val x, delta = distance between x values\n",
    "    \n",
    "    return:  the slope of the line on that interval\n",
    "    \"\"\"\n",
    "    \n",
    "    # y2 = f(x+delta)\n",
    "    # y1 = f(x)\n",
    "    # x2 = x+delta\n",
    "    # x1 = x\n",
    "    \n",
    "    return (f(x+delta)-f(x))/((x+delta)-x)\n"
   ]
  },
  {
   "cell_type": "code",
   "execution_count": 7,
   "metadata": {},
   "outputs": [
    {
     "data": {
      "text/plain": [
       "2.0"
      ]
     },
     "execution_count": 7,
     "metadata": {},
     "output_type": "execute_result"
    }
   ],
   "source": [
    "slope(f, 1, .000000000001)"
   ]
  },
  {
   "cell_type": "markdown",
   "metadata": {},
   "source": [
    "Ok, we know how the iteration works.  We've seen it converge to a solution.  So, let's abstract this with a function that performs the method as many times as need to get a desired level of accuracy.\n",
    "\n"
   ]
  },
  {
   "cell_type": "code",
   "execution_count": 52,
   "metadata": {},
   "outputs": [],
   "source": [
    "import math\n",
    "\n",
    "def f(x):\n",
    "    return x**7+3*x*math.exp(2*x-4)/x**2-math.cos(x)\n",
    "\n",
    "def slope(f, x, delta):\n",
    "    \"\"\" inputs:  function f, x-val x, delta = distance between x values\n",
    "    \n",
    "    return:  the slope of the line on that interval\n",
    "    \"\"\"\n",
    "    \n",
    "    # y2 = f(x+delta)\n",
    "    # y1 = f(x)\n",
    "    # x2 = x+delta\n",
    "    # x1 = x\n",
    "    \n",
    "    return (f(x+delta)-f(x))/((x+delta)-x)\n",
    "\n",
    "\n",
    "def findZero(f, x0, deltaX, tolerance):\n",
    "    #initialize the values\n",
    "    xi = x0\n",
    "    yi = f(x0)\n",
    "    m = slope(f, x0, deltaX)\n",
    "    \n",
    "    # Start the table header\n",
    "    print(\"  x-value   |   y-value \")\n",
    "    print(\"------------|------------\")\n",
    "    \n",
    "    \n",
    "    #Main idea: loop through until y value is smaller than tolerance\n",
    "    while ( abs(yi) > tolerance  ):\n",
    "        \n",
    "        # first, find new x value using newton's method formula\n",
    "                # xi = old x - f(old x)/slope(old x)\n",
    "        xi = xi - f(xi)/slope(f, xi, deltaX)\n",
    "        \n",
    "        #new y val\n",
    "        yi = f(xi)\n",
    "        \n",
    "        #print results:\n",
    "        fs = \"{0:^12.5f}|{1:^12.5f}\"\n",
    "        print(fs.format(xi, yi))\n",
    "    \n",
    "        "
   ]
  },
  {
   "cell_type": "code",
   "execution_count": 54,
   "metadata": {},
   "outputs": [
    {
     "name": "stdout",
     "output_type": "stream",
     "text": [
      "  x-value   |   y-value \n",
      "------------|------------\n",
      "  8.95021   |4965673.12759\n",
      "  7.79198   |1785289.00584\n",
      "  6.70608   |615405.04741\n",
      "  5.75461   |209934.77837\n",
      "  4.93439   |71440.38731 \n",
      "  4.23004   |24295.05228 \n",
      "  3.62582   | 8260.74291 \n",
      "  3.10764   | 2808.89457 \n",
      "  2.66317   | 955.29372  \n",
      "  2.28179   | 325.01702  \n",
      "  1.95427   | 110.64033  \n",
      "  1.67271   |  37.67284  \n",
      "  1.43064   |  12.79828  \n",
      "  1.22383   |  4.29091   \n",
      "  1.05269   |  1.36588   \n",
      "  0.92675   |  0.36507   \n",
      "  0.86135   |  0.05758   \n",
      "  0.84665   |  0.00224   \n",
      "  0.84604   |  0.00000   \n",
      "  0.84603   |  0.00000   \n",
      "  0.84603   |  -0.00000  \n"
     ]
    }
   ],
   "source": [
    "findZero(f, 10, .00000001, .00000000000001)"
   ]
  },
  {
   "cell_type": "markdown",
   "metadata": {},
   "source": [
    "# Wednesday 9-30\n",
    "\n",
    "One more cool model!\n",
    "\n",
    "The model:  \"optimization\".\n",
    "\n",
    "Common to wonder what the \"best\" solution is:\n",
    "\n",
    "- cheapest\n",
    "- most profit\n",
    "- biggest volume\n",
    "- most efficient\n",
    "- etc etc\n",
    "\n",
    "We're cutting corners to make a box.  The corners are squares of side length x.\n",
    "\n",
    "Our rectangle is 120x200cm.\n",
    "\n",
    "The resulting box has dimensions:\n",
    "\n",
    "height = x\n",
    "length = 200 - 2x\n",
    "width = 120 - 2x\n",
    "\n",
    "Need to find the biggest volume:\n",
    "\n",
    "Volume = x*(200-2x)*(120-2x)\n",
    "\n"
   ]
  },
  {
   "cell_type": "code",
   "execution_count": 1,
   "metadata": {},
   "outputs": [],
   "source": [
    "def V(x):\n",
    "    return (x*(200-2*x)*(120-2*x))"
   ]
  },
  {
   "cell_type": "code",
   "execution_count": 2,
   "metadata": {},
   "outputs": [
    {
     "data": {
      "text/plain": [
       "23364"
      ]
     },
     "execution_count": 2,
     "metadata": {},
     "output_type": "execute_result"
    }
   ],
   "source": [
    "V(1)"
   ]
  },
  {
   "cell_type": "code",
   "execution_count": 3,
   "metadata": {},
   "outputs": [
    {
     "data": {
      "text/plain": [
       "180000"
      ]
     },
     "execution_count": 3,
     "metadata": {},
     "output_type": "execute_result"
    }
   ],
   "source": [
    "V(10)"
   ]
  },
  {
   "cell_type": "code",
   "execution_count": 7,
   "metadata": {},
   "outputs": [
    {
     "data": {
      "text/plain": [
       "256000"
      ]
     },
     "execution_count": 7,
     "metadata": {},
     "output_type": "execute_result"
    }
   ],
   "source": [
    "V(20)"
   ]
  },
  {
   "cell_type": "code",
   "execution_count": 8,
   "metadata": {},
   "outputs": [
    {
     "data": {
      "text/plain": [
       "100000"
      ]
     },
     "execution_count": 8,
     "metadata": {},
     "output_type": "execute_result"
    }
   ],
   "source": [
    "V(50)"
   ]
  },
  {
   "cell_type": "markdown",
   "metadata": {},
   "source": [
    "Idea:  x must be at least 0, can't be bigger than 60 (half of 120).\n",
    "\n",
    "So, let's test all values.\n",
    "\n",
    "Useful skill:  get a list of a range of values"
   ]
  },
  {
   "cell_type": "code",
   "execution_count": 5,
   "metadata": {},
   "outputs": [
    {
     "data": {
      "text/plain": [
       "[0,\n",
       " 1,\n",
       " 2,\n",
       " 3,\n",
       " 4,\n",
       " 5,\n",
       " 6,\n",
       " 7,\n",
       " 8,\n",
       " 9,\n",
       " 10,\n",
       " 11,\n",
       " 12,\n",
       " 13,\n",
       " 14,\n",
       " 15,\n",
       " 16,\n",
       " 17,\n",
       " 18,\n",
       " 19,\n",
       " 20,\n",
       " 21,\n",
       " 22,\n",
       " 23,\n",
       " 24,\n",
       " 25,\n",
       " 26,\n",
       " 27,\n",
       " 28,\n",
       " 29,\n",
       " 30,\n",
       " 31,\n",
       " 32,\n",
       " 33,\n",
       " 34,\n",
       " 35,\n",
       " 36,\n",
       " 37,\n",
       " 38,\n",
       " 39,\n",
       " 40,\n",
       " 41,\n",
       " 42,\n",
       " 43,\n",
       " 44,\n",
       " 45,\n",
       " 46,\n",
       " 47,\n",
       " 48,\n",
       " 49,\n",
       " 50,\n",
       " 51,\n",
       " 52,\n",
       " 53,\n",
       " 54,\n",
       " 55,\n",
       " 56,\n",
       " 57,\n",
       " 58,\n",
       " 59]"
      ]
     },
     "execution_count": 5,
     "metadata": {},
     "output_type": "execute_result"
    }
   ],
   "source": [
    "list(range(0,60))"
   ]
  },
  {
   "cell_type": "code",
   "execution_count": 16,
   "metadata": {},
   "outputs": [],
   "source": [
    "def optimize(f, a, b):\n",
    "    \"\"\"\n",
    "    f = function to be optimized (here volume)\n",
    "    a = lowest possible input\n",
    "    b = highest possible x-value\n",
    "    \"\"\"\n",
    "    ymax = 0\n",
    "    xmax = a\n",
    "    \n",
    "    xvals = list(range(a,b))   #this will be the list of x-vals that we try\n",
    "    \n",
    "    for x in xvals:\n",
    "        y = f(x)\n",
    "        \n",
    "        #Q:  is this this the largest y-value so far?  \n",
    "        #Q:  need to check, is y bigger than ymax?\n",
    "        \n",
    "        if y>ymax:\n",
    "            ymax = y\n",
    "            xmax = x\n",
    "        \n",
    "    return [xmax, ymax]\n",
    "        \n",
    "    \n",
    "    \n",
    "    "
   ]
  },
  {
   "cell_type": "code",
   "execution_count": 17,
   "metadata": {},
   "outputs": [
    {
     "data": {
      "text/plain": [
       "[24, 262656]"
      ]
     },
     "execution_count": 17,
     "metadata": {},
     "output_type": "execute_result"
    }
   ],
   "source": [
    "optimize(V, 0,60)"
   ]
  },
  {
   "cell_type": "markdown",
   "metadata": {},
   "source": [
    "# Friday 10-02\n",
    "\n",
    "## Monte Carlo Methods"
   ]
  },
  {
   "cell_type": "markdown",
   "metadata": {},
   "source": [
    "Monte Carlo methods are any algorithm that uses random input (from our random number generator) to solve a problem.\n",
    "\n",
    "\n",
    "In python, all of the random functions are contained in the module `random`.\n",
    "\n"
   ]
  },
  {
   "cell_type": "code",
   "execution_count": 16,
   "metadata": {},
   "outputs": [],
   "source": [
    "import random"
   ]
  },
  {
   "cell_type": "markdown",
   "metadata": {},
   "source": [
    "Two main ones:\n",
    "\n",
    "`random.random()` gives a random float between 0 and 1"
   ]
  },
  {
   "cell_type": "code",
   "execution_count": 17,
   "metadata": {},
   "outputs": [
    {
     "data": {
      "text/plain": [
       "0.7579544029403025"
      ]
     },
     "execution_count": 17,
     "metadata": {},
     "output_type": "execute_result"
    }
   ],
   "source": [
    "random.random()"
   ]
  },
  {
   "cell_type": "code",
   "execution_count": 18,
   "metadata": {},
   "outputs": [
    {
     "data": {
      "text/plain": [
       "0.420571580830845"
      ]
     },
     "execution_count": 18,
     "metadata": {},
     "output_type": "execute_result"
    }
   ],
   "source": [
    "random.random()"
   ]
  },
  {
   "cell_type": "code",
   "execution_count": 19,
   "metadata": {},
   "outputs": [
    {
     "data": {
      "text/plain": [
       "0.25891675029296335"
      ]
     },
     "execution_count": 19,
     "metadata": {},
     "output_type": "execute_result"
    }
   ],
   "source": [
    "random.random()"
   ]
  },
  {
   "cell_type": "code",
   "execution_count": 20,
   "metadata": {},
   "outputs": [
    {
     "data": {
      "text/plain": [
       "2.6457513110645907"
      ]
     },
     "execution_count": 20,
     "metadata": {},
     "output_type": "execute_result"
    }
   ],
   "source": [
    "import math\n",
    "\n",
    "math.sqrt(7)"
   ]
  },
  {
   "cell_type": "markdown",
   "metadata": {},
   "source": [
    "Q: can we get a random float (ie a real number, infinite decimal) between 0 and 20?\n",
    "\n",
    "A:  Yes, just scale by 20"
   ]
  },
  {
   "cell_type": "code",
   "execution_count": 22,
   "metadata": {},
   "outputs": [
    {
     "data": {
      "text/plain": [
       "18.098682749008287"
      ]
     },
     "execution_count": 22,
     "metadata": {},
     "output_type": "execute_result"
    }
   ],
   "source": [
    "random.random()*20+10"
   ]
  },
  {
   "cell_type": "markdown",
   "metadata": {},
   "source": [
    "Other importan one:  `randint()`: includes endpoints\n"
   ]
  },
  {
   "cell_type": "code",
   "execution_count": 26,
   "metadata": {},
   "outputs": [
    {
     "data": {
      "text/plain": [
       "9"
      ]
     },
     "execution_count": 26,
     "metadata": {},
     "output_type": "execute_result"
    }
   ],
   "source": [
    "random.randint(0,10)"
   ]
  },
  {
   "cell_type": "markdown",
   "metadata": {},
   "source": [
    "If you forget, use help:  ?function"
   ]
  },
  {
   "cell_type": "code",
   "execution_count": 27,
   "metadata": {},
   "outputs": [
    {
     "data": {
      "text/plain": [
       "\u001b[0;31mSignature:\u001b[0m \u001b[0mrandom\u001b[0m\u001b[0;34m.\u001b[0m\u001b[0mrandint\u001b[0m\u001b[0;34m(\u001b[0m\u001b[0ma\u001b[0m\u001b[0;34m,\u001b[0m \u001b[0mb\u001b[0m\u001b[0;34m)\u001b[0m\u001b[0;34m\u001b[0m\u001b[0;34m\u001b[0m\u001b[0m\n",
       "\u001b[0;31mDocstring:\u001b[0m\n",
       "Return random integer in range [a, b], including both end points.\n",
       "        \n",
       "\u001b[0;31mFile:\u001b[0m      ~/opt/anaconda3/lib/python3.8/random.py\n",
       "\u001b[0;31mType:\u001b[0m      method\n"
      ]
     },
     "metadata": {},
     "output_type": "display_data"
    }
   ],
   "source": [
    "?random.randint"
   ]
  },
  {
   "cell_type": "code",
   "execution_count": 28,
   "metadata": {},
   "outputs": [
    {
     "data": {
      "text/plain": [
       "\u001b[0;31mSignature:\u001b[0m \u001b[0mrandom\u001b[0m\u001b[0;34m.\u001b[0m\u001b[0mrandom\u001b[0m\u001b[0;34m(\u001b[0m\u001b[0;34m)\u001b[0m\u001b[0;34m\u001b[0m\u001b[0;34m\u001b[0m\u001b[0m\n",
       "\u001b[0;31mDocstring:\u001b[0m random() -> x in the interval [0, 1).\n",
       "\u001b[0;31mType:\u001b[0m      builtin_function_or_method\n"
      ]
     },
     "metadata": {},
     "output_type": "display_data"
    }
   ],
   "source": [
    "?random.random"
   ]
  },
  {
   "cell_type": "markdown",
   "metadata": {},
   "source": [
    "Note:  all \"random\" numbers are actually \"pseudorandom\" numbers.  Idea:  uses complicated math function to give a \"seemingly\" random number.  But actually, it's totally deterministic.\n",
    "\n",
    "Fun fact:  you can control this!  It's called the \"seed\".  \n",
    "\n",
    "The seed function determines where the psuedo-random numbers start:\n"
   ]
  },
  {
   "cell_type": "code",
   "execution_count": 35,
   "metadata": {},
   "outputs": [
    {
     "name": "stdout",
     "output_type": "stream",
     "text": [
      "0.8444218515250481\n",
      "0.7579544029403025\n",
      "0.420571580830845\n"
     ]
    }
   ],
   "source": [
    "random.seed(0)\n",
    "\n",
    "print(random.random())\n",
    "print(random.random())\n",
    "print(random.random())\n",
    "\n"
   ]
  },
  {
   "cell_type": "markdown",
   "metadata": {},
   "source": [
    "Monte carlo methods solve problems by trying lots and lots of random inputs.\n",
    "\n",
    "\n",
    "\n",
    "\n",
    "\n",
    "\n"
   ]
  },
  {
   "cell_type": "code",
   "execution_count": 46,
   "metadata": {},
   "outputs": [
    {
     "name": "stdout",
     "output_type": "stream",
     "text": [
      "0.500439\n"
     ]
    }
   ],
   "source": [
    "# get rand xs and ys.\n",
    "\n",
    "# n = 10000\n",
    "\n",
    "xs = []\n",
    "ys = []\n",
    "\n",
    "for i in range(1000000):\n",
    "    xs.append(random.random())\n",
    "    ys.append(random.random())\n",
    "    \n",
    "# for how many of these pairs is it true that x+y<1\n",
    "\n",
    "results = []\n",
    "\n",
    "for i in range(1000000):\n",
    "    if xs[i]+ys[i]<1:\n",
    "        results.append(1)\n",
    "    else:\n",
    "        results.append(0)\n",
    "        \n",
    "\n",
    "# what portion of them landed inside the triangle?\n",
    "\n",
    "# add up all the 1s, divide by the total length\n",
    "\n",
    "print(sum(results)/len(results))\n",
    "\n",
    "\n",
    "\n",
    "\n"
   ]
  },
  {
   "cell_type": "markdown",
   "metadata": {},
   "source": [
    "Woah, cool!  Used a bunch of random points to solve an actual math problem!\n",
    "\n",
    "Side note:  normally, when people say \"that's so random\", what they really mean is \"that's unexpected\".\n",
    "\n",
    "But actually, randomness is highly structured and predictable.  We saw here:  the area of the triangle was very, very close to the true results.\n",
    "\n",
    "Large numbers of random observations increase the accuracy of the method.\n",
    "\n",
    "The `random.random()` function uses a \"uniform\" distribution.  The `random.randint()` function uses a \"discrete uniform\" dist on the bound input (a,b).  \n",
    "\n",
    "A distribution that pops up frequently in the wild is the \"normal dist\"."
   ]
  },
  {
   "cell_type": "code",
   "execution_count": null,
   "metadata": {},
   "outputs": [],
   "source": []
  }
 ],
 "metadata": {
  "kernelspec": {
   "display_name": "Python 3",
   "language": "python",
   "name": "python3"
  },
  "language_info": {
   "codemirror_mode": {
    "name": "ipython",
    "version": 3
   },
   "file_extension": ".py",
   "mimetype": "text/x-python",
   "name": "python",
   "nbconvert_exporter": "python",
   "pygments_lexer": "ipython3",
   "version": "3.8.3"
  }
 },
 "nbformat": 4,
 "nbformat_minor": 4
}
