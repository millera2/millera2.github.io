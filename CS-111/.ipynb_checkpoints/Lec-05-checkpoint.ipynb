{
 "cells": [
  {
   "cell_type": "markdown",
   "metadata": {},
   "source": [
    "# Week 4\n",
    "\n",
    "## Monday, Sept 07\n",
    "\n",
    "*Texbook coverage: 3.1-3.2*"
   ]
  },
  {
   "cell_type": "markdown",
   "metadata": {},
   "source": [
    "### Abstract Data Types\n",
    "\n",
    "We've seen lots of ADTs so far (lists, strings, etc etc).  \n",
    "\n",
    "An abstract data type is a \"data structure\", ie, a code object that has two important qualities:\n",
    "\n",
    "1) Attributes.  Data associated with the specific ADT.\n",
    "2) Operations.  Specific functions that the ADT can perform.  \n",
    "\n",
    "In Python, our implementation of ADT is called a \"class\".  Classes in python define both the class variables (data) and methods.\n",
    "\n",
    "Example:  strings are ADTs.  One \"method\" that they can perform is to split.\n"
   ]
  },
  {
   "cell_type": "code",
   "execution_count": 7,
   "metadata": {},
   "outputs": [],
   "source": [
    "myExmapleString = \"This is what I made up for class\"\n"
   ]
  },
  {
   "cell_type": "markdown",
   "metadata": {},
   "source": [
    "Right now, I've created an object, \"myExampleString\".  It's an \"instantiation\" of the \"string\" class. Since it's a string, it can do all the things strings do.  Ex, split:"
   ]
  },
  {
   "cell_type": "code",
   "execution_count": 9,
   "metadata": {},
   "outputs": [
    {
     "data": {
      "text/plain": [
       "['This', 'is', 'what', 'I', 'made', 'up', 'for', 'class']"
      ]
     },
     "execution_count": 9,
     "metadata": {},
     "output_type": "execute_result"
    }
   ],
   "source": [
    "myExmapleString.split()"
   ]
  },
  {
   "cell_type": "markdown",
   "metadata": {},
   "source": [
    "R students:  careful!  the \".\" is special and only for class methods and attributes in Python. \n",
    "\n",
    "A \"method\" is a function specific to a class.\n",
    "\n",
    "**Classes vs Objects**\n",
    "\n",
    "A class is a \"blueprint\", i.e. a specification or explanation for what the object is and what it can do.\n",
    "\n",
    "An object is a specific \"instantiation\" (example, one of) the class.\n",
    "\n",
    "Ex:  The blueprints specify how to make a thing, but that's different from an example object you create.\n",
    "\n",
    "Code example:  \"string\" is a class, \"myExampleString\" was an object of that class.\n",
    "\n",
    "Biology example:  the \"class\" is the info in the DNA, and the object is you!\n",
    "\n",
    "The \"tutle\" class gives immediate, visual feedback about the ojects you create.\n",
    "\n",
    "\n",
    "\n",
    "\n"
   ]
  },
  {
   "cell_type": "markdown",
   "metadata": {},
   "source": [
    "## Wednesday Sept 09\n",
    "*Textbook: 3.1-3.2*\n",
    "\n",
    "### Functional Abstraction with Turtles\n",
    "\n",
    "We've seen basic functionality of the turtle library.  (You should be experimenting with this on your own!  Draw some cool pictures!\n",
    "\n",
    "In the beginning, functional abstraction will be an \"iterative\" process -- you'll write some neat code, and then realize you want to use it in other places. \n",
    "\n",
    "Let me remind you of two things:\n",
    "\n",
    "1. You're intelligent and curious, and you like to think about new things.\n",
    "2. You are mortal, and someday you'll die.  You don't want to spend the next 60-80 years re-solving boring old problems, re-coding boring old solutions.  Let's do something new!\n",
    "\n",
    "**Functional abstraction** is how we re-use our old solutions so that we can make something new.  For us Computer Scientists, we'll use it *as much as we possibly can*.\n",
    "\n",
    "Let's look at an example:  drawing a square.\n",
    "\n",
    "First, let's do it on the most basic terms:"
   ]
  },
  {
   "cell_type": "code",
   "execution_count": 1,
   "metadata": {},
   "outputs": [],
   "source": [
    "import turtle\n",
    "\n",
    "bob = turtle.Turtle()    #constructor\n",
    "\n",
    "for i in range(4):\n",
    "    bob.forward(100)\n",
    "    bob.left(90)\n",
    "    \n",
    "    \n",
    "    \n",
    "    \n",
    "    \n",
    "    \n",
    "    "
   ]
  },
  {
   "cell_type": "markdown",
   "metadata": {},
   "source": [
    "If we wanted more squares, we'd have to repeat the entire block of code again.\n",
    "\n",
    "How can we \"abstract\" this process, so that we can easily draw a square just by typing a single command?  Write a function!\n",
    "\n",
    "\n",
    "\n",
    "\n",
    "\n",
    "\n"
   ]
  },
  {
   "cell_type": "code",
   "execution_count": 1,
   "metadata": {},
   "outputs": [],
   "source": [
    "import turtle\n",
    "\n",
    "bob = turtle.Turtle()\n",
    "\n",
    "jill = turtle.Turtle()\n",
    "\n",
    "\n",
    "def drawSquare():\n",
    "    for i in range(4):\n",
    "        bob.forward(100)\n",
    "        bob.left(90)\n",
    "    \n",
    "drawSquare()"
   ]
  },
  {
   "cell_type": "markdown",
   "metadata": {},
   "source": [
    "Great, but this draws one specific square:  starts from the origin, side length 100.\n",
    "\n",
    "If we care about squares, we might want to draw others.  What are different properties that those squares might have?\n",
    "\n",
    "Idea:  what if we want different turtles to be able to draw squares?\n",
    "\n",
    "Answer:  pass an argument to the function.  I.e., the stuff in the parenthases.\n",
    "\n",
    "\n",
    "\n"
   ]
  },
  {
   "cell_type": "code",
   "execution_count": 1,
   "metadata": {},
   "outputs": [],
   "source": [
    "import turtle\n",
    "\n",
    "bob = turtle.Turtle()\n",
    "\n",
    "jill = turtle.Turtle()\n",
    "\n",
    "\n",
    "def drawSquare(myTurtle):      # myTurtle is the turle object passed to the function\n",
    "    for i in range(4):\n",
    "        myTurtle.forward(100)\n",
    "        myTurtle.left(90)\n",
    "        \n",
    "drawSquare(jill)"
   ]
  },
  {
   "cell_type": "markdown",
   "metadata": {},
   "source": [
    "Ok, what if we want to specify side length?\n",
    "\n",
    "Note:  might want a default side length.  Say, default = 100"
   ]
  },
  {
   "cell_type": "code",
   "execution_count": 1,
   "metadata": {},
   "outputs": [],
   "source": [
    "import turtle\n",
    "\n",
    "bob = turtle.Turtle()\n",
    "\n",
    "jill = turtle.Turtle()\n",
    "\n",
    "\n",
    "def drawSquare(myTurtle, sideLength=100):      # myTurtle is the turle object passed to the function\n",
    "    for i in range(4):\n",
    "        myTurtle.forward(sideLength)\n",
    "        myTurtle.left(90)\n",
    "        \n",
    "        \n",
    "        \n",
    "drawSquare(jill)\n",
    "\n",
    "drawSquare(bob, 200)"
   ]
  },
  {
   "cell_type": "markdown",
   "metadata": {},
   "source": [
    "Idea: don't always want to start from the same position.  Supply arguments for different starting points.\n",
    "\n"
   ]
  },
  {
   "cell_type": "code",
   "execution_count": 2,
   "metadata": {},
   "outputs": [],
   "source": [
    "import turtle\n",
    "\n",
    "bob = turtle.Turtle()\n",
    "\n",
    "jill = turtle.Turtle()\n",
    "\n",
    "\n",
    "def drawSquare(myTurtle, x, y, sideLength=100):      # myTurtle is the turle object passed to the function\n",
    "    myTurtle.goto(x,y)\n",
    "    for i in range(4):\n",
    "        myTurtle.forward(sideLength)\n",
    "        myTurtle.left(90)\n",
    "        \n",
    "        \n",
    "        \n",
    "drawSquare(jill, -50, 100)\n",
    "\n",
    "drawSquare(bob, 70, -70, 200)\n",
    "\n",
    "drawSquare(jill, 100, 200, 40)\n",
    "\n",
    "drawSquare(bob,  -50, -100, 300)"
   ]
  },
  {
   "cell_type": "markdown",
   "metadata": {},
   "source": [
    "### Programming in Style\n",
    "*Sec 3.4 and 3.5*"
   ]
  },
  {
   "cell_type": "markdown",
   "metadata": {},
   "source": [
    "- Docstrings\n",
    "\n",
    "\n",
    "Text description of a program or function.  Always use them!\n",
    "\n",
    "Use three \"\"\"\n",
    "\n",
    "Example:\n",
    "\n",
    "\n",
    "\n",
    "\n",
    "\n",
    "\n"
   ]
  },
  {
   "cell_type": "code",
   "execution_count": 1,
   "metadata": {},
   "outputs": [],
   "source": [
    "def helloWorld():\n",
    "    \"\"\"Example program that prints \"Hello world!\"\n",
    "    Doesn't really do much.  Just an example.\n",
    "    \"\"\"\n",
    "    print(\"Hello world!\")"
   ]
  },
  {
   "cell_type": "code",
   "execution_count": 2,
   "metadata": {},
   "outputs": [
    {
     "name": "stdout",
     "output_type": "stream",
     "text": [
      "Help on function helloWorld in module __main__:\n",
      "\n",
      "helloWorld()\n",
      "    Example program that prints \"Hello world!\"\n",
      "    Doesn't really do much.  Just an example.\n",
      "\n"
     ]
    }
   ],
   "source": [
    "help(helloWorld)"
   ]
  },
  {
   "cell_type": "code",
   "execution_count": 4,
   "metadata": {},
   "outputs": [],
   "source": [
    "import turtle_squares\n",
    "\n"
   ]
  },
  {
   "cell_type": "code",
   "execution_count": 5,
   "metadata": {},
   "outputs": [
    {
     "name": "stdout",
     "output_type": "stream",
     "text": [
      "Help on module turtle_squares:\n",
      "\n",
      "NAME\n",
      "    turtle_squares - Draws squares with turtle\n",
      "\n",
      "FUNCTIONS\n",
      "    drawSquare(myTurtle, x, y, sideLength=100)\n",
      "    \n",
      "    main()\n",
      "\n",
      "FILE\n",
      "    /Users/millera2/millera2.github.io/CS-111/turtle_squares.py\n",
      "\n",
      "\n"
     ]
    }
   ],
   "source": [
    "help(turtle_squares)"
   ]
  },
  {
   "cell_type": "markdown",
   "metadata": {},
   "source": [
    "- Comments\n",
    "\n",
    "Anything after the \"#\" is a \"comment\", i.e., it's ignored by the interpreter.  Comments keep code legible for other humans (including you!)"
   ]
  },
  {
   "cell_type": "markdown",
   "metadata": {},
   "source": [
    "- Magic Numbers\n",
    "\n",
    "Undefined constants.\n",
    "\n",
    "It's always best practice and improve readability to assign names to your constants.\n",
    "\n",
    "\n",
    "\n",
    "\n"
   ]
  },
  {
   "cell_type": "code",
   "execution_count": null,
   "metadata": {},
   "outputs": [],
   "source": []
  },
  {
   "cell_type": "code",
   "execution_count": null,
   "metadata": {},
   "outputs": [],
   "source": []
  },
  {
   "cell_type": "markdown",
   "metadata": {},
   "source": [
    "### main()"
   ]
  },
  {
   "cell_type": "markdown",
   "metadata": {},
   "source": [
    "In most modern progrmaming languages, the control logic for the progam is all contained in the `main()` function.\n",
    "\n",
    "Ie., the things that the program actually -does- are here.\n",
    "\n",
    "Any time you create new objects or execute functions, that should happen in the main()."
   ]
  },
  {
   "cell_type": "code",
   "execution_count": null,
   "metadata": {},
   "outputs": [],
   "source": []
  },
  {
   "cell_type": "code",
   "execution_count": null,
   "metadata": {},
   "outputs": [],
   "source": []
  },
  {
   "cell_type": "markdown",
   "metadata": {},
   "source": [
    "# Monday Sept 14"
   ]
  },
  {
   "cell_type": "markdown",
   "metadata": {},
   "source": [
    "### Scope and Namespaces\n",
    "Texbook: *Sec 3.6*\n"
   ]
  },
  {
   "cell_type": "markdown",
   "metadata": {},
   "source": [
    "Question:  what are all the variables/objects/functions available to you at any particular time?"
   ]
  },
  {
   "cell_type": "code",
   "execution_count": 8,
   "metadata": {},
   "outputs": [
    {
     "name": "stdout",
     "output_type": "stream",
     "text": [
      "and party on dude!\n"
     ]
    }
   ],
   "source": [
    "def billAndTed():\n",
    "    bill = \"Be excellent to eachother, \"\n",
    "    ted = \"and party on dude!\"\n",
    "    print(ted)\n",
    "    \n",
    "billAndTed(bill)\n",
    "\n",
    "print(bill)"
   ]
  },
  {
   "cell_type": "code",
   "execution_count": 5,
   "metadata": {},
   "outputs": [
    {
     "ename": "NameError",
     "evalue": "name 'bill' is not defined",
     "output_type": "error",
     "traceback": [
      "\u001b[0;31m---------------------------------------------------------------------------\u001b[0m",
      "\u001b[0;31mNameError\u001b[0m                                 Traceback (most recent call last)",
      "\u001b[0;32m<ipython-input-5-87bfd239f1b0>\u001b[0m in \u001b[0;36m<module>\u001b[0;34m\u001b[0m\n\u001b[0;32m----> 1\u001b[0;31m \u001b[0mprint\u001b[0m\u001b[0;34m(\u001b[0m\u001b[0mbill\u001b[0m\u001b[0;34m)\u001b[0m\u001b[0;34m\u001b[0m\u001b[0;34m\u001b[0m\u001b[0m\n\u001b[0m",
      "\u001b[0;31mNameError\u001b[0m: name 'bill' is not defined"
     ]
    }
   ],
   "source": [
    "print(bill)"
   ]
  },
  {
   "cell_type": "markdown",
   "metadata": {},
   "source": [
    "Question:  why not defined?\n",
    "\n",
    "Answer:  because \"bill\" and \"ted\" are in the scope of the function they were defined in.\n",
    "\n",
    "Scopes get \"nested\".  I.e., every time a new function or module is imported/created, they come with their own embedded namespace.\n",
    "\n",
    "The term \"namespace\" refers to the structure of ojects, their variable names, and how they're accessible in the code.\n",
    "\n",
    "Good picture in book: p 109\n",
    "\n",
    "Example:  math module\n",
    "\n"
   ]
  },
  {
   "cell_type": "code",
   "execution_count": 9,
   "metadata": {},
   "outputs": [
    {
     "data": {
      "text/plain": [
       "2.6457513110645907"
      ]
     },
     "execution_count": 9,
     "metadata": {},
     "output_type": "execute_result"
    }
   ],
   "source": [
    "import math    ## inlcludes sqrt() function\n",
    "\n",
    "math.sqrt(7)"
   ]
  },
  {
   "cell_type": "markdown",
   "metadata": {},
   "source": [
    "Note:  you can choose a different local namespace for a module.  Example"
   ]
  },
  {
   "cell_type": "code",
   "execution_count": 10,
   "metadata": {},
   "outputs": [
    {
     "data": {
      "text/plain": [
       "2.6457513110645907"
      ]
     },
     "execution_count": 10,
     "metadata": {},
     "output_type": "execute_result"
    }
   ],
   "source": [
    "import math as m\n",
    "\n",
    "m.sqrt(7)"
   ]
  },
  {
   "cell_type": "markdown",
   "metadata": {},
   "source": [
    "Example:  importing directly into local namespace.\n",
    "\n"
   ]
  },
  {
   "cell_type": "code",
   "execution_count": 11,
   "metadata": {},
   "outputs": [
    {
     "data": {
      "text/plain": [
       "2.6457513110645907"
      ]
     },
     "execution_count": 11,
     "metadata": {},
     "output_type": "execute_result"
    }
   ],
   "source": [
    "from math import *\n",
    "\n",
    "sqrt(7)"
   ]
  },
  {
   "cell_type": "markdown",
   "metadata": {},
   "source": [
    "Warning:  namespace conflicts and \"masking\".\n",
    "\n",
    "Example:  write a module to find the sum of a list of numbers.\n",
    "\n"
   ]
  },
  {
   "cell_type": "code",
   "execution_count": null,
   "metadata": {},
   "outputs": [],
   "source": [
    "import myScript"
   ]
  },
  {
   "cell_type": "code",
   "execution_count": 5,
   "metadata": {},
   "outputs": [
    {
     "name": "stdout",
     "output_type": "stream",
     "text": [
      "Help on module myScript:\n",
      "\n",
      "NAME\n",
      "    myScript - example of importing modules\n",
      "\n",
      "FUNCTIONS\n",
      "    sumNumbers(theList)\n",
      "        sums up the numbers\n",
      "        input: list of numbers\n",
      "        output: the sum\n",
      "\n",
      "FILE\n",
      "    /Users/millera2/millera2.github.io/CS-111/myScript.py\n",
      "\n",
      "\n"
     ]
    }
   ],
   "source": [
    "help(myScript)\n"
   ]
  },
  {
   "cell_type": "code",
   "execution_count": 6,
   "metadata": {},
   "outputs": [
    {
     "data": {
      "text/plain": [
       "15"
      ]
     },
     "execution_count": 6,
     "metadata": {},
     "output_type": "execute_result"
    }
   ],
   "source": [
    "myScript.sumNumbers([1,2,3,4,5])"
   ]
  },
  {
   "cell_type": "code",
   "execution_count": 2,
   "metadata": {},
   "outputs": [
    {
     "name": "stdout",
     "output_type": "stream",
     "text": [
      "psych!!!\n"
     ]
    }
   ],
   "source": [
    "from math import *\n",
    "from myScript import *\n",
    "\n",
    "def sqrt(a):\n",
    "    print(\"psych!!!\")\n",
    "\n",
    "sqrt(7)"
   ]
  },
  {
   "cell_type": "markdown",
   "metadata": {},
   "source": [
    "This is an example of \"masking\".   Be careful!"
   ]
  },
  {
   "cell_type": "markdown",
   "metadata": {},
   "source": [
    "### Return vs Print"
   ]
  },
  {
   "cell_type": "markdown",
   "metadata": {},
   "source": [
    "Be careful, printing doesn't assign a value to output!  It only prints the update to the console!\n",
    "\n",
    "If you want to use the result in another function, be sure to **return**, not just print.  (You can do both!)\n"
   ]
  },
  {
   "cell_type": "code",
   "execution_count": 1,
   "metadata": {},
   "outputs": [
    {
     "data": {
      "text/plain": [
       "2.0"
      ]
     },
     "execution_count": 1,
     "metadata": {},
     "output_type": "execute_result"
    }
   ],
   "source": [
    "from myScript import *\n",
    "\n",
    "avgNumbers([1,2,3])"
   ]
  },
  {
   "cell_type": "code",
   "execution_count": 3,
   "metadata": {},
   "outputs": [
    {
     "ename": "NameError",
     "evalue": "name 'sqrt' is not defined",
     "output_type": "error",
     "traceback": [
      "\u001b[0;31m---------------------------------------------------------------------------\u001b[0m",
      "\u001b[0;31mNameError\u001b[0m                                 Traceback (most recent call last)",
      "\u001b[0;32m<ipython-input-3-565e36d12a01>\u001b[0m in \u001b[0;36m<module>\u001b[0;34m\u001b[0m\n\u001b[0;32m----> 1\u001b[0;31m \u001b[0msqrt\u001b[0m\u001b[0;34m(\u001b[0m\u001b[0;36m7\u001b[0m\u001b[0;34m)\u001b[0m\u001b[0;34m\u001b[0m\u001b[0;34m\u001b[0m\u001b[0m\n\u001b[0m",
      "\u001b[0;31mNameError\u001b[0m: name 'sqrt' is not defined"
     ]
    }
   ],
   "source": []
  },
  {
   "cell_type": "markdown",
   "metadata": {},
   "source": []
  },
  {
   "cell_type": "code",
   "execution_count": null,
   "metadata": {},
   "outputs": [],
   "source": []
  },
  {
   "cell_type": "markdown",
   "metadata": {},
   "source": [
    "### Ch 4:  Modelling and Simulation\n",
    "\n",
    "\n",
    "Consider a lake that imposes limits on the number of fish caught.  Each year, a maximum of 1500 fish can be taken from the lake.\n",
    "\n",
    "Suppose it's a popular lake, and this limit is hit every year.\n",
    "\n",
    "Question:  will be enough fish?  Will eventually fish all the fish until there are none left?\n",
    "\n",
    "Answer:  Make population model.\n",
    "\n",
    "Assumptions:  current population of fish is 10,000.  The population grows by 8% every year.\n",
    "\n",
    "How long until there aren't any fish left?\n",
    "\n",
    "On year 1:\n",
    "\n",
    "p1 = 10000*1.08 - 1500\n",
    "\n",
    "p2 = p1*1.08 - 1500\n",
    "\n",
    "p3 = p2*1.08 - 1500\n",
    "\n",
    "Write a function to model this:\n",
    "\n",
    "\n"
   ]
  },
  {
   "cell_type": "code",
   "execution_count": 5,
   "metadata": {},
   "outputs": [
    {
     "name": "stdout",
     "output_type": "stream",
     "text": [
      "10000\n",
      "0 9950.0\n",
      "1 9896.0\n",
      "2 9837.68\n",
      "3 9774.6944\n",
      "4 9706.669952\n",
      "5 9633.203548160001\n",
      "6 9553.859832012802\n",
      "7 9468.168618573827\n",
      "8 9375.622108059733\n",
      "9 9275.671876704513\n",
      "10 9167.725626840875\n",
      "11 9051.143676988146\n",
      "12 8925.235171147198\n",
      "13 8789.253984838975\n",
      "14 8642.394303626093\n",
      "15 8483.785847916182\n",
      "16 8312.488715749478\n",
      "17 8127.487813009437\n",
      "18 7927.686838050193\n",
      "19 7711.901785094209\n",
      "20 7478.853927901746\n",
      "21 7227.162242133886\n",
      "22 6955.335221504598\n",
      "23 6661.762039224966\n",
      "24 6344.703002362964\n",
      "25 6002.279242552002\n",
      "26 5632.461581956162\n",
      "27 5233.058508512656\n",
      "28 4801.703189193669\n",
      "29 4335.839444329163\n",
      "30 3832.706599875496\n",
      "31 3289.3231278655358\n",
      "32 2702.468978094779\n",
      "33 2068.6664963423614\n",
      "34 1384.1598160497506\n",
      "35 644.8926013337307\n",
      "36 -153.5159905595708\n"
     ]
    }
   ],
   "source": [
    "population = 10000   #starting population\n",
    "rate = .08\n",
    "totalCatch = 860\n",
    "\n",
    "#Look at population for next 10 years\n",
    "\n",
    "print(population)\n",
    "\n",
    "year = 0\n",
    "while (population >0 and year < 100):\n",
    "    population = population*(1+rate)-totalCatch\n",
    "    print(year, population)\n",
    "    year = year+1\n"
   ]
  },
  {
   "cell_type": "code",
   "execution_count": null,
   "metadata": {},
   "outputs": [],
   "source": []
  }
 ],
 "metadata": {
  "kernelspec": {
   "display_name": "Python 3",
   "language": "python",
   "name": "python3"
  },
  "language_info": {
   "codemirror_mode": {
    "name": "ipython",
    "version": 3
   },
   "file_extension": ".py",
   "mimetype": "text/x-python",
   "name": "python",
   "nbconvert_exporter": "python",
   "pygments_lexer": "ipython3",
   "version": "3.8.3"
  }
 },
 "nbformat": 4,
 "nbformat_minor": 4
}
