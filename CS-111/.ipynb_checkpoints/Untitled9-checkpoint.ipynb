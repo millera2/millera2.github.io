{
 "cells": [
  {
   "cell_type": "code",
   "execution_count": null,
   "metadata": {},
   "outputs": [],
   "source": [
    "\n",
    "import turtle\n",
    "\n",
    "george = turtle.Turtle()\n",
    "\n",
    "\n",
    "george.pencolor(\"red\")\n",
    "george.fillcolor(\"yellow\")\n",
    "\n",
    "screen = george.getscreen()\n",
    "\n",
    "\n",
    "\n",
    "def newBloom(x,y):\n",
    "    george.penup()\n",
    "    george.goto(x,y)\n",
    "    george.pendown()\n",
    "    george.setheading(0)\n",
    "    george.begin_fill()\n",
    "    for segment in range(8):\n",
    "        george.forward(100)\n",
    "        george.left(135)\n",
    "    george.end_fill()\n",
    "\n",
    "screen.onclick(newBloom)\n",
    "\n",
    "\n",
    "\n",
    "turtle.mainloop()\n"
   ]
  },
  {
   "cell_type": "code",
   "execution_count": null,
   "metadata": {},
   "outputs": [],
   "source": []
  },
  {
   "cell_type": "code",
   "execution_count": null,
   "metadata": {},
   "outputs": [],
   "source": []
  }
 ],
 "metadata": {
  "kernelspec": {
   "display_name": "Python 3",
   "language": "python",
   "name": "python3"
  },
  "language_info": {
   "codemirror_mode": {
    "name": "ipython",
    "version": 3
   },
   "file_extension": ".py",
   "mimetype": "text/x-python",
   "name": "python",
   "nbconvert_exporter": "python",
   "pygments_lexer": "ipython3",
   "version": "3.8.3"
  }
 },
 "nbformat": 4,
 "nbformat_minor": 4
}
