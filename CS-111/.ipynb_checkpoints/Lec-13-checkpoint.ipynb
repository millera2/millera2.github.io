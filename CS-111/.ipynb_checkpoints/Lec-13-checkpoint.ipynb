{
 "cells": [
  {
   "cell_type": "markdown",
   "metadata": {},
   "source": [
    "# Monday Oct 9"
   ]
  },
  {
   "cell_type": "markdown",
   "metadata": {},
   "source": [
    "Recursive practice:\n",
    "    - Recursive Sum\n",
    "    - Recursive Min\n",
    "    - Recursive Reverse\n",
    "    - Recursive Linear Search\n",
    "    - Recursive Selection Sort\n",
    "    - Recursive Power\n",
    "    "
   ]
  },
  {
   "cell_type": "markdown",
   "metadata": {},
   "source": [
    "## Example:  Recursive power\n",
    "\n",
    "Compute base^exponent\n",
    "\n",
    "3^6 = 3*3*3*3*3*3\n",
    "\n",
    "3^6 = 3*3^5\n",
    "    = 3*3*3^4\n",
    "\n",
    "In exponentiation, what's the base case?\n",
    "\n",
    "Try this base case:  if exponent = 2, then return base*base\n",
    "\n",
    "\n"
   ]
  },
  {
   "cell_type": "code",
   "execution_count": 5,
   "metadata": {},
   "outputs": [],
   "source": [
    "def power(base, exp):\n",
    "    \"\"\" input:  exp is some integer (>=2), base is another integer\n",
    "    \"\"\"\n",
    "    if exp == 2:\n",
    "        return base*base\n",
    "    else:\n",
    "        return( base*power(base, exp-1 ))\n",
    "        "
   ]
  },
  {
   "cell_type": "code",
   "execution_count": 6,
   "metadata": {},
   "outputs": [
    {
     "data": {
      "text/plain": [
       "81"
      ]
     },
     "execution_count": 6,
     "metadata": {},
     "output_type": "execute_result"
    }
   ],
   "source": [
    "3*3*3*3"
   ]
  },
  {
   "cell_type": "code",
   "execution_count": 7,
   "metadata": {},
   "outputs": [
    {
     "data": {
      "text/plain": [
       "81"
      ]
     },
     "execution_count": 7,
     "metadata": {},
     "output_type": "execute_result"
    }
   ],
   "source": [
    "power(3, 4)"
   ]
  },
  {
   "cell_type": "code",
   "execution_count": 10,
   "metadata": {},
   "outputs": [],
   "source": [
    "def power2(base, exp):\n",
    "    \"\"\" input:  exp is some integer (>=1), base is another integer\n",
    "    \"\"\"\n",
    "    if exp == 1:\n",
    "        return base\n",
    "    else:\n",
    "        return( base*power(base, exp-1 ))"
   ]
  },
  {
   "cell_type": "code",
   "execution_count": 11,
   "metadata": {},
   "outputs": [
    {
     "data": {
      "text/plain": [
       "81"
      ]
     },
     "execution_count": 11,
     "metadata": {},
     "output_type": "execute_result"
    }
   ],
   "source": [
    "power2(3,4)"
   ]
  },
  {
   "cell_type": "code",
   "execution_count": 12,
   "metadata": {},
   "outputs": [],
   "source": [
    "def power3(base, exp):\n",
    "    \"\"\" input:  exp is some integer (>=1), base is another integer\n",
    "    \"\"\"\n",
    "    if exp == 0:\n",
    "        return 1\n",
    "    else:\n",
    "        return( base*power(base, exp-1 ))"
   ]
  },
  {
   "cell_type": "code",
   "execution_count": 13,
   "metadata": {},
   "outputs": [
    {
     "data": {
      "text/plain": [
       "81"
      ]
     },
     "execution_count": 13,
     "metadata": {},
     "output_type": "execute_result"
    }
   ],
   "source": [
    "power3(3,4)"
   ]
  },
  {
   "cell_type": "markdown",
   "metadata": {},
   "source": [
    "## Example: Recursive Reverse\n",
    "\n",
    "Input:  a string  (ex: \"this\")\n",
    "Output: the string in reverse order. (ex: \"siht\")\n",
    "\n",
    "Base case?\n",
    "Recursive step?\n",
    "\n",
    "\n",
    "\n",
    "\n",
    "Greg's Idea:"
   ]
  },
  {
   "cell_type": "code",
   "execution_count": 14,
   "metadata": {},
   "outputs": [],
   "source": [
    "def reverse(phrase):\n",
    "    if len(phrase) == 0:\n",
    "        return \"\"\n",
    "    else:\n",
    "               #last element + reverse others\n",
    "        return phrase[-1] + reverse(phrase[0:-1])"
   ]
  },
  {
   "cell_type": "code",
   "execution_count": 15,
   "metadata": {},
   "outputs": [
    {
     "data": {
      "text/plain": [
       "'tset'"
      ]
     },
     "execution_count": 15,
     "metadata": {},
     "output_type": "execute_result"
    }
   ],
   "source": [
    "reverse(\"test\")"
   ]
  },
  {
   "cell_type": "markdown",
   "metadata": {},
   "source": [
    "## Recursive Min"
   ]
  },
  {
   "cell_type": "markdown",
   "metadata": {},
   "source": [
    "Write a function that finds the minimum element of a list of numbers, WITHOUT using the built-in min function.\n",
    "\n",
    "\n",
    "Input:  list of numbers  (Ex: [3, 2, 5, 8])\n",
    "Output: INDEX of the minimum value (Ex:  return 1)\n",
    "\n",
    "\n",
    "Assume that the input is at least length 2.\n",
    "\n",
    "\n",
    "Base case:  need to compare two numbers.  \n",
    "\n",
    "If there are only two numbers, then the min is the smaller one. \n",
    "  - If a <= b, then a is the minimum\n",
    "  - else, b is the minimum\n",
    "\n",
    "\n"
   ]
  },
  {
   "cell_type": "code",
   "execution_count": null,
   "metadata": {},
   "outputs": [],
   "source": [
    "def minimum(numbers):\n",
    "    if len(numbers==2):\n",
    "        if numbers[0]<=numbers[1]:\n",
    "            return(0)     #first is smaller, return it\n",
    "        else:\n",
    "            return(1)     #second is smaller, return it\n",
    "    \n",
    "    "
   ]
  },
  {
   "cell_type": "code",
   "execution_count": 33,
   "metadata": {},
   "outputs": [],
   "source": [
    "def mimm(numbers):\n",
    "    \n",
    "    if len(numbers==0):\n",
    "        return(0)\n",
    "    \n",
    "    elif len(numbers==1):\n",
    "        return(1)\n",
    "    elif len(numbers==2):\n",
    "        if numbers[0]<=numbers[1]:\n",
    "            return(0)     #first is smaller, return it\n",
    "        else:\n",
    "            return(1)     #second is smaller, return it\n",
    "    else:\n",
    "        return(    mimm( numbers[1:-1] ) + 1   )\n",
    "    "
   ]
  },
  {
   "cell_type": "code",
   "execution_count": 31,
   "metadata": {},
   "outputs": [],
   "source": [
    "myNumbers = [2, 3, 4, 5, 1, 8, 9, 4]"
   ]
  },
  {
   "cell_type": "code",
   "execution_count": 32,
   "metadata": {},
   "outputs": [
    {
     "data": {
      "text/plain": [
       "8"
      ]
     },
     "execution_count": 32,
     "metadata": {},
     "output_type": "execute_result"
    }
   ],
   "source": [
    "len(myNumbers)"
   ]
  },
  {
   "cell_type": "code",
   "execution_count": null,
   "metadata": {},
   "outputs": [],
   "source": []
  },
  {
   "cell_type": "markdown",
   "metadata": {},
   "source": [
    "# Wed Nov 9"
   ]
  },
  {
   "cell_type": "markdown",
   "metadata": {},
   "source": [
    "Let's look at a couple of cool recurions examples.\n",
    "\n",
    "First:  Recursive sort.  This time:  \"selection sort\".  Ie, we'll sort by first finding the smallest element, swapping it to the beginning of the list, and then recurively sorting the next elements of the list.\n",
    "\n",
    "[4 1 5 2]\n",
    "\n",
    "First:\n",
    "\n",
    "1 is min, sort [1 4 5 2]\n",
    "\n",
    "2 is min, sort [4 5]\n",
    "\n",
    "Base case:  if len(numbers) == 1, then we're done.  Just return the numbers.\n",
    "\n",
    "\n",
    "Otherwise:\n",
    "\n",
    " - find the minimum value (here, use built-in function)\n",
    " - swap the first element and the minimum element\n",
    " - return the min element joined with the sorted output of everything else\n",
    "\n"
   ]
  },
  {
   "cell_type": "code",
   "execution_count": 1,
   "metadata": {},
   "outputs": [],
   "source": [
    "def recSort(numbers):\n",
    "    \"\"\"\n",
    "    input:  \"numbers\" is a list of numbers\n",
    "    \"\"\"\n",
    "    \n",
    "    if len(numbers)==1:\n",
    "        return(numbers)\n",
    "    \n",
    "    minValue =  min(numbers)              # what's the smallest number?\n",
    "    minIndex =  numbers.index(minValue)   # where is it?\n",
    "    \n",
    "    numbers[minIndex] = numbers[0]        # move the first element to the location of the smallest\n",
    "    numbers[0] = minValue                 # move the minValue to the beginning\n",
    "    \n",
    "    return( [minValue] + recSort(  numbers[1:])  )\n",
    "    \n",
    "    \n",
    "    "
   ]
  },
  {
   "cell_type": "code",
   "execution_count": 3,
   "metadata": {},
   "outputs": [
    {
     "data": {
      "text/plain": [
       "[-1, 1, 2, 4, 5, 5, 8, 13]"
      ]
     },
     "execution_count": 3,
     "metadata": {},
     "output_type": "execute_result"
    }
   ],
   "source": [
    "recSort( [4, 1, 5, 2, 8, 13, -1, 5] )"
   ]
  },
  {
   "cell_type": "code",
   "execution_count": 37,
   "metadata": {},
   "outputs": [
    {
     "data": {
      "text/plain": [
       "[1, 2, 3, 4, 5, 6]"
      ]
     },
     "execution_count": 37,
     "metadata": {},
     "output_type": "execute_result"
    }
   ],
   "source": [
    "l1+l2"
   ]
  },
  {
   "cell_type": "markdown",
   "metadata": {},
   "source": [
    "# Guessing Passwords"
   ]
  },
  {
   "cell_type": "markdown",
   "metadata": {},
   "source": [
    "Suppose we want to guess a password by trying all possible combos of characters.\n",
    "\n",
    "Pretend:  password has length 2, and the only possible characters are A,B,C:\n",
    "\n",
    "Length 1:  \n",
    "\n",
    "A\n",
    "B\n",
    "C\n",
    "\n",
    "Length 2:\n",
    "\n",
    "AA\n",
    "AB\n",
    "AC\n",
    "BA\n",
    "BB\n",
    "BC\n",
    "CA\n",
    "CB\n",
    "CC\n",
    "\n",
    "Length 3:\n",
    "\n",
    "AAA\n",
    "AAB\n",
    "AAC\n",
    "ABA\n",
    "ABB\n",
    "...\n",
    "\n",
    "\n",
    "\n",
    "\n",
    "Base case:  if length of password = 0, there's only one possiblitiy:  \"\"\n",
    "\n",
    "Recursive step:\n",
    "\n",
    "- Find all possible shorter passwords of length-1\n",
    "- For each one, append each possible character\n",
    "\n",
    "for character in characters:\n",
    "   for password in shorterPasswords:\n",
    "      (glue them together)\n",
    "\n",
    "\n"
   ]
  },
  {
   "cell_type": "code",
   "execution_count": 7,
   "metadata": {},
   "outputs": [],
   "source": [
    "def passwords(length, characters):\n",
    "    \"\"\"\n",
    "    Inputs:\n",
    "        length = length of password\n",
    "        characters = string continaing all possible symbols to be used\n",
    "    Output:\n",
    "        passwordList = list of all possible passwords\n",
    "    \"\"\"\n",
    "    \n",
    "    if length==0:          #BASE CASE!!\n",
    "        return [\"\"]\n",
    "    \n",
    "    shorterPasswords = passwords(length-1, characters)  # RECURSIVE STEP!\n",
    "    \n",
    "    passwordList = []   #accumulator for passwords\n",
    "    \n",
    "    for character in characters:\n",
    "        for password in shorterPasswords:\n",
    "            passwordList.append(  password+character  )\n",
    "            \n",
    "    return passwordList\n",
    "    \n",
    "    \n",
    "    "
   ]
  },
  {
   "cell_type": "code",
   "execution_count": 11,
   "metadata": {},
   "outputs": [
    {
     "data": {
      "text/plain": [
       "456976"
      ]
     },
     "execution_count": 11,
     "metadata": {},
     "output_type": "execute_result"
    }
   ],
   "source": [
    "len(passwords(4, \"ABCDEFGHIJKLMNOPQRSTUVWXYZ\"))"
   ]
  },
  {
   "cell_type": "markdown",
   "metadata": {},
   "source": [
    "# Ch 11 - Organizing Data\n",
    "\n",
    "Searching and sorting!"
   ]
  },
  {
   "cell_type": "markdown",
   "metadata": {},
   "source": [
    "To develop \"good\" sorting/searching algorithms, we NEED to think about algorithm complexity!  How many elementary steps must be executed for a particular input?\n",
    "\n",
    "\n",
    "Start with search.  We've already written basic searching algorithms.  It's called \"linear search\".\n",
    "\n",
    "\n",
    "Look at each element until you find the one you want!\n",
    "\n"
   ]
  },
  {
   "cell_type": "code",
   "execution_count": 14,
   "metadata": {},
   "outputs": [],
   "source": [
    "def linSearch(stuff, target):\n",
    "    n = len(stuff)\n",
    "    \n",
    "    for i in range(n):\n",
    "        if stuff[i] == target:\n",
    "            return i\n",
    "    \n",
    "    "
   ]
  },
  {
   "cell_type": "code",
   "execution_count": 15,
   "metadata": {},
   "outputs": [
    {
     "data": {
      "text/plain": [
       "2"
      ]
     },
     "execution_count": 15,
     "metadata": {},
     "output_type": "execute_result"
    }
   ],
   "source": [
    "linSearch([1, 2, 3, 4, 5, 6], 3)"
   ]
  },
  {
   "cell_type": "markdown",
   "metadata": {},
   "source": [
    "Question:  say the input list to be searched has length n.  Worst case scenario:  we have make n elementary operations!  \n",
    "\n",
    "We measure the efficiency of algorithms by the WORST CASE SCENARIO:  for an input of size n, how many elementary computations MIGHT occur?\n",
    "\n",
    "\n",
    "\"Big Oh\" notiation.  Ie, the order of magnitude.  We find a function to describe this worst-case scenario.\n",
    "\n",
    "For linear search:\n",
    "\n",
    "     O(n)\n",
    "  \n",
    "Question:  can we do better?  Answer:  oftentimes!\n",
    "\n",
    "Example:  spell checkers.  In order for software to \"spell-check\" your work, it has to examine each word you write, and then find it (or not) in \"dictionary file\", a list of all words.\n",
    "\n",
    "If we did a linear search, this gets really slow!  In English, there are about 300,000 words!!\n",
    "\n",
    "Let's use the fact that dictionary files are SORTED!  \n",
    "\n",
    "\"Binary search\" is an efficient algorithm for this scenario.    Consider a simpler case:  search a SORTED list of numbers (instead of words)\n",
    "\n",
    "Let's first write an iterative algorithm for binary search.\n"
   ]
  },
  {
   "cell_type": "code",
   "execution_count": 27,
   "metadata": {},
   "outputs": [],
   "source": [
    "def binSearch(keys, target):\n",
    "    \"\"\"\n",
    "    Input:\n",
    "        keys is list of numbers to be searched\n",
    "        target the number we're looking for\n",
    "        \n",
    "    Output:\n",
    "        index of keys containing \"target\"\n",
    "    \"\"\"\n",
    "    \n",
    "    left = 0               #the index of the first element of keys\n",
    "    right = len(keys)-1   #the index of the last element of keys\n",
    "    runcount = 0\n",
    "    \n",
    "    while left <= right:\n",
    "        \n",
    "        runcount += 1\n",
    "        mid = (left+right)//2  #\"average\", using the floor function for interger\n",
    "        \n",
    "        if target < keys[mid] :       # target is less than value at mid index\n",
    "            right = mid-1\n",
    "        elif target > keys[mid] :       # target is larger, look at right half!\n",
    "            left = mid+1\n",
    "        else:\n",
    "            print(\"Number of cycles: \", runcount)\n",
    "            return mid        # we've found it!  the target is in the \"mid\" index\n",
    "    \n"
   ]
  },
  {
   "cell_type": "code",
   "execution_count": 30,
   "metadata": {},
   "outputs": [
    {
     "name": "stdout",
     "output_type": "stream",
     "text": [
      "Number of cycles:  3\n"
     ]
    },
    {
     "data": {
      "text/plain": [
       "4"
      ]
     },
     "execution_count": 30,
     "metadata": {},
     "output_type": "execute_result"
    }
   ],
   "source": [
    "binSearch([13, 14, 15, 16, 17, 18, 19], 17)"
   ]
  },
  {
   "cell_type": "code",
   "execution_count": null,
   "metadata": {},
   "outputs": [],
   "source": []
  },
  {
   "cell_type": "code",
   "execution_count": null,
   "metadata": {},
   "outputs": [],
   "source": []
  }
 ],
 "metadata": {
  "kernelspec": {
   "display_name": "Python 3",
   "language": "python",
   "name": "python3"
  },
  "language_info": {
   "codemirror_mode": {
    "name": "ipython",
    "version": 3
   },
   "file_extension": ".py",
   "mimetype": "text/x-python",
   "name": "python",
   "nbconvert_exporter": "python",
   "pygments_lexer": "ipython3",
   "version": "3.8.5"
  }
 },
 "nbformat": 4,
 "nbformat_minor": 4
}
