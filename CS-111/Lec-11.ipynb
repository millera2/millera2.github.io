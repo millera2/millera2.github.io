{
 "cells": [
  {
   "cell_type": "markdown",
   "metadata": {},
   "source": [
    "# Monday 10-26 \n",
    "\n",
    "*Textbook Coverage: 8.1 and 8.2*\n",
    "    \n",
    "Let's do some exercises together on the repl:"
   ]
  },
  {
   "cell_type": "code",
   "execution_count": 41,
   "metadata": {},
   "outputs": [],
   "source": [
    "def Sumodds(mylist):\n",
    "    oddnumbers=[]\n",
    "    for i in mylist:\n",
    "        if i%2 != 0:\n",
    "            oddnumbers.append(i)\n",
    "            \n",
    "    return sum(oddnumbers)"
   ]
  },
  {
   "cell_type": "code",
   "execution_count": 42,
   "metadata": {},
   "outputs": [
    {
     "data": {
      "text/plain": [
       "4"
      ]
     },
     "execution_count": 42,
     "metadata": {},
     "output_type": "execute_result"
    }
   ],
   "source": [
    "Sumodds([1,2,3])"
   ]
  },
  {
   "cell_type": "code",
   "execution_count": 48,
   "metadata": {},
   "outputs": [],
   "source": [
    "def sumOdds(data):\n",
    "  total = 0\n",
    "  for number in data:\n",
    "\t    if number%2 == 1:\n",
    "\t      total += number\n",
    "  return total"
   ]
  },
  {
   "cell_type": "code",
   "execution_count": 49,
   "metadata": {},
   "outputs": [
    {
     "data": {
      "text/plain": [
       "9"
      ]
     },
     "execution_count": 49,
     "metadata": {},
     "output_type": "execute_result"
    }
   ],
   "source": [
    "sumOdds(    [1,2,3, 4, 5, 0]    )"
   ]
  },
  {
   "cell_type": "code",
   "execution_count": 50,
   "metadata": {},
   "outputs": [],
   "source": [
    "def sumOdds(data):\n",
    "  total = 0\n",
    "  for number in data:\n",
    "\t    if number%2 == 1:\n",
    "\t      total += number\n",
    "  return total"
   ]
  },
  {
   "cell_type": "code",
   "execution_count": null,
   "metadata": {},
   "outputs": [],
   "source": []
  },
  {
   "cell_type": "code",
   "execution_count": 58,
   "metadata": {},
   "outputs": [
    {
     "name": "stdout",
     "output_type": "stream",
     "text": [
      "5\n"
     ]
    }
   ],
   "source": [
    "\n",
    "def countNames(words):\n",
    "    count = 0\n",
    "    for word in words:\n",
    "        if word[0].isupper() and word[1:len(word)].islower():\n",
    "                             #everything after the 0 element\n",
    "            count = count +1\n",
    "    return count\n",
    "\n",
    "print(countNames(['Fili', 'Oin', 'Thorin', 'and', 'Bilbo', 'are', 'characters', 'in', 'a', 'book', 'by', 'Tolkien']))\n"
   ]
  },
  {
   "cell_type": "code",
   "execution_count": 59,
   "metadata": {},
   "outputs": [],
   "source": [
    "myString = \"this is my example String\""
   ]
  },
  {
   "cell_type": "code",
   "execution_count": 60,
   "metadata": {},
   "outputs": [
    {
     "data": {
      "text/plain": [
       "'this is m'"
      ]
     },
     "execution_count": 60,
     "metadata": {},
     "output_type": "execute_result"
    }
   ],
   "source": [
    "myString[:9]"
   ]
  },
  {
   "cell_type": "code",
   "execution_count": null,
   "metadata": {},
   "outputs": [],
   "source": [
    "def countNames(words):\n",
    "  total = 0\n",
    "  for i in words:\n",
    "\t  if(ord(i[0]) <= 90 and ord(i[0]) >= 65):\n",
    "\t    total += 1\n",
    "    return total\n",
    "\n",
    "\n",
    "\n"
   ]
  },
  {
   "cell_type": "code",
   "execution_count": 63,
   "metadata": {},
   "outputs": [
    {
     "name": "stdout",
     "output_type": "stream",
     "text": [
      "A\n",
      "B\n",
      "C\n",
      "D\n",
      "E\n",
      "F\n",
      "G\n",
      "H\n",
      "I\n",
      "J\n",
      "K\n",
      "L\n",
      "M\n",
      "N\n",
      "O\n",
      "P\n",
      "Q\n",
      "R\n",
      "S\n",
      "T\n",
      "U\n",
      "V\n",
      "W\n",
      "X\n",
      "Y\n",
      "Z\n"
     ]
    }
   ],
   "source": [
    "for i in range(65,91):\n",
    "    print(chr(i))"
   ]
  },
  {
   "cell_type": "code",
   "execution_count": 67,
   "metadata": {},
   "outputs": [
    {
     "ename": "SyntaxError",
     "evalue": "invalid syntax (<ipython-input-67-246c8e35e673>, line 1)",
     "output_type": "error",
     "traceback": [
      "\u001b[0;36m  File \u001b[0;32m\"<ipython-input-67-246c8e35e673>\"\u001b[0;36m, line \u001b[0;32m1\u001b[0m\n\u001b[0;31m    if 'string'.capitalize() == 'string'\u001b[0m\n\u001b[0m                                        ^\u001b[0m\n\u001b[0;31mSyntaxError\u001b[0m\u001b[0;31m:\u001b[0m invalid syntax\n"
     ]
    }
   ],
   "source": [
    "if 'string'.capitalize() == 'string'"
   ]
  },
  {
   "cell_type": "code",
   "execution_count": 68,
   "metadata": {},
   "outputs": [],
   "source": [
    "myString = \"string\""
   ]
  },
  {
   "cell_type": "code",
   "execution_count": null,
   "metadata": {},
   "outputs": [],
   "source": []
  },
  {
   "cell_type": "code",
   "execution_count": null,
   "metadata": {},
   "outputs": [],
   "source": []
  },
  {
   "cell_type": "code",
   "execution_count": null,
   "metadata": {},
   "outputs": [],
   "source": []
  },
  {
   "cell_type": "code",
   "execution_count": 71,
   "metadata": {},
   "outputs": [
    {
     "data": {
      "text/plain": [
       "False"
      ]
     },
     "execution_count": 71,
     "metadata": {},
     "output_type": "execute_result"
    }
   ],
   "source": [
    "if myString.capitalize() == myString:\n",
    "    count +=1"
   ]
  },
  {
   "cell_type": "markdown",
   "metadata": {},
   "source": [
    "# Friday 10-30\n",
    "\n",
    "*Texbtook Coverage: 8.3*"
   ]
  },
  {
   "cell_type": "markdown",
   "metadata": {},
   "source": [
    "We've seen several \"data structures\" in this class. A data structure is a formalized method of representing a collection of information.  \n",
    "\n",
    "Examples:\n",
    "\n",
    "- Lists.  Indexed by number starting at zero.  Mutable!  All lists are  objects, and inherit member functions from the list class.\n",
    "\n",
    "\n",
    "- Strings, ie collections of characters.  Not mutable!  Indexed by number staring at zero.  Also an object, all strings inherit class methods.\n",
    "\n",
    "\n",
    "Today, we'll meet \"dictionaries\".  \n",
    "\n",
    "Let's make an examle dictionary:"
   ]
  },
  {
   "cell_type": "code",
   "execution_count": 73,
   "metadata": {},
   "outputs": [],
   "source": [
    "yearInSchool = { \"alex\":\"junior\", \"beth\":\"sophomore\", \"chris\":\"senior\"  }"
   ]
  },
  {
   "cell_type": "code",
   "execution_count": 74,
   "metadata": {},
   "outputs": [
    {
     "name": "stdout",
     "output_type": "stream",
     "text": [
      "{'alex': 'junior', 'beth': 'sophomore', 'chris': 'senior'}\n"
     ]
    }
   ],
   "source": [
    "print(yearInSchool)"
   ]
  },
  {
   "cell_type": "code",
   "execution_count": 75,
   "metadata": {},
   "outputs": [],
   "source": [
    "exampleList = [1, 3, 6, 1, \"word\"]"
   ]
  },
  {
   "cell_type": "code",
   "execution_count": 76,
   "metadata": {},
   "outputs": [
    {
     "data": {
      "text/plain": [
       "[1, 3, 6, 1, 'word']"
      ]
     },
     "execution_count": 76,
     "metadata": {},
     "output_type": "execute_result"
    }
   ],
   "source": [
    "exampleList"
   ]
  },
  {
   "cell_type": "markdown",
   "metadata": {},
   "source": [
    "Dictionaries are made up of pairs of \"keys\" and \"values\".   Keys come first, values come second.\n",
    "\n",
    "\n",
    "Major difference between dictionaries and lists:  the items of a dictionary are NOT ORDERED!!!\n",
    "\n",
    "\n",
    "Instead, they're indexed by the keys (which could be any data type!)\n",
    "\n",
    "\n",
    "To access elements by key, use [] (just like lists)"
   ]
  },
  {
   "cell_type": "code",
   "execution_count": 77,
   "metadata": {},
   "outputs": [
    {
     "data": {
      "text/plain": [
       "'junior'"
      ]
     },
     "execution_count": 77,
     "metadata": {},
     "output_type": "execute_result"
    }
   ],
   "source": [
    "yearInSchool[\"alex\"]"
   ]
  },
  {
   "cell_type": "markdown",
   "metadata": {},
   "source": [
    "In python, easy to see all the keys and values with class functions:"
   ]
  },
  {
   "cell_type": "code",
   "execution_count": 78,
   "metadata": {},
   "outputs": [
    {
     "data": {
      "text/plain": [
       "dict_keys(['alex', 'beth', 'chris'])"
      ]
     },
     "execution_count": 78,
     "metadata": {},
     "output_type": "execute_result"
    }
   ],
   "source": [
    "yearInSchool.keys()"
   ]
  },
  {
   "cell_type": "code",
   "execution_count": 79,
   "metadata": {},
   "outputs": [
    {
     "data": {
      "text/plain": [
       "dict_values(['junior', 'sophomore', 'senior'])"
      ]
     },
     "execution_count": 79,
     "metadata": {},
     "output_type": "execute_result"
    }
   ],
   "source": [
    "yearInSchool.values()"
   ]
  },
  {
   "cell_type": "markdown",
   "metadata": {},
   "source": [
    "One thing that dictionaries have in common with lists:  they're \"mutable\"!  Ie, we can change the elements after creating the dictionary."
   ]
  },
  {
   "cell_type": "code",
   "execution_count": 80,
   "metadata": {},
   "outputs": [],
   "source": [
    "yearInSchool[\"alex\"] = \"sophomore\""
   ]
  },
  {
   "cell_type": "code",
   "execution_count": 81,
   "metadata": {},
   "outputs": [
    {
     "data": {
      "text/plain": [
       "{'alex': 'sophomore', 'beth': 'sophomore', 'chris': 'senior'}"
      ]
     },
     "execution_count": 81,
     "metadata": {},
     "output_type": "execute_result"
    }
   ],
   "source": [
    "yearInSchool"
   ]
  },
  {
   "cell_type": "code",
   "execution_count": 82,
   "metadata": {},
   "outputs": [],
   "source": [
    "yearInSchool[\"deb\"] = \"freshman\""
   ]
  },
  {
   "cell_type": "code",
   "execution_count": 83,
   "metadata": {},
   "outputs": [
    {
     "data": {
      "text/plain": [
       "{'alex': 'sophomore',\n",
       " 'beth': 'sophomore',\n",
       " 'chris': 'senior',\n",
       " 'deb': 'freshman'}"
      ]
     },
     "execution_count": 83,
     "metadata": {},
     "output_type": "execute_result"
    }
   ],
   "source": [
    "yearInSchool"
   ]
  },
  {
   "cell_type": "markdown",
   "metadata": {},
   "source": [
    "Cool application for dictionries (8.3):  frequencies.\n",
    "\n",
    "Let's use a dictionary to keep track of the frequencies of letters in a given string.\n",
    "\n"
   ]
  },
  {
   "cell_type": "code",
   "execution_count": 1,
   "metadata": {},
   "outputs": [],
   "source": [
    "exampleString = \"this is my example string that I'm using to test the frequency count functionality of dictionaries\""
   ]
  },
  {
   "cell_type": "markdown",
   "metadata": {},
   "source": [
    "Game plan:  for each character in the string, check to see if it's already in our dictionary.  If so, increment the frequency.  Otherwise, add it with frequency 1.\n",
    "\n"
   ]
  },
  {
   "cell_type": "code",
   "execution_count": 2,
   "metadata": {},
   "outputs": [],
   "source": [
    "dict = {}    #empty dictionary to store the pairs\n",
    "\n",
    "for char in exampleString:\n",
    "    if char in dict.keys():\n",
    "        dict[char] += 1\n",
    "    else:\n",
    "        dict[char] = 1\n",
    "        "
   ]
  },
  {
   "cell_type": "code",
   "execution_count": 3,
   "metadata": {},
   "outputs": [
    {
     "data": {
      "text/plain": [
       "{'t': 12,\n",
       " 'h': 3,\n",
       " 'i': 9,\n",
       " 's': 6,\n",
       " ' ': 15,\n",
       " 'm': 3,\n",
       " 'y': 3,\n",
       " 'e': 7,\n",
       " 'x': 1,\n",
       " 'a': 4,\n",
       " 'p': 1,\n",
       " 'l': 2,\n",
       " 'r': 3,\n",
       " 'n': 7,\n",
       " 'g': 2,\n",
       " 'I': 1,\n",
       " \"'\": 1,\n",
       " 'u': 4,\n",
       " 'o': 5,\n",
       " 'f': 3,\n",
       " 'q': 1,\n",
       " 'c': 4,\n",
       " 'd': 1}"
      ]
     },
     "execution_count": 3,
     "metadata": {},
     "output_type": "execute_result"
    }
   ],
   "source": [
    "dict"
   ]
  },
  {
   "cell_type": "markdown",
   "metadata": {},
   "source": [
    "Q:  Can we visualize this?\n",
    "\n",
    "A:  Yes!  use a bar plot"
   ]
  },
  {
   "cell_type": "code",
   "execution_count": 4,
   "metadata": {},
   "outputs": [
    {
     "data": {
      "text/plain": [
       "<BarContainer object of 23 artists>"
      ]
     },
     "execution_count": 4,
     "metadata": {},
     "output_type": "execute_result"
    },
    {
     "data": {
      "image/png": "[encoded data removed]",
      "text/plain": [
       "<Figure size 432x288 with 1 Axes>"
      ]
     },
     "metadata": {
      "needs_background": "light"
     },
     "output_type": "display_data"
    }
   ],
   "source": [
    "import matplotlib.pyplot as pyplot\n",
    "\n",
    "pyplot.bar( dict.keys(), dict.values()    )    #first enter x vals (categories), then enter yvals (frequencies)\n"
   ]
  },
  {
   "cell_type": "markdown",
   "metadata": {},
   "source": [
    "### List Comprehensions"
   ]
  },
  {
   "cell_type": "markdown",
   "metadata": {},
   "source": [
    "List comprehensions are just sneaky, simple for loops in compact syntax.\n",
    "\n",
    "\n",
    "For example, suppose we wanted a list of all even numbers between 0 and 20.\n",
    "\n",
    "Easy, but annoying: write a \"for loop\" to get all multiples of 2 from 0 to 10. "
   ]
  },
  {
   "cell_type": "code",
   "execution_count": 5,
   "metadata": {},
   "outputs": [],
   "source": [
    "numbers = []   #accumulator for numbers\n",
    "\n",
    "for number in range(11):\n",
    "    numbers.append(2*number)\n",
    "    "
   ]
  },
  {
   "cell_type": "code",
   "execution_count": 6,
   "metadata": {},
   "outputs": [
    {
     "data": {
      "text/plain": [
       "[0, 2, 4, 6, 8, 10, 12, 14, 16, 18, 20]"
      ]
     },
     "execution_count": 6,
     "metadata": {},
     "output_type": "execute_result"
    }
   ],
   "source": [
    "numbers"
   ]
  },
  {
   "cell_type": "markdown",
   "metadata": {},
   "source": [
    "This is much easier and faster with a \"list comprehension\":"
   ]
  },
  {
   "cell_type": "code",
   "execution_count": 7,
   "metadata": {},
   "outputs": [
    {
     "data": {
      "text/plain": [
       "[0, 2, 4, 6, 8, 10, 12, 14, 16, 18, 20]"
      ]
     },
     "execution_count": 7,
     "metadata": {},
     "output_type": "execute_result"
    }
   ],
   "source": [
    "[ 2*number  for number in range(11)      ]"
   ]
  },
  {
   "cell_type": "markdown",
   "metadata": {},
   "source": [
    "Example:  suppose we want to graph the function y=x^2 on the interval from -10,10 using matplotlib.\n",
    "\n",
    "\n",
    "Recall the syntax:\n",
    "\n",
    "\n",
    "pyplot.plot( [list of x vals],  [list of yvals] )\n",
    "\n",
    "Without list comprehensions, we'd have to write a sperate for loop to generate both lists, the xvals and yvals.  But, -with- list comprehensions, it's easy to do this right in the command:"
   ]
  },
  {
   "cell_type": "code",
   "execution_count": 8,
   "metadata": {},
   "outputs": [],
   "source": [
    "import matplotlib.pyplot as pyplot"
   ]
  },
  {
   "cell_type": "code",
   "execution_count": 9,
   "metadata": {},
   "outputs": [
    {
     "data": {
      "text/plain": [
       "[<matplotlib.lines.Line2D at 0x113876850>]"
      ]
     },
     "execution_count": 9,
     "metadata": {},
     "output_type": "execute_result"
    },
    {
     "data": {
      "image/png": "[encoded data removed]",
      "text/plain": [
       "<Figure size 432x288 with 1 Axes>"
      ]
     },
     "metadata": {
      "needs_background": "light"
     },
     "output_type": "display_data"
    }
   ],
   "source": [
    "pyplot.plot(  [x for x in range(-10,11)],   [ x*x for x in range(-10,11) ]    )"
   ]
  },
  {
   "cell_type": "markdown",
   "metadata": {},
   "source": [
    "# Friday Nov 2\n",
    "\n",
    "*Textbook: 8.2, 8.3, 10.1*"
   ]
  },
  {
   "cell_type": "markdown",
   "metadata": {},
   "source": [
    "Last time, we used a dictionary data structure to obtain frequency counts for letters in a string.  See graph above.\n",
    "\n",
    "Q:  Could we sort the contents of the dictionary, to graph the frequencies in alphabetical order?\n",
    "\n",
    "A:  Of course.  Python has a built-in sort function called `sorted([your thing here])`.\n",
    "\n",
    "\n",
    "Note, this is \"built-in\" or \"generic\" function, a reserved keyword in python.  It's not dependent on any particular data type, not a class function.  "
   ]
  },
  {
   "cell_type": "code",
   "execution_count": 10,
   "metadata": {},
   "outputs": [],
   "source": [
    "aString = \"example string\""
   ]
  },
  {
   "cell_type": "code",
   "execution_count": 11,
   "metadata": {},
   "outputs": [
    {
     "data": {
      "text/plain": [
       "'xampl string'"
      ]
     },
     "execution_count": 11,
     "metadata": {},
     "output_type": "execute_result"
    }
   ],
   "source": [
    "aString.replace(\"e\", \"\")"
   ]
  },
  {
   "cell_type": "markdown",
   "metadata": {},
   "source": [
    "In constrast, `sorted()` works on any collection/data structure in python (if possible).  \n",
    "\n",
    "For example:  the keys of our dictionary:\n",
    "\n"
   ]
  },
  {
   "cell_type": "code",
   "execution_count": 12,
   "metadata": {},
   "outputs": [
    {
     "data": {
      "text/plain": [
       "[' ',\n",
       " \"'\",\n",
       " 'I',\n",
       " 'a',\n",
       " 'c',\n",
       " 'd',\n",
       " 'e',\n",
       " 'f',\n",
       " 'g',\n",
       " 'h',\n",
       " 'i',\n",
       " 'l',\n",
       " 'm',\n",
       " 'n',\n",
       " 'o',\n",
       " 'p',\n",
       " 'q',\n",
       " 'r',\n",
       " 's',\n",
       " 't',\n",
       " 'u',\n",
       " 'x',\n",
       " 'y']"
      ]
     },
     "execution_count": 12,
     "metadata": {},
     "output_type": "execute_result"
    }
   ],
   "source": [
    "sorted(dict.keys())"
   ]
  },
  {
   "cell_type": "code",
   "execution_count": 13,
   "metadata": {},
   "outputs": [
    {
     "data": {
      "text/plain": [
       "65"
      ]
     },
     "execution_count": 13,
     "metadata": {},
     "output_type": "execute_result"
    }
   ],
   "source": [
    "ord(\"A\")"
   ]
  },
  {
   "cell_type": "markdown",
   "metadata": {},
   "source": [
    "Q:  How to sort the frequencies?"
   ]
  },
  {
   "cell_type": "code",
   "execution_count": 21,
   "metadata": {},
   "outputs": [
    {
     "data": {
      "text/plain": [
       "<BarContainer object of 23 artists>"
      ]
     },
     "execution_count": 21,
     "metadata": {},
     "output_type": "execute_result"
    },
    {
     "data": {
      "image/png": "[encoded data removed]",
      "text/plain": [
       "<Figure size 432x288 with 1 Axes>"
      ]
     },
     "metadata": {
      "needs_background": "light"
     },
     "output_type": "display_data"
    }
   ],
   "source": [
    "import matplotlib.pyplot as pyplot\n",
    "\n",
    "pyplot.bar( sorted(dict.keys()), sorted(dict.values())    )    #first enter x vals (categories), then enter yvals (frequencies)\n"
   ]
  },
  {
   "cell_type": "markdown",
   "metadata": {},
   "source": [
    "We see that sorting indpendently doesn't work.  Gives the wrong picture!\n",
    "\n",
    "Lets use a list comprehension to fix it.\n",
    "\n",
    "x vals:  sorted keys\n",
    "y vals:  values that MATCH those keys"
   ]
  },
  {
   "cell_type": "code",
   "execution_count": 23,
   "metadata": {},
   "outputs": [
    {
     "data": {
      "text/plain": [
       "<BarContainer object of 23 artists>"
      ]
     },
     "execution_count": 23,
     "metadata": {},
     "output_type": "execute_result"
    },
    {
     "data": {
      "image/png": "[encoded data removed]",
      "text/plain": [
       "<Figure size 432x288 with 1 Axes>"
      ]
     },
     "metadata": {
      "needs_background": "light"
     },
     "output_type": "display_data"
    }
   ],
   "source": [
    "pyplot.bar(   sorted(dict.keys()),  [ dict[key]  for key in sorted(dict.keys())   ]   )"
   ]
  },
  {
   "cell_type": "markdown",
   "metadata": {},
   "source": [
    "Question: what's the output of the `sorted()` function.\n",
    "\n",
    "A: output is a list.\n",
    "\n",
    "Look:"
   ]
  },
  {
   "cell_type": "code",
   "execution_count": 26,
   "metadata": {},
   "outputs": [
    {
     "data": {
      "text/plain": [
       "list"
      ]
     },
     "execution_count": 26,
     "metadata": {},
     "output_type": "execute_result"
    }
   ],
   "source": [
    "type(sorted(dict.keys()))"
   ]
  },
  {
   "cell_type": "markdown",
   "metadata": {},
   "source": [
    "# Ch 10:  Self-Similarity and Recursion"
   ]
  },
  {
   "cell_type": "markdown",
   "metadata": {},
   "source": [
    "Frequenly, problems can be divided in to smaller sub-problems.  Solving small problems is easier than solving big ones.  We call this \"divide-and-conquer\". \n",
    "\n",
    "\n",
    "Problems like this exhibit a property called \"self-similarity\":  the big problem is just a repetition of little problem, called the \"base case\".\n",
    "\n",
    "\n",
    "In CS, the coding technique we use to solve these problems is called \"recursion\", they always involve a function calling **itself**.\n"
   ]
  },
  {
   "cell_type": "markdown",
   "metadata": {},
   "source": [
    "Recall from from math, the \"factorial\" is the produt of all integers <= to a given number.\n",
    "\n",
    "\n",
    "\n",
    "Ex:   7! = 7*6*5*4*3*2*1\n",
    "\n",
    "Factorials exhibit \"self-similarity\":\n",
    "\n",
    "7! = 7*6!\n",
    "\n",
    "   = 7*6*5!\n",
    "   \n",
    "   = ....\n",
    "   \n",
    "Keep doing the same thing till we get to \"1\", then we're done.\n",
    "\n",
    "That's the \"base case\":  once we get to 1, it's over.\n",
    "\n",
    "\n",
    "Let's write a recursive function to compute a factorial.\n",
    "\n"
   ]
  },
  {
   "cell_type": "code",
   "execution_count": 27,
   "metadata": {},
   "outputs": [],
   "source": [
    "def factorial(n):\n",
    "    \"\"\" input: n is a positive integer\n",
    "    \"\"\"\n",
    "    if n == 1:       #base case!!!\n",
    "        return 1\n",
    "    else:            # if n is an whole number large than 1:\n",
    "        return( n*factorial(n-1)  )\n"
   ]
  },
  {
   "cell_type": "markdown",
   "metadata": {},
   "source": [
    "By hand:"
   ]
  },
  {
   "cell_type": "code",
   "execution_count": 28,
   "metadata": {},
   "outputs": [
    {
     "data": {
      "text/plain": [
       "5040"
      ]
     },
     "execution_count": 28,
     "metadata": {},
     "output_type": "execute_result"
    }
   ],
   "source": [
    "7*6*5*4*3*2*1"
   ]
  },
  {
   "cell_type": "code",
   "execution_count": 29,
   "metadata": {},
   "outputs": [
    {
     "data": {
      "text/plain": [
       "5040"
      ]
     },
     "execution_count": 29,
     "metadata": {},
     "output_type": "execute_result"
    }
   ],
   "source": [
    "factorial(7)"
   ]
  },
  {
   "cell_type": "markdown",
   "metadata": {},
   "source": [
    "# Friday Nov 06\n",
    "*Text coverage: Ch 10.1 10.2*"
   ]
  },
  {
   "cell_type": "markdown",
   "metadata": {},
   "source": [
    "Let's begin with another simple recursion examlpe.  \n",
    "\n",
    "The problem:  given a string, determine (true/false) if it's *palindrome*.\n",
    "\n",
    "A palindrome is a word that's the same even if you reverse it.\n",
    "\n",
    "ABBA\n",
    "\n",
    "is a palindrome.\n",
    "\n",
    "ABTYGYTBA\n",
    "\n",
    "is a palnidrome.\n",
    "\n",
    "But,\n",
    "\n",
    "AABBAAA\n",
    "\n",
    "NOT a palindrome. \n",
    "\n",
    "What's the base case?\n",
    "\n",
    "If the string only has one character, then it's automatically a palindrome.\n",
    "\n",
    "\n",
    "Also, if the string is empty (length zero), it's also automatically a palindrome.\n",
    "\n",
    "\n"
   ]
  },
  {
   "cell_type": "code",
   "execution_count": 9,
   "metadata": {},
   "outputs": [],
   "source": [
    "def palindrome(text):\n",
    "    \"\"\"\n",
    "    input: a string\n",
    "    output:  if palindrome, return true.  else, return false.\n",
    "    \"\"\"\n",
    "    # base cases\n",
    "    \n",
    "\n",
    "    if len(text) == 0:\n",
    "        return True\n",
    "    \n",
    "    else:\n",
    "        return( text[0]==text[-1] and palindrome( text[1:-1] )     )\n",
    "    \n",
    "    \n",
    "    \n",
    "    \n",
    "    "
   ]
  },
  {
   "cell_type": "code",
   "execution_count": 11,
   "metadata": {},
   "outputs": [
    {
     "data": {
      "text/plain": [
       "True"
      ]
     },
     "execution_count": 11,
     "metadata": {},
     "output_type": "execute_result"
    }
   ],
   "source": [
    "palindrome(\"abcdefghijkjihgfedcba\")"
   ]
  },
  {
   "cell_type": "code",
   "execution_count": 3,
   "metadata": {},
   "outputs": [
    {
     "data": {
      "text/plain": [
       "True"
      ]
     },
     "execution_count": 3,
     "metadata": {},
     "output_type": "execute_result"
    }
   ],
   "source": [
    "palindrome(\"abcdefgfedcba\")"
   ]
  },
  {
   "cell_type": "code",
   "execution_count": 5,
   "metadata": {},
   "outputs": [],
   "source": [
    "myString = \"abcdef\""
   ]
  },
  {
   "cell_type": "code",
   "execution_count": 6,
   "metadata": {},
   "outputs": [
    {
     "data": {
      "text/plain": [
       "'bcde'"
      ]
     },
     "execution_count": 6,
     "metadata": {},
     "output_type": "execute_result"
    }
   ],
   "source": [
    "myString[1:-1]"
   ]
  },
  {
   "cell_type": "code",
   "execution_count": 8,
   "metadata": {},
   "outputs": [
    {
     "data": {
      "text/plain": [
       "[0, 1, 2, 3, 4, 5, 6, 7, 8, 9]"
      ]
     },
     "execution_count": 8,
     "metadata": {},
     "output_type": "execute_result"
    }
   ],
   "source": [
    "list(range(0,10))"
   ]
  },
  {
   "cell_type": "markdown",
   "metadata": {},
   "source": [
    "**Example**:  recursive sum\n",
    "\n",
    "Write a recursive algorithm that computes the sum of a list of numbers\n",
    "\n",
    "First, iterative (non-recursive):"
   ]
  },
  {
   "cell_type": "code",
   "execution_count": 14,
   "metadata": {},
   "outputs": [],
   "source": [
    "def sumNumbers(numbers):\n",
    "    total = 0\n",
    "    for number in numbers:\n",
    "        total += number\n",
    "    return total\n",
    "        \n",
    "        "
   ]
  },
  {
   "cell_type": "code",
   "execution_count": 15,
   "metadata": {},
   "outputs": [
    {
     "data": {
      "text/plain": [
       "10"
      ]
     },
     "execution_count": 15,
     "metadata": {},
     "output_type": "execute_result"
    }
   ],
   "source": [
    "sumNumbers([1,2,3,4])"
   ]
  },
  {
   "cell_type": "markdown",
   "metadata": {},
   "source": [
    "Now, let's write a recursive function:\n",
    "\n",
    "\n"
   ]
  },
  {
   "cell_type": "markdown",
   "metadata": {},
   "source": [
    "What's the base case?  If there's only one number, then that's the sum!!!\n",
    "\n",
    "\n",
    "OTHERWISE, add the number to the sum of all the others!"
   ]
  },
  {
   "cell_type": "markdown",
   "metadata": {},
   "source": [
    "1+2+3+4 = 1+ (2+3+4)"
   ]
  },
  {
   "cell_type": "code",
   "execution_count": 16,
   "metadata": {},
   "outputs": [],
   "source": [
    "def sumNumbersRec(numbers):\n",
    "    if len(numbers)==1:\n",
    "        return(numbers[0])\n",
    "    else:\n",
    "        return( numbers[0] + sumNumbersRec(numbers[1:]  ))"
   ]
  },
  {
   "cell_type": "code",
   "execution_count": 17,
   "metadata": {},
   "outputs": [
    {
     "data": {
      "text/plain": [
       "10"
      ]
     },
     "execution_count": 17,
     "metadata": {},
     "output_type": "execute_result"
    }
   ],
   "source": [
    "sumNumbersRec([1,2,3,4])"
   ]
  },
  {
   "cell_type": "markdown",
   "metadata": {},
   "source": [
    "## Snowflake Fractal\n",
    "\n",
    "Idea:  \n",
    "\n",
    "- For the base case, just make a staight line (to right) by whatever length (l)\n",
    "- Otherwise\n",
    "  - go forward by l/3\n",
    "  - turn left by 60 degrees\n",
    "  - forward by l/3\n",
    "  - turn right by 120 degrees\n",
    "  - go foward by l/3\n",
    "  - turn left by 60 degrees\n",
    "  - go forward by l/3\n",
    "\n",
    "\n",
    "\n",
    "Let's write the function:"
   ]
  },
  {
   "cell_type": "code",
   "execution_count": 4,
   "metadata": {},
   "outputs": [],
   "source": [
    "import turtle\n",
    "\n",
    "bob = turtle.Turtle()\n",
    "bob.speed(0)\n",
    "\n",
    "def snowflake(d, l):\n",
    "    \"\"\" d = the number of recursions\n",
    "        l = the length of each segment\n",
    "    \"\"\"\n",
    "\n",
    "        \n",
    "    if d>0:\n",
    "        snowflake(d-1, l/3)\n",
    "        bob.left(60)\n",
    "        snowflake(d-1, l/3)\n",
    "        bob.right(120)\n",
    "        snowflake(d-1, l/3)\n",
    "        bob.left(60)\n",
    "        snowflake(d-1, l/3)\n",
    "    else:\n",
    "        bob.forward(l)\n",
    "        \n",
    "for i in range(3):\n",
    "    snowflake(3, 300)\n",
    "    bob.right(120)\n",
    "        "
   ]
  },
  {
   "cell_type": "code",
   "execution_count": 3,
   "metadata": {},
   "outputs": [],
   "source": []
  },
  {
   "cell_type": "code",
   "execution_count": null,
   "metadata": {},
   "outputs": [],
   "source": []
  }
 ],
 "metadata": {
  "kernelspec": {
   "display_name": "Python 3",
   "language": "python",
   "name": "python3"
  },
  "language_info": {
   "codemirror_mode": {
    "name": "ipython",
    "version": 3
   },
   "file_extension": ".py",
   "mimetype": "text/x-python",
   "name": "python",
   "nbconvert_exporter": "python",
   "pygments_lexer": "ipython3",
   "version": "3.8.5"
  }
 },
 "nbformat": 4,
 "nbformat_minor": 4
}
