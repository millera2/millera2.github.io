{
 "cells": [
  {
   "cell_type": "code",
   "execution_count": 4,
   "metadata": {},
   "outputs": [],
   "source": [
    "def countLinks(totalNodes):\n",
    "    \"\"\"Prints a table with the maximum total number of links\n",
    "    in networks with 2 through totalNodes nodes.\n",
    "    Parameter:\n",
    "    totalNodes: the total number of nodes in the network\n",
    "    Return value:\n",
    "    the maximum number of links in a network with totalNodes nodes\n",
    "    \"\"\"\n",
    "    \n",
    "    totalLinks = 0\n",
    "    for node in range(totalNodes):\n",
    "        newLinks = 3\n",
    "        totalLinks = totalLinks + newLinks\n",
    "        print(node, newLinks, totalLinks)\n",
    "    return totalLinks\n"
   ]
  },
  {
   "cell_type": "code",
   "execution_count": 5,
   "metadata": {},
   "outputs": [
    {
     "name": "stdout",
     "output_type": "stream",
     "text": [
      "0 3 3\n",
      "1 3 6\n",
      "2 3 9\n",
      "3 3 12\n"
     ]
    },
    {
     "data": {
      "text/plain": [
       "12"
      ]
     },
     "execution_count": 5,
     "metadata": {},
     "output_type": "execute_result"
    }
   ],
   "source": [
    "countLinks(4)"
   ]
  },
  {
   "cell_type": "code",
   "execution_count": null,
   "metadata": {},
   "outputs": [],
   "source": []
  }
 ],
 "metadata": {
  "kernelspec": {
   "display_name": "Python 3",
   "language": "python",
   "name": "python3"
  },
  "language_info": {
   "codemirror_mode": {
    "name": "ipython",
    "version": 3
   },
   "file_extension": ".py",
   "mimetype": "text/x-python",
   "name": "python",
   "nbconvert_exporter": "python",
   "pygments_lexer": "ipython3",
   "version": "3.8.3"
  }
 },
 "nbformat": 4,
 "nbformat_minor": 4
}
