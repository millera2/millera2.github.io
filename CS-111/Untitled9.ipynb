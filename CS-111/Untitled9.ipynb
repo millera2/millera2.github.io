{
 "cells": [
  {
   "cell_type": "code",
   "execution_count": 1,
   "metadata": {},
   "outputs": [],
   "source": [
    "\n",
    "import turtle\n",
    "\n",
    "george = turtle.Turtle()\n",
    "\n",
    "\n",
    "george.pencolor(\"red\")\n",
    "george.fillcolor(\"yellow\")\n",
    "george.begin_fill()\n",
    "for segment in range(8):\n",
    "    george.forward(200)\n",
    "    george.left(135)\n",
    "george.end_fill()\n",
    "screen = george.getscreen()\n",
    "\n",
    "\n",
    "def bloom():\n",
    "    screen.onclick(george.goto)\n",
    "    forward(200)\n",
    "\n",
    "\n",
    "    \n",
    "turtle.mainloop()\n"
   ]
  },
  {
   "cell_type": "code",
   "execution_count": null,
   "metadata": {},
   "outputs": [],
   "source": []
  },
  {
   "cell_type": "code",
   "execution_count": null,
   "metadata": {},
   "outputs": [],
   "source": []
  }
 ],
 "metadata": {
  "kernelspec": {
   "display_name": "Python 3",
   "language": "python",
   "name": "python3"
  },
  "language_info": {
   "codemirror_mode": {
    "name": "ipython",
    "version": 3
   },
   "file_extension": ".py",
   "mimetype": "text/x-python",
   "name": "python",
   "nbconvert_exporter": "python",
   "pygments_lexer": "ipython3",
   "version": "3.8.3"
  }
 },
 "nbformat": 4,
 "nbformat_minor": 4
}
