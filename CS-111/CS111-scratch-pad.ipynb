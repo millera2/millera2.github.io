{
 "cells": [
  {
   "cell_type": "code",
   "execution_count": null,
   "metadata": {},
   "outputs": [],
   "source": [
    "\n",
    "import turtle\n",
    "import random\n",
    "\n",
    "george = turtle.Turtle()\n",
    "\n",
    "\n",
    "george.pencolor(\"red\")\n",
    "george.fillcolor(\"yellow\")\n",
    "\n",
    "screen = george.getscreen()\n",
    "\n",
    "george.speed(0)\n",
    "\n",
    "\n",
    "def makePoly(n, length):\n",
    "    angle = (n-2)*180/n\n",
    "    for i in range(n):\n",
    "        george.forward(length/n)\n",
    "        george.left(180-angle)\n",
    "\n",
    "def newBloom(x,y):\n",
    "    george.penup()\n",
    "    george.goto(x,y)\n",
    "    george.pendown()\n",
    "    george.setheading(0)\n",
    "    george.pencolor(\"black\")\n",
    "    george.fillcolor(random.choice([\"limegreen\", \"violet\", \"aqua\", \"yellow\", \"blue\", \"purple\", \"red\", \"pink\", \"orange\", \"brown\", \"deeppink\", \"coral\"]))\n",
    "    sideLength = random.randrange(20,200)\n",
    "    george.begin_fill()\n",
    "    length = random.randrange(200,700)\n",
    "    n = random.randrange(3,8)\n",
    "    makePoly(n, length)\n",
    "    george.end_fill()\n",
    "\n",
    "\n",
    "\n",
    "    \n",
    "def square(heading):\n",
    "    george.setheading(heading)\n",
    "    for i in range(2):\n",
    "        george.forward(100)\n",
    "        george.left(90)\n",
    "        george.forward(150)\n",
    "        george.left(90)\n",
    "    \n",
    "    \n",
    "#for i in range(225):\n",
    "#    if i%10==0:\n",
    "#        square(i)\n",
    "        \n",
    "george.pencolor(\"black\")\n",
    "\n",
    "\n",
    "def pentagram():\n",
    "    for i in range(50):\n",
    "        george.forward(50+20*i)\n",
    "        george.left(180-36)\n",
    "        \n",
    "\n",
    "pentagram()\n",
    "        \n",
    "#screen.onclick(newBloom)\n",
    "\n",
    "turtle.mainloop()\n"
   ]
  },
  {
   "cell_type": "code",
   "execution_count": null,
   "metadata": {},
   "outputs": [],
   "source": []
  },
  {
   "cell_type": "code",
   "execution_count": 3,
   "metadata": {},
   "outputs": [
    {
     "data": {
      "text/plain": [
       "str"
      ]
     },
     "execution_count": 3,
     "metadata": {},
     "output_type": "execute_result"
    }
   ],
   "source": [
    "type(random.choice([\"yellow\", \"blue\"]))"
   ]
  },
  {
   "cell_type": "code",
   "execution_count": 1,
   "metadata": {},
   "outputs": [],
   "source": [
    "import turtle\n",
    "\n",
    "bob=turtle.Turtle()\n",
    "\n",
    "def makeSquare(t, h, x, y, length, fillColor):\n",
    "    t.penup()\n",
    "    t.goto(x,y)\n",
    "    t.pendown()\n",
    "    t.setheading(h)\n",
    "    t.fillcolor(fillColor)\n",
    "    t.begin_fill()\n",
    "    for i in range(4):\n",
    "        t.forward(length)\n",
    "        t.left(90)\n",
    "    t.end_fill()\n",
    "    \n",
    "def makeTriangle(t, h, x, y, length, fillColor):\n",
    "    t.penup()\n",
    "    t.goto(x,y)\n",
    "    t.pendown()\n",
    "    t.setheading(h)\n",
    "    t.fillcolor(fillColor)\n",
    "    t.begin_fill()\n",
    "    for i in range(3):\n",
    "        t.forward(length)\n",
    "        t.left(120)\n",
    "    t.end_fill()\n",
    "   \n",
    "\n",
    "        \n",
    "for i in range(81):\n",
    "    if i%20==0:\n",
    "        makeTriangle(bob,0,i,0,200,\"Tomato\")\n",
    "    \n",
    "#for i in range(80):\n",
    "#    if i%20==0:\n",
    "#        makeTriangle(bob, 0, i, 10, 200-2*i, \"aquamarine\")\n",
    "        \n",
    "   \n",
    "\n"
   ]
  },
  {
   "cell_type": "code",
   "execution_count": null,
   "metadata": {},
   "outputs": [],
   "source": []
  },
  {
   "cell_type": "code",
   "execution_count": 2,
   "metadata": {},
   "outputs": [
    {
     "data": {
      "text/plain": [
       "[<matplotlib.lines.Line2D at 0x11d8d12e0>]"
      ]
     },
     "execution_count": 2,
     "metadata": {},
     "output_type": "execute_result"
    },
    {
     "data": {
      "image/png": "[encoded data removed]",
      "text/plain": [
       "<Figure size 432x288 with 1 Axes>"
      ]
     },
     "metadata": {
      "needs_background": "light"
     },
     "output_type": "display_data"
    }
   ],
   "source": [
    "import matplotlib.pyplot as pyplot\n",
    "\n",
    "pyplot.plot([1,2,3], [4,5,6])"
   ]
  },
  {
   "cell_type": "code",
   "execution_count": 1,
   "metadata": {},
   "outputs": [],
   "source": [
    "import turtle\n",
    "\n",
    "bob = turtle.Turtle()\n",
    "\n",
    "for i in range(3):\n",
    "    bob.forward(100)\n",
    "    bob.left(180-60)"
   ]
  },
  {
   "cell_type": "code",
   "execution_count": null,
   "metadata": {},
   "outputs": [],
   "source": []
  },
  {
   "cell_type": "markdown",
   "metadata": {},
   "source": [
    "Goal: swap x and y`\n",
    "\n",
    "x = y\n",
    "y = x"
   ]
  },
  {
   "cell_type": "code",
   "execution_count": 9,
   "metadata": {},
   "outputs": [],
   "source": [
    "x = \"thingie 1\"\n",
    "y = \"thinigie 2\"\n",
    "\n"
   ]
  },
  {
   "cell_type": "code",
   "execution_count": 10,
   "metadata": {},
   "outputs": [
    {
     "name": "stdout",
     "output_type": "stream",
     "text": [
      "thinigie 2 thinigie 2\n"
     ]
    }
   ],
   "source": [
    "x = y\n",
    "# right now, both x and y are \"thingie 2\"\n",
    "y = x\n",
    "\n",
    "# idea: we need some other variable store the value of x\n",
    "\n",
    "\n",
    "\n",
    "print(x,y)"
   ]
  },
  {
   "cell_type": "code",
   "execution_count": 8,
   "metadata": {},
   "outputs": [
    {
     "name": "stdout",
     "output_type": "stream",
     "text": [
      "thinigie 2 thingie 1\n"
     ]
    }
   ],
   "source": [
    "temp = y\n",
    "y = x\n",
    "x = temp\n",
    "\n",
    "print(x,y)\n"
   ]
  },
  {
   "cell_type": "code",
   "execution_count": 31,
   "metadata": {},
   "outputs": [
    {
     "name": "stdin",
     "output_type": "stream",
     "text": [
      "Hey boss, please enter employee names, seperated by a space: a b c d e f\n",
      "Ok boss, now please enter the days the business is open m t w\n"
     ]
    },
    {
     "data": {
      "text/plain": [
       "str"
      ]
     },
     "execution_count": 31,
     "metadata": {},
     "output_type": "execute_result"
    }
   ],
   "source": [
    "myEmployees = input(\"Hey boss, please enter employee names, seperated by a comma:\")\n",
    "myEmployees = myEmployees.split(\", \")\n",
    "daysOpen = input(\"Ok boss, now please enter the days the business is open\")\n",
    "#daysOpen = daysOpen.split()\n",
    "\n",
    "type(myEmployees)"
   ]
  },
  {
   "cell_type": "code",
   "execution_count": 15,
   "metadata": {},
   "outputs": [
    {
     "data": {
      "text/plain": [
       "['a', 'b', 'c', 'd', 'e', 'f', 'g']"
      ]
     },
     "execution_count": 15,
     "metadata": {},
     "output_type": "execute_result"
    }
   ],
   "source": [
    "for employee in myEmployees: \n",
    "    dayIndex = int(myEmployees.index(employee))%len(daysOpen)\n",
    "    print(employee, \" works on \", daysOpen[dayIndex])"
   ]
  },
  {
   "cell_type": "code",
   "execution_count": 33,
   "metadata": {},
   "outputs": [
    {
     "name": "stdin",
     "output_type": "stream",
     "text": [
      "Hey boss, how many employees are there? 5\n",
      "Name alissa\n",
      "Name john\n",
      "Name karen\n",
      "Name jake\n",
      "Name steve\n"
     ]
    }
   ],
   "source": [
    "numEmployees = input(\"Hey boss, how many employees are there?\")\n",
    "myEmployees = []\n",
    "\n",
    "for employee in range(int(numEmployees)):\n",
    "    myEmployees.append(input(\"Name\"))"
   ]
  },
  {
   "cell_type": "code",
   "execution_count": 5,
   "metadata": {},
   "outputs": [
    {
     "data": {
      "text/plain": [
       "0.10479785505289951"
      ]
     },
     "execution_count": 5,
     "metadata": {},
     "output_type": "execute_result"
    }
   ],
   "source": [
    "import random\n",
    "\n",
    "random.random()"
   ]
  },
  {
   "cell_type": "code",
   "execution_count": 43,
   "metadata": {},
   "outputs": [],
   "source": [
    "import random\n",
    "import math\n",
    "\n",
    "def monteCarlo(n):\n",
    "    x = 0\n",
    "    y = 0\n",
    "    for i in range(n):\n",
    "        rando = random.random()\n",
    "        if rando < .25:\n",
    "            x +=1\n",
    "        elif rando>=.25 and rando<.5:\n",
    "            y +=1\n",
    "        elif rando>=.5 and rando <.75:\n",
    "            x -=1\n",
    "        else:\n",
    "            y -=1\n",
    "    return(math.sqrt(x**2+y**2))\n",
    "\n"
   ]
  },
  {
   "cell_type": "code",
   "execution_count": 72,
   "metadata": {},
   "outputs": [],
   "source": [
    "def avgMonteCarloDist(steps, n):\n",
    "    distances = 0\n",
    "    for i in range(n):\n",
    "            distances += monteCarlo(steps)\n",
    "    return(distances/n)\n",
    "    "
   ]
  },
  {
   "cell_type": "code",
   "execution_count": null,
   "metadata": {},
   "outputs": [],
   "source": [
    "avgDists = []\n",
    "\n",
    "for i in range(10000):\n",
    "    avgDists.append(avgMonteCarloDist(i, 50))\n",
    "    if i%100==0:\n",
    "        print(i)"
   ]
  },
  {
   "cell_type": "code",
   "execution_count": 143,
   "metadata": {},
   "outputs": [],
   "source": [
    "import matplotlib as mpl\n",
    "mpl.rcParams['figure.dpi'] = 120"
   ]
  },
  {
   "cell_type": "code",
   "execution_count": 144,
   "metadata": {},
   "outputs": [
    {
     "name": "stdout",
     "output_type": "stream",
     "text": [
      "9990\n"
     ]
    },
    {
     "data": {
      "text/plain": [
       "<matplotlib.legend.Legend at 0x12db26940>"
      ]
     },
     "execution_count": 144,
     "metadata": {},
     "output_type": "execute_result"
    },
    {
     "data": {
      "image/png": "[encoded data removed]",
      "text/plain": [
       "<Figure size 720x480 with 1 Axes>"
      ]
     },
     "metadata": {
      "needs_background": "light"
     },
     "output_type": "display_data"
    }
   ],
   "source": [
    "smoothDists = []\n",
    "\n",
    "smoother = 10\n",
    "\n",
    "for i in range(10000-smoother):\n",
    "    smoothDists.append(sum(avgDists[i:i+smoother])/smoother)\n",
    "\n",
    "print(len(smoothDists))   \n",
    "    \n",
    "import math\n",
    "\n",
    "pyplot.plot(list(range(10000-smoother)), smoothDists, label=\"Random Walk Distances\")\n",
    "sqrts = []\n",
    "for i in range(10000-smoother):\n",
    "    sqrts.append(math.sqrt(i)/1.13)\n",
    "    \n",
    "pyplot.plot(list(range(10000-smoother)), sqrts, label=\"sqrt(n)\")\n",
    "pyplot.xlabel(\"Number of steps in walk\")\n",
    "pyplot.ylabel(\"Distance\")\n",
    "pyplot.legend()"
   ]
  },
  {
   "cell_type": "code",
   "execution_count": null,
   "metadata": {},
   "outputs": [],
   "source": [
    "def monteSimulation(n):\n",
    "    distances = []\n",
    "    for i in range(n):\n",
    "        distances.append(monteCarlo(100))\n",
    "    return(distances)\n"
   ]
  },
  {
   "cell_type": "code",
   "execution_count": 41,
   "metadata": {},
   "outputs": [],
   "source": [
    "results = monteSimulation(10000)\n",
    "\n"
   ]
  },
  {
   "cell_type": "code",
   "execution_count": 46,
   "metadata": {},
   "outputs": [
    {
     "ename": "NameError",
     "evalue": "name 'mean' is not defined",
     "output_type": "error",
     "traceback": [
      "\u001b[0;31m---------------------------------------------------------------------------\u001b[0m",
      "\u001b[0;31mNameError\u001b[0m                                 Traceback (most recent call last)",
      "\u001b[0;32m<ipython-input-46-852162fdf90b>\u001b[0m in \u001b[0;36m<module>\u001b[0;34m\u001b[0m\n\u001b[0;32m----> 1\u001b[0;31m \u001b[0mmean\u001b[0m\u001b[0;34m(\u001b[0m\u001b[0;34m[\u001b[0m\u001b[0;36m1\u001b[0m\u001b[0;34m,\u001b[0m\u001b[0;36m2\u001b[0m\u001b[0;34m,\u001b[0m\u001b[0;36m3\u001b[0m\u001b[0;34m,\u001b[0m\u001b[0;36m5\u001b[0m\u001b[0;34m]\u001b[0m\u001b[0;34m)\u001b[0m\u001b[0;34m\u001b[0m\u001b[0;34m\u001b[0m\u001b[0m\n\u001b[0m",
      "\u001b[0;31mNameError\u001b[0m: name 'mean' is not defined"
     ]
    }
   ],
   "source": []
  },
  {
   "cell_type": "code",
   "execution_count": 42,
   "metadata": {},
   "outputs": [
    {
     "data": {
      "text/plain": [
       "(array([2.920e+02, 9.100e+02, 8.140e+02, 1.458e+03, 1.235e+03, 1.319e+03,\n",
       "        1.045e+03, 1.026e+03, 6.760e+02, 4.670e+02, 3.400e+02, 1.950e+02,\n",
       "        1.160e+02, 5.900e+01, 2.200e+01, 1.500e+01, 7.000e+00, 1.000e+00,\n",
       "        2.000e+00, 1.000e+00]),\n",
       " array([ 0.        ,  1.61245155,  3.2249031 ,  4.83735465,  6.4498062 ,\n",
       "         8.06225775,  9.6747093 , 11.28716085, 12.8996124 , 14.51206395,\n",
       "        16.1245155 , 17.73696705, 19.3494186 , 20.96187015, 22.5743217 ,\n",
       "        24.18677324, 25.79922479, 27.41167634, 29.02412789, 30.63657944,\n",
       "        32.24903099]),\n",
       " <a list of 20 Patch objects>)"
      ]
     },
     "execution_count": 42,
     "metadata": {},
     "output_type": "execute_result"
    },
    {
     "data": {
      "image/png": "[encoded data removed]",
      "text/plain": [
       "<Figure size 432x288 with 1 Axes>"
      ]
     },
     "metadata": {
      "needs_background": "light"
     },
     "output_type": "display_data"
    }
   ],
   "source": [
    "import matplotlib.pyplot as pyplot\n",
    "pyplot.hist(results, 20)\n"
   ]
  },
  {
   "cell_type": "code",
   "execution_count": null,
   "metadata": {},
   "outputs": [
    {
     "name": "stdout",
     "output_type": "stream",
     "text": [
      "0\n",
      "100\n",
      "200\n",
      "300\n",
      "400\n",
      "500\n",
      "600\n",
      "700\n",
      "800\n",
      "900\n"
     ]
    }
   ],
   "source": [
    "import turtle\n",
    "import numpy\n",
    "import random\n",
    "\n",
    "bob = turtle.Turtle()\n",
    "bob.speed(0)\n",
    "\n",
    "for i in range(10000):\n",
    "    rando = random.random()\n",
    "    bob.setheading(rando*360)\n",
    "    bob.forward(10)\n",
    "    if i%100==0:\n",
    "        print(i)\n",
    "    \n",
    "    "
   ]
  },
  {
   "cell_type": "code",
   "execution_count": 1,
   "metadata": {},
   "outputs": [
    {
     "ename": "AttributeError",
     "evalue": "'builtin_function_or_method' object has no attribute 'normal'",
     "output_type": "error",
     "traceback": [
      "\u001b[0;31m---------------------------------------------------------------------------\u001b[0m",
      "\u001b[0;31mAttributeError\u001b[0m                            Traceback (most recent call last)",
      "\u001b[0;32m<ipython-input-1-238b5c7119f9>\u001b[0m in \u001b[0;36m<module>\u001b[0;34m\u001b[0m\n\u001b[1;32m      1\u001b[0m \u001b[0;32mimport\u001b[0m \u001b[0mrandom\u001b[0m\u001b[0;34m\u001b[0m\u001b[0;34m\u001b[0m\u001b[0m\n\u001b[1;32m      2\u001b[0m \u001b[0;34m\u001b[0m\u001b[0m\n\u001b[0;32m----> 3\u001b[0;31m \u001b[0mrandom\u001b[0m\u001b[0;34m.\u001b[0m\u001b[0mrandom\u001b[0m\u001b[0;34m.\u001b[0m\u001b[0mnormal\u001b[0m\u001b[0;34m(\u001b[0m\u001b[0;34m)\u001b[0m\u001b[0;34m\u001b[0m\u001b[0;34m\u001b[0m\u001b[0m\n\u001b[0m",
      "\u001b[0;31mAttributeError\u001b[0m: 'builtin_function_or_method' object has no attribute 'normal'"
     ]
    }
   ],
   "source": [
    "import random\n",
    "\n",
    "random.random.normal()"
   ]
  },
  {
   "cell_type": "code",
   "execution_count": 34,
   "metadata": {},
   "outputs": [],
   "source": [
    "from scipy.stats import chi2\n",
    "\n",
    "chi2vals = []\n",
    "for i in range(0,300):\n",
    "    chi2vals.append(chi2.pdf(i, 60))"
   ]
  },
  {
   "cell_type": "code",
   "execution_count": 35,
   "metadata": {},
   "outputs": [
    {
     "data": {
      "text/plain": [
       "[<matplotlib.lines.Line2D at 0x124071040>]"
      ]
     },
     "execution_count": 35,
     "metadata": {},
     "output_type": "execute_result"
    },
    {
     "data": {
      "image/png": "[encoded data removed]",
      "text/plain": [
       "<Figure size 432x288 with 1 Axes>"
      ]
     },
     "metadata": {
      "needs_background": "light"
     },
     "output_type": "display_data"
    }
   ],
   "source": [
    "pyplot.plot(list(range(300)), chi2vals)"
   ]
  },
  {
   "cell_type": "markdown",
   "metadata": {},
   "source": [
    "p = .84 people who say yes\n",
    "\n",
    "n = 7, \n",
    "\n",
    "1.645 = x - .84 / sqrt(.84*1-.84)/7"
   ]
  },
  {
   "cell_type": "code",
   "execution_count": 131,
   "metadata": {},
   "outputs": [],
   "source": [
    "from scipy.stats import norm"
   ]
  },
  {
   "cell_type": "code",
   "execution_count": 137,
   "metadata": {},
   "outputs": [
    {
     "data": {
      "text/plain": [
       "1.6448536269514722"
      ]
     },
     "execution_count": 137,
     "metadata": {},
     "output_type": "execute_result"
    }
   ],
   "source": [
    "norm.ppf(.95)"
   ]
  },
  {
   "cell_type": "code",
   "execution_count": 140,
   "metadata": {},
   "outputs": [
    {
     "name": "stdout",
     "output_type": "stream",
     "text": [
      "0.7308942503757281\n",
      "-0.2538431099464171\n",
      "-0.21205703147253313\n",
      "1.0809831735672986\n",
      "0.9510332994936672\n",
      "-0.4703386556604624\n",
      "-0.3946151575155297\n",
      "1.3389734478414081\n",
      "1.7739895211954462\n",
      "1.0509842109366943\n"
     ]
    }
   ],
   "source": [
    "for i in range(10):\n",
    "    print(norm.rvs())"
   ]
  },
  {
   "cell_type": "code",
   "execution_count": 146,
   "metadata": {},
   "outputs": [
    {
     "data": {
      "text/plain": [
       "array([0.35206533, 0.3332246 , 0.31225393, 0.28969155])"
      ]
     },
     "execution_count": 146,
     "metadata": {},
     "output_type": "execute_result"
    }
   ],
   "source": [
    "norm.pdf([.5,.6,.7,.8])"
   ]
  },
  {
   "cell_type": "code",
   "execution_count": 147,
   "metadata": {},
   "outputs": [
    {
     "data": {
      "text/plain": [
       "<scipy.stats._distn_infrastructure.rv_frozen at 0x12cc94ee0>"
      ]
     },
     "execution_count": 147,
     "metadata": {},
     "output_type": "execute_result"
    }
   ],
   "source": [
    "norm(3, 45)"
   ]
  },
  {
   "cell_type": "code",
   "execution_count": 149,
   "metadata": {},
   "outputs": [],
   "source": [
    "import scipy.stats\n"
   ]
  },
  {
   "cell_type": "code",
   "execution_count": 150,
   "metadata": {},
   "outputs": [],
   "source": [
    "import matplotlib.pyplot"
   ]
  },
  {
   "cell_type": "code",
   "execution_count": 151,
   "metadata": {},
   "outputs": [
    {
     "data": {
      "text/plain": [
       "[<matplotlib.lines.Line2D at 0x12d97a760>]"
      ]
     },
     "execution_count": 151,
     "metadata": {},
     "output_type": "execute_result"
    },
    {
     "data": {
      "image/png": "[encoded data removed]",
      "text/plain": [
       "<Figure size 720x480 with 1 Axes>"
      ]
     },
     "metadata": {
      "needs_background": "light"
     },
     "output_type": "display_data"
    }
   ],
   "source": [
    "matplotlib.pyplot.plot([1,2], [3, 5])"
   ]
  },
  {
   "cell_type": "code",
   "execution_count": 154,
   "metadata": {},
   "outputs": [
    {
     "data": {
      "text/plain": [
       "0.14308616901422933"
      ]
     },
     "execution_count": 154,
     "metadata": {},
     "output_type": "execute_result"
    }
   ],
   "source": [
    "scipy.stats.norm.rvs()"
   ]
  },
  {
   "cell_type": "code",
   "execution_count": 167,
   "metadata": {},
   "outputs": [],
   "source": [
    "rnorm = scipy.stats.norm.rvs\n",
    "qnorm = scipy.stats.norm.ppf\n",
    "pnorm = scipy.stats.norm.cdf"
   ]
  },
  {
   "cell_type": "code",
   "execution_count": 170,
   "metadata": {},
   "outputs": [
    {
     "data": {
      "text/plain": [
       "array([ 0.14539846,  0.07988739, -0.08161464, -0.85804499, -0.55389264,\n",
       "       -0.14125254, -0.87583646,  0.60501163, -1.73388323, -0.44745454])"
      ]
     },
     "execution_count": 170,
     "metadata": {},
     "output_type": "execute_result"
    }
   ],
   "source": [
    "rnorm(size=10)"
   ]
  },
  {
   "cell_type": "code",
   "execution_count": null,
   "metadata": {},
   "outputs": [],
   "source": []
  }
 ],
 "metadata": {
  "kernelspec": {
   "display_name": "Python 3",
   "language": "python",
   "name": "python3"
  },
  "language_info": {
   "codemirror_mode": {
    "name": "ipython",
    "version": 3
   },
   "file_extension": ".py",
   "mimetype": "text/x-python",
   "name": "python",
   "nbconvert_exporter": "python",
   "pygments_lexer": "ipython3",
   "version": "3.8.3"
  }
 },
 "nbformat": 4,
 "nbformat_minor": 4
}
