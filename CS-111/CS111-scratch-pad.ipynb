{
 "cells": [
  {
   "cell_type": "code",
   "execution_count": null,
   "metadata": {},
   "outputs": [],
   "source": [
    "\n",
    "import turtle\n",
    "import random\n",
    "\n",
    "george = turtle.Turtle()\n",
    "\n",
    "\n",
    "george.pencolor(\"red\")\n",
    "george.fillcolor(\"yellow\")\n",
    "\n",
    "screen = george.getscreen()\n",
    "\n",
    "george.speed(0)\n",
    "\n",
    "\n",
    "def makePoly(n, length):\n",
    "    angle = (n-2)*180/n\n",
    "    for i in range(n):\n",
    "        george.forward(length/n)\n",
    "        george.left(180-angle)\n",
    "\n",
    "def newBloom(x,y):\n",
    "    george.penup()\n",
    "    george.goto(x,y)\n",
    "    george.pendown()\n",
    "    george.setheading(0)\n",
    "    george.pencolor(\"black\")\n",
    "    george.fillcolor(random.choice([\"limegreen\", \"violet\", \"aqua\", \"yellow\", \"blue\", \"purple\", \"red\", \"pink\", \"orange\", \"brown\", \"deeppink\", \"coral\"]))\n",
    "    sideLength = random.randrange(20,200)\n",
    "    george.begin_fill()\n",
    "    length = random.randrange(200,700)\n",
    "    n = random.randrange(3,8)\n",
    "    makePoly(n, length)\n",
    "    george.end_fill()\n",
    "\n",
    "\n",
    "\n",
    "    \n",
    "def square(heading):\n",
    "    george.setheading(heading)\n",
    "    for i in range(2):\n",
    "        george.forward(100)\n",
    "        george.left(90)\n",
    "        george.forward(150)\n",
    "        george.left(90)\n",
    "    \n",
    "    \n",
    "#for i in range(225):\n",
    "#    if i%10==0:\n",
    "#        square(i)\n",
    "        \n",
    "george.pencolor(\"black\")\n",
    "\n",
    "\n",
    "def pentagram():\n",
    "    for i in range(50):\n",
    "        george.forward(50+20*i)\n",
    "        george.left(180-36)\n",
    "        \n",
    "\n",
    "pentagram()\n",
    "        \n",
    "#screen.onclick(newBloom)\n",
    "\n",
    "turtle.mainloop()\n"
   ]
  },
  {
   "cell_type": "code",
   "execution_count": null,
   "metadata": {},
   "outputs": [],
   "source": []
  },
  {
   "cell_type": "code",
   "execution_count": 3,
   "metadata": {},
   "outputs": [
    {
     "data": {
      "text/plain": [
       "str"
      ]
     },
     "execution_count": 3,
     "metadata": {},
     "output_type": "execute_result"
    }
   ],
   "source": [
    "type(random.choice([\"yellow\", \"blue\"]))"
   ]
  },
  {
   "cell_type": "code",
   "execution_count": 1,
   "metadata": {},
   "outputs": [],
   "source": [
    "import turtle\n",
    "\n",
    "bob=turtle.Turtle()\n",
    "\n",
    "def makeSquare(t, h, x, y, length, fillColor):\n",
    "    t.penup()\n",
    "    t.goto(x,y)\n",
    "    t.pendown()\n",
    "    t.setheading(h)\n",
    "    t.fillcolor(fillColor)\n",
    "    t.begin_fill()\n",
    "    for i in range(4):\n",
    "        t.forward(length)\n",
    "        t.left(90)\n",
    "    t.end_fill()\n",
    "    \n",
    "def makeTriangle(t, h, x, y, length, fillColor):\n",
    "    t.penup()\n",
    "    t.goto(x,y)\n",
    "    t.pendown()\n",
    "    t.setheading(h)\n",
    "    t.fillcolor(fillColor)\n",
    "    t.begin_fill()\n",
    "    for i in range(3):\n",
    "        t.forward(length)\n",
    "        t.left(120)\n",
    "    t.end_fill()\n",
    "   \n",
    "\n",
    "        \n",
    "for i in range(81):\n",
    "    if i%20==0:\n",
    "        makeTriangle(bob,0,i,0,200,\"Tomato\")\n",
    "    \n",
    "#for i in range(80):\n",
    "#    if i%20==0:\n",
    "#        makeTriangle(bob, 0, i, 10, 200-2*i, \"aquamarine\")\n",
    "        \n",
    "   \n",
    "\n"
   ]
  },
  {
   "cell_type": "code",
   "execution_count": null,
   "metadata": {},
   "outputs": [],
   "source": []
  },
  {
   "cell_type": "code",
   "execution_count": 2,
   "metadata": {},
   "outputs": [
    {
     "data": {
      "text/plain": [
       "[<matplotlib.lines.Line2D at 0x11d8d12e0>]"
      ]
     },
     "execution_count": 2,
     "metadata": {},
     "output_type": "execute_result"
    },
    {
     "data": {
      "image/png": "[encoded data removed]",
      "text/plain": [
       "<Figure size 432x288 with 1 Axes>"
      ]
     },
     "metadata": {
      "needs_background": "light"
     },
     "output_type": "display_data"
    }
   ],
   "source": [
    "import matplotlib.pyplot as pyplot\n",
    "\n",
    "pyplot.plot([1,2,3], [4,5,6])"
   ]
  },
  {
   "cell_type": "code",
   "execution_count": 1,
   "metadata": {},
   "outputs": [],
   "source": [
    "import turtle\n",
    "\n",
    "bob = turtle.Turtle()\n",
    "\n",
    "for i in range(3):\n",
    "    bob.forward(100)\n",
    "    bob.left(180-60)"
   ]
  },
  {
   "cell_type": "code",
   "execution_count": null,
   "metadata": {},
   "outputs": [],
   "source": []
  },
  {
   "cell_type": "markdown",
   "metadata": {},
   "source": [
    "Goal: swap x and y`\n",
    "\n",
    "x = y\n",
    "y = x"
   ]
  },
  {
   "cell_type": "code",
   "execution_count": 9,
   "metadata": {},
   "outputs": [],
   "source": [
    "x = \"thingie 1\"\n",
    "y = \"thinigie 2\"\n",
    "\n"
   ]
  },
  {
   "cell_type": "code",
   "execution_count": 10,
   "metadata": {},
   "outputs": [
    {
     "name": "stdout",
     "output_type": "stream",
     "text": [
      "thinigie 2 thinigie 2\n"
     ]
    }
   ],
   "source": [
    "x = y\n",
    "# right now, both x and y are \"thingie 2\"\n",
    "y = x\n",
    "\n",
    "# idea: we need some other variable store the value of x\n",
    "\n",
    "\n",
    "\n",
    "print(x,y)"
   ]
  },
  {
   "cell_type": "code",
   "execution_count": 8,
   "metadata": {},
   "outputs": [
    {
     "name": "stdout",
     "output_type": "stream",
     "text": [
      "thinigie 2 thingie 1\n"
     ]
    }
   ],
   "source": [
    "temp = y\n",
    "y = x\n",
    "x = temp\n",
    "\n",
    "print(x,y)\n"
   ]
  },
  {
   "cell_type": "code",
   "execution_count": 31,
   "metadata": {},
   "outputs": [
    {
     "name": "stdin",
     "output_type": "stream",
     "text": [
      "Hey boss, please enter employee names, seperated by a space: a b c d e f\n",
      "Ok boss, now please enter the days the business is open m t w\n"
     ]
    },
    {
     "data": {
      "text/plain": [
       "str"
      ]
     },
     "execution_count": 31,
     "metadata": {},
     "output_type": "execute_result"
    }
   ],
   "source": [
    "myEmployees = input(\"Hey boss, please enter employee names, seperated by a comma:\")\n",
    "myEmployees = myEmployees.split(\", \")\n",
    "daysOpen = input(\"Ok boss, now please enter the days the business is open\")\n",
    "#daysOpen = daysOpen.split()\n",
    "\n",
    "type(myEmployees)"
   ]
  },
  {
   "cell_type": "code",
   "execution_count": 15,
   "metadata": {},
   "outputs": [
    {
     "data": {
      "text/plain": [
       "['a', 'b', 'c', 'd', 'e', 'f', 'g']"
      ]
     },
     "execution_count": 15,
     "metadata": {},
     "output_type": "execute_result"
    }
   ],
   "source": [
    "for employee in myEmployees: \n",
    "    dayIndex = int(myEmployees.index(employee))%len(daysOpen)\n",
    "    print(employee, \" works on \", daysOpen[dayIndex])"
   ]
  },
  {
   "cell_type": "code",
   "execution_count": 33,
   "metadata": {},
   "outputs": [
    {
     "name": "stdin",
     "output_type": "stream",
     "text": [
      "Hey boss, how many employees are there? 5\n",
      "Name alissa\n",
      "Name john\n",
      "Name karen\n",
      "Name jake\n",
      "Name steve\n"
     ]
    }
   ],
   "source": [
    "numEmployees = input(\"Hey boss, how many employees are there?\")\n",
    "myEmployees = []\n",
    "\n",
    "for employee in range(int(numEmployees)):\n",
    "    myEmployees.append(input(\"Name\"))"
   ]
  },
  {
   "cell_type": "code",
   "execution_count": 5,
   "metadata": {},
   "outputs": [
    {
     "data": {
      "text/plain": [
       "0.10479785505289951"
      ]
     },
     "execution_count": 5,
     "metadata": {},
     "output_type": "execute_result"
    }
   ],
   "source": [
    "import random\n",
    "\n",
    "random.random()"
   ]
  },
  {
   "cell_type": "code",
   "execution_count": 43,
   "metadata": {},
   "outputs": [],
   "source": [
    "import random\n",
    "import math\n",
    "\n",
    "def monteCarlo(n):\n",
    "    x = 0\n",
    "    y = 0\n",
    "    for i in range(n):\n",
    "        rando = random.random()\n",
    "        if rando < .25:\n",
    "            x +=1\n",
    "        elif rando>=.25 and rando<.5:\n",
    "            y +=1\n",
    "        elif rando>=.5 and rando <.75:\n",
    "            x -=1\n",
    "        else:\n",
    "            y -=1\n",
    "    return(math.sqrt(x**2+y**2))\n",
    "\n"
   ]
  },
  {
   "cell_type": "code",
   "execution_count": 72,
   "metadata": {},
   "outputs": [],
   "source": [
    "def avgMonteCarloDist(steps, n):\n",
    "    distances = 0\n",
    "    for i in range(n):\n",
    "            distances += monteCarlo(steps)\n",
    "    return(distances/n)\n",
    "    "
   ]
  },
  {
   "cell_type": "code",
   "execution_count": null,
   "metadata": {},
   "outputs": [],
   "source": [
    "avgDists = []\n",
    "\n",
    "for i in range(10000):\n",
    "    avgDists.append(avgMonteCarloDist(i, 50))\n",
    "    if i%100==0:\n",
    "        print(i)"
   ]
  },
  {
   "cell_type": "code",
   "execution_count": 143,
   "metadata": {},
   "outputs": [],
   "source": [
    "import matplotlib as mpl\n",
    "mpl.rcParams['figure.dpi'] = 120"
   ]
  },
  {
   "cell_type": "code",
   "execution_count": 144,
   "metadata": {},
   "outputs": [
    {
     "name": "stdout",
     "output_type": "stream",
     "text": [
      "9990\n"
     ]
    },
    {
     "data": {
      "text/plain": [
       "<matplotlib.legend.Legend at 0x12db26940>"
      ]
     },
     "execution_count": 144,
     "metadata": {},
     "output_type": "execute_result"
    },
    {
     "data": {
      "image/png": "[encoded data removed]",
      "text/plain": [
       "<Figure size 720x480 with 1 Axes>"
      ]
     },
     "metadata": {
      "needs_background": "light"
     },
     "output_type": "display_data"
    }
   ],
   "source": [
    "smoothDists = []\n",
    "\n",
    "smoother = 10\n",
    "\n",
    "for i in range(10000-smoother):\n",
    "    smoothDists.append(sum(avgDists[i:i+smoother])/smoother)\n",
    "\n",
    "print(len(smoothDists))   \n",
    "    \n",
    "import math\n",
    "\n",
    "pyplot.plot(list(range(10000-smoother)), smoothDists, label=\"Random Walk Distances\")\n",
    "sqrts = []\n",
    "for i in range(10000-smoother):\n",
    "    sqrts.append(math.sqrt(i)/1.13)\n",
    "    \n",
    "pyplot.plot(list(range(10000-smoother)), sqrts, label=\"sqrt(n)\")\n",
    "pyplot.xlabel(\"Number of steps in walk\")\n",
    "pyplot.ylabel(\"Distance\")\n",
    "pyplot.legend()"
   ]
  },
  {
   "cell_type": "code",
   "execution_count": null,
   "metadata": {},
   "outputs": [],
   "source": [
    "def monteSimulation(n):\n",
    "    distances = []\n",
    "    for i in range(n):\n",
    "        distances.append(monteCarlo(100))\n",
    "    return(distances)\n"
   ]
  },
  {
   "cell_type": "code",
   "execution_count": 41,
   "metadata": {},
   "outputs": [],
   "source": [
    "results = monteSimulation(10000)\n",
    "\n"
   ]
  },
  {
   "cell_type": "code",
   "execution_count": 46,
   "metadata": {},
   "outputs": [
    {
     "ename": "NameError",
     "evalue": "name 'mean' is not defined",
     "output_type": "error",
     "traceback": [
      "\u001b[0;31m---------------------------------------------------------------------------\u001b[0m",
      "\u001b[0;31mNameError\u001b[0m                                 Traceback (most recent call last)",
      "\u001b[0;32m<ipython-input-46-852162fdf90b>\u001b[0m in \u001b[0;36m<module>\u001b[0;34m\u001b[0m\n\u001b[0;32m----> 1\u001b[0;31m \u001b[0mmean\u001b[0m\u001b[0;34m(\u001b[0m\u001b[0;34m[\u001b[0m\u001b[0;36m1\u001b[0m\u001b[0;34m,\u001b[0m\u001b[0;36m2\u001b[0m\u001b[0;34m,\u001b[0m\u001b[0;36m3\u001b[0m\u001b[0;34m,\u001b[0m\u001b[0;36m5\u001b[0m\u001b[0;34m]\u001b[0m\u001b[0;34m)\u001b[0m\u001b[0;34m\u001b[0m\u001b[0;34m\u001b[0m\u001b[0m\n\u001b[0m",
      "\u001b[0;31mNameError\u001b[0m: name 'mean' is not defined"
     ]
    }
   ],
   "source": []
  },
  {
   "cell_type": "code",
   "execution_count": 42,
   "metadata": {},
   "outputs": [
    {
     "data": {
      "text/plain": [
       "(array([2.920e+02, 9.100e+02, 8.140e+02, 1.458e+03, 1.235e+03, 1.319e+03,\n",
       "        1.045e+03, 1.026e+03, 6.760e+02, 4.670e+02, 3.400e+02, 1.950e+02,\n",
       "        1.160e+02, 5.900e+01, 2.200e+01, 1.500e+01, 7.000e+00, 1.000e+00,\n",
       "        2.000e+00, 1.000e+00]),\n",
       " array([ 0.        ,  1.61245155,  3.2249031 ,  4.83735465,  6.4498062 ,\n",
       "         8.06225775,  9.6747093 , 11.28716085, 12.8996124 , 14.51206395,\n",
       "        16.1245155 , 17.73696705, 19.3494186 , 20.96187015, 22.5743217 ,\n",
       "        24.18677324, 25.79922479, 27.41167634, 29.02412789, 30.63657944,\n",
       "        32.24903099]),\n",
       " <a list of 20 Patch objects>)"
      ]
     },
     "execution_count": 42,
     "metadata": {},
     "output_type": "execute_result"
    },
    {
     "data": {
      "image/png": "[encoded data removed]",
      "text/plain": [
       "<Figure size 432x288 with 1 Axes>"
      ]
     },
     "metadata": {
      "needs_background": "light"
     },
     "output_type": "display_data"
    }
   ],
   "source": [
    "import matplotlib.pyplot as pyplot\n",
    "pyplot.hist(results, 20)\n"
   ]
  },
  {
   "cell_type": "code",
   "execution_count": null,
   "metadata": {},
   "outputs": [
    {
     "name": "stdout",
     "output_type": "stream",
     "text": [
      "0\n",
      "100\n",
      "200\n",
      "300\n",
      "400\n",
      "500\n",
      "600\n",
      "700\n",
      "800\n",
      "900\n"
     ]
    }
   ],
   "source": [
    "import turtle\n",
    "import numpy\n",
    "import random\n",
    "\n",
    "bob = turtle.Turtle()\n",
    "bob.speed(0)\n",
    "\n",
    "for i in range(10000):\n",
    "    rando = random.random()\n",
    "    bob.setheading(rando*360)\n",
    "    bob.forward(10)\n",
    "    if i%100==0:\n",
    "        print(i)\n",
    "    \n",
    "    "
   ]
  },
  {
   "cell_type": "code",
   "execution_count": 1,
   "metadata": {},
   "outputs": [
    {
     "ename": "AttributeError",
     "evalue": "'builtin_function_or_method' object has no attribute 'normal'",
     "output_type": "error",
     "traceback": [
      "\u001b[0;31m---------------------------------------------------------------------------\u001b[0m",
      "\u001b[0;31mAttributeError\u001b[0m                            Traceback (most recent call last)",
      "\u001b[0;32m<ipython-input-1-238b5c7119f9>\u001b[0m in \u001b[0;36m<module>\u001b[0;34m\u001b[0m\n\u001b[1;32m      1\u001b[0m \u001b[0;32mimport\u001b[0m \u001b[0mrandom\u001b[0m\u001b[0;34m\u001b[0m\u001b[0;34m\u001b[0m\u001b[0m\n\u001b[1;32m      2\u001b[0m \u001b[0;34m\u001b[0m\u001b[0m\n\u001b[0;32m----> 3\u001b[0;31m \u001b[0mrandom\u001b[0m\u001b[0;34m.\u001b[0m\u001b[0mrandom\u001b[0m\u001b[0;34m.\u001b[0m\u001b[0mnormal\u001b[0m\u001b[0;34m(\u001b[0m\u001b[0;34m)\u001b[0m\u001b[0;34m\u001b[0m\u001b[0;34m\u001b[0m\u001b[0m\n\u001b[0m",
      "\u001b[0;31mAttributeError\u001b[0m: 'builtin_function_or_method' object has no attribute 'normal'"
     ]
    }
   ],
   "source": [
    "import random\n",
    "\n",
    "random.random.normal()"
   ]
  },
  {
   "cell_type": "code",
   "execution_count": 34,
   "metadata": {},
   "outputs": [],
   "source": [
    "from scipy.stats import chi2\n",
    "\n",
    "chi2vals = []\n",
    "for i in range(0,300):\n",
    "    chi2vals.append(chi2.pdf(i, 60))"
   ]
  },
  {
   "cell_type": "code",
   "execution_count": 35,
   "metadata": {},
   "outputs": [
    {
     "data": {
      "text/plain": [
       "[<matplotlib.lines.Line2D at 0x124071040>]"
      ]
     },
     "execution_count": 35,
     "metadata": {},
     "output_type": "execute_result"
    },
    {
     "data": {
      "image/png": "[encoded data removed]",
      "text/plain": [
       "<Figure size 432x288 with 1 Axes>"
      ]
     },
     "metadata": {
      "needs_background": "light"
     },
     "output_type": "display_data"
    }
   ],
   "source": [
    "pyplot.plot(list(range(300)), chi2vals)"
   ]
  },
  {
   "cell_type": "markdown",
   "metadata": {},
   "source": [
    "p = .84 people who say yes\n",
    "\n",
    "n = 7, \n",
    "\n",
    "1.645 = x - .84 / sqrt(.84*1-.84)/7"
   ]
  },
  {
   "cell_type": "code",
   "execution_count": 131,
   "metadata": {},
   "outputs": [],
   "source": [
    "from scipy.stats import norm"
   ]
  },
  {
   "cell_type": "code",
   "execution_count": 137,
   "metadata": {},
   "outputs": [
    {
     "data": {
      "text/plain": [
       "1.6448536269514722"
      ]
     },
     "execution_count": 137,
     "metadata": {},
     "output_type": "execute_result"
    }
   ],
   "source": [
    "norm.ppf(.95)"
   ]
  },
  {
   "cell_type": "code",
   "execution_count": 140,
   "metadata": {},
   "outputs": [
    {
     "name": "stdout",
     "output_type": "stream",
     "text": [
      "0.7308942503757281\n",
      "-0.2538431099464171\n",
      "-0.21205703147253313\n",
      "1.0809831735672986\n",
      "0.9510332994936672\n",
      "-0.4703386556604624\n",
      "-0.3946151575155297\n",
      "1.3389734478414081\n",
      "1.7739895211954462\n",
      "1.0509842109366943\n"
     ]
    }
   ],
   "source": [
    "for i in range(10):\n",
    "    print(norm.rvs())"
   ]
  },
  {
   "cell_type": "code",
   "execution_count": 146,
   "metadata": {},
   "outputs": [
    {
     "data": {
      "text/plain": [
       "array([0.35206533, 0.3332246 , 0.31225393, 0.28969155])"
      ]
     },
     "execution_count": 146,
     "metadata": {},
     "output_type": "execute_result"
    }
   ],
   "source": [
    "norm.pdf([.5,.6,.7,.8])"
   ]
  },
  {
   "cell_type": "code",
   "execution_count": 147,
   "metadata": {},
   "outputs": [
    {
     "data": {
      "text/plain": [
       "<scipy.stats._distn_infrastructure.rv_frozen at 0x12cc94ee0>"
      ]
     },
     "execution_count": 147,
     "metadata": {},
     "output_type": "execute_result"
    }
   ],
   "source": [
    "norm(3, 45)"
   ]
  },
  {
   "cell_type": "code",
   "execution_count": 149,
   "metadata": {},
   "outputs": [],
   "source": [
    "import scipy.stats\n"
   ]
  },
  {
   "cell_type": "code",
   "execution_count": 150,
   "metadata": {},
   "outputs": [],
   "source": [
    "import matplotlib.pyplot"
   ]
  },
  {
   "cell_type": "code",
   "execution_count": 151,
   "metadata": {},
   "outputs": [
    {
     "data": {
      "text/plain": [
       "[<matplotlib.lines.Line2D at 0x12d97a760>]"
      ]
     },
     "execution_count": 151,
     "metadata": {},
     "output_type": "execute_result"
    },
    {
     "data": {
      "image/png": "[encoded data removed]",
      "text/plain": [
       "<Figure size 720x480 with 1 Axes>"
      ]
     },
     "metadata": {
      "needs_background": "light"
     },
     "output_type": "display_data"
    }
   ],
   "source": [
    "matplotlib.pyplot.plot([1,2], [3, 5])"
   ]
  },
  {
   "cell_type": "code",
   "execution_count": 154,
   "metadata": {},
   "outputs": [
    {
     "data": {
      "text/plain": [
       "0.14308616901422933"
      ]
     },
     "execution_count": 154,
     "metadata": {},
     "output_type": "execute_result"
    }
   ],
   "source": [
    "scipy.stats.norm.rvs()"
   ]
  },
  {
   "cell_type": "code",
   "execution_count": 167,
   "metadata": {},
   "outputs": [],
   "source": [
    "rnorm = scipy.stats.norm.rvs\n",
    "qnorm = scipy.stats.norm.ppf\n",
    "pnorm = scipy.stats.norm.cdf"
   ]
  },
  {
   "cell_type": "code",
   "execution_count": 170,
   "metadata": {},
   "outputs": [
    {
     "data": {
      "text/plain": [
       "array([ 0.14539846,  0.07988739, -0.08161464, -0.85804499, -0.55389264,\n",
       "       -0.14125254, -0.87583646,  0.60501163, -1.73388323, -0.44745454])"
      ]
     },
     "execution_count": 170,
     "metadata": {},
     "output_type": "execute_result"
    }
   ],
   "source": [
    "rnorm(size=10)"
   ]
  },
  {
   "cell_type": "code",
   "execution_count": null,
   "metadata": {},
   "outputs": [],
   "source": []
  },
  {
   "cell_type": "code",
   "execution_count": 1,
   "metadata": {},
   "outputs": [],
   "source": [
    "import turtle\n",
    "\n",
    "bob = turtle.Turtle()\n",
    "\n",
    "\n",
    "bob.setheading(90)\n",
    "bob.forward(100)"
   ]
  },
  {
   "cell_type": "markdown",
   "metadata": {},
   "source": [
    "suppose we have:\n",
    "\n",
    "makeSquare(blah blah blah)\n",
    "\n",
    "\n",
    "def spread()\n",
    "    for (you decide):\n",
    "       makeSquare(new heading each time)\n",
    "       \n",
    "  \n",
    "  \n",
    "def spread(shape, blah, blah blah):\n",
    "  if(shape == \"square\"):\n",
    "     do the spread stuff for squares (makeSquare)\n",
    "  else if (shape == \"triangle\"):\n",
    "     do the same stuff for triangles  (makeTriangle)"
   ]
  },
  {
   "cell_type": "code",
   "execution_count": 8,
   "metadata": {},
   "outputs": [],
   "source": [
    "import numpy as np\n",
    "\n",
    "X = np.array([[1,2,3], [3, 7, 8]])\n",
    "A = np.array([[1,1],[1,2], [1,3]])"
   ]
  },
  {
   "cell_type": "code",
   "execution_count": 25,
   "metadata": {},
   "outputs": [],
   "source": [
    "b = np.array([[3],[7],[8]])"
   ]
  },
  {
   "cell_type": "markdown",
   "metadata": {},
   "source": [
    "eqn:  (A^T*A)^(-1)*(A^T)*b"
   ]
  },
  {
   "cell_type": "code",
   "execution_count": 32,
   "metadata": {},
   "outputs": [],
   "source": [
    "ATAinv = np.linalg.inv(A.transpose().dot(A))"
   ]
  },
  {
   "cell_type": "code",
   "execution_count": 34,
   "metadata": {},
   "outputs": [
    {
     "data": {
      "text/plain": [
       "array([[1. ],\n",
       "       [2.5]])"
      ]
     },
     "execution_count": 34,
     "metadata": {},
     "output_type": "execute_result"
    }
   ],
   "source": [
    "ATAinv.dot(A.transpose()).dot(b)"
   ]
  },
  {
   "cell_type": "markdown",
   "metadata": {},
   "source": [
    "Idea: newtons' method\n",
    "\n",
    "m = (f(x+dx) - f(x))/dx\n",
    "\n",
    "\n",
    "x = x0\n",
    "y = f(x_0)\n",
    "\n",
    "y - f(x_0) = m(x-x_0)\n",
    "\n",
    "-f(x_0) = m(x-x_0)\n",
    "\n",
    "-f(x_0)/m + x_0\n",
    "\n",
    "x_i+1 = x_i - f(x_i)/m\n",
    "\n"
   ]
  },
  {
   "cell_type": "code",
   "execution_count": 52,
   "metadata": {},
   "outputs": [],
   "source": [
    "import math\n",
    "\n",
    "def f(x):\n",
    "    return x-math.exp(3)\n",
    "\n",
    "def m(function, x, delta):\n",
    "    return (function(x+delta)-function(x))/delta\n",
    "\n",
    "def nextX(f, x0, delta):\n",
    "    return(x0-f(x0)/m(f,x0,delta))\n",
    "\n"
   ]
  },
  {
   "cell_type": "code",
   "execution_count": 59,
   "metadata": {},
   "outputs": [],
   "source": [
    "def findZero(f, x0, delta, tolerance):\n",
    "    x_i = x0\n",
    "    y_i = f(x0)\n",
    "    print(\"    x     |       y    \")\n",
    "    while(  abs(y_i) > tolerance  ):\n",
    "        fs = \"{0:^9.4f} | {1:^12.8f}\"\n",
    "        print(fs.format(x_i, y_i))\n",
    "        x_i = nextX(f, x_i, delta)\n",
    "        y_i = f(x_i)\n",
    "    print(fs.format(x_i, y_i))\n",
    "    \n",
    "\n",
    "    "
   ]
  },
  {
   "cell_type": "code",
   "execution_count": 60,
   "metadata": {},
   "outputs": [
    {
     "name": "stdout",
     "output_type": "stream",
     "text": [
      "    x     |       y    \n",
      " -2.0000  | -22.08553692\n",
      " 20.0855  | -0.00000000 \n"
     ]
    }
   ],
   "source": [
    "findZero(f, x0=-2, delta=.1, tolerance=.00001)"
   ]
  },
  {
   "cell_type": "code",
   "execution_count": 58,
   "metadata": {},
   "outputs": [
    {
     "data": {
      "text/plain": [
       "3"
      ]
     },
     "execution_count": 58,
     "metadata": {},
     "output_type": "execute_result"
    }
   ],
   "source": [
    "abs(-3)"
   ]
  },
  {
   "cell_type": "code",
   "execution_count": 112,
   "metadata": {},
   "outputs": [
    {
     "data": {
      "text/plain": [
       "249"
      ]
     },
     "execution_count": 112,
     "metadata": {},
     "output_type": "execute_result"
    }
   ],
   "source": [
    "f(5)"
   ]
  },
  {
   "cell_type": "code",
   "execution_count": 113,
   "metadata": {},
   "outputs": [],
   "source": [
    "f = f(5)"
   ]
  },
  {
   "cell_type": "code",
   "execution_count": 114,
   "metadata": {},
   "outputs": [
    {
     "data": {
      "text/plain": [
       "249"
      ]
     },
     "execution_count": 114,
     "metadata": {},
     "output_type": "execute_result"
    }
   ],
   "source": [
    "f"
   ]
  },
  {
   "cell_type": "code",
   "execution_count": 115,
   "metadata": {},
   "outputs": [
    {
     "ename": "TypeError",
     "evalue": "'int' object is not callable",
     "output_type": "error",
     "traceback": [
      "\u001b[0;31m---------------------------------------------------------------------------\u001b[0m",
      "\u001b[0;31mTypeError\u001b[0m                                 Traceback (most recent call last)",
      "\u001b[0;32m<ipython-input-115-77a06593ded7>\u001b[0m in \u001b[0;36m<module>\u001b[0;34m\u001b[0m\n\u001b[0;32m----> 1\u001b[0;31m \u001b[0mf\u001b[0m\u001b[0;34m(\u001b[0m\u001b[0;36m6\u001b[0m\u001b[0;34m)\u001b[0m\u001b[0;34m\u001b[0m\u001b[0;34m\u001b[0m\u001b[0m\n\u001b[0m",
      "\u001b[0;31mTypeError\u001b[0m: 'int' object is not callable"
     ]
    }
   ],
   "source": [
    "f(6)"
   ]
  },
  {
   "cell_type": "code",
   "execution_count": 173,
   "metadata": {},
   "outputs": [],
   "source": [
    "\n"
   ]
  },
  {
   "cell_type": "code",
   "execution_count": 1,
   "metadata": {},
   "outputs": [],
   "source": [
    "import random"
   ]
  },
  {
   "cell_type": "code",
   "execution_count": 18,
   "metadata": {},
   "outputs": [
    {
     "name": "stdout",
     "output_type": "stream",
     "text": [
      "1\n",
      "2\n",
      "0\n",
      "0\n",
      "1\n",
      "0\n",
      "1\n",
      "1\n",
      "2\n",
      "1\n"
     ]
    }
   ],
   "source": [
    "for i in range(10):\n",
    "    print(random.randint(0,2))\n"
   ]
  },
  {
   "cell_type": "code",
   "execution_count": 27,
   "metadata": {},
   "outputs": [],
   "source": [
    "def montyHall(choice, switch):\n",
    "    if choice==2 and switch == True:\n",
    "        return 0\n",
    "    elif choice==2 and switch == False:\n",
    "        return 1\n",
    "    elif choice !=2 and switch == True:\n",
    "        return 1\n",
    "    else:\n",
    "        return 0\n",
    "        \n",
    "    \n",
    "    "
   ]
  },
  {
   "cell_type": "code",
   "execution_count": 75,
   "metadata": {},
   "outputs": [],
   "source": [
    "results = []\n",
    "\n",
    "for i in range(10000000):\n",
    "    choice = random.randint(0,2)\n",
    "    results.append(montyHall(choice, True))\n",
    "    "
   ]
  },
  {
   "cell_type": "code",
   "execution_count": 76,
   "metadata": {},
   "outputs": [],
   "source": [
    "import matplotlib.pyplot as pyplot"
   ]
  },
  {
   "cell_type": "code",
   "execution_count": 79,
   "metadata": {},
   "outputs": [
    {
     "name": "stdout",
     "output_type": "stream",
     "text": [
      "6665887 3334113\n"
     ]
    }
   ],
   "source": [
    "numWins = 0\n",
    "for i in results:\n",
    "    numWins += i\n",
    "    \n",
    "print(numWins, 10000000-numWins)"
   ]
  },
  {
   "cell_type": "code",
   "execution_count": 83,
   "metadata": {},
   "outputs": [
    {
     "data": {
      "text/plain": [
       "0.6587007118081013"
      ]
     },
     "execution_count": 83,
     "metadata": {},
     "output_type": "execute_result"
    }
   ],
   "source": [
    "random.random()"
   ]
  },
  {
   "cell_type": "code",
   "execution_count": 92,
   "metadata": {},
   "outputs": [
    {
     "name": "stdout",
     "output_type": "stream",
     "text": [
      "3.1418772\n"
     ]
    }
   ],
   "source": [
    "import math\n",
    "\n",
    "steps = 10000000\n",
    "\n",
    "insideCircle = []\n",
    "\n",
    "for i in range(steps):\n",
    "    x = random.random()\n",
    "    y = random.random()\n",
    "    d = math.sqrt(x**2+y**2)\n",
    "    if d<=1:\n",
    "        insideCircle.append(1)\n",
    "    else:\n",
    "        insideCircle.append(0)\n",
    "\n",
    "print(sum(insideCircle)*4/steps)\n",
    "    \n",
    "    "
   ]
  },
  {
   "cell_type": "code",
   "execution_count": 97,
   "metadata": {},
   "outputs": [],
   "source": [
    "def f(x):\n",
    "    return 2*x+1"
   ]
  },
  {
   "cell_type": "code",
   "execution_count": 98,
   "metadata": {},
   "outputs": [
    {
     "data": {
      "text/plain": [
       "61"
      ]
     },
     "execution_count": 98,
     "metadata": {},
     "output_type": "execute_result"
    }
   ],
   "source": [
    "import math\n",
    "import matplotlib.pyplot as pyplot\n",
    "\n",
    "def graph(f,x):\n",
    "    x = list()"
   ]
  },
  {
   "cell_type": "code",
   "execution_count": 112,
   "metadata": {},
   "outputs": [
    {
     "ename": "TypeError",
     "evalue": "object of type <class 'float'> cannot be safely interpreted as an integer.",
     "output_type": "error",
     "traceback": [
      "\u001b[0;31m---------------------------------------------------------------------------\u001b[0m",
      "\u001b[0;31mTypeError\u001b[0m                                 Traceback (most recent call last)",
      "\u001b[0;32m~/opt/anaconda3/lib/python3.8/site-packages/numpy/core/function_base.py\u001b[0m in \u001b[0;36mlinspace\u001b[0;34m(start, stop, num, endpoint, retstep, dtype, axis)\u001b[0m\n\u001b[1;32m    116\u001b[0m     \u001b[0;32mtry\u001b[0m\u001b[0;34m:\u001b[0m\u001b[0;34m\u001b[0m\u001b[0;34m\u001b[0m\u001b[0m\n\u001b[0;32m--> 117\u001b[0;31m         \u001b[0mnum\u001b[0m \u001b[0;34m=\u001b[0m \u001b[0moperator\u001b[0m\u001b[0;34m.\u001b[0m\u001b[0mindex\u001b[0m\u001b[0;34m(\u001b[0m\u001b[0mnum\u001b[0m\u001b[0;34m)\u001b[0m\u001b[0;34m\u001b[0m\u001b[0;34m\u001b[0m\u001b[0m\n\u001b[0m\u001b[1;32m    118\u001b[0m     \u001b[0;32mexcept\u001b[0m \u001b[0mTypeError\u001b[0m\u001b[0;34m:\u001b[0m\u001b[0;34m\u001b[0m\u001b[0;34m\u001b[0m\u001b[0m\n",
      "\u001b[0;31mTypeError\u001b[0m: 'float' object cannot be interpreted as an integer",
      "\nDuring handling of the above exception, another exception occurred:\n",
      "\u001b[0;31mTypeError\u001b[0m                                 Traceback (most recent call last)",
      "\u001b[0;32m<ipython-input-112-e5a114807e74>\u001b[0m in \u001b[0;36m<module>\u001b[0;34m\u001b[0m\n\u001b[1;32m      1\u001b[0m \u001b[0;32mimport\u001b[0m \u001b[0mnumpy\u001b[0m\u001b[0;34m\u001b[0m\u001b[0;34m\u001b[0m\u001b[0m\n\u001b[1;32m      2\u001b[0m \u001b[0;34m\u001b[0m\u001b[0m\n\u001b[0;32m----> 3\u001b[0;31m \u001b[0mnumpy\u001b[0m\u001b[0;34m.\u001b[0m\u001b[0mlinspace\u001b[0m\u001b[0;34m(\u001b[0m\u001b[0;36m0.0\u001b[0m\u001b[0;34m,\u001b[0m\u001b[0;36m10.0\u001b[0m\u001b[0;34m,\u001b[0m\u001b[0;36m.2\u001b[0m\u001b[0;34m)\u001b[0m\u001b[0;34m\u001b[0m\u001b[0;34m\u001b[0m\u001b[0m\n\u001b[0m",
      "\u001b[0;32m<__array_function__ internals>\u001b[0m in \u001b[0;36mlinspace\u001b[0;34m(*args, **kwargs)\u001b[0m\n",
      "\u001b[0;32m~/opt/anaconda3/lib/python3.8/site-packages/numpy/core/function_base.py\u001b[0m in \u001b[0;36mlinspace\u001b[0;34m(start, stop, num, endpoint, retstep, dtype, axis)\u001b[0m\n\u001b[1;32m    117\u001b[0m         \u001b[0mnum\u001b[0m \u001b[0;34m=\u001b[0m \u001b[0moperator\u001b[0m\u001b[0;34m.\u001b[0m\u001b[0mindex\u001b[0m\u001b[0;34m(\u001b[0m\u001b[0mnum\u001b[0m\u001b[0;34m)\u001b[0m\u001b[0;34m\u001b[0m\u001b[0;34m\u001b[0m\u001b[0m\n\u001b[1;32m    118\u001b[0m     \u001b[0;32mexcept\u001b[0m \u001b[0mTypeError\u001b[0m\u001b[0;34m:\u001b[0m\u001b[0;34m\u001b[0m\u001b[0;34m\u001b[0m\u001b[0m\n\u001b[0;32m--> 119\u001b[0;31m         raise TypeError(\n\u001b[0m\u001b[1;32m    120\u001b[0m             \u001b[0;34m\"object of type {} cannot be safely interpreted as an integer.\"\u001b[0m\u001b[0;34m\u001b[0m\u001b[0;34m\u001b[0m\u001b[0m\n\u001b[1;32m    121\u001b[0m                 .format(type(num)))\n",
      "\u001b[0;31mTypeError\u001b[0m: object of type <class 'float'> cannot be safely interpreted as an integer."
     ]
    }
   ],
   "source": [
    "import numpy\n",
    "\n",
    "numpy.linspace(0.0,10.0,.2)"
   ]
  },
  {
   "cell_type": "code",
   "execution_count": 133,
   "metadata": {},
   "outputs": [
    {
     "name": "stdout",
     "output_type": "stream",
     "text": [
      "0\n",
      "25\n",
      "50\n",
      "75\n",
      "100\n"
     ]
    }
   ],
   "source": [
    "# 0 25 50 75 100\n",
    "\n",
    "    \n",
    "for i in range(5):\n",
    "    print(i*25)\n",
    "    \n",
    "\n"
   ]
  },
  {
   "cell_type": "code",
   "execution_count": 135,
   "metadata": {},
   "outputs": [
    {
     "name": "stdout",
     "output_type": "stream",
     "text": [
      "0\n",
      "25\n",
      "50\n",
      "75\n",
      "100\n"
     ]
    }
   ],
   "source": [
    "for i in range(101):\n",
    "    if i%25 == 0:\n",
    "        print(i)"
   ]
  },
  {
   "cell_type": "code",
   "execution_count": 138,
   "metadata": {},
   "outputs": [],
   "source": [
    "def main():\n",
    "    length = input(\"Please choose the length.\")\n",
    "    shape = input(\"please choose the shape.\")\n",
    "   "
   ]
  },
  {
   "cell_type": "code",
   "execution_count": 139,
   "metadata": {},
   "outputs": [
    {
     "name": "stdin",
     "output_type": "stream",
     "text": [
      "Please choose the length. 100\n",
      "please choose the shape. square\n"
     ]
    }
   ],
   "source": [
    "main()"
   ]
  },
  {
   "cell_type": "markdown",
   "metadata": {},
   "source": [
    "$$\\frac{dy}{dx} = y$$"
   ]
  },
  {
   "cell_type": "markdown",
   "metadata": {},
   "source": [
    "$$\\rightarrow \\frac{1}{y}\\cdot\\frac{dy}{dx}=1$$"
   ]
  },
  {
   "cell_type": "markdown",
   "metadata": {},
   "source": [
    "$$u = y, du = \\frac{dy}{dx}$$"
   ]
  },
  {
   "cell_type": "markdown",
   "metadata": {},
   "source": [
    "$$\\rightarrow \\int\\frac{1}{u}du =x $$"
   ]
  },
  {
   "cell_type": "markdown",
   "metadata": {},
   "source": [
    "$$\\rightarrow \\ln(u) = x \\rightarrow \\ln(y)=x$$"
   ]
  },
  {
   "cell_type": "markdown",
   "metadata": {},
   "source": [
    "Thus $y=e^x$"
   ]
  },
  {
   "cell_type": "markdown",
   "metadata": {},
   "source": [
    "$$ \\frac{d}{dx}f^-1(x) = \\frac{1}{f'(f^-1(x)}=\\frac{1}{x}$$"
   ]
  },
  {
   "cell_type": "markdown",
   "metadata": {},
   "source": [
    "Since $f'(x) = f(x)$"
   ]
  },
  {
   "cell_type": "markdown",
   "metadata": {},
   "source": [
    "Thus, the inverse of the exponential function has derivative $\\frac{1}{x}$.  We name this function $\\ln(x)$, and thus\n",
    "$$\\ln(x)=\\int_1^x \\frac{1}{t}dt$$"
   ]
  },
  {
   "cell_type": "markdown",
   "metadata": {},
   "source": [
    "Principal:  1000\n",
    "rate = .05 per year\n",
    "\n",
    "\n",
    "I = 1000*.05/12 + 1000*(.05/12)^2+1000*(.05/12)^3 + ...."
   ]
  },
  {
   "cell_type": "markdown",
   "metadata": {},
   "source": [
    "Partial sum:  $$1000\\frac{1-\\left(\\frac{.05}{12}\\right)^n}{1-.05/12}$$"
   ]
  },
  {
   "cell_type": "code",
   "execution_count": 6,
   "metadata": {},
   "outputs": [],
   "source": [
    "\n",
    "\n"
   ]
  },
  {
   "cell_type": "code",
   "execution_count": 8,
   "metadata": {},
   "outputs": [
    {
     "data": {
      "text/plain": [
       "948.6028380418473"
      ]
     },
     "execution_count": 8,
     "metadata": {},
     "output_type": "execute_result"
    }
   ],
   "source": [
    "monthlyPayment(135000, .0325, 15)"
   ]
  },
  {
   "cell_type": "code",
   "execution_count": null,
   "metadata": {},
   "outputs": [],
   "source": []
  },
  {
   "cell_type": "markdown",
   "metadata": {},
   "source": [
    "Current prinicpal = 100,000\n",
    "apr = .05\n",
    "payment = 600\n",
    "\n",
    "interest = 100,000*.05/12\n",
    "\n",
    "new principal after payment = old principal - payment + interest"
   ]
  },
  {
   "cell_type": "code",
   "execution_count": null,
   "metadata": {},
   "outputs": [],
   "source": []
  },
  {
   "cell_type": "code",
   "execution_count": null,
   "metadata": {},
   "outputs": [],
   "source": []
  },
  {
   "cell_type": "code",
   "execution_count": 16,
   "metadata": {},
   "outputs": [],
   "source": [
    "import math\n",
    "\n",
    "def p(x):\n",
    "    return(0*x**5 + 1*x**4 + 0*1*x**3 - 1*x**2 +2*x + 1)\n",
    "\n",
    "def pprime(x):\n",
    "    return(4*x**3-2*x+2)\n",
    "\n",
    "def pdprime(x):\n",
    "    return(12*x**2-2)"
   ]
  },
  {
   "cell_type": "code",
   "execution_count": 17,
   "metadata": {},
   "outputs": [
    {
     "data": {
      "text/plain": [
       "-1"
      ]
     },
     "execution_count": 17,
     "metadata": {},
     "output_type": "execute_result"
    }
   ],
   "source": [
    "p(-1)"
   ]
  },
  {
   "cell_type": "code",
   "execution_count": 18,
   "metadata": {},
   "outputs": [
    {
     "data": {
      "text/plain": [
       "0"
      ]
     },
     "execution_count": 18,
     "metadata": {},
     "output_type": "execute_result"
    }
   ],
   "source": [
    "pprime(-1)"
   ]
  },
  {
   "cell_type": "code",
   "execution_count": 19,
   "metadata": {},
   "outputs": [
    {
     "data": {
      "text/plain": [
       "1"
      ]
     },
     "execution_count": 19,
     "metadata": {},
     "output_type": "execute_result"
    }
   ],
   "source": [
    "p(0)"
   ]
  },
  {
   "cell_type": "code",
   "execution_count": 20,
   "metadata": {},
   "outputs": [
    {
     "data": {
      "text/plain": [
       "-2"
      ]
     },
     "execution_count": 20,
     "metadata": {},
     "output_type": "execute_result"
    }
   ],
   "source": [
    "pdprime(0)"
   ]
  },
  {
   "cell_type": "code",
   "execution_count": 21,
   "metadata": {},
   "outputs": [
    {
     "data": {
      "text/plain": [
       "3"
      ]
     },
     "execution_count": 21,
     "metadata": {},
     "output_type": "execute_result"
    }
   ],
   "source": [
    "p(1)"
   ]
  },
  {
   "cell_type": "code",
   "execution_count": 22,
   "metadata": {},
   "outputs": [
    {
     "data": {
      "text/plain": [
       "4"
      ]
     },
     "execution_count": 22,
     "metadata": {},
     "output_type": "execute_result"
    }
   ],
   "source": [
    "pprime(1)"
   ]
  },
  {
   "cell_type": "code",
   "execution_count": 23,
   "metadata": {},
   "outputs": [],
   "source": [
    "def newInterpolant(x, p, s):\n",
    "    return(p(x)+s*(x**5-2*x**3+x))"
   ]
  },
  {
   "cell_type": "code",
   "execution_count": 24,
   "metadata": {},
   "outputs": [],
   "source": [
    "def pi(x,i):\n",
    "    return newInterpolant(x,p,i)"
   ]
  },
  {
   "cell_type": "code",
   "execution_count": 25,
   "metadata": {},
   "outputs": [],
   "source": [
    "xvals = list(range(-101,101,1))"
   ]
  },
  {
   "cell_type": "code",
   "execution_count": 26,
   "metadata": {},
   "outputs": [],
   "source": [
    "for i in range(len(xvals)):\n",
    "    xvals[i]=xvals[i]/100"
   ]
  },
  {
   "cell_type": "code",
   "execution_count": 27,
   "metadata": {},
   "outputs": [],
   "source": [
    "import matplotlib.pyplot as pyplot\n",
    "\n",
    "y  = []\n",
    "y1 = []\n",
    "y2 = []\n",
    "y3 = []\n",
    "y4 = []\n",
    "y5 = []\n",
    "y6 = []\n",
    "\n",
    "for x in xvals:\n",
    "    y.append(p(x))\n",
    "    y1.append(newInterpolant(x,p,1))\n",
    "    y2.append(newInterpolant(x,p,2))\n",
    "    y3.append(newInterpolant(x,p,3))\n",
    "    y4.append(newInterpolant(x,p,4))\n",
    "    y5.append(newInterpolant(x,p,5))\n",
    "    y6.append(newInterpolant(x,p,6))\n",
    "\n",
    "    "
   ]
  },
  {
   "cell_type": "code",
   "execution_count": 28,
   "metadata": {},
   "outputs": [
    {
     "data": {
      "text/plain": [
       "[<matplotlib.lines.Line2D at 0x11c285550>]"
      ]
     },
     "execution_count": 28,
     "metadata": {},
     "output_type": "execute_result"
    },
    {
     "data": {
      "image/png": "[encoded data removed]",
      "text/plain": [
       "<Figure size 720x480 with 1 Axes>"
      ]
     },
     "metadata": {
      "needs_background": "light"
     },
     "output_type": "display_data"
    }
   ],
   "source": [
    "import matplotlib as mpl\n",
    "mpl.rcParams['figure.dpi'] = 120\n",
    "\n",
    "\n",
    "pyplot.plot(xvals, y)\n",
    "pyplot.plot(xvals, y1)\n",
    "pyplot.plot(xvals, y2)\n",
    "pyplot.plot(xvals, y3)\n",
    "pyplot.plot(xvals, y4)\n",
    "pyplot.plot(xvals, y5)\n",
    "pyplot.plot(xvals, y6)"
   ]
  },
  {
   "cell_type": "code",
   "execution_count": 29,
   "metadata": {},
   "outputs": [
    {
     "data": {
      "text/plain": [
       "4"
      ]
     },
     "execution_count": 29,
     "metadata": {},
     "output_type": "execute_result"
    }
   ],
   "source": [
    "pprime(1)"
   ]
  },
  {
   "cell_type": "code",
   "execution_count": null,
   "metadata": {},
   "outputs": [],
   "source": []
  },
  {
   "cell_type": "code",
   "execution_count": 32,
   "metadata": {},
   "outputs": [],
   "source": [
    "import matplotlib.pyplot as pyplot\n",
    "\n",
    "y  = []\n",
    "\n",
    "num = 20\n",
    "\n",
    "for i in range(num):\n",
    "    y.append([])\n",
    "    for x in xvals:\n",
    "        y[i].append(newInterpolant(x,p,i))\n",
    "   \n",
    "    "
   ]
  },
  {
   "cell_type": "code",
   "execution_count": 33,
   "metadata": {},
   "outputs": [
    {
     "data": {
      "image/png": "[encoded data removed]",
      "text/plain": [
       "<Figure size 720x480 with 1 Axes>"
      ]
     },
     "metadata": {
      "needs_background": "light"
     },
     "output_type": "display_data"
    }
   ],
   "source": [
    "for i in range(num):\n",
    "    pyplot.plot(xvals,y[i])"
   ]
  },
  {
   "cell_type": "code",
   "execution_count": 99,
   "metadata": {},
   "outputs": [
    {
     "data": {
      "text/plain": [
       "[-1.0007201403000001,\n",
       " -1.0,\n",
       " -1.0006801396999994,\n",
       " -1.0026422304000002,\n",
       " -1.0057712671000003,\n",
       " -1.0099555328000003,\n",
       " -1.0150865624999996,\n",
       " -1.0210591071999997,\n",
       " -1.0277710978999999,\n",
       " -1.0351236096000003,\n",
       " -1.0430208253,\n",
       " -1.05137,\n",
       " -1.0600814246999997,\n",
       " -1.0690683904000002,\n",
       " -1.0782471521000003,\n",
       " -1.0875368928000002,\n",
       " -1.0968596875,\n",
       " -1.1061404672000001,\n",
       " -1.1153069829,\n",
       " -1.1242897696000003,\n",
       " -1.1330221103000002,\n",
       " -1.14144,\n",
       " -1.1494821097,\n",
       " -1.1570897504,\n",
       " -1.1642068371,\n",
       " -1.1707798528000004,\n",
       " -1.1767578125,\n",
       " -1.1820922271999998,\n",
       " -1.1867370679000002,\n",
       " -1.1906487296000001,\n",
       " -1.1937859953,\n",
       " -1.1961099999999998,\n",
       " -1.1975841946999999,\n",
       " -1.1981743104000002,\n",
       " -1.1978483221,\n",
       " -1.1965764128,\n",
       " -1.1943309375000002,\n",
       " -1.1910863872,\n",
       " -1.1868193529000002,\n",
       " -1.1815084896,\n",
       " -1.1751344803000001,\n",
       " -1.1676799999999998,\n",
       " -1.1591296797,\n",
       " -1.1494700704,\n",
       " -1.1386896071000001,\n",
       " -1.1267785728000002,\n",
       " -1.1137290625,\n",
       " -1.0995349472,\n",
       " -1.0841918379000002,\n",
       " -1.0676970496,\n",
       " -1.0500495653000002,\n",
       " -1.03125,\n",
       " -1.0113005647,\n",
       " -0.9902050304,\n",
       " -0.9679686920999999,\n",
       " -0.9445983328000003,\n",
       " -0.9201021875000002,\n",
       " -0.8944899072000001,\n",
       " -0.8677725229000002,\n",
       " -0.8399624096,\n",
       " -0.8110732503,\n",
       " -0.7811200000000001,\n",
       " -0.7501188496999999,\n",
       " -0.7180871904000001,\n",
       " -0.6850435770999999,\n",
       " -0.6510076928,\n",
       " -0.6160003124999998,\n",
       " -0.5800432672000001,\n",
       " -0.5431594079,\n",
       " -0.5053725696,\n",
       " -0.4667075353,\n",
       " -0.42718999999999985,\n",
       " -0.38684653469999986,\n",
       " -0.3457045504000001,\n",
       " -0.3037922621000001,\n",
       " -0.26113865280000004,\n",
       " -0.2177734375,\n",
       " -0.1737270272,\n",
       " -0.12903049290000007,\n",
       " -0.08371552960000006,\n",
       " -0.037814420299999985,\n",
       " 0.008639999999999926,\n",
       " 0.05561438029999999,\n",
       " 0.10307488959999994,\n",
       " 0.15098725290000004,\n",
       " 0.1993167872,\n",
       " 0.24802843750000003,\n",
       " 0.29708681279999993,\n",
       " 0.3464562221,\n",
       " 0.3961007104,\n",
       " 0.4459840947,\n",
       " 0.49607,\n",
       " 0.5463218953,\n",
       " 0.5967031296,\n",
       " 0.6471769679,\n",
       " 0.6977066272,\n",
       " 0.7482553125,\n",
       " 0.7987862528,\n",
       " 0.8492627371,\n",
       " 0.8996481504,\n",
       " 0.9499060096999999,\n",
       " 1.0,\n",
       " 1.0498940102999998,\n",
       " 1.0995521696000001,\n",
       " 1.1489388829,\n",
       " 1.1980188672,\n",
       " 1.2467571875,\n",
       " 1.2951192928,\n",
       " 1.3430710521000002,\n",
       " 1.3905787903999998,\n",
       " 1.4376093247,\n",
       " 1.4841300000000002,\n",
       " 1.5301087252999999,\n",
       " 1.5755140096,\n",
       " 1.6203149979,\n",
       " 1.6644815072,\n",
       " 1.7079840625,\n",
       " 1.7507939328000002,\n",
       " 1.7928831670999998,\n",
       " 1.8342246304,\n",
       " 1.8747920397,\n",
       " 1.9145600000000003,\n",
       " 1.9535040403,\n",
       " 1.9916006496,\n",
       " 2.0288273129,\n",
       " 2.0651625472,\n",
       " 2.1005859375,\n",
       " 2.1350781728,\n",
       " 2.1686210821,\n",
       " 2.2011976704,\n",
       " 2.2327921547,\n",
       " 2.26339,\n",
       " 2.2929779553,\n",
       " 2.3215440896,\n",
       " 2.3490778279,\n",
       " 2.3755699872,\n",
       " 2.4010128125,\n",
       " 2.4254000128,\n",
       " 2.4487267971,\n",
       " 2.4709899104,\n",
       " 2.4921876697,\n",
       " 2.5123200000000003,\n",
       " 2.5313884703,\n",
       " 2.5493963296000004,\n",
       " 2.5663485429,\n",
       " 2.5822518272000003,\n",
       " 2.5971146875,\n",
       " 2.6109474528,\n",
       " 2.6237623121,\n",
       " 2.6355733504,\n",
       " 2.6463965847,\n",
       " 2.65625,\n",
       " 2.6651535853,\n",
       " 2.6731293696,\n",
       " 2.6802014579,\n",
       " 2.6863960672,\n",
       " 2.6917415625,\n",
       " 2.6962684928000002,\n",
       " 2.7000096271,\n",
       " 2.7029999904,\n",
       " 2.7052768997000003,\n",
       " 2.70688,\n",
       " 2.7078513002999998,\n",
       " 2.7082352095999997,\n",
       " 2.7080785729,\n",
       " 2.7074307071999995,\n",
       " 2.7063434375,\n",
       " 2.7048711328,\n",
       " 2.7030707421,\n",
       " 2.7010018303999996,\n",
       " 2.6987266147,\n",
       " 2.6963099999999995,\n",
       " 2.6938196153,\n",
       " 2.6913258496,\n",
       " 2.6889018879,\n",
       " 2.6866237471999996,\n",
       " 2.6845703125,\n",
       " 2.6828233728,\n",
       " 2.6814676571000002,\n",
       " 2.6805908703999997,\n",
       " 2.6802837297,\n",
       " 2.6806399999999995,\n",
       " 2.6817565303000004,\n",
       " 2.6837332896,\n",
       " 2.6866734029,\n",
       " 2.6906831872000003,\n",
       " 2.6958721875,\n",
       " 2.7023532128000003,\n",
       " 2.7102423721,\n",
       " 2.7196591104000003,\n",
       " 2.7307262446999996,\n",
       " 2.7435699999999996,\n",
       " 2.7583200452999996,\n",
       " 2.7751095296000003,\n",
       " 2.7940751179000003,\n",
       " 2.8153570271999993,\n",
       " 2.8390990624999994,\n",
       " 2.8654486528000005,\n",
       " 2.8945568871000003,\n",
       " 2.9265785504000004,\n",
       " 2.961672159699999,\n",
       " 3.0]"
      ]
     },
     "execution_count": 99,
     "metadata": {},
     "output_type": "execute_result"
    }
   ],
   "source": [
    "y[2]"
   ]
  },
  {
   "cell_type": "code",
   "execution_count": null,
   "metadata": {},
   "outputs": [],
   "source": [
    "def avgDists(steps, trials):\n",
    "    dists = []\n",
    "    for trial in range(trials):\n",
    "        dists.append(randomWalk(None, steps, False))\n",
    "    return sum(dists)/trials\n",
    "    \n",
    "\n",
    "    \n",
    "def plotDists(maxSteps, trials):\n",
    "    \n",
    "    stepRange = range(100, maxSteps+1, 100)\n",
    "    averageDistances = []\n",
    "    \n",
    "    for steps in stepRange:\n",
    "        averageDistances.append(avgDists(steps, trials))\n",
    "        \n",
    "    pyplot.plot(list(stepRange), averageDistances   )"
   ]
  },
  {
   "cell_type": "code",
   "execution_count": 7,
   "metadata": {},
   "outputs": [],
   "source": [
    "import random\n",
    "import turtle\n",
    "import math\n",
    "import matplotlib.pyplot as pyplot\n",
    "\n",
    "def randomWalk(t, steps, draw):\n",
    "    \"\"\"\n",
    "    input:  t is our turtle object\n",
    "            steps = the number of iterations/steps the turtle takes\n",
    "            draw is a boolean value.  If true, draws turtle\n",
    "    \"\"\"\n",
    "    \n",
    "    # need an initial position.  Assume (0,0).\n",
    "    # initialize variables:\n",
    "    \n",
    "    x = 0\n",
    "    y = 0\n",
    "    \n",
    "    \n",
    "    # need the turtle to take `steps` steps:\n",
    "    \n",
    "    for step in range(steps):\n",
    "        # choose a random number.  remember, btween 0 and 1\n",
    "        rand = random.random()\n",
    "        \n",
    "        #decide what to do:\n",
    "        \n",
    "        if rand<.25:\n",
    "            x = x+10\n",
    "        elif rand<.5:\n",
    "            y = y+10\n",
    "        elif rand < .75:\n",
    "            x = x-10\n",
    "        else:\n",
    "            y = y-10\n",
    "        if draw:     #remember, draw is either true or false\n",
    "            t.goto(x,y)\n",
    "            \n",
    "    # need to return the distance\n",
    "    \n",
    "    return  math.sqrt(x**2+y**2)  \n",
    " \n",
    "\n",
    "def avgDists(steps, trials):\n",
    "    dists = []\n",
    "    for trial in range(trials):\n",
    "        dists.append(randomWalk(None, steps, False))\n",
    "    return sum(dists)/trials\n",
    "    \n",
    "\n",
    "    \n",
    "def plotDists(maxSteps, trials):\n",
    "    \n",
    "    stepRange = range(100, maxSteps+1, 100)\n",
    "    averageDistances = []\n",
    "    \n",
    "    for steps in stepRange:\n",
    "        averageDistances.append(avgDists(steps, trials))\n",
    "        \n",
    "    pyplot.plot(list(stepRange), averageDistances, label=\"y=Distance\"   )\n",
    "    pyplot.xlabel(\"Number of Steps\")\n",
    "    pyplot.ylabel(\"Distance Travelled\")\n",
    "    pyplot.title(\"Random Walk Summaries\")\n",
    "    pyplot.legend()"
   ]
  },
  {
   "cell_type": "code",
   "execution_count": 8,
   "metadata": {},
   "outputs": [
    {
     "data": {
      "image/png": "[encoded data removed]",
      "text/plain": [
       "<Figure size 432x288 with 1 Axes>"
      ]
     },
     "metadata": {
      "needs_background": "light"
     },
     "output_type": "display_data"
    }
   ],
   "source": [
    "plotDists(1000,10000)"
   ]
  },
  {
   "cell_type": "code",
   "execution_count": 10,
   "metadata": {},
   "outputs": [
    {
     "data": {
      "text/plain": [
       "<matplotlib.legend.Legend at 0x11bca12b0>"
      ]
     },
     "execution_count": 10,
     "metadata": {},
     "output_type": "execute_result"
    },
    {
     "data": {
      "image/png": "[encoded data removed]",
      "text/plain": [
       "<Figure size 432x288 with 1 Axes>"
      ]
     },
     "metadata": {
      "needs_background": "light"
     },
     "output_type": "display_data"
    }
   ],
   "source": [
    "import matplotlib.pyplot as pyplot\n",
    "\n",
    "x = [1,2,3,4,5]\n",
    "f = [1, 4, 9, 16, 25]\n",
    "g = [2, 4, 6, 8, 10]\n",
    "\n",
    "pyplot.plot(x,f, label = \"f(x)\")\n",
    "pyplot.plot(x,g, label = \"g(x)\")\n",
    "pyplot.xlabel(\"The x vals, y'all\")\n",
    "pyplot.ylabel(\"Why?  y!\")\n",
    "pyplot.title(\"Smart Stuff I Tought About\")\n",
    "pyplot.legend()"
   ]
  },
  {
   "cell_type": "code",
   "execution_count": 65,
   "metadata": {},
   "outputs": [
    {
     "name": "stdout",
     "output_type": "stream",
     "text": [
      "4.5\n"
     ]
    }
   ],
   "source": [
    "import math\n",
    "\n",
    "def expvals(delta):\n",
    "    x0 = 0\n",
    "\n",
    "    maxx = 5\n",
    "    length = int(maxx/delta)+1\n",
    "\n",
    "\n",
    "\n",
    "    xx = [x0]\n",
    "\n",
    "    for i in range(1,length):\n",
    "        xx.append(x0+i*delta)\n",
    "    \n",
    "    y0 = 1\n",
    "\n",
    "    yy = [y0]\n",
    "\n",
    "    for i in range(1,length):\n",
    "        yy.append(yy[-1]+yy[-1]*delta)\n",
    "    \n",
    "    \n",
    "    return [xx,yy]\n",
    "    \n",
    "ee = [1]\n",
    "\n",
    "for i in range(1,length):\n",
    "    ee.append(math.exp(xx[i]))\n",
    "    \n",
    "print(xx[-1])"
   ]
  },
  {
   "cell_type": "code",
   "execution_count": 68,
   "metadata": {},
   "outputs": [
    {
     "data": {
      "text/plain": [
       "<matplotlib.legend.Legend at 0x117941b20>"
      ]
     },
     "execution_count": 68,
     "metadata": {},
     "output_type": "execute_result"
    },
    {
     "data": {
      "image/png": "[encoded data removed]",
      "text/plain": [
       "<Figure size 432x288 with 1 Axes>"
      ]
     },
     "metadata": {
      "needs_background": "light"
     },
     "output_type": "display_data"
    }
   ],
   "source": [
    "import matplotlib.pyplot as pyplot\n",
    "\n",
    "xx5 = expvals(.5)[0]\n",
    "yy5 = expvals(.5)[1]\n",
    "\n",
    "xx1 = expvals(.1)[0]\n",
    "yy1 = expvals(.1)[1]\n",
    "\n",
    "xx0001 = expvals(.0001)[0]\n",
    "yy0001 = expvals(.0001)[1]\n",
    "\n",
    "\n",
    "\n",
    "#pyplot.plot(xx01,ee)\n",
    "pyplot.plot(xx5,yy5, label = \"h=.5\")\n",
    "pyplot.plot(xx1, yy1, label = \"h=.1\")\n",
    "pyplot.plot(xx001,yy001, label=\"true function e^x\")\n",
    "pyplot.legend()\n"
   ]
  },
  {
   "cell_type": "code",
   "execution_count": 1,
   "metadata": {},
   "outputs": [
    {
     "data": {
      "text/plain": [
       "{'SHELL': '/bin/bash',\n",
       " 'TMPDIR': '/var/folders/hk/kqwj6s7h8394g8wmjsv5q11m000dbk/T/',\n",
       " 'CONDA_SHLVL': '1',\n",
       " 'Apple_PubSub_Socket_Render': '/private/tmp/com.apple.launchd.UqgQQsRWsj/Render',\n",
       " 'CONDA_PROMPT_MODIFIER': '(base) ',\n",
       " 'LC_ALL': 'en_US.UTF-8',\n",
       " 'USER': 'millera2',\n",
       " 'CONDA_EXE': '/Users/millera2/opt/anaconda3/bin/conda',\n",
       " 'SSH_AUTH_SOCK': '/private/tmp/com.apple.launchd.hNup7638DB/Listeners',\n",
       " '__CF_USER_TEXT_ENCODING': '0x3572:0x0:0x0',\n",
       " '_CE_CONDA': '',\n",
       " 'CONDA_ROOT': '/Users/millera2/opt/anaconda3',\n",
       " 'PATH': '/Users/millera2/opt/anaconda3/bin:/Users/millera2/opt/anaconda3/condabin:/usr/bin:/bin:/usr/sbin:/sbin',\n",
       " 'CONDA_PREFIX': '/Users/millera2/opt/anaconda3',\n",
       " 'PWD': '/Users/millera2',\n",
       " 'LANG': 'en_US.UTF-8',\n",
       " 'XPC_FLAGS': '0x0',\n",
       " '_CE_M': '',\n",
       " 'XPC_SERVICE_NAME': '0',\n",
       " 'HOME': '/Users/millera2',\n",
       " 'SHLVL': '2',\n",
       " 'QT_API': 'pyqt5',\n",
       " 'CONDA_PYTHON_EXE': '/Users/millera2/opt/anaconda3/bin/python',\n",
       " 'LOGNAME': 'millera2',\n",
       " 'LC_CTYPE': 'UTF-8',\n",
       " 'CONDA_DEFAULT_ENV': 'base',\n",
       " 'DISPLAY': '/private/tmp/com.apple.launchd.0JQ07B9CKG/org.macosforge.xquartz:0',\n",
       " '_': '/Users/millera2/opt/anaconda3/bin/jupyter',\n",
       " 'JPY_PARENT_PID': '23470',\n",
       " 'TERM': 'xterm-color',\n",
       " 'CLICOLOR': '1',\n",
       " 'PAGER': 'cat',\n",
       " 'GIT_PAGER': 'cat',\n",
       " 'MPLBACKEND': 'module://ipykernel.pylab.backend_inline'}"
      ]
     },
     "execution_count": 1,
     "metadata": {},
     "output_type": "execute_result"
    }
   ],
   "source": [
    "%env"
   ]
  },
  {
   "cell_type": "code",
   "execution_count": 2,
   "metadata": {},
   "outputs": [
    {
     "name": "stdout",
     "output_type": "stream",
     "text": [
      "env: OCTAVE_EXECUTABLE='octave'\n"
     ]
    }
   ],
   "source": [
    "env OCTAVE_EXECUTABLE 'octave'"
   ]
  },
  {
   "cell_type": "code",
   "execution_count": 3,
   "metadata": {},
   "outputs": [
    {
     "data": {
      "text/plain": [
       "{'SHELL': '/bin/bash',\n",
       " 'TMPDIR': '/var/folders/hk/kqwj6s7h8394g8wmjsv5q11m000dbk/T/',\n",
       " 'CONDA_SHLVL': '1',\n",
       " 'Apple_PubSub_Socket_Render': '/private/tmp/com.apple.launchd.UqgQQsRWsj/Render',\n",
       " 'CONDA_PROMPT_MODIFIER': '(base) ',\n",
       " 'LC_ALL': 'en_US.UTF-8',\n",
       " 'USER': 'millera2',\n",
       " 'CONDA_EXE': '/Users/millera2/opt/anaconda3/bin/conda',\n",
       " 'SSH_AUTH_SOCK': '/private/tmp/com.apple.launchd.hNup7638DB/Listeners',\n",
       " '__CF_USER_TEXT_ENCODING': '0x3572:0x0:0x0',\n",
       " '_CE_CONDA': '',\n",
       " 'CONDA_ROOT': '/Users/millera2/opt/anaconda3',\n",
       " 'PATH': '/Users/millera2/opt/anaconda3/bin:/Users/millera2/opt/anaconda3/condabin:/usr/bin:/bin:/usr/sbin:/sbin',\n",
       " 'CONDA_PREFIX': '/Users/millera2/opt/anaconda3',\n",
       " 'PWD': '/Users/millera2',\n",
       " 'LANG': 'en_US.UTF-8',\n",
       " 'XPC_FLAGS': '0x0',\n",
       " '_CE_M': '',\n",
       " 'XPC_SERVICE_NAME': '0',\n",
       " 'HOME': '/Users/millera2',\n",
       " 'SHLVL': '2',\n",
       " 'QT_API': 'pyqt5',\n",
       " 'CONDA_PYTHON_EXE': '/Users/millera2/opt/anaconda3/bin/python',\n",
       " 'LOGNAME': 'millera2',\n",
       " 'LC_CTYPE': 'UTF-8',\n",
       " 'CONDA_DEFAULT_ENV': 'base',\n",
       " 'DISPLAY': '/private/tmp/com.apple.launchd.0JQ07B9CKG/org.macosforge.xquartz:0',\n",
       " '_': '/Users/millera2/opt/anaconda3/bin/jupyter',\n",
       " 'JPY_PARENT_PID': '23470',\n",
       " 'TERM': 'xterm-color',\n",
       " 'CLICOLOR': '1',\n",
       " 'PAGER': 'cat',\n",
       " 'GIT_PAGER': 'cat',\n",
       " 'MPLBACKEND': 'module://ipykernel.pylab.backend_inline',\n",
       " 'OCTAVE_EXECUTABLE': \"'octave'\"}"
      ]
     },
     "execution_count": 3,
     "metadata": {},
     "output_type": "execute_result"
    }
   ],
   "source": [
    "%env"
   ]
  },
  {
   "cell_type": "code",
   "execution_count": 23,
   "metadata": {},
   "outputs": [],
   "source": [
    "inputFile = open(\"example.txt\", \"r\")"
   ]
  },
  {
   "cell_type": "code",
   "execution_count": 11,
   "metadata": {},
   "outputs": [],
   "source": [
    "text = inputFile.read()"
   ]
  },
  {
   "cell_type": "code",
   "execution_count": 13,
   "metadata": {},
   "outputs": [
    {
     "name": "stdout",
     "output_type": "stream",
     "text": [
      "This is an example of a text file.\n",
      "It contains some text.  Yay!\n",
      "To a computer programmign language, almost all files are text files (even if they have special window-dressing like .csv, .doc, etc).\n",
      "\n",
      "There are also binary files (which are still,  kinda, text files), but we'll talk about them later.\n"
     ]
    }
   ],
   "source": [
    "print(text)"
   ]
  },
  {
   "cell_type": "code",
   "execution_count": 24,
   "metadata": {},
   "outputs": [
    {
     "name": "stdout",
     "output_type": "stream",
     "text": [
      "This is an example of a text file.\n",
      "\n",
      "It contains some text.  Yay!\n",
      "\n",
      "To a computer programmign language, almost all files are text files (even if they have special window-dressing like .csv, .doc, etc).\n",
      "\n",
      "\n",
      "\n",
      "There are also binary files (which are still,  kinda, text files), but we'll talk about them later.\n"
     ]
    }
   ],
   "source": [
    "for line in inputFile:\n",
    "    print(line)"
   ]
  },
  {
   "cell_type": "code",
   "execution_count": 48,
   "metadata": {},
   "outputs": [
    {
     "data": {
      "text/plain": [
       "0"
      ]
     },
     "execution_count": 48,
     "metadata": {},
     "output_type": "execute_result"
    }
   ],
   "source": [
    "inputFile.seek(0)"
   ]
  },
  {
   "cell_type": "code",
   "execution_count": 49,
   "metadata": {},
   "outputs": [],
   "source": [
    "text = inputFile.read()"
   ]
  },
  {
   "cell_type": "code",
   "execution_count": 43,
   "metadata": {},
   "outputs": [
    {
     "data": {
      "text/plain": [
       "['This is an example of a text file.\\n',\n",
       " 'It contains some text.  Yay!\\n',\n",
       " 'To a computer programmign language, almost all files are text files (even if they have special window-dressing like .csv, .doc, etc).\\n',\n",
       " '\\n',\n",
       " \"There are also binary files (which are still,  kinda, text files), but we'll talk about them later.\"]"
      ]
     },
     "execution_count": 43,
     "metadata": {},
     "output_type": "execute_result"
    }
   ],
   "source": [
    "lines"
   ]
  },
  {
   "cell_type": "code",
   "execution_count": 50,
   "metadata": {},
   "outputs": [],
   "source": [
    "inputFile.close()"
   ]
  },
  {
   "cell_type": "code",
   "execution_count": 51,
   "metadata": {},
   "outputs": [],
   "source": [
    "input2 = open(\"example.txt\", \"w\")"
   ]
  },
  {
   "cell_type": "code",
   "execution_count": 52,
   "metadata": {},
   "outputs": [
    {
     "data": {
      "text/plain": [
       "\u001b[0;31mSignature:\u001b[0m \u001b[0minput2\u001b[0m\u001b[0;34m.\u001b[0m\u001b[0mwrite\u001b[0m\u001b[0;34m(\u001b[0m\u001b[0mtext\u001b[0m\u001b[0;34m,\u001b[0m \u001b[0;34m/\u001b[0m\u001b[0;34m)\u001b[0m\u001b[0;34m\u001b[0m\u001b[0;34m\u001b[0m\u001b[0m\n",
       "\u001b[0;31mDocstring:\u001b[0m\n",
       "Write string to stream.\n",
       "Returns the number of characters written (which is always equal to\n",
       "the length of the string).\n",
       "\u001b[0;31mType:\u001b[0m      builtin_function_or_method\n"
      ]
     },
     "metadata": {},
     "output_type": "display_data"
    }
   ],
   "source": [
    "?input2.write"
   ]
  },
  {
   "cell_type": "code",
   "execution_count": 53,
   "metadata": {},
   "outputs": [],
   "source": [
    "input2.close()"
   ]
  },
  {
   "cell_type": "code",
   "execution_count": 18,
   "metadata": {},
   "outputs": [],
   "source": [
    "exampleString = \"this is my example string\""
   ]
  },
  {
   "cell_type": "code",
   "execution_count": 60,
   "metadata": {},
   "outputs": [
    {
     "data": {
      "text/plain": [
       "'this is our example string'"
      ]
     },
     "execution_count": 60,
     "metadata": {},
     "output_type": "execute_result"
    }
   ],
   "source": [
    "exampleString.replace(\"my\", \"our\")"
   ]
  },
  {
   "cell_type": "code",
   "execution_count": 4,
   "metadata": {},
   "outputs": [
    {
     "data": {
      "text/plain": [
       "[0, 1, 4, 9, 16, 25, 36, 49, 64, 81]"
      ]
     },
     "execution_count": 4,
     "metadata": {},
     "output_type": "execute_result"
    }
   ],
   "source": [
    "list(map(lambda x:x**2, range(10)))"
   ]
  },
  {
   "cell_type": "code",
   "execution_count": 6,
   "metadata": {},
   "outputs": [
    {
     "data": {
      "text/plain": [
       "range"
      ]
     },
     "execution_count": 6,
     "metadata": {},
     "output_type": "execute_result"
    }
   ],
   "source": [
    "type(range(10))"
   ]
  },
  {
   "cell_type": "code",
   "execution_count": 12,
   "metadata": {},
   "outputs": [],
   "source": [
    "exampleString2 = exampleString.replace(\" \", \"\")"
   ]
  },
  {
   "cell_type": "code",
   "execution_count": 15,
   "metadata": {},
   "outputs": [
    {
     "data": {
      "text/plain": [
       "True"
      ]
     },
     "execution_count": 15,
     "metadata": {},
     "output_type": "execute_result"
    }
   ],
   "source": [
    "exampleString2.isalnum()"
   ]
  },
  {
   "cell_type": "code",
   "execution_count": 16,
   "metadata": {},
   "outputs": [],
   "source": [
    "exampleString = \"this is my example string. it has two sentences\""
   ]
  },
  {
   "cell_type": "code",
   "execution_count": 25,
   "metadata": {},
   "outputs": [
    {
     "data": {
      "text/plain": [
       "\u001b[0;31mSignature:\u001b[0m \u001b[0mexampleString\u001b[0m\u001b[0;34m.\u001b[0m\u001b[0misdecimal\u001b[0m\u001b[0;34m(\u001b[0m\u001b[0;34m)\u001b[0m\u001b[0;34m\u001b[0m\u001b[0;34m\u001b[0m\u001b[0m\n",
       "\u001b[0;31mDocstring:\u001b[0m\n",
       "Return True if the string is a decimal string, False otherwise.\n",
       "\n",
       "A string is a decimal string if all characters in the string are decimal and\n",
       "there is at least one character in the string.\n",
       "\u001b[0;31mType:\u001b[0m      builtin_function_or_method\n"
      ]
     },
     "metadata": {},
     "output_type": "display_data"
    }
   ],
   "source": [
    "?exampleString.isdecimal"
   ]
  },
  {
   "cell_type": "code",
   "execution_count": 30,
   "metadata": {},
   "outputs": [
    {
     "data": {
      "text/plain": [
       "True"
      ]
     },
     "execution_count": 30,
     "metadata": {},
     "output_type": "execute_result"
    }
   ],
   "source": [
    "\"2342\".isdigit()"
   ]
  },
  {
   "cell_type": "code",
   "execution_count": 166,
   "metadata": {},
   "outputs": [],
   "source": [
    "def readFile(filename):\n",
    "    file = open(filename)\n",
    "    \n",
    "    text = file.readlines()\n",
    "        \n",
    "    file.close\n",
    "    \n",
    "    return text\n",
    "    \n",
    "    \n",
    "    \n",
    "    "
   ]
  },
  {
   "cell_type": "code",
   "execution_count": 167,
   "metadata": {},
   "outputs": [
    {
     "data": {
      "text/plain": [
       "['This is our example text file.  Yay!\\n',\n",
       " \"We'll use it to explore options for working with files.\\n\",\n",
       " '\\n',\n",
       " \"Here's one more line just for funzies.  ;D\"]"
      ]
     },
     "execution_count": 167,
     "metadata": {},
     "output_type": "execute_result"
    }
   ],
   "source": [
    "readFile(\"example.txt\")"
   ]
  },
  {
   "cell_type": "markdown",
   "metadata": {},
   "source": [
    "6.3.1, 6.3.2, 6.3.3, 6.3.5, 6.3.11, 6.3.13"
   ]
  },
  {
   "cell_type": "code",
   "execution_count": 109,
   "metadata": {},
   "outputs": [],
   "source": [
    "\n",
    "\n",
    "import urllib.request as web\n",
    "\n",
    "webpage = web.urlopen(\"http://python.org\")\n",
    "\n",
    "\n",
    "for i in range(40):\n",
    "    line = webpage.readline()\n",
    "    print(line.decode('utf-8').split(\"<*>\"))"
   ]
  },
  {
   "cell_type": "code",
   "execution_count": null,
   "metadata": {},
   "outputs": [],
   "source": []
  },
  {
   "cell_type": "code",
   "execution_count": 177,
   "metadata": {},
   "outputs": [
    {
     "name": "stdout",
     "output_type": "stream",
     "text": [
      "['    \\n']\n",
      "['        <li class=\"tier-2 element-6\" role=\"treeitem\"><a href=\"/psf/annual-report/2020/\" title=\"\">PSF Annual Impact Report</a></li>\\n']\n",
      "['    \\n']\n",
      "['        <li class=\"tier-2 element-7\" role=\"treeitem\"><a href=\"/community/workshops/\" title=\"\">Python Conferences</a></li>\\n']\n",
      "['    \\n']\n",
      "['        <li class=\"tier-2 element-8\" role=\"treeitem\"><a href=\"/community/sigs/\" title=\"\">Special Interest Groups</a></li>\\n']\n",
      "['    \\n']\n",
      "['        <li class=\"tier-2 element-9\" role=\"treeitem\"><a href=\"/community/logos/\" title=\"\">Python Logo</a></li>\\n']\n",
      "['    \\n']\n",
      "['        <li class=\"tier-2 element-10\" role=\"treeitem\"><a href=\"https://wiki.python.org/moin/\" title=\"\">Python Wiki</a></li>\\n']\n",
      "['    \\n']\n",
      "['        <li class=\"tier-2 element-11\" role=\"treeitem\"><a href=\"/community/merchandise/\" title=\"\">Merchandise</a></li>\\n']\n",
      "['    \\n']\n",
      "['        <li class=\"tier-2 element-12\" role=\"treeitem\"><a href=\"/community/awards\" title=\"\">Community Awards</a></li>\\n']\n",
      "['    \\n']\n",
      "['        <li class=\"tier-2 element-13\" role=\"treeitem\"><a href=\"/psf/conduct/\" title=\"\">Code of Conduct</a></li>\\n']\n",
      "['    \\n']\n",
      "['        <li class=\"tier-2 element-14\" role=\"treeitem\"><a href=\"/psf/get-involved/\" title=\"\">Get Involved</a></li>\\n']\n",
      "['    \\n']\n",
      "['</ul>\\n']\n",
      "['\\n']\n",
      "['        \\n']\n",
      "['    </li>\\n']\n",
      "['    \\n']\n",
      "['    \\n']\n",
      "['    \\n']\n",
      "['    <li id=\"success-stories\" class=\"tier-1 element-5  \" aria-haspopup=\"true\">\\n']\n",
      "['        <a href=\"/success-stories/\" title=\"success-stories\" class=\"\">Success Stories</a>\\n']\n",
      "['        \\n']\n",
      "['            \\n']\n",
      "['\\n']\n",
      "['<ul class=\"subnav menu\" role=\"menu\" aria-hidden=\"true\">\\n']\n",
      "['    \\n']\n",
      "['        <li class=\"tier-2 element-1\" role=\"treeitem\"><a href=\"/success-stories/category/arts/\" title=\"\">Arts</a></li>\\n']\n",
      "['    \\n']\n",
      "['        <li class=\"tier-2 element-2\" role=\"treeitem\"><a href=\"/success-stories/category/business/\" title=\"\">Business</a></li>\\n']\n",
      "['    \\n']\n",
      "['        <li class=\"tier-2 element-3\" role=\"treeitem\"><a href=\"/success-stories/category/education/\" title=\"\">Education</a></li>\\n']\n",
      "['    \\n']\n",
      "['        <li class=\"tier-2 element-4\" role=\"treeitem\"><a href=\"/success-stories/category/engineering/\" title=\"\">Engineering</a></li>\\n']\n"
     ]
    }
   ],
   "source": []
  },
  {
   "cell_type": "code",
   "execution_count": null,
   "metadata": {},
   "outputs": [],
   "source": [
    "\n",
    "    "
   ]
  },
  {
   "cell_type": "code",
   "execution_count": 94,
   "metadata": {},
   "outputs": [
    {
     "ename": "NameError",
     "evalue": "name 'foo' is not defined",
     "output_type": "error",
     "traceback": [
      "\u001b[0;31m---------------------------------------------------------------------------\u001b[0m",
      "\u001b[0;31mNameError\u001b[0m                                 Traceback (most recent call last)",
      "\u001b[0;32m<ipython-input-94-c31758d7525f>\u001b[0m in \u001b[0;36m<module>\u001b[0;34m\u001b[0m\n\u001b[0;32m----> 1\u001b[0;31m \u001b[0mexample\u001b[0m\u001b[0;34m(\u001b[0m\u001b[0mfoo\u001b[0m\u001b[0;34m=\u001b[0m\u001b[0;36m7\u001b[0m\u001b[0;34m)\u001b[0m\u001b[0;34m\u001b[0m\u001b[0;34m\u001b[0m\u001b[0m\n\u001b[0m",
      "\u001b[0;32m<ipython-input-93-6f22e676b4b5>\u001b[0m in \u001b[0;36mexample\u001b[0;34m(**kwargs)\u001b[0m\n\u001b[1;32m      1\u001b[0m \u001b[0;32mdef\u001b[0m \u001b[0mexample\u001b[0m\u001b[0;34m(\u001b[0m\u001b[0;34m**\u001b[0m\u001b[0mkwargs\u001b[0m\u001b[0;34m)\u001b[0m\u001b[0;34m:\u001b[0m\u001b[0;34m\u001b[0m\u001b[0;34m\u001b[0m\u001b[0m\n\u001b[0;32m----> 2\u001b[0;31m     \u001b[0mprint\u001b[0m\u001b[0;34m(\u001b[0m\u001b[0mfoo\u001b[0m\u001b[0;34m)\u001b[0m\u001b[0;34m\u001b[0m\u001b[0;34m\u001b[0m\u001b[0m\n\u001b[0m\u001b[1;32m      3\u001b[0m \u001b[0;34m\u001b[0m\u001b[0m\n",
      "\u001b[0;31mNameError\u001b[0m: name 'foo' is not defined"
     ]
    }
   ],
   "source": [
    "example(foo=7)"
   ]
  },
  {
   "cell_type": "code",
   "execution_count": 112,
   "metadata": {},
   "outputs": [
    {
     "data": {
      "text/plain": [
       "76"
      ]
     },
     "execution_count": 112,
     "metadata": {},
     "output_type": "execute_result"
    }
   ],
   "source": [
    "ord(\"L\")"
   ]
  },
  {
   "cell_type": "code",
   "execution_count": 113,
   "metadata": {},
   "outputs": [
    {
     "data": {
      "text/plain": [
       "97"
      ]
     },
     "execution_count": 113,
     "metadata": {},
     "output_type": "execute_result"
    }
   ],
   "source": [
    "ord(\"a\")"
   ]
  },
  {
   "cell_type": "code",
   "execution_count": 114,
   "metadata": {},
   "outputs": [
    {
     "data": {
      "text/plain": [
       "65"
      ]
     },
     "execution_count": 114,
     "metadata": {},
     "output_type": "execute_result"
    }
   ],
   "source": [
    "ord(\"A\")"
   ]
  },
  {
   "cell_type": "code",
   "execution_count": 115,
   "metadata": {},
   "outputs": [
    {
     "data": {
      "text/plain": [
       "52"
      ]
     },
     "execution_count": 115,
     "metadata": {},
     "output_type": "execute_result"
    }
   ],
   "source": [
    "ord(\"4\")"
   ]
  },
  {
   "cell_type": "code",
   "execution_count": 116,
   "metadata": {},
   "outputs": [
    {
     "data": {
      "text/plain": [
       "46"
      ]
     },
     "execution_count": 116,
     "metadata": {},
     "output_type": "execute_result"
    }
   ],
   "source": [
    "ord(\".\")"
   ]
  },
  {
   "cell_type": "code",
   "execution_count": 130,
   "metadata": {},
   "outputs": [
    {
     "data": {
      "text/plain": [
       "97"
      ]
     },
     "execution_count": 130,
     "metadata": {},
     "output_type": "execute_result"
    }
   ],
   "source": [
    "ord(\"a\")"
   ]
  },
  {
   "cell_type": "code",
   "execution_count": 122,
   "metadata": {},
   "outputs": [
    {
     "data": {
      "text/plain": [
       "65"
      ]
     },
     "execution_count": 122,
     "metadata": {},
     "output_type": "execute_result"
    }
   ],
   "source": [
    "ord(\"A\")"
   ]
  },
  {
   "cell_type": "code",
   "execution_count": 127,
   "metadata": {},
   "outputs": [
    {
     "data": {
      "text/plain": [
       "'B'"
      ]
     },
     "execution_count": 127,
     "metadata": {},
     "output_type": "execute_result"
    }
   ],
   "source": [
    "chr(65+1)"
   ]
  },
  {
   "cell_type": "code",
   "execution_count": 131,
   "metadata": {},
   "outputs": [
    {
     "data": {
      "text/plain": [
       "32"
      ]
     },
     "execution_count": 131,
     "metadata": {},
     "output_type": "execute_result"
    }
   ],
   "source": [
    "97-65"
   ]
  },
  {
   "cell_type": "code",
   "execution_count": 139,
   "metadata": {},
   "outputs": [
    {
     "data": {
      "text/plain": [
       "4294967296"
      ]
     },
     "execution_count": 139,
     "metadata": {},
     "output_type": "execute_result"
    }
   ],
   "source": [
    "(2**8)**4"
   ]
  },
  {
   "cell_type": "code",
   "execution_count": 136,
   "metadata": {},
   "outputs": [
    {
     "data": {
      "text/plain": [
       "10"
      ]
     },
     "execution_count": 136,
     "metadata": {},
     "output_type": "execute_result"
    }
   ],
   "source": [
    "ord(\"\\n\")"
   ]
  },
  {
   "cell_type": "code",
   "execution_count": 141,
   "metadata": {},
   "outputs": [
    {
     "data": {
      "text/plain": [
       "1"
      ]
     },
     "execution_count": 141,
     "metadata": {},
     "output_type": "execute_result"
    }
   ],
   "source": [
    "[1,2,3].index(2)"
   ]
  },
  {
   "cell_type": "code",
   "execution_count": 142,
   "metadata": {},
   "outputs": [
    {
     "data": {
      "text/plain": [
       "8"
      ]
     },
     "execution_count": 142,
     "metadata": {},
     "output_type": "execute_result"
    }
   ],
   "source": [
    "len(\"mystring\")"
   ]
  },
  {
   "cell_type": "code",
   "execution_count": 144,
   "metadata": {},
   "outputs": [
    {
     "data": {
      "text/plain": [
       "8"
      ]
     },
     "execution_count": 144,
     "metadata": {},
     "output_type": "execute_result"
    }
   ],
   "source": [
    "\"mystring\".index(\"mystring\"[-1])+1"
   ]
  },
  {
   "cell_type": "code",
   "execution_count": 145,
   "metadata": {},
   "outputs": [],
   "source": [
    "myString = \"mystring\""
   ]
  },
  {
   "cell_type": "code",
   "execution_count": 154,
   "metadata": {},
   "outputs": [
    {
     "data": {
      "text/plain": [
       "'ing'"
      ]
     },
     "execution_count": 154,
     "metadata": {},
     "output_type": "execute_result"
    }
   ],
   "source": [
    "myString[-3:len(myString)]"
   ]
  },
  {
   "cell_type": "code",
   "execution_count": 153,
   "metadata": {},
   "outputs": [
    {
     "data": {
      "text/plain": [
       "'mystring'"
      ]
     },
     "execution_count": 153,
     "metadata": {},
     "output_type": "execute_result"
    }
   ],
   "source": [
    "myString[0:len(myString)]"
   ]
  },
  {
   "cell_type": "code",
   "execution_count": null,
   "metadata": {},
   "outputs": [],
   "source": []
  }
 ],
 "metadata": {
  "kernelspec": {
   "display_name": "Python 3",
   "language": "python",
   "name": "python3"
  },
  "language_info": {
   "codemirror_mode": {
    "name": "ipython",
    "version": 3
   },
   "file_extension": ".py",
   "mimetype": "text/x-python",
   "name": "python",
   "nbconvert_exporter": "python",
   "pygments_lexer": "ipython3",
   "version": "3.8.5"
  }
 },
 "nbformat": 4,
 "nbformat_minor": 4
}
