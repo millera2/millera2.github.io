{
 "cells": [
  {
   "cell_type": "code",
   "execution_count": null,
   "metadata": {},
   "outputs": [],
   "source": [
    "\n",
    "import turtle\n",
    "import random\n",
    "\n",
    "george = turtle.Turtle()\n",
    "\n",
    "\n",
    "george.pencolor(\"red\")\n",
    "george.fillcolor(\"yellow\")\n",
    "\n",
    "screen = george.getscreen()\n",
    "\n",
    "george.speed(0)\n",
    "\n",
    "\n",
    "def makePoly(n, length):\n",
    "    angle = (n-2)*180/n\n",
    "    for i in range(n):\n",
    "        george.forward(length/n)\n",
    "        george.left(180-angle)\n",
    "\n",
    "def newBloom(x,y):\n",
    "    george.penup()\n",
    "    george.goto(x,y)\n",
    "    george.pendown()\n",
    "    george.setheading(0)\n",
    "    george.pencolor(\"black\")\n",
    "    george.fillcolor(random.choice([\"limegreen\", \"violet\", \"aqua\", \"yellow\", \"blue\", \"purple\", \"red\", \"pink\", \"orange\", \"brown\", \"deeppink\", \"coral\"]))\n",
    "    sideLength = random.randrange(20,200)\n",
    "    george.begin_fill()\n",
    "    length = random.randrange(200,700)\n",
    "    n = random.randrange(3,8)\n",
    "    makePoly(n, length)\n",
    "    george.end_fill()\n",
    "\n",
    "\n",
    "\n",
    "    \n",
    "def square(heading):\n",
    "    george.setheading(heading)\n",
    "    for i in range(2):\n",
    "        george.forward(100)\n",
    "        george.left(90)\n",
    "        george.forward(150)\n",
    "        george.left(90)\n",
    "    \n",
    "    \n",
    "#for i in range(225):\n",
    "#    if i%10==0:\n",
    "#        square(i)\n",
    "        \n",
    "george.pencolor(\"black\")\n",
    "\n",
    "\n",
    "def pentagram():\n",
    "    for i in range(50):\n",
    "        george.forward(50+20*i)\n",
    "        george.left(180-36)\n",
    "        \n",
    "\n",
    "pentagram()\n",
    "        \n",
    "#screen.onclick(newBloom)\n",
    "\n",
    "turtle.mainloop()\n"
   ]
  },
  {
   "cell_type": "code",
   "execution_count": null,
   "metadata": {},
   "outputs": [],
   "source": []
  },
  {
   "cell_type": "code",
   "execution_count": 3,
   "metadata": {},
   "outputs": [
    {
     "data": {
      "text/plain": [
       "str"
      ]
     },
     "execution_count": 3,
     "metadata": {},
     "output_type": "execute_result"
    }
   ],
   "source": [
    "type(random.choice([\"yellow\", \"blue\"]))"
   ]
  },
  {
   "cell_type": "code",
   "execution_count": 1,
   "metadata": {},
   "outputs": [],
   "source": [
    "import turtle\n",
    "\n",
    "bob=turtle.Turtle()\n",
    "\n",
    "def makeSquare(t, h, x, y, length, fillColor):\n",
    "    t.penup()\n",
    "    t.goto(x,y)\n",
    "    t.pendown()\n",
    "    t.setheading(h)\n",
    "    t.fillcolor(fillColor)\n",
    "    t.begin_fill()\n",
    "    for i in range(4):\n",
    "        t.forward(length)\n",
    "        t.left(90)\n",
    "    t.end_fill()\n",
    "    \n",
    "def makeTriangle(t, h, x, y, length, fillColor):\n",
    "    t.penup()\n",
    "    t.goto(x,y)\n",
    "    t.pendown()\n",
    "    t.setheading(h)\n",
    "    t.fillcolor(fillColor)\n",
    "    t.begin_fill()\n",
    "    for i in range(3):\n",
    "        t.forward(length)\n",
    "        t.left(120)\n",
    "    t.end_fill()\n",
    "       \n",
    "        \n",
    "#for i in range(81):\n",
    "#    if i%20==0:\n",
    "#        makeSquare(bob,i,0,0,200,\"red\")\n",
    "    \n",
    "for i in range(80):\n",
    "    if i%20==0:\n",
    "        makeTriangle(bob, 0, i, 10, 200-2*i, \"yellow\")\n",
    "        \n",
    "   \n",
    "\n"
   ]
  },
  {
   "cell_type": "code",
   "execution_count": 1,
   "metadata": {},
   "outputs": [
    {
     "ename": "TypeError",
     "evalue": "unsupported operand type(s) for %: 'range' and 'int'",
     "output_type": "error",
     "traceback": [
      "\u001b[0;31m---------------------------------------------------------------------------\u001b[0m",
      "\u001b[0;31mTypeError\u001b[0m                                 Traceback (most recent call last)",
      "\u001b[0;32m<ipython-input-1-8f95f39d5af7>\u001b[0m in \u001b[0;36m<module>\u001b[0;34m\u001b[0m\n\u001b[0;32m----> 1\u001b[0;31m \u001b[0mrange\u001b[0m\u001b[0;34m(\u001b[0m\u001b[0;36m90\u001b[0m\u001b[0;34m)\u001b[0m\u001b[0;34m%\u001b[0m\u001b[0;36m10\u001b[0m\u001b[0;34m\u001b[0m\u001b[0;34m\u001b[0m\u001b[0m\n\u001b[0m",
      "\u001b[0;31mTypeError\u001b[0m: unsupported operand type(s) for %: 'range' and 'int'"
     ]
    }
   ],
   "source": []
  },
  {
   "cell_type": "code",
   "execution_count": null,
   "metadata": {},
   "outputs": [],
   "source": []
  }
 ],
 "metadata": {
  "kernelspec": {
   "display_name": "Python 3",
   "language": "python",
   "name": "python3"
  },
  "language_info": {
   "codemirror_mode": {
    "name": "ipython",
    "version": 3
   },
   "file_extension": ".py",
   "mimetype": "text/x-python",
   "name": "python",
   "nbconvert_exporter": "python",
   "pygments_lexer": "ipython3",
   "version": "3.8.3"
  }
 },
 "nbformat": 4,
 "nbformat_minor": 4
}
