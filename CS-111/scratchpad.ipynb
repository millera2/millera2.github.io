{
 "cells": [
  {
   "cell_type": "code",
   "execution_count": null,
   "metadata": {},
   "outputs": [],
   "source": []
  },
  {
   "cell_type": "markdown",
   "metadata": {},
   "source": [
    "# Prof Miller's Scratch Pad"
   ]
  },
  {
   "cell_type": "code",
   "execution_count": 5,
   "metadata": {},
   "outputs": [],
   "source": [
    "import math\n",
    "\n",
    "population = []\n",
    "population.append(12000)\n",
    "\n",
    "for i in range(0,7):\n",
    "  thisYearPopulation = population[i]+population[i]*.08-1500\n",
    "  population.append(thisYearPopulation)\n",
    "  \n"
   ]
  },
  {
   "cell_type": "code",
   "execution_count": 6,
   "metadata": {},
   "outputs": [
    {
     "name": "stdout",
     "output_type": "stream",
     "text": [
      "[12000, 11460.0, 10876.8, 10246.944, 9566.69952, 8832.0354816, 8038.598320128, 7181.686185738239]\n"
     ]
    }
   ],
   "source": [
    "print(population)"
   ]
  },
  {
   "cell_type": "code",
   "execution_count": 7,
   "metadata": {},
   "outputs": [],
   "source": [
    "import matplotlib\n",
    "\n",
    "matplotlib.rcParams['figure.dpi']=120"
   ]
  },
  {
   "cell_type": "code",
   "execution_count": 8,
   "metadata": {},
   "outputs": [
    {
     "data": {
      "text/plain": [
       "Text(0.5, 1.0, 'Mah Muthafuckin Title')"
      ]
     },
     "execution_count": 8,
     "metadata": {},
     "output_type": "execute_result"
    },
    {
     "data": {
      "image/png": "[encoded data removed]",
      "text/plain": [
       "<Figure size 432x288 with 1 Axes>"
      ]
     },
     "metadata": {
      "needs_background": "light"
     },
     "output_type": "display_data"
    }
   ],
   "source": [
    "import matplotlib.pyplot as pyplot\n",
    "\n",
    "\n",
    "\n",
    "\n",
    "pyplot.plot(range(0,8), population)\n",
    "\n",
    "pyplot.xlabel(\"Year\")\n",
    "pyplot.ylabel(\"Number of Fishies\")\n",
    "pyplot.title(\"Mah Muthafuckin Title\")"
   ]
  },
  {
   "cell_type": "code",
   "execution_count": 9,
   "metadata": {},
   "outputs": [],
   "source": [
    "def countLinks(totalNodes):\n",
    "    \"\"\" (docstring omitted) \"\"\"\n",
    "    totalLinks = 0\n",
    "    print(\"Node  | New Links| Total Links\")\n",
    "    print(\"------|----------|-------------\")\n",
    "    for node in range(2, totalNodes + 1):\n",
    "        newLinks = node - 1\n",
    "        totalLinks = totalLinks + newLinks\n",
    "        print('{0:^6}|{1:^10}|{2:^8}'.format(node, newLinks, totalLinks))\n",
    "    return totalLinks"
   ]
  },
  {
   "cell_type": "code",
   "execution_count": 10,
   "metadata": {},
   "outputs": [
    {
     "name": "stdout",
     "output_type": "stream",
     "text": [
      "Node  | New Links| Total Links\n",
      "------|----------|-------------\n",
      "  2   |    1     |   1    \n",
      "  3   |    2     |   3    \n",
      "  4   |    3     |   6    \n",
      "  5   |    4     |   10   \n",
      "  6   |    5     |   15   \n",
      "  7   |    6     |   21   \n",
      "  8   |    7     |   28   \n",
      "  9   |    8     |   36   \n",
      "  10  |    9     |   45   \n"
     ]
    },
    {
     "data": {
      "text/plain": [
       "45"
      ]
     },
     "execution_count": 10,
     "metadata": {},
     "output_type": "execute_result"
    }
   ],
   "source": [
    "countLinks(10)"
   ]
  },
  {
   "cell_type": "markdown",
   "metadata": {},
   "source": [
    "## Optimize box\n",
    "\n",
    "the volume of our box is\n",
    "\n",
    "V=x*(20-2x)(30-2x)"
   ]
  },
  {
   "cell_type": "code",
   "execution_count": 11,
   "metadata": {},
   "outputs": [],
   "source": [
    "def largestVolume(a,b,steps):\n",
    "    volumes = []\n",
    "    a = int(a)\n",
    "    b = int(b)\n",
    "    maxX = min(a,b)//2\n",
    "    print( \"Square Side | Volume of Box\")\n",
    "    for i in range(0,maxX*steps):\n",
    "        #print('{0:^10}{1:^10.2f}'.format(i/100, i/100*(a-2*i/100)*(b-2*i/100)))\n",
    "        volumes.append(i/steps*(a-2*i/steps)*(b-2*i/steps))\n",
    "    print('{0:^12}|{1:^10.3f}'.format(volumes.index(max(volumes))/steps, max(volumes)))\n",
    "        "
   ]
  },
  {
   "cell_type": "code",
   "execution_count": 12,
   "metadata": {},
   "outputs": [
    {
     "name": "stdout",
     "output_type": "stream",
     "text": [
      "Square Side | Volume of Box\n",
      "   3.924    | 1056.306 \n"
     ]
    }
   ],
   "source": [
    "largestVolume(20, 30, 1000)"
   ]
  },
  {
   "cell_type": "code",
   "execution_count": 13,
   "metadata": {},
   "outputs": [],
   "source": [
    "import pandas"
   ]
  },
  {
   "cell_type": "code",
   "execution_count": 14,
   "metadata": {},
   "outputs": [],
   "source": [
    "cerealData = pandas.read_csv(\"../Data/Cereal_Data.csv\")"
   ]
  },
  {
   "cell_type": "code",
   "execution_count": 15,
   "metadata": {},
   "outputs": [
    {
     "data": {
      "text/html": [
       "<div>\n",
       "<style scoped>\n",
       "    .dataframe tbody tr th:only-of-type {\n",
       "        vertical-align: middle;\n",
       "    }\n",
       "\n",
       "    .dataframe tbody tr th {\n",
       "        vertical-align: top;\n",
       "    }\n",
       "\n",
       "    .dataframe thead th {\n",
       "        text-align: right;\n",
       "    }\n",
       "</style>\n",
       "<table border=\"1\" class=\"dataframe\">\n",
       "  <thead>\n",
       "    <tr style=\"text-align: right;\">\n",
       "      <th></th>\n",
       "      <th>Shelf</th>\n",
       "      <th>Name</th>\n",
       "      <th>Manufacturer</th>\n",
       "      <th>Type</th>\n",
       "      <th>Calories</th>\n",
       "      <th>Protein</th>\n",
       "      <th>Fat</th>\n",
       "      <th>Sodium</th>\n",
       "      <th>Fiber</th>\n",
       "      <th>Carbohydrates</th>\n",
       "      <th>Sugars</th>\n",
       "      <th>Potassium</th>\n",
       "      <th>Vitamins</th>\n",
       "      <th>Weight (of One Serving Cup)</th>\n",
       "      <th>Cups in Serving</th>\n",
       "    </tr>\n",
       "  </thead>\n",
       "  <tbody>\n",
       "    <tr>\n",
       "      <th>0</th>\n",
       "      <td>Top</td>\n",
       "      <td>100%_Bran</td>\n",
       "      <td>N</td>\n",
       "      <td>C</td>\n",
       "      <td>70</td>\n",
       "      <td>4</td>\n",
       "      <td>1</td>\n",
       "      <td>130</td>\n",
       "      <td>10.0</td>\n",
       "      <td>5.0</td>\n",
       "      <td>6.0</td>\n",
       "      <td>280.0</td>\n",
       "      <td>25</td>\n",
       "      <td>1.0</td>\n",
       "      <td>0.33</td>\n",
       "    </tr>\n",
       "    <tr>\n",
       "      <th>1</th>\n",
       "      <td>Top</td>\n",
       "      <td>100%_Natural_Bran</td>\n",
       "      <td>Q</td>\n",
       "      <td>C</td>\n",
       "      <td>120</td>\n",
       "      <td>3</td>\n",
       "      <td>5</td>\n",
       "      <td>15</td>\n",
       "      <td>2.0</td>\n",
       "      <td>8.0</td>\n",
       "      <td>8.0</td>\n",
       "      <td>135.0</td>\n",
       "      <td>0</td>\n",
       "      <td>1.0</td>\n",
       "      <td>1.00</td>\n",
       "    </tr>\n",
       "    <tr>\n",
       "      <th>2</th>\n",
       "      <td>Top</td>\n",
       "      <td>All-Bran</td>\n",
       "      <td>K</td>\n",
       "      <td>C</td>\n",
       "      <td>70</td>\n",
       "      <td>4</td>\n",
       "      <td>1</td>\n",
       "      <td>260</td>\n",
       "      <td>9.0</td>\n",
       "      <td>7.0</td>\n",
       "      <td>5.0</td>\n",
       "      <td>320.0</td>\n",
       "      <td>25</td>\n",
       "      <td>1.0</td>\n",
       "      <td>0.33</td>\n",
       "    </tr>\n",
       "    <tr>\n",
       "      <th>3</th>\n",
       "      <td>Top</td>\n",
       "      <td>All-Bran_with_Extra_Fiber</td>\n",
       "      <td>K</td>\n",
       "      <td>C</td>\n",
       "      <td>50</td>\n",
       "      <td>4</td>\n",
       "      <td>0</td>\n",
       "      <td>140</td>\n",
       "      <td>14.0</td>\n",
       "      <td>8.0</td>\n",
       "      <td>0.0</td>\n",
       "      <td>330.0</td>\n",
       "      <td>25</td>\n",
       "      <td>1.0</td>\n",
       "      <td>0.50</td>\n",
       "    </tr>\n",
       "    <tr>\n",
       "      <th>4</th>\n",
       "      <td>Top</td>\n",
       "      <td>Almond_Delight</td>\n",
       "      <td>R</td>\n",
       "      <td>C</td>\n",
       "      <td>110</td>\n",
       "      <td>2</td>\n",
       "      <td>2</td>\n",
       "      <td>200</td>\n",
       "      <td>1.0</td>\n",
       "      <td>14.0</td>\n",
       "      <td>8.0</td>\n",
       "      <td>NaN</td>\n",
       "      <td>25</td>\n",
       "      <td>1.0</td>\n",
       "      <td>0.75</td>\n",
       "    </tr>\n",
       "  </tbody>\n",
       "</table>\n",
       "</div>"
      ],
      "text/plain": [
       "  Shelf                       Name Manufacturer Type  Calories  Protein  Fat  \\\n",
       "0   Top                  100%_Bran            N    C        70        4    1   \n",
       "1   Top          100%_Natural_Bran            Q    C       120        3    5   \n",
       "2   Top                   All-Bran            K    C        70        4    1   \n",
       "3   Top  All-Bran_with_Extra_Fiber            K    C        50        4    0   \n",
       "4   Top             Almond_Delight            R    C       110        2    2   \n",
       "\n",
       "   Sodium  Fiber  Carbohydrates  Sugars  Potassium  Vitamins  \\\n",
       "0     130   10.0            5.0     6.0      280.0        25   \n",
       "1      15    2.0            8.0     8.0      135.0         0   \n",
       "2     260    9.0            7.0     5.0      320.0        25   \n",
       "3     140   14.0            8.0     0.0      330.0        25   \n",
       "4     200    1.0           14.0     8.0        NaN        25   \n",
       "\n",
       "   Weight (of One Serving Cup)  Cups in Serving  \n",
       "0                          1.0             0.33  \n",
       "1                          1.0             1.00  \n",
       "2                          1.0             0.33  \n",
       "3                          1.0             0.50  \n",
       "4                          1.0             0.75  "
      ]
     },
     "execution_count": 15,
     "metadata": {},
     "output_type": "execute_result"
    }
   ],
   "source": [
    "cerealData.head()"
   ]
  },
  {
   "cell_type": "code",
   "execution_count": 16,
   "metadata": {},
   "outputs": [
    {
     "data": {
      "text/html": [
       "<div>\n",
       "<style scoped>\n",
       "    .dataframe tbody tr th:only-of-type {\n",
       "        vertical-align: middle;\n",
       "    }\n",
       "\n",
       "    .dataframe tbody tr th {\n",
       "        vertical-align: top;\n",
       "    }\n",
       "\n",
       "    .dataframe thead th {\n",
       "        text-align: right;\n",
       "    }\n",
       "</style>\n",
       "<table border=\"1\" class=\"dataframe\">\n",
       "  <thead>\n",
       "    <tr style=\"text-align: right;\">\n",
       "      <th></th>\n",
       "      <th></th>\n",
       "      <th>Calories</th>\n",
       "      <th>Protein</th>\n",
       "      <th>Fat</th>\n",
       "      <th>Sodium</th>\n",
       "      <th>Fiber</th>\n",
       "      <th>Carbohydrates</th>\n",
       "      <th>Sugars</th>\n",
       "      <th>Potassium</th>\n",
       "      <th>Vitamins</th>\n",
       "      <th>Weight (of One Serving Cup)</th>\n",
       "      <th>Cups in Serving</th>\n",
       "    </tr>\n",
       "    <tr>\n",
       "      <th>Type</th>\n",
       "      <th>Manufacturer</th>\n",
       "      <th></th>\n",
       "      <th></th>\n",
       "      <th></th>\n",
       "      <th></th>\n",
       "      <th></th>\n",
       "      <th></th>\n",
       "      <th></th>\n",
       "      <th></th>\n",
       "      <th></th>\n",
       "      <th></th>\n",
       "      <th></th>\n",
       "    </tr>\n",
       "  </thead>\n",
       "  <tbody>\n",
       "    <tr>\n",
       "      <th rowspan=\"6\" valign=\"top\">C</th>\n",
       "      <th>G</th>\n",
       "      <td>111.363636</td>\n",
       "      <td>2.318182</td>\n",
       "      <td>1.363636</td>\n",
       "      <td>200.454545</td>\n",
       "      <td>1.272727</td>\n",
       "      <td>14.727273</td>\n",
       "      <td>7.954545</td>\n",
       "      <td>85.227273</td>\n",
       "      <td>35.227273</td>\n",
       "      <td>1.049091</td>\n",
       "      <td>0.875000</td>\n",
       "    </tr>\n",
       "    <tr>\n",
       "      <th>K</th>\n",
       "      <td>108.695652</td>\n",
       "      <td>2.652174</td>\n",
       "      <td>0.608696</td>\n",
       "      <td>174.782609</td>\n",
       "      <td>2.739130</td>\n",
       "      <td>15.130435</td>\n",
       "      <td>7.565217</td>\n",
       "      <td>103.043478</td>\n",
       "      <td>34.782609</td>\n",
       "      <td>1.077826</td>\n",
       "      <td>0.796087</td>\n",
       "    </tr>\n",
       "    <tr>\n",
       "      <th>N</th>\n",
       "      <td>84.000000</td>\n",
       "      <td>2.800000</td>\n",
       "      <td>0.200000</td>\n",
       "      <td>29.000000</td>\n",
       "      <td>4.600000</td>\n",
       "      <td>15.000000</td>\n",
       "      <td>2.200000</td>\n",
       "      <td>145.000000</td>\n",
       "      <td>10.000000</td>\n",
       "      <td>0.966000</td>\n",
       "      <td>0.734000</td>\n",
       "    </tr>\n",
       "    <tr>\n",
       "      <th>P</th>\n",
       "      <td>108.888889</td>\n",
       "      <td>2.444444</td>\n",
       "      <td>0.888889</td>\n",
       "      <td>146.111111</td>\n",
       "      <td>2.777778</td>\n",
       "      <td>13.222222</td>\n",
       "      <td>8.777778</td>\n",
       "      <td>113.888889</td>\n",
       "      <td>25.000000</td>\n",
       "      <td>1.064444</td>\n",
       "      <td>0.714444</td>\n",
       "    </tr>\n",
       "    <tr>\n",
       "      <th>Q</th>\n",
       "      <td>94.285714</td>\n",
       "      <td>2.285714</td>\n",
       "      <td>1.714286</td>\n",
       "      <td>105.714286</td>\n",
       "      <td>1.142857</td>\n",
       "      <td>11.571429</td>\n",
       "      <td>6.142857</td>\n",
       "      <td>69.285714</td>\n",
       "      <td>14.285714</td>\n",
       "      <td>0.857143</td>\n",
       "      <td>0.845714</td>\n",
       "    </tr>\n",
       "    <tr>\n",
       "      <th>R</th>\n",
       "      <td>115.000000</td>\n",
       "      <td>2.500000</td>\n",
       "      <td>1.250000</td>\n",
       "      <td>198.125000</td>\n",
       "      <td>1.875000</td>\n",
       "      <td>17.625000</td>\n",
       "      <td>6.125000</td>\n",
       "      <td>102.142857</td>\n",
       "      <td>25.000000</td>\n",
       "      <td>1.000000</td>\n",
       "      <td>0.871250</td>\n",
       "    </tr>\n",
       "    <tr>\n",
       "      <th rowspan=\"3\" valign=\"top\">H</th>\n",
       "      <th>A</th>\n",
       "      <td>100.000000</td>\n",
       "      <td>4.000000</td>\n",
       "      <td>1.000000</td>\n",
       "      <td>0.000000</td>\n",
       "      <td>0.000000</td>\n",
       "      <td>16.000000</td>\n",
       "      <td>3.000000</td>\n",
       "      <td>95.000000</td>\n",
       "      <td>25.000000</td>\n",
       "      <td>1.000000</td>\n",
       "      <td>1.000000</td>\n",
       "    </tr>\n",
       "    <tr>\n",
       "      <th>N</th>\n",
       "      <td>100.000000</td>\n",
       "      <td>3.000000</td>\n",
       "      <td>0.000000</td>\n",
       "      <td>80.000000</td>\n",
       "      <td>1.000000</td>\n",
       "      <td>21.000000</td>\n",
       "      <td>0.000000</td>\n",
       "      <td>NaN</td>\n",
       "      <td>0.000000</td>\n",
       "      <td>1.000000</td>\n",
       "      <td>1.000000</td>\n",
       "    </tr>\n",
       "    <tr>\n",
       "      <th>Q</th>\n",
       "      <td>100.000000</td>\n",
       "      <td>5.000000</td>\n",
       "      <td>2.000000</td>\n",
       "      <td>0.000000</td>\n",
       "      <td>2.700000</td>\n",
       "      <td>NaN</td>\n",
       "      <td>NaN</td>\n",
       "      <td>110.000000</td>\n",
       "      <td>0.000000</td>\n",
       "      <td>1.000000</td>\n",
       "      <td>0.670000</td>\n",
       "    </tr>\n",
       "  </tbody>\n",
       "</table>\n",
       "</div>"
      ],
      "text/plain": [
       "                     Calories   Protein       Fat      Sodium     Fiber  \\\n",
       "Type Manufacturer                                                         \n",
       "C    G             111.363636  2.318182  1.363636  200.454545  1.272727   \n",
       "     K             108.695652  2.652174  0.608696  174.782609  2.739130   \n",
       "     N              84.000000  2.800000  0.200000   29.000000  4.600000   \n",
       "     P             108.888889  2.444444  0.888889  146.111111  2.777778   \n",
       "     Q              94.285714  2.285714  1.714286  105.714286  1.142857   \n",
       "     R             115.000000  2.500000  1.250000  198.125000  1.875000   \n",
       "H    A             100.000000  4.000000  1.000000    0.000000  0.000000   \n",
       "     N             100.000000  3.000000  0.000000   80.000000  1.000000   \n",
       "     Q             100.000000  5.000000  2.000000    0.000000  2.700000   \n",
       "\n",
       "                   Carbohydrates    Sugars   Potassium   Vitamins  \\\n",
       "Type Manufacturer                                                   \n",
       "C    G                 14.727273  7.954545   85.227273  35.227273   \n",
       "     K                 15.130435  7.565217  103.043478  34.782609   \n",
       "     N                 15.000000  2.200000  145.000000  10.000000   \n",
       "     P                 13.222222  8.777778  113.888889  25.000000   \n",
       "     Q                 11.571429  6.142857   69.285714  14.285714   \n",
       "     R                 17.625000  6.125000  102.142857  25.000000   \n",
       "H    A                 16.000000  3.000000   95.000000  25.000000   \n",
       "     N                 21.000000  0.000000         NaN   0.000000   \n",
       "     Q                       NaN       NaN  110.000000   0.000000   \n",
       "\n",
       "                   Weight (of One Serving Cup)  Cups in Serving  \n",
       "Type Manufacturer                                                \n",
       "C    G                                1.049091         0.875000  \n",
       "     K                                1.077826         0.796087  \n",
       "     N                                0.966000         0.734000  \n",
       "     P                                1.064444         0.714444  \n",
       "     Q                                0.857143         0.845714  \n",
       "     R                                1.000000         0.871250  \n",
       "H    A                                1.000000         1.000000  \n",
       "     N                                1.000000         1.000000  \n",
       "     Q                                1.000000         0.670000  "
      ]
     },
     "execution_count": 16,
     "metadata": {},
     "output_type": "execute_result"
    }
   ],
   "source": [
    "cerealData.groupby([cerealData.Type, cerealData.Manufacturer]).mean()"
   ]
  },
  {
   "cell_type": "code",
   "execution_count": 17,
   "metadata": {},
   "outputs": [],
   "source": [
    "from plotnine import *"
   ]
  },
  {
   "cell_type": "code",
   "execution_count": 18,
   "metadata": {},
   "outputs": [
    {
     "data": {
      "image/png": "[encoded data removed]",
      "text/plain": [
       "<Figure size 640x480 with 1 Axes>"
      ]
     },
     "metadata": {},
     "output_type": "display_data"
    },
    {
     "data": {
      "text/plain": [
       "<ggplot: (295329422)>"
      ]
     },
     "execution_count": 18,
     "metadata": {},
     "output_type": "execute_result"
    }
   ],
   "source": [
    "ggplot(cerealData, aes(\"Calories\", \"Protein\"))+geom_point()"
   ]
  },
  {
   "cell_type": "code",
   "execution_count": 19,
   "metadata": {},
   "outputs": [
    {
     "data": {
      "text/plain": [
       "<matplotlib.collections.PathCollection at 0x119cc0400>"
      ]
     },
     "execution_count": 19,
     "metadata": {},
     "output_type": "execute_result"
    },
    {
     "data": {
      "image/png": "[encoded data removed]",
      "text/plain": [
       "<Figure size 432x288 with 1 Axes>"
      ]
     },
     "metadata": {
      "needs_background": "light"
     },
     "output_type": "display_data"
    }
   ],
   "source": [
    "pyplot.scatter(cerealData[\"Calories\"], cerealData[\"Protein\"])"
   ]
  },
  {
   "cell_type": "code",
   "execution_count": 123,
   "metadata": {},
   "outputs": [],
   "source": [
    "import math\n",
    "\n",
    "def computeValue(P,r,t):\n",
    "    return P*math.exp(r*t)"
   ]
  },
  {
   "cell_type": "code",
   "execution_count": 126,
   "metadata": {},
   "outputs": [
    {
     "name": "stdout",
     "output_type": "stream",
     "text": [
      " Month | Current Value | Difference\n",
      "-------|---------------|-----------\n",
      "   0   |    1000.00    |   34.39   \n",
      "   1   |    1035.62    |   35.62   \n",
      "   2   |    1072.51    |   36.89   \n",
      "   3   |    1110.71    |   38.20   \n",
      "   4   |    1150.27    |   39.56   \n",
      "   5   |    1191.25    |   40.97   \n",
      "   6   |    1233.68    |   42.43   \n",
      "   7   |    1277.62    |   43.94   \n",
      "   8   |    1323.13    |   45.51   \n",
      "   9   |    1370.26    |   47.13   \n",
      "  10   |    1419.07    |   48.81   \n",
      "  11   |    1469.61    |   50.55   \n",
      "  12   |    1521.96    |   52.35   \n",
      "  13   |    1576.17    |   54.21   \n",
      "  14   |    1632.32    |   56.14   \n",
      "  15   |    1690.46    |   58.14   \n",
      "  16   |    1750.67    |   60.21   \n",
      "  17   |    1813.03    |   62.36   \n",
      "  18   |    1877.61    |   64.58   \n",
      "  19   |    1944.49    |   66.88   \n"
     ]
    }
   ],
   "source": [
    "startValue = 1000\n",
    "r = .035\n",
    "\n",
    "curValue = startValue\n",
    "time = 0\n",
    "print(\" Month | Current Value | Difference\")\n",
    "print(\"-------|---------------|-----------\")\n",
    "while(curValue<2000):\n",
    "    print('{0:^7}|{1:^15.2f}|{2:^11.2f}'.format(time, curValue, curValue-computeValue(startValue, r, time-1)))\n",
    "    time+=1\n",
    "    curValue = computeValue(startValue, r, time)\n",
    "    "
   ]
  },
  {
   "cell_type": "code",
   "execution_count": 22,
   "metadata": {},
   "outputs": [
    {
     "data": {
      "text/plain": [
       "54.598150033144236"
      ]
     },
     "execution_count": 22,
     "metadata": {},
     "output_type": "execute_result"
    }
   ],
   "source": [
    "import math\n",
    "math.exp(4)"
   ]
  },
  {
   "cell_type": "code",
   "execution_count": null,
   "metadata": {},
   "outputs": [],
   "source": []
  },
  {
   "cell_type": "markdown",
   "metadata": {},
   "source": [
    "Principal:  100k.  Interest:  4/12% per month.\n",
    "\n",
    "100000 + 100000*.04/12 + 100000*.04/12...\n",
    "\n",
    "\n",
    "\n",
    "\n",
    "Current amount = sum(100000*.04/12^(k-1))\n",
    "\n"
   ]
  },
  {
   "cell_type": "code",
   "execution_count": 127,
   "metadata": {},
   "outputs": [
    {
     "name": "stdout",
     "output_type": "stream",
     "text": [
      "Current debt\n",
      "   10000    \n",
      "9033.333333333334\n",
      "8063.444444444445\n",
      "7090.322592592594\n",
      "6113.95700123457\n",
      "5134.336857905352\n",
      "4151.451314098371\n",
      "3165.2894851453657\n",
      "2175.8404500958504\n",
      "1183.09325159617\n",
      "187.03689576815714\n"
     ]
    }
   ],
   "source": [
    "principal = 10000\n",
    "rate = .04/12\n",
    "currentDebt = principal\n",
    "print(\"Current debt\")\n",
    "newDebt = 0\n",
    "\n",
    "while currentDebt >0 :\n",
    "    newDebt = currentDebt*(1+rate)\n",
    "    print('{0:^12}'.format(currentDebt))\n",
    "    currentDebt = newDebt-1000\n",
    "    "
   ]
  },
  {
   "cell_type": "code",
   "execution_count": 128,
   "metadata": {},
   "outputs": [],
   "source": [
    "def monthlyChange(debt, apr, minRate, payment):\n",
    "    curBalance = debt\n",
    "    newBalance = curBalance\n",
    "    for i in range(1,31):\n",
    "        newBalance = newBalance + newBalance*(apr/365)\n",
    "    interest = newBalance - curBalance\n",
    "    amountPaid = max(newBalance*minRate,payment)\n",
    "    principalPaid = amountPaid - interest\n",
    "    return [newBalance, interest, payment, principalPaid]\n",
    "    \n",
    "        \n",
    "\n",
    "\n",
    "    "
   ]
  },
  {
   "cell_type": "code",
   "execution_count": 34,
   "metadata": {},
   "outputs": [
    {
     "data": {
      "text/plain": [
       "100.0"
      ]
     },
     "execution_count": 34,
     "metadata": {},
     "output_type": "execute_result"
    }
   ],
   "source": [
    "5000*.02"
   ]
  },
  {
   "cell_type": "code",
   "execution_count": 32,
   "metadata": {},
   "outputs": [],
   "source": [
    "def paymentHistory(principal, apr, minRate, payment):\n",
    "    print(\"Month | Current Balance | Monthly Interest | Minimum Payment | Principal Paid | Total Amount Paid\")\n",
    "    month = 1\n",
    "    breakdown = monthlyChange(principal, apr, minRate, payment)\n",
    "    totalPayment = breakdown[2]\n",
    "    principal = []\n",
    "    interest = []\n",
    "    while(breakdown[0]>10):\n",
    "        print('{0:^10}|{1:^17.2f}|{2:^18.2f}|{3:^17.2f}|{4:^16.2f}|{5:^17.2f}'.format(str(month//12)+\"y \"+str(month%12)+\"m \", breakdown[0], breakdown[1], breakdown[2], breakdown[3], totalPayment))\n",
    "        month +=1\n",
    "        totalPayment = breakdown[2]+totalPayment\n",
    "        principal.append(breakdown[3])\n",
    "        interest.append(breakdown[1])\n",
    "        breakdown = monthlyChange(breakdown[0]-breakdown[2], apr, minRate, payment)\n",
    "    return [principal, interest]\n",
    "        "
   ]
  },
  {
   "cell_type": "code",
   "execution_count": null,
   "metadata": {},
   "outputs": [],
   "source": []
  },
  {
   "cell_type": "code",
   "execution_count": 56,
   "metadata": {},
   "outputs": [
    {
     "data": {
      "text/plain": [
       "<matplotlib.legend.Legend at 0x11b3dba00>"
      ]
     },
     "execution_count": 56,
     "metadata": {},
     "output_type": "execute_result"
    },
    {
     "data": {
      "image/png": "[encoded data removed]",
      "text/plain": [
       "<Figure size 432x288 with 1 Axes>"
      ]
     },
     "metadata": {
      "needs_background": "light"
     },
     "output_type": "display_data"
    }
   ],
   "source": [
    "prInterest[0]\n",
    "\n",
    "pyplot.plot(prInterest[0], label=\"principal\")\n",
    "\n",
    "pyplot.plot(prInterest[1], label=\"interest\")\n",
    "\n",
    "pyplot.title(\"Intest Paid vs Principle Paid\")\n",
    "\n",
    "pyplot.xlabel(\"Month\")\n",
    "\n",
    "pyplot.legend()"
   ]
  },
  {
   "cell_type": "code",
   "execution_count": null,
   "metadata": {},
   "outputs": [],
   "source": []
  },
  {
   "cell_type": "code",
   "execution_count": null,
   "metadata": {},
   "outputs": [],
   "source": []
  },
  {
   "cell_type": "markdown",
   "metadata": {},
   "source": [
    "Loan:  100000\n",
    "\n",
    "APR:  .04\n",
    "\n",
    "Monthly interest:  .04/12 = "
   ]
  },
  {
   "cell_type": "code",
   "execution_count": null,
   "metadata": {},
   "outputs": [],
   "source": []
  },
  {
   "cell_type": "code",
   "execution_count": 63,
   "metadata": {},
   "outputs": [
    {
     "name": "stdout",
     "output_type": "stream",
     "text": [
      "333.33333333333337\n",
      "99733.33333333333\n"
     ]
    }
   ],
   "source": [
    "principal = 100000\n",
    "rate = .04/12\n",
    "payment = 600\n",
    "## first month\n",
    "interest = principal*rate\n",
    "print(interest)\n",
    "principalReduction = payment-interest\n",
    "principal = principal - principalReduction\n",
    "print(principal)"
   ]
  },
  {
   "cell_type": "code",
   "execution_count": 1,
   "metadata": {},
   "outputs": [],
   "source": [
    "def amortMonth(p, rate, payment):\n",
    "    principal = p\n",
    "    interest = p*rate\n",
    "    newPrincipal = principal - (payment-interest)\n",
    "    return [newPrincipal, interest]"
   ]
  },
  {
   "cell_type": "code",
   "execution_count": 2,
   "metadata": {},
   "outputs": [
    {
     "data": {
      "text/plain": [
       "[199736.63, 750.0]"
      ]
     },
     "execution_count": 2,
     "metadata": {},
     "output_type": "execute_result"
    }
   ],
   "source": [
    "amortMonth(200000, .045/12, 1013.37)"
   ]
  },
  {
   "cell_type": "code",
   "execution_count": 112,
   "metadata": {},
   "outputs": [],
   "source": [
    "import matplotlib.pyplot as pyplot\n",
    "\n",
    "def paymentHistory(p, d, r, payment):\n",
    "    r = r/12\n",
    "    principal = p-d\n",
    "    month = 1\n",
    "    #print(\"  Month  |  Balance  | Principal | Interest\")\n",
    "    #print(\"---------|-----------|-----------|---------\")\n",
    "    principalPayments = [0]\n",
    "    interestPayment = [0]\n",
    "    totalPayment = 0\n",
    "    balances = []\n",
    "    while(principal >0 and month<1000):\n",
    "        balances.append(principal)\n",
    "        totalPayment += payment\n",
    "        interest = principal*r\n",
    "        principalPayment = payment - interest\n",
    "        principalPayments.append(principalPayments[-1] + principalPayment)\n",
    "        interestPayment.append(interestPayment[-1]+interest)\n",
    "        formatString = '{0:^9}|{1:^11.2f}|{2:^11.2f}|{3:^9.2f}'\n",
    "        #print(formatString.format(str(month//12)+\"y \"+str(month%12)+\"m \", principal, principalPayment, interest))\n",
    "        principal = amortMonth(principal, r, payment)[0]\n",
    "        month+=1\n",
    "    return [principalPayments, interestPayment, totalPayment, balances]\n",
    "        \n",
    "def plotTotals(payments):\n",
    "    pyplot.plot(payments[0], label = \"Principal\")\n",
    "    pyplot.plot(payments[1], label = \"Interest\")\n",
    "    pyplot.plot(payments[3], label = \"Balance\")\n",
    "    pyplot.xlabel(\"Month\")\n",
    "    pyplot.ylabel(\"Total Payment\")\n",
    "    pyplot.title(\"Principal Paid vs Interest Paid\") \n",
    "    pyplot.legend()\n",
    "    fs = \"{0:^10.2f}|{1:^10.2f}|{2:^10.2f}\"\n",
    "    print(\"Principal | Interest | Balance\")\n",
    "    print(fs.format(payments[0][-2], payments[1][-1], payments[3][-1] ))"
   ]
  },
  {
   "cell_type": "code",
   "execution_count": 132,
   "metadata": {},
   "outputs": [
    {
     "name": "stdout",
     "output_type": "stream",
     "text": [
      "Principal | Interest | Balance\n",
      "135000.00 | 35748.51 |   0.00   \n"
     ]
    },
    {
     "data": {
      "image/png": "[encoded data removed]",
      "text/plain": [
       "<Figure size 432x288 with 1 Axes>"
      ]
     },
     "metadata": {
      "needs_background": "light"
     },
     "output_type": "display_data"
    }
   ],
   "source": [
    "\n",
    "plotTotals(paymentHistory(135000, 0, .0325, 948.60283))\n",
    "\n"
   ]
  },
  {
   "cell_type": "code",
   "execution_count": null,
   "metadata": {},
   "outputs": [],
   "source": []
  },
  {
   "cell_type": "code",
   "execution_count": 82,
   "metadata": {},
   "outputs": [
    {
     "data": {
      "text/plain": [
       "float"
      ]
     },
     "execution_count": 82,
     "metadata": {},
     "output_type": "execute_result"
    }
   ],
   "source": [
    "type(payments[0][-1])"
   ]
  },
  {
   "cell_type": "code",
   "execution_count": null,
   "metadata": {},
   "outputs": [],
   "source": []
  },
  {
   "cell_type": "code",
   "execution_count": 145,
   "metadata": {},
   "outputs": [
    {
     "name": "stdout",
     "output_type": "stream",
     "text": [
      "Help on function exampleFunction in module __main__:\n",
      "\n",
      "exampleFunction()\n",
      "    Prints \"Yo, who dis?\"\n",
      "    \n",
      "    Parameters: none.\n",
      "    Return value: none\n",
      "\n"
     ]
    }
   ],
   "source": [
    "def exampleFunction():\n",
    "    \"\"\"Prints \"Yo, who dis?\"\n",
    "    \n",
    "    Parameters: none.\n",
    "    Return value: none\n",
    "    \"\"\"\n",
    "    print(\"Yo, who dis?\")\n",
    "    \n",
    "help(exampleFunction)"
   ]
  },
  {
   "cell_type": "code",
   "execution_count": 1,
   "metadata": {},
   "outputs": [],
   "source": [
    "import turtle_squares"
   ]
  },
  {
   "cell_type": "code",
   "execution_count": 2,
   "metadata": {},
   "outputs": [
    {
     "name": "stdout",
     "output_type": "stream",
     "text": [
      "Help on module turtle_squares:\n",
      "\n",
      "NAME\n",
      "    turtle_squares - This is our example turtle drawing program from class.\n",
      "\n",
      "FUNCTIONS\n",
      "    drawSquare(myTurtle, x, y, sideLength=100)\n",
      "\n",
      "DATA\n",
      "    bob = <turtle.Turtle object>\n",
      "    jill = <turtle.Turtle object>\n",
      "\n",
      "FILE\n",
      "    /Users/millera2/millera2.github.io/CS-111/turtle_squares.py\n",
      "\n",
      "\n"
     ]
    }
   ],
   "source": [
    "help(turtle_squares)"
   ]
  },
  {
   "cell_type": "code",
   "execution_count": 3,
   "metadata": {},
   "outputs": [
    {
     "data": {
      "text/plain": [
       "2"
      ]
     },
     "execution_count": 3,
     "metadata": {},
     "output_type": "execute_result"
    }
   ],
   "source": [
    "1+1"
   ]
  },
  {
   "cell_type": "code",
   "execution_count": 1,
   "metadata": {},
   "outputs": [
    {
     "name": "stdin",
     "output_type": "stream",
     "text": [
      "here's where you put the names blah blah blah\n"
     ]
    }
   ],
   "source": [
    "names = input(\"here's where you put the names\")"
   ]
  },
  {
   "cell_type": "code",
   "execution_count": 2,
   "metadata": {},
   "outputs": [
    {
     "data": {
      "text/plain": [
       "'blah blah blah'"
      ]
     },
     "execution_count": 2,
     "metadata": {},
     "output_type": "execute_result"
    }
   ],
   "source": [
    "names"
   ]
  },
  {
   "cell_type": "code",
   "execution_count": 3,
   "metadata": {},
   "outputs": [
    {
     "name": "stdin",
     "output_type": "stream",
     "text": [
      "otherthign asldkfjasldjfalskd\n"
     ]
    }
   ],
   "source": [
    "otherThing = input(\"otherthign\")"
   ]
  },
  {
   "cell_type": "code",
   "execution_count": 7,
   "metadata": {},
   "outputs": [],
   "source": [
    "def exampleFunction():\n",
    "    \"\"\"test\n",
    "    \"\"\""
   ]
  },
  {
   "cell_type": "code",
   "execution_count": 5,
   "metadata": {},
   "outputs": [
    {
     "name": "stdout",
     "output_type": "stream",
     "text": [
      "Help on function exampleFunction in module __main__:\n",
      "\n",
      "exampleFunction()\n",
      "    test\n",
      "\n"
     ]
    }
   ],
   "source": [
    "help(exampleFunction)"
   ]
  },
  {
   "cell_type": "code",
   "execution_count": 1,
   "metadata": {},
   "outputs": [],
   "source": [
    "def distance(a,b):\n",
    "    print(a-b)"
   ]
  },
  {
   "cell_type": "code",
   "execution_count": 2,
   "metadata": {},
   "outputs": [
    {
     "name": "stdout",
     "output_type": "stream",
     "text": [
      "3\n"
     ]
    }
   ],
   "source": [
    "distance(8,5)"
   ]
  },
  {
   "cell_type": "code",
   "execution_count": 3,
   "metadata": {},
   "outputs": [
    {
     "name": "stdout",
     "output_type": "stream",
     "text": [
      "3\n"
     ]
    }
   ],
   "source": [
    "myDistance = distance(8,5)"
   ]
  },
  {
   "cell_type": "code",
   "execution_count": 5,
   "metadata": {},
   "outputs": [
    {
     "ename": "TypeError",
     "evalue": "unsupported operand type(s) for *: 'NoneType' and 'int'",
     "output_type": "error",
     "traceback": [
      "\u001b[0;31m---------------------------------------------------------------------------\u001b[0m",
      "\u001b[0;31mTypeError\u001b[0m                                 Traceback (most recent call last)",
      "\u001b[0;32m<ipython-input-5-b9f862649245>\u001b[0m in \u001b[0;36m<module>\u001b[0;34m\u001b[0m\n\u001b[0;32m----> 1\u001b[0;31m \u001b[0mmyDistance\u001b[0m\u001b[0;34m*\u001b[0m\u001b[0;36m2\u001b[0m\u001b[0;34m\u001b[0m\u001b[0;34m\u001b[0m\u001b[0m\n\u001b[0m",
      "\u001b[0;31mTypeError\u001b[0m: unsupported operand type(s) for *: 'NoneType' and 'int'"
     ]
    }
   ],
   "source": [
    "myDistance*2"
   ]
  },
  {
   "cell_type": "code",
   "execution_count": 8,
   "metadata": {},
   "outputs": [],
   "source": [
    "import math"
   ]
  },
  {
   "cell_type": "code",
   "execution_count": 9,
   "metadata": {},
   "outputs": [
    {
     "ename": "NameError",
     "evalue": "name 'sqrt' is not defined",
     "output_type": "error",
     "traceback": [
      "\u001b[0;31m---------------------------------------------------------------------------\u001b[0m",
      "\u001b[0;31mNameError\u001b[0m                                 Traceback (most recent call last)",
      "\u001b[0;32m<ipython-input-9-66e338417901>\u001b[0m in \u001b[0;36m<module>\u001b[0;34m\u001b[0m\n\u001b[0;32m----> 1\u001b[0;31m \u001b[0msqrt\u001b[0m\u001b[0;34m(\u001b[0m\u001b[0;36m2\u001b[0m\u001b[0;34m)\u001b[0m\u001b[0;34m\u001b[0m\u001b[0;34m\u001b[0m\u001b[0m\n\u001b[0m",
      "\u001b[0;31mNameError\u001b[0m: name 'sqrt' is not defined"
     ]
    }
   ],
   "source": [
    "sqrt(2)"
   ]
  },
  {
   "cell_type": "code",
   "execution_count": 1,
   "metadata": {},
   "outputs": [],
   "source": [
    "import testFile"
   ]
  },
  {
   "cell_type": "code",
   "execution_count": 2,
   "metadata": {},
   "outputs": [
    {
     "data": {
      "text/plain": [
       "22"
      ]
     },
     "execution_count": 2,
     "metadata": {},
     "output_type": "execute_result"
    }
   ],
   "source": [
    "testFile.sumNumbers([1,2,3,4,5,7])"
   ]
  },
  {
   "cell_type": "code",
   "execution_count": 2,
   "metadata": {},
   "outputs": [],
   "source": [
    "\n",
    "from math import *\n",
    "from testFile import *"
   ]
  },
  {
   "cell_type": "code",
   "execution_count": 3,
   "metadata": {},
   "outputs": [
    {
     "name": "stdout",
     "output_type": "stream",
     "text": [
      "nope, fake!\n"
     ]
    }
   ],
   "source": [
    "sqrt(7)"
   ]
  },
  {
   "cell_type": "code",
   "execution_count": null,
   "metadata": {},
   "outputs": [],
   "source": [
    "population = 10000   #starting population\n",
    "rate = .08\n",
    "totalCatch = 801\n",
    "\n",
    "#Look at population for next 10 years\n",
    "\n",
    "print(\"Year|Population\")\n",
    "\n",
    "year = 0\n",
    "while (population >0 and year < 100):\n",
    "    population = population*(1+rate)-totalCatch\n",
    "    formatString = '{0:^4}|{1:^11.2f}'\n",
    "    print(formatString.format(year+1, population))\n",
    "    year = year+1"
   ]
  },
  {
   "cell_type": "code",
   "execution_count": 3,
   "metadata": {},
   "outputs": [],
   "source": [
    "def fishSim(p0, r, catchLimit):\n",
    "    population = p0\n",
    "    year = 0\n",
    "    while (population - catchLimit > 0 and year<500):\n",
    "        population = population*(1+r)-catchLimit\n",
    "        year += 1\n",
    "    print(\"The fish will be extinct in \"+str(year)+\" years\")\n",
    "    "
   ]
  },
  {
   "cell_type": "code",
   "execution_count": 4,
   "metadata": {},
   "outputs": [
    {
     "name": "stdout",
     "output_type": "stream",
     "text": [
      "The fish will be extinct in 500 years\n"
     ]
    }
   ],
   "source": [
    "fishSim(150000, .12, 1200)"
   ]
  },
  {
   "cell_type": "code",
   "execution_count": 5,
   "metadata": {},
   "outputs": [
    {
     "name": "stdout",
     "output_type": "stream",
     "text": [
      "The fish will be extinct in 500 years\n",
      "The fish will be extinct in 500 years\n",
      "The fish will be extinct in 500 years\n",
      "The fish will be extinct in 500 years\n",
      "The fish will be extinct in 500 years\n",
      "The fish will be extinct in 500 years\n",
      "The fish will be extinct in 500 years\n",
      "The fish will be extinct in 500 years\n",
      "The fish will be extinct in 500 years\n",
      "The fish will be extinct in 25 years\n"
     ]
    }
   ],
   "source": [
    "for i in range(10):\n",
    "    fishSim(15000, .12, 1000+100*i)"
   ]
  },
  {
   "cell_type": "code",
   "execution_count": 13,
   "metadata": {},
   "outputs": [
    {
     "name": "stdout",
     "output_type": "stream",
     "text": [
      "The fish will be extinct in 86 years\n"
     ]
    }
   ],
   "source": [
    "fishSim(15000, .12, 1800)"
   ]
  },
  {
   "cell_type": "code",
   "execution_count": 14,
   "metadata": {},
   "outputs": [
    {
     "data": {
      "text/plain": [
       "1800.0"
      ]
     },
     "execution_count": 14,
     "metadata": {},
     "output_type": "execute_result"
    }
   ],
   "source": [
    ".12*15000"
   ]
  },
  {
   "cell_type": "code",
   "execution_count": 49,
   "metadata": {},
   "outputs": [],
   "source": [
    "def fenceArea(x):\n",
    "    y = (1200-2*x)/3\n",
    "    return x*y"
   ]
  },
  {
   "cell_type": "code",
   "execution_count": 55,
   "metadata": {},
   "outputs": [
    {
     "name": "stdout",
     "output_type": "stream",
     "text": [
      "The maximum area for the enclosure is 60000.00.  This happens when x=300.00 and y=200.00\n"
     ]
    }
   ],
   "source": [
    "maxArea = 0\n",
    "length=0\n",
    "for i in range(600):\n",
    "    if fenceArea(i) > maxArea:\n",
    "        maxArea = fenceArea(i)\n",
    "        length = i\n",
    "print(\"The maximum area for the enclosure is \"+\"{0:^4.2f}\".format(maxArea)+\".  This happens when x=\"+\"{0:^4.2f}\".format(length)+\" and y=\"+\"{0:^4.2f}\".format((1200-2*length)/3))"
   ]
  },
  {
   "cell_type": "code",
   "execution_count": 42,
   "metadata": {},
   "outputs": [],
   "source": [
    "def profit(quantity, salePrice):\n",
    "    costPerItem = 2000/quantity\n",
    "    return salePrice*quantity - 2000/quantity"
   ]
  },
  {
   "cell_type": "code",
   "execution_count": 43,
   "metadata": {},
   "outputs": [
    {
     "data": {
      "text/plain": [
       "996.0"
      ]
     },
     "execution_count": 43,
     "metadata": {},
     "output_type": "execute_result"
    }
   ],
   "source": [
    "profit(500, 2)"
   ]
  },
  {
   "cell_type": "code",
   "execution_count": 44,
   "metadata": {},
   "outputs": [
    {
     "data": {
      "text/plain": [
       "1998.0"
      ]
     },
     "execution_count": 44,
     "metadata": {},
     "output_type": "execute_result"
    }
   ],
   "source": [
    "profit(1000, 2)"
   ]
  },
  {
   "cell_type": "markdown",
   "metadata": {},
   "source": [
    "Maria has an online shop where she sells hand made paintings and cards. She sells the painting for $50 and the card for $20. It takes her 2 hours to complete 1 painting and 45 minutes to make a single card. She also has a day job and makes paintings and cards in her free time. She cannot spend more than 15 hours a week to make paintings and cards. Additionally, she should make not more than 10 paintings and cards per week.\n",
    "\n",
    "She makes a profit of $25 on painting and $15 on each card. How many paintings and cards should she make each week to maximize her profit."
   ]
  },
  {
   "cell_type": "markdown",
   "metadata": {},
   "source": [
    "x = number of paintings\n",
    "y = number of cards\n",
    "\n",
    "2x+.75y <= 15\n",
    "x+y < 10\n",
    "\n",
    "P = 25*x+15*y\n",
    "\n"
   ]
  },
  {
   "cell_type": "code",
   "execution_count": 67,
   "metadata": {},
   "outputs": [
    {
     "name": "stdout",
     "output_type": "stream",
     "text": [
      "210 6 4\n"
     ]
    }
   ],
   "source": [
    "maxProfit = 0\n",
    "numPaint = 0\n",
    "numCard = 0\n",
    "\n",
    "for paintings in range(10):\n",
    "    for cards in range(0, 10):\n",
    "        if (2*paintings + .75*cards <= 15 and paintings+cards<=10):\n",
    "            if(25*paintings+15*cards > maxProfit):\n",
    "                maxProfit = 25*paintings+15*cards\n",
    "                numPaint = paintings\n",
    "                numCard = cards\n",
    "print(maxProfit, numPaint, numCard)"
   ]
  },
  {
   "cell_type": "markdown",
   "metadata": {},
   "source": [
    ".5𝑥+𝑦≤10\n",
    "𝑥+𝑦≤15\n",
    "𝑥≥0𝑦≥0\n",
    "\n",
    "profit = 15*x+20*y\n",
    "\n",
    "\n",
    "\n",
    "\n"
   ]
  },
  {
   "cell_type": "code",
   "execution_count": 68,
   "metadata": {},
   "outputs": [
    {
     "name": "stdout",
     "output_type": "stream",
     "text": [
      "250\n"
     ]
    }
   ],
   "source": [
    "maxProfit = 0\n",
    "\n",
    "for x in range(16):\n",
    "    for y in range(16):\n",
    "        if(15*x+20*y>maxProfit and .5*x + y <= 10 and x+y<=15):\n",
    "            maxProfit = 15*x+20*y\n",
    "print(maxProfit)"
   ]
  },
  {
   "cell_type": "markdown",
   "metadata": {},
   "source": [
    "\n",
    "\n",
    "\n",
    "\n",
    "\n",
    "In a game, players can craft items using resources found in the game world.  There are many options, but here we'll focus on shields and armor.  These items are both crafted from leather and iron.\n",
    "\n",
    "A player can craft a shield with 2 pieces of iron and 1 piece of leather.\n",
    "\n",
    "A player can craft a suit of armor with 1 piece of iron and 3 pieces of leather.\n",
    "\n",
    "The player wishes to make a profit selling the goods she's created.\n",
    "\n",
    "For each shield she sells, the player earns 25 gold pieces.  For each armor, she earns  40 gold pieces.\n",
    "\n",
    "Currently, the player has 8 pieces of iron and 6 pieces of leather.\n",
    "\n",
    "Crafting the armor takes time -- 2 hour to make a shield, and 3 hours to make an armor.  The player is not willing to spend more than 96 hours crafting goods.\n",
    "\n",
    " "
   ]
  },
  {
   "cell_type": "code",
   "execution_count": 163,
   "metadata": {},
   "outputs": [],
   "source": [
    "shieldIron = 2\n",
    "shieldLeather = 1\n",
    "armorIron = 4\n",
    "armorLeather = 5\n",
    "\n",
    "def maxShields(iron, leather):\n",
    "    return min(iron//shieldIron, leather//shieldLeather)\n",
    "\n",
    "def maxArmors(iron, leather):\n",
    "    return min(iron//armorIron, leather//armorLeather)\n",
    "\n",
    "def optimizeMaterials(iron, leather):    \n",
    "    maxProfit = 0\n",
    "    numShields = 0\n",
    "    numArmors = 0\n",
    "    \n",
    "    for shields in range(maxShields(iron, leather)):\n",
    "        for armors in range(maxArmors(iron, leather)):\n",
    "            time = 2*shields + 3*armors\n",
    "            profit = 25*shields+40*armors\n",
    "            if (time<96 and profit>maxProfit and (shields*shieldIron + armors*armorIron<iron) and (shields*shildLeather+armors*armorLeather<leather) ):\n",
    "                maxProfit = profit\n",
    "                numShields = shields\n",
    "                numArmors = armors\n",
    "    print(maxProfit, numShields, numArmors)\n"
   ]
  },
  {
   "cell_type": "code",
   "execution_count": 165,
   "metadata": {},
   "outputs": [
    {
     "name": "stdout",
     "output_type": "stream",
     "text": [
      "1265 1 31\n"
     ]
    }
   ],
   "source": [
    "optimizeMaterials(200,200)"
   ]
  },
  {
   "cell_type": "code",
   "execution_count": 206,
   "metadata": {},
   "outputs": [],
   "source": [
    "def maxShields(iron, leather):\n",
    "    return min(iron, leather)\n",
    "\n",
    "def maxArmors(iron, leather):\n",
    "    return min(iron//2, leather//4)\n",
    "\n",
    "\n",
    "def ironUsed(shields, armors):\n",
    "    return shields+armors*2\n",
    "\n",
    "def leatherUsed(shields, armors):\n",
    "    return shields+armors*4\n",
    "    "
   ]
  },
  {
   "cell_type": "code",
   "execution_count": 271,
   "metadata": {},
   "outputs": [],
   "source": [
    "def maxProfit(iron, leather):\n",
    "    maxProf = 0\n",
    "    numShields = 0\n",
    "    numArmors = 0\n",
    "    for shields in range(maxShields(iron,leather)+1):\n",
    "        for armors in range(maxArmors(iron, leather)+1):\n",
    "            profit = 25*shields + 49*armors\n",
    "            if profit>maxProf and ironUsed(shields, armors)<=iron and leatherUsed(shields, armors)<=leather:\n",
    "                maxProf = profit\n",
    "                numShields = shields\n",
    "                numArmors = armors\n",
    "    return[maxProf, numShields, numArmors]"
   ]
  },
  {
   "cell_type": "code",
   "execution_count": 272,
   "metadata": {},
   "outputs": [
    {
     "name": "stdout",
     "output_type": "stream",
     "text": [
      "50 2\n"
     ]
    }
   ],
   "source": [
    "profit = 0\n",
    "iron = 0\n",
    "for i in range(600):\n",
    "    if maxProfit(i, 1000)[1]>1:\n",
    "        profit = maxProfit(i,1000)[0]\n",
    "        iron = i\n",
    "        break\n",
    "print(profit, iron)\n",
    "    "
   ]
  },
  {
   "cell_type": "code",
   "execution_count": 260,
   "metadata": {},
   "outputs": [
    {
     "data": {
      "text/plain": [
       "[15200, 20, 245]"
      ]
     },
     "execution_count": 260,
     "metadata": {},
     "output_type": "execute_result"
    }
   ],
   "source": [
    "maxProfit(510,1000)"
   ]
  },
  {
   "cell_type": "code",
   "execution_count": 216,
   "metadata": {},
   "outputs": [
    {
     "data": {
      "text/plain": [
       "599"
      ]
     },
     "execution_count": 216,
     "metadata": {},
     "output_type": "execute_result"
    }
   ],
   "source": [
    "ironUsed(199,200)"
   ]
  },
  {
   "cell_type": "code",
   "execution_count": 90,
   "metadata": {},
   "outputs": [],
   "source": [
    "def creditCardPaymentSummary(d, r, minPayment):    \n",
    "    \"\"\"Computes the number of months\n",
    "    \"\"\"\n",
    "    debt = d\n",
    "    day = 0\n",
    "    totalPayment = 0\n",
    "    remainder = 0\n",
    "    while debt>minPayment and day < 5000:\n",
    "        day += 1\n",
    "        debt = debt+debt*r/365\n",
    "        if day%30 == 0:\n",
    "            debt = debt - minPayment\n",
    "            totalPayment = totalPayment+minPayment\n",
    "    finalDebt = debt*(1+r)\n",
    "    totalPayment += finalDebt\n",
    "    print(\"You'll spend $\"+\"{0:.2f}\".format(totalPayment)+\" over \"+str(day//30+1)+\" months.\")\n",
    "    print(\"You'll lose $\"+\"{0:.2f}\".format(totalPayment - d)+\".\")\n",
    "    "
   ]
  },
  {
   "cell_type": "code",
   "execution_count": 93,
   "metadata": {},
   "outputs": [
    {
     "name": "stdout",
     "output_type": "stream",
     "text": [
      "You'll spend $1533.25 over 62 months.\n",
      "You'll lose $533.25.\n"
     ]
    }
   ],
   "source": [
    "creditCardPaymentSummary(1000, .18, 25)"
   ]
  },
  {
   "cell_type": "code",
   "execution_count": 96,
   "metadata": {},
   "outputs": [
    {
     "name": "stdin",
     "output_type": "stream",
     "text": [
      "Boss! I need you to pick an employee. Please select yes or no!  yes\n",
      " Please enter his/her name. Want to stop? Type 'stop'  ali\n",
      " Please enter his/her name. Want to stop? Type 'stop'  ben\n",
      " Please enter his/her name. Want to stop? Type 'stop'  dave\n",
      " Please enter his/her name. Want to stop? Type 'stop'  stop\n",
      "Boss! What about working days from Monday to Sunday. Please select yes or no:  yes\n",
      " Please enter a day. Want to stop? Type 'stop'  monday\n",
      " Please enter a day. Want to stop? Type 'stop'  tuesday\n",
      " Please enter a day. Want to stop? Type 'stop'  stop\n"
     ]
    },
    {
     "name": "stdout",
     "output_type": "stream",
     "text": [
      "\n",
      "ali will work on monday\n",
      "\n",
      "ben will work on tuesday\n",
      "\n",
      "dave will work on monday\n",
      "\n"
     ]
    },
    {
     "data": {
      "text/plain": [
       "[['ali', 'dave'], ['ben']]"
      ]
     },
     "execution_count": 96,
     "metadata": {},
     "output_type": "execute_result"
    }
   ],
   "source": [
    "def assignEmployee():\n",
    "    employee_list=[]\n",
    "    assigned_list=[]\n",
    "    day_list=[]\n",
    "    asking_switch=True\n",
    "    \n",
    "    \n",
    "    while asking_switch:       #Asking user for employee\n",
    "        ask = input('Boss! I need you to pick an employee. Please select yes or no! ')\n",
    "        if ask.upper() == 'YES':\n",
    "            while True:\n",
    "                employee = input(\" Please enter his/her name. Want to stop? Type 'stop' \")\n",
    "            \n",
    "                if employee.upper() == 'STOP':\n",
    "                    break\n",
    "                   \n",
    "            \n",
    "                else:\n",
    "                    employee_list.append(employee)\n",
    "            \n",
    "            asking_switch=False\n",
    "        \n",
    "\n",
    "        elif ask.upper() == 'NO':\n",
    "            break\n",
    "        else:\n",
    "            pass\n",
    "    \n",
    "    \n",
    "        \n",
    "    if len(employee_list) <= 0:         #To make sure that you have selected employees before moving on\n",
    "        asking_switch=False\n",
    "    else:\n",
    "        asking_switch=True\n",
    "    \n",
    "    while asking_switch:       #Asking for working day\n",
    "        ask2 = input('Boss! What about working days from Monday to Sunday. Please select yes or no: ')\n",
    "        if ask2.upper() == 'YES':\n",
    "            while True:\n",
    "                day = input(\" Please enter a day. Want to stop? Type 'stop' \")    \n",
    "                if day.upper() =='STOP':\n",
    "                    break\n",
    "                else:\n",
    "                    day_list.append(day)\n",
    "            \n",
    "            asking_switch = False\n",
    "    \n",
    "                \n",
    "        elif ask2.upper() == 'NO':\n",
    "            break\n",
    "        else:\n",
    "            pass\n",
    "        \n",
    "    \n",
    "    for char in employee_list:     #print out the employee with his/her working day\n",
    "        r = employee_list.index(char) % len(day_list)\n",
    "        print()\n",
    "        print(f'{char} will work on {day_list[r]}')\n",
    "    \n",
    "    for i in range(len(day_list)):                    #create my assigned list \n",
    "        assigned_list.append([])\n",
    "        \n",
    "    for employee in employee_list:       #return a list of working day partners.\n",
    "            x = employee_list.index(employee)%len(assigned_list)\n",
    "            assigned_list[x].append(employee)\n",
    "    \n",
    "\n",
    "           \n",
    "    print()\n",
    "    return assigned_list\n",
    "            \n",
    "assignEmployee()\n",
    "\n"
   ]
  },
  {
   "cell_type": "code",
   "execution_count": 42,
   "metadata": {},
   "outputs": [
    {
     "data": {
      "text/plain": [
       "0.00044"
      ]
     },
     "execution_count": 42,
     "metadata": {},
     "output_type": "execute_result"
    }
   ],
   "source": [
    "round(.16/365,5)"
   ]
  },
  {
   "cell_type": "code",
   "execution_count": null,
   "metadata": {},
   "outputs": [],
   "source": []
  }
 ],
 "metadata": {
  "kernelspec": {
   "display_name": "Python 3",
   "language": "python",
   "name": "python3"
  },
  "language_info": {
   "codemirror_mode": {
    "name": "ipython",
    "version": 3
   },
   "file_extension": ".py",
   "mimetype": "text/x-python",
   "name": "python",
   "nbconvert_exporter": "python",
   "pygments_lexer": "ipython3",
   "version": "3.8.3"
  }
 },
 "nbformat": 4,
 "nbformat_minor": 4
}
