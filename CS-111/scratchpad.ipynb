{
 "cells": [
  {
   "cell_type": "markdown",
   "metadata": {},
   "source": [
    "# Prof Miller's Scratch Pad"
   ]
  },
  {
   "cell_type": "code",
   "execution_count": 5,
   "metadata": {},
   "outputs": [],
   "source": [
    "import math\n",
    "\n",
    "population = []\n",
    "population.append(12000)\n",
    "\n",
    "for i in range(0,7):\n",
    "  thisYearPopulation = population[i]+population[i]*.08-1500\n",
    "  population.append(thisYearPopulation)\n",
    "  \n"
   ]
  },
  {
   "cell_type": "code",
   "execution_count": 6,
   "metadata": {},
   "outputs": [
    {
     "name": "stdout",
     "output_type": "stream",
     "text": [
      "[12000, 11460.0, 10876.8, 10246.944, 9566.69952, 8832.0354816, 8038.598320128, 7181.686185738239]\n"
     ]
    }
   ],
   "source": [
    "print(population)"
   ]
  },
  {
   "cell_type": "code",
   "execution_count": 7,
   "metadata": {},
   "outputs": [],
   "source": [
    "import matplotlib\n",
    "\n",
    "matplotlib.rcParams['figure.dpi']=120"
   ]
  },
  {
   "cell_type": "code",
   "execution_count": 8,
   "metadata": {},
   "outputs": [
    {
     "data": {
      "text/plain": [
       "Text(0.5, 1.0, 'Mah Muthafuckin Title')"
      ]
     },
     "execution_count": 8,
     "metadata": {},
     "output_type": "execute_result"
    },
    {
     "data": {
      "image/png": "[encoded data removed]",
      "text/plain": [
       "<Figure size 432x288 with 1 Axes>"
      ]
     },
     "metadata": {
      "needs_background": "light"
     },
     "output_type": "display_data"
    }
   ],
   "source": [
    "import matplotlib.pyplot as pyplot\n",
    "\n",
    "\n",
    "\n",
    "\n",
    "pyplot.plot(range(0,8), population)\n",
    "\n",
    "pyplot.xlabel(\"Year\")\n",
    "pyplot.ylabel(\"Number of Fishies\")\n",
    "pyplot.title(\"Mah Muthafuckin Title\")"
   ]
  },
  {
   "cell_type": "code",
   "execution_count": 9,
   "metadata": {},
   "outputs": [],
   "source": [
    "def countLinks(totalNodes):\n",
    "    \"\"\" (docstring omitted) \"\"\"\n",
    "    totalLinks = 0\n",
    "    print(\"Node  | New Links| Total Links\")\n",
    "    print(\"------|----------|-------------\")\n",
    "    for node in range(2, totalNodes + 1):\n",
    "        newLinks = node - 1\n",
    "        totalLinks = totalLinks + newLinks\n",
    "        print('{0:^6}|{1:^10}|{2:^8}'.format(node, newLinks, totalLinks))\n",
    "    return totalLinks"
   ]
  },
  {
   "cell_type": "code",
   "execution_count": 10,
   "metadata": {},
   "outputs": [
    {
     "name": "stdout",
     "output_type": "stream",
     "text": [
      "Node  | New Links| Total Links\n",
      "------|----------|-------------\n",
      "  2   |    1     |   1    \n",
      "  3   |    2     |   3    \n",
      "  4   |    3     |   6    \n",
      "  5   |    4     |   10   \n",
      "  6   |    5     |   15   \n",
      "  7   |    6     |   21   \n",
      "  8   |    7     |   28   \n",
      "  9   |    8     |   36   \n",
      "  10  |    9     |   45   \n"
     ]
    },
    {
     "data": {
      "text/plain": [
       "45"
      ]
     },
     "execution_count": 10,
     "metadata": {},
     "output_type": "execute_result"
    }
   ],
   "source": [
    "countLinks(10)"
   ]
  },
  {
   "cell_type": "markdown",
   "metadata": {},
   "source": [
    "## Optimize box\n",
    "\n",
    "the volume of our box is\n",
    "\n",
    "V=x*(20-2x)(30-2x)"
   ]
  },
  {
   "cell_type": "code",
   "execution_count": 11,
   "metadata": {},
   "outputs": [],
   "source": [
    "def largestVolume(a,b,steps):\n",
    "    volumes = []\n",
    "    a = int(a)\n",
    "    b = int(b)\n",
    "    maxX = min(a,b)//2\n",
    "    print( \"Square Side | Volume of Box\")\n",
    "    for i in range(0,maxX*steps):\n",
    "        #print('{0:^10}{1:^10.2f}'.format(i/100, i/100*(a-2*i/100)*(b-2*i/100)))\n",
    "        volumes.append(i/steps*(a-2*i/steps)*(b-2*i/steps))\n",
    "    print('{0:^12}|{1:^10.3f}'.format(volumes.index(max(volumes))/steps, max(volumes)))\n",
    "        "
   ]
  },
  {
   "cell_type": "code",
   "execution_count": 12,
   "metadata": {},
   "outputs": [
    {
     "name": "stdout",
     "output_type": "stream",
     "text": [
      "Square Side | Volume of Box\n",
      "   3.924    | 1056.306 \n"
     ]
    }
   ],
   "source": [
    "largestVolume(20, 30, 1000)"
   ]
  },
  {
   "cell_type": "code",
   "execution_count": 13,
   "metadata": {},
   "outputs": [],
   "source": [
    "import pandas"
   ]
  },
  {
   "cell_type": "code",
   "execution_count": 14,
   "metadata": {},
   "outputs": [],
   "source": [
    "cerealData = pandas.read_csv(\"../Data/Cereal_Data.csv\")"
   ]
  },
  {
   "cell_type": "code",
   "execution_count": 15,
   "metadata": {},
   "outputs": [
    {
     "data": {
      "text/html": [
       "<div>\n",
       "<style scoped>\n",
       "    .dataframe tbody tr th:only-of-type {\n",
       "        vertical-align: middle;\n",
       "    }\n",
       "\n",
       "    .dataframe tbody tr th {\n",
       "        vertical-align: top;\n",
       "    }\n",
       "\n",
       "    .dataframe thead th {\n",
       "        text-align: right;\n",
       "    }\n",
       "</style>\n",
       "<table border=\"1\" class=\"dataframe\">\n",
       "  <thead>\n",
       "    <tr style=\"text-align: right;\">\n",
       "      <th></th>\n",
       "      <th>Shelf</th>\n",
       "      <th>Name</th>\n",
       "      <th>Manufacturer</th>\n",
       "      <th>Type</th>\n",
       "      <th>Calories</th>\n",
       "      <th>Protein</th>\n",
       "      <th>Fat</th>\n",
       "      <th>Sodium</th>\n",
       "      <th>Fiber</th>\n",
       "      <th>Carbohydrates</th>\n",
       "      <th>Sugars</th>\n",
       "      <th>Potassium</th>\n",
       "      <th>Vitamins</th>\n",
       "      <th>Weight (of One Serving Cup)</th>\n",
       "      <th>Cups in Serving</th>\n",
       "    </tr>\n",
       "  </thead>\n",
       "  <tbody>\n",
       "    <tr>\n",
       "      <th>0</th>\n",
       "      <td>Top</td>\n",
       "      <td>100%_Bran</td>\n",
       "      <td>N</td>\n",
       "      <td>C</td>\n",
       "      <td>70</td>\n",
       "      <td>4</td>\n",
       "      <td>1</td>\n",
       "      <td>130</td>\n",
       "      <td>10.0</td>\n",
       "      <td>5.0</td>\n",
       "      <td>6.0</td>\n",
       "      <td>280.0</td>\n",
       "      <td>25</td>\n",
       "      <td>1.0</td>\n",
       "      <td>0.33</td>\n",
       "    </tr>\n",
       "    <tr>\n",
       "      <th>1</th>\n",
       "      <td>Top</td>\n",
       "      <td>100%_Natural_Bran</td>\n",
       "      <td>Q</td>\n",
       "      <td>C</td>\n",
       "      <td>120</td>\n",
       "      <td>3</td>\n",
       "      <td>5</td>\n",
       "      <td>15</td>\n",
       "      <td>2.0</td>\n",
       "      <td>8.0</td>\n",
       "      <td>8.0</td>\n",
       "      <td>135.0</td>\n",
       "      <td>0</td>\n",
       "      <td>1.0</td>\n",
       "      <td>1.00</td>\n",
       "    </tr>\n",
       "    <tr>\n",
       "      <th>2</th>\n",
       "      <td>Top</td>\n",
       "      <td>All-Bran</td>\n",
       "      <td>K</td>\n",
       "      <td>C</td>\n",
       "      <td>70</td>\n",
       "      <td>4</td>\n",
       "      <td>1</td>\n",
       "      <td>260</td>\n",
       "      <td>9.0</td>\n",
       "      <td>7.0</td>\n",
       "      <td>5.0</td>\n",
       "      <td>320.0</td>\n",
       "      <td>25</td>\n",
       "      <td>1.0</td>\n",
       "      <td>0.33</td>\n",
       "    </tr>\n",
       "    <tr>\n",
       "      <th>3</th>\n",
       "      <td>Top</td>\n",
       "      <td>All-Bran_with_Extra_Fiber</td>\n",
       "      <td>K</td>\n",
       "      <td>C</td>\n",
       "      <td>50</td>\n",
       "      <td>4</td>\n",
       "      <td>0</td>\n",
       "      <td>140</td>\n",
       "      <td>14.0</td>\n",
       "      <td>8.0</td>\n",
       "      <td>0.0</td>\n",
       "      <td>330.0</td>\n",
       "      <td>25</td>\n",
       "      <td>1.0</td>\n",
       "      <td>0.50</td>\n",
       "    </tr>\n",
       "    <tr>\n",
       "      <th>4</th>\n",
       "      <td>Top</td>\n",
       "      <td>Almond_Delight</td>\n",
       "      <td>R</td>\n",
       "      <td>C</td>\n",
       "      <td>110</td>\n",
       "      <td>2</td>\n",
       "      <td>2</td>\n",
       "      <td>200</td>\n",
       "      <td>1.0</td>\n",
       "      <td>14.0</td>\n",
       "      <td>8.0</td>\n",
       "      <td>NaN</td>\n",
       "      <td>25</td>\n",
       "      <td>1.0</td>\n",
       "      <td>0.75</td>\n",
       "    </tr>\n",
       "  </tbody>\n",
       "</table>\n",
       "</div>"
      ],
      "text/plain": [
       "  Shelf                       Name Manufacturer Type  Calories  Protein  Fat  \\\n",
       "0   Top                  100%_Bran            N    C        70        4    1   \n",
       "1   Top          100%_Natural_Bran            Q    C       120        3    5   \n",
       "2   Top                   All-Bran            K    C        70        4    1   \n",
       "3   Top  All-Bran_with_Extra_Fiber            K    C        50        4    0   \n",
       "4   Top             Almond_Delight            R    C       110        2    2   \n",
       "\n",
       "   Sodium  Fiber  Carbohydrates  Sugars  Potassium  Vitamins  \\\n",
       "0     130   10.0            5.0     6.0      280.0        25   \n",
       "1      15    2.0            8.0     8.0      135.0         0   \n",
       "2     260    9.0            7.0     5.0      320.0        25   \n",
       "3     140   14.0            8.0     0.0      330.0        25   \n",
       "4     200    1.0           14.0     8.0        NaN        25   \n",
       "\n",
       "   Weight (of One Serving Cup)  Cups in Serving  \n",
       "0                          1.0             0.33  \n",
       "1                          1.0             1.00  \n",
       "2                          1.0             0.33  \n",
       "3                          1.0             0.50  \n",
       "4                          1.0             0.75  "
      ]
     },
     "execution_count": 15,
     "metadata": {},
     "output_type": "execute_result"
    }
   ],
   "source": [
    "cerealData.head()"
   ]
  },
  {
   "cell_type": "code",
   "execution_count": 16,
   "metadata": {},
   "outputs": [
    {
     "data": {
      "text/html": [
       "<div>\n",
       "<style scoped>\n",
       "    .dataframe tbody tr th:only-of-type {\n",
       "        vertical-align: middle;\n",
       "    }\n",
       "\n",
       "    .dataframe tbody tr th {\n",
       "        vertical-align: top;\n",
       "    }\n",
       "\n",
       "    .dataframe thead th {\n",
       "        text-align: right;\n",
       "    }\n",
       "</style>\n",
       "<table border=\"1\" class=\"dataframe\">\n",
       "  <thead>\n",
       "    <tr style=\"text-align: right;\">\n",
       "      <th></th>\n",
       "      <th></th>\n",
       "      <th>Calories</th>\n",
       "      <th>Protein</th>\n",
       "      <th>Fat</th>\n",
       "      <th>Sodium</th>\n",
       "      <th>Fiber</th>\n",
       "      <th>Carbohydrates</th>\n",
       "      <th>Sugars</th>\n",
       "      <th>Potassium</th>\n",
       "      <th>Vitamins</th>\n",
       "      <th>Weight (of One Serving Cup)</th>\n",
       "      <th>Cups in Serving</th>\n",
       "    </tr>\n",
       "    <tr>\n",
       "      <th>Type</th>\n",
       "      <th>Manufacturer</th>\n",
       "      <th></th>\n",
       "      <th></th>\n",
       "      <th></th>\n",
       "      <th></th>\n",
       "      <th></th>\n",
       "      <th></th>\n",
       "      <th></th>\n",
       "      <th></th>\n",
       "      <th></th>\n",
       "      <th></th>\n",
       "      <th></th>\n",
       "    </tr>\n",
       "  </thead>\n",
       "  <tbody>\n",
       "    <tr>\n",
       "      <th rowspan=\"6\" valign=\"top\">C</th>\n",
       "      <th>G</th>\n",
       "      <td>111.363636</td>\n",
       "      <td>2.318182</td>\n",
       "      <td>1.363636</td>\n",
       "      <td>200.454545</td>\n",
       "      <td>1.272727</td>\n",
       "      <td>14.727273</td>\n",
       "      <td>7.954545</td>\n",
       "      <td>85.227273</td>\n",
       "      <td>35.227273</td>\n",
       "      <td>1.049091</td>\n",
       "      <td>0.875000</td>\n",
       "    </tr>\n",
       "    <tr>\n",
       "      <th>K</th>\n",
       "      <td>108.695652</td>\n",
       "      <td>2.652174</td>\n",
       "      <td>0.608696</td>\n",
       "      <td>174.782609</td>\n",
       "      <td>2.739130</td>\n",
       "      <td>15.130435</td>\n",
       "      <td>7.565217</td>\n",
       "      <td>103.043478</td>\n",
       "      <td>34.782609</td>\n",
       "      <td>1.077826</td>\n",
       "      <td>0.796087</td>\n",
       "    </tr>\n",
       "    <tr>\n",
       "      <th>N</th>\n",
       "      <td>84.000000</td>\n",
       "      <td>2.800000</td>\n",
       "      <td>0.200000</td>\n",
       "      <td>29.000000</td>\n",
       "      <td>4.600000</td>\n",
       "      <td>15.000000</td>\n",
       "      <td>2.200000</td>\n",
       "      <td>145.000000</td>\n",
       "      <td>10.000000</td>\n",
       "      <td>0.966000</td>\n",
       "      <td>0.734000</td>\n",
       "    </tr>\n",
       "    <tr>\n",
       "      <th>P</th>\n",
       "      <td>108.888889</td>\n",
       "      <td>2.444444</td>\n",
       "      <td>0.888889</td>\n",
       "      <td>146.111111</td>\n",
       "      <td>2.777778</td>\n",
       "      <td>13.222222</td>\n",
       "      <td>8.777778</td>\n",
       "      <td>113.888889</td>\n",
       "      <td>25.000000</td>\n",
       "      <td>1.064444</td>\n",
       "      <td>0.714444</td>\n",
       "    </tr>\n",
       "    <tr>\n",
       "      <th>Q</th>\n",
       "      <td>94.285714</td>\n",
       "      <td>2.285714</td>\n",
       "      <td>1.714286</td>\n",
       "      <td>105.714286</td>\n",
       "      <td>1.142857</td>\n",
       "      <td>11.571429</td>\n",
       "      <td>6.142857</td>\n",
       "      <td>69.285714</td>\n",
       "      <td>14.285714</td>\n",
       "      <td>0.857143</td>\n",
       "      <td>0.845714</td>\n",
       "    </tr>\n",
       "    <tr>\n",
       "      <th>R</th>\n",
       "      <td>115.000000</td>\n",
       "      <td>2.500000</td>\n",
       "      <td>1.250000</td>\n",
       "      <td>198.125000</td>\n",
       "      <td>1.875000</td>\n",
       "      <td>17.625000</td>\n",
       "      <td>6.125000</td>\n",
       "      <td>102.142857</td>\n",
       "      <td>25.000000</td>\n",
       "      <td>1.000000</td>\n",
       "      <td>0.871250</td>\n",
       "    </tr>\n",
       "    <tr>\n",
       "      <th rowspan=\"3\" valign=\"top\">H</th>\n",
       "      <th>A</th>\n",
       "      <td>100.000000</td>\n",
       "      <td>4.000000</td>\n",
       "      <td>1.000000</td>\n",
       "      <td>0.000000</td>\n",
       "      <td>0.000000</td>\n",
       "      <td>16.000000</td>\n",
       "      <td>3.000000</td>\n",
       "      <td>95.000000</td>\n",
       "      <td>25.000000</td>\n",
       "      <td>1.000000</td>\n",
       "      <td>1.000000</td>\n",
       "    </tr>\n",
       "    <tr>\n",
       "      <th>N</th>\n",
       "      <td>100.000000</td>\n",
       "      <td>3.000000</td>\n",
       "      <td>0.000000</td>\n",
       "      <td>80.000000</td>\n",
       "      <td>1.000000</td>\n",
       "      <td>21.000000</td>\n",
       "      <td>0.000000</td>\n",
       "      <td>NaN</td>\n",
       "      <td>0.000000</td>\n",
       "      <td>1.000000</td>\n",
       "      <td>1.000000</td>\n",
       "    </tr>\n",
       "    <tr>\n",
       "      <th>Q</th>\n",
       "      <td>100.000000</td>\n",
       "      <td>5.000000</td>\n",
       "      <td>2.000000</td>\n",
       "      <td>0.000000</td>\n",
       "      <td>2.700000</td>\n",
       "      <td>NaN</td>\n",
       "      <td>NaN</td>\n",
       "      <td>110.000000</td>\n",
       "      <td>0.000000</td>\n",
       "      <td>1.000000</td>\n",
       "      <td>0.670000</td>\n",
       "    </tr>\n",
       "  </tbody>\n",
       "</table>\n",
       "</div>"
      ],
      "text/plain": [
       "                     Calories   Protein       Fat      Sodium     Fiber  \\\n",
       "Type Manufacturer                                                         \n",
       "C    G             111.363636  2.318182  1.363636  200.454545  1.272727   \n",
       "     K             108.695652  2.652174  0.608696  174.782609  2.739130   \n",
       "     N              84.000000  2.800000  0.200000   29.000000  4.600000   \n",
       "     P             108.888889  2.444444  0.888889  146.111111  2.777778   \n",
       "     Q              94.285714  2.285714  1.714286  105.714286  1.142857   \n",
       "     R             115.000000  2.500000  1.250000  198.125000  1.875000   \n",
       "H    A             100.000000  4.000000  1.000000    0.000000  0.000000   \n",
       "     N             100.000000  3.000000  0.000000   80.000000  1.000000   \n",
       "     Q             100.000000  5.000000  2.000000    0.000000  2.700000   \n",
       "\n",
       "                   Carbohydrates    Sugars   Potassium   Vitamins  \\\n",
       "Type Manufacturer                                                   \n",
       "C    G                 14.727273  7.954545   85.227273  35.227273   \n",
       "     K                 15.130435  7.565217  103.043478  34.782609   \n",
       "     N                 15.000000  2.200000  145.000000  10.000000   \n",
       "     P                 13.222222  8.777778  113.888889  25.000000   \n",
       "     Q                 11.571429  6.142857   69.285714  14.285714   \n",
       "     R                 17.625000  6.125000  102.142857  25.000000   \n",
       "H    A                 16.000000  3.000000   95.000000  25.000000   \n",
       "     N                 21.000000  0.000000         NaN   0.000000   \n",
       "     Q                       NaN       NaN  110.000000   0.000000   \n",
       "\n",
       "                   Weight (of One Serving Cup)  Cups in Serving  \n",
       "Type Manufacturer                                                \n",
       "C    G                                1.049091         0.875000  \n",
       "     K                                1.077826         0.796087  \n",
       "     N                                0.966000         0.734000  \n",
       "     P                                1.064444         0.714444  \n",
       "     Q                                0.857143         0.845714  \n",
       "     R                                1.000000         0.871250  \n",
       "H    A                                1.000000         1.000000  \n",
       "     N                                1.000000         1.000000  \n",
       "     Q                                1.000000         0.670000  "
      ]
     },
     "execution_count": 16,
     "metadata": {},
     "output_type": "execute_result"
    }
   ],
   "source": [
    "cerealData.groupby([cerealData.Type, cerealData.Manufacturer]).mean()"
   ]
  },
  {
   "cell_type": "code",
   "execution_count": 17,
   "metadata": {},
   "outputs": [],
   "source": [
    "from plotnine import *"
   ]
  },
  {
   "cell_type": "code",
   "execution_count": 18,
   "metadata": {},
   "outputs": [
    {
     "data": {
      "image/png": "[encoded data removed]",
      "text/plain": [
       "<Figure size 640x480 with 1 Axes>"
      ]
     },
     "metadata": {},
     "output_type": "display_data"
    },
    {
     "data": {
      "text/plain": [
       "<ggplot: (295329422)>"
      ]
     },
     "execution_count": 18,
     "metadata": {},
     "output_type": "execute_result"
    }
   ],
   "source": [
    "ggplot(cerealData, aes(\"Calories\", \"Protein\"))+geom_point()"
   ]
  },
  {
   "cell_type": "code",
   "execution_count": 19,
   "metadata": {},
   "outputs": [
    {
     "data": {
      "text/plain": [
       "<matplotlib.collections.PathCollection at 0x119cc0400>"
      ]
     },
     "execution_count": 19,
     "metadata": {},
     "output_type": "execute_result"
    },
    {
     "data": {
      "image/png": "[encoded data removed]",
      "text/plain": [
       "<Figure size 432x288 with 1 Axes>"
      ]
     },
     "metadata": {
      "needs_background": "light"
     },
     "output_type": "display_data"
    }
   ],
   "source": [
    "pyplot.scatter(cerealData[\"Calories\"], cerealData[\"Protein\"])"
   ]
  },
  {
   "cell_type": "code",
   "execution_count": 20,
   "metadata": {},
   "outputs": [],
   "source": [
    "def computeValue(P,r,t):\n",
    "    return P*math.exp(r*t)"
   ]
  },
  {
   "cell_type": "code",
   "execution_count": 21,
   "metadata": {},
   "outputs": [
    {
     "name": "stdout",
     "output_type": "stream",
     "text": [
      " Month | Current Value | Difference\n",
      "-------|---------------|-----------\n",
      "   0   |    1000.00    |   34.39   \n",
      "   1   |    1035.62    |   35.62   \n",
      "   2   |    1072.51    |   36.89   \n",
      "   3   |    1110.71    |   38.20   \n",
      "   4   |    1150.27    |   39.56   \n",
      "   5   |    1191.25    |   40.97   \n",
      "   6   |    1233.68    |   42.43   \n",
      "   7   |    1277.62    |   43.94   \n",
      "   8   |    1323.13    |   45.51   \n",
      "   9   |    1370.26    |   47.13   \n",
      "  10   |    1419.07    |   48.81   \n",
      "  11   |    1469.61    |   50.55   \n",
      "  12   |    1521.96    |   52.35   \n",
      "  13   |    1576.17    |   54.21   \n",
      "  14   |    1632.32    |   56.14   \n",
      "  15   |    1690.46    |   58.14   \n",
      "  16   |    1750.67    |   60.21   \n",
      "  17   |    1813.03    |   62.36   \n",
      "  18   |    1877.61    |   64.58   \n",
      "  19   |    1944.49    |   66.88   \n",
      "  20   |    2013.75    |   69.26   \n",
      "  21   |    2085.48    |   71.73   \n",
      "  22   |    2159.77    |   74.28   \n",
      "  23   |    2236.70    |   76.93   \n",
      "  24   |    2316.37    |   79.67   \n",
      "  25   |    2398.88    |   82.51   \n",
      "  26   |    2484.32    |   85.45   \n",
      "  27   |    2572.81    |   88.49   \n",
      "  28   |    2664.46    |   91.64   \n",
      "  29   |    2759.36    |   94.91   \n",
      "  30   |    2857.65    |   98.29   \n",
      "  31   |    2959.44    |  101.79   \n",
      "  32   |    3064.85    |  105.41   \n",
      "  33   |    3174.02    |  109.17   \n",
      "  34   |    3287.08    |  113.06   \n",
      "  35   |    3404.17    |  117.08   \n",
      "  36   |    3525.42    |  121.26   \n",
      "  37   |    3651.00    |  125.57   \n",
      "  38   |    3781.04    |  130.05   \n",
      "  39   |    3915.72    |  134.68   \n",
      "  40   |    4055.20    |  139.48   \n",
      "  41   |    4199.65    |  144.45   \n",
      "  42   |    4349.24    |  149.59   \n",
      "  43   |    4504.15    |  154.92   \n",
      "  44   |    4664.59    |  160.44   \n",
      "  45   |    4830.74    |  166.15   \n",
      "  46   |    5002.81    |  172.07   \n",
      "  47   |    5181.01    |  178.20   \n",
      "  48   |    5365.56    |  184.55   \n",
      "  49   |    5556.68    |  191.12   \n",
      "  50   |    5754.60    |  197.93   \n",
      "  51   |    5959.58    |  204.98   \n",
      "  52   |    6171.86    |  212.28   \n",
      "  53   |    6391.70    |  219.84   \n",
      "  54   |    6619.37    |  227.67   \n",
      "  55   |    6855.15    |  235.78   \n",
      "  56   |    7099.33    |  244.18   \n",
      "  57   |    7352.20    |  252.88   \n",
      "  58   |    7614.09    |  261.88   \n",
      "  59   |    7885.30    |  271.21   \n",
      "  60   |    8166.17    |  280.87   \n",
      "  61   |    8457.05    |  290.88   \n",
      "  62   |    8758.28    |  301.24   \n",
      "  63   |    9070.25    |  311.97   \n",
      "  64   |    9393.33    |  323.08   \n",
      "  65   |    9727.92    |  334.59   \n"
     ]
    }
   ],
   "source": [
    "startValue = 1000\n",
    "r = .035\n",
    "\n",
    "curValue = startValue\n",
    "time = 0\n",
    "print(\" Month | Current Value | Difference\")\n",
    "print(\"-------|---------------|-----------\")\n",
    "while(curValue<10000):\n",
    "    print('{0:^7}|{1:^15.2f}|{2:^11.2f}'.format(time, curValue, curValue-computeValue(startValue, r, time-1)))\n",
    "    time+=1\n",
    "    curValue = computeValue(startValue, r, time)\n",
    "    "
   ]
  },
  {
   "cell_type": "code",
   "execution_count": 22,
   "metadata": {},
   "outputs": [
    {
     "data": {
      "text/plain": [
       "54.598150033144236"
      ]
     },
     "execution_count": 22,
     "metadata": {},
     "output_type": "execute_result"
    }
   ],
   "source": [
    "import math\n",
    "math.exp(4)"
   ]
  },
  {
   "cell_type": "code",
   "execution_count": null,
   "metadata": {},
   "outputs": [],
   "source": []
  },
  {
   "cell_type": "markdown",
   "metadata": {},
   "source": [
    "Principal:  100k.  Interest:  4/12% per month.\n",
    "\n",
    "100000 + 100000*.04/12 + 100000*.04/12...\n",
    "\n",
    "\n",
    "\n",
    "\n",
    "Current amount = sum(100000*.04/12^(k-1))\n",
    "\n"
   ]
  },
  {
   "cell_type": "code",
   "execution_count": 23,
   "metadata": {},
   "outputs": [
    {
     "name": "stdout",
     "output_type": "stream",
     "text": [
      "Current debt\n",
      "   100000   \n",
      "99333.33333333334\n",
      "98664.44444444447\n",
      "97993.32592592595\n",
      "97319.97034567904\n",
      "96644.37024683131\n",
      "95966.51814765409\n",
      "95286.4065414796\n",
      "94604.02789661787\n",
      "93919.37465627327\n",
      "93232.43923846085\n",
      "92543.2140359224\n",
      "91851.69141604214\n",
      "91157.8637207623\n",
      "90461.72326649817\n",
      "89763.26234405318\n",
      "89062.47321853336\n",
      "88359.34812926181\n",
      "87653.87928969269\n",
      "86946.05888732501\n",
      "86235.8790836161\n",
      "85523.33201389483\n",
      "84808.40978727449\n",
      "84091.10448656541\n",
      "83371.4081681873\n",
      "82649.31286208126\n",
      "81924.81057162154\n",
      "81197.89327352695\n",
      "80468.55291777205\n",
      "79736.78142749796\n",
      "79002.57069892297\n",
      "78265.91260125271\n",
      "77526.79897659023\n",
      "76785.22163984553\n",
      "76041.17237864503\n",
      "75294.64295324052\n",
      "74545.62509641799\n",
      "73794.11051340606\n",
      "73040.09088178408\n",
      "72283.55785139004\n",
      "71524.50304422801\n",
      "70762.91805437545\n",
      "69998.79444789003\n",
      "69232.12376271634\n",
      "68462.89750859207\n",
      "67691.10716695405\n",
      "66916.7441908439\n",
      "66139.8000048134\n",
      "65360.26600482945\n",
      "64578.13355817889\n",
      "63793.39400337282\n",
      "63006.03865005074\n",
      "62216.058778884246\n",
      "61423.44564148053\n",
      "60628.19046028547\n",
      "59830.284428486426\n",
      "59029.71870991472\n",
      "58226.48443894777\n",
      "57420.572720410935\n",
      "56611.97462947897\n",
      "55800.68121157724\n",
      "54986.683482282504\n",
      "54169.97242722345\n",
      "53350.53900198087\n",
      "52528.374131987475\n",
      "51703.468712427435\n",
      "50875.81360813553\n",
      "50045.39965349599\n",
      "49212.21765234098\n",
      "48376.25837784879\n",
      "47537.51257244162\n",
      "46695.9709476831\n",
      "45851.62418417538\n",
      "45004.46293145597\n",
      "44154.47780789416\n",
      "43301.659400587145\n",
      "42445.998265255774\n",
      "41587.484926139965\n",
      "40726.109875893766\n",
      "39861.863575480085\n",
      "38994.73645406502\n",
      "38124.71890891191\n",
      "37251.80130527495\n",
      "36375.97397629254\n",
      "35497.22722288018\n",
      "34615.55131362312\n",
      "33730.93648466853\n",
      "32843.372939617424\n",
      "31952.85084941615\n",
      "31059.36035224754\n",
      "30162.8915534217\n",
      "29263.434525266443\n",
      "28360.979307017333\n",
      "27455.515904707394\n",
      "26547.03429105642\n",
      "25635.524405359945\n",
      "24720.976153377815\n",
      "23803.37940722241\n",
      "22882.724005246484\n",
      "21958.99975193064\n",
      "21032.19641777041\n",
      "20102.30373916298\n",
      "19169.311418293524\n",
      "18233.20912302117\n",
      "17293.986486764574\n",
      "16351.633108387123\n",
      "15406.13855208175\n",
      "14457.492347255356\n",
      "13505.683988412875\n",
      "12550.70293504092\n",
      "11592.538611491056\n",
      "10631.180406862693\n",
      "9666.61767488557\n",
      "8698.839733801857\n",
      "7727.835866247864\n",
      "6753.595319135357\n",
      "5776.107303532476\n",
      "4795.360994544251\n",
      "3811.345531192733\n",
      "2824.0500162967087\n",
      "1833.463516351031\n",
      "839.5750614055346\n"
     ]
    }
   ],
   "source": [
    "principal = 100000\n",
    "rate = .04/12\n",
    "currentDebt = principal\n",
    "print(\"Current debt\")\n",
    "newDebt = 0\n",
    "\n",
    "while currentDebt >0 :\n",
    "    newDebt = currentDebt*(1+rate)\n",
    "    print('{0:^12}'.format(currentDebt))\n",
    "    currentDebt = newDebt-1000\n",
    "    "
   ]
  },
  {
   "cell_type": "code",
   "execution_count": 52,
   "metadata": {},
   "outputs": [],
   "source": [
    "def monthlyBreakdown(debt, apr, minRate):\n",
    "    curBalance = debt\n",
    "    newBalance = curBalance\n",
    "    for i in range(1,31):\n",
    "        newBalance = newBalance + newBalance*(apr/365)\n",
    "    interest = newBalance - curBalance\n",
    "    minPayment = max(newBalance*minRate,200)\n",
    "    principalPaid = minPayment - interest\n",
    "    return [newBalance, interest, minPayment, principalPaid]\n",
    "    \n",
    "        \n",
    "\n",
    "\n",
    "    "
   ]
  },
  {
   "cell_type": "code",
   "execution_count": 53,
   "metadata": {},
   "outputs": [],
   "source": [
    "def payUp(principal, apr, minRate):\n",
    "    print(\"Month | Current Balance | Monthly Interest | Minimum Payment | Principal Paid | Total Amount Paid\")\n",
    "    month = 1\n",
    "    breakdown = monthlyBreakdown(principal, apr, minRate)\n",
    "    totalPayment = breakdown[2]\n",
    "    principal = []\n",
    "    interest = []\n",
    "    while(breakdown[0]>10):\n",
    "        print('{0:^10}|{1:^17.2f}|{2:^18.2f}|{3:^17.2f}|{4:^16.2f}|{5:^17.2f}'.format(str(month//12)+\"y \"+str(month%12)+\"m \", breakdown[0], breakdown[1], breakdown[2], breakdown[3], totalPayment))\n",
    "        month +=1\n",
    "        totalPayment = breakdown[2]+totalPayment\n",
    "        principal.append(breakdown[3])\n",
    "        interest.append(breakdown[1])\n",
    "        breakdown = monthlyBreakdown(breakdown[0]-breakdown[2], apr, minRate)\n",
    "    return [principal, interest]\n",
    "        "
   ]
  },
  {
   "cell_type": "code",
   "execution_count": 54,
   "metadata": {},
   "outputs": [
    {
     "name": "stdout",
     "output_type": "stream",
     "text": [
      "Month | Current Balance | Monthly Interest | Minimum Payment | Principal Paid | Total Amount Paid\n",
      "  0y 1m   |    20381.56     |      381.56      |     407.63      |     26.07      |     407.63      \n",
      "  0y 2m   |    20354.99     |      381.06      |     407.10      |     26.04      |     815.26      \n",
      "  0y 3m   |    20328.45     |      380.56      |     406.57      |     26.01      |     1222.36     \n",
      "  0y 4m   |    20301.95     |      380.07      |     406.04      |     25.97      |     1628.93     \n",
      "  0y 5m   |    20275.48     |      379.57      |     405.51      |     25.94      |     2034.97     \n",
      "  0y 6m   |    20249.05     |      379.08      |     404.98      |     25.90      |     2440.48     \n",
      "  0y 7m   |    20222.65     |      378.58      |     404.45      |     25.87      |     2845.46     \n",
      "  0y 8m   |    20196.28     |      378.09      |     403.93      |     25.84      |     3249.91     \n",
      "  0y 9m   |    20169.95     |      377.60      |     403.40      |     25.80      |     3653.84     \n",
      " 0y 10m   |    20143.66     |      377.10      |     402.87      |     25.77      |     4057.24     \n",
      " 0y 11m   |    20117.40     |      376.61      |     402.35      |     25.74      |     4460.11     \n",
      "  1y 0m   |    20091.17     |      376.12      |     401.82      |     25.70      |     4862.46     \n",
      "  1y 1m   |    20064.98     |      375.63      |     401.30      |     25.67      |     5264.28     \n",
      "  1y 2m   |    20038.82     |      375.14      |     400.78      |     25.64      |     5665.58     \n",
      "  1y 3m   |    20012.69     |      374.65      |     400.25      |     25.60      |     6066.36     \n",
      "  1y 4m   |    19986.60     |      374.16      |     399.73      |     25.57      |     6466.61     \n",
      "  1y 5m   |    19960.55     |      373.68      |     399.21      |     25.54      |     6866.34     \n",
      "  1y 6m   |    19934.52     |      373.19      |     398.69      |     25.50      |     7265.56     \n",
      "  1y 7m   |    19908.53     |      372.70      |     398.17      |     25.47      |     7664.25     \n",
      "  1y 8m   |    19882.58     |      372.22      |     397.65      |     25.44      |     8062.42     \n",
      "  1y 9m   |    19856.66     |      371.73      |     397.13      |     25.40      |     8460.07     \n",
      " 1y 10m   |    19830.77     |      371.25      |     396.62      |     25.37      |     8857.20     \n",
      " 1y 11m   |    19804.92     |      370.76      |     396.10      |     25.34      |     9253.82     \n",
      "  2y 0m   |    19779.10     |      370.28      |     395.58      |     25.30      |     9649.91     \n",
      "  2y 1m   |    19753.31     |      369.80      |     395.07      |     25.27      |    10045.50     \n",
      "  2y 2m   |    19727.56     |      369.31      |     394.55      |     25.24      |    10440.56     \n",
      "  2y 3m   |    19701.84     |      368.83      |     394.04      |     25.20      |    10835.11     \n",
      "  2y 4m   |    19676.16     |      368.35      |     393.52      |     25.17      |    11229.15     \n",
      "  2y 5m   |    19650.50     |      367.87      |     393.01      |     25.14      |    11622.67     \n",
      "  2y 6m   |    19624.89     |      367.39      |     392.50      |     25.11      |    12015.68     \n",
      "  2y 7m   |    19599.30     |      366.91      |     391.99      |     25.07      |    12408.18     \n",
      "  2y 8m   |    19573.75     |      366.43      |     391.47      |     25.04      |    12800.17     \n",
      "  2y 9m   |    19548.23     |      365.96      |     390.96      |     25.01      |    13191.64     \n",
      " 2y 10m   |    19522.75     |      365.48      |     390.45      |     24.98      |    13582.61     \n",
      " 2y 11m   |    19497.29     |      365.00      |     389.95      |     24.94      |    13973.06     \n",
      "  3y 0m   |    19471.88     |      364.53      |     389.44      |     24.91      |    14363.01     \n",
      "  3y 1m   |    19446.49     |      364.05      |     388.93      |     24.88      |    14752.45     \n",
      "  3y 2m   |    19421.14     |      363.58      |     388.42      |     24.85      |    15141.38     \n",
      "  3y 3m   |    19395.82     |      363.10      |     387.92      |     24.81      |    15529.80     \n",
      "  3y 4m   |    19370.53     |      362.63      |     387.41      |     24.78      |    15917.71     \n",
      "  3y 5m   |    19345.28     |      362.16      |     386.91      |     24.75      |    16305.13     \n",
      "  3y 6m   |    19320.06     |      361.69      |     386.40      |     24.72      |    16692.03     \n",
      "  3y 7m   |    19294.87     |      361.21      |     385.90      |     24.68      |    17078.43     \n",
      "  3y 8m   |    19269.72     |      360.74      |     385.39      |     24.65      |    17464.33     \n",
      "  3y 9m   |    19244.59     |      360.27      |     384.89      |     24.62      |    17849.72     \n",
      " 3y 10m   |    19219.50     |      359.80      |     384.39      |     24.59      |    18234.62     \n",
      " 3y 11m   |    19194.45     |      359.33      |     383.89      |     24.56      |    18619.01     \n",
      "  4y 0m   |    19169.42     |      358.87      |     383.39      |     24.52      |    19002.89     \n",
      "  4y 1m   |    19144.43     |      358.40      |     382.89      |     24.49      |    19386.28     \n",
      "  4y 2m   |    19119.47     |      357.93      |     382.39      |     24.46      |    19769.17     \n",
      "  4y 3m   |    19094.55     |      357.46      |     381.89      |     24.43      |    20151.56     \n",
      "  4y 4m   |    19069.65     |      357.00      |     381.39      |     24.40      |    20533.45     \n",
      "  4y 5m   |    19044.79     |      356.53      |     380.90      |     24.36      |    20914.85     \n",
      "  4y 6m   |    19019.96     |      356.07      |     380.40      |     24.33      |    21295.74     \n",
      "  4y 7m   |    18995.17     |      355.60      |     379.90      |     24.30      |    21676.14     \n",
      "  4y 8m   |    18970.40     |      355.14      |     379.41      |     24.27      |    22056.04     \n",
      "  4y 9m   |    18945.67     |      354.68      |     378.91      |     24.24      |    22435.45     \n",
      " 4y 10m   |    18920.97     |      354.21      |     378.42      |     24.21      |    22814.37     \n",
      " 4y 11m   |    18896.31     |      353.75      |     377.93      |     24.17      |    23192.79     \n",
      "  5y 0m   |    18871.67     |      353.29      |     377.43      |     24.14      |    23570.71     \n",
      "  5y 1m   |    18847.07     |      352.83      |     376.94      |     24.11      |    23948.14     \n",
      "  5y 2m   |    18822.50     |      352.37      |     376.45      |     24.08      |    24325.09     \n",
      "  5y 3m   |    18797.96     |      351.91      |     375.96      |     24.05      |    24701.54     \n",
      "  5y 4m   |    18773.45     |      351.45      |     375.47      |     24.02      |    25077.50     \n",
      "  5y 5m   |    18748.98     |      350.99      |     374.98      |     23.99      |    25452.96     \n",
      "  5y 6m   |    18724.53     |      350.54      |     374.49      |     23.95      |    25827.94     \n",
      "  5y 7m   |    18700.12     |      350.08      |     374.00      |     23.92      |    26202.43     \n",
      "  5y 8m   |    18675.74     |      349.62      |     373.51      |     23.89      |    26576.44     \n",
      "  5y 9m   |    18651.39     |      349.17      |     373.03      |     23.86      |    26949.95     \n",
      " 5y 10m   |    18627.08     |      348.71      |     372.54      |     23.83      |    27322.98     \n",
      " 5y 11m   |    18602.79     |      348.26      |     372.06      |     23.80      |    27695.52     \n",
      "  6y 0m   |    18578.54     |      347.80      |     371.57      |     23.77      |    28067.58     \n",
      "  6y 1m   |    18554.32     |      347.35      |     371.09      |     23.74      |    28439.15     \n",
      "  6y 2m   |    18530.13     |      346.90      |     370.60      |     23.71      |    28810.23     \n",
      "  6y 3m   |    18505.97     |      346.44      |     370.12      |     23.67      |    29180.84     \n",
      "  6y 4m   |    18481.85     |      345.99      |     369.64      |     23.64      |    29550.96     \n",
      "  6y 5m   |    18457.75     |      345.54      |     369.16      |     23.61      |    29920.59     \n",
      "  6y 6m   |    18433.69     |      345.09      |     368.67      |     23.58      |    30289.75     \n",
      "  6y 7m   |    18409.66     |      344.64      |     368.19      |     23.55      |    30658.42     \n",
      "  6y 8m   |    18385.66     |      344.19      |     367.71      |     23.52      |    31026.62     \n",
      "  6y 9m   |    18361.69     |      343.74      |     367.23      |     23.49      |    31394.33     \n",
      " 6y 10m   |    18337.75     |      343.30      |     366.75      |     23.46      |    31761.56     \n",
      " 6y 11m   |    18313.84     |      342.85      |     366.28      |     23.43      |    32128.32     \n",
      "  7y 0m   |    18289.97     |      342.40      |     365.80      |     23.40      |    32494.59     \n",
      "  7y 1m   |    18266.12     |      341.95      |     365.32      |     23.37      |    32860.39     \n",
      "  7y 2m   |    18242.31     |      341.51      |     364.85      |     23.34      |    33225.72     \n",
      "  7y 3m   |    18218.53     |      341.06      |     364.37      |     23.31      |    33590.56     \n",
      "  7y 4m   |    18194.78     |      340.62      |     363.90      |     23.28      |    33954.93     \n",
      "  7y 5m   |    18171.05     |      340.17      |     363.42      |     23.25      |    34318.83     \n",
      "  7y 6m   |    18147.36     |      339.73      |     362.95      |     23.22      |    34682.25     \n",
      "  7y 7m   |    18123.71     |      339.29      |     362.47      |     23.19      |    35045.20     \n",
      "  7y 8m   |    18100.08     |      338.85      |     362.00      |     23.16      |    35407.67     \n",
      "  7y 9m   |    18076.48     |      338.40      |     361.53      |     23.13      |    35769.67     \n",
      " 7y 10m   |    18052.91     |      337.96      |     361.06      |     23.09      |    36131.20     \n",
      " 7y 11m   |    18029.38     |      337.52      |     360.59      |     23.06      |    36492.26     \n",
      "  8y 0m   |    18005.87     |      337.08      |     360.12      |     23.03      |    36852.85     \n",
      "  8y 1m   |    17982.40     |      336.64      |     359.65      |     23.00      |    37212.97     \n",
      "  8y 2m   |    17958.96     |      336.20      |     359.18      |     22.97      |    37572.61     \n",
      "  8y 3m   |    17935.54     |      335.77      |     358.71      |     22.94      |    37931.79     \n",
      "  8y 4m   |    17912.16     |      335.33      |     358.24      |     22.91      |    38290.50     \n",
      "  8y 5m   |    17888.81     |      334.89      |     357.78      |     22.89      |    38648.75     \n",
      "  8y 6m   |    17865.49     |      334.45      |     357.31      |     22.86      |    39006.52     \n",
      "  8y 7m   |    17842.20     |      334.02      |     356.84      |     22.83      |    39363.83     \n",
      "  8y 8m   |    17818.93     |      333.58      |     356.38      |     22.80      |    39720.68     \n",
      "  8y 9m   |    17795.70     |      333.15      |     355.91      |     22.77      |    40077.05     \n",
      " 8y 10m   |    17772.50     |      332.71      |     355.45      |     22.74      |    40432.97     \n",
      " 8y 11m   |    17749.33     |      332.28      |     354.99      |     22.71      |    40788.42     \n",
      "  9y 0m   |    17726.19     |      331.85      |     354.52      |     22.68      |    41143.41     \n",
      "  9y 1m   |    17703.08     |      331.41      |     354.06      |     22.65      |    41497.93     \n",
      "  9y 2m   |    17680.00     |      330.98      |     353.60      |     22.62      |    41851.99     \n",
      "  9y 3m   |    17656.96     |      330.55      |     353.14      |     22.59      |    42205.59     \n",
      "  9y 4m   |    17633.94     |      330.12      |     352.68      |     22.56      |    42558.73     \n",
      "  9y 5m   |    17610.95     |      329.69      |     352.22      |     22.53      |    42911.41     \n",
      "  9y 6m   |    17587.99     |      329.26      |     351.76      |     22.50      |    43263.63     \n",
      "  9y 7m   |    17565.06     |      328.83      |     351.30      |     22.47      |    43615.39     \n",
      "  9y 8m   |    17542.16     |      328.40      |     350.84      |     22.44      |    43966.69     \n",
      "  9y 9m   |    17519.29     |      327.97      |     350.39      |     22.41      |    44317.53     \n",
      " 9y 10m   |    17496.45     |      327.55      |     349.93      |     22.38      |    44667.92     \n",
      " 9y 11m   |    17473.64     |      327.12      |     349.47      |     22.35      |    45017.85     \n",
      " 10y 0m   |    17450.86     |      326.69      |     349.02      |     22.32      |    45367.32     \n",
      " 10y 1m   |    17428.11     |      326.27      |     348.56      |     22.30      |    45716.34     \n",
      " 10y 2m   |    17405.39     |      325.84      |     348.11      |     22.27      |    46064.90     \n",
      " 10y 3m   |    17382.69     |      325.42      |     347.65      |     22.24      |    46413.01     \n",
      " 10y 4m   |    17360.03     |      324.99      |     347.20      |     22.21      |    46760.66     \n",
      " 10y 5m   |    17337.40     |      324.57      |     346.75      |     22.18      |    47107.86     \n",
      " 10y 6m   |    17314.80     |      324.15      |     346.30      |     22.15      |    47454.61     \n",
      " 10y 7m   |    17292.22     |      323.72      |     345.84      |     22.12      |    47800.91     \n",
      " 10y 8m   |    17269.68     |      323.30      |     345.39      |     22.09      |    48146.75     \n",
      " 10y 9m   |    17247.17     |      322.88      |     344.94      |     22.06      |    48492.14     \n",
      " 10y 10m  |    17224.68     |      322.46      |     344.49      |     22.04      |    48837.09     \n",
      " 10y 11m  |    17202.23     |      322.04      |     344.04      |     22.01      |    49181.58     \n",
      " 11y 0m   |    17179.80     |      321.62      |     343.60      |     21.98      |    49525.63     \n",
      " 11y 1m   |    17157.40     |      321.20      |     343.15      |     21.95      |    49869.22     \n",
      " 11y 2m   |    17135.03     |      320.78      |     342.70      |     21.92      |    50212.37     \n",
      " 11y 3m   |    17112.69     |      320.36      |     342.25      |     21.89      |    50555.07     \n",
      " 11y 4m   |    17090.38     |      319.94      |     341.81      |     21.86      |    50897.32     \n",
      " 11y 5m   |    17068.10     |      319.53      |     341.36      |     21.84      |    51239.13     \n",
      " 11y 6m   |    17045.85     |      319.11      |     340.92      |     21.81      |    51580.49     \n",
      " 11y 7m   |    17023.63     |      318.69      |     340.47      |     21.78      |    51921.41     \n",
      " 11y 8m   |    17001.44     |      318.28      |     340.03      |     21.75      |    52261.88     \n",
      " 11y 9m   |    16979.27     |      317.86      |     339.59      |     21.72      |    52601.91     \n",
      " 11y 10m  |    16957.14     |      317.45      |     339.14      |     21.69      |    52941.50     \n",
      " 11y 11m  |    16935.03     |      317.04      |     338.70      |     21.66      |    53280.64     \n",
      " 12y 0m   |    16912.95     |      316.62      |     338.26      |     21.64      |    53619.34     \n",
      " 12y 1m   |    16890.90     |      316.21      |     337.82      |     21.61      |    53957.60     \n",
      " 12y 2m   |    16868.88     |      315.80      |     337.38      |     21.58      |    54295.42     \n",
      " 12y 3m   |    16846.89     |      315.39      |     336.94      |     21.55      |    54632.79     \n",
      " 12y 4m   |    16824.92     |      314.97      |     336.50      |     21.52      |    54969.73     \n",
      " 12y 5m   |    16802.99     |      314.56      |     336.06      |     21.50      |    55306.23     \n",
      " 12y 6m   |    16781.08     |      314.15      |     335.62      |     21.47      |    55642.29     \n",
      " 12y 7m   |    16759.21     |      313.74      |     335.18      |     21.44      |    55977.91     \n",
      " 12y 8m   |    16737.36     |      313.34      |     334.75      |     21.41      |    56313.10     \n",
      " 12y 9m   |    16715.54     |      312.93      |     334.31      |     21.38      |    56647.84     \n",
      " 12y 10m  |    16693.74     |      312.52      |     333.87      |     21.36      |    56982.15     \n",
      " 12y 11m  |    16671.98     |      312.11      |     333.44      |     21.33      |    57316.03     \n",
      " 13y 0m   |    16650.25     |      311.70      |     333.00      |     21.30      |    57649.47     \n",
      " 13y 1m   |    16628.54     |      311.30      |     332.57      |     21.27      |    57982.47     \n",
      " 13y 2m   |    16606.86     |      310.89      |     332.14      |     21.25      |    58315.04     \n",
      " 13y 3m   |    16585.21     |      310.49      |     331.70      |     21.22      |    58647.18     \n",
      " 13y 4m   |    16563.59     |      310.08      |     331.27      |     21.19      |    58978.89     \n",
      " 13y 5m   |    16541.99     |      309.68      |     330.84      |     21.16      |    59310.16     \n",
      " 13y 6m   |    16520.43     |      309.27      |     330.41      |     21.13      |    59641.00     \n",
      " 13y 7m   |    16498.89     |      308.87      |     329.98      |     21.11      |    59971.41     \n",
      " 13y 8m   |    16477.38     |      308.47      |     329.55      |     21.08      |    60301.38     \n",
      " 13y 9m   |    16455.90     |      308.07      |     329.12      |     21.05      |    60630.93     \n",
      " 13y 10m  |    16434.45     |      307.66      |     328.69      |     21.02      |    60960.05     \n",
      " 13y 11m  |    16413.02     |      307.26      |     328.26      |     21.00      |    61288.74     \n",
      " 14y 0m   |    16391.62     |      306.86      |     327.83      |     20.97      |    61617.00     \n",
      " 14y 1m   |    16370.25     |      306.46      |     327.41      |     20.94      |    61944.83     \n",
      " 14y 2m   |    16348.91     |      306.06      |     326.98      |     20.92      |    62272.24     \n",
      " 14y 3m   |    16327.60     |      305.66      |     326.55      |     20.89      |    62599.21     \n",
      " 14y 4m   |    16306.31     |      305.27      |     326.13      |     20.86      |    62925.77     \n",
      " 14y 5m   |    16285.05     |      304.87      |     325.70      |     20.83      |    63251.89     \n",
      " 14y 6m   |    16263.82     |      304.47      |     325.28      |     20.81      |    63577.59     \n",
      " 14y 7m   |    16242.62     |      304.07      |     324.85      |     20.78      |    63902.87     \n",
      " 14y 8m   |    16221.44     |      303.68      |     324.43      |     20.75      |    64227.72     \n",
      " 14y 9m   |    16200.29     |      303.28      |     324.01      |     20.72      |    64552.15     \n",
      " 14y 10m  |    16179.17     |      302.89      |     323.58      |     20.70      |    64876.16     \n",
      " 14y 11m  |    16158.08     |      302.49      |     323.16      |     20.67      |    65199.74     \n",
      " 15y 0m   |    16137.02     |      302.10      |     322.74      |     20.64      |    65522.90     \n",
      " 15y 1m   |    16115.98     |      301.70      |     322.32      |     20.62      |    65845.64     \n",
      " 15y 2m   |    16094.97     |      301.31      |     321.90      |     20.59      |    66167.96     \n",
      " 15y 3m   |    16073.98     |      300.92      |     321.48      |     20.56      |    66489.86     \n",
      " 15y 4m   |    16053.03     |      300.52      |     321.06      |     20.54      |    66811.34     \n",
      " 15y 5m   |    16032.10     |      300.13      |     320.64      |     20.51      |    67132.40     \n",
      " 15y 6m   |    16011.20     |      299.74      |     320.22      |     20.48      |    67453.04     \n",
      " 15y 7m   |    15990.33     |      299.35      |     319.81      |     20.46      |    67773.27     \n",
      " 15y 8m   |    15969.48     |      298.96      |     319.39      |     20.43      |    68093.07     \n",
      " 15y 9m   |    15948.66     |      298.57      |     318.97      |     20.40      |    68412.46     \n",
      " 15y 10m  |    15927.87     |      298.18      |     318.56      |     20.38      |    68731.44     \n",
      " 15y 11m  |    15907.10     |      297.79      |     318.14      |     20.35      |    69049.99     \n",
      " 16y 0m   |    15886.36     |      297.40      |     317.73      |     20.32      |    69368.14     \n",
      " 16y 1m   |    15865.65     |      297.02      |     317.31      |     20.30      |    69685.86     \n",
      " 16y 2m   |    15844.97     |      296.63      |     316.90      |     20.27      |    70003.18     \n",
      " 16y 3m   |    15824.31     |      296.24      |     316.49      |     20.24      |    70320.08     \n",
      " 16y 4m   |    15803.68     |      295.86      |     316.07      |     20.22      |    70636.56     \n",
      " 16y 5m   |    15783.08     |      295.47      |     315.66      |     20.19      |    70952.64     \n",
      " 16y 6m   |    15762.50     |      295.09      |     315.25      |     20.16      |    71268.30     \n",
      " 16y 7m   |    15741.95     |      294.70      |     314.84      |     20.14      |    71583.55     \n",
      " 16y 8m   |    15721.43     |      294.32      |     314.43      |     20.11      |    71898.39     \n",
      " 16y 9m   |    15700.93     |      293.93      |     314.02      |     20.09      |    72212.82     \n",
      " 16y 10m  |    15680.46     |      293.55      |     313.61      |     20.06      |    72526.83     \n",
      " 16y 11m  |    15660.02     |      293.17      |     313.20      |     20.03      |    72840.44     \n",
      " 17y 0m   |    15639.61     |      292.78      |     312.79      |     20.01      |    73153.64     \n",
      " 17y 1m   |    15619.22     |      292.40      |     312.38      |     19.98      |    73466.44     \n",
      " 17y 2m   |    15598.85     |      292.02      |     311.98      |     19.96      |    73778.82     \n",
      " 17y 3m   |    15578.52     |      291.64      |     311.57      |     19.93      |    74090.80     \n",
      " 17y 4m   |    15558.21     |      291.26      |     311.16      |     19.90      |    74402.37     \n",
      " 17y 5m   |    15537.92     |      290.88      |     310.76      |     19.88      |    74713.53     \n",
      " 17y 6m   |    15517.67     |      290.50      |     310.35      |     19.85      |    75024.29     \n",
      " 17y 7m   |    15497.44     |      290.12      |     309.95      |     19.83      |    75334.64     \n",
      " 17y 8m   |    15477.23     |      289.74      |     309.54      |     19.80      |    75644.59     \n",
      " 17y 9m   |    15457.06     |      289.37      |     309.14      |     19.77      |    75954.14     \n",
      " 17y 10m  |    15436.90     |      288.99      |     308.74      |     19.75      |    76263.28     \n",
      " 17y 11m  |    15416.78     |      288.61      |     308.34      |     19.72      |    76572.02     \n",
      " 18y 0m   |    15396.68     |      288.24      |     307.93      |     19.70      |    76880.35     \n",
      " 18y 1m   |    15376.61     |      287.86      |     307.53      |     19.67      |    77188.29     \n",
      " 18y 2m   |    15356.56     |      287.49      |     307.13      |     19.65      |    77495.82     \n",
      " 18y 3m   |    15336.54     |      287.11      |     306.73      |     19.62      |    77802.95     \n",
      " 18y 4m   |    15316.55     |      286.74      |     306.33      |     19.59      |    78109.68     \n",
      " 18y 5m   |    15296.58     |      286.36      |     305.93      |     19.57      |    78416.01     \n",
      " 18y 6m   |    15276.64     |      285.99      |     305.53      |     19.54      |    78721.94     \n",
      " 18y 7m   |    15256.72     |      285.62      |     305.13      |     19.52      |    79027.47     \n",
      " 18y 8m   |    15236.83     |      285.24      |     304.74      |     19.49      |    79332.61     \n",
      " 18y 9m   |    15216.97     |      284.87      |     304.34      |     19.47      |    79637.35     \n",
      " 18y 10m  |    15197.13     |      284.50      |     303.94      |     19.44      |    79941.69     \n",
      " 18y 11m  |    15177.31     |      284.13      |     303.55      |     19.42      |    80245.63     \n",
      " 19y 0m   |    15157.53     |      283.76      |     303.15      |     19.39      |    80549.17     \n",
      " 19y 1m   |    15137.77     |      283.39      |     302.76      |     19.37      |    80852.32     \n",
      " 19y 2m   |    15118.03     |      283.02      |     302.36      |     19.34      |    81155.08     \n",
      " 19y 3m   |    15098.32     |      282.65      |     301.97      |     19.32      |    81457.44     \n",
      " 19y 4m   |    15078.64     |      282.28      |     301.57      |     19.29      |    81759.41     \n",
      " 19y 5m   |    15058.98     |      281.91      |     301.18      |     19.26      |    82060.98     \n",
      " 19y 6m   |    15039.35     |      281.55      |     300.79      |     19.24      |    82362.16     \n",
      " 19y 7m   |    15019.74     |      281.18      |     300.39      |     19.21      |    82662.95     \n",
      " 19y 8m   |    15000.16     |      280.81      |     300.00      |     19.19      |    82963.34     \n",
      " 19y 9m   |    14980.60     |      280.45      |     299.61      |     19.16      |    83263.34     \n",
      " 19y 10m  |    14961.07     |      280.08      |     299.22      |     19.14      |    83562.96     \n",
      " 19y 11m  |    14941.57     |      279.72      |     298.83      |     19.11      |    83862.18     \n",
      " 20y 0m   |    14922.09     |      279.35      |     298.44      |     19.09      |    84161.01     \n",
      " 20y 1m   |    14902.64     |      278.99      |     298.05      |     19.06      |    84459.45     \n",
      " 20y 2m   |    14883.21     |      278.62      |     297.66      |     19.04      |    84757.50     \n",
      " 20y 3m   |    14863.80     |      278.26      |     297.28      |     19.02      |    85055.17     \n",
      " 20y 4m   |    14844.43     |      277.90      |     296.89      |     18.99      |    85352.44     \n",
      " 20y 5m   |    14825.07     |      277.54      |     296.50      |     18.97      |    85649.33     \n",
      " 20y 6m   |    14805.75     |      277.17      |     296.11      |     18.94      |    85945.83     \n",
      " 20y 7m   |    14786.44     |      276.81      |     295.73      |     18.92      |    86241.95     \n",
      " 20y 8m   |    14767.17     |      276.45      |     295.34      |     18.89      |    86537.68     \n",
      " 20y 9m   |    14747.91     |      276.09      |     294.96      |     18.87      |    86833.02     \n",
      " 20y 10m  |    14728.69     |      275.73      |     294.57      |     18.84      |    87127.98     \n",
      " 20y 11m  |    14709.49     |      275.37      |     294.19      |     18.82      |    87422.55     \n",
      " 21y 0m   |    14690.31     |      275.01      |     293.81      |     18.79      |    87716.74     \n",
      " 21y 1m   |    14671.16     |      274.65      |     293.42      |     18.77      |    88010.55     \n",
      " 21y 2m   |    14652.03     |      274.30      |     293.04      |     18.74      |    88303.97     \n",
      " 21y 3m   |    14632.93     |      273.94      |     292.66      |     18.72      |    88597.01     \n",
      " 21y 4m   |    14613.85     |      273.58      |     292.28      |     18.70      |    88889.67     \n",
      " 21y 5m   |    14594.80     |      273.22      |     291.90      |     18.67      |    89181.95     \n",
      " 21y 6m   |    14575.77     |      272.87      |     291.52      |     18.65      |    89473.84     \n",
      " 21y 7m   |    14556.77     |      272.51      |     291.14      |     18.62      |    89765.36     \n",
      " 21y 8m   |    14537.79     |      272.16      |     290.76      |     18.60      |    90056.50     \n",
      " 21y 9m   |    14518.84     |      271.80      |     290.38      |     18.57      |    90347.25     \n",
      " 21y 10m  |    14499.91     |      271.45      |     290.00      |     18.55      |    90637.63     \n",
      " 21y 11m  |    14481.01     |      271.09      |     289.62      |     18.53      |    90927.63     \n",
      " 22y 0m   |    14462.13     |      270.74      |     289.24      |     18.50      |    91217.25     \n",
      " 22y 1m   |    14443.27     |      270.39      |     288.87      |     18.48      |    91506.49     \n",
      " 22y 2m   |    14424.44     |      270.04      |     288.49      |     18.45      |    91795.35     \n",
      " 22y 3m   |    14405.64     |      269.68      |     288.11      |     18.43      |    92083.84     \n",
      " 22y 4m   |    14386.86     |      269.33      |     287.74      |     18.41      |    92371.96     \n",
      " 22y 5m   |    14368.10     |      268.98      |     287.36      |     18.38      |    92659.69     \n",
      " 22y 6m   |    14349.37     |      268.63      |     286.99      |     18.36      |    92947.06     \n",
      " 22y 7m   |    14330.66     |      268.28      |     286.61      |     18.33      |    93234.04     \n",
      " 22y 8m   |    14311.98     |      267.93      |     286.24      |     18.31      |    93520.66     \n",
      " 22y 9m   |    14293.32     |      267.58      |     285.87      |     18.29      |    93806.90     \n",
      " 22y 10m  |    14274.69     |      267.23      |     285.49      |     18.26      |    94092.76     \n",
      " 22y 11m  |    14256.08     |      266.88      |     285.12      |     18.24      |    94378.26     \n",
      " 23y 0m   |    14237.49     |      266.54      |     284.75      |     18.21      |    94663.38     \n",
      " 23y 1m   |    14218.93     |      266.19      |     284.38      |     18.19      |    94948.13     \n",
      " 23y 2m   |    14200.39     |      265.84      |     284.01      |     18.17      |    95232.51     \n",
      " 23y 3m   |    14181.88     |      265.49      |     283.64      |     18.14      |    95516.51     \n",
      " 23y 4m   |    14163.39     |      265.15      |     283.27      |     18.12      |    95800.15     \n",
      " 23y 5m   |    14144.93     |      264.80      |     282.90      |     18.10      |    96083.42     \n",
      " 23y 6m   |    14126.49     |      264.46      |     282.53      |     18.07      |    96366.32     \n",
      " 23y 7m   |    14108.07     |      264.11      |     282.16      |     18.05      |    96648.85     \n",
      " 23y 8m   |    14089.68     |      263.77      |     281.79      |     18.02      |    96931.01     \n",
      " 23y 9m   |    14071.31     |      263.42      |     281.43      |     18.00      |    97212.80     \n",
      " 23y 10m  |    14052.96     |      263.08      |     281.06      |     17.98      |    97494.23     \n",
      " 23y 11m  |    14034.64     |      262.74      |     280.69      |     17.95      |    97775.29     \n",
      " 24y 0m   |    14016.35     |      262.40      |     280.33      |     17.93      |    98055.98     \n",
      " 24y 1m   |    13998.07     |      262.05      |     279.96      |     17.91      |    98336.31     \n",
      " 24y 2m   |    13979.82     |      261.71      |     279.60      |     17.88      |    98616.27     \n",
      " 24y 3m   |    13961.60     |      261.37      |     279.23      |     17.86      |    98895.87     \n",
      " 24y 4m   |    13943.40     |      261.03      |     278.87      |     17.84      |    99175.10     \n",
      " 24y 5m   |    13925.22     |      260.69      |     278.50      |     17.81      |    99453.97     \n",
      " 24y 6m   |    13907.06     |      260.35      |     278.14      |     17.79      |    99732.47     \n",
      " 24y 7m   |    13888.93     |      260.01      |     277.78      |     17.77      |    100010.61    \n",
      " 24y 8m   |    13870.83     |      259.67      |     277.42      |     17.74      |    100288.39    \n",
      " 24y 9m   |    13852.74     |      259.33      |     277.05      |     17.72      |    100565.81    \n",
      " 24y 10m  |    13834.68     |      259.00      |     276.69      |     17.70      |    100842.86    \n",
      " 24y 11m  |    13816.65     |      258.66      |     276.33      |     17.68      |    101119.55    \n",
      " 25y 0m   |    13798.63     |      258.32      |     275.97      |     17.65      |    101395.89    \n",
      " 25y 1m   |    13780.64     |      257.98      |     275.61      |     17.63      |    101671.86    \n",
      " 25y 2m   |    13762.68     |      257.65      |     275.25      |     17.61      |    101947.47    \n",
      " 25y 3m   |    13744.74     |      257.31      |     274.89      |     17.58      |    102222.73    \n",
      " 25y 4m   |    13726.82     |      256.98      |     274.54      |     17.56      |    102497.62    \n",
      " 25y 5m   |    13708.92     |      256.64      |     274.18      |     17.54      |    102772.16    \n",
      " 25y 6m   |    13691.05     |      256.31      |     273.82      |     17.51      |    103046.34    \n",
      " 25y 7m   |    13673.20     |      255.97      |     273.46      |     17.49      |    103320.16    \n",
      " 25y 8m   |    13655.37     |      255.64      |     273.11      |     17.47      |    103593.62    \n",
      " 25y 9m   |    13637.57     |      255.30      |     272.75      |     17.45      |    103866.73    \n",
      " 25y 10m  |    13619.79     |      254.97      |     272.40      |     17.42      |    104139.48    \n",
      " 25y 11m  |    13602.04     |      254.64      |     272.04      |     17.40      |    104411.88    \n",
      " 26y 0m   |    13584.30     |      254.31      |     271.69      |     17.38      |    104683.92    \n",
      " 26y 1m   |    13566.59     |      253.98      |     271.33      |     17.36      |    104955.60    \n",
      " 26y 2m   |    13548.91     |      253.65      |     270.98      |     17.33      |    105226.93    \n",
      " 26y 3m   |    13531.24     |      253.31      |     270.62      |     17.31      |    105497.91    \n",
      " 26y 4m   |    13513.60     |      252.98      |     270.27      |     17.29      |    105768.54    \n",
      " 26y 5m   |    13495.98     |      252.65      |     269.92      |     17.27      |    106038.81    \n",
      " 26y 6m   |    13478.39     |      252.32      |     269.57      |     17.24      |    106308.73    \n",
      " 26y 7m   |    13460.82     |      252.00      |     269.22      |     17.22      |    106578.30    \n",
      " 26y 8m   |    13443.27     |      251.67      |     268.87      |     17.20      |    106847.51    \n",
      " 26y 9m   |    13425.74     |      251.34      |     268.51      |     17.18      |    107116.38    \n",
      " 26y 10m  |    13408.24     |      251.01      |     268.16      |     17.15      |    107384.89    \n",
      " 26y 11m  |    13390.76     |      250.68      |     267.82      |     17.13      |    107653.06    \n",
      " 27y 0m   |    13373.30     |      250.36      |     267.47      |     17.11      |    107920.87    \n",
      " 27y 1m   |    13355.87     |      250.03      |     267.12      |     17.09      |    108188.34    \n",
      " 27y 2m   |    13338.46     |      249.71      |     266.77      |     17.06      |    108455.46    \n",
      " 27y 3m   |    13321.07     |      249.38      |     266.42      |     17.04      |    108722.23    \n",
      " 27y 4m   |    13303.70     |      249.05      |     266.07      |     17.02      |    108988.65    \n",
      " 27y 5m   |    13286.36     |      248.73      |     265.73      |     17.00      |    109254.72    \n",
      " 27y 6m   |    13269.03     |      248.41      |     265.38      |     16.98      |    109520.45    \n",
      " 27y 7m   |    13251.74     |      248.08      |     265.03      |     16.95      |    109785.83    \n",
      " 27y 8m   |    13234.46     |      247.76      |     264.69      |     16.93      |    110050.86    \n",
      " 27y 9m   |    13217.21     |      247.44      |     264.34      |     16.91      |    110315.55    \n",
      " 27y 10m  |    13199.97     |      247.11      |     264.00      |     16.89      |    110579.90    \n",
      " 27y 11m  |    13182.76     |      246.79      |     263.66      |     16.86      |    110843.90    \n",
      " 28y 0m   |    13165.58     |      246.47      |     263.31      |     16.84      |    111107.55    \n",
      " 28y 1m   |    13148.41     |      246.15      |     262.97      |     16.82      |    111370.86    \n",
      " 28y 2m   |    13131.27     |      245.83      |     262.63      |     16.80      |    111633.83    \n",
      " 28y 3m   |    13114.15     |      245.51      |     262.28      |     16.78      |    111896.46    \n",
      " 28y 4m   |    13097.06     |      245.19      |     261.94      |     16.75      |    112158.74    \n",
      " 28y 5m   |    13079.98     |      244.87      |     261.60      |     16.73      |    112420.68    \n",
      " 28y 6m   |    13062.93     |      244.55      |     261.26      |     16.71      |    112682.28    \n",
      " 28y 7m   |    13045.90     |      244.23      |     260.92      |     16.69      |    112943.54    \n",
      " 28y 8m   |    13028.89     |      243.91      |     260.58      |     16.67      |    113204.46    \n",
      " 28y 9m   |    13011.91     |      243.59      |     260.24      |     16.65      |    113465.04    \n",
      " 28y 10m  |    12994.94     |      243.27      |     259.90      |     16.62      |    113725.27    \n",
      " 28y 11m  |    12978.00     |      242.96      |     259.56      |     16.60      |    113985.17    \n",
      " 29y 0m   |    12961.08     |      242.64      |     259.22      |     16.58      |    114244.73    \n",
      " 29y 1m   |    12944.18     |      242.32      |     258.88      |     16.56      |    114503.95    \n",
      " 29y 2m   |    12927.31     |      242.01      |     258.55      |     16.54      |    114762.84    \n",
      " 29y 3m   |    12910.46     |      241.69      |     258.21      |     16.52      |    115021.38    \n",
      " 29y 4m   |    12893.62     |      241.38      |     257.87      |     16.49      |    115279.59    \n",
      " 29y 5m   |    12876.81     |      241.06      |     257.54      |     16.47      |    115537.47    \n",
      " 29y 6m   |    12860.03     |      240.75      |     257.20      |     16.45      |    115795.00    \n",
      " 29y 7m   |    12843.26     |      240.43      |     256.87      |     16.43      |    116052.20    \n",
      " 29y 8m   |    12826.52     |      240.12      |     256.53      |     16.41      |    116309.07    \n",
      " 29y 9m   |    12809.80     |      239.81      |     256.20      |     16.39      |    116565.60    \n",
      " 29y 10m  |    12793.10     |      239.50      |     255.86      |     16.37      |    116821.79    \n",
      " 29y 11m  |    12776.42     |      239.18      |     255.53      |     16.34      |    117077.66    \n",
      " 30y 0m   |    12759.76     |      238.87      |     255.20      |     16.32      |    117333.18    \n",
      " 30y 1m   |    12743.13     |      238.56      |     254.86      |     16.30      |    117588.38    \n",
      " 30y 2m   |    12726.51     |      238.25      |     254.53      |     16.28      |    117843.24    \n",
      " 30y 3m   |    12709.92     |      237.94      |     254.20      |     16.26      |    118097.77    \n",
      " 30y 4m   |    12693.35     |      237.63      |     253.87      |     16.24      |    118351.97    \n",
      " 30y 5m   |    12676.80     |      237.32      |     253.54      |     16.22      |    118605.84    \n",
      " 30y 6m   |    12660.28     |      237.01      |     253.21      |     16.20      |    118859.37    \n",
      " 30y 7m   |    12643.77     |      236.70      |     252.88      |     16.18      |    119112.58    \n",
      " 30y 8m   |    12627.29     |      236.39      |     252.55      |     16.15      |    119365.45    \n",
      " 30y 9m   |    12610.82     |      236.08      |     252.22      |     16.13      |    119618.00    \n",
      " 30y 10m  |    12594.38     |      235.78      |     251.89      |     16.11      |    119870.22    \n",
      " 30y 11m  |    12577.96     |      235.47      |     251.56      |     16.09      |    120122.10    \n",
      " 31y 0m   |    12561.57     |      235.16      |     251.23      |     16.07      |    120373.66    \n",
      " 31y 1m   |    12545.19     |      234.85      |     250.90      |     16.05      |    120624.90    \n",
      " 31y 2m   |    12528.84     |      234.55      |     250.58      |     16.03      |    120875.80    \n",
      " 31y 3m   |    12512.50     |      234.24      |     250.25      |     16.01      |    121126.38    \n",
      " 31y 4m   |    12496.19     |      233.94      |     249.92      |     15.99      |    121376.63    \n",
      " 31y 5m   |    12479.90     |      233.63      |     249.60      |     15.97      |    121626.55    \n",
      " 31y 6m   |    12463.63     |      233.33      |     249.27      |     15.94      |    121876.15    \n",
      " 31y 7m   |    12447.38     |      233.02      |     248.95      |     15.92      |    122125.42    \n",
      " 31y 8m   |    12431.15     |      232.72      |     248.62      |     15.90      |    122374.37    \n",
      " 31y 9m   |    12414.94     |      232.42      |     248.30      |     15.88      |    122622.99    \n",
      " 31y 10m  |    12398.76     |      232.11      |     247.98      |     15.86      |    122871.29    \n",
      " 31y 11m  |    12382.59     |      231.81      |     247.65      |     15.84      |    123119.26    \n",
      " 32y 0m   |    12366.45     |      231.51      |     247.33      |     15.82      |    123366.92    \n",
      " 32y 1m   |    12350.33     |      231.21      |     247.01      |     15.80      |    123614.25    \n",
      " 32y 2m   |    12334.23     |      230.91      |     246.68      |     15.78      |    123861.25    \n",
      " 32y 3m   |    12318.15     |      230.60      |     246.36      |     15.76      |    124107.94    \n",
      " 32y 4m   |    12302.09     |      230.30      |     246.04      |     15.74      |    124354.30    \n",
      " 32y 5m   |    12286.05     |      230.00      |     245.72      |     15.72      |    124600.34    \n",
      " 32y 6m   |    12270.03     |      229.70      |     245.40      |     15.70      |    124846.06    \n",
      " 32y 7m   |    12254.04     |      229.40      |     245.08      |     15.68      |    125091.46    \n",
      " 32y 8m   |    12238.06     |      229.11      |     244.76      |     15.66      |    125336.54    \n",
      " 32y 9m   |    12222.11     |      228.81      |     244.44      |     15.64      |    125581.31    \n",
      " 32y 10m  |    12206.17     |      228.51      |     244.12      |     15.62      |    125825.75    \n",
      " 32y 11m  |    12190.26     |      228.21      |     243.81      |     15.59      |    126069.87    \n",
      " 33y 0m   |    12174.37     |      227.91      |     243.49      |     15.57      |    126313.68    \n",
      " 33y 1m   |    12158.50     |      227.62      |     243.17      |     15.55      |    126557.16    \n",
      " 33y 2m   |    12142.64     |      227.32      |     242.85      |     15.53      |    126800.33    \n",
      " 33y 3m   |    12126.81     |      227.02      |     242.54      |     15.51      |    127043.19    \n",
      " 33y 4m   |    12111.00     |      226.73      |     242.22      |     15.49      |    127285.72    \n",
      " 33y 5m   |    12095.21     |      226.43      |     241.90      |     15.47      |    127527.94    \n",
      " 33y 6m   |    12079.45     |      226.14      |     241.59      |     15.45      |    127769.85    \n",
      " 33y 7m   |    12063.70     |      225.84      |     241.27      |     15.43      |    128011.44    \n",
      " 33y 8m   |    12047.97     |      225.55      |     240.96      |     15.41      |    128252.71    \n",
      " 33y 9m   |    12032.26     |      225.25      |     240.65      |     15.39      |    128493.67    \n",
      " 33y 10m  |    12016.58     |      224.96      |     240.33      |     15.37      |    128734.31    \n",
      " 33y 11m  |    12000.91     |      224.67      |     240.02      |     15.35      |    128974.65    \n",
      " 34y 0m   |    11985.27     |      224.37      |     239.71      |     15.33      |    129214.66    \n",
      " 34y 1m   |    11969.64     |      224.08      |     239.39      |     15.31      |    129454.37    \n",
      " 34y 2m   |    11954.04     |      223.79      |     239.08      |     15.29      |    129693.76    \n",
      " 34y 3m   |    11938.45     |      223.50      |     238.77      |     15.27      |    129932.84    \n",
      " 34y 4m   |    11922.89     |      223.20      |     238.46      |     15.25      |    130171.61    \n",
      " 34y 5m   |    11907.34     |      222.91      |     238.15      |     15.23      |    130410.07    \n",
      " 34y 6m   |    11891.82     |      222.62      |     237.84      |     15.21      |    130648.22    \n",
      " 34y 7m   |    11876.32     |      222.33      |     237.53      |     15.19      |    130886.05    \n",
      " 34y 8m   |    11860.83     |      222.04      |     237.22      |     15.17      |    131123.58    \n",
      " 34y 9m   |    11845.37     |      221.75      |     236.91      |     15.15      |    131360.80    \n",
      " 34y 10m  |    11829.93     |      221.46      |     236.60      |     15.13      |    131597.70    \n",
      " 34y 11m  |    11814.50     |      221.18      |     236.29      |     15.11      |    131834.30    \n",
      " 35y 0m   |    11799.10     |      220.89      |     235.98      |     15.09      |    132070.59    \n",
      " 35y 1m   |    11783.72     |      220.60      |     235.67      |     15.07      |    132306.57    \n",
      " 35y 2m   |    11768.36     |      220.31      |     235.37      |     15.06      |    132542.25    \n",
      " 35y 3m   |    11753.01     |      220.02      |     235.06      |     15.04      |    132777.62    \n",
      " 35y 4m   |    11737.69     |      219.74      |     234.75      |     15.02      |    133012.68    \n",
      " 35y 5m   |    11722.39     |      219.45      |     234.45      |     15.00      |    133247.43    \n",
      " 35y 6m   |    11707.11     |      219.17      |     234.14      |     14.98      |    133481.88    \n",
      " 35y 7m   |    11691.84     |      218.88      |     233.84      |     14.96      |    133716.02    \n",
      " 35y 8m   |    11676.60     |      218.59      |     233.53      |     14.94      |    133949.86    \n",
      " 35y 9m   |    11661.38     |      218.31      |     233.23      |     14.92      |    134183.39    \n",
      " 35y 10m  |    11646.18     |      218.02      |     232.92      |     14.90      |    134416.62    \n",
      " 35y 11m  |    11630.99     |      217.74      |     232.62      |     14.88      |    134649.54    \n",
      " 36y 0m   |    11615.83     |      217.46      |     232.32      |     14.86      |    134882.16    \n",
      " 36y 1m   |    11600.69     |      217.17      |     232.01      |     14.84      |    135114.48    \n",
      " 36y 2m   |    11585.56     |      216.89      |     231.71      |     14.82      |    135346.49    \n",
      " 36y 3m   |    11570.46     |      216.61      |     231.41      |     14.80      |    135578.20    \n",
      " 36y 4m   |    11555.37     |      216.32      |     231.11      |     14.78      |    135809.61    \n",
      " 36y 5m   |    11540.31     |      216.04      |     230.81      |     14.76      |    136040.72    \n",
      " 36y 6m   |    11525.26     |      215.76      |     230.51      |     14.74      |    136271.52    \n",
      " 36y 7m   |    11510.24     |      215.48      |     230.20      |     14.72      |    136502.03    \n",
      " 36y 8m   |    11495.23     |      215.20      |     229.90      |     14.71      |    136732.23    \n",
      " 36y 9m   |    11480.25     |      214.92      |     229.60      |     14.69      |    136962.14    \n",
      " 36y 10m  |    11465.28     |      214.64      |     229.31      |     14.67      |    137191.74    \n",
      " 36y 11m  |    11450.33     |      214.36      |     229.01      |     14.65      |    137421.05    \n",
      " 37y 0m   |    11435.40     |      214.08      |     228.71      |     14.63      |    137650.06    \n",
      " 37y 1m   |    11420.50     |      213.80      |     228.41      |     14.61      |    137878.76    \n",
      " 37y 2m   |    11405.61     |      213.52      |     228.11      |     14.59      |    138107.17    \n",
      " 37y 3m   |    11390.74     |      213.24      |     227.81      |     14.57      |    138335.29    \n",
      " 37y 4m   |    11375.89     |      212.96      |     227.52      |     14.55      |    138563.10    \n",
      " 37y 5m   |    11361.06     |      212.69      |     227.22      |     14.53      |    138790.62    \n",
      " 37y 6m   |    11346.25     |      212.41      |     226.92      |     14.52      |    139017.84    \n",
      " 37y 7m   |    11331.45     |      212.13      |     226.63      |     14.50      |    139244.76    \n",
      " 37y 8m   |    11316.68     |      211.86      |     226.33      |     14.48      |    139471.39    \n",
      " 37y 9m   |    11301.93     |      211.58      |     226.04      |     14.46      |    139697.73    \n",
      " 37y 10m  |    11287.19     |      211.30      |     225.74      |     14.44      |    139923.77    \n",
      " 37y 11m  |    11272.48     |      211.03      |     225.45      |     14.42      |    140149.51    \n",
      " 38y 0m   |    11257.78     |      210.75      |     225.16      |     14.40      |    140374.96    \n",
      " 38y 1m   |    11243.10     |      210.48      |     224.86      |     14.38      |    140600.11    \n",
      " 38y 2m   |    11228.45     |      210.20      |     224.57      |     14.36      |    140824.98    \n",
      " 38y 3m   |    11213.81     |      209.93      |     224.28      |     14.35      |    141049.55    \n",
      " 38y 4m   |    11199.19     |      209.66      |     223.98      |     14.33      |    141273.82    \n",
      " 38y 5m   |    11184.59     |      209.38      |     223.69      |     14.31      |    141497.81    \n",
      " 38y 6m   |    11170.01     |      209.11      |     223.40      |     14.29      |    141721.50    \n",
      " 38y 7m   |    11155.45     |      208.84      |     223.11      |     14.27      |    141944.90    \n",
      " 38y 8m   |    11140.90     |      208.57      |     222.82      |     14.25      |    142168.01    \n",
      " 38y 9m   |    11126.38     |      208.29      |     222.53      |     14.23      |    142390.82    \n",
      " 38y 10m  |    11111.87     |      208.02      |     222.24      |     14.22      |    142613.35    \n",
      " 38y 11m  |    11097.39     |      207.75      |     221.95      |     14.20      |    142835.59    \n",
      " 39y 0m   |    11082.92     |      207.48      |     221.66      |     14.18      |    143057.54    \n",
      " 39y 1m   |    11068.47     |      207.21      |     221.37      |     14.16      |    143279.20    \n",
      " 39y 2m   |    11054.04     |      206.94      |     221.08      |     14.14      |    143500.57    \n",
      " 39y 3m   |    11039.63     |      206.67      |     220.79      |     14.12      |    143721.65    \n",
      " 39y 4m   |    11025.24     |      206.40      |     220.50      |     14.10      |    143942.44    \n",
      " 39y 5m   |    11010.86     |      206.13      |     220.22      |     14.09      |    144162.94    \n",
      " 39y 6m   |    10996.51     |      205.86      |     219.93      |     14.07      |    144383.16    \n",
      " 39y 7m   |    10982.17     |      205.59      |     219.64      |     14.05      |    144603.09    \n",
      " 39y 8m   |    10967.85     |      205.33      |     219.36      |     14.03      |    144822.73    \n",
      " 39y 9m   |    10953.55     |      205.06      |     219.07      |     14.01      |    145042.09    \n",
      " 39y 10m  |    10939.27     |      204.79      |     218.79      |     13.99      |    145261.16    \n",
      " 39y 11m  |    10925.01     |      204.52      |     218.50      |     13.98      |    145479.95    \n",
      " 40y 0m   |    10910.77     |      204.26      |     218.22      |     13.96      |    145698.45    \n",
      " 40y 1m   |    10896.55     |      203.99      |     217.93      |     13.94      |    145916.66    \n",
      " 40y 2m   |    10882.34     |      203.73      |     217.65      |     13.92      |    146134.59    \n",
      " 40y 3m   |    10868.15     |      203.46      |     217.36      |     13.90      |    146352.24    \n",
      " 40y 4m   |    10853.98     |      203.19      |     217.08      |     13.89      |    146569.60    \n",
      " 40y 5m   |    10839.83     |      202.93      |     216.80      |     13.87      |    146786.68    \n",
      " 40y 6m   |    10825.70     |      202.66      |     216.51      |     13.85      |    147003.48    \n",
      " 40y 7m   |    10811.59     |      202.40      |     216.23      |     13.83      |    147219.99    \n",
      " 40y 8m   |    10797.49     |      202.14      |     215.95      |     13.81      |    147436.23    \n",
      " 40y 9m   |    10783.42     |      201.87      |     215.67      |     13.80      |    147652.18    \n",
      " 40y 10m  |    10769.36     |      201.61      |     215.39      |     13.78      |    147867.84    \n",
      " 40y 11m  |    10755.32     |      201.35      |     215.11      |     13.76      |    148083.23    \n",
      " 41y 0m   |    10741.30     |      201.08      |     214.83      |     13.74      |    148298.34    \n",
      " 41y 1m   |    10727.29     |      200.82      |     214.55      |     13.72      |    148513.16    \n",
      " 41y 2m   |    10713.31     |      200.56      |     214.27      |     13.71      |    148727.71    \n",
      " 41y 3m   |    10699.34     |      200.30      |     213.99      |     13.69      |    148941.98    \n",
      " 41y 4m   |    10685.39     |      200.04      |     213.71      |     13.67      |    149155.96    \n",
      " 41y 5m   |    10671.46     |      199.78      |     213.43      |     13.65      |    149369.67    \n",
      " 41y 6m   |    10657.55     |      199.52      |     213.15      |     13.63      |    149583.10    \n",
      " 41y 7m   |    10643.65     |      199.26      |     212.87      |     13.62      |    149796.25    \n",
      " 41y 8m   |    10629.78     |      199.00      |     212.60      |     13.60      |    150009.12    \n",
      " 41y 9m   |    10615.92     |      198.74      |     212.32      |     13.58      |    150221.72    \n",
      " 41y 10m  |    10602.08     |      198.48      |     212.04      |     13.56      |    150434.04    \n",
      " 41y 11m  |    10588.26     |      198.22      |     211.77      |     13.55      |    150646.08    \n",
      " 42y 0m   |    10574.45     |      197.96      |     211.49      |     13.53      |    150857.84    \n",
      " 42y 1m   |    10560.67     |      197.70      |     211.21      |     13.51      |    151069.33    \n",
      " 42y 2m   |    10546.90     |      197.45      |     210.94      |     13.49      |    151280.55    \n",
      " 42y 3m   |    10533.15     |      197.19      |     210.66      |     13.48      |    151491.48    \n",
      " 42y 4m   |    10519.42     |      196.93      |     210.39      |     13.46      |    151702.15    \n",
      " 42y 5m   |    10505.70     |      196.67      |     210.11      |     13.44      |    151912.54    \n",
      " 42y 6m   |    10492.01     |      196.42      |     209.84      |     13.42      |    152122.65    \n",
      " 42y 7m   |    10478.33     |      196.16      |     209.57      |     13.40      |    152332.49    \n",
      " 42y 8m   |    10464.67     |      195.91      |     209.29      |     13.39      |    152542.06    \n",
      " 42y 9m   |    10451.03     |      195.65      |     209.02      |     13.37      |    152751.35    \n",
      " 42y 10m  |    10437.40     |      195.40      |     208.75      |     13.35      |    152960.37    \n",
      " 42y 11m  |    10423.79     |      195.14      |     208.48      |     13.34      |    153169.12    \n",
      " 43y 0m   |    10410.20     |      194.89      |     208.20      |     13.32      |    153377.59    \n",
      " 43y 1m   |    10396.63     |      194.63      |     207.93      |     13.30      |    153585.80    \n",
      " 43y 2m   |    10383.08     |      194.38      |     207.66      |     13.28      |    153793.73    \n",
      " 43y 3m   |    10369.54     |      194.13      |     207.39      |     13.27      |    154001.39    \n",
      " 43y 4m   |    10356.02     |      193.87      |     207.12      |     13.25      |    154208.78    \n",
      " 43y 5m   |    10342.52     |      193.62      |     206.85      |     13.23      |    154415.90    \n",
      " 43y 6m   |    10329.04     |      193.37      |     206.58      |     13.21      |    154622.75    \n",
      " 43y 7m   |    10315.57     |      193.11      |     206.31      |     13.20      |    154829.34    \n",
      " 43y 8m   |    10302.12     |      192.86      |     206.04      |     13.18      |    155035.65    \n",
      " 43y 9m   |    10288.69     |      192.61      |     205.77      |     13.16      |    155241.69    \n",
      " 43y 10m  |    10275.28     |      192.36      |     205.51      |     13.15      |    155447.46    \n",
      " 43y 11m  |    10261.88     |      192.11      |     205.24      |     13.13      |    155652.97    \n",
      " 44y 0m   |    10248.51     |      191.86      |     204.97      |     13.11      |    155858.21    \n",
      " 44y 1m   |    10235.14     |      191.61      |     204.70      |     13.09      |    156063.18    \n",
      " 44y 2m   |    10221.80     |      191.36      |     204.44      |     13.08      |    156267.88    \n",
      " 44y 3m   |    10208.47     |      191.11      |     204.17      |     13.06      |    156472.32    \n",
      " 44y 4m   |    10195.17     |      190.86      |     203.90      |     13.04      |    156676.49    \n",
      " 44y 5m   |    10181.87     |      190.61      |     203.64      |     13.03      |    156880.39    \n",
      " 44y 6m   |    10168.60     |      190.36      |     203.37      |     13.01      |    157084.03    \n",
      " 44y 7m   |    10155.34     |      190.12      |     203.11      |     12.99      |    157287.40    \n",
      " 44y 8m   |    10142.10     |      189.87      |     202.84      |     12.97      |    157490.50    \n",
      " 44y 9m   |    10128.88     |      189.62      |     202.58      |     12.96      |    157693.35    \n",
      " 44y 10m  |    10115.68     |      189.37      |     202.31      |     12.94      |    157895.92    \n",
      " 44y 11m  |    10102.49     |      189.13      |     202.05      |     12.92      |    158098.24    \n",
      " 45y 0m   |    10089.32     |      188.88      |     201.79      |     12.91      |    158300.29    \n",
      " 45y 1m   |    10076.16     |      188.63      |     201.52      |     12.89      |    158502.07    \n",
      " 45y 2m   |    10063.03     |      188.39      |     201.26      |     12.87      |    158703.60    \n",
      " 45y 3m   |    10049.91     |      188.14      |     201.00      |     12.86      |    158904.86    \n",
      " 45y 4m   |    10036.81     |      187.90      |     200.74      |     12.84      |    159105.86    \n",
      " 45y 5m   |    10023.72     |      187.65      |     200.47      |     12.82      |    159306.59    \n",
      " 45y 6m   |    10010.65     |      187.41      |     200.21      |     12.81      |    159507.07    \n",
      " 45y 7m   |     9997.60     |      187.16      |     200.00      |     12.84      |    159707.28    \n",
      " 45y 8m   |     9984.52     |      186.92      |     200.00      |     13.08      |    159907.28    \n",
      " 45y 9m   |     9971.19     |      186.67      |     200.00      |     13.33      |    160107.28    \n",
      " 45y 10m  |     9957.60     |      186.41      |     200.00      |     13.59      |    160307.28    \n",
      " 45y 11m  |     9943.76     |      186.15      |     200.00      |     13.85      |    160507.28    \n",
      " 46y 0m   |     9929.65     |      185.89      |     200.00      |     14.11      |    160707.28    \n",
      " 46y 1m   |     9915.27     |      185.62      |     200.00      |     14.38      |    160907.28    \n",
      " 46y 2m   |     9900.61     |      185.35      |     200.00      |     14.65      |    161107.28    \n",
      " 46y 3m   |     9885.68     |      185.07      |     200.00      |     14.93      |    161307.28    \n",
      " 46y 4m   |     9870.46     |      184.78      |     200.00      |     15.22      |    161507.28    \n",
      " 46y 5m   |     9854.95     |      184.49      |     200.00      |     15.51      |    161707.28    \n",
      " 46y 6m   |     9839.15     |      184.20      |     200.00      |     15.80      |    161907.28    \n",
      " 46y 7m   |     9823.04     |      183.89      |     200.00      |     16.11      |    162107.28    \n",
      " 46y 8m   |     9806.63     |      183.59      |     200.00      |     16.41      |    162307.28    \n",
      " 46y 9m   |     9789.90     |      183.27      |     200.00      |     16.73      |    162507.28    \n",
      " 46y 10m  |     9772.86     |      182.95      |     200.00      |     17.05      |    162707.28    \n",
      " 46y 11m  |     9755.49     |      182.63      |     200.00      |     17.37      |    162907.28    \n",
      " 47y 0m   |     9737.79     |      182.30      |     200.00      |     17.70      |    163107.28    \n",
      " 47y 1m   |     9719.75     |      181.96      |     200.00      |     18.04      |    163307.28    \n",
      " 47y 2m   |     9701.36     |      181.62      |     200.00      |     18.38      |    163507.28    \n",
      " 47y 3m   |     9682.63     |      181.27      |     200.00      |     18.73      |    163707.28    \n",
      " 47y 4m   |     9663.54     |      180.91      |     200.00      |     19.09      |    163907.28    \n",
      " 47y 5m   |     9644.08     |      180.54      |     200.00      |     19.46      |    164107.28    \n",
      " 47y 6m   |     9624.26     |      180.17      |     200.00      |     19.83      |    164307.28    \n",
      " 47y 7m   |     9604.05     |      179.79      |     200.00      |     20.21      |    164507.28    \n",
      " 47y 8m   |     9583.46     |      179.41      |     200.00      |     20.59      |    164707.28    \n",
      " 47y 9m   |     9562.48     |      179.02      |     200.00      |     20.98      |    164907.28    \n",
      " 47y 10m  |     9541.09     |      178.62      |     200.00      |     21.38      |    165107.28    \n",
      " 47y 11m  |     9519.30     |      178.21      |     200.00      |     21.79      |    165307.28    \n",
      " 48y 0m   |     9497.09     |      177.79      |     200.00      |     22.21      |    165507.28    \n",
      " 48y 1m   |     9474.46     |      177.37      |     200.00      |     22.63      |    165707.28    \n",
      " 48y 2m   |     9451.40     |      176.94      |     200.00      |     23.06      |    165907.28    \n",
      " 48y 3m   |     9427.89     |      176.50      |     200.00      |     23.50      |    166107.28    \n",
      " 48y 4m   |     9403.94     |      176.05      |     200.00      |     23.95      |    166307.28    \n",
      " 48y 5m   |     9379.53     |      175.59      |     200.00      |     24.41      |    166507.28    \n",
      " 48y 6m   |     9354.66     |      175.13      |     200.00      |     24.87      |    166707.28    \n",
      " 48y 7m   |     9329.31     |      174.65      |     200.00      |     25.35      |    166907.28    \n",
      " 48y 8m   |     9303.48     |      174.17      |     200.00      |     25.83      |    167107.28    \n",
      " 48y 9m   |     9277.15     |      173.67      |     200.00      |     26.33      |    167307.28    \n",
      " 48y 10m  |     9250.33     |      173.17      |     200.00      |     26.83      |    167507.28    \n",
      " 48y 11m  |     9222.99     |      172.66      |     200.00      |     27.34      |    167707.28    \n",
      " 49y 0m   |     9195.13     |      172.14      |     200.00      |     27.86      |    167907.28    \n",
      " 49y 1m   |     9166.73     |      171.61      |     200.00      |     28.39      |    168107.28    \n",
      " 49y 2m   |     9137.80     |      171.07      |     200.00      |     28.93      |    168307.28    \n",
      " 49y 3m   |     9108.31     |      170.51      |     200.00      |     29.49      |    168507.28    \n",
      " 49y 4m   |     9078.27     |      169.95      |     200.00      |     30.05      |    168707.28    \n",
      " 49y 5m   |     9047.64     |      169.38      |     200.00      |     30.62      |    168907.28    \n",
      " 49y 6m   |     9016.44     |      168.79      |     200.00      |     31.21      |    169107.28    \n",
      " 49y 7m   |     8984.64     |      168.20      |     200.00      |     31.80      |    169307.28    \n",
      " 49y 8m   |     8952.23     |      167.59      |     200.00      |     32.41      |    169507.28    \n",
      " 49y 9m   |     8919.20     |      166.97      |     200.00      |     33.03      |    169707.28    \n",
      " 49y 10m  |     8885.55     |      166.34      |     200.00      |     33.66      |    169907.28    \n",
      " 49y 11m  |     8851.25     |      165.70      |     200.00      |     34.30      |    170107.28    \n",
      " 50y 0m   |     8816.29     |      165.05      |     200.00      |     34.95      |    170307.28    \n",
      " 50y 1m   |     8780.68     |      164.38      |     200.00      |     35.62      |    170507.28    \n",
      " 50y 2m   |     8744.38     |      163.70      |     200.00      |     36.30      |    170707.28    \n",
      " 50y 3m   |     8707.38     |      163.01      |     200.00      |     36.99      |    170907.28    \n",
      " 50y 4m   |     8669.69     |      162.30      |     200.00      |     37.70      |    171107.28    \n",
      " 50y 5m   |     8631.27     |      161.58      |     200.00      |     38.42      |    171307.28    \n",
      " 50y 6m   |     8592.12     |      160.85      |     200.00      |     39.15      |    171507.28    \n",
      " 50y 7m   |     8552.22     |      160.10      |     200.00      |     39.90      |    171707.28    \n",
      " 50y 8m   |     8511.57     |      159.34      |     200.00      |     40.66      |    171907.28    \n",
      " 50y 9m   |     8470.13     |      158.57      |     200.00      |     41.43      |    172107.28    \n",
      " 50y 10m  |     8427.91     |      157.78      |     200.00      |     42.22      |    172307.28    \n",
      " 50y 11m  |     8384.88     |      156.97      |     200.00      |     43.03      |    172507.28    \n",
      " 51y 0m   |     8341.03     |      156.15      |     200.00      |     43.85      |    172707.28    \n",
      " 51y 1m   |     8296.34     |      155.31      |     200.00      |     44.69      |    172907.28    \n",
      " 51y 2m   |     8250.81     |      154.46      |     200.00      |     45.54      |    173107.28    \n",
      " 51y 3m   |     8204.40     |      153.59      |     200.00      |     46.41      |    173307.28    \n",
      " 51y 4m   |     8157.10     |      152.71      |     200.00      |     47.29      |    173507.28    \n",
      " 51y 5m   |     8108.91     |      151.80      |     200.00      |     48.20      |    173707.28    \n",
      " 51y 6m   |     8059.79     |      150.89      |     200.00      |     49.11      |    173907.28    \n",
      " 51y 7m   |     8009.74     |      149.95      |     200.00      |     50.05      |    174107.28    \n",
      " 51y 8m   |     7958.74     |      148.99      |     200.00      |     51.01      |    174307.28    \n",
      " 51y 9m   |     7906.76     |      148.02      |     200.00      |     51.98      |    174507.28    \n",
      " 51y 10m  |     7853.78     |      147.03      |     200.00      |     52.97      |    174707.28    \n",
      " 51y 11m  |     7799.80     |      146.02      |     200.00      |     53.98      |    174907.28    \n",
      " 52y 0m   |     7744.79     |      144.99      |     200.00      |     55.01      |    175107.28    \n",
      " 52y 1m   |     7688.73     |      143.94      |     200.00      |     56.06      |    175307.28    \n",
      " 52y 2m   |     7631.60     |      142.87      |     200.00      |     57.13      |    175507.28    \n",
      " 52y 3m   |     7573.38     |      141.78      |     200.00      |     58.22      |    175707.28    \n",
      " 52y 4m   |     7514.04     |      140.67      |     200.00      |     59.33      |    175907.28    \n",
      " 52y 5m   |     7453.58     |      139.54      |     200.00      |     60.46      |    176107.28    \n",
      " 52y 6m   |     7391.96     |      138.38      |     200.00      |     61.62      |    176307.28    \n",
      " 52y 7m   |     7329.17     |      137.21      |     200.00      |     62.79      |    176507.28    \n",
      " 52y 8m   |     7265.18     |      136.01      |     200.00      |     63.99      |    176707.28    \n",
      " 52y 9m   |     7199.97     |      134.79      |     200.00      |     65.21      |    176907.28    \n",
      " 52y 10m  |     7133.51     |      133.54      |     200.00      |     66.46      |    177107.28    \n",
      " 52y 11m  |     7065.79     |      132.28      |     200.00      |     67.72      |    177307.28    \n",
      " 53y 0m   |     6996.77     |      130.98      |     200.00      |     69.02      |    177507.28    \n",
      " 53y 1m   |     6926.44     |      129.67      |     200.00      |     70.33      |    177707.28    \n",
      " 53y 2m   |     6854.77     |      128.33      |     200.00      |     71.67      |    177907.28    \n",
      " 53y 3m   |     6781.73     |      126.96      |     200.00      |     73.04      |    178107.28    \n",
      " 53y 4m   |     6707.29     |      125.57      |     200.00      |     74.43      |    178307.28    \n",
      " 53y 5m   |     6631.44     |      124.15      |     200.00      |     75.85      |    178507.28    \n",
      " 53y 6m   |     6554.13     |      122.70      |     200.00      |     77.30      |    178707.28    \n",
      " 53y 7m   |     6475.36     |      121.22      |     200.00      |     78.78      |    178907.28    \n",
      " 53y 8m   |     6395.08     |      119.72      |     200.00      |     80.28      |    179107.28    \n",
      " 53y 9m   |     6313.27     |      118.19      |     200.00      |     81.81      |    179307.28    \n",
      " 53y 10m  |     6229.89     |      116.63      |     200.00      |     83.37      |    179507.28    \n",
      " 53y 11m  |     6144.93     |      115.04      |     200.00      |     84.96      |    179707.28    \n",
      " 54y 0m   |     6058.35     |      113.42      |     200.00      |     86.58      |    179907.28    \n",
      " 54y 1m   |     5970.11     |      111.76      |     200.00      |     88.24      |    180107.28    \n",
      " 54y 2m   |     5880.20     |      110.08      |     200.00      |     89.92      |    180307.28    \n",
      " 54y 3m   |     5788.56     |      108.37      |     200.00      |     91.63      |    180507.28    \n",
      " 54y 4m   |     5695.18     |      106.62      |     200.00      |     93.38      |    180707.28    \n",
      " 54y 5m   |     5600.01     |      104.84      |     200.00      |     95.16      |    180907.28    \n",
      " 54y 6m   |     5503.04     |      103.02      |     200.00      |     96.98      |    181107.28    \n",
      " 54y 7m   |     5404.21     |      101.17      |     200.00      |     98.83      |    181307.28    \n",
      " 54y 8m   |     5303.49     |      99.29       |     200.00      |     100.71     |    181507.28    \n",
      " 54y 9m   |     5200.85     |      97.36       |     200.00      |     102.64     |    181707.28    \n",
      " 54y 10m  |     5096.26     |      95.41       |     200.00      |     104.59     |    181907.28    \n",
      " 54y 11m  |     4989.67     |      93.41       |     200.00      |     106.59     |    182107.28    \n",
      " 55y 0m   |     4881.05     |      91.38       |     200.00      |     108.62     |    182307.28    \n",
      " 55y 1m   |     4770.35     |      89.30       |     200.00      |     110.70     |    182507.28    \n",
      " 55y 2m   |     4657.54     |      87.19       |     200.00      |     112.81     |    182707.28    \n",
      " 55y 3m   |     4542.58     |      85.04       |     200.00      |     114.96     |    182907.28    \n",
      " 55y 4m   |     4425.43     |      82.85       |     200.00      |     117.15     |    183107.28    \n",
      " 55y 5m   |     4306.04     |      80.61       |     200.00      |     119.39     |    183307.28    \n",
      " 55y 6m   |     4184.38     |      78.33       |     200.00      |     121.67     |    183507.28    \n",
      " 55y 7m   |     4060.39     |      76.01       |     200.00      |     123.99     |    183707.28    \n",
      " 55y 8m   |     3934.04     |      73.65       |     200.00      |     126.35     |    183907.28    \n",
      " 55y 9m   |     3805.28     |      71.24       |     200.00      |     128.76     |    184107.28    \n",
      " 55y 10m  |     3674.06     |      68.78       |     200.00      |     131.22     |    184307.28    \n",
      " 55y 11m  |     3540.34     |      66.28       |     200.00      |     133.72     |    184507.28    \n",
      " 56y 0m   |     3404.06     |      63.73       |     200.00      |     136.27     |    184707.28    \n",
      " 56y 1m   |     3265.19     |      61.13       |     200.00      |     138.87     |    184907.28    \n",
      " 56y 2m   |     3123.67     |      58.48       |     200.00      |     141.52     |    185107.28    \n",
      " 56y 3m   |     2979.44     |      55.78       |     200.00      |     144.22     |    185307.28    \n",
      " 56y 4m   |     2832.47     |      53.03       |     200.00      |     146.97     |    185507.28    \n",
      " 56y 5m   |     2682.69     |      50.22       |     200.00      |     149.78     |    185707.28    \n",
      " 56y 6m   |     2530.06     |      47.36       |     200.00      |     152.64     |    185907.28    \n",
      " 56y 7m   |     2374.51     |      44.45       |     200.00      |     155.55     |    186107.28    \n",
      " 56y 8m   |     2215.99     |      41.48       |     200.00      |     158.52     |    186307.28    \n",
      " 56y 9m   |     2054.45     |      38.46       |     200.00      |     161.54     |    186507.28    \n",
      " 56y 10m  |     1889.83     |      35.38       |     200.00      |     164.62     |    186707.28    \n",
      " 56y 11m  |     1722.07     |      32.24       |     200.00      |     167.76     |    186907.28    \n",
      " 57y 0m   |     1551.11     |      29.04       |     200.00      |     170.96     |    187107.28    \n",
      " 57y 1m   |     1376.89     |      25.78       |     200.00      |     174.22     |    187307.28    \n",
      " 57y 2m   |     1199.34     |      22.45       |     200.00      |     177.55     |    187507.28    \n",
      " 57y 3m   |     1018.40     |      19.07       |     200.00      |     180.93     |    187707.28    \n",
      " 57y 4m   |     834.02      |      15.61       |     200.00      |     184.39     |    187907.28    \n",
      " 57y 5m   |     646.11      |      12.10       |     200.00      |     187.90     |    188107.28    \n",
      " 57y 6m   |     454.62      |       8.51       |     200.00      |     191.49     |    188307.28    \n",
      " 57y 7m   |     259.48      |       4.86       |     200.00      |     195.14     |    188507.28    \n",
      " 57y 8m   |      60.62      |       1.13       |     200.00      |     198.87     |    188707.28    \n"
     ]
    }
   ],
   "source": [
    "prInterest = payUp(20000, .23, .02)"
   ]
  },
  {
   "cell_type": "code",
   "execution_count": 56,
   "metadata": {},
   "outputs": [
    {
     "data": {
      "text/plain": [
       "<matplotlib.legend.Legend at 0x11b3dba00>"
      ]
     },
     "execution_count": 56,
     "metadata": {},
     "output_type": "execute_result"
    },
    {
     "data": {
      "image/png": "[encoded data removed]",
      "text/plain": [
       "<Figure size 432x288 with 1 Axes>"
      ]
     },
     "metadata": {
      "needs_background": "light"
     },
     "output_type": "display_data"
    }
   ],
   "source": [
    "prInterest[0]\n",
    "\n",
    "pyplot.plot(prInterest[0], label=\"principal\")\n",
    "\n",
    "pyplot.plot(prInterest[1], label=\"interest\")\n",
    "\n",
    "pyplot.title(\"Intest Paid vs Principle Paid\")\n",
    "\n",
    "pyplot.xlabel(\"Month\")\n",
    "\n",
    "pyplot.legend()"
   ]
  },
  {
   "cell_type": "code",
   "execution_count": null,
   "metadata": {},
   "outputs": [],
   "source": []
  },
  {
   "cell_type": "code",
   "execution_count": null,
   "metadata": {},
   "outputs": [],
   "source": []
  },
  {
   "cell_type": "markdown",
   "metadata": {},
   "source": [
    "Loan:  100000\n",
    "\n",
    "APR:  .04\n",
    "\n",
    "Monthly interest:  .04/12 = "
   ]
  },
  {
   "cell_type": "code",
   "execution_count": null,
   "metadata": {},
   "outputs": [],
   "source": []
  },
  {
   "cell_type": "code",
   "execution_count": 63,
   "metadata": {},
   "outputs": [
    {
     "name": "stdout",
     "output_type": "stream",
     "text": [
      "333.33333333333337\n",
      "99733.33333333333\n"
     ]
    }
   ],
   "source": [
    "principal = 100000\n",
    "rate = .04/12\n",
    "payment = 600\n",
    "## first month\n",
    "interest = principal*rate\n",
    "print(interest)\n",
    "principalReduction = payment-interest\n",
    "principal = principal - principalReduction\n",
    "print(principal)"
   ]
  },
  {
   "cell_type": "code",
   "execution_count": 70,
   "metadata": {},
   "outputs": [],
   "source": [
    "def amortMonth(p, rate, payment):\n",
    "    principal = p\n",
    "    interest = p*rate\n",
    "    newPrincipal = principal - (payment-interest)\n",
    "    return [newPrincipal, interest]"
   ]
  },
  {
   "cell_type": "code",
   "execution_count": 71,
   "metadata": {},
   "outputs": [
    {
     "data": {
      "text/plain": [
       "[199736.63, 750.0]"
      ]
     },
     "execution_count": 71,
     "metadata": {},
     "output_type": "execute_result"
    }
   ],
   "source": [
    "amortMonth(200000, .045/12, 1013.37)"
   ]
  },
  {
   "cell_type": "code",
   "execution_count": 142,
   "metadata": {},
   "outputs": [],
   "source": [
    "def deathPay(p, r, payment):\n",
    "    principal = p\n",
    "    month = 1\n",
    "    print(\"  Month  |  Balance  | Principal | Interest\")\n",
    "    print(\"---------|-----------|-----------|---------\")\n",
    "    principalPayments = [0]\n",
    "    interestPayment = [0]\n",
    "    totalPayment = 0\n",
    "    balances = []\n",
    "    while(principal >0):\n",
    "        balances.append(principal)\n",
    "        totalPayment += payment\n",
    "        interest = principal*r\n",
    "        principalPayment = payment - interest\n",
    "        principalPayments.append(principalPayments[-1] + principalPayment)\n",
    "        interestPayment.append(interestPayment[-1]+interest)\n",
    "        formatString = '{0:^9}|{1:^11.2f}|{2:^11.2f}|{3:^9.2f}'\n",
    "        print(formatString.format(str(month//12)+\"y \"+str(month%12)+\"m \", principal, principalPayment, interest))\n",
    "        principal = amortMonth(principal, r, payment)[0]\n",
    "        month+=1\n",
    "    return [principalPayments, interestPayment, totalPayment, balances]\n",
    "        \n",
    "        "
   ]
  },
  {
   "cell_type": "code",
   "execution_count": 143,
   "metadata": {},
   "outputs": [
    {
     "name": "stdout",
     "output_type": "stream",
     "text": [
      "  Month  |  Balance  | Principal | Interest\n",
      "---------|-----------|-----------|---------\n",
      " 0y 1m   | 165000.00 |  712.12   | 446.88  \n",
      " 0y 2m   | 164287.88 |  714.05   | 444.95  \n",
      " 0y 3m   | 163573.82 |  715.99   | 443.01  \n",
      " 0y 4m   | 162857.83 |  717.93   | 441.07  \n",
      " 0y 5m   | 162139.91 |  719.87   | 439.13  \n",
      " 0y 6m   | 161420.04 |  721.82   | 437.18  \n",
      " 0y 7m   | 160698.22 |  723.78   | 435.22  \n",
      " 0y 8m   | 159974.44 |  725.74   | 433.26  \n",
      " 0y 9m   | 159248.70 |  727.70   | 431.30  \n",
      " 0y 10m  | 158521.00 |  729.67   | 429.33  \n",
      " 0y 11m  | 157791.33 |  731.65   | 427.35  \n",
      " 1y 0m   | 157059.68 |  733.63   | 425.37  \n",
      " 1y 1m   | 156326.05 |  735.62   | 423.38  \n",
      " 1y 2m   | 155590.43 |  737.61   | 421.39  \n",
      " 1y 3m   | 154852.83 |  739.61   | 419.39  \n",
      " 1y 4m   | 154113.22 |  741.61   | 417.39  \n",
      " 1y 5m   | 153371.61 |  743.62   | 415.38  \n",
      " 1y 6m   | 152627.99 |  745.63   | 413.37  \n",
      " 1y 7m   | 151882.36 |  747.65   | 411.35  \n",
      " 1y 8m   | 151134.71 |  749.68   | 409.32  \n",
      " 1y 9m   | 150385.03 |  751.71   | 407.29  \n",
      " 1y 10m  | 149633.32 |  753.74   | 405.26  \n",
      " 1y 11m  | 148879.58 |  755.78   | 403.22  \n",
      " 2y 0m   | 148123.79 |  757.83   | 401.17  \n",
      " 2y 1m   | 147365.96 |  759.88   | 399.12  \n",
      " 2y 2m   | 146606.08 |  761.94   | 397.06  \n",
      " 2y 3m   | 145844.14 |  764.01   | 394.99  \n",
      " 2y 4m   | 145080.13 |  766.07   | 392.93  \n",
      " 2y 5m   | 144314.06 |  768.15   | 390.85  \n",
      " 2y 6m   | 143545.91 |  770.23   | 388.77  \n",
      " 2y 7m   | 142775.68 |  772.32   | 386.68  \n",
      " 2y 8m   | 142003.36 |  774.41   | 384.59  \n",
      " 2y 9m   | 141228.95 |  776.50   | 382.50  \n",
      " 2y 10m  | 140452.45 |  778.61   | 380.39  \n",
      " 2y 11m  | 139673.84 |  780.72   | 378.28  \n",
      " 3y 0m   | 138893.12 |  782.83   | 376.17  \n",
      " 3y 1m   | 138110.29 |  784.95   | 374.05  \n",
      " 3y 2m   | 137325.34 |  787.08   | 371.92  \n",
      " 3y 3m   | 136538.26 |  789.21   | 369.79  \n",
      " 3y 4m   | 135749.06 |  791.35   | 367.65  \n",
      " 3y 5m   | 134957.71 |  793.49   | 365.51  \n",
      " 3y 6m   | 134164.22 |  795.64   | 363.36  \n",
      " 3y 7m   | 133368.58 |  797.79   | 361.21  \n",
      " 3y 8m   | 132570.79 |  799.95   | 359.05  \n",
      " 3y 9m   | 131770.83 |  802.12   | 356.88  \n",
      " 3y 10m  | 130968.71 |  804.29   | 354.71  \n",
      " 3y 11m  | 130164.42 |  806.47   | 352.53  \n",
      " 4y 0m   | 129357.95 |  808.66   | 350.34  \n",
      " 4y 1m   | 128549.29 |  810.85   | 348.15  \n",
      " 4y 2m   | 127738.45 |  813.04   | 345.96  \n",
      " 4y 3m   | 126925.41 |  815.24   | 343.76  \n",
      " 4y 4m   | 126110.16 |  817.45   | 341.55  \n",
      " 4y 5m   | 125292.71 |  819.67   | 339.33  \n",
      " 4y 6m   | 124473.04 |  821.89   | 337.11  \n",
      " 4y 7m   | 123651.16 |  824.11   | 334.89  \n",
      " 4y 8m   | 122827.05 |  826.34   | 332.66  \n",
      " 4y 9m   | 122000.70 |  828.58   | 330.42  \n",
      " 4y 10m  | 121172.12 |  830.83   | 328.17  \n",
      " 4y 11m  | 120341.30 |  833.08   | 325.92  \n",
      " 5y 0m   | 119508.22 |  835.33   | 323.67  \n",
      " 5y 1m   | 118672.89 |  837.59   | 321.41  \n",
      " 5y 2m   | 117835.30 |  839.86   | 319.14  \n",
      " 5y 3m   | 116995.43 |  842.14   | 316.86  \n",
      " 5y 4m   | 116153.30 |  844.42   | 314.58  \n",
      " 5y 5m   | 115308.88 |  846.71   | 312.29  \n",
      " 5y 6m   | 114462.17 |  849.00   | 310.00  \n",
      " 5y 7m   | 113613.17 |  851.30   | 307.70  \n",
      " 5y 8m   | 112761.88 |  853.60   | 305.40  \n",
      " 5y 9m   | 111908.27 |  855.92   | 303.08  \n",
      " 5y 10m  | 111052.36 |  858.23   | 300.77  \n",
      " 5y 11m  | 110194.12 |  860.56   | 298.44  \n",
      " 6y 0m   | 109333.57 |  862.89   | 296.11  \n",
      " 6y 1m   | 108470.68 |  865.23   | 293.77  \n",
      " 6y 2m   | 107605.45 |  867.57   | 291.43  \n",
      " 6y 3m   | 106737.89 |  869.92   | 289.08  \n",
      " 6y 4m   | 105867.97 |  872.27   | 286.73  \n",
      " 6y 5m   | 104995.69 |  874.64   | 284.36  \n",
      " 6y 6m   | 104121.06 |  877.01   | 281.99  \n",
      " 6y 7m   | 103244.05 |  879.38   | 279.62  \n",
      " 6y 8m   | 102364.67 |  881.76   | 277.24  \n",
      " 6y 9m   | 101482.91 |  884.15   | 274.85  \n",
      " 6y 10m  | 100598.76 |  886.55   | 272.45  \n",
      " 6y 11m  | 99712.21  |  888.95   | 270.05  \n",
      " 7y 0m   | 98823.27  |  891.35   | 267.65  \n",
      " 7y 1m   | 97931.91  |  893.77   | 265.23  \n",
      " 7y 2m   | 97038.14  |  896.19   | 262.81  \n",
      " 7y 3m   | 96141.96  |  898.62   | 260.38  \n",
      " 7y 4m   | 95243.34  |  901.05   | 257.95  \n",
      " 7y 5m   | 94342.29  |  903.49   | 255.51  \n",
      " 7y 6m   | 93438.80  |  905.94   | 253.06  \n",
      " 7y 7m   | 92532.87  |  908.39   | 250.61  \n",
      " 7y 8m   | 91624.48  |  910.85   | 248.15  \n",
      " 7y 9m   | 90713.62  |  913.32   | 245.68  \n",
      " 7y 10m  | 89800.31  |  915.79   | 243.21  \n",
      " 7y 11m  | 88884.52  |  918.27   | 240.73  \n",
      " 8y 0m   | 87966.25  |  920.76   | 238.24  \n",
      " 8y 1m   | 87045.49  |  923.25   | 235.75  \n",
      " 8y 2m   | 86122.24  |  925.75   | 233.25  \n",
      " 8y 3m   | 85196.48  |  928.26   | 230.74  \n",
      " 8y 4m   | 84268.22  |  930.77   | 228.23  \n",
      " 8y 5m   | 83337.45  |  933.29   | 225.71  \n",
      " 8y 6m   | 82404.16  |  935.82   | 223.18  \n",
      " 8y 7m   | 81468.33  |  938.36   | 220.64  \n",
      " 8y 8m   | 80529.98  |  940.90   | 218.10  \n",
      " 8y 9m   | 79589.08  |  943.45   | 215.55  \n",
      " 8y 10m  | 78645.63  |  946.00   | 213.00  \n",
      " 8y 11m  | 77699.63  |  948.56   | 210.44  \n",
      " 9y 0m   | 76751.07  |  951.13   | 207.87  \n",
      " 9y 1m   | 75799.94  |  953.71   | 205.29  \n",
      " 9y 2m   | 74846.23  |  956.29   | 202.71  \n",
      " 9y 3m   | 73889.94  |  958.88   | 200.12  \n",
      " 9y 4m   | 72931.05  |  961.48   | 197.52  \n",
      " 9y 5m   | 71969.58  |  964.08   | 194.92  \n",
      " 9y 6m   | 71005.49  |  966.69   | 192.31  \n",
      " 9y 7m   | 70038.80  |  969.31   | 189.69  \n",
      " 9y 8m   | 69069.49  |  971.94   | 187.06  \n",
      " 9y 9m   | 68097.55  |  974.57   | 184.43  \n",
      " 9y 10m  | 67122.98  |  977.21   | 181.79  \n",
      " 9y 11m  | 66145.77  |  979.86   | 179.14  \n",
      " 10y 0m  | 65165.92  |  982.51   | 176.49  \n",
      " 10y 1m  | 64183.41  |  985.17   | 173.83  \n",
      " 10y 2m  | 63198.24  |  987.84   | 171.16  \n",
      " 10y 3m  | 62210.40  |  990.51   | 168.49  \n",
      " 10y 4m  | 61219.89  |  993.20   | 165.80  \n",
      " 10y 5m  | 60226.69  |  995.89   | 163.11  \n",
      " 10y 6m  | 59230.81  |  998.58   | 160.42  \n",
      " 10y 7m  | 58232.22  |  1001.29  | 157.71  \n",
      " 10y 8m  | 57230.93  |  1004.00  | 155.00  \n",
      " 10y 9m  | 56226.94  |  1006.72  | 152.28  \n",
      "10y 10m  | 55220.22  |  1009.45  | 149.55  \n",
      "10y 11m  | 54210.77  |  1012.18  | 146.82  \n",
      " 11y 0m  | 53198.59  |  1014.92  | 144.08  \n",
      " 11y 1m  | 52183.67  |  1017.67  | 141.33  \n",
      " 11y 2m  | 51166.00  |  1020.43  | 138.57  \n",
      " 11y 3m  | 50145.58  |  1023.19  | 135.81  \n",
      " 11y 4m  | 49122.39  |  1025.96  | 133.04  \n",
      " 11y 5m  | 48096.43  |  1028.74  | 130.26  \n",
      " 11y 6m  | 47067.69  |  1031.53  | 127.47  \n",
      " 11y 7m  | 46036.16  |  1034.32  | 124.68  \n",
      " 11y 8m  | 45001.85  |  1037.12  | 121.88  \n",
      " 11y 9m  | 43964.73  |  1039.93  | 119.07  \n",
      "11y 10m  | 42924.80  |  1042.75  | 116.25  \n",
      "11y 11m  | 41882.05  |  1045.57  | 113.43  \n",
      " 12y 0m  | 40836.48  |  1048.40  | 110.60  \n",
      " 12y 1m  | 39788.08  |  1051.24  | 107.76  \n",
      " 12y 2m  | 38736.84  |  1054.09  | 104.91  \n",
      " 12y 3m  | 37682.75  |  1056.94  | 102.06  \n",
      " 12y 4m  | 36625.81  |  1059.81  |  99.19  \n",
      " 12y 5m  | 35566.00  |  1062.68  |  96.32  \n",
      " 12y 6m  | 34503.33  |  1065.55  |  93.45  \n",
      " 12y 7m  | 33437.78  |  1068.44  |  90.56  \n",
      " 12y 8m  | 32369.34  |  1071.33  |  87.67  \n",
      " 12y 9m  | 31298.00  |  1074.23  |  84.77  \n",
      "12y 10m  | 30223.77  |  1077.14  |  81.86  \n",
      "12y 11m  | 29146.62  |  1080.06  |  78.94  \n",
      " 13y 0m  | 28066.56  |  1082.99  |  76.01  \n",
      " 13y 1m  | 26983.58  |  1085.92  |  73.08  \n",
      " 13y 2m  | 25897.66  |  1088.86  |  70.14  \n",
      " 13y 3m  | 24808.80  |  1091.81  |  67.19  \n",
      " 13y 4m  | 23716.99  |  1094.77  |  64.23  \n",
      " 13y 5m  | 22622.22  |  1097.73  |  61.27  \n",
      " 13y 6m  | 21524.49  |  1100.70  |  58.30  \n",
      " 13y 7m  | 20423.78  |  1103.69  |  55.31  \n",
      " 13y 8m  | 19320.10  |  1106.67  |  52.33  \n",
      " 13y 9m  | 18213.42  |  1109.67  |  49.33  \n",
      "13y 10m  | 17103.75  |  1112.68  |  46.32  \n",
      "13y 11m  | 15991.08  |  1115.69  |  43.31  \n",
      " 14y 0m  | 14875.38  |  1118.71  |  40.29  \n",
      " 14y 1m  | 13756.67  |  1121.74  |  37.26  \n",
      " 14y 2m  | 12634.93  |  1124.78  |  34.22  \n",
      " 14y 3m  | 11510.15  |  1127.83  |  31.17  \n",
      " 14y 4m  | 10382.32  |  1130.88  |  28.12  \n",
      " 14y 5m  |  9251.44  |  1133.94  |  25.06  \n",
      " 14y 6m  |  8117.50  |  1137.02  |  21.98  \n",
      " 14y 7m  |  6980.48  |  1140.09  |  18.91  \n",
      " 14y 8m  |  5840.39  |  1143.18  |  15.82  \n",
      " 14y 9m  |  4697.21  |  1146.28  |  12.72  \n",
      "14y 10m  |  3550.93  |  1149.38  |  9.62   \n",
      "14y 11m  |  2401.54  |  1152.50  |  6.50   \n",
      " 15y 0m  |  1249.05  |  1155.62  |  3.38   \n",
      " 15y 1m  |   93.43   |  1158.75  |  0.25   \n"
     ]
    }
   ],
   "source": [
    "payments = deathPay(165000, .0325/12, 1159)"
   ]
  },
  {
   "cell_type": "code",
   "execution_count": 137,
   "metadata": {},
   "outputs": [
    {
     "data": {
      "text/plain": [
       "<matplotlib.legend.Legend at 0x11c7a1700>"
      ]
     },
     "execution_count": 137,
     "metadata": {},
     "output_type": "execute_result"
    },
    {
     "data": {
      "image/png": "[encoded data removed]",
      "text/plain": [
       "<Figure size 432x288 with 1 Axes>"
      ]
     },
     "metadata": {
      "needs_background": "light"
     },
     "output_type": "display_data"
    }
   ],
   "source": [
    "pyplot.plot(payments[0], label = \"Principal\")\n",
    "pyplot.plot(payments[1], label = \"Interest\")\n",
    "pyplot.plot(payments[3], label = \"Balance\")\n",
    "pyplot.xlabel(\"Month\")\n",
    "pyplot.ylabel(\"Total Payment\")\n",
    "pyplot.title(\"Principal Paid vs Interest Paid\")\n",
    "pyplot.legend()"
   ]
  },
  {
   "cell_type": "code",
   "execution_count": 122,
   "metadata": {},
   "outputs": [
    {
     "data": {
      "text/plain": [
       "210000.70000000068"
      ]
     },
     "execution_count": 122,
     "metadata": {},
     "output_type": "execute_result"
    }
   ],
   "source": [
    "payments[2]"
   ]
  },
  {
   "cell_type": "code",
   "execution_count": null,
   "metadata": {},
   "outputs": [],
   "source": []
  },
  {
   "cell_type": "code",
   "execution_count": 145,
   "metadata": {},
   "outputs": [
    {
     "name": "stdout",
     "output_type": "stream",
     "text": [
      "Help on function exampleFunction in module __main__:\n",
      "\n",
      "exampleFunction()\n",
      "    Prints \"Yo, who dis?\"\n",
      "    \n",
      "    Parameters: none.\n",
      "    Return value: none\n",
      "\n"
     ]
    }
   ],
   "source": [
    "def exampleFunction():\n",
    "    \"\"\"Prints \"Yo, who dis?\"\n",
    "    \n",
    "    Parameters: none.\n",
    "    Return value: none\n",
    "    \"\"\"\n",
    "    print(\"Yo, who dis?\")\n",
    "    \n",
    "help(exampleFunction)"
   ]
  },
  {
   "cell_type": "code",
   "execution_count": 1,
   "metadata": {},
   "outputs": [],
   "source": [
    "import turtle_squares"
   ]
  },
  {
   "cell_type": "code",
   "execution_count": 2,
   "metadata": {},
   "outputs": [
    {
     "name": "stdout",
     "output_type": "stream",
     "text": [
      "Help on module turtle_squares:\n",
      "\n",
      "NAME\n",
      "    turtle_squares - This is our example turtle drawing program from class.\n",
      "\n",
      "FUNCTIONS\n",
      "    drawSquare(myTurtle, x, y, sideLength=100)\n",
      "\n",
      "DATA\n",
      "    bob = <turtle.Turtle object>\n",
      "    jill = <turtle.Turtle object>\n",
      "\n",
      "FILE\n",
      "    /Users/millera2/millera2.github.io/CS-111/turtle_squares.py\n",
      "\n",
      "\n"
     ]
    }
   ],
   "source": [
    "help(turtle_squares)"
   ]
  },
  {
   "cell_type": "code",
   "execution_count": 3,
   "metadata": {},
   "outputs": [
    {
     "data": {
      "text/plain": [
       "2"
      ]
     },
     "execution_count": 3,
     "metadata": {},
     "output_type": "execute_result"
    }
   ],
   "source": [
    "1+1"
   ]
  },
  {
   "cell_type": "code",
   "execution_count": 1,
   "metadata": {},
   "outputs": [
    {
     "name": "stdin",
     "output_type": "stream",
     "text": [
      "here's where you put the names blah blah blah\n"
     ]
    }
   ],
   "source": [
    "names = input(\"here's where you put the names\")"
   ]
  },
  {
   "cell_type": "code",
   "execution_count": 2,
   "metadata": {},
   "outputs": [
    {
     "data": {
      "text/plain": [
       "'blah blah blah'"
      ]
     },
     "execution_count": 2,
     "metadata": {},
     "output_type": "execute_result"
    }
   ],
   "source": [
    "names"
   ]
  },
  {
   "cell_type": "code",
   "execution_count": 3,
   "metadata": {},
   "outputs": [
    {
     "name": "stdin",
     "output_type": "stream",
     "text": [
      "otherthign asldkfjasldjfalskd\n"
     ]
    }
   ],
   "source": [
    "otherThing = input(\"otherthign\")"
   ]
  },
  {
   "cell_type": "code",
   "execution_count": 7,
   "metadata": {},
   "outputs": [],
   "source": [
    "def exampleFunction():\n",
    "    \"\"\"test\n",
    "    \"\"\""
   ]
  },
  {
   "cell_type": "code",
   "execution_count": 5,
   "metadata": {},
   "outputs": [
    {
     "name": "stdout",
     "output_type": "stream",
     "text": [
      "Help on function exampleFunction in module __main__:\n",
      "\n",
      "exampleFunction()\n",
      "    test\n",
      "\n"
     ]
    }
   ],
   "source": [
    "help(exampleFunction)"
   ]
  },
  {
   "cell_type": "code",
   "execution_count": 1,
   "metadata": {},
   "outputs": [],
   "source": [
    "def distance(a,b):\n",
    "    print(a-b)"
   ]
  },
  {
   "cell_type": "code",
   "execution_count": 2,
   "metadata": {},
   "outputs": [
    {
     "name": "stdout",
     "output_type": "stream",
     "text": [
      "3\n"
     ]
    }
   ],
   "source": [
    "distance(8,5)"
   ]
  },
  {
   "cell_type": "code",
   "execution_count": 3,
   "metadata": {},
   "outputs": [
    {
     "name": "stdout",
     "output_type": "stream",
     "text": [
      "3\n"
     ]
    }
   ],
   "source": [
    "myDistance = distance(8,5)"
   ]
  },
  {
   "cell_type": "code",
   "execution_count": 5,
   "metadata": {},
   "outputs": [
    {
     "ename": "TypeError",
     "evalue": "unsupported operand type(s) for *: 'NoneType' and 'int'",
     "output_type": "error",
     "traceback": [
      "\u001b[0;31m---------------------------------------------------------------------------\u001b[0m",
      "\u001b[0;31mTypeError\u001b[0m                                 Traceback (most recent call last)",
      "\u001b[0;32m<ipython-input-5-b9f862649245>\u001b[0m in \u001b[0;36m<module>\u001b[0;34m\u001b[0m\n\u001b[0;32m----> 1\u001b[0;31m \u001b[0mmyDistance\u001b[0m\u001b[0;34m*\u001b[0m\u001b[0;36m2\u001b[0m\u001b[0;34m\u001b[0m\u001b[0;34m\u001b[0m\u001b[0m\n\u001b[0m",
      "\u001b[0;31mTypeError\u001b[0m: unsupported operand type(s) for *: 'NoneType' and 'int'"
     ]
    }
   ],
   "source": [
    "myDistance*2"
   ]
  },
  {
   "cell_type": "code",
   "execution_count": 8,
   "metadata": {},
   "outputs": [],
   "source": [
    "import math"
   ]
  },
  {
   "cell_type": "code",
   "execution_count": 9,
   "metadata": {},
   "outputs": [
    {
     "ename": "NameError",
     "evalue": "name 'sqrt' is not defined",
     "output_type": "error",
     "traceback": [
      "\u001b[0;31m---------------------------------------------------------------------------\u001b[0m",
      "\u001b[0;31mNameError\u001b[0m                                 Traceback (most recent call last)",
      "\u001b[0;32m<ipython-input-9-66e338417901>\u001b[0m in \u001b[0;36m<module>\u001b[0;34m\u001b[0m\n\u001b[0;32m----> 1\u001b[0;31m \u001b[0msqrt\u001b[0m\u001b[0;34m(\u001b[0m\u001b[0;36m2\u001b[0m\u001b[0;34m)\u001b[0m\u001b[0;34m\u001b[0m\u001b[0;34m\u001b[0m\u001b[0m\n\u001b[0m",
      "\u001b[0;31mNameError\u001b[0m: name 'sqrt' is not defined"
     ]
    }
   ],
   "source": [
    "sqrt(2)"
   ]
  },
  {
   "cell_type": "code",
   "execution_count": 1,
   "metadata": {},
   "outputs": [],
   "source": [
    "import testFile"
   ]
  },
  {
   "cell_type": "code",
   "execution_count": 2,
   "metadata": {},
   "outputs": [
    {
     "data": {
      "text/plain": [
       "22"
      ]
     },
     "execution_count": 2,
     "metadata": {},
     "output_type": "execute_result"
    }
   ],
   "source": [
    "testFile.sumNumbers([1,2,3,4,5,7])"
   ]
  },
  {
   "cell_type": "code",
   "execution_count": 2,
   "metadata": {},
   "outputs": [],
   "source": [
    "\n",
    "from math import *\n",
    "from testFile import *"
   ]
  },
  {
   "cell_type": "code",
   "execution_count": 3,
   "metadata": {},
   "outputs": [
    {
     "name": "stdout",
     "output_type": "stream",
     "text": [
      "nope, fake!\n"
     ]
    }
   ],
   "source": [
    "sqrt(7)"
   ]
  },
  {
   "cell_type": "code",
   "execution_count": null,
   "metadata": {},
   "outputs": [],
   "source": [
    "population = 10000   #starting population\n",
    "rate = .08\n",
    "totalCatch = 801\n",
    "\n",
    "#Look at population for next 10 years\n",
    "\n",
    "print(\"Year|Population\")\n",
    "\n",
    "year = 0\n",
    "while (population >0 and year < 100):\n",
    "    population = population*(1+rate)-totalCatch\n",
    "    formatString = '{0:^4}|{1:^11.2f}'\n",
    "    print(formatString.format(year+1, population))\n",
    "    year = year+1"
   ]
  },
  {
   "cell_type": "code",
   "execution_count": 3,
   "metadata": {},
   "outputs": [],
   "source": [
    "def fishSim(p0, r, catchLimit):\n",
    "    population = p0\n",
    "    year = 0\n",
    "    while (population - catchLimit > 0 and year<500):\n",
    "        population = population*(1+r)-catchLimit\n",
    "        year += 1\n",
    "    print(\"The fish will be extinct in \"+str(year)+\" years\")\n",
    "    "
   ]
  },
  {
   "cell_type": "code",
   "execution_count": 4,
   "metadata": {},
   "outputs": [
    {
     "name": "stdout",
     "output_type": "stream",
     "text": [
      "The fish will be extinct in 500 years\n"
     ]
    }
   ],
   "source": [
    "fishSim(150000, .12, 1200)"
   ]
  },
  {
   "cell_type": "code",
   "execution_count": 5,
   "metadata": {},
   "outputs": [
    {
     "name": "stdout",
     "output_type": "stream",
     "text": [
      "The fish will be extinct in 500 years\n",
      "The fish will be extinct in 500 years\n",
      "The fish will be extinct in 500 years\n",
      "The fish will be extinct in 500 years\n",
      "The fish will be extinct in 500 years\n",
      "The fish will be extinct in 500 years\n",
      "The fish will be extinct in 500 years\n",
      "The fish will be extinct in 500 years\n",
      "The fish will be extinct in 500 years\n",
      "The fish will be extinct in 25 years\n"
     ]
    }
   ],
   "source": [
    "for i in range(10):\n",
    "    fishSim(15000, .12, 1000+100*i)"
   ]
  },
  {
   "cell_type": "code",
   "execution_count": 13,
   "metadata": {},
   "outputs": [
    {
     "name": "stdout",
     "output_type": "stream",
     "text": [
      "The fish will be extinct in 86 years\n"
     ]
    }
   ],
   "source": [
    "fishSim(15000, .12, 1800)"
   ]
  },
  {
   "cell_type": "code",
   "execution_count": 14,
   "metadata": {},
   "outputs": [
    {
     "data": {
      "text/plain": [
       "1800.0"
      ]
     },
     "execution_count": 14,
     "metadata": {},
     "output_type": "execute_result"
    }
   ],
   "source": [
    ".12*15000"
   ]
  },
  {
   "cell_type": "code",
   "execution_count": 49,
   "metadata": {},
   "outputs": [],
   "source": [
    "def fenceArea(x):\n",
    "    y = (1200-2*x)/3\n",
    "    return x*y"
   ]
  },
  {
   "cell_type": "code",
   "execution_count": 55,
   "metadata": {},
   "outputs": [
    {
     "name": "stdout",
     "output_type": "stream",
     "text": [
      "The maximum area for the enclosure is 60000.00.  This happens when x=300.00 and y=200.00\n"
     ]
    }
   ],
   "source": [
    "maxArea = 0\n",
    "length=0\n",
    "for i in range(600):\n",
    "    if fenceArea(i) > maxArea:\n",
    "        maxArea = fenceArea(i)\n",
    "        length = i\n",
    "print(\"The maximum area for the enclosure is \"+\"{0:^4.2f}\".format(maxArea)+\".  This happens when x=\"+\"{0:^4.2f}\".format(length)+\" and y=\"+\"{0:^4.2f}\".format((1200-2*length)/3))"
   ]
  },
  {
   "cell_type": "code",
   "execution_count": 42,
   "metadata": {},
   "outputs": [],
   "source": [
    "def profit(quantity, salePrice):\n",
    "    costPerItem = 2000/quantity\n",
    "    return salePrice*quantity - 2000/quantity"
   ]
  },
  {
   "cell_type": "code",
   "execution_count": 43,
   "metadata": {},
   "outputs": [
    {
     "data": {
      "text/plain": [
       "996.0"
      ]
     },
     "execution_count": 43,
     "metadata": {},
     "output_type": "execute_result"
    }
   ],
   "source": [
    "profit(500, 2)"
   ]
  },
  {
   "cell_type": "code",
   "execution_count": 44,
   "metadata": {},
   "outputs": [
    {
     "data": {
      "text/plain": [
       "1998.0"
      ]
     },
     "execution_count": 44,
     "metadata": {},
     "output_type": "execute_result"
    }
   ],
   "source": [
    "profit(1000, 2)"
   ]
  },
  {
   "cell_type": "markdown",
   "metadata": {},
   "source": [
    "Maria has an online shop where she sells hand made paintings and cards. She sells the painting for $50 and the card for $20. It takes her 2 hours to complete 1 painting and 45 minutes to make a single card. She also has a day job and makes paintings and cards in her free time. She cannot spend more than 15 hours a week to make paintings and cards. Additionally, she should make not more than 10 paintings and cards per week.\n",
    "\n",
    "She makes a profit of $25 on painting and $15 on each card. How many paintings and cards should she make each week to maximize her profit."
   ]
  },
  {
   "cell_type": "markdown",
   "metadata": {},
   "source": [
    "x = number of paintings\n",
    "y = number of cards\n",
    "\n",
    "2x+.75y <= 15\n",
    "x+y < 10\n",
    "\n",
    "P = 25*x+15*y\n",
    "\n"
   ]
  },
  {
   "cell_type": "code",
   "execution_count": 67,
   "metadata": {},
   "outputs": [
    {
     "name": "stdout",
     "output_type": "stream",
     "text": [
      "210 6 4\n"
     ]
    }
   ],
   "source": [
    "maxProfit = 0\n",
    "numPaint = 0\n",
    "numCard = 0\n",
    "\n",
    "for paintings in range(10):\n",
    "    for cards in range(0, 10):\n",
    "        if (2*paintings + .75*cards <= 15 and paintings+cards<=10):\n",
    "            if(25*paintings+15*cards > maxProfit):\n",
    "                maxProfit = 25*paintings+15*cards\n",
    "                numPaint = paintings\n",
    "                numCard = cards\n",
    "print(maxProfit, numPaint, numCard)"
   ]
  },
  {
   "cell_type": "markdown",
   "metadata": {},
   "source": [
    ".5𝑥+𝑦≤10\n",
    "𝑥+𝑦≤15\n",
    "𝑥≥0𝑦≥0\n",
    "\n",
    "profit = 15*x+20*y\n",
    "\n",
    "\n",
    "\n",
    "\n"
   ]
  },
  {
   "cell_type": "code",
   "execution_count": 68,
   "metadata": {},
   "outputs": [
    {
     "name": "stdout",
     "output_type": "stream",
     "text": [
      "250\n"
     ]
    }
   ],
   "source": [
    "maxProfit = 0\n",
    "\n",
    "for x in range(16):\n",
    "    for y in range(16):\n",
    "        if(15*x+20*y>maxProfit and .5*x + y <= 10 and x+y<=15):\n",
    "            maxProfit = 15*x+20*y\n",
    "print(maxProfit)"
   ]
  },
  {
   "cell_type": "markdown",
   "metadata": {},
   "source": [
    "\n",
    "\n",
    "\n",
    "\n",
    "\n",
    "In a game, players can craft items using resources found in the game world.  There are many options, but here we'll focus on shields and armor.  These items are both crafted from leather and iron.\n",
    "\n",
    "A player can craft a shield with 2 pieces of iron and 1 piece of leather.\n",
    "\n",
    "A player can craft a suit of armor with 1 piece of iron and 3 pieces of leather.\n",
    "\n",
    "The player wishes to make a profit selling the goods she's created.\n",
    "\n",
    "For each shield she sells, the player earns 25 gold pieces.  For each armor, she earns  40 gold pieces.\n",
    "\n",
    "Currently, the player has 8 pieces of iron and 6 pieces of leather.\n",
    "\n",
    "Crafting the armor takes time -- 2 hour to make a shield, and 3 hours to make an armor.  The player is not willing to spend more than 96 hours crafting goods.\n",
    "\n",
    " "
   ]
  },
  {
   "cell_type": "code",
   "execution_count": 163,
   "metadata": {},
   "outputs": [],
   "source": [
    "shieldIron = 2\n",
    "shieldLeather = 1\n",
    "armorIron = 4\n",
    "armorLeather = 5\n",
    "\n",
    "def maxShields(iron, leather):\n",
    "    return min(iron//shieldIron, leather//shieldLeather)\n",
    "\n",
    "def maxArmors(iron, leather):\n",
    "    return min(iron//armorIron, leather//armorLeather)\n",
    "\n",
    "def optimizeMaterials(iron, leather):    \n",
    "    maxProfit = 0\n",
    "    numShields = 0\n",
    "    numArmors = 0\n",
    "    \n",
    "    for shields in range(maxShields(iron, leather)):\n",
    "        for armors in range(maxArmors(iron, leather)):\n",
    "            time = 2*shields + 3*armors\n",
    "            profit = 25*shields+40*armors\n",
    "            if (time<96 and profit>maxProfit and (shields*shieldIron + armors*armorIron<iron) and (shields*shildLeather+armors*armorLeather<leather) ):\n",
    "                maxProfit = profit\n",
    "                numShields = shields\n",
    "                numArmors = armors\n",
    "    print(maxProfit, numShields, numArmors)\n"
   ]
  },
  {
   "cell_type": "code",
   "execution_count": 165,
   "metadata": {},
   "outputs": [
    {
     "name": "stdout",
     "output_type": "stream",
     "text": [
      "1265 1 31\n"
     ]
    }
   ],
   "source": [
    "optimizeMaterials(200,200)"
   ]
  },
  {
   "cell_type": "code",
   "execution_count": 206,
   "metadata": {},
   "outputs": [],
   "source": [
    "def maxShields(iron, leather):\n",
    "    return min(iron, leather)\n",
    "\n",
    "def maxArmors(iron, leather):\n",
    "    return min(iron//2, leather//4)\n",
    "\n",
    "\n",
    "def ironUsed(shields, armors):\n",
    "    return shields+armors*2\n",
    "\n",
    "def leatherUsed(shields, armors):\n",
    "    return shields+armors*4\n",
    "    "
   ]
  },
  {
   "cell_type": "code",
   "execution_count": 271,
   "metadata": {},
   "outputs": [],
   "source": [
    "def maxProfit(iron, leather):\n",
    "    maxProf = 0\n",
    "    numShields = 0\n",
    "    numArmors = 0\n",
    "    for shields in range(maxShields(iron,leather)+1):\n",
    "        for armors in range(maxArmors(iron, leather)+1):\n",
    "            profit = 25*shields + 49*armors\n",
    "            if profit>maxProf and ironUsed(shields, armors)<=iron and leatherUsed(shields, armors)<=leather:\n",
    "                maxProf = profit\n",
    "                numShields = shields\n",
    "                numArmors = armors\n",
    "    return[maxProf, numShields, numArmors]"
   ]
  },
  {
   "cell_type": "code",
   "execution_count": 272,
   "metadata": {},
   "outputs": [
    {
     "name": "stdout",
     "output_type": "stream",
     "text": [
      "50 2\n"
     ]
    }
   ],
   "source": [
    "profit = 0\n",
    "iron = 0\n",
    "for i in range(600):\n",
    "    if maxProfit(i, 1000)[1]>1:\n",
    "        profit = maxProfit(i,1000)[0]\n",
    "        iron = i\n",
    "        break\n",
    "print(profit, iron)\n",
    "    "
   ]
  },
  {
   "cell_type": "code",
   "execution_count": 260,
   "metadata": {},
   "outputs": [
    {
     "data": {
      "text/plain": [
       "[15200, 20, 245]"
      ]
     },
     "execution_count": 260,
     "metadata": {},
     "output_type": "execute_result"
    }
   ],
   "source": [
    "maxProfit(510,1000)"
   ]
  },
  {
   "cell_type": "code",
   "execution_count": 216,
   "metadata": {},
   "outputs": [
    {
     "data": {
      "text/plain": [
       "599"
      ]
     },
     "execution_count": 216,
     "metadata": {},
     "output_type": "execute_result"
    }
   ],
   "source": [
    "ironUsed(199,200)"
   ]
  },
  {
   "cell_type": "code",
   "execution_count": 90,
   "metadata": {},
   "outputs": [],
   "source": [
    "def creditCardPaymentSummary(d, r, minPayment):    \n",
    "    \"\"\"Computes the number of months\n",
    "    \"\"\"\n",
    "    debt = d\n",
    "    day = 0\n",
    "    totalPayment = 0\n",
    "    remainder = 0\n",
    "    while debt>minPayment and day < 5000:\n",
    "        day += 1\n",
    "        debt = debt+debt*r/365\n",
    "        if day%30 == 0:\n",
    "            debt = debt - minPayment\n",
    "            totalPayment = totalPayment+minPayment\n",
    "    finalDebt = debt*(1+r)\n",
    "    totalPayment += finalDebt\n",
    "    print(\"You'll spend $\"+\"{0:.2f}\".format(totalPayment)+\" over \"+str(day//30+1)+\" months.\")\n",
    "    print(\"You'll lose $\"+\"{0:.2f}\".format(totalPayment - d)+\".\")\n",
    "    "
   ]
  },
  {
   "cell_type": "code",
   "execution_count": 93,
   "metadata": {},
   "outputs": [
    {
     "name": "stdout",
     "output_type": "stream",
     "text": [
      "You'll spend $1533.25 over 62 months.\n",
      "You'll lose $533.25.\n"
     ]
    }
   ],
   "source": [
    "creditCardPaymentSummary(1000, .18, 25)"
   ]
  },
  {
   "cell_type": "code",
   "execution_count": null,
   "metadata": {},
   "outputs": [],
   "source": []
  }
 ],
 "metadata": {
  "kernelspec": {
   "display_name": "Python 3",
   "language": "python",
   "name": "python3"
  },
  "language_info": {
   "codemirror_mode": {
    "name": "ipython",
    "version": 3
   },
   "file_extension": ".py",
   "mimetype": "text/x-python",
   "name": "python",
   "nbconvert_exporter": "python",
   "pygments_lexer": "ipython3",
   "version": "3.8.3"
  }
 },
 "nbformat": 4,
 "nbformat_minor": 4
}
