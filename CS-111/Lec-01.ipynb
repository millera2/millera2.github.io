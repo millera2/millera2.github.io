{
 "cells": [
  {
   "cell_type": "markdown",
   "metadata": {},
   "source": [
    "# CS 111 Week 1\n",
    "---"
   ]
  },
  {
   "cell_type": "markdown",
   "metadata": {},
   "source": [
    "## Wednesday Aug 19\n",
    "*Texbook sections covered: 1.1 - 1.2*"
   ]
  },
  {
   "cell_type": "markdown",
   "metadata": {},
   "source": [
    "### The Basics of Computation\n",
    "\n",
    "On the first day slides, I mentioned two facts that might seem to contradict:\n",
    "\n",
    "1. Computation allows us to solve problems **outside** of our brains.  Woah!\n",
    "2. Computers are stupid.\n",
    "\n",
    "\n",
    "\n",
    "\n",
    "\n",
    "\n",
    "\n",
    "\n",
    "\n",
    "\n",
    "I think it's getting harder and harder for young students to really understand point #2 above, since our lives are so full of very smart-seeming computation.  Things like...\n",
    "\n",
    "1. Voice recognition.  I'm so impressed by the accuracty of the subtitles on Google Meets/Zoom/Youtube etc!  \n",
    "2. Face recognition.  Holy cow, my computer seems to know what I look like!\n",
    "3. Internet search.  How can Google look through the whole gosh-darned internet to find the thing I'm looking for?\n",
    "4. Navigation.  Just go where your phone tells you!\n",
    "\n",
    "\n",
    "\n",
    "\n",
    "\n",
    "\n",
    "\n",
    "\n",
    "\n",
    "\n",
    "\n",
    "\n",
    "I have a different generational perspective on these things -- I remember when all of the above technologies were **terrible**!\n",
    "\n",
    "- Voice recognition was garbage!\n",
    "- Face recognition was only for sci-fi TV shows!\n",
    "- Searching engines sucked!\n",
    "- Google Maps gave **awful**, nearly **useless** directions!\n",
    "\n",
    "The reason these technologies became better over time wasn't because computers got smarter (although new hardware certainly helps).  It's because us humans learned to **write better algorithms** that let computers solve more complex problems!\n",
    "\n",
    "\n",
    "\n",
    "\n",
    "\n",
    "\n",
    "\n",
    "\n",
    "\n",
    "**My big goal for you guys in this class:**  To understand the basics of how computation works, what it can do, and what it can't.  \n",
    "\n",
    "\n",
    "\n",
    "\n",
    "\n",
    "\n",
    "\n",
    "\n",
    "\n",
    "\n",
    "\n",
    "#### What is Computation?\n",
    "\n",
    "Simply put, \"computation\" means a sequence of simple steps that transform an *input* into some desired *output* (hopefully).\n",
    "\n",
    "Let's think about a simple example from algebra.   "
   ]
  },
  {
   "cell_type": "markdown",
   "metadata": {},
   "source": [
    "Think of the function $y$ given below:"
   ]
  },
  {
   "cell_type": "markdown",
   "metadata": {},
   "source": [
    "$$y=3x^2+4$$"
   ]
  },
  {
   "cell_type": "markdown",
   "metadata": {},
   "source": [
    "This is an example of computation.  \n",
    "\n",
    "#### Exercise 1\n",
    "\n",
    "Describe in words, carefully and precisely:\n",
    "\n",
    "1) What is the input to this computation?\n",
    "2) Describe the sequence of steps that are performed on the input?\n",
    "3) What is the output?"
   ]
  },
  {
   "cell_type": "markdown",
   "metadata": {},
   "source": [
    "#### Solution\n",
    "\n",
    "\n",
    "\n",
    "\n",
    "\n",
    "\n",
    "\n",
    "\n",
    "\n",
    "\n",
    "\n",
    "\n"
   ]
  },
  {
   "cell_type": "markdown",
   "metadata": {},
   "source": [
    "Even though math examples are the coolest (*cough cough*), this basic structure of computation underlies everything about how we use computers.  Think of these examples:\n",
    "\n",
    "<img src=\"https://millera2.github.io/CS-111/img/w1-02.png\" width=\"400\">"
   ]
  },
  {
   "cell_type": "markdown",
   "metadata": {},
   "source": []
  },
  {
   "cell_type": "markdown",
   "metadata": {},
   "source": [
    "### Functional Abstraction"
   ]
  },
  {
   "cell_type": "markdown",
   "metadata": {},
   "source": [
    "Ok, let's mix it up.  How about this example:\n",
    "$$y=\\sqrt{x}$$\n",
    "What if, for example, $x=5$.  What sequence of steps can we use to find the desired output?"
   ]
  },
  {
   "cell_type": "markdown",
   "metadata": {},
   "source": [
    "\n",
    "\n",
    "\n",
    "\n",
    "\n",
    "\n",
    "\n",
    "\n",
    "\n"
   ]
  },
  {
   "cell_type": "markdown",
   "metadata": {},
   "source": [
    "In fact, there's some fancy footwork required to comput this.  **However**, most of you wouldn't think twice about punching it into your calculator to find the result.  In that sense, the $\\sqrt{x}$ function is like a **black box**.  We know what it does, but we don't know how it does it!\n",
    "\n",
    "Suppose I asked you to solve for $x$ in $10=x^2+3$. You could all perform this computation, but you'd all need a black box!  What's $\\sqrt{7}$?"
   ]
  },
  {
   "cell_type": "markdown",
   "metadata": {},
   "source": [
    "\n",
    "\n",
    "\n",
    "\n",
    "\n",
    "\n",
    "\n",
    "\n",
    "\n",
    "\n",
    "The process of \"black-boxing\" functions is called **functional abstraction**.\n",
    "\n",
    "\n",
    "Functional abstraction is the key concept behind all modern software.  \n",
    "\n"
   ]
  },
  {
   "cell_type": "code",
   "execution_count": null,
   "metadata": {},
   "outputs": [],
   "source": []
  },
  {
   "cell_type": "markdown",
   "metadata": {},
   "source": [
    "<img src=\"./Lec-Img/W1-01.png\" />"
   ]
  },
  {
   "cell_type": "markdown",
   "metadata": {},
   "source": [
    "## Test of Markdown"
   ]
  },
  {
   "cell_type": "markdown",
   "metadata": {},
   "source": [
    "rhia ia $\\alpha$ "
   ]
  },
  {
   "cell_type": "code",
   "execution_count": 2,
   "metadata": {},
   "outputs": [
    {
     "data": {
      "text/plain": [
       "'/Users/millera2/millera2.github.io/CS-111'"
      ]
     },
     "execution_count": 2,
     "metadata": {},
     "output_type": "execute_result"
    }
   ],
   "source": [
    "pwd"
   ]
  },
  {
   "cell_type": "markdown",
   "metadata": {},
   "source": [
    "$\\alpha$ "
   ]
  },
  {
   "cell_type": "code",
   "execution_count": null,
   "metadata": {},
   "outputs": [],
   "source": []
  }
 ],
 "metadata": {
  "kernelspec": {
   "display_name": "Python 3",
   "language": "python",
   "name": "python3"
  },
  "language_info": {
   "codemirror_mode": {
    "name": "ipython",
    "version": 3
   },
   "file_extension": ".py",
   "mimetype": "text/x-python",
   "name": "python",
   "nbconvert_exporter": "python",
   "pygments_lexer": "ipython3",
   "version": "3.7.3"
  }
 },
 "nbformat": 4,
 "nbformat_minor": 4
}
