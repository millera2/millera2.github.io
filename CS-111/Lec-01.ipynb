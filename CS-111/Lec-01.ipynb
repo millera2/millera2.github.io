{
 "cells": [
  {
   "cell_type": "markdown",
   "metadata": {},
   "source": [
    "# CS 111 Week 1\n",
    "---"
   ]
  },
  {
   "cell_type": "markdown",
   "metadata": {},
   "source": [
    "## Wednesday Aug 19\n",
    "*Texbook sections covered: 1.1 - 1.2*"
   ]
  },
  {
   "cell_type": "markdown",
   "metadata": {},
   "source": [
    "### The Basics of Computation\n",
    "\n",
    "On the first day slides, I mentioned two facts that might seem to contradict:\n",
    "\n",
    "1. Computation allows us to solve problems **outside** of our brains.  Woah!\n",
    "2. Computers are stupid. "
   ]
  },
  {
   "cell_type": "markdown",
   "metadata": {},
   "source": [
    "\n",
    "\n",
    "\n",
    "\n",
    "\n",
    "\n",
    "\n",
    "\n",
    "\n",
    "\n",
    "\n",
    "\n",
    "\n"
   ]
  },
  {
   "cell_type": "markdown",
   "metadata": {},
   "source": [
    "I think it's getting harder and harder for young students to really understand point #2 above, since our lives are so full of very smart-seeming computation.  Things like...\n",
    "\n",
    "1. Voice recognition.  I'm so impressed by the accuracty of the subtitles on Google Meets/Zoom/Youtube etc!  \n",
    "2. Face recognition.  Holy cow, my computer seems to know what I look like!\n",
    "3. Internet search.  How can Google look through the whole gosh-darned internet to find the thing I'm looking for?\n",
    "4. Navigation.  Just go where your phone tells you!\n"
   ]
  },
  {
   "cell_type": "markdown",
   "metadata": {},
   "source": [
    "\n",
    "\n",
    "\n",
    "\n",
    "\n",
    "\n",
    "\n",
    "\n",
    "\n",
    "\n",
    "\n",
    "\n",
    "\n",
    "\n",
    "\n",
    "\n"
   ]
  },
  {
   "cell_type": "markdown",
   "metadata": {},
   "source": [
    "\n",
    "I have a different generational perspective on these things -- I remember when all of the above technologies were **terrible**!\n",
    "\n",
    "- Voice recognition was garbage!\n",
    "- Face recognition was only for sci-fi TV shows!\n",
    "- Searching engines sucked!\n",
    "- Google Maps gave **awful**, nearly **useless** directions!\n",
    "\n",
    "The reason these technologies became better over time wasn't because computers got smarter (although faster hardware certainly helps).  It's because us humans learned to **write better algorithms** that let computers solve more complex problems!\n",
    "\n",
    "\n",
    "**My big goal for you guys in this class:**  To understand the basics of how computation works, what it can do, and what it can't.  "
   ]
  },
  {
   "cell_type": "markdown",
   "metadata": {},
   "source": [
    "\n",
    "\n",
    "\n",
    "\n",
    "\n",
    "\n",
    "\n",
    "\n",
    "\n",
    "\n",
    "\n",
    "\n",
    "\n",
    "\n",
    "\n"
   ]
  },
  {
   "cell_type": "markdown",
   "metadata": {},
   "source": [
    "#### What is Computation?\n",
    "\n",
    "Simply put, \"computation\" means a sequence of simple steps that transform an *input* into some desired *output* (hopefully).\n",
    "\n",
    "Let's think about a simple example from algebra.  "
   ]
  },
  {
   "cell_type": "markdown",
   "metadata": {},
   "source": [
    "Think of the function $y$ given below:"
   ]
  },
  {
   "cell_type": "markdown",
   "metadata": {},
   "source": [
    "$$y=(3x)^2+4$$"
   ]
  },
  {
   "cell_type": "markdown",
   "metadata": {},
   "source": [
    "This is an example of computation.  \n",
    "\n",
    "#### Exercise 1\n",
    "\n",
    "Describe in words, carefully and precisely:\n",
    "\n",
    "1) What is the input to this computation?\n",
    "2) Describe the sequence of steps that are performed on the input?\n",
    "3) What is the output?"
   ]
  },
  {
   "cell_type": "markdown",
   "metadata": {},
   "source": [
    "#### Solution\n",
    "\n",
    "Input:  start with x.\n",
    "\n",
    "Step 1: result = 3*x\n",
    "\n",
    "Step 2: result <- result*result\n",
    "\n",
    "Step 3: result <- result + 4\n",
    "\n",
    "Step 4: return result.\n",
    "\n",
    "\n",
    "\n",
    "\n",
    "\n",
    "\n",
    "\n",
    "\n",
    "\n",
    "\n",
    "\n",
    "\n",
    "\n",
    "\n"
   ]
  },
  {
   "cell_type": "markdown",
   "metadata": {},
   "source": [
    "Even though math examples are the coolest (*cough cough*), this basic structure of computation underlies everything about how we use computers.  Think of these examples:\n",
    "\n",
    "<img src=\"https://millera2.github.io/CS-111/Img/W1-02.png\" width=\"400\">"
   ]
  },
  {
   "cell_type": "markdown",
   "metadata": {},
   "source": [
    "\n",
    "\n",
    "\n",
    "\n",
    "\n",
    "\n",
    "\n",
    "\n",
    "\n",
    "\n",
    "\n",
    "\n",
    "\n"
   ]
  },
  {
   "cell_type": "markdown",
   "metadata": {},
   "source": [
    "### Functional Abstraction"
   ]
  },
  {
   "cell_type": "markdown",
   "metadata": {},
   "source": [
    "Ok, let's mix it up.  How about this example:\n",
    "$$y=\\sqrt{x}$$\n",
    "What if, for example, $x=5$.  What sequence of steps can we use to find the desired output?"
   ]
  },
  {
   "cell_type": "markdown",
   "metadata": {},
   "source": [
    "\n",
    "\n",
    "\n",
    "\n",
    "\n",
    "\n",
    "\n",
    "\n",
    "\n"
   ]
  },
  {
   "cell_type": "markdown",
   "metadata": {},
   "source": [
    "In fact, there's some fancy footwork required to comput this.  **However**, most of you wouldn't think twice about punching it into your calculator to find the result.  In that sense, the $\\sqrt{x}$ function is like a **black box**.  We know what it does, but we don't know how it does it!\n",
    "\n",
    "Suppose I asked you to solve for $x$ in $10=x^2+3$. You could all perform this computation, but you'd all need a black box!  What's $\\sqrt{7}$?"
   ]
  },
  {
   "cell_type": "markdown",
   "metadata": {},
   "source": [
    "\n",
    "\n",
    "\n",
    "\n",
    "\n",
    "\n",
    "\n",
    "\n",
    "\n",
    "\n",
    "\n",
    "\n",
    "\n",
    "\n",
    "\n",
    "\n",
    "\n",
    "\n"
   ]
  },
  {
   "cell_type": "markdown",
   "metadata": {},
   "source": [
    "The process of \"black-boxing\" functions is called **functional abstraction**.\n",
    "\n",
    "\n",
    "Functional abstraction is the key concept behind all modern software.  **Every time you use your computer, you are utilizing layers upon layers upon layers (upon layers!) of abstraction** that all eventually end in long sequences of zeroes and ones.    "
   ]
  },
  {
   "cell_type": "markdown",
   "metadata": {},
   "source": [
    "\n",
    "\n",
    "\n",
    "\n",
    "\n",
    "\n",
    "\n",
    "\n",
    "\n",
    "\n",
    "\n",
    "\n",
    "\n",
    "\n",
    "\n"
   ]
  },
  {
   "cell_type": "markdown",
   "metadata": {},
   "source": [
    "\n",
    "\n",
    "\n",
    "\n",
    "\n",
    "\n",
    "\n",
    "\n",
    "\n",
    "\n",
    "\n",
    "\n",
    "\n",
    "\n",
    "\n",
    "\n",
    "\n"
   ]
  },
  {
   "cell_type": "markdown",
   "metadata": {},
   "source": [
    "### What's an algorithm?\n",
    "\n",
    "We use computers to solve problems (even if that problem is, \"show me a funny meme\" or \"what are my frenemies up to?\").  \n",
    "\n",
    "But, for any problem, there may be many different strategies for finding the solution.  "
   ]
  },
  {
   "cell_type": "markdown",
   "metadata": {},
   "source": [
    "\n",
    "\n",
    "\n",
    "\n",
    "\n",
    "\n",
    "\n",
    "\n",
    "\n",
    "\n",
    "\n"
   ]
  },
  {
   "cell_type": "markdown",
   "metadata": {},
   "source": [
    "\n",
    "\n",
    "#### Example\n",
    "\n",
    "Here's a  math example:  Suppose we're driving on the city streets shown below:\n",
    "\n",
    "<img src=\"https://qph.fs.quoracdn.net/main-qimg-a9bd425a454404f2413e7ef46ffd21e9.webp\" width=\"200\" />\n"
   ]
  },
  {
   "cell_type": "markdown",
   "metadata": {},
   "source": [
    "**The problem**:  We are at the intersection of **2nd and D street**.  We wish to get to the intersection of **5th and B**.  How can we do it?\n"
   ]
  },
  {
   "cell_type": "markdown",
   "metadata": {},
   "source": [
    "Solutions:\n",
    "\n",
    "One way:  go west for 2 blocks, then go north for three blocks.\n",
    "\n",
    "Another way:  go west one block, go north one block, go west one block, go north two blocks.\n",
    "\n",
    "\n",
    "\n",
    "\n",
    "\n",
    "\n",
    "\n",
    "\n",
    "\n",
    "\n",
    "\n"
   ]
  },
  {
   "cell_type": "markdown",
   "metadata": {},
   "source": [
    "**Moral of the story:**  Problems frequently have more than one sequence of computation that solve them!\n",
    "\n",
    "An **algorithm** is a specific sequence of computational steps that transform an input into a desired output.  We might think of algorithms as a meaninful \"unit\" of computation.\n",
    "\n",
    "**Spoiler alert**:  Not every algorithm is equally good!  Sometimes, they can be truly terrible!  An important goal of this class is to be able to design and analyse **good** algorithms that solve our problems correctly and efficiently."
   ]
  },
  {
   "cell_type": "markdown",
   "metadata": {},
   "source": [
    "\n",
    "\n",
    "\n",
    "\n",
    "\n",
    "\n",
    "\n",
    "\n",
    "\n",
    "\n",
    "\n",
    "\n",
    "\n",
    "\n",
    "\n",
    "\n"
   ]
  },
  {
   "cell_type": "markdown",
   "metadata": {},
   "source": [
    "### Programming Languages, Functions, and Programs\n",
    "\n",
    "Before a computer can perform the algorithm we've designed, we need to communicate in a language that the computer can understand.\n",
    "\n",
    "Tragically, computers can **not** speak English or any other human language.  Even when a computer has accurate voice recognition, that doesn't mean it actually **understands** what the speaker is saying!\n",
    "\n",
    "So, we have computer languages.  There are lots!  Here are the results of one 2019 survey of popular languages:\n",
    "\n",
    "![](https://miro.medium.com/max/1400/1*ZalDDEb73J-J6n5e65dHGg.png)"
   ]
  },
  {
   "cell_type": "markdown",
   "metadata": {},
   "source": [
    "\n",
    "\n",
    "\n",
    "\n",
    "\n",
    "\n",
    "\n",
    "\n",
    "\n",
    "\n",
    "\n",
    "\n",
    "\n",
    "\n",
    "\n"
   ]
  },
  {
   "cell_type": "markdown",
   "metadata": {},
   "source": [
    "Here in CS 111, we're using Python.  Even if we could do it all over again, I'd -still- choose Python for CS 111.  You guys are lucky!  A few things about it:\n",
    "\n",
    "1. As you can see above, it's very widely used.  Just like a human language, that's important!  Just like it's very useful to speak English, it's very useful to speak Python!\n",
    "2. Like any programming language, it's **MUCH EASIER** to learn Python than a human language.    \n",
    "3. Python has a simple and easy-to-read syntax.  It's full of powerful black boxes that make coding easier (although, they hide the complexities of computation from the programmer)."
   ]
  },
  {
   "cell_type": "markdown",
   "metadata": {},
   "source": [
    "\n",
    "\n",
    "\n",
    "\n",
    "\n",
    "\n",
    "\n",
    "\n",
    "\n",
    "\n",
    "\n",
    "\n",
    "\n",
    "\n",
    "\n"
   ]
  },
  {
   "cell_type": "markdown",
   "metadata": {},
   "source": [
    "In Python (like most languages), the smallest unit of functional abstraction in computation is a \"function\".  **Understanding functions is absolutely critical to your success in CS 111.**. Beep beep!  Alert!  Important shit follows!"
   ]
  },
  {
   "cell_type": "markdown",
   "metadata": {},
   "source": [
    "\n",
    "\n",
    "\n",
    "\n",
    "\n",
    "\n",
    "\n",
    "\n",
    "\n",
    "\n"
   ]
  },
  {
   "cell_type": "markdown",
   "metadata": {},
   "source": [
    "Let's look at a simple example of a function in Python:  a function to find the area of a circle.  The input:  radius."
   ]
  },
  {
   "cell_type": "code",
   "execution_count": 5,
   "metadata": {},
   "outputs": [],
   "source": [
    "def areaOfCircle(radius):\n",
    "    area = 3.14159*radius*radius\n",
    "    return area\n"
   ]
  },
  {
   "cell_type": "markdown",
   "metadata": {},
   "source": [
    "There are a lot of important conventions here that you'll need to know by heart. \n",
    "\n",
    "1.  The first word, \"def\", is a \"keyword\" or \"reserved word\".  It has a special meaning in Python.  You can see by the color (that's called \"syntax highlighting\") that it's special.  What's the other keyword in the function we wrote?\n",
    "2. After def, the next word is the **name** of the function.  In order to use it, we'll have to give it a name.  Here, we named this function \"areaOfCircle\".\n",
    "3. After that, the **inputs** of the function are shown in parenthases.  This function has exactly one input.  What is it?\n",
    "4. Lastly, the function has an output signified by the keyword \"return\".  It's possible to write functions with no output, but **we'll always want to specify an output** in order to use the function as a layer in functional abstraction."
   ]
  },
  {
   "cell_type": "markdown",
   "metadata": {},
   "source": [
    "\n",
    "\n",
    "\n",
    "\n",
    "\n",
    "\n",
    "\n",
    "\n",
    "\n",
    "\n",
    "\n",
    "\n",
    "\n"
   ]
  },
  {
   "cell_type": "markdown",
   "metadata": {},
   "source": [
    "Ok, so how do we actually use this function?  For example, what's the area of a circle with radius of 2 inches?  Easy:  call the function by its name, and give the input in parentheses.  It looks like the beginning of the function definition:"
   ]
  },
  {
   "cell_type": "code",
   "execution_count": 6,
   "metadata": {},
   "outputs": [
    {
     "data": {
      "text/plain": [
       "12.56636"
      ]
     },
     "execution_count": 6,
     "metadata": {},
     "output_type": "execute_result"
    }
   ],
   "source": [
    "areaOfCircle(2)"
   ]
  },
  {
   "cell_type": "markdown",
   "metadata": {},
   "source": [
    "Woooooah!  Cool!  This is a simple example, but that's how functions work in Python!  \n",
    "\n",
    "As we work in class, we'll you'll pick up more and more of the features of Python's syntax -- kinda like the grammar and vocabulary of a human language.  You don't have to learn it all at once, but **it's critical that you play around and experiment** with the syntax you learn!  Just like you have to practice a human language, you can't learn a computer language unless you play around with it!\n",
    "\n",
    "Have fun!"
   ]
  },
  {
   "cell_type": "markdown",
   "metadata": {},
   "source": [
    "\n",
    "\n",
    "\n",
    "\n",
    "\n",
    "\n",
    "\n",
    "\n",
    "\n",
    "\n",
    "\n",
    "\n",
    "\n"
   ]
  },
  {
   "cell_type": "markdown",
   "metadata": {},
   "source": [
    "## Friday Aug 21"
   ]
  },
  {
   "cell_type": "markdown",
   "metadata": {},
   "source": []
  },
  {
   "cell_type": "markdown",
   "metadata": {},
   "source": [
    "\n",
    "\n",
    "\n",
    "\n",
    "\n"
   ]
  }
 ],
 "metadata": {
  "kernelspec": {
   "display_name": "Python 3",
   "language": "python",
   "name": "python3"
  },
  "language_info": {
   "codemirror_mode": {
    "name": "ipython",
    "version": 3
   },
   "file_extension": ".py",
   "mimetype": "text/x-python",
   "name": "python",
   "nbconvert_exporter": "python",
   "pygments_lexer": "ipython3",
   "version": "3.7.3"
  }
 },
 "nbformat": 4,
 "nbformat_minor": 4
}
