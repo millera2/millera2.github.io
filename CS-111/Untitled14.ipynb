{
 "cells": [
  {
   "cell_type": "markdown",
   "metadata": {},
   "source": [
    "# 5.1.5"
   ]
  },
  {
   "cell_type": "code",
   "execution_count": 79,
   "metadata": {},
   "outputs": [],
   "source": [
    "import random\n",
    "\n",
    "def montyHall(choice, switch):\n",
    "    if choice==2 and switch == True:\n",
    "        return 0\n",
    "    elif choice==2 and switch == False:\n",
    "        return 1\n",
    "    elif choice !=2 and switch == True:\n",
    "        return 1\n",
    "    else:\n",
    "        return 0\n",
    "    \n",
    "def monteMonty(trials):\n",
    "    results = []\n",
    "\n",
    "    for i in range(trials):\n",
    "        choice = random.randint(0,2)\n",
    "        results.append(montyHall(choice, True))\n",
    "        \n",
    "    return sum(results)/trials"
   ]
  },
  {
   "cell_type": "code",
   "execution_count": 81,
   "metadata": {},
   "outputs": [
    {
     "data": {
      "text/plain": [
       "0.666236"
      ]
     },
     "execution_count": 81,
     "metadata": {},
     "output_type": "execute_result"
    }
   ],
   "source": [
    "monteMonty(1000000)"
   ]
  },
  {
   "cell_type": "markdown",
   "metadata": {},
   "source": [
    "# 5.1.6"
   ]
  },
  {
   "cell_type": "code",
   "execution_count": 47,
   "metadata": {},
   "outputs": [],
   "source": [
    "import random\n",
    "\n",
    "def montePi(darts):\n",
    "    results = 0\n",
    "    for i in range(darts):\n",
    "        x = random.random()\n",
    "        y = random.random()\n",
    "        if x*x+y*y<1:\n",
    "            results +=1\n",
    "        \n",
    "    return(results/darts*4)"
   ]
  },
  {
   "cell_type": "code",
   "execution_count": 51,
   "metadata": {},
   "outputs": [
    {
     "data": {
      "text/plain": [
       "3.1414484"
      ]
     },
     "execution_count": 51,
     "metadata": {},
     "output_type": "execute_result"
    }
   ],
   "source": [
    "montePi(10000000)"
   ]
  },
  {
   "cell_type": "code",
   "execution_count": 89,
   "metadata": {},
   "outputs": [
    {
     "data": {
      "text/plain": [
       "3.141592653589793"
      ]
     },
     "execution_count": 89,
     "metadata": {},
     "output_type": "execute_result"
    }
   ],
   "source": [
    "import math; math.pi"
   ]
  },
  {
   "cell_type": "markdown",
   "metadata": {},
   "source": [
    "# 5.1.7"
   ]
  },
  {
   "cell_type": "code",
   "execution_count": 104,
   "metadata": {},
   "outputs": [],
   "source": [
    "import random\n",
    "\n",
    "def goodBadUgly():\n",
    "    \n",
    "    living = [True, True, True]\n",
    "    livingAfter = [True, True, True]\n",
    "    rounds = 0\n",
    "    \n",
    "    while sum(living) > 1:\n",
    "    \n",
    "        hits = [  (living[0] and random.random()<=.8),  \\\n",
    "                  (living[1] and random.random()<=.7),  \\\n",
    "                  (living[2] and random.random()<=.6)  ]\n",
    "    \n",
    "        if hits[0] and living[1]:            #if Good hits and Bad is alive\n",
    "            livingAfter[1]=False\n",
    "        elif hits[0] and living[2]:          #else if Bad is dead and Ugly is alive\n",
    "            livingAfter[2]=False\n",
    "            \n",
    "        if hits[1] and living[0]:            #if Bad hits and Good is alive\n",
    "            livingAfter[0]=False\n",
    "        elif hits[1] and living[2]:          #else if Good is dead and Ugly is alive\n",
    "            livingAfter[2]=False\n",
    "            \n",
    "        if hits[2] and living[1]:            #if Ugly hits and Bad is alive\n",
    "            livingAfter[1]=False\n",
    "        elif hits[2]  and living[0]:         #else if Bad is dead and Good is alive\n",
    "            livingAfter[0] = False\n",
    "            \n",
    "            \n",
    "        living = livingAfter\n",
    "        rounds +=1 \n",
    "            \n",
    "    if living[0]:\n",
    "        return([1, rounds])\n",
    "    elif living[1]:\n",
    "        return([2, rounds])\n",
    "    elif living[2]:\n",
    "        return([3, rounds])\n",
    "    else:\n",
    "        return([0, rounds])\n",
    "            \n",
    "        \n",
    "def monteGBU(trials):\n",
    "    \n",
    "    totals = [0,0,0,0]\n",
    "    rounds = 0\n",
    "    maxRounds = 0\n",
    "    \n",
    "    for i in range(trials):\n",
    "        results = goodBadUgly()\n",
    "        totals[results[0]] += 1\n",
    "        rounds += results[1]\n",
    "        if results[1]>maxRounds:\n",
    "            maxRounds = results[1]\n",
    "        \n",
    "    print(\"All Dead:   \"+str(totals[0]/trials) )\n",
    "    print(\"Good Alive: \"+str(totals[1]/trials) ) \n",
    "    print(\"Bad Alive:  \"+str(totals[2]/trials) )\n",
    "    print(\"Ugly Alive: \"+str(totals[3]/trials) )\n",
    "    print(\"Avg Rounds: \"+str(rounds/trials))\n",
    "    print(\"Max Rounds: \"+str(maxRounds))"
   ]
  },
  {
   "cell_type": "code",
   "execution_count": 105,
   "metadata": {},
   "outputs": [
    {
     "name": "stdout",
     "output_type": "stream",
     "text": [
      "All Dead:   0.172485\n",
      "Good Alive: 0.097671\n",
      "Bad Alive:  0.018324\n",
      "Ugly Alive: 0.71152\n",
      "Avg Rounds: 1.392937\n",
      "Max Rounds: 7\n"
     ]
    }
   ],
   "source": [
    "monteGBU(1000000)"
   ]
  },
  {
   "cell_type": "markdown",
   "metadata": {},
   "source": [
    "# 5.4.14"
   ]
  },
  {
   "cell_type": "code",
   "execution_count": 71,
   "metadata": {},
   "outputs": [],
   "source": [
    "def mystery(a,b):\n",
    "    results = []\n",
    "    results.append(a)\n",
    "    results.append(b)\n",
    "    results.append((a+b)%10)\n",
    "    \n",
    "    while results[-2]!=a or results[-1]!=b:\n",
    "        results.append(( results[-2]+results[-1]  )%10)\n",
    "       \n",
    "    return(len(results))"
   ]
  },
  {
   "cell_type": "code",
   "execution_count": 72,
   "metadata": {},
   "outputs": [
    {
     "data": {
      "text/plain": [
       "62"
      ]
     },
     "execution_count": 72,
     "metadata": {},
     "output_type": "execute_result"
    }
   ],
   "source": [
    "mystery(1,1)"
   ]
  }
 ],
 "metadata": {
  "kernelspec": {
   "display_name": "Python 3",
   "language": "python",
   "name": "python3"
  },
  "language_info": {
   "codemirror_mode": {
    "name": "ipython",
    "version": 3
   },
   "file_extension": ".py",
   "mimetype": "text/x-python",
   "name": "python",
   "nbconvert_exporter": "python",
   "pygments_lexer": "ipython3",
   "version": "3.8.5"
  }
 },
 "nbformat": 4,
 "nbformat_minor": 4
}
