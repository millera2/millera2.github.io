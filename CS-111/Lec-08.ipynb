{
 "cells": [
  {
   "cell_type": "markdown",
   "metadata": {},
   "source": [
    "# Week 8\n",
    "\n",
    "## Monday 10-05\n",
    "\n",
    "*Texbtook Coverage*: Ch 5"
   ]
  },
  {
   "cell_type": "markdown",
   "metadata": {},
   "source": [
    "\"Random Walks\".  We'll us a simpflified model for Brownian Motion:\n",
    "\n",
    "At any time, the particle has 4 options:\n",
    "\n",
    "- go right\n",
    "- go up\n",
    "- go left\n",
    "- go down\n",
    "\n",
    "Suppose each time, it moves a fixed disntance (let's say 10 pixels).\n",
    "\n",
    "(Our particle will be a turtle).\n",
    "\n",
    "Let's use the `random()` function to simulate where our particle (a turle) will go.\n",
    "\n",
    "Recall, random gives real values betwen 0<=x<.9999999999999\n",
    "\n",
    "- If our random number is between 0 and .25, then the turtle goes right.\n",
    "- If random number is between .25 and .5, go up.\n",
    "- If between .5 and .75, go left\n",
    "- If between .75 and 1, go down.\n",
    "\n",
    "What we care about:\n",
    "\n",
    " - ending position of our turtle after a certain number of steps\n",
    " - distance travlled\n",
    " \n",
    " \n",
    "Let's write our function:\n"
   ]
  },
  {
   "cell_type": "code",
   "execution_count": 19,
   "metadata": {},
   "outputs": [],
   "source": [
    "import random\n",
    "import turtle\n",
    "\n",
    "def randomWalk(t, steps):\n",
    "    \"\"\"\n",
    "    input:  t is our turtle object\n",
    "            steps = the number of iterations/steps the turtle takes\n",
    "    \"\"\"\n",
    "    \n",
    "    # need an initial position.  Assume (0,0).\n",
    "    # initialize variables:\n",
    "    \n",
    "    x = 0\n",
    "    y = 0\n",
    "    \n",
    "    \n",
    "    # need the turtle to take `steps` steps:\n",
    "    \n",
    "    for step in range(steps):\n",
    "        # choose a random number.  remember, btween 0 and 1\n",
    "        rand = random.random()\n",
    "        \n",
    "        #decide what to do:\n",
    "        \n",
    "        if rand<.25:\n",
    "            x = x+10\n",
    "        elif rand<.5:\n",
    "            y = y+10\n",
    "        elif rand < .75:\n",
    "            x = x-10\n",
    "        else:\n",
    "            y = y-10\n",
    "        t.goto(x,y)\n",
    "        \n",
    "jeff = turtle.Turtle()        \n",
    "        \n",
    "randomWalk(jeff, 500)        \n",
    "    "
   ]
  },
  {
   "cell_type": "markdown",
   "metadata": {},
   "source": [
    "First question: for a certain number of steps, how -far- does the particle go?\n",
    "\n",
    "\n",
    "Different each time, since random.  But, are there any patterns?\n",
    "\n",
    "Recall from high school math, distance:\n",
    "\n",
    "D = sqrt( (x2-x1)^2 + (y2 - y1)^2 )   (pythag theorem)\n",
    "\n",
    "Easier for us, since starting at (0,0):\n",
    "\n",
    "D = sqrt( x^2 + y^2 )\n",
    "\n",
    "where (x,y) is our final position.\n",
    "\n",
    "Let's adjust our function.  Additional argument:  do we want to draw?\n",
    "\n",
    "Let's give the user an option using a \"boolean\" value, i.e. either true or false.  \n",
    "\n",
    "Let's call this arguemnt `draw`.  If the user chooses `true`, then it'll draw the turle.  Otherwise, just return the distance.\n",
    "\n"
   ]
  },
  {
   "cell_type": "code",
   "execution_count": 3,
   "metadata": {},
   "outputs": [],
   "source": [
    "import random\n",
    "import turtle\n",
    "import math\n",
    "\n",
    "def randomWalk(t, steps, draw):\n",
    "    \"\"\"\n",
    "    input:  t is our turtle object\n",
    "            steps = the number of iterations/steps the turtle takes\n",
    "            draw is a boolean value.  If true, draws turtle\n",
    "    \"\"\"\n",
    "    \n",
    "    # need an initial position.  Assume (0,0).\n",
    "    # initialize variables:\n",
    "    \n",
    "    x = 0\n",
    "    y = 0\n",
    "    \n",
    "    \n",
    "    # need the turtle to take `steps` steps:\n",
    "    \n",
    "    for step in range(steps):\n",
    "        # choose a random number.  remember, btween 0 and 1\n",
    "        rand = random.random()\n",
    "        \n",
    "        #decide what to do:\n",
    "        \n",
    "        if rand<.25:\n",
    "            x = x+10\n",
    "        elif rand<.5:\n",
    "            y = y+10\n",
    "        elif rand < .75:\n",
    "            x = x-10\n",
    "        else:\n",
    "            y = y-10\n",
    "        if draw:     #remember, draw is either true or false\n",
    "            t.goto(x,y)\n",
    "            \n",
    "    # need to return the distance\n",
    "    \n",
    "    return  math.sqrt(x**2+y**2)  \n",
    " \n",
    "    \n"
   ]
  },
  {
   "cell_type": "raw",
   "metadata": {},
   "source": []
  },
  {
   "cell_type": "code",
   "execution_count": 4,
   "metadata": {},
   "outputs": [
    {
     "data": {
      "text/plain": [
       "158.11388300841898"
      ]
     },
     "execution_count": 4,
     "metadata": {},
     "output_type": "execute_result"
    }
   ],
   "source": [
    "randomWalk(None, 1000, False)"
   ]
  },
  {
   "cell_type": "markdown",
   "metadata": {},
   "source": [
    "Question:  in general, how far does the turle go for a cetain number of steps?  Is it predictable?  Are there patterns?\n",
    "\n",
    "Goal:  write a function that repeats the randomWalk a certain number of times (say 1000) and makes a histogram of the results.\n",
    "\n"
   ]
  },
  {
   "cell_type": "code",
   "execution_count": 10,
   "metadata": {},
   "outputs": [
    {
     "data": {
      "image/png": "[encoded data removed]",
      "text/plain": [
       "<Figure size 432x288 with 1 Axes>"
      ]
     },
     "metadata": {
      "needs_background": "light"
     },
     "output_type": "display_data"
    }
   ],
   "source": [
    "import matplotlib.pyplot as pyplot\n",
    "\n",
    "def distances(steps, trials):\n",
    "    \"\"\"\n",
    "    Input:  steps = the number of steps in the brownian motion process\n",
    "            trials = the number of time we wish to repeat the experiment\n",
    "            \n",
    "    \"\"\"  \n",
    "    # accumulator for distances\n",
    "    \n",
    "    dists = []\n",
    "    \n",
    "    for trial in range(trials):\n",
    "        dists.append(randomWalk(None, steps, False))\n",
    "        \n",
    "    pyplot.hist(dists, bins=15)\n",
    "    \n",
    "## make a hist of the distances for 1000 steps, 1000 trials\n",
    "\n",
    "distances(1000,1000)\n",
    "\n",
    "#make a hist of the ditances for 1000 steps, 1000 trials:\n",
    "\n"
   ]
  },
  {
   "cell_type": "code",
   "execution_count": 11,
   "metadata": {},
   "outputs": [
    {
     "data": {
      "image/png": "[encoded data removed]",
      "text/plain": [
       "<Figure size 432x288 with 1 Axes>"
      ]
     },
     "metadata": {
      "needs_background": "light"
     },
     "output_type": "display_data"
    }
   ],
   "source": [
    "#5000 steps, 1000 trials\n",
    "\n",
    "distances(5000, 1000)"
   ]
  },
  {
   "cell_type": "code",
   "execution_count": null,
   "metadata": {},
   "outputs": [],
   "source": []
  },
  {
   "cell_type": "code",
   "execution_count": null,
   "metadata": {},
   "outputs": [],
   "source": []
  },
  {
   "cell_type": "markdown",
   "metadata": {},
   "source": [
    "Next time:  how does the distance travelled increase as the the number of steps increases?"
   ]
  },
  {
   "cell_type": "markdown",
   "metadata": {},
   "source": [
    "## Wednesday 10-07\n",
    "\n",
    "*Textbook: Ch 5*\n",
    "\n",
    "We saw above that, in general, more steps in a random walk leads to a greater distance travelled.\n",
    "\n",
    "What exactly is the relationship between number of steps and average distance?"
   ]
  },
  {
   "cell_type": "markdown",
   "metadata": {},
   "source": [
    "Write two functions:\n",
    "\n",
    "  - avgDist(steps, trials):  return the average distance travelled by our particle after taking `steps` steps over `trials` number of trials\n",
    "  \n",
    "  \n",
    "  - plotAverages(maxSteps, trials):  we'll test for various numbers of steps, what's the average distance travlled and plot the result\n",
    "  \n",
    "  \n",
    "  \n",
    "  "
   ]
  },
  {
   "cell_type": "code",
   "execution_count": 19,
   "metadata": {},
   "outputs": [],
   "source": [
    "import matplotlib.pyplot as pyplot\n",
    "\n",
    "def avgDist(steps, trials):\n",
    "    \"\"\"input:  steps is the number of steps in the walk, trials is the number of repetitions\"\"\"\n",
    "    \n",
    "    # need to keep track of our distances\n",
    "    # use accumulator\n",
    "    \n",
    "    dists = []\n",
    "    \n",
    "    #write a loop to find all the distances\n",
    "    \n",
    "    for i in range(trials):\n",
    "        distance = randomWalk(None, steps, False)\n",
    "        dists.append(distance)\n",
    "        \n",
    "    return sum(dists)/trials\n",
    "    \n",
    "    \n",
    "def plotAverages(maxSteps, trials):\n",
    "    \"\"\" maxSteps is the greatest number of steps.  Let's look at multiples of 100:\n",
    "    \n",
    "    100 steps, 200 steps, 300 steps, 400 steps, ...... maxSteps\n",
    "    \n",
    "    trials:  number of walks that are averaged out\n",
    "    \"\"\"\n",
    "        \n",
    "    # need an accumulator for average distances:\n",
    "    \n",
    "    avgDists = []\n",
    "    \n",
    "    # loop through:\n",
    "    \n",
    "    stepRange = range(100, maxSteps+1, 100)     #start at 100, end at maxSteps+1, increment by 100\n",
    "    \n",
    "    for step in stepRange:\n",
    "        \n",
    "        myAverage = avgDist(step, trials)\n",
    "        avgDists.append(myAverage)\n",
    "    \n",
    "    # plot:  x vals = steps, y vals = distances\n",
    "    \n",
    "    xvals = list(stepRange)\n",
    "    yvals = avgDists\n",
    "    \n",
    "    pyplot.plot(xvals,yvals, label=\"Avg Dist\")\n",
    "    pyplot.xlabel(\"Number of Steps\")\n",
    "    pyplot.ylabel(\"Avg Distance Travelled\")\n",
    "    pyplot.title(\"Relationship Btwn Steps and Distanace\")\n",
    "    pyplot.legend()\n",
    "    "
   ]
  },
  {
   "cell_type": "code",
   "execution_count": 20,
   "metadata": {},
   "outputs": [
    {
     "data": {
      "image/png": "[encoded data removed]",
      "text/plain": [
       "<Figure size 432x288 with 1 Axes>"
      ]
     },
     "metadata": {
      "needs_background": "light"
     },
     "output_type": "display_data"
    }
   ],
   "source": [
    "plotAverages(1000,5000)"
   ]
  },
  {
   "cell_type": "markdown",
   "metadata": {},
   "source": [
    "Cool!  Looks like distance travelled tracks closely to the sqrt(steps)!!  Interesting relationship.\n",
    "\n",
    "\n",
    "\n",
    "## Central Limit Theorem"
   ]
  },
  {
   "cell_type": "markdown",
   "metadata": {},
   "source": [
    "One more cool Monte Carlo application:  we can demonstrate the fundamental result of statistics with random processes.\n",
    "\n",
    "In statistics, the Central Limit Theorem states that, as long as our sample size large, then sample means follow a normal (bell curve) distribution!\n",
    "\n",
    "Super crazy!  Bell curves show up naturally any time we're talking about averages of numbers!!!\n",
    "\n",
    "Let's demonstrate this.\n",
    "\n",
    "Idea:\n",
    "\n",
    "1)  Generate many sets of random numbers.  Ex:  1000 collections 1000 random numbers.\n",
    "2)  plot a histogram of their averages.\n",
    "3)  Say \"ooooooohhh!!\"\n",
    "\n",
    "\n",
    "\n",
    "Let's write some functions:\n"
   ]
  },
  {
   "cell_type": "code",
   "execution_count": 30,
   "metadata": {},
   "outputs": [],
   "source": [
    "import random\n",
    "\n",
    "def randVals(n):\n",
    "    \"\"\"\n",
    "    returns a list of n random values between 0 and 1\n",
    "    \"\"\"\n",
    "    xvals = []     # accumulator for random values\n",
    "    \n",
    "    for i in range(n):\n",
    "        xvals.append(random.random())\n",
    "        \n",
    "    return xvals\n",
    "\n",
    "## make function to plot averages\n",
    "\n",
    "def histAvgs(n, trials):\n",
    "    \"\"\" We'll find `trials` number of sets of `n` random numbers.  THen, plot a hist\n",
    "    of the the mean for each one\n",
    "    \"\"\"\n",
    "    \n",
    "    # make an accumulator to store the means\n",
    "    \n",
    "    means = []\n",
    "    \n",
    "    \n",
    "    for trial in range(trials):\n",
    "        xvals = randVals(n)\n",
    "        mean = sum(xvals)/n\n",
    "        means.append( mean )     #appends the mean of xvals to means\n",
    "        \n",
    "        \n",
    "    pyplot.hist(means, bins=30)\n",
    "    pyplot.title(\"Means for n random numbers btwn 0 and 1\")\n",
    "    pyplot.xlabel(\"mean\")\n",
    "    pyplot.ylabel(\"frequency\")\n",
    "    \n",
    "    \n",
    "    \n",
    "    \n"
   ]
  },
  {
   "cell_type": "code",
   "execution_count": 27,
   "metadata": {},
   "outputs": [
    {
     "data": {
      "image/png": "[encoded data removed]",
      "text/plain": [
       "<Figure size 432x288 with 1 Axes>"
      ]
     },
     "metadata": {
      "needs_background": "light"
     },
     "output_type": "display_data"
    }
   ],
   "source": [
    "histAvgs(5000, 1000)"
   ]
  },
  {
   "cell_type": "markdown",
   "metadata": {},
   "source": [
    "Woah!  We've just observed the central limit theorem!  When analyzing the means of random numbers, we see that those means follow the bell curve/normal dist."
   ]
  },
  {
   "cell_type": "code",
   "execution_count": 35,
   "metadata": {},
   "outputs": [
    {
     "data": {
      "image/png": "[encoded data removed]",
      "text/plain": [
       "<Figure size 432x288 with 1 Axes>"
      ]
     },
     "metadata": {
      "needs_background": "light"
     },
     "output_type": "display_data"
    }
   ],
   "source": [
    "histAvgs(30, 10000)"
   ]
  },
  {
   "cell_type": "markdown",
   "metadata": {},
   "source": [
    "## Booleans"
   ]
  },
  {
   "cell_type": "markdown",
   "metadata": {},
   "source": [
    "\"Booleans\" are data types in computer languages that represent \"true\" or \"false\".  In machine code, that's \"1\" or \"0\".\n",
    "\n",
    "\n",
    "Use them to check for conditions.\n",
    "\n",
    "Ex:  write a simple function to check if x is less than y:\n"
   ]
  },
  {
   "cell_type": "code",
   "execution_count": 36,
   "metadata": {},
   "outputs": [],
   "source": [
    "def compare(x,y):\n",
    "    if x<y:\n",
    "        return True\n",
    "    else:\n",
    "        return False\n",
    "\n"
   ]
  },
  {
   "cell_type": "code",
   "execution_count": 37,
   "metadata": {},
   "outputs": [
    {
     "data": {
      "text/plain": [
       "True"
      ]
     },
     "execution_count": 37,
     "metadata": {},
     "output_type": "execute_result"
    }
   ],
   "source": [
    "compare(4,5)"
   ]
  },
  {
   "cell_type": "markdown",
   "metadata": {},
   "source": [
    "In python, you can directly return a boolean.  Let's re-write the above function"
   ]
  },
  {
   "cell_type": "code",
   "execution_count": 38,
   "metadata": {},
   "outputs": [],
   "source": [
    "def compare(x,y):\n",
    "    return x<y"
   ]
  },
  {
   "cell_type": "code",
   "execution_count": 39,
   "metadata": {},
   "outputs": [
    {
     "data": {
      "text/plain": [
       "True"
      ]
     },
     "execution_count": 39,
     "metadata": {},
     "output_type": "execute_result"
    }
   ],
   "source": [
    "compare(4,5)"
   ]
  },
  {
   "cell_type": "code",
   "execution_count": 40,
   "metadata": {},
   "outputs": [
    {
     "data": {
      "text/plain": [
       "False"
      ]
     },
     "execution_count": 40,
     "metadata": {},
     "output_type": "execute_result"
    }
   ],
   "source": [
    "compare(6, 3)"
   ]
  },
  {
   "cell_type": "code",
   "execution_count": null,
   "metadata": {},
   "outputs": [],
   "source": []
  }
 ],
 "metadata": {
  "kernelspec": {
   "display_name": "Python 3",
   "language": "python",
   "name": "python3"
  },
  "language_info": {
   "codemirror_mode": {
    "name": "ipython",
    "version": 3
   },
   "file_extension": ".py",
   "mimetype": "text/x-python",
   "name": "python",
   "nbconvert_exporter": "python",
   "pygments_lexer": "ipython3",
   "version": "3.8.3"
  }
 },
 "nbformat": 4,
 "nbformat_minor": 4
}
