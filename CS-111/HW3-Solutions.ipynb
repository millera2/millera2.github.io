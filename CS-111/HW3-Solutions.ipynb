{
 "cells": [
  {
   "cell_type": "code",
   "execution_count": null,
   "metadata": {},
   "outputs": [],
   "source": []
  },
  {
   "cell_type": "code",
   "execution_count": null,
   "metadata": {},
   "outputs": [],
   "source": []
  },
  {
   "cell_type": "code",
   "execution_count": 1,
   "metadata": {},
   "outputs": [
    {
     "name": "stdin",
     "output_type": "stream",
     "text": [
      "What shape would you like? triangle\n",
      "How long should the side length be? 100\n",
      "What color would you like? yellow\n",
      "Where would you like to start? Enter x-coord first: 0\n",
      "Now, enter the starting y-coord: 0\n",
      "what special effect would you like?  Choose slide, spread, or zoom. zoom\n"
     ]
    }
   ],
   "source": [
    "import turtle\n",
    "\n",
    "\n",
    "def makeSquare(t, heading, x, y, length, fillColor):\n",
    "    t.penup()\n",
    "    t.goto(x,y)\n",
    "    t.pendown()\n",
    "    t.setheading(heading)\n",
    "    t.fillcolor(fillColor)\n",
    "    t.begin_fill()\n",
    "    for i in range(4):\n",
    "        t.forward(length)\n",
    "        t.left(90)\n",
    "    t.end_fill()\n",
    "    \n",
    "    \n",
    "def makeTriangle(t, heading, x, y, length, fillColor):\n",
    "    t.penup()\n",
    "    t.goto(x,y)\n",
    "    t.pendown()\n",
    "    t.setheading(heading)\n",
    "    t.fillcolor(fillColor)\n",
    "    t.begin_fill()\n",
    "    for i in range(3):\n",
    "        t.forward(length)\n",
    "        t.left(120)\n",
    "    t.end_fill()\n",
    "    \n",
    "    \n",
    "def slide(t, shape, length, color, x,y):\n",
    "    if shape == \"square\":\n",
    "        for i in range(5):\n",
    "            makeSquare(t, 0, x+i*20, y, length, color)\n",
    "    else:\n",
    "        for i in range(5):\n",
    "            makeTriangle(t, 0, x+i*20, y, length, color)          \n",
    "    \n",
    "    \n",
    "def spread(t, shape, length, color, x,y):\n",
    "    if shape == \"square\":\n",
    "        for i in range(5):\n",
    "            makeSquare(t, i*20, x, y, length, color)\n",
    "    else:\n",
    "        for i in range(5):\n",
    "            makeTriangle(t, i*20, x, y, length, color)\n",
    "  \n",
    "\n",
    "def zoom(t, shape, length, color, x,y):\n",
    "    if shape == \"square\":\n",
    "        for i in range(5):\n",
    "            makeSquare(t, 0, x, y, length+20*(5-i), color)\n",
    "    else:\n",
    "        for i in range(5):\n",
    "            makeTriangle(t, 0, x+10*i, y, length+20*(5-i), color) \n",
    "    \n",
    "    \n",
    "def main():\n",
    "    bob = turtle.Turtle()\n",
    "    shape = input(\"What shape would you like?\")\n",
    "    length = input(\"How long should the side length be?\")\n",
    "    color = input(\"What color would you like?\")\n",
    "    x = input(\"Where would you like to start? Enter x-coord first:\")\n",
    "    y = input(\"Now, enter the starting y-coord:\")\n",
    "    effect = input(\"what special effect would you like?  Choose slide, spread, or zoom.\")\n",
    "    \n",
    "    if effect == \"slide\":\n",
    "        slide(bob, shape, int(length), color, int(x), int(y))\n",
    "    elif effect == \"spread\":\n",
    "        spread(bob, shape, int(length), color, int(x), int(y))\n",
    "    else:\n",
    "        zoom(bob, shape, int(length), color, int(x), int(y))\n",
    "    turtle.done()\n",
    "\n",
    "    \n",
    "main()"
   ]
  },
  {
   "cell_type": "code",
   "execution_count": null,
   "metadata": {},
   "outputs": [],
   "source": []
  },
  {
   "cell_type": "code",
   "execution_count": null,
   "metadata": {},
   "outputs": [],
   "source": []
  }
 ],
 "metadata": {
  "kernelspec": {
   "display_name": "Python 3",
   "language": "python",
   "name": "python3"
  },
  "language_info": {
   "codemirror_mode": {
    "name": "ipython",
    "version": 3
   },
   "file_extension": ".py",
   "mimetype": "text/x-python",
   "name": "python",
   "nbconvert_exporter": "python",
   "pygments_lexer": "ipython3",
   "version": "3.8.5"
  }
 },
 "nbformat": 4,
 "nbformat_minor": 4
}
