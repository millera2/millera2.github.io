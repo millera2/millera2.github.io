{
 "cells": [
  {
   "cell_type": "markdown",
   "metadata": {},
   "source": [
    "# Week 4\n",
    "\n",
    "## Monday, Sept 07\n",
    "\n",
    "*Texbook coverage: 3.1-3.2*"
   ]
  },
  {
   "cell_type": "markdown",
   "metadata": {},
   "source": [
    "### Abstract Data Types\n",
    "\n",
    "We've seen lots of ADTs so far (lists, strings, etc etc).  \n",
    "\n",
    "An abstract data type is a \"data structure\", ie, a code object that has two important qualities:\n",
    "\n",
    "1) Attributes.  Data associated with the specific ADT.\n",
    "2) Operations.  Specific functions that the ADT can perform.  \n",
    "\n",
    "In Python, our implementation of ADT is called a \"class\".  Classes in python define both the class variables (data) and methods.\n",
    "\n",
    "Example:  strings are ADTs.  One \"method\" that they can perform is to split.\n"
   ]
  },
  {
   "cell_type": "code",
   "execution_count": 7,
   "metadata": {},
   "outputs": [],
   "source": [
    "myExmapleString = \"This is what I made up for class\"\n"
   ]
  },
  {
   "cell_type": "markdown",
   "metadata": {},
   "source": [
    "Right now, I've created an object, \"myExampleString\".  It's an \"instantiation\" of the \"string\" class. Since it's a string, it can do all the things strings do.  Ex, split:"
   ]
  },
  {
   "cell_type": "code",
   "execution_count": 9,
   "metadata": {},
   "outputs": [
    {
     "data": {
      "text/plain": [
       "['This', 'is', 'what', 'I', 'made', 'up', 'for', 'class']"
      ]
     },
     "execution_count": 9,
     "metadata": {},
     "output_type": "execute_result"
    }
   ],
   "source": [
    "myExmapleString.split()"
   ]
  },
  {
   "cell_type": "markdown",
   "metadata": {},
   "source": [
    "R students:  careful!  the \".\" is special and only for class methods and attributes in Python. \n",
    "\n",
    "A \"method\" is a function specific to a class.\n",
    "\n",
    "**Classes vs Objects**\n",
    "\n",
    "A class is a \"blueprint\", i.e. a specification or explanation for what the object is and what it can do.\n",
    "\n",
    "An object is a specific \"instantiation\" (example, one of) the class.\n",
    "\n",
    "Ex:  The blueprints specify how to make a thing, but that's different from an example object you create.\n",
    "\n",
    "Code example:  \"string\" is a class, \"myExampleString\" was an object of that class.\n",
    "\n",
    "Biology example:  the \"class\" is the info in the DNA, and the object is you!\n",
    "\n",
    "The \"tutle\" class gives immediate, visual feedback about the ojects you create.\n",
    "\n",
    "\n",
    "\n",
    "\n"
   ]
  }
 ],
 "metadata": {
  "kernelspec": {
   "display_name": "Python 3",
   "language": "python",
   "name": "python3"
  },
  "language_info": {
   "codemirror_mode": {
    "name": "ipython",
    "version": 3
   },
   "file_extension": ".py",
   "mimetype": "text/x-python",
   "name": "python",
   "nbconvert_exporter": "python",
   "pygments_lexer": "ipython3",
   "version": "3.8.3"
  }
 },
 "nbformat": 4,
 "nbformat_minor": 4
}
