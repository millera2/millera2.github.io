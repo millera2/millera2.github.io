{
 "cells": [
  {
   "cell_type": "markdown",
   "metadata": {},
   "source": [
    "# Week 6\n",
    "\n",
    "## Monday, Sept 21\n",
    "\n",
    "*Texbook coverage: 4.1-4.2*"
   ]
  },
  {
   "cell_type": "markdown",
   "metadata": {},
   "source": [
    "Recall our fish population model. \n",
    "\n",
    "Inputs:\n",
    "- p = starting population\n",
    "- rate = growth rate (% per year)\n",
    "- totalCatch = max number of fish that can be taken by fishers"
   ]
  },
  {
   "cell_type": "code",
   "execution_count": 13,
   "metadata": {},
   "outputs": [],
   "source": [
    "def fishPop(p, rate, totalCatch): \n",
    "    population = p   #starting population\n",
    "\n",
    "\n",
    "    #Look at population for next 10 years\n",
    "\n",
    "    print(\"Year|Population\")\n",
    "\n",
    "    year = 0\n",
    "    while (population >0 and year < 100):\n",
    "        formatString = \"{0:^4}|{1:^10.2f}\"\n",
    "        print(  formatString.format(year,population)   )\n",
    "        population = population*(1+rate)-totalCatch\n",
    "\n",
    "        year = year+1\n",
    "    \n"
   ]
  },
  {
   "cell_type": "code",
   "execution_count": 14,
   "metadata": {},
   "outputs": [
    {
     "name": "stdout",
     "output_type": "stream",
     "text": [
      "Year|Population\n",
      " 0  | 10000.00 \n",
      " 1  | 10350.00 \n",
      " 2  | 10742.00 \n",
      " 3  | 11181.04 \n",
      " 4  | 11672.76 \n",
      " 5  | 12223.50 \n",
      " 6  | 12840.32 \n",
      " 7  | 13531.15 \n",
      " 8  | 14304.89 \n",
      " 9  | 15171.48 \n",
      " 10 | 16142.06 \n",
      " 11 | 17229.10 \n",
      " 12 | 18446.60 \n",
      " 13 | 19810.19 \n",
      " 14 | 21337.41 \n",
      " 15 | 23047.90 \n",
      " 16 | 24963.65 \n",
      " 17 | 27109.29 \n",
      " 18 | 29512.40 \n",
      " 19 | 32203.89 \n",
      " 20 | 35218.35 \n",
      " 21 | 38594.56 \n",
      " 22 | 42375.90 \n",
      " 23 | 46611.01 \n",
      " 24 | 51354.33 \n",
      " 25 | 56666.85 \n",
      " 26 | 62616.88 \n",
      " 27 | 69280.90 \n",
      " 28 | 76744.61 \n",
      " 29 | 85103.96 \n",
      " 30 | 94466.44 \n",
      " 31 |104952.41 \n",
      " 32 |116696.70 \n",
      " 33 |129850.31 \n",
      " 34 |144582.34 \n",
      " 35 |161082.22 \n",
      " 36 |179562.09 \n",
      " 37 |200259.54 \n",
      " 38 |223440.69 \n",
      " 39 |249403.57 \n",
      " 40 |278482.00 \n",
      " 41 |311049.84 \n",
      " 42 |347525.82 \n",
      " 43 |388378.92 \n",
      " 44 |434134.39 \n",
      " 45 |485380.51 \n",
      " 46 |542776.17 \n",
      " 47 |607059.31 \n",
      " 48 |679056.43 \n",
      " 49 |759693.20 \n",
      " 50 |850006.39 \n",
      " 51 |951157.15 \n",
      " 52 |1064446.01\n",
      " 53 |1191329.53\n",
      " 54 |1333439.08\n",
      " 55 |1492601.77\n",
      " 56 |1670863.98\n",
      " 57 |1870517.66\n",
      " 58 |2094129.77\n",
      " 59 |2344575.35\n",
      " 60 |2625074.39\n",
      " 61 |2939233.32\n",
      " 62 |3291091.31\n",
      " 63 |3685172.27\n",
      " 64 |4126542.94\n",
      " 65 |4620878.10\n",
      " 66 |5174533.47\n",
      " 67 |5794627.49\n",
      " 68 |6489132.78\n",
      " 69 |7266978.72\n",
      " 70 |8138166.16\n",
      " 71 |9113896.10\n",
      " 72 |10206713.64\n",
      " 73 |11430669.27\n",
      " 74 |12801499.59\n",
      " 75 |14336829.54\n",
      " 76 |16056399.08\n",
      " 77 |17982316.97\n",
      " 78 |20139345.01\n",
      " 79 |22555216.41\n",
      " 80 |25260992.38\n",
      " 81 |28291461.46\n",
      " 82 |31685586.84\n",
      " 83 |35487007.26\n",
      " 84 |39744598.13\n",
      " 85 |44513099.90\n",
      " 86 |49853821.89\n",
      " 87 |55835430.52\n",
      " 88 |62534832.18\n",
      " 89 |70038162.04\n",
      " 90 |78441891.48\n",
      " 91 |87854068.46\n",
      " 92 |98395706.68\n",
      " 93 |110202341.48\n",
      " 94 |123425772.46\n",
      " 95 |138236015.15\n",
      " 96 |154823486.97\n",
      " 97 |173401455.41\n",
      " 98 |194208780.06\n",
      " 99 |217512983.66\n"
     ]
    }
   ],
   "source": [
    "fishPop(10000, .12, 850)"
   ]
  },
  {
   "cell_type": "markdown",
   "metadata": {},
   "source": [
    "In python, the most common plotting library is \"matplotlib\".\n",
    "\n",
    "Import the module.\n",
    "\n",
    "Warning:  this is a biiiiig ol' module.  Usually, you'll only import subsets of it.\n",
    "\n",
    "Today:  use the submodule \"pyplot\""
   ]
  },
  {
   "cell_type": "code",
   "execution_count": 17,
   "metadata": {},
   "outputs": [],
   "source": [
    "import matplotlib.pyplot as pyplot"
   ]
  },
  {
   "cell_type": "markdown",
   "metadata": {},
   "source": [
    "Basic example:  line plot (x-y plot). DA kids:  this is a geom_line()\n",
    "\n",
    "Points:\n",
    "\n",
    "(0,3)\n",
    "(1,4)\n",
    "(2,5)\n",
    "\n",
    "Need two vectors:  x = [0,1,2]\n",
    "\n",
    "                   y = [3,4,5]"
   ]
  },
  {
   "cell_type": "code",
   "execution_count": 19,
   "metadata": {},
   "outputs": [
    {
     "data": {
      "text/plain": [
       "[<matplotlib.lines.Line2D at 0x121794d60>]"
      ]
     },
     "execution_count": 19,
     "metadata": {},
     "output_type": "execute_result"
    },
    {
     "data": {
      "image/png": "[encoded data removed]",
      "text/plain": [
       "<Figure size 432x288 with 1 Axes>"
      ]
     },
     "metadata": {
      "needs_background": "light"
     },
     "output_type": "display_data"
    }
   ],
   "source": [
    "pyplot.plot([0,1,2], [3,4,7])"
   ]
  },
  {
   "cell_type": "code",
   "execution_count": 20,
   "metadata": {},
   "outputs": [
    {
     "data": {
      "text/plain": [
       "[<matplotlib.lines.Line2D at 0x1217fd820>]"
      ]
     },
     "execution_count": 20,
     "metadata": {},
     "output_type": "execute_result"
    },
    {
     "data": {
      "image/png": "[encoded data removed]",
      "text/plain": [
       "<Figure size 432x288 with 1 Axes>"
      ]
     },
     "metadata": {
      "needs_background": "light"
     },
     "output_type": "display_data"
    }
   ],
   "source": [
    "x = [0,1,2]\n",
    "y = [3,4,7]\n",
    "\n",
    "pyplot.plot(x,y)"
   ]
  },
  {
   "cell_type": "markdown",
   "metadata": {},
   "source": [
    "Goal: plot the fish populations.\n",
    "\n",
    "x = year\n",
    "y = population\n",
    "\n",
    "Problem:  need to save results as a list!  Right now, all we're doing is printing the current iteration of the loop."
   ]
  },
  {
   "cell_type": "code",
   "execution_count": 31,
   "metadata": {},
   "outputs": [],
   "source": [
    "def fishPop(p, rate, totalCatch): \n",
    "    \n",
    "    population = p   #starting population\n",
    "\n",
    "    years = []                    # <-- this is an \"accumulator\"\n",
    "    populations = []              # <-- so is this\n",
    "    \n",
    "    \n",
    "    #Look at population for next 10 years\n",
    "\n",
    "    print(\"Year|Population\")\n",
    "\n",
    "    year = 0\n",
    "    while (population >0 and year < 100):\n",
    "        years.append(year)\n",
    "        populations.append(population)\n",
    "        formatString = \"{0:^4}|{1:^10.2f}\"\n",
    "        print(  formatString.format(year,population)   )\n",
    "        population = population*(1+rate)-totalCatch\n",
    "        year = year+1\n",
    "        \n",
    "    return [years, populations]    # returning a list of lists: years and populations\n",
    "    \n",
    "    \n",
    "    "
   ]
  },
  {
   "cell_type": "markdown",
   "metadata": {},
   "source": [
    "**Question from class**: what does `append()` do?\n",
    "\n",
    "Example:\n",
    "\n",
    "`x = [1,2,3]`\n",
    "\n",
    "`x.append(4)`\n",
    "\n",
    "result:  `x = [1,2,3,4]`\n",
    "\n",
    "Example list accessor below:"
   ]
  },
  {
   "cell_type": "code",
   "execution_count": 32,
   "metadata": {},
   "outputs": [
    {
     "name": "stdout",
     "output_type": "stream",
     "text": [
      "a\n"
     ]
    }
   ],
   "source": [
    "x = [\"a\", \"b\", \"c\"]\n",
    "print(x[0])"
   ]
  },
  {
   "cell_type": "markdown",
   "metadata": {},
   "source": [
    "Back to fish:  now that our function returns something ( a list of two lists, `years` and `populations`)"
   ]
  },
  {
   "cell_type": "code",
   "execution_count": 33,
   "metadata": {},
   "outputs": [
    {
     "name": "stdout",
     "output_type": "stream",
     "text": [
      "Year|Population\n",
      " 0  | 10000.00 \n",
      " 1  | 9800.00  \n",
      " 2  | 9584.00  \n",
      " 3  | 9350.72  \n",
      " 4  | 9098.78  \n",
      " 5  | 8826.68  \n",
      " 6  | 8532.81  \n",
      " 7  | 8215.44  \n",
      " 8  | 7872.67  \n",
      " 9  | 7502.49  \n",
      " 10 | 7102.69  \n",
      " 11 | 6670.90  \n",
      " 12 | 6204.57  \n",
      " 13 | 5700.94  \n",
      " 14 | 5157.02  \n",
      " 15 | 4569.58  \n",
      " 16 | 3935.14  \n",
      " 17 | 3249.95  \n",
      " 18 | 2509.95  \n",
      " 19 | 1710.75  \n",
      " 20 |  847.61  \n"
     ]
    }
   ],
   "source": [
    "modelResults = fishPop(10000, .08, 1000)"
   ]
  },
  {
   "cell_type": "code",
   "execution_count": 27,
   "metadata": {},
   "outputs": [
    {
     "data": {
      "text/plain": [
       "[0, 1, 2, 3, 4, 5, 6, 7, 8, 9, 10, 11, 12, 13, 14, 15, 16, 17, 18, 19, 20]"
      ]
     },
     "execution_count": 27,
     "metadata": {},
     "output_type": "execute_result"
    }
   ],
   "source": [
    "modelResults[0]"
   ]
  },
  {
   "cell_type": "code",
   "execution_count": 28,
   "metadata": {},
   "outputs": [
    {
     "data": {
      "text/plain": [
       "[10000,\n",
       " 9800.0,\n",
       " 9584.0,\n",
       " 9350.720000000001,\n",
       " 9098.777600000001,\n",
       " 8826.679808000003,\n",
       " 8532.814192640004,\n",
       " 8215.439328051205,\n",
       " 7872.6744742953015,\n",
       " 7502.488432238926,\n",
       " 7102.687506818041,\n",
       " 6670.902507363485,\n",
       " 6204.5747079525645,\n",
       " 5700.94068458877,\n",
       " 5157.0159393558715,\n",
       " 4569.577214504342,\n",
       " 3935.1433916646893,\n",
       " 3249.9548629978644,\n",
       " 2509.951252037694,\n",
       " 1710.7473522007094,\n",
       " 847.6071403767662]"
      ]
     },
     "execution_count": 28,
     "metadata": {},
     "output_type": "execute_result"
    }
   ],
   "source": [
    "modelResults[1]"
   ]
  },
  {
   "cell_type": "markdown",
   "metadata": {},
   "source": [
    "Ok, let's plot it!"
   ]
  },
  {
   "cell_type": "code",
   "execution_count": 29,
   "metadata": {},
   "outputs": [
    {
     "data": {
      "text/plain": [
       "[<matplotlib.lines.Line2D at 0x122111040>]"
      ]
     },
     "execution_count": 29,
     "metadata": {},
     "output_type": "execute_result"
    },
    {
     "data": {
      "image/png": "[encoded data removed]",
      "text/plain": [
       "<Figure size 432x288 with 1 Axes>"
      ]
     },
     "metadata": {
      "needs_background": "light"
     },
     "output_type": "display_data"
    }
   ],
   "source": [
    "pyplot.plot(modelResults[0], modelResults[1])"
   ]
  },
  {
   "cell_type": "markdown",
   "metadata": {},
   "source": [
    "## Wednesday Sept 23\n"
   ]
  },
  {
   "cell_type": "markdown",
   "metadata": {},
   "source": [
    "In the previous model, our function returned a vector.  \n",
    "\n",
    "Let's take a second to make sure we feel good about function returns, and how to use them.\n",
    "\n",
    "Example:  simple mathematical function.\n",
    "\n",
    "f(x) = x^2 - 1"
   ]
  },
  {
   "cell_type": "code",
   "execution_count": 52,
   "metadata": {},
   "outputs": [],
   "source": [
    "def f(x):\n",
    "    return x**2-1"
   ]
  },
  {
   "cell_type": "code",
   "execution_count": 37,
   "metadata": {},
   "outputs": [],
   "source": [
    "y = f(5)"
   ]
  },
  {
   "cell_type": "code",
   "execution_count": 38,
   "metadata": {},
   "outputs": [
    {
     "name": "stdout",
     "output_type": "stream",
     "text": [
      "24\n"
     ]
    }
   ],
   "source": [
    "print(y)"
   ]
  },
  {
   "cell_type": "markdown",
   "metadata": {},
   "source": [
    "Goal:  graph the function f(x)\n",
    "\n",
    "Command:   pyplot.plot( [list of xvals], [list of yvals] )\n",
    "\n",
    "Let's write a function that generates these lists:  x-vals, y-vals.  Input:  allow the user to determine the range of x-values.   "
   ]
  },
  {
   "cell_type": "code",
   "execution_count": 44,
   "metadata": {},
   "outputs": [],
   "source": [
    "def getVals(low, high):\n",
    "    \"\"\" return lists of xvals and yvals for plotting\n",
    "    \n",
    "    input: low = left end of x range, \n",
    "           high = right end of x range\n",
    "           \n",
    "    return:  list of lists:\n",
    "          xvals  (a list of all x-vals to be plotted)\n",
    "          yvals  (a list of all y-vals to be plotted)\n",
    "    \"\"\"\n",
    "    \n",
    "    xvals = []        # accumulator for x values\n",
    "    yvals = []        # accumulator for y values\n",
    "    \n",
    "    for val in range(low,high):\n",
    "        xvals.append(val)           # appending each value to the xvals list\n",
    "        \n",
    "    for xval in xvals:\n",
    "        yvals.append( f(xval) )        #pluggin in all xvals to f(x), appending the results to yvals\n",
    "        \n",
    "    return [xvals, yvals]\n",
    "    "
   ]
  },
  {
   "cell_type": "code",
   "execution_count": 45,
   "metadata": {},
   "outputs": [],
   "source": [
    "myResults = getVals(-10,10)"
   ]
  },
  {
   "cell_type": "code",
   "execution_count": 46,
   "metadata": {},
   "outputs": [
    {
     "data": {
      "text/plain": [
       "list"
      ]
     },
     "execution_count": 46,
     "metadata": {},
     "output_type": "execute_result"
    }
   ],
   "source": [
    "type(myResults)"
   ]
  },
  {
   "cell_type": "markdown",
   "metadata": {},
   "source": [
    "Our results are a list of two things:  xvals, yvals.\n",
    "\n",
    "Let's take a look!"
   ]
  },
  {
   "cell_type": "code",
   "execution_count": 54,
   "metadata": {},
   "outputs": [
    {
     "data": {
      "text/plain": [
       "[-10, -9, -8, -7, -6, -5, -4, -3, -2, -1, 0, 1, 2, 3, 4, 5, 6, 7, 8, 9]"
      ]
     },
     "execution_count": 54,
     "metadata": {},
     "output_type": "execute_result"
    }
   ],
   "source": [
    "xvals = myResults[0]\n",
    "xvals"
   ]
  },
  {
   "cell_type": "code",
   "execution_count": 56,
   "metadata": {},
   "outputs": [
    {
     "data": {
      "text/plain": [
       "[99, 80, 63, 48, 35, 24, 15, 8, 3, 0, -1, 0, 3, 8, 15, 24, 35, 48, 63, 80]"
      ]
     },
     "execution_count": 56,
     "metadata": {},
     "output_type": "execute_result"
    }
   ],
   "source": [
    "yvals = myResults[1]\n",
    "yvals"
   ]
  },
  {
   "cell_type": "code",
   "execution_count": 57,
   "metadata": {},
   "outputs": [
    {
     "data": {
      "text/plain": [
       "[<matplotlib.lines.Line2D at 0x12183b520>]"
      ]
     },
     "execution_count": 57,
     "metadata": {},
     "output_type": "execute_result"
    },
    {
     "data": {
      "image/png": "[encoded data removed]",
      "text/plain": [
       "<Figure size 432x288 with 1 Axes>"
      ]
     },
     "metadata": {
      "needs_background": "light"
     },
     "output_type": "display_data"
    }
   ],
   "source": [
    "import matplotlib.pyplot as pyplot\n",
    "\n",
    "# importing the module\n",
    "# we want to use the `plot()` function\n",
    "\n",
    "pyplot.plot(xvals, yvals)\n"
   ]
  },
  {
   "cell_type": "markdown",
   "metadata": {},
   "source": [
    "Fine and dandy, but, what if we want to plot other functions?\n",
    "\n",
    "Neat python trick:  we can pass functions as ARGUMENTS to other functions.\n",
    "\n",
    "\n",
    "Let's do it for getVals:  we'll add a third argument to specify a function:"
   ]
  },
  {
   "cell_type": "code",
   "execution_count": 73,
   "metadata": {},
   "outputs": [],
   "source": [
    "def getVals(low, high, myFunction):\n",
    "    \"\"\" return lists of xvals and yvals for plotting\n",
    "    \n",
    "    input: low = left end of x range, \n",
    "           high = right end of x range\n",
    "           myFunction = a mathematical function computing y based on x\n",
    "           \n",
    "    return:  list of lists:\n",
    "          xvals  (a list of all x-vals to be plotted)\n",
    "          yvals  (a list of all y-vals to be plotted)\n",
    "    \"\"\"\n",
    "    \n",
    "    xvals = []        # accumulator for x values\n",
    "    yvals = []        # accumulator for y values\n",
    "    \n",
    "    for val in range(low,high):\n",
    "        xvals.append(val)           # appending each value to the xvals list\n",
    "        \n",
    "    for xval in xvals:\n",
    "        yvals.append( myFunction(xval) )        #pluggin in all xvals to f(x), appending the results to yvals\n",
    "        \n",
    "    return [xvals, yvals]\n",
    "    "
   ]
  },
  {
   "cell_type": "code",
   "execution_count": 96,
   "metadata": {},
   "outputs": [],
   "source": [
    "def theNameOfMyFunction(x):\n",
    "    return (x+3)*(x-1)*(x-5)"
   ]
  },
  {
   "cell_type": "code",
   "execution_count": 97,
   "metadata": {},
   "outputs": [],
   "source": [
    "myResults = getVals(-5, 9, theNameOfMyFunction)\n",
    "\n",
    "xvals = myResults[0]\n",
    "yvals = myResults[1]"
   ]
  },
  {
   "cell_type": "code",
   "execution_count": 98,
   "metadata": {},
   "outputs": [
    {
     "data": {
      "text/plain": [
       "[<matplotlib.lines.Line2D at 0x122c56250>]"
      ]
     },
     "execution_count": 98,
     "metadata": {},
     "output_type": "execute_result"
    },
    {
     "data": {
      "image/png": "[encoded data removed]",
      "text/plain": [
       "<Figure size 432x288 with 1 Axes>"
      ]
     },
     "metadata": {
      "needs_background": "light"
     },
     "output_type": "display_data"
    }
   ],
   "source": [
    "pyplot.plot(xvals,yvals)"
   ]
  },
  {
   "cell_type": "markdown",
   "metadata": {},
   "source": [
    "Example:\n",
    "\n",
    "Solve\n",
    "\n",
    "3x^2 - sin(2x+1)/e^(7x+2) = arctan(3pix)^2-2x^3\n",
    "\n",
    "To solve -any- equation, move all terms to one side, solve =0:\n",
    "\n",
    "3x^2 - sin(2x+1)/e^(7x+2) - arctan(3pix)^2-2x^3 = 0\n"
   ]
  },
  {
   "cell_type": "code",
   "execution_count": 99,
   "metadata": {},
   "outputs": [],
   "source": [
    "def getVals(low, high, myFunction):\n",
    "    \"\"\" return lists of xvals and yvals for plotting\n",
    "    \n",
    "    input: low = left end of x range, \n",
    "           high = right end of x range\n",
    "           myFunction = a mathematical function computing y based on x\n",
    "           \n",
    "    return:  list of lists:\n",
    "          xvals  (a list of all x-vals to be plotted)\n",
    "          yvals  (a list of all y-vals to be plotted)\n",
    "    \"\"\"\n",
    "    \n",
    "    xvals = []        # accumulator for x values\n",
    "    yvals = []        # accumulator for y values\n",
    "    \n",
    "    for val in range(low*10,high*10):\n",
    "        xvals.append(val/10)           # appending each value to the xvals list\n",
    "        \n",
    "    for xval in xvals:\n",
    "        yvals.append( myFunction(xval) )        #pluggin in all xvals to f(x), appending the results to yvals\n",
    "        \n",
    "    return [xvals, yvals]"
   ]
  },
  {
   "cell_type": "code",
   "execution_count": 100,
   "metadata": {},
   "outputs": [
    {
     "data": {
      "text/plain": [
       "[<matplotlib.lines.Line2D at 0x122ca55b0>]"
      ]
     },
     "execution_count": 100,
     "metadata": {},
     "output_type": "execute_result"
    },
    {
     "data": {
      "image/png": "[encoded data removed]",
      "text/plain": [
       "<Figure size 432x288 with 1 Axes>"
      ]
     },
     "metadata": {
      "needs_background": "light"
     },
     "output_type": "display_data"
    }
   ],
   "source": [
    "myResults = getVals(-5, 6, theNameOfMyFunction)\n",
    "\n",
    "xvals = myResults[0]\n",
    "yvals = myResults[1]\n",
    "\n",
    "pyplot.plot(xvals,yvals)"
   ]
  },
  {
   "cell_type": "markdown",
   "metadata": {},
   "source": [
    "Newtwon's method.\n",
    "\n",
    "First:  Make a guess.  x0.\n",
    "\n",
    "Then, follow the tangent line to the axis.  That x-value is the next guess.\n",
    "\n",
    "Repeat.\n",
    "\n",
    "Equation of a line:  (point slope form)\n",
    "\n",
    "y - y0 = m(x-x0)\n",
    "\n",
    "Where (x0, y0) is a point on the line.\n",
    "\n",
    "Here, x0 is our first guess.\n",
    "\n",
    "m is slope.  More on that later.\n",
    "\n",
    "We're looking for the x-value where y =0.    This x-val is the next guess.\n",
    "\n",
    "0 - y0 = m(x-x0).     Solve for x.\n",
    "\n",
    "-y0/m = x - x0\n",
    "\n",
    "-y0/m + x0 = x\n",
    "\n",
    "\n",
    "\"next x\" = x0 - y0/m\n",
    "\n",
    "Three parts:\n",
    "\n",
    "- guess x0 (we choose)\n",
    "- m (slope:  change in y / change in x )\n",
    "- y0 (the function value when x=x0)\n",
    "\n",
    "Need two functions:\n",
    "\n",
    "- function for y (find y vals based on x)\n",
    "- function for the slope (find m, slope of the tangent line)\n",
    "\n",
    "Starting example:  y = f(x) = x^2 - 9.\n",
    "\n",
    "Write function:\n",
    "\n",
    "\n"
   ]
  },
  {
   "cell_type": "code",
   "execution_count": 101,
   "metadata": {},
   "outputs": [],
   "source": [
    "def f(x):\n",
    "    return x**2-9\n"
   ]
  },
  {
   "cell_type": "markdown",
   "metadata": {},
   "source": [
    "Need a function for the slope.\n",
    "\n",
    "m = (y2 - y1)/(x2-x1)\n",
    "\n"
   ]
  },
  {
   "cell_type": "code",
   "execution_count": 102,
   "metadata": {},
   "outputs": [],
   "source": [
    "def slope(f, x):\n",
    "    \"\"\" inputs:  function f, x-val x\n",
    "    \n",
    "    return:  the slope of the line on that interval\n",
    "    \"\"\"\n",
    "    \n",
    "    # y2 = f(x+.001)\n",
    "    # y1 = f(x)\n",
    "    # x2 = x+.001\n",
    "    # x1 = x\n",
    "    \n",
    "    return (f(x+.001)-f(x))/((x+.001)-x)"
   ]
  },
  {
   "cell_type": "code",
   "execution_count": 103,
   "metadata": {},
   "outputs": [
    {
     "data": {
      "text/plain": [
       "4.00100000000014"
      ]
     },
     "execution_count": 103,
     "metadata": {},
     "output_type": "execute_result"
    }
   ],
   "source": [
    "slope(f,2)"
   ]
  },
  {
   "cell_type": "markdown",
   "metadata": {},
   "source": [
    "Let's try by hand.  \n",
    "\n",
    "Let's guess x=25.\n",
    "\n",
    "x0 = 25.  Let's find x1:\n",
    "\n",
    "x1 = x0-f(x0)/slope(x0)"
   ]
  },
  {
   "cell_type": "code",
   "execution_count": 105,
   "metadata": {},
   "outputs": [],
   "source": [
    "x0 = 25\n",
    "\n",
    "x1 = x0 - f(x0)/slope(f, x0)"
   ]
  },
  {
   "cell_type": "code",
   "execution_count": 106,
   "metadata": {},
   "outputs": [
    {
     "name": "stdout",
     "output_type": "stream",
     "text": [
      "12.680246395073228\n"
     ]
    }
   ],
   "source": [
    "print(x1)"
   ]
  },
  {
   "cell_type": "code",
   "execution_count": 107,
   "metadata": {},
   "outputs": [],
   "source": [
    "x2 = x1 - f(x1)/slope(f, x1)"
   ]
  },
  {
   "cell_type": "code",
   "execution_count": 108,
   "metadata": {},
   "outputs": [
    {
     "name": "stdout",
     "output_type": "stream",
     "text": [
      "6.695241888604139\n"
     ]
    }
   ],
   "source": [
    "print(x2)"
   ]
  },
  {
   "cell_type": "code",
   "execution_count": 114,
   "metadata": {},
   "outputs": [],
   "source": [
    "x3 = x2 - f(x2)/slope(f, x2)"
   ]
  },
  {
   "cell_type": "code",
   "execution_count": 112,
   "metadata": {},
   "outputs": [
    {
     "name": "stdout",
     "output_type": "stream",
     "text": [
      "4.019939842695299\n"
     ]
    }
   ],
   "source": [
    "print(x3)"
   ]
  },
  {
   "cell_type": "code",
   "execution_count": 115,
   "metadata": {},
   "outputs": [
    {
     "name": "stdout",
     "output_type": "stream",
     "text": [
      "3.129500410813397\n"
     ]
    }
   ],
   "source": [
    "x4 = x3 - f(x3)/slope(f, x3)\n",
    "print(x4)"
   ]
  },
  {
   "cell_type": "code",
   "execution_count": null,
   "metadata": {},
   "outputs": [],
   "source": []
  }
 ],
 "metadata": {
  "kernelspec": {
   "display_name": "Python 3",
   "language": "python",
   "name": "python3"
  },
  "language_info": {
   "codemirror_mode": {
    "name": "ipython",
    "version": 3
   },
   "file_extension": ".py",
   "mimetype": "text/x-python",
   "name": "python",
   "nbconvert_exporter": "python",
   "pygments_lexer": "ipython3",
   "version": "3.8.3"
  }
 },
 "nbformat": 4,
 "nbformat_minor": 4
}
