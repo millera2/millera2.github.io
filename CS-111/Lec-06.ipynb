{
 "cells": [
  {
   "cell_type": "markdown",
   "metadata": {},
   "source": [
    "# Week 6\n",
    "\n",
    "## Monday, Sept 21\n",
    "\n",
    "*Texbook coverage: 4.1-4.2*"
   ]
  },
  {
   "cell_type": "markdown",
   "metadata": {},
   "source": [
    "Recall our fish population model. \n",
    "\n",
    "Inputs:\n",
    "- p = starting population\n",
    "- rate = growth rate (% per year)\n",
    "- totalCatch = max number of fish that can be taken by fishers"
   ]
  },
  {
   "cell_type": "code",
   "execution_count": 13,
   "metadata": {},
   "outputs": [],
   "source": [
    "def fishPop(p, rate, totalCatch): \n",
    "    population = p   #starting population\n",
    "\n",
    "\n",
    "    #Look at population for next 10 years\n",
    "\n",
    "    print(\"Year|Population\")\n",
    "\n",
    "    year = 0\n",
    "    while (population >0 and year < 100):\n",
    "        formatString = \"{0:^4}|{1:^10.2f}\"\n",
    "        print(  formatString.format(year,population)   )\n",
    "        population = population*(1+rate)-totalCatch\n",
    "\n",
    "        year = year+1\n",
    "    \n"
   ]
  },
  {
   "cell_type": "code",
   "execution_count": 14,
   "metadata": {},
   "outputs": [
    {
     "name": "stdout",
     "output_type": "stream",
     "text": [
      "Year|Population\n",
      " 0  | 10000.00 \n",
      " 1  | 10350.00 \n",
      " 2  | 10742.00 \n",
      " 3  | 11181.04 \n",
      " 4  | 11672.76 \n",
      " 5  | 12223.50 \n",
      " 6  | 12840.32 \n",
      " 7  | 13531.15 \n",
      " 8  | 14304.89 \n",
      " 9  | 15171.48 \n",
      " 10 | 16142.06 \n",
      " 11 | 17229.10 \n",
      " 12 | 18446.60 \n",
      " 13 | 19810.19 \n",
      " 14 | 21337.41 \n",
      " 15 | 23047.90 \n",
      " 16 | 24963.65 \n",
      " 17 | 27109.29 \n",
      " 18 | 29512.40 \n",
      " 19 | 32203.89 \n",
      " 20 | 35218.35 \n",
      " 21 | 38594.56 \n",
      " 22 | 42375.90 \n",
      " 23 | 46611.01 \n",
      " 24 | 51354.33 \n",
      " 25 | 56666.85 \n",
      " 26 | 62616.88 \n",
      " 27 | 69280.90 \n",
      " 28 | 76744.61 \n",
      " 29 | 85103.96 \n",
      " 30 | 94466.44 \n",
      " 31 |104952.41 \n",
      " 32 |116696.70 \n",
      " 33 |129850.31 \n",
      " 34 |144582.34 \n",
      " 35 |161082.22 \n",
      " 36 |179562.09 \n",
      " 37 |200259.54 \n",
      " 38 |223440.69 \n",
      " 39 |249403.57 \n",
      " 40 |278482.00 \n",
      " 41 |311049.84 \n",
      " 42 |347525.82 \n",
      " 43 |388378.92 \n",
      " 44 |434134.39 \n",
      " 45 |485380.51 \n",
      " 46 |542776.17 \n",
      " 47 |607059.31 \n",
      " 48 |679056.43 \n",
      " 49 |759693.20 \n",
      " 50 |850006.39 \n",
      " 51 |951157.15 \n",
      " 52 |1064446.01\n",
      " 53 |1191329.53\n",
      " 54 |1333439.08\n",
      " 55 |1492601.77\n",
      " 56 |1670863.98\n",
      " 57 |1870517.66\n",
      " 58 |2094129.77\n",
      " 59 |2344575.35\n",
      " 60 |2625074.39\n",
      " 61 |2939233.32\n",
      " 62 |3291091.31\n",
      " 63 |3685172.27\n",
      " 64 |4126542.94\n",
      " 65 |4620878.10\n",
      " 66 |5174533.47\n",
      " 67 |5794627.49\n",
      " 68 |6489132.78\n",
      " 69 |7266978.72\n",
      " 70 |8138166.16\n",
      " 71 |9113896.10\n",
      " 72 |10206713.64\n",
      " 73 |11430669.27\n",
      " 74 |12801499.59\n",
      " 75 |14336829.54\n",
      " 76 |16056399.08\n",
      " 77 |17982316.97\n",
      " 78 |20139345.01\n",
      " 79 |22555216.41\n",
      " 80 |25260992.38\n",
      " 81 |28291461.46\n",
      " 82 |31685586.84\n",
      " 83 |35487007.26\n",
      " 84 |39744598.13\n",
      " 85 |44513099.90\n",
      " 86 |49853821.89\n",
      " 87 |55835430.52\n",
      " 88 |62534832.18\n",
      " 89 |70038162.04\n",
      " 90 |78441891.48\n",
      " 91 |87854068.46\n",
      " 92 |98395706.68\n",
      " 93 |110202341.48\n",
      " 94 |123425772.46\n",
      " 95 |138236015.15\n",
      " 96 |154823486.97\n",
      " 97 |173401455.41\n",
      " 98 |194208780.06\n",
      " 99 |217512983.66\n"
     ]
    }
   ],
   "source": [
    "fishPop(10000, .12, 850)"
   ]
  },
  {
   "cell_type": "markdown",
   "metadata": {},
   "source": [
    "In python, the most common plotting library is \"matplotlib\".\n",
    "\n",
    "Import the module.\n",
    "\n",
    "Warning:  this is a biiiiig ol' module.  Usually, you'll only import subsets of it.\n",
    "\n",
    "Today:  use the submodule \"pyplot\""
   ]
  },
  {
   "cell_type": "code",
   "execution_count": 17,
   "metadata": {},
   "outputs": [],
   "source": [
    "import matplotlib.pyplot as pyplot"
   ]
  },
  {
   "cell_type": "markdown",
   "metadata": {},
   "source": [
    "Basic example:  line plot (x-y plot). DA kids:  this is a geom_line()\n",
    "\n",
    "Points:\n",
    "\n",
    "(0,3)\n",
    "(1,4)\n",
    "(2,5)\n",
    "\n",
    "Need two vectors:  x = [0,1,2]\n",
    "\n",
    "                   y = [3,4,5]"
   ]
  },
  {
   "cell_type": "code",
   "execution_count": 19,
   "metadata": {},
   "outputs": [
    {
     "data": {
      "text/plain": [
       "[<matplotlib.lines.Line2D at 0x121794d60>]"
      ]
     },
     "execution_count": 19,
     "metadata": {},
     "output_type": "execute_result"
    },
    {
     "data": {
      "image/png": "[encoded data removed]",
      "text/plain": [
       "<Figure size 432x288 with 1 Axes>"
      ]
     },
     "metadata": {
      "needs_background": "light"
     },
     "output_type": "display_data"
    }
   ],
   "source": [
    "pyplot.plot([0,1,2], [3,4,7])"
   ]
  },
  {
   "cell_type": "code",
   "execution_count": 20,
   "metadata": {},
   "outputs": [
    {
     "data": {
      "text/plain": [
       "[<matplotlib.lines.Line2D at 0x1217fd820>]"
      ]
     },
     "execution_count": 20,
     "metadata": {},
     "output_type": "execute_result"
    },
    {
     "data": {
      "image/png": "[encoded data removed]",
      "text/plain": [
       "<Figure size 432x288 with 1 Axes>"
      ]
     },
     "metadata": {
      "needs_background": "light"
     },
     "output_type": "display_data"
    }
   ],
   "source": [
    "x = [0,1,2]\n",
    "y = [3,4,7]\n",
    "\n",
    "pyplot.plot(x,y)"
   ]
  },
  {
   "cell_type": "markdown",
   "metadata": {},
   "source": [
    "Goal: plot the fish populations.\n",
    "\n",
    "x = year\n",
    "y = population\n",
    "\n",
    "Problem:  need to save results as a list!  Right now, all we're doing is printing the current iteration of the loop."
   ]
  },
  {
   "cell_type": "code",
   "execution_count": 25,
   "metadata": {},
   "outputs": [],
   "source": [
    "def fishPop(p, rate, totalCatch): \n",
    "    \n",
    "    population = p   #starting population\n",
    "\n",
    "    years = []\n",
    "    populations = []\n",
    "    \n",
    "    \n",
    "    #Look at population for next 10 years\n",
    "\n",
    "    print(\"Year|Population\")\n",
    "\n",
    "    year = 0\n",
    "    while (population >0 and year < 100):\n",
    "        years.append(year)\n",
    "        populations.append(population)\n",
    "        formatString = \"{0:^4}|{1:^10.2f}\"\n",
    "        print(  formatString.format(year,population)   )\n",
    "        population = population*(1+rate)-totalCatch\n",
    "        year = year+1\n",
    "        \n",
    "    return [years, populations]    # returning a list of lists: years and populations\n",
    "    \n",
    "    \n",
    "    "
   ]
  },
  {
   "cell_type": "markdown",
   "metadata": {},
   "source": [
    "Example:\n",
    "\n",
    "x = [1,2,3]\n",
    "\n",
    "x.append(4)\n",
    "\n",
    "result:  x = [1,2,3,4]"
   ]
  },
  {
   "cell_type": "code",
   "execution_count": 30,
   "metadata": {},
   "outputs": [
    {
     "name": "stdout",
     "output_type": "stream",
     "text": [
      "a\n"
     ]
    }
   ],
   "source": [
    "x = [\"a\", \"b\", \"c\"]\n",
    "print(x[0])"
   ]
  },
  {
   "cell_type": "code",
   "execution_count": 26,
   "metadata": {},
   "outputs": [
    {
     "name": "stdout",
     "output_type": "stream",
     "text": [
      "Year|Population\n",
      " 0  | 10000.00 \n",
      " 1  | 9800.00  \n",
      " 2  | 9584.00  \n",
      " 3  | 9350.72  \n",
      " 4  | 9098.78  \n",
      " 5  | 8826.68  \n",
      " 6  | 8532.81  \n",
      " 7  | 8215.44  \n",
      " 8  | 7872.67  \n",
      " 9  | 7502.49  \n",
      " 10 | 7102.69  \n",
      " 11 | 6670.90  \n",
      " 12 | 6204.57  \n",
      " 13 | 5700.94  \n",
      " 14 | 5157.02  \n",
      " 15 | 4569.58  \n",
      " 16 | 3935.14  \n",
      " 17 | 3249.95  \n",
      " 18 | 2509.95  \n",
      " 19 | 1710.75  \n",
      " 20 |  847.61  \n"
     ]
    }
   ],
   "source": [
    "modelResults = fishPop(10000, .08, 1000)"
   ]
  },
  {
   "cell_type": "code",
   "execution_count": 27,
   "metadata": {},
   "outputs": [
    {
     "data": {
      "text/plain": [
       "[0, 1, 2, 3, 4, 5, 6, 7, 8, 9, 10, 11, 12, 13, 14, 15, 16, 17, 18, 19, 20]"
      ]
     },
     "execution_count": 27,
     "metadata": {},
     "output_type": "execute_result"
    }
   ],
   "source": [
    "modelResults[0]"
   ]
  },
  {
   "cell_type": "code",
   "execution_count": 28,
   "metadata": {},
   "outputs": [
    {
     "data": {
      "text/plain": [
       "[10000,\n",
       " 9800.0,\n",
       " 9584.0,\n",
       " 9350.720000000001,\n",
       " 9098.777600000001,\n",
       " 8826.679808000003,\n",
       " 8532.814192640004,\n",
       " 8215.439328051205,\n",
       " 7872.6744742953015,\n",
       " 7502.488432238926,\n",
       " 7102.687506818041,\n",
       " 6670.902507363485,\n",
       " 6204.5747079525645,\n",
       " 5700.94068458877,\n",
       " 5157.0159393558715,\n",
       " 4569.577214504342,\n",
       " 3935.1433916646893,\n",
       " 3249.9548629978644,\n",
       " 2509.951252037694,\n",
       " 1710.7473522007094,\n",
       " 847.6071403767662]"
      ]
     },
     "execution_count": 28,
     "metadata": {},
     "output_type": "execute_result"
    }
   ],
   "source": [
    "modelResults[1]"
   ]
  },
  {
   "cell_type": "code",
   "execution_count": 29,
   "metadata": {},
   "outputs": [
    {
     "data": {
      "text/plain": [
       "[<matplotlib.lines.Line2D at 0x122111040>]"
      ]
     },
     "execution_count": 29,
     "metadata": {},
     "output_type": "execute_result"
    },
    {
     "data": {
      "image/png": "[encoded data removed]",
      "text/plain": [
       "<Figure size 432x288 with 1 Axes>"
      ]
     },
     "metadata": {
      "needs_background": "light"
     },
     "output_type": "display_data"
    }
   ],
   "source": [
    "pyplot.plot(modelResults[0], modelResults[1])"
   ]
  },
  {
   "cell_type": "code",
   "execution_count": null,
   "metadata": {},
   "outputs": [],
   "source": []
  }
 ],
 "metadata": {
  "kernelspec": {
   "display_name": "Python 3",
   "language": "python",
   "name": "python3"
  },
  "language_info": {
   "codemirror_mode": {
    "name": "ipython",
    "version": 3
   },
   "file_extension": ".py",
   "mimetype": "text/x-python",
   "name": "python",
   "nbconvert_exporter": "python",
   "pygments_lexer": "ipython3",
   "version": "3.8.3"
  }
 },
 "nbformat": 4,
 "nbformat_minor": 4
}
