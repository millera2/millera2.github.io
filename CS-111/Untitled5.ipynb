{
 "cells": [
  {
   "cell_type": "code",
   "execution_count": 1,
   "metadata": {},
   "outputs": [],
   "source": [
    "import turtle\n",
    "\n",
    "george = turtle.Turtle()\n",
    "george.hideturtle()\n",
    "george.speed(6)\n",
    "george.pencolor(\"red\")\n",
    "george.fillcolor(\"yellow\")\n",
    "george.begin_fill()\n",
    "for segment in range(5):\n",
    "    george.forward(200)\n",
    "    george.left(135)\n",
    "george.end_fill()\n",
    "screen = george.getscreen()\n",
    "screen.exitonclick()"
   ]
  },
  {
   "cell_type": "markdown",
   "metadata": {},
   "source": [
    "For loops"
   ]
  },
  {
   "cell_type": "code",
   "execution_count": 1,
   "metadata": {},
   "outputs": [],
   "source": [
    "ourFruits = [\"apples\", \"bananas\", \"cherries\", \"donuts\"]"
   ]
  },
  {
   "cell_type": "code",
   "execution_count": 21,
   "metadata": {},
   "outputs": [
    {
     "name": "stdout",
     "output_type": "stream",
     "text": [
      "i   Hello! I'm an example!\n",
      "i   Hello! I'm an example!\n",
      "i   Hello! I'm an example!\n",
      "i   Hello! I'm an example!\n",
      "i   Hello! I'm an example!\n",
      "i   Hello! I'm an example!\n",
      "i   Hello! I'm an example!\n"
     ]
    }
   ],
   "source": [
    "\n",
    "\n",
    "ourExampleString = \"Hello! I'm an example!\"\n",
    "\n",
    "\n",
    "for i in range(0,7):\n",
    "    print(\"i\", \" \",ourExampleString)\n",
    "    \n",
    "\n"
   ]
  },
  {
   "cell_type": "code",
   "execution_count": 22,
   "metadata": {},
   "outputs": [
    {
     "name": "stdout",
     "output_type": "stream",
     "text": [
      "0  is an even number\n",
      "1  is an odd number\n",
      "2  is an even number\n",
      "3  is an odd number\n",
      "4  is an even number\n",
      "5  is an odd number\n",
      "6  is an even number\n",
      "7  is an odd number\n"
     ]
    }
   ],
   "source": [
    "for index in range(8):\n",
    "    if (index%2==0):\n",
    "        print(index, \" is an even number\")\n",
    "    else:\n",
    "        print(index, \" is an odd number\")"
   ]
  },
  {
   "cell_type": "code",
   "execution_count": 26,
   "metadata": {},
   "outputs": [],
   "source": [
    "def testFun():\n",
    "    low = input(\"Enter a low number\")\n",
    "    high = input(\"Enter a high number\")\n",
    "    for index in range(int(low),int(high)):\n",
    "        print(index)\n",
    "        "
   ]
  },
  {
   "cell_type": "code",
   "execution_count": 27,
   "metadata": {},
   "outputs": [
    {
     "name": "stdin",
     "output_type": "stream",
     "text": [
      "Enter a low number 2\n",
      "Enter a high number 7\n"
     ]
    },
    {
     "name": "stdout",
     "output_type": "stream",
     "text": [
      "2\n",
      "3\n",
      "4\n",
      "5\n",
      "6\n"
     ]
    }
   ],
   "source": [
    "testFun()"
   ]
  },
  {
   "cell_type": "code",
   "execution_count": 30,
   "metadata": {},
   "outputs": [],
   "source": [
    "employees = [\"ali\", \"bob\", \"caleb\", \"deb\", \"evan\", \"fred\", \"gary\", \"harry\", \"ian\", \"jack\"]\n",
    "days = [\"Mon\", \"Tues\", \"Wed\", \"Thurs\", \"Fri\"]"
   ]
  },
  {
   "cell_type": "code",
   "execution_count": 31,
   "metadata": {},
   "outputs": [
    {
     "name": "stdout",
     "output_type": "stream",
     "text": [
      "ali  will work on Mon\n",
      "bob  will work on Tues\n",
      "caleb  will work on Wed\n",
      "deb  will work on Thurs\n",
      "evan  will work on Fri\n",
      "fred  will work on Mon\n",
      "gary  will work on Tues\n",
      "harry  will work on Wed\n",
      "ian  will work on Thurs\n",
      "jack  will work on Fri\n"
     ]
    }
   ],
   "source": [
    "for i in range(0,len(employees)):\n",
    "    dayNumber = i%5\n",
    "    print(employees[i], \" will work on\", days[dayNumber])"
   ]
  },
  {
   "cell_type": "code",
   "execution_count": 33,
   "metadata": {},
   "outputs": [
    {
     "data": {
      "text/plain": [
       "'7'"
      ]
     },
     "execution_count": 33,
     "metadata": {},
     "output_type": "execute_result"
    }
   ],
   "source": [
    "str(7)"
   ]
  },
  {
   "cell_type": "code",
   "execution_count": null,
   "metadata": {},
   "outputs": [],
   "source": []
  }
 ],
 "metadata": {
  "kernelspec": {
   "display_name": "Python 3",
   "language": "python",
   "name": "python3"
  },
  "language_info": {
   "codemirror_mode": {
    "name": "ipython",
    "version": 3
   },
   "file_extension": ".py",
   "mimetype": "text/x-python",
   "name": "python",
   "nbconvert_exporter": "python",
   "pygments_lexer": "ipython3",
   "version": "3.8.3"
  }
 },
 "nbformat": 4,
 "nbformat_minor": 4
}
