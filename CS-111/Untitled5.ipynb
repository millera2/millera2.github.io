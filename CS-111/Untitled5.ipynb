{
 "cells": [
  {
   "cell_type": "code",
   "execution_count": 1,
   "metadata": {},
   "outputs": [],
   "source": [
    "import turtle\n",
    "\n",
    "george = turtle.Turtle()\n",
    "george.hideturtle()\n",
    "george.speed(6)\n",
    "george.pencolor(\"red\")\n",
    "george.fillcolor(\"yellow\")\n",
    "george.begin_fill()\n",
    "for segment in range(5):\n",
    "    george.forward(200)\n",
    "    george.left(135)\n",
    "george.end_fill()\n",
    "screen = george.getscreen()\n",
    "screen.exitonclick()"
   ]
  },
  {
   "cell_type": "markdown",
   "metadata": {},
   "source": [
    "For loops"
   ]
  },
  {
   "cell_type": "code",
   "execution_count": 1,
   "metadata": {},
   "outputs": [],
   "source": [
    "ourFruits = [\"apples\", \"bananas\", \"cherries\", \"donuts\"]"
   ]
  },
  {
   "cell_type": "code",
   "execution_count": 21,
   "metadata": {},
   "outputs": [
    {
     "name": "stdout",
     "output_type": "stream",
     "text": [
      "i   Hello! I'm an example!\n",
      "i   Hello! I'm an example!\n",
      "i   Hello! I'm an example!\n",
      "i   Hello! I'm an example!\n",
      "i   Hello! I'm an example!\n",
      "i   Hello! I'm an example!\n",
      "i   Hello! I'm an example!\n"
     ]
    }
   ],
   "source": [
    "\n",
    "\n",
    "ourExampleString = \"Hello! I'm an example!\"\n",
    "\n",
    "\n",
    "for i in range(0,7):\n",
    "    print(\"i\", \" \",ourExampleString)\n",
    "    \n",
    "\n"
   ]
  },
  {
   "cell_type": "code",
   "execution_count": 22,
   "metadata": {},
   "outputs": [
    {
     "name": "stdout",
     "output_type": "stream",
     "text": [
      "0  is an even number\n",
      "1  is an odd number\n",
      "2  is an even number\n",
      "3  is an odd number\n",
      "4  is an even number\n",
      "5  is an odd number\n",
      "6  is an even number\n",
      "7  is an odd number\n"
     ]
    }
   ],
   "source": [
    "for index in range(8):\n",
    "    if (index%2==0):\n",
    "        print(index, \" is an even number\")\n",
    "    else:\n",
    "        print(index, \" is an odd number\")"
   ]
  },
  {
   "cell_type": "code",
   "execution_count": 26,
   "metadata": {},
   "outputs": [],
   "source": [
    "def testFun():\n",
    "    low = input(\"Enter a low number\")\n",
    "    high = input(\"Enter a high number\")\n",
    "    for index in range(int(low),int(high)):\n",
    "        print(index)\n",
    "        "
   ]
  },
  {
   "cell_type": "code",
   "execution_count": 27,
   "metadata": {},
   "outputs": [
    {
     "name": "stdin",
     "output_type": "stream",
     "text": [
      "Enter a low number 2\n",
      "Enter a high number 7\n"
     ]
    },
    {
     "name": "stdout",
     "output_type": "stream",
     "text": [
      "2\n",
      "3\n",
      "4\n",
      "5\n",
      "6\n"
     ]
    }
   ],
   "source": [
    "testFun()"
   ]
  },
  {
   "cell_type": "code",
   "execution_count": 30,
   "metadata": {},
   "outputs": [],
   "source": [
    "employees = [\"ali\", \"bob\", \"caleb\", \"deb\", \"evan\", \"fred\", \"gary\", \"harry\", \"ian\", \"jack\"]\n",
    "days = [\"Mon\", \"Tues\", \"Wed\", \"Thurs\", \"Fri\"]"
   ]
  },
  {
   "cell_type": "code",
   "execution_count": 31,
   "metadata": {},
   "outputs": [
    {
     "name": "stdout",
     "output_type": "stream",
     "text": [
      "ali  will work on Mon\n",
      "bob  will work on Tues\n",
      "caleb  will work on Wed\n",
      "deb  will work on Thurs\n",
      "evan  will work on Fri\n",
      "fred  will work on Mon\n",
      "gary  will work on Tues\n",
      "harry  will work on Wed\n",
      "ian  will work on Thurs\n",
      "jack  will work on Fri\n"
     ]
    }
   ],
   "source": [
    "for i in range(0,len(employees)):\n",
    "    dayNumber = i%5\n",
    "    print(employees[i], \" will work on\", days[dayNumber])"
   ]
  },
  {
   "cell_type": "code",
   "execution_count": 33,
   "metadata": {},
   "outputs": [
    {
     "data": {
      "text/plain": [
       "'7'"
      ]
     },
     "execution_count": 33,
     "metadata": {},
     "output_type": "execute_result"
    }
   ],
   "source": [
    "str(7)"
   ]
  },
  {
   "cell_type": "code",
   "execution_count": 1,
   "metadata": {},
   "outputs": [],
   "source": [
    "x = \"variable 1\"\n",
    "y = \"variable 2\""
   ]
  },
  {
   "cell_type": "markdown",
   "metadata": {},
   "source": [
    "Goal:  write code that swaps the value of x and y.  Here:  should have x= \"variable 2\" and y = \"variable 1\".\n",
    "\n",
    "\n",
    "2.2.8:  Two things for each:  \n",
    "\n",
    "1) explain order of operations\n",
    "2) explain what operations do (esp for % and //)\n",
    "\n",
    "\n",
    "For program in last problem:\n",
    "\n",
    "use input()\n",
    "\n",
    "\n",
    "1) Ask user for list of names\n",
    "2) Ask user for list of days\n",
    "3) Use those lists to make a schedule (just in class)\n",
    "4) Print, or return list of lists."
   ]
  },
  {
   "cell_type": "code",
   "execution_count": 2,
   "metadata": {},
   "outputs": [
    {
     "name": "stdin",
     "output_type": "stream",
     "text": [
      "Enter your input! asdfadsfadsga\n"
     ]
    }
   ],
   "source": [
    "myExampleInput = input(\"Enter your input!\")"
   ]
  },
  {
   "cell_type": "code",
   "execution_count": 3,
   "metadata": {},
   "outputs": [
    {
     "name": "stdout",
     "output_type": "stream",
     "text": [
      "asdfadsfadsga\n"
     ]
    }
   ],
   "source": [
    "print(myExampleInput)"
   ]
  },
  {
   "cell_type": "code",
   "execution_count": 9,
   "metadata": {},
   "outputs": [],
   "source": [
    "x = 2\n",
    "y = 3.1e-4"
   ]
  },
  {
   "cell_type": "code",
   "execution_count": 10,
   "metadata": {},
   "outputs": [
    {
     "data": {
      "text/plain": [
       "int"
      ]
     },
     "execution_count": 10,
     "metadata": {},
     "output_type": "execute_result"
    }
   ],
   "source": [
    "type(x)"
   ]
  },
  {
   "cell_type": "code",
   "execution_count": 11,
   "metadata": {},
   "outputs": [],
   "source": [
    "z = x*y"
   ]
  },
  {
   "cell_type": "code",
   "execution_count": 12,
   "metadata": {},
   "outputs": [
    {
     "data": {
      "text/plain": [
       "float"
      ]
     },
     "execution_count": 12,
     "metadata": {},
     "output_type": "execute_result"
    }
   ],
   "source": [
    "type(z)"
   ]
  },
  {
   "cell_type": "code",
   "execution_count": 15,
   "metadata": {},
   "outputs": [
    {
     "name": "stdin",
     "output_type": "stream",
     "text": [
      "How Many Employees Are there? 12\n"
     ]
    }
   ],
   "source": [
    "nEmp = input(\"How Many Employees Are there?\")"
   ]
  },
  {
   "cell_type": "code",
   "execution_count": 16,
   "metadata": {},
   "outputs": [
    {
     "name": "stdin",
     "output_type": "stream",
     "text": [
      "Employee0: ali\n",
      "Employee1: bob\n",
      "Employee2: jake\n",
      "Employee3: ashley\n",
      "Employee4: catherine\n",
      "Employee5: yuyu\n",
      "Employee6: julio\n",
      "Employee7: malik\n",
      "Employee8: andre\n",
      "Employee9: precious\n"
     ]
    }
   ],
   "source": [
    "employees = []\n",
    "\n",
    "for i in range(10):\n",
    "    employees.append(input(\"Employee\"+str(i)+\":\"))"
   ]
  },
  {
   "cell_type": "code",
   "execution_count": 17,
   "metadata": {},
   "outputs": [
    {
     "name": "stdout",
     "output_type": "stream",
     "text": [
      "['ali', 'bob', 'jake', 'ashley', 'catherine', 'yuyu', 'julio', 'malik', 'andre', 'precious']\n"
     ]
    }
   ],
   "source": [
    "print(employees)"
   ]
  },
  {
   "cell_type": "code",
   "execution_count": 19,
   "metadata": {},
   "outputs": [
    {
     "name": "stdin",
     "output_type": "stream",
     "text": [
      "More employees to enter? y or n y\n",
      "Enter employee name: asdf\n",
      "More employees to enter? y or n y\n",
      "Enter employee name: asdf\n",
      "More employees to enter? y or n y\n",
      "Enter employee name: sdfh\n",
      "More employees to enter? y or n y\n",
      "Enter employee name: xvb\n",
      "More employees to enter? y or n y\n",
      "Enter employee name: arwt\n",
      "More employees to enter? y or n y\n",
      "Enter employee name: haer\n",
      "More employees to enter? y or n y\n",
      "Enter employee name: aerh\n",
      "More employees to enter? y or n n\n"
     ]
    }
   ],
   "source": [
    "while input(\"More employees to enter? y or n\")==\"y\":\n",
    "    employees.append(input(\"Enter employee name:\"))"
   ]
  },
  {
   "cell_type": "code",
   "execution_count": null,
   "metadata": {},
   "outputs": [],
   "source": []
  }
 ],
 "metadata": {
  "kernelspec": {
   "display_name": "Python 3",
   "language": "python",
   "name": "python3"
  },
  "language_info": {
   "codemirror_mode": {
    "name": "ipython",
    "version": 3
   },
   "file_extension": ".py",
   "mimetype": "text/x-python",
   "name": "python",
   "nbconvert_exporter": "python",
   "pygments_lexer": "ipython3",
   "version": "3.8.3"
  }
 },
 "nbformat": 4,
 "nbformat_minor": 4
}
