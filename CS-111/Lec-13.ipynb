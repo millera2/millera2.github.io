{
 "cells": [
  {
   "cell_type": "markdown",
   "metadata": {},
   "source": [
    "# Monday Oct 9"
   ]
  },
  {
   "cell_type": "markdown",
   "metadata": {},
   "source": [
    "Recursive practice:\n",
    "    - Recursive Sum\n",
    "    - Recursive Min\n",
    "    - Recursive Reverse\n",
    "    - Recursive Linear Search\n",
    "    - Recursive Selection Sort\n",
    "    - Recursive Power\n",
    "    "
   ]
  },
  {
   "cell_type": "markdown",
   "metadata": {},
   "source": [
    "## Example:  Recursive power\n",
    "\n",
    "Compute base^exponent\n",
    "\n",
    "3^6 = 3*3*3*3*3*3\n",
    "\n",
    "3^6 = 3*3^5\n",
    "    = 3*3*3^4\n",
    "\n",
    "In exponentiation, what's the base case?\n",
    "\n",
    "Try this base case:  if exponent = 2, then return base*base\n",
    "\n",
    "\n"
   ]
  },
  {
   "cell_type": "code",
   "execution_count": 5,
   "metadata": {},
   "outputs": [],
   "source": [
    "def power(base, exp):\n",
    "    \"\"\" input:  exp is some integer (>=2), base is another integer\n",
    "    \"\"\"\n",
    "    if exp == 2:\n",
    "        return base*base\n",
    "    else:\n",
    "        return( base*power(base, exp-1 ))\n",
    "        "
   ]
  },
  {
   "cell_type": "code",
   "execution_count": 6,
   "metadata": {},
   "outputs": [
    {
     "data": {
      "text/plain": [
       "81"
      ]
     },
     "execution_count": 6,
     "metadata": {},
     "output_type": "execute_result"
    }
   ],
   "source": [
    "3*3*3*3"
   ]
  },
  {
   "cell_type": "code",
   "execution_count": 7,
   "metadata": {},
   "outputs": [
    {
     "data": {
      "text/plain": [
       "81"
      ]
     },
     "execution_count": 7,
     "metadata": {},
     "output_type": "execute_result"
    }
   ],
   "source": [
    "power(3, 4)"
   ]
  },
  {
   "cell_type": "code",
   "execution_count": 10,
   "metadata": {},
   "outputs": [],
   "source": [
    "def power2(base, exp):\n",
    "    \"\"\" input:  exp is some integer (>=1), base is another integer\n",
    "    \"\"\"\n",
    "    if exp == 1:\n",
    "        return base\n",
    "    else:\n",
    "        return( base*power(base, exp-1 ))"
   ]
  },
  {
   "cell_type": "code",
   "execution_count": 11,
   "metadata": {},
   "outputs": [
    {
     "data": {
      "text/plain": [
       "81"
      ]
     },
     "execution_count": 11,
     "metadata": {},
     "output_type": "execute_result"
    }
   ],
   "source": [
    "power2(3,4)"
   ]
  },
  {
   "cell_type": "code",
   "execution_count": 12,
   "metadata": {},
   "outputs": [],
   "source": [
    "def power3(base, exp):\n",
    "    \"\"\" input:  exp is some integer (>=1), base is another integer\n",
    "    \"\"\"\n",
    "    if exp == 0:\n",
    "        return 1\n",
    "    else:\n",
    "        return( base*power(base, exp-1 ))"
   ]
  },
  {
   "cell_type": "code",
   "execution_count": 13,
   "metadata": {},
   "outputs": [
    {
     "data": {
      "text/plain": [
       "81"
      ]
     },
     "execution_count": 13,
     "metadata": {},
     "output_type": "execute_result"
    }
   ],
   "source": [
    "power3(3,4)"
   ]
  },
  {
   "cell_type": "markdown",
   "metadata": {},
   "source": [
    "## Example: Recursive Reverse\n",
    "\n",
    "Input:  a string  (ex: \"this\")\n",
    "Output: the string in reverse order. (ex: \"siht\")\n",
    "\n",
    "Base case?\n",
    "Recursive step?\n",
    "\n",
    "\n",
    "\n",
    "\n",
    "Greg's Idea:"
   ]
  },
  {
   "cell_type": "code",
   "execution_count": 14,
   "metadata": {},
   "outputs": [],
   "source": [
    "def reverse(phrase):\n",
    "    if len(phrase) == 0:\n",
    "        return \"\"\n",
    "    else:\n",
    "               #last element + reverse others\n",
    "        return phrase[-1] + reverse(phrase[0:-1])"
   ]
  },
  {
   "cell_type": "code",
   "execution_count": 15,
   "metadata": {},
   "outputs": [
    {
     "data": {
      "text/plain": [
       "'tset'"
      ]
     },
     "execution_count": 15,
     "metadata": {},
     "output_type": "execute_result"
    }
   ],
   "source": [
    "reverse(\"test\")"
   ]
  },
  {
   "cell_type": "markdown",
   "metadata": {},
   "source": [
    "## Recursive Min"
   ]
  },
  {
   "cell_type": "markdown",
   "metadata": {},
   "source": [
    "Write a function that finds the minimum element of a list of numbers, WITHOUT using the built-in min function.\n",
    "\n",
    "\n",
    "Input:  list of numbers  (Ex: [3, 2, 5, 8])\n",
    "Output: INDEX of the minimum value (Ex:  return 1)\n",
    "\n",
    "\n",
    "Assume that the input is at least length 2.\n",
    "\n",
    "\n",
    "Base case:  need to compare two numbers.  \n",
    "\n",
    "If there are only two numbers, then the min is the smaller one. \n",
    "  - If a <= b, then a is the minimum\n",
    "  - else, b is the minimum\n",
    "\n",
    "\n"
   ]
  },
  {
   "cell_type": "code",
   "execution_count": null,
   "metadata": {},
   "outputs": [],
   "source": [
    "def minimum(numbers):\n",
    "    if len(numbers==2):\n",
    "        if numbers[0]<=numbers[1]:\n",
    "            return(0)     #first is smaller, return it\n",
    "        else:\n",
    "            return(1)     #second is smaller, return it\n",
    "    \n",
    "    "
   ]
  },
  {
   "cell_type": "code",
   "execution_count": 33,
   "metadata": {},
   "outputs": [],
   "source": [
    "def mimm(numbers):\n",
    "    \n",
    "    if len(numbers==0):\n",
    "        return(0)\n",
    "    \n",
    "    elif len(numbers==1):\n",
    "        return(1)\n",
    "    elif len(numbers==2):\n",
    "        if numbers[0]<=numbers[1]:\n",
    "            return(0)     #first is smaller, return it\n",
    "        else:\n",
    "            return(1)     #second is smaller, return it\n",
    "    else:\n",
    "        return(    mimm( numbers[1:-1] ) + 1   )\n",
    "    "
   ]
  },
  {
   "cell_type": "code",
   "execution_count": 31,
   "metadata": {},
   "outputs": [],
   "source": [
    "myNumbers = [2, 3, 4, 5, 1, 8, 9, 4]"
   ]
  },
  {
   "cell_type": "code",
   "execution_count": 32,
   "metadata": {},
   "outputs": [
    {
     "data": {
      "text/plain": [
       "8"
      ]
     },
     "execution_count": 32,
     "metadata": {},
     "output_type": "execute_result"
    }
   ],
   "source": [
    "len(myNumbers)"
   ]
  },
  {
   "cell_type": "code",
   "execution_count": 34,
   "metadata": {},
   "outputs": [
    {
     "ename": "TypeError",
     "evalue": "object of type 'bool' has no len()",
     "output_type": "error",
     "traceback": [
      "\u001b[0;31m---------------------------------------------------------------------------\u001b[0m",
      "\u001b[0;31mTypeError\u001b[0m                                 Traceback (most recent call last)",
      "\u001b[0;32m<ipython-input-34-db3c0225be1a>\u001b[0m in \u001b[0;36m<module>\u001b[0;34m\u001b[0m\n\u001b[0;32m----> 1\u001b[0;31m \u001b[0mmimm\u001b[0m\u001b[0;34m(\u001b[0m\u001b[0mmyNumbers\u001b[0m\u001b[0;34m)\u001b[0m\u001b[0;34m\u001b[0m\u001b[0;34m\u001b[0m\u001b[0m\n\u001b[0m",
      "\u001b[0;32m<ipython-input-33-b9b225101790>\u001b[0m in \u001b[0;36mmimm\u001b[0;34m(numbers)\u001b[0m\n\u001b[1;32m      1\u001b[0m \u001b[0;32mdef\u001b[0m \u001b[0mmimm\u001b[0m\u001b[0;34m(\u001b[0m\u001b[0mnumbers\u001b[0m\u001b[0;34m)\u001b[0m\u001b[0;34m:\u001b[0m\u001b[0;34m\u001b[0m\u001b[0;34m\u001b[0m\u001b[0m\n\u001b[1;32m      2\u001b[0m \u001b[0;34m\u001b[0m\u001b[0m\n\u001b[0;32m----> 3\u001b[0;31m     \u001b[0;32mif\u001b[0m \u001b[0mlen\u001b[0m\u001b[0;34m(\u001b[0m\u001b[0mnumbers\u001b[0m\u001b[0;34m==\u001b[0m\u001b[0;36m0\u001b[0m\u001b[0;34m)\u001b[0m\u001b[0;34m:\u001b[0m\u001b[0;34m\u001b[0m\u001b[0;34m\u001b[0m\u001b[0m\n\u001b[0m\u001b[1;32m      4\u001b[0m         \u001b[0;32mreturn\u001b[0m\u001b[0;34m(\u001b[0m\u001b[0;36m0\u001b[0m\u001b[0;34m)\u001b[0m\u001b[0;34m\u001b[0m\u001b[0;34m\u001b[0m\u001b[0m\n\u001b[1;32m      5\u001b[0m \u001b[0;34m\u001b[0m\u001b[0m\n",
      "\u001b[0;31mTypeError\u001b[0m: object of type 'bool' has no len()"
     ]
    }
   ],
   "source": [
    "mimm(myNumbers)"
   ]
  },
  {
   "cell_type": "code",
   "execution_count": null,
   "metadata": {},
   "outputs": [],
   "source": []
  }
 ],
 "metadata": {
  "kernelspec": {
   "display_name": "Python 3",
   "language": "python",
   "name": "python3"
  },
  "language_info": {
   "codemirror_mode": {
    "name": "ipython",
    "version": 3
   },
   "file_extension": ".py",
   "mimetype": "text/x-python",
   "name": "python",
   "nbconvert_exporter": "python",
   "pygments_lexer": "ipython3",
   "version": "3.8.5"
  }
 },
 "nbformat": 4,
 "nbformat_minor": 4
}
