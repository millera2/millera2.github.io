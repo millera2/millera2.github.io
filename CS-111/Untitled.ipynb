{
 "cells": [
  {
   "cell_type": "markdown",
   "metadata": {},
   "source": [
    "# Week 8\n",
    "\n",
    "## Monday 10-05\n",
    "\n",
    "*Texbtook Coverage*: Ch 5"
   ]
  },
  {
   "cell_type": "markdown",
   "metadata": {},
   "source": [
    "\"Random Walks\".  We'll us a simpflified model for Brownian Motion:\n",
    "\n",
    "At any time, the particle has 4 options:\n",
    "\n",
    "- go right\n",
    "- go up\n",
    "- go left\n",
    "- go down\n",
    "\n",
    "Suppose each time, it moves a fixed disntance (let's say 10 pixels).\n",
    "\n",
    "(Our particle will be a turtle).\n",
    "\n",
    "Let's use the `random()` function to simulate where our particle (a turle) will go.\n",
    "\n",
    "Recall, random gives real values betwen 0<=x<.9999999999999\n",
    "\n",
    "- If our random number is between 0 and .25, then the turtle goes right.\n",
    "- If random number is between .25 and .5, go up.\n",
    "- If between .5 and .75, go left\n",
    "- If between .75 and 1, go down.\n",
    "\n",
    "What we care about:\n",
    "\n",
    " - ending position of our turtle after a certain number of steps\n",
    " - distance travlled\n",
    " \n",
    " \n",
    "Let's write our function:\n"
   ]
  },
  {
   "cell_type": "code",
   "execution_count": null,
   "metadata": {},
   "outputs": [],
   "source": [
    "import random\n",
    "import turtle\n",
    "\n",
    "def randomWalk(t, steps):\n",
    "    \"\"\"\n",
    "    input:  t is our turtle object\n",
    "            steps = the number of iterations/steps the turtle takes\n",
    "    \"\"\"\n",
    "    \n",
    "    # need an initial position.  Assume (0,0).\n",
    "    # initialize variables:\n",
    "    \n",
    "    x = 0\n",
    "    y = 0\n",
    "    \n",
    "    \n",
    "    # need the turtle to take `steps` steps:\n",
    "    \n",
    "    for step in range(steps):\n",
    "        # choose a random number.  remember, btween 0 and 1\n",
    "        rand = random.random()\n",
    "        \n",
    "        #decide what to do:\n",
    "        \n",
    "        if rand<.25:\n",
    "            x = x+10\n",
    "        elif rand<.5:\n",
    "            y = y+10\n",
    "        elif rand < .75:\n",
    "            x = x=10\n",
    "        else:\n",
    "            y = y-10\n",
    "        t.goto(x,y)\n",
    "        \n",
    "jeff = turtle.Turtle()        \n",
    "        \n",
    "randomWalk(jeff, 500)        \n",
    "    "
   ]
  },
  {
   "cell_type": "markdown",
   "metadata": {},
   "source": [
    "First question: for a certain number of steps, how -far- does the particle go?\n",
    "\n",
    "\n",
    "Different each time, since random.  But, are there any patterns?\n",
    "\n",
    "Recall from high school math, distance:\n",
    "\n",
    "D = sqrt( (x2-x1)^2 + (y2 - y1)^2 )   (pythag theorem)\n",
    "\n",
    "Easier for us, since starting at (0,0):\n",
    "\n",
    "D = sqrt( x^2 + y^2 )\n",
    "\n",
    "where (x,y) is our final position.\n",
    "\n",
    "Let's adjust our function.  Additional argument:  do we want to draw?\n",
    "\n",
    "Let's give the user an option using a \"boolean\" value, i.e. either true or false.  \n",
    "\n",
    "Let's call this arguemnt `draw`.  If the user chooses `true`, then it'll draw the turle.  Otherwise, just return the distance.\n",
    "\n"
   ]
  },
  {
   "cell_type": "code",
   "execution_count": 2,
   "metadata": {},
   "outputs": [],
   "source": [
    "import random\n",
    "import turtle\n",
    "import math\n",
    "\n",
    "def randomWalk(t, steps, draw):\n",
    "    \"\"\"\n",
    "    input:  t is our turtle object\n",
    "            steps = the number of iterations/steps the turtle takes\n",
    "            draw is a boolean value.  If true, draws turtle\n",
    "    \"\"\"\n",
    "    \n",
    "    # need an initial position.  Assume (0,0).\n",
    "    # initialize variables:\n",
    "    \n",
    "    x = 0\n",
    "    y = 0\n",
    "    \n",
    "    \n",
    "    # need the turtle to take `steps` steps:\n",
    "    \n",
    "    for step in range(steps):\n",
    "        # choose a random number.  remember, btween 0 and 1\n",
    "        rand = random.random()\n",
    "        \n",
    "        #decide what to do:\n",
    "        \n",
    "        if rand<.25:\n",
    "            x = x+10\n",
    "        elif rand<.5:\n",
    "            y = y+10\n",
    "        elif rand < .75:\n",
    "            x = x-10\n",
    "        else:\n",
    "            y = y-10\n",
    "        if draw:     #remember, draw is either true or false\n",
    "            t.goto(x,y)\n",
    "            \n",
    "    # need to return the distance\n",
    "    \n",
    "    return  math.sqrt(x**2+y**2)  \n",
    " \n",
    "    \n"
   ]
  },
  {
   "cell_type": "raw",
   "metadata": {},
   "source": []
  },
  {
   "cell_type": "code",
   "execution_count": null,
   "metadata": {},
   "outputs": [],
   "source": [
    "randomWalk(None, 1000, False)"
   ]
  },
  {
   "cell_type": "markdown",
   "metadata": {},
   "source": [
    "Question:  in general, how far does the turle go for a cetain number of steps?  Is it predictable?  Are there patterns?\n",
    "\n",
    "Goal:  write a function that repeats the randomWalk a certain number of times (say 1000) and makes a histogram of the results.\n",
    "\n"
   ]
  },
  {
   "cell_type": "code",
   "execution_count": 3,
   "metadata": {},
   "outputs": [
    {
     "data": {
      "image/png": "[encoded data removed]",
      "text/plain": [
       "<Figure size 432x288 with 1 Axes>"
      ]
     },
     "metadata": {
      "needs_background": "light"
     },
     "output_type": "display_data"
    }
   ],
   "source": [
    "import matplotlib.pyplot as pyplot\n",
    "\n",
    "def distances(steps, trials):\n",
    "    \"\"\"\n",
    "    Input:  steps = the number of steps in the brownian motion process\n",
    "            trials = the number of time we wish to repeat the experiment\n",
    "            \n",
    "    \"\"\"  \n",
    "    # accumulator for distances\n",
    "    \n",
    "    dists = []\n",
    "    \n",
    "    for trial in range(trials):\n",
    "        dists.append(randomWalk(None, steps, False))\n",
    "        \n",
    "    pyplot.hist(dists)\n",
    "    \n",
    "## make a hist of the distances for 1000 steps, 1000 trials\n",
    "\n",
    "distances(1000,1000)\n",
    "\n",
    "#make a hist of the ditances for 1000 steps, 5000 trials:\n",
    "\n"
   ]
  },
  {
   "cell_type": "code",
   "execution_count": 10,
   "metadata": {},
   "outputs": [
    {
     "data": {
      "image/png": "[encoded data removed]",
      "text/plain": [
       "<Figure size 432x288 with 1 Axes>"
      ]
     },
     "metadata": {
      "needs_background": "light"
     },
     "output_type": "display_data"
    }
   ],
   "source": [
    "distances(1000, 5000)"
   ]
  },
  {
   "cell_type": "code",
   "execution_count": 13,
   "metadata": {},
   "outputs": [],
   "source": [
    "x = [2, 5, 6, 24, 5, 2, 1, 4, 3]"
   ]
  },
  {
   "cell_type": "code",
   "execution_count": 14,
   "metadata": {},
   "outputs": [
    {
     "data": {
      "text/plain": [
       "(array([4., 3., 1., 0., 0., 0., 0., 0., 0., 1.]),\n",
       " array([ 1. ,  3.3,  5.6,  7.9, 10.2, 12.5, 14.8, 17.1, 19.4, 21.7, 24. ]),\n",
       " <a list of 10 Patch objects>)"
      ]
     },
     "execution_count": 14,
     "metadata": {},
     "output_type": "execute_result"
    },
    {
     "data": {
      "image/png": "[encoded data removed]",
      "text/plain": [
       "<Figure size 432x288 with 1 Axes>"
      ]
     },
     "metadata": {
      "needs_background": "light"
     },
     "output_type": "display_data"
    }
   ],
   "source": [
    "pyplot.hist(x)"
   ]
  },
  {
   "cell_type": "markdown",
   "metadata": {},
   "source": [
    "Next time:  how does the distance travelled increase as the the number of steps increases?"
   ]
  }
 ],
 "metadata": {
  "kernelspec": {
   "display_name": "Python 3",
   "language": "python",
   "name": "python3"
  },
  "language_info": {
   "codemirror_mode": {
    "name": "ipython",
    "version": 3
   },
   "file_extension": ".py",
   "mimetype": "text/x-python",
   "name": "python",
   "nbconvert_exporter": "python",
   "pygments_lexer": "ipython3",
   "version": "3.8.3"
  }
 },
 "nbformat": 4,
 "nbformat_minor": 4
}
