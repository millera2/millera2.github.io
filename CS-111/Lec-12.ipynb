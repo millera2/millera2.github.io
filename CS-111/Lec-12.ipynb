{
 "cells": [
  {
   "cell_type": "markdown",
   "metadata": {},
   "source": [
    "# Friday Nov 2\n",
    "\n",
    "*Textbook: 8.2, 8.3, 10.1*"
   ]
  },
  {
   "cell_type": "markdown",
   "metadata": {},
   "source": [
    "Last time, we used a dictionary data structure to obtain frequency counts for letters in a string.  See graph above.\n",
    "\n",
    "Q:  Could we sort the contents of the dictionary, to graph the frequencies in alphabetical order?\n",
    "\n",
    "A:  Of course.  Python has a built-in sort function called `sorted([your thing here])`.\n",
    "\n",
    "\n",
    "Note, this is \"built-in\" or \"generic\" function, a reserved keyword in python.  It's not dependent on any particular data type, not a class function.  "
   ]
  },
  {
   "cell_type": "code",
   "execution_count": 10,
   "metadata": {},
   "outputs": [],
   "source": [
    "aString = \"example string\""
   ]
  },
  {
   "cell_type": "code",
   "execution_count": 11,
   "metadata": {},
   "outputs": [
    {
     "data": {
      "text/plain": [
       "'xampl string'"
      ]
     },
     "execution_count": 11,
     "metadata": {},
     "output_type": "execute_result"
    }
   ],
   "source": [
    "aString.replace(\"e\", \"\")"
   ]
  },
  {
   "cell_type": "markdown",
   "metadata": {},
   "source": [
    "In constrast, `sorted()` works on any collection/data structure in python (if possible).  \n",
    "\n",
    "For example:  the keys of our dictionary:\n",
    "\n"
   ]
  },
  {
   "cell_type": "code",
   "execution_count": 12,
   "metadata": {},
   "outputs": [
    {
     "data": {
      "text/plain": [
       "[' ',\n",
       " \"'\",\n",
       " 'I',\n",
       " 'a',\n",
       " 'c',\n",
       " 'd',\n",
       " 'e',\n",
       " 'f',\n",
       " 'g',\n",
       " 'h',\n",
       " 'i',\n",
       " 'l',\n",
       " 'm',\n",
       " 'n',\n",
       " 'o',\n",
       " 'p',\n",
       " 'q',\n",
       " 'r',\n",
       " 's',\n",
       " 't',\n",
       " 'u',\n",
       " 'x',\n",
       " 'y']"
      ]
     },
     "execution_count": 12,
     "metadata": {},
     "output_type": "execute_result"
    }
   ],
   "source": [
    "sorted(dict.keys())"
   ]
  },
  {
   "cell_type": "code",
   "execution_count": 13,
   "metadata": {},
   "outputs": [
    {
     "data": {
      "text/plain": [
       "65"
      ]
     },
     "execution_count": 13,
     "metadata": {},
     "output_type": "execute_result"
    }
   ],
   "source": [
    "ord(\"A\")"
   ]
  },
  {
   "cell_type": "markdown",
   "metadata": {},
   "source": [
    "Q:  How to sort the frequencies?"
   ]
  },
  {
   "cell_type": "code",
   "execution_count": 21,
   "metadata": {},
   "outputs": [
    {
     "data": {
      "text/plain": [
       "<BarContainer object of 23 artists>"
      ]
     },
     "execution_count": 21,
     "metadata": {},
     "output_type": "execute_result"
    },
    {
     "data": {
      "image/png": "[encoded data removed]",
      "text/plain": [
       "<Figure size 432x288 with 1 Axes>"
      ]
     },
     "metadata": {
      "needs_background": "light"
     },
     "output_type": "display_data"
    }
   ],
   "source": [
    "import matplotlib.pyplot as pyplot\n",
    "\n",
    "pyplot.bar( sorted(dict.keys()), sorted(dict.values())    )    #first enter x vals (categories), then enter yvals (frequencies)\n"
   ]
  },
  {
   "cell_type": "markdown",
   "metadata": {},
   "source": [
    "We see that sorting indpendently doesn't work.  Gives the wrong picture!\n",
    "\n",
    "Lets use a list comprehension to fix it.\n",
    "\n",
    "x vals:  sorted keys\n",
    "y vals:  values that MATCH those keys"
   ]
  },
  {
   "cell_type": "code",
   "execution_count": 23,
   "metadata": {},
   "outputs": [
    {
     "data": {
      "text/plain": [
       "<BarContainer object of 23 artists>"
      ]
     },
     "execution_count": 23,
     "metadata": {},
     "output_type": "execute_result"
    },
    {
     "data": {
      "image/png": "[encoded data removed]",
      "text/plain": [
       "<Figure size 432x288 with 1 Axes>"
      ]
     },
     "metadata": {
      "needs_background": "light"
     },
     "output_type": "display_data"
    }
   ],
   "source": [
    "pyplot.bar(   sorted(dict.keys()),  [ dict[key]  for key in sorted(dict.keys())   ]   )"
   ]
  },
  {
   "cell_type": "markdown",
   "metadata": {},
   "source": [
    "Question: what's the output of the `sorted()` function.\n",
    "\n",
    "A: output is a list.\n",
    "\n",
    "Look:"
   ]
  },
  {
   "cell_type": "code",
   "execution_count": 26,
   "metadata": {},
   "outputs": [
    {
     "data": {
      "text/plain": [
       "list"
      ]
     },
     "execution_count": 26,
     "metadata": {},
     "output_type": "execute_result"
    }
   ],
   "source": [
    "type(sorted(dict.keys()))"
   ]
  },
  {
   "cell_type": "markdown",
   "metadata": {},
   "source": [
    "# Monday Nov 2"
   ]
  },
  {
   "cell_type": "markdown",
   "metadata": {},
   "source": [
    "# Ch 10:  Self-Similarity and Recursion"
   ]
  },
  {
   "cell_type": "markdown",
   "metadata": {},
   "source": [
    "Frequenly, problems can be divided in to smaller sub-problems.  Solving small problems is easier than solving big ones.  We call this \"divide-and-conquer\". \n",
    "\n",
    "\n",
    "Problems like this exhibit a property called \"self-similarity\":  the big problem is just a repetition of little problem, called the \"base case\".\n",
    "\n",
    "\n",
    "In CS, the coding technique we use to solve these problems is called \"recursion\", they always involve a function calling **itself**.\n"
   ]
  },
  {
   "cell_type": "markdown",
   "metadata": {},
   "source": [
    "Recall from from math, the \"factorial\" is the produt of all integers <= to a given number.\n",
    "\n",
    "\n",
    "\n",
    "Ex:   7! = 7*6*5*4*3*2*1\n",
    "\n",
    "Factorials exhibit \"self-similarity\":\n",
    "\n",
    "7! = 7*6!\n",
    "\n",
    "   = 7*6*5!\n",
    "   \n",
    "   = ....\n",
    "   \n",
    "Keep doing the same thing till we get to \"1\", then we're done.\n",
    "\n",
    "That's the \"base case\":  once we get to 1, it's over.\n",
    "\n",
    "\n",
    "Let's write a recursive function to compute a factorial.\n",
    "\n"
   ]
  },
  {
   "cell_type": "code",
   "execution_count": 27,
   "metadata": {},
   "outputs": [],
   "source": [
    "def factorial(n):\n",
    "    \"\"\" input: n is a positive integer\n",
    "    \"\"\"\n",
    "    if n == 1:       #base case!!!\n",
    "        return 1\n",
    "    else:            # if n is an whole number large than 1:\n",
    "        return( n*factorial(n-1)  )\n"
   ]
  },
  {
   "cell_type": "markdown",
   "metadata": {},
   "source": [
    "By hand:"
   ]
  },
  {
   "cell_type": "code",
   "execution_count": 28,
   "metadata": {},
   "outputs": [
    {
     "data": {
      "text/plain": [
       "5040"
      ]
     },
     "execution_count": 28,
     "metadata": {},
     "output_type": "execute_result"
    }
   ],
   "source": [
    "7*6*5*4*3*2*1"
   ]
  },
  {
   "cell_type": "code",
   "execution_count": 29,
   "metadata": {},
   "outputs": [
    {
     "data": {
      "text/plain": [
       "5040"
      ]
     },
     "execution_count": 29,
     "metadata": {},
     "output_type": "execute_result"
    }
   ],
   "source": [
    "factorial(7)"
   ]
  },
  {
   "cell_type": "markdown",
   "metadata": {},
   "source": [
    "# Friday Nov 06\n",
    "*Text coverage: Ch 10.1 10.2*"
   ]
  },
  {
   "cell_type": "markdown",
   "metadata": {},
   "source": [
    "Let's begin with another simple recursion examlpe.  \n",
    "\n",
    "The problem:  given a string, determine (true/false) if it's *palindrome*.\n",
    "\n",
    "A palindrome is a word that's the same even if you reverse it.\n",
    "\n",
    "ABBA\n",
    "\n",
    "is a palindrome.\n",
    "\n",
    "ABTYGYTBA\n",
    "\n",
    "is a palnidrome.\n",
    "\n",
    "But,\n",
    "\n",
    "AABBAAA\n",
    "\n",
    "NOT a palindrome. \n",
    "\n",
    "What's the base case?\n",
    "\n",
    "If the string only has one character, then it's automatically a palindrome.\n",
    "\n",
    "\n",
    "Also, if the string is empty (length zero), it's also automatically a palindrome.\n",
    "\n",
    "\n"
   ]
  },
  {
   "cell_type": "code",
   "execution_count": 9,
   "metadata": {},
   "outputs": [],
   "source": [
    "def palindrome(text):\n",
    "    \"\"\"\n",
    "    input: a string\n",
    "    output:  if palindrome, return true.  else, return false.\n",
    "    \"\"\"\n",
    "    # base cases\n",
    "    \n",
    "\n",
    "    if len(text) == 0:\n",
    "        return True\n",
    "    \n",
    "    else:\n",
    "        return( text[0]==text[-1] and palindrome( text[1:-1] )     )\n",
    "    \n",
    "    \n",
    "    \n",
    "    \n",
    "    "
   ]
  },
  {
   "cell_type": "code",
   "execution_count": 11,
   "metadata": {},
   "outputs": [
    {
     "data": {
      "text/plain": [
       "True"
      ]
     },
     "execution_count": 11,
     "metadata": {},
     "output_type": "execute_result"
    }
   ],
   "source": [
    "palindrome(\"abcdefghijkjihgfedcba\")"
   ]
  },
  {
   "cell_type": "code",
   "execution_count": 3,
   "metadata": {},
   "outputs": [
    {
     "data": {
      "text/plain": [
       "True"
      ]
     },
     "execution_count": 3,
     "metadata": {},
     "output_type": "execute_result"
    }
   ],
   "source": [
    "palindrome(\"abcdefgfedcba\")"
   ]
  },
  {
   "cell_type": "code",
   "execution_count": 5,
   "metadata": {},
   "outputs": [],
   "source": [
    "myString = \"abcdef\""
   ]
  },
  {
   "cell_type": "code",
   "execution_count": 6,
   "metadata": {},
   "outputs": [
    {
     "data": {
      "text/plain": [
       "'bcde'"
      ]
     },
     "execution_count": 6,
     "metadata": {},
     "output_type": "execute_result"
    }
   ],
   "source": [
    "myString[1:-1]"
   ]
  },
  {
   "cell_type": "code",
   "execution_count": 8,
   "metadata": {},
   "outputs": [
    {
     "data": {
      "text/plain": [
       "[0, 1, 2, 3, 4, 5, 6, 7, 8, 9]"
      ]
     },
     "execution_count": 8,
     "metadata": {},
     "output_type": "execute_result"
    }
   ],
   "source": [
    "list(range(0,10))"
   ]
  },
  {
   "cell_type": "markdown",
   "metadata": {},
   "source": [
    "**Example**:  recursive sum\n",
    "\n",
    "Write a recursive algorithm that computes the sum of a list of numbers\n",
    "\n",
    "First, iterative (non-recursive):"
   ]
  },
  {
   "cell_type": "code",
   "execution_count": 14,
   "metadata": {},
   "outputs": [],
   "source": [
    "def sumNumbers(numbers):\n",
    "    total = 0\n",
    "    for number in numbers:\n",
    "        total += number\n",
    "    return total\n",
    "        \n",
    "        "
   ]
  },
  {
   "cell_type": "code",
   "execution_count": 15,
   "metadata": {},
   "outputs": [
    {
     "data": {
      "text/plain": [
       "10"
      ]
     },
     "execution_count": 15,
     "metadata": {},
     "output_type": "execute_result"
    }
   ],
   "source": [
    "sumNumbers([1,2,3,4])"
   ]
  },
  {
   "cell_type": "markdown",
   "metadata": {},
   "source": [
    "Now, let's write a recursive function:\n",
    "\n",
    "\n"
   ]
  },
  {
   "cell_type": "markdown",
   "metadata": {},
   "source": [
    "What's the base case?  If there's only one number, then that's the sum!!!\n",
    "\n",
    "\n",
    "OTHERWISE, add the number to the sum of all the others!"
   ]
  },
  {
   "cell_type": "markdown",
   "metadata": {},
   "source": [
    "1+2+3+4 = 1+ (2+3+4)"
   ]
  },
  {
   "cell_type": "code",
   "execution_count": 16,
   "metadata": {},
   "outputs": [],
   "source": [
    "def sumNumbersRec(numbers):\n",
    "    if len(numbers)==1:\n",
    "        return(numbers[0])\n",
    "    else:\n",
    "        return( numbers[0] + sumNumbersRec(numbers[1:]  ))"
   ]
  },
  {
   "cell_type": "code",
   "execution_count": 17,
   "metadata": {},
   "outputs": [
    {
     "data": {
      "text/plain": [
       "10"
      ]
     },
     "execution_count": 17,
     "metadata": {},
     "output_type": "execute_result"
    }
   ],
   "source": [
    "sumNumbersRec([1,2,3,4])"
   ]
  },
  {
   "cell_type": "markdown",
   "metadata": {},
   "source": [
    "## Snowflake Fractal\n",
    "\n",
    "Idea:  \n",
    "\n",
    "- For the base case, just make a staight line (to right) by whatever length (l)\n",
    "- Otherwise\n",
    "  - go forward by l/3\n",
    "  - turn left by 60 degrees\n",
    "  - forward by l/3\n",
    "  - turn right by 120 degrees\n",
    "  - go foward by l/3\n",
    "  - turn left by 60 degrees\n",
    "  - go forward by l/3\n",
    "\n",
    "\n",
    "\n",
    "Let's write the function:"
   ]
  },
  {
   "cell_type": "code",
   "execution_count": 4,
   "metadata": {},
   "outputs": [],
   "source": [
    "import turtle\n",
    "\n",
    "bob = turtle.Turtle()\n",
    "bob.speed(0)\n",
    "\n",
    "def snowflake(d, l):\n",
    "    \"\"\" d = the number of recursions\n",
    "        l = the length of each segment\n",
    "    \"\"\"\n",
    "\n",
    "        \n",
    "    if d>0:\n",
    "        snowflake(d-1, l/3)\n",
    "        bob.left(60)\n",
    "        snowflake(d-1, l/3)\n",
    "        bob.right(120)\n",
    "        snowflake(d-1, l/3)\n",
    "        bob.left(60)\n",
    "        snowflake(d-1, l/3)\n",
    "    else:\n",
    "        bob.forward(l)\n",
    "        \n",
    "for i in range(3):\n",
    "    snowflake(3, 300)\n",
    "    bob.right(120)\n",
    "        "
   ]
  },
  {
   "cell_type": "code",
   "execution_count": 3,
   "metadata": {},
   "outputs": [],
   "source": []
  },
  {
   "cell_type": "code",
   "execution_count": null,
   "metadata": {},
   "outputs": [],
   "source": []
  }
 ],
 "metadata": {
  "kernelspec": {
   "display_name": "Python 3",
   "language": "python",
   "name": "python3"
  },
  "language_info": {
   "codemirror_mode": {
    "name": "ipython",
    "version": 3
   },
   "file_extension": ".py",
   "mimetype": "text/x-python",
   "name": "python",
   "nbconvert_exporter": "python",
   "pygments_lexer": "ipython3",
   "version": "3.8.5"
  }
 },
 "nbformat": 4,
 "nbformat_minor": 4
}
